{
 "cells": [
  {
   "cell_type": "markdown",
   "metadata": {},
   "source": [
    "### Evaluate SKlearn Model"
   ]
  },
  {
   "cell_type": "code",
   "execution_count": 38,
   "metadata": {},
   "outputs": [],
   "source": [
    "import os\n",
    "import joblib\n",
    "import pandas as pd\n",
    "import numpy as np\n",
    "from sklearn.metrics import (\n",
    "    accuracy_score,\n",
    "    precision_score,\n",
    "    recall_score,\n",
    "    f1_score,\n",
    "    roc_auc_score,\n",
    "    mean_squared_error,\n",
    "    mean_absolute_error,\n",
    "    r2_score,\n",
    ")\n",
    "from sklearn.ensemble import RandomForestRegressor\n",
    "from sklearn.base import ClassifierMixin, RegressorMixin"
   ]
  },
  {
   "cell_type": "code",
   "execution_count": 39,
   "metadata": {},
   "outputs": [],
   "source": [
    "# Load datasets\n",
    "X_test = pd.read_csv(\"../04_modelling/dataset/X_test.csv\")\n",
    "y_test = pd.read_csv(\"../04_modelling/dataset/y_test.csv\").squeeze()    # Convert to Series"
   ]
  },
  {
   "cell_type": "code",
   "execution_count": 40,
   "metadata": {},
   "outputs": [],
   "source": [
    "# Initialize a DataFrame to store combined model evaluation results\n",
    "combined_results = pd.DataFrame(columns=[\"Model\", \"Framework\", \"MSE\", \"RMSE\", \"MAE\", \"R2\"])"
   ]
  },
  {
   "cell_type": "code",
   "execution_count": 41,
   "metadata": {},
   "outputs": [],
   "source": [
    "# Function to record evaluation scores\n",
    "def record_combined_scores(results_df, framework, model_name, **metrics):\n",
    "    \"\"\"\n",
    "    Append evaluation scores to the combined results DataFrame.\n",
    "    \"\"\"\n",
    "    new_row = {\n",
    "        \"Model\": model_name,\n",
    "        \"Framework\": framework,\n",
    "        # \"Accuracy\": metrics.get(\"Accuracy\"),\n",
    "        # \"Precision\": metrics.get(\"Precision\"),\n",
    "        # \"Recall\": metrics.get(\"Recall\"),\n",
    "        # \"F1_Score\": metrics.get(\"F1_Score\"),\n",
    "        # \"AUC_ROC\": metrics.get(\"AUC_ROC\"),\n",
    "        \"MSE\": metrics.get(\"MSE\"),\n",
    "        \"RMSE\": metrics.get(\"RMSE\"),\n",
    "        \"MAE\": metrics.get(\"MAE\"),\n",
    "        \"R2\": metrics.get(\"R2\")\n",
    "    }\n",
    "    results_df = pd.concat([results_df, pd.DataFrame([new_row])], ignore_index=True)\n",
    "    return results_df"
   ]
  },
  {
   "cell_type": "code",
   "execution_count": 42,
   "metadata": {},
   "outputs": [],
   "source": [
    "# Function to load scikit-learn models\n",
    "def load_sklearn_model(file_name):\n",
    "    with open(file_name, \"rb\") as file:\n",
    "        return joblib.load(file)"
   ]
  },
  {
   "cell_type": "code",
   "execution_count": 43,
   "metadata": {},
   "outputs": [],
   "source": [
    "# Ensure y datasets are flattened\n",
    "y_test = y_test.values.ravel()"
   ]
  },
  {
   "cell_type": "code",
   "execution_count": 44,
   "metadata": {},
   "outputs": [],
   "source": [
    "# Evaluate scikit-learn models\n",
    "def evaluate_sklearn_models(models, X_test, y_test, results_df):\n",
    "    for model_name, model in models.items():\n",
    "        try:\n",
    "            predictions = model.predict(X_test)\n",
    "\n",
    "            # Compute regression metrics\n",
    "            mse = mean_squared_error(y_test, predictions)\n",
    "            rmse = np.sqrt(mse)\n",
    "            mae = mean_absolute_error(y_test, predictions)\n",
    "            r2 = r2_score(y_test, predictions)\n",
    "\n",
    "            # Record metrics\n",
    "            results_df = record_combined_scores(\n",
    "                results_df,\n",
    "                framework=\"scikit-learn\",\n",
    "                model_name=model_name,\n",
    "                MSE=mse,\n",
    "                RMSE=rmse,\n",
    "                MAE=mae,\n",
    "                R2=r2\n",
    "            )\n",
    "        except Exception as e:\n",
    "            print(f\"Error evaluating scikit-learn model {model_name}: {e}\")\n",
    "    return results_df"
   ]
  },
  {
   "cell_type": "code",
   "execution_count": 45,
   "metadata": {},
   "outputs": [],
   "source": [
    "# Define scikit-learn model files\n",
    "sklearn_model_files = [\n",
    "    \"../04_modelling/models/dtree_model.pkl\",\n",
    "    \"../04_modelling/models/mlp_neural_net.pkl\",\n",
    "    \"../04_modelling/models/random_forest_model.pkl\",\n",
    "]"
   ]
  },
  {
   "cell_type": "code",
   "execution_count": 46,
   "metadata": {},
   "outputs": [
    {
     "name": "stdout",
     "output_type": "stream",
     "text": [
      "Loaded scikit-learn model: dtree_model\n",
      "Loaded scikit-learn model: mlp_neural_net\n",
      "Loaded scikit-learn model: random_forest_model\n"
     ]
    }
   ],
   "source": [
    "# Load scikit-learn models\n",
    "sklearn_models = {}\n",
    "for file_name in sklearn_model_files:\n",
    "    model_name = os.path.splitext(os.path.basename(file_name))[0]\n",
    "    try:\n",
    "        sklearn_models[model_name] = load_sklearn_model(file_name)\n",
    "        print(f\"Loaded scikit-learn model: {model_name}\")\n",
    "    except Exception as e:\n",
    "        print(f\"Error loading scikit-learn model {model_name}: {e}\")"
   ]
  },
  {
   "cell_type": "code",
   "execution_count": 47,
   "metadata": {},
   "outputs": [],
   "source": [
    "# Evaluate scikit-learn models\n",
    "combined_results = evaluate_sklearn_models(sklearn_models, X_test, y_test, combined_results)"
   ]
  },
  {
   "cell_type": "code",
   "execution_count": 48,
   "metadata": {},
   "outputs": [
    {
     "name": "stdout",
     "output_type": "stream",
     "text": [
      "\\SKLearn Model Evaluation Results:\n"
     ]
    },
    {
     "data": {
      "text/html": [
       "<div>\n",
       "<style scoped>\n",
       "    .dataframe tbody tr th:only-of-type {\n",
       "        vertical-align: middle;\n",
       "    }\n",
       "\n",
       "    .dataframe tbody tr th {\n",
       "        vertical-align: top;\n",
       "    }\n",
       "\n",
       "    .dataframe thead th {\n",
       "        text-align: right;\n",
       "    }\n",
       "</style>\n",
       "<table border=\"1\" class=\"dataframe\">\n",
       "  <thead>\n",
       "    <tr style=\"text-align: right;\">\n",
       "      <th></th>\n",
       "      <th>Model</th>\n",
       "      <th>Framework</th>\n",
       "      <th>MSE</th>\n",
       "      <th>RMSE</th>\n",
       "      <th>MAE</th>\n",
       "      <th>R2</th>\n",
       "    </tr>\n",
       "  </thead>\n",
       "  <tbody>\n",
       "    <tr>\n",
       "      <th>0</th>\n",
       "      <td>dtree_model</td>\n",
       "      <td>scikit-learn</td>\n",
       "      <td>9.014530</td>\n",
       "      <td>3.002421</td>\n",
       "      <td>1.467521</td>\n",
       "      <td>0.842866</td>\n",
       "    </tr>\n",
       "    <tr>\n",
       "      <th>1</th>\n",
       "      <td>mlp_neural_net</td>\n",
       "      <td>scikit-learn</td>\n",
       "      <td>0.264957</td>\n",
       "      <td>0.514740</td>\n",
       "      <td>0.145299</td>\n",
       "      <td>0.995381</td>\n",
       "    </tr>\n",
       "    <tr>\n",
       "      <th>2</th>\n",
       "      <td>random_forest_model</td>\n",
       "      <td>scikit-learn</td>\n",
       "      <td>7.372916</td>\n",
       "      <td>2.715311</td>\n",
       "      <td>1.973631</td>\n",
       "      <td>0.871482</td>\n",
       "    </tr>\n",
       "  </tbody>\n",
       "</table>\n",
       "</div>"
      ],
      "text/plain": [
       "                 Model     Framework       MSE      RMSE       MAE        R2\n",
       "0          dtree_model  scikit-learn  9.014530  3.002421  1.467521  0.842866\n",
       "1       mlp_neural_net  scikit-learn  0.264957  0.514740  0.145299  0.995381\n",
       "2  random_forest_model  scikit-learn  7.372916  2.715311  1.973631  0.871482"
      ]
     },
     "execution_count": 48,
     "metadata": {},
     "output_type": "execute_result"
    }
   ],
   "source": [
    "# Display results\n",
    "# Display and save the evaluation results\n",
    "print(\"\\SKLearn Model Evaluation Results:\")\n",
    "combined_results"
   ]
  },
  {
   "cell_type": "markdown",
   "metadata": {},
   "source": [
    "### Evaluate H20 Models"
   ]
  },
  {
   "cell_type": "code",
   "execution_count": 52,
   "metadata": {},
   "outputs": [],
   "source": [
    "import os\n",
    "import zipfile\n",
    "import pandas as pd\n",
    "import h2o\n",
    "from h2o.estimators import H2ODeepLearningEstimator\n",
    "from sklearn.metrics import mean_squared_error, mean_absolute_error, r2_score\n",
    "import numpy as np"
   ]
  },
  {
   "cell_type": "code",
   "execution_count": 53,
   "metadata": {},
   "outputs": [
    {
     "name": "stdout",
     "output_type": "stream",
     "text": [
      "Checking whether there is an H2O instance running at http://localhost:54321. connected.\n"
     ]
    },
    {
     "data": {
      "text/html": [
       "\n",
       "<style>\n",
       "\n",
       "#h2o-table-1.h2o-container {\n",
       "  overflow-x: auto;\n",
       "}\n",
       "#h2o-table-1 .h2o-table {\n",
       "  /* width: 100%; */\n",
       "  margin-top: 1em;\n",
       "  margin-bottom: 1em;\n",
       "}\n",
       "#h2o-table-1 .h2o-table caption {\n",
       "  white-space: nowrap;\n",
       "  caption-side: top;\n",
       "  text-align: left;\n",
       "  /* margin-left: 1em; */\n",
       "  margin: 0;\n",
       "  font-size: larger;\n",
       "}\n",
       "#h2o-table-1 .h2o-table thead {\n",
       "  white-space: nowrap; \n",
       "  position: sticky;\n",
       "  top: 0;\n",
       "  box-shadow: 0 -1px inset;\n",
       "}\n",
       "#h2o-table-1 .h2o-table tbody {\n",
       "  overflow: auto;\n",
       "}\n",
       "#h2o-table-1 .h2o-table th,\n",
       "#h2o-table-1 .h2o-table td {\n",
       "  text-align: right;\n",
       "  /* border: 1px solid; */\n",
       "}\n",
       "#h2o-table-1 .h2o-table tr:nth-child(even) {\n",
       "  /* background: #F5F5F5 */\n",
       "}\n",
       "\n",
       "</style>      \n",
       "<div id=\"h2o-table-1\" class=\"h2o-container\">\n",
       "  <table class=\"h2o-table\">\n",
       "    <caption></caption>\n",
       "    <thead></thead>\n",
       "    <tbody><tr><td>H2O_cluster_uptime:</td>\n",
       "<td>34 secs</td></tr>\n",
       "<tr><td>H2O_cluster_timezone:</td>\n",
       "<td>Asia/Kuala_Lumpur</td></tr>\n",
       "<tr><td>H2O_data_parsing_timezone:</td>\n",
       "<td>UTC</td></tr>\n",
       "<tr><td>H2O_cluster_version:</td>\n",
       "<td>3.46.0.6</td></tr>\n",
       "<tr><td>H2O_cluster_version_age:</td>\n",
       "<td>1 month and 30 days</td></tr>\n",
       "<tr><td>H2O_cluster_name:</td>\n",
       "<td>H2O_from_python_Huawei_4u0rbx</td></tr>\n",
       "<tr><td>H2O_cluster_total_nodes:</td>\n",
       "<td>1</td></tr>\n",
       "<tr><td>H2O_cluster_free_memory:</td>\n",
       "<td>1.941 Gb</td></tr>\n",
       "<tr><td>H2O_cluster_total_cores:</td>\n",
       "<td>8</td></tr>\n",
       "<tr><td>H2O_cluster_allowed_cores:</td>\n",
       "<td>8</td></tr>\n",
       "<tr><td>H2O_cluster_status:</td>\n",
       "<td>locked, healthy</td></tr>\n",
       "<tr><td>H2O_connection_url:</td>\n",
       "<td>http://localhost:54321</td></tr>\n",
       "<tr><td>H2O_connection_proxy:</td>\n",
       "<td>{\"http\": null, \"https\": null}</td></tr>\n",
       "<tr><td>H2O_internal_security:</td>\n",
       "<td>False</td></tr>\n",
       "<tr><td>Python_version:</td>\n",
       "<td>3.8.0 final</td></tr></tbody>\n",
       "  </table>\n",
       "</div>\n"
      ],
      "text/plain": [
       "--------------------------  -----------------------------\n",
       "H2O_cluster_uptime:         34 secs\n",
       "H2O_cluster_timezone:       Asia/Kuala_Lumpur\n",
       "H2O_data_parsing_timezone:  UTC\n",
       "H2O_cluster_version:        3.46.0.6\n",
       "H2O_cluster_version_age:    1 month and 30 days\n",
       "H2O_cluster_name:           H2O_from_python_Huawei_4u0rbx\n",
       "H2O_cluster_total_nodes:    1\n",
       "H2O_cluster_free_memory:    1.941 Gb\n",
       "H2O_cluster_total_cores:    8\n",
       "H2O_cluster_allowed_cores:  8\n",
       "H2O_cluster_status:         locked, healthy\n",
       "H2O_connection_url:         http://localhost:54321\n",
       "H2O_connection_proxy:       {\"http\": null, \"https\": null}\n",
       "H2O_internal_security:      False\n",
       "Python_version:             3.8.0 final\n",
       "--------------------------  -----------------------------"
      ]
     },
     "metadata": {},
     "output_type": "display_data"
    }
   ],
   "source": [
    "# Initialize H2O\n",
    "h2o.init()"
   ]
  },
  {
   "cell_type": "code",
   "execution_count": 54,
   "metadata": {},
   "outputs": [],
   "source": [
    "# Initialize dictionary to store loaded models\n",
    "h2o_loaded_models = {}"
   ]
  },
  {
   "cell_type": "code",
   "execution_count": 55,
   "metadata": {},
   "outputs": [],
   "source": [
    "# Define model files\n",
    "model_files = [\n",
    "    \"../04_modelling/models/DeepLearning_model_python_1735461052018_31\",\n",
    "    \"../04_modelling/models/StackedEnsemble_model_python_1735565212779_5\",\n",
    "    # \"../04_modelling/models/voted_ensemble_model.zip\"\n",
    "]"
   ]
  },
  {
   "cell_type": "code",
   "execution_count": 56,
   "metadata": {},
   "outputs": [],
   "source": [
    "# Function to load H2O models\n",
    "def load_h2o_model(file_name):\n",
    "    return h2o.load_model(file_name)"
   ]
  },
  {
   "cell_type": "code",
   "execution_count": 57,
   "metadata": {},
   "outputs": [],
   "source": [
    "# Function to load a model based on its file type\n",
    "def load_model(file_name):\n",
    "    if file_name.endswith(\".pkl\"):\n",
    "        return load_sklearn_model(file_name)\n",
    "    elif file_name.endswith(\".zip\"):\n",
    "        # Assuming zip contains a model file\n",
    "        with zipfile.ZipFile(file_name, \"r\") as zip_ref:\n",
    "            zip_ref.extractall(\"temp_models\")\n",
    "        # Add specific logic for ensemble models here if necessary\n",
    "        return None  # Placeholder\n",
    "    else:\n",
    "        return load_h2o_model(file_name)"
   ]
  },
  {
   "cell_type": "code",
   "execution_count": 58,
   "metadata": {},
   "outputs": [
    {
     "name": "stdout",
     "output_type": "stream",
     "text": [
      "Loaded model: DeepLearning_model_python_1735461052018_31\n",
      "Loaded model: StackedEnsemble_model_python_1735565212779_5\n"
     ]
    }
   ],
   "source": [
    "# Load all models\n",
    "for file_name in model_files:\n",
    "    model_name = os.path.splitext(os.path.basename(file_name))[0]\n",
    "    try:\n",
    "        h2o_loaded_models[model_name] = load_model(file_name)\n",
    "        print(f\"Loaded model: {model_name}\")\n",
    "    except Exception as e:\n",
    "        print(f\"Error loading model {model_name}: {e}\")"
   ]
  },
  {
   "cell_type": "code",
   "execution_count": 59,
   "metadata": {},
   "outputs": [
    {
     "data": {
      "text/plain": [
       "{'DeepLearning_model_python_1735461052018_31': Model Details\n",
       "=============\n",
       "H2ODeepLearningEstimator : Deep Learning\n",
       "Model Key: DeepLearning_model_python_1735461052018_31\n",
       "\n",
       "\n",
       "Status of Neuron Layers: predicting yearly_compensation, regression, gaussian distribution, Quadratic loss, 10,251 weights/biases, 138.0 KB, 202,094 training samples, mini-batch size 1\n",
       "    layer    units    type    dropout              l1                     l2                      mean_rate           rate_rms             momentum    mean_weight             weight_rms            mean_bias              bias_rms\n",
       "--  -------  -------  ------  -------------------  ---------------------  ----------------------  ------------------  -------------------  ----------  ----------------------  --------------------  ---------------------  -----------------------\n",
       "    1        50       Input   0.13062179562149737\n",
       "    2        50       Maxout  0.0                  0.0008734285704456857  0.00044395405309485716  0.4733223503382411  0.11678057909011841  0.0         -3.979006264033558e-06  0.015364725142717361  0.006642995096825123   0.03519140183925629\n",
       "    3        50       Maxout  0.0                  0.0008734285704456857  0.00044395405309485716  0.4982321396009298  0.04461340606212616  0.0         4.118497943300099e-05   0.018327370285987854  -0.004673484282890519  0.02655043452978134\n",
       "    4        1        Linear                       0.0008734285704456857  0.00044395405309485716  0.4639661560114473  0.13051837682724     0.0         -0.020511514883137353   0.20146846771240234   -0.006056887093238454  1.0971281125650402e-154\n",
       "\n",
       "ModelMetricsRegression: deeplearning\n",
       "** Reported on train data. **\n",
       "\n",
       "MSE: 0.06877424596422645\n",
       "RMSE: 0.26224844320648777\n",
       "MAE: 0.1982343550893961\n",
       "RMSLE: 0.09134219559187533\n",
       "Mean Residual Deviance: 0.06877424596422645\n",
       "\n",
       "ModelMetricsRegression: deeplearning\n",
       "** Reported on validation data. **\n",
       "\n",
       "MSE: 0.07000494825442179\n",
       "RMSE: 0.2645844822630794\n",
       "MAE: 0.20023005208735728\n",
       "RMSLE: NaN\n",
       "Mean Residual Deviance: 0.07000494825442179\n",
       "\n",
       "Scoring History: \n",
       "    timestamp            duration    training_speed    epochs    iterations    samples    training_rmse    training_deviance    training_mae    training_r2    validation_rmse    validation_deviance    validation_mae    validation_r2\n",
       "--  -------------------  ----------  ----------------  --------  ------------  ---------  ---------------  -------------------  --------------  -------------  -----------------  ---------------------  ----------------  ---------------\n",
       "    2024-12-29 16:54:10  0.000 sec                     0         0             0          nan              nan                  nan             nan            nan                nan                    nan               nan\n",
       "    2024-12-29 16:54:10  0.814 sec   28606 obs/sec     3.69958   1             20196      0.769648         0.592358             0.605059        0.989678       0.868653           0.754557               0.674721          0.986861\n",
       "    2024-12-29 16:54:16  6.369 sec   29398 obs/sec     33.3189   9             181888     0.262248         0.0687742            0.198234        0.998802       0.264584           0.0700049              0.20023           0.998781\n",
       "    2024-12-29 16:54:17  7.141 sec   29374 obs/sec     37.0203   10            202094     0.258666         0.0669081            0.187879        0.998834       0.275944           0.076145               0.196937          0.998674\n",
       "    2024-12-29 16:54:17  7.213 sec   29361 obs/sec     37.0203   10            202094     0.262248         0.0687742            0.198234        0.998802       0.264584           0.0700049              0.20023           0.998781\n",
       "\n",
       "Variable Importances: \n",
       "variable                                           relative_importance    scaled_importance    percentage\n",
       "-------------------------------------------------  ---------------------  -------------------  --------------------\n",
       "used_tpu                                           1.0                    1.0                  0.0249870253298348\n",
       "country_Australia                                  0.9748658537864685     0.9748658537864685   0.02435899778175352\n",
       "company_SUMprofileTable_yearly_compensation        0.9719040989875793     0.9719040989875793   0.024284992339572917\n",
       "country_Ukraine                                    0.9664272665977478     0.9664272665977478   0.024148142589920936\n",
       "country_Taiwan                                     0.9389868974685669     0.9389868974685669   0.023462489391430075\n",
       "job_title_Data_Engineer                            0.937416136264801      0.937416136264801    0.023423240741444456\n",
       "demographics_COUNTprofileTable                     0.9090085029602051     0.9090085029602051   0.022713418488501856\n",
       "PrimaryTool_SUMprofileTable_yearly_compensation    0.8912051916122437     0.8912051916122437   0.02226856669689541\n",
       "country_SUMprofileTable_yearly_compensation        0.8884457349777222     0.8884457349777222   0.02219961608407204\n",
       "company_size                                       0.8597455024719238     0.8597455024719238   0.02148248264747751\n",
       "---                                                ---                    ---                  ---\n",
       "country_Algeria                                    0.7208391427993774     0.7208391427993774   0.01801162591986445\n",
       "job_title_Research_Scientist                       0.7070367336273193     0.7070367336273193   0.01766674477226949\n",
       "country_Portugal                                   0.706606924533844      0.706606924533844    0.017656005121563827\n",
       "country_Switzerland                                0.7058876156806946     0.7058876156806946   0.017638031733030208\n",
       "country_Austria                                    0.6854385733604431     0.6854385733604431   0.01712707099460322\n",
       "job_title_Data_Analyst                             0.6850965619087219     0.6850965619087219   0.01711852514579597\n",
       "demographics_MEANprofileTable_yearly_compensation  0.6841066479682922     0.6841066479682922   0.017093790141092097\n",
       "country_Tunisia                                    0.6809830069541931     0.6809830069541931   0.01701573964395149\n",
       "country_Viet_Nam                                   0.6373131275177002     0.6373131275177002   0.015924559260321013\n",
       "country_COUNTprofileTable                          0.6163108348846436     0.6163108348846436   0.015399774442314223\n",
       "[50 rows x 4 columns]\n",
       "\n",
       "\n",
       "[tips]\n",
       "Use `model.explain()` to inspect the model.\n",
       "--\n",
       "Use `h2o.display.toggle_user_tips()` to switch on/off this section.,\n",
       " 'StackedEnsemble_model_python_1735565212779_5': Model Details\n",
       "=============\n",
       "H2OStackedEnsembleEstimator : Stacked Ensemble\n",
       "Model Key: StackedEnsemble_model_python_1735565212779_5\n",
       "\n",
       "\n",
       "Model Summary for Stacked Ensemble: \n",
       "key                                   value\n",
       "------------------------------------  ----------------\n",
       "Stacking strategy                     cross_validation\n",
       "Number of base models (used / total)  2/3\n",
       "# GBM base models (used / total)      1/1\n",
       "# DRF base models (used / total)      0/1\n",
       "# GLM base models (used / total)      1/1\n",
       "Metalearner algorithm                 GLM\n",
       "Metalearner fold assignment scheme    AUTO\n",
       "Metalearner nfolds                    0\n",
       "Metalearner fold_column\n",
       "Custom metalearner hyperparameters    None\n",
       "\n",
       "ModelMetricsRegressionGLM: stackedensemble\n",
       "** Reported on train data. **\n",
       "\n",
       "MSE: 0.49820427411992424\n",
       "RMSE: 0.705835869108339\n",
       "MAE: 0.5069150933874833\n",
       "RMSLE: NaN\n",
       "Mean Residual Deviance: 0.49820427411992424\n",
       "R^2: 0.9913188484743866\n",
       "Null degrees of freedom: 5458\n",
       "Residual degrees of freedom: 5456\n",
       "Null deviance: 313287.6006594614\n",
       "Residual deviance: 2719.6971324206665\n",
       "AIC: 11696.439420644449\n",
       "\n",
       "ModelMetricsRegressionGLM: stackedensemble\n",
       "** Reported on validation data. **\n",
       "\n",
       "MSE: 0.5361779611516045\n",
       "RMSE: 0.732241736827125\n",
       "MAE: 0.5364193582193864\n",
       "RMSLE: NaN\n",
       "Mean Residual Deviance: 0.5361779611516045\n",
       "R^2: 0.9906637892775136\n",
       "Null degrees of freedom: 1169\n",
       "Residual degrees of freedom: 1167\n",
       "Null deviance: 67193.0502341876\n",
       "Residual deviance: 627.3282145473773\n",
       "AIC: 2599.0678552457202\n",
       "\n",
       "[tips]\n",
       "Use `model.explain()` to inspect the model.\n",
       "--\n",
       "Use `h2o.display.toggle_user_tips()` to switch on/off this section.}"
      ]
     },
     "execution_count": 59,
     "metadata": {},
     "output_type": "execute_result"
    }
   ],
   "source": [
    "h2o_loaded_models"
   ]
  },
  {
   "cell_type": "code",
   "execution_count": 60,
   "metadata": {},
   "outputs": [],
   "source": [
    "# Load datasets\n",
    "X_test = pd.read_csv(\"../04_modelling/dataset/X_test.csv\")\n",
    "y_test = pd.read_csv(\"../04_modelling/dataset/y_test.csv\")  # Ensure this is a DataFrame or Series"
   ]
  },
  {
   "cell_type": "code",
   "execution_count": 61,
   "metadata": {},
   "outputs": [
    {
     "name": "stdout",
     "output_type": "stream",
     "text": [
      "Parse progress: |████████████████████████████████████████████████████████████████| (done) 100%\n"
     ]
    }
   ],
   "source": [
    "# Combine X_test and y_test into one DataFrame for H2OFrame\n",
    "test_df = pd.concat([X_test, y_test], axis=1)\n",
    "test_h2o = h2o.H2OFrame(test_df)"
   ]
  },
  {
   "cell_type": "code",
   "execution_count": 66,
   "metadata": {},
   "outputs": [],
   "source": [
    "# Evaluate H2O models\n",
    "def evaluate_h2o_models(models, test_h2o, y_test, results_df):\n",
    "    for model_name, model in models.items():\n",
    "        try:\n",
    "            test_performance = model.model_performance(test_data=test_h2o)\n",
    "            predictions = model.predict(test_h2o).as_data_frame().values.flatten()\n",
    "            \n",
    "            # Calculate metrics\n",
    "            mse = test_performance.mse()\n",
    "            rmse = test_performance.rmse()\n",
    "            mae = test_performance.mae()\n",
    "            r2 = r2_score(y_test, predictions)\n",
    "            \n",
    "            print(\"evaluate_h2o_models\", mse, rmse, mae, r2)\n",
    "            \n",
    "            print(\"test_performance\", test_performance)\n",
    "            \n",
    "            # auc_roc = test_performance.auc() \n",
    "\n",
    "            # predictions.auc() \n",
    "\n",
    "            # Record metrics\n",
    "            results_df = record_combined_scores(\n",
    "                results_df,\n",
    "                framework=\"H2O\",\n",
    "                model_name=model_name,\n",
    "                # Accuracy=None,  # Not applicable for regression\n",
    "                # Precision=None,\n",
    "                # Recall=None,\n",
    "                # F1_Score=None,\n",
    "                # AUC_ROC=auc_roc,\n",
    "                MSE=mse,\n",
    "                RMSE=rmse,\n",
    "                MAE=mae,\n",
    "                R2=r2\n",
    "            )\n",
    "            \n",
    "        except Exception as e:\n",
    "            print(f\"Error evaluating H2O model {model_name}: {e}\")\n",
    "    return results_df"
   ]
  },
  {
   "cell_type": "code",
   "execution_count": 67,
   "metadata": {},
   "outputs": [
    {
     "name": "stdout",
     "output_type": "stream",
     "text": [
      "deeplearning prediction progress: |██████████████████████████████████████████████| (done) 100%\n"
     ]
    },
    {
     "name": "stderr",
     "output_type": "stream",
     "text": [
      "c:\\Users\\Huawei\\OneDrive - Universiti Malaya\\Desktop\\SEMESTER 7\\WIE3007_Data-Mining\\Group Project\\data-mining-warehousing-wages-analysis\\venv\\lib\\site-packages\\h2o\\frame.py:1983: H2ODependencyWarning: Converting H2O frame to pandas dataframe using single-thread.  For faster conversion using multi-thread, install polars and pyarrow and use it as pandas_df = h2o_df.as_data_frame(use_multi_thread=True)\n",
      "\n",
      "  warnings.warn(\"Converting H2O frame to pandas dataframe using single-thread.  For faster conversion using\"\n"
     ]
    },
    {
     "name": "stdout",
     "output_type": "stream",
     "text": [
      "evaluate_h2o_models 0.06630532219303646 0.25749819842677824 0.19925882702258896 0.9988442228252492\n",
      "test_performance ModelMetricsRegression: deeplearning\n",
      "** Reported on test data. **\n",
      "\n",
      "MSE: 0.06630532219303646\n",
      "RMSE: 0.25749819842677824\n",
      "MAE: 0.19925882702258896\n",
      "RMSLE: 0.09276666964802921\n",
      "Mean Residual Deviance: 0.06630532219303646\n",
      "                                        Model     Framework       MSE  \\\n",
      "0                                 dtree_model  scikit-learn  9.014530   \n",
      "1                              mlp_neural_net  scikit-learn  0.264957   \n",
      "2                         random_forest_model  scikit-learn  7.372916   \n",
      "3  DeepLearning_model_python_1735461052018_31           H2O  0.066305   \n",
      "\n",
      "       RMSE       MAE        R2  \n",
      "0  3.002421  1.467521  0.842866  \n",
      "1  0.514740  0.145299  0.995381  \n",
      "2  2.715311  1.973631  0.871482  \n",
      "3  0.257498  0.199259  0.998844  \n",
      "stackedensemble prediction progress: |███████████████████████████████████████████| (done) 100%\n"
     ]
    },
    {
     "name": "stderr",
     "output_type": "stream",
     "text": [
      "c:\\Users\\Huawei\\OneDrive - Universiti Malaya\\Desktop\\SEMESTER 7\\WIE3007_Data-Mining\\Group Project\\data-mining-warehousing-wages-analysis\\venv\\lib\\site-packages\\h2o\\frame.py:1983: H2ODependencyWarning: Converting H2O frame to pandas dataframe using single-thread.  For faster conversion using multi-thread, install polars and pyarrow and use it as pandas_df = h2o_df.as_data_frame(use_multi_thread=True)\n",
      "\n",
      "  warnings.warn(\"Converting H2O frame to pandas dataframe using single-thread.  For faster conversion using\"\n"
     ]
    },
    {
     "name": "stdout",
     "output_type": "stream",
     "text": [
      "evaluate_h2o_models 0.5516425154961121 0.7427264068929501 0.536177505742845 0.990384243572841\n",
      "test_performance ModelMetricsRegressionGLM: stackedensemble\n",
      "** Reported on test data. **\n",
      "\n",
      "MSE: 0.5516425154961121\n",
      "RMSE: 0.7427264068929501\n",
      "MAE: 0.536177505742845\n",
      "RMSLE: NaN\n",
      "Mean Residual Deviance: 0.5516425154961121\n",
      "R^2: 0.990384243572841\n",
      "Null degrees of freedom: 1169\n",
      "Residual degrees of freedom: 1167\n",
      "Null deviance: 67121.28489254977\n",
      "Residual deviance: 645.4217431304512\n",
      "AIC: 2632.3357482544166\n",
      "                                          Model     Framework       MSE  \\\n",
      "0                                   dtree_model  scikit-learn  9.014530   \n",
      "1                                mlp_neural_net  scikit-learn  0.264957   \n",
      "2                           random_forest_model  scikit-learn  7.372916   \n",
      "3    DeepLearning_model_python_1735461052018_31           H2O  0.066305   \n",
      "4  StackedEnsemble_model_python_1735565212779_5           H2O  0.551643   \n",
      "\n",
      "       RMSE       MAE        R2  \n",
      "0  3.002421  1.467521  0.842866  \n",
      "1  0.514740  0.145299  0.995381  \n",
      "2  2.715311  1.973631  0.871482  \n",
      "3  0.257498  0.199259  0.998844  \n",
      "4  0.742726  0.536178  0.990384  \n"
     ]
    }
   ],
   "source": [
    "combined_results = evaluate_h2o_models(h2o_loaded_models, test_h2o, y_test, combined_results)"
   ]
  },
  {
   "cell_type": "code",
   "execution_count": 68,
   "metadata": {},
   "outputs": [
    {
     "name": "stdout",
     "output_type": "stream",
     "text": [
      "\n",
      "h2o Model Evaluation Results:\n"
     ]
    },
    {
     "data": {
      "text/html": [
       "<div>\n",
       "<style scoped>\n",
       "    .dataframe tbody tr th:only-of-type {\n",
       "        vertical-align: middle;\n",
       "    }\n",
       "\n",
       "    .dataframe tbody tr th {\n",
       "        vertical-align: top;\n",
       "    }\n",
       "\n",
       "    .dataframe thead th {\n",
       "        text-align: right;\n",
       "    }\n",
       "</style>\n",
       "<table border=\"1\" class=\"dataframe\">\n",
       "  <thead>\n",
       "    <tr style=\"text-align: right;\">\n",
       "      <th></th>\n",
       "      <th>Model</th>\n",
       "      <th>Framework</th>\n",
       "      <th>MSE</th>\n",
       "      <th>RMSE</th>\n",
       "      <th>MAE</th>\n",
       "      <th>R2</th>\n",
       "    </tr>\n",
       "  </thead>\n",
       "  <tbody>\n",
       "    <tr>\n",
       "      <th>0</th>\n",
       "      <td>dtree_model</td>\n",
       "      <td>scikit-learn</td>\n",
       "      <td>9.014530</td>\n",
       "      <td>3.002421</td>\n",
       "      <td>1.467521</td>\n",
       "      <td>0.842866</td>\n",
       "    </tr>\n",
       "    <tr>\n",
       "      <th>1</th>\n",
       "      <td>mlp_neural_net</td>\n",
       "      <td>scikit-learn</td>\n",
       "      <td>0.264957</td>\n",
       "      <td>0.514740</td>\n",
       "      <td>0.145299</td>\n",
       "      <td>0.995381</td>\n",
       "    </tr>\n",
       "    <tr>\n",
       "      <th>2</th>\n",
       "      <td>random_forest_model</td>\n",
       "      <td>scikit-learn</td>\n",
       "      <td>7.372916</td>\n",
       "      <td>2.715311</td>\n",
       "      <td>1.973631</td>\n",
       "      <td>0.871482</td>\n",
       "    </tr>\n",
       "    <tr>\n",
       "      <th>3</th>\n",
       "      <td>DeepLearning_model_python_1735461052018_31</td>\n",
       "      <td>H2O</td>\n",
       "      <td>0.066305</td>\n",
       "      <td>0.257498</td>\n",
       "      <td>0.199259</td>\n",
       "      <td>0.998844</td>\n",
       "    </tr>\n",
       "    <tr>\n",
       "      <th>4</th>\n",
       "      <td>StackedEnsemble_model_python_1735565212779_5</td>\n",
       "      <td>H2O</td>\n",
       "      <td>0.551643</td>\n",
       "      <td>0.742726</td>\n",
       "      <td>0.536178</td>\n",
       "      <td>0.990384</td>\n",
       "    </tr>\n",
       "  </tbody>\n",
       "</table>\n",
       "</div>"
      ],
      "text/plain": [
       "                                          Model     Framework       MSE  \\\n",
       "0                                   dtree_model  scikit-learn  9.014530   \n",
       "1                                mlp_neural_net  scikit-learn  0.264957   \n",
       "2                           random_forest_model  scikit-learn  7.372916   \n",
       "3    DeepLearning_model_python_1735461052018_31           H2O  0.066305   \n",
       "4  StackedEnsemble_model_python_1735565212779_5           H2O  0.551643   \n",
       "\n",
       "       RMSE       MAE        R2  \n",
       "0  3.002421  1.467521  0.842866  \n",
       "1  0.514740  0.145299  0.995381  \n",
       "2  2.715311  1.973631  0.871482  \n",
       "3  0.257498  0.199259  0.998844  \n",
       "4  0.742726  0.536178  0.990384  "
      ]
     },
     "execution_count": 68,
     "metadata": {},
     "output_type": "execute_result"
    }
   ],
   "source": [
    "# Display and save the evaluation results\n",
    "print(\"\\nh2o Model Evaluation Results:\")\n",
    "combined_results"
   ]
  },
  {
   "cell_type": "code",
   "execution_count": 69,
   "metadata": {},
   "outputs": [
    {
     "name": "stdout",
     "output_type": "stream",
     "text": [
      "H2O session _sid_8ac5 closed.\n"
     ]
    }
   ],
   "source": [
    "# Shutdown H2O Cluster\n",
    "h2o.cluster().shutdown()"
   ]
  },
  {
   "cell_type": "code",
   "execution_count": 70,
   "metadata": {},
   "outputs": [],
   "source": [
    "import pandas as pd\n",
    "import matplotlib.pyplot as plt\n",
    "import seaborn as sns"
   ]
  },
  {
   "cell_type": "code",
   "execution_count": 71,
   "metadata": {},
   "outputs": [
    {
     "data": {
      "text/html": [
       "<div>\n",
       "<style scoped>\n",
       "    .dataframe tbody tr th:only-of-type {\n",
       "        vertical-align: middle;\n",
       "    }\n",
       "\n",
       "    .dataframe tbody tr th {\n",
       "        vertical-align: top;\n",
       "    }\n",
       "\n",
       "    .dataframe thead th {\n",
       "        text-align: right;\n",
       "    }\n",
       "</style>\n",
       "<table border=\"1\" class=\"dataframe\">\n",
       "  <thead>\n",
       "    <tr style=\"text-align: right;\">\n",
       "      <th></th>\n",
       "      <th>Model</th>\n",
       "      <th>Framework</th>\n",
       "      <th>MSE</th>\n",
       "      <th>RMSE</th>\n",
       "      <th>MAE</th>\n",
       "      <th>R2</th>\n",
       "    </tr>\n",
       "  </thead>\n",
       "  <tbody>\n",
       "    <tr>\n",
       "      <th>3</th>\n",
       "      <td>DeepLearning_model_python_1735461052018_31</td>\n",
       "      <td>H2O</td>\n",
       "      <td>0.066305</td>\n",
       "      <td>0.257498</td>\n",
       "      <td>0.199259</td>\n",
       "      <td>0.998844</td>\n",
       "    </tr>\n",
       "    <tr>\n",
       "      <th>1</th>\n",
       "      <td>mlp_neural_net</td>\n",
       "      <td>scikit-learn</td>\n",
       "      <td>0.264957</td>\n",
       "      <td>0.514740</td>\n",
       "      <td>0.145299</td>\n",
       "      <td>0.995381</td>\n",
       "    </tr>\n",
       "    <tr>\n",
       "      <th>4</th>\n",
       "      <td>StackedEnsemble_model_python_1735565212779_5</td>\n",
       "      <td>H2O</td>\n",
       "      <td>0.551643</td>\n",
       "      <td>0.742726</td>\n",
       "      <td>0.536178</td>\n",
       "      <td>0.990384</td>\n",
       "    </tr>\n",
       "    <tr>\n",
       "      <th>2</th>\n",
       "      <td>random_forest_model</td>\n",
       "      <td>scikit-learn</td>\n",
       "      <td>7.372916</td>\n",
       "      <td>2.715311</td>\n",
       "      <td>1.973631</td>\n",
       "      <td>0.871482</td>\n",
       "    </tr>\n",
       "    <tr>\n",
       "      <th>0</th>\n",
       "      <td>dtree_model</td>\n",
       "      <td>scikit-learn</td>\n",
       "      <td>9.014530</td>\n",
       "      <td>3.002421</td>\n",
       "      <td>1.467521</td>\n",
       "      <td>0.842866</td>\n",
       "    </tr>\n",
       "  </tbody>\n",
       "</table>\n",
       "</div>"
      ],
      "text/plain": [
       "                                          Model     Framework       MSE  \\\n",
       "3    DeepLearning_model_python_1735461052018_31           H2O  0.066305   \n",
       "1                                mlp_neural_net  scikit-learn  0.264957   \n",
       "4  StackedEnsemble_model_python_1735565212779_5           H2O  0.551643   \n",
       "2                           random_forest_model  scikit-learn  7.372916   \n",
       "0                                   dtree_model  scikit-learn  9.014530   \n",
       "\n",
       "       RMSE       MAE        R2  \n",
       "3  0.257498  0.199259  0.998844  \n",
       "1  0.514740  0.145299  0.995381  \n",
       "4  0.742726  0.536178  0.990384  \n",
       "2  2.715311  1.973631  0.871482  \n",
       "0  3.002421  1.467521  0.842866  "
      ]
     },
     "execution_count": 71,
     "metadata": {},
     "output_type": "execute_result"
    }
   ],
   "source": [
    "# Sort by RMSE\n",
    "sorted_results = combined_results.sort_values(by=\"RMSE\", ascending=True)\n",
    "sorted_results"
   ]
  },
  {
   "cell_type": "code",
   "execution_count": 72,
   "metadata": {},
   "outputs": [
    {
     "data": {
      "image/png": "[encoded data removed]",
      "text/plain": [
       "<Figure size 1000x600 with 1 Axes>"
      ]
     },
     "metadata": {},
     "output_type": "display_data"
    }
   ],
   "source": [
    "# Visualize RMSE\n",
    "plt.figure(figsize=(10, 6))\n",
    "sns.barplot(data=sorted_results, x=\"RMSE\", y=\"Model\", hue=\"Framework\", palette=\"viridis\")\n",
    "plt.title(\"Model RMSE Comparison\")\n",
    "plt.xlabel(\"RMSE\")\n",
    "plt.ylabel(\"Model\")\n",
    "plt.legend(title=\"Framework\")\n",
    "plt.tight_layout()\n",
    "plt.show()"
   ]
  },
  {
   "cell_type": "code",
   "execution_count": 73,
   "metadata": {},
   "outputs": [
    {
     "data": {
      "image/png": "[encoded data removed]",
      "text/plain": [
       "<Figure size 1000x600 with 1 Axes>"
      ]
     },
     "metadata": {},
     "output_type": "display_data"
    },
    {
     "data": {
      "image/png": "[encoded data removed]",
      "text/plain": [
       "<Figure size 1000x600 with 1 Axes>"
      ]
     },
     "metadata": {},
     "output_type": "display_data"
    },
    {
     "data": {
      "image/png": "[encoded data removed]",
      "text/plain": [
       "<Figure size 1000x600 with 1 Axes>"
      ]
     },
     "metadata": {},
     "output_type": "display_data"
    }
   ],
   "source": [
    "# Visualize other metrics\n",
    "metrics = [\"MSE\", \"MAE\", \"R2\"]\n",
    "for metric in metrics:\n",
    "    plt.figure(figsize=(10, 6))\n",
    "    sns.barplot(data=sorted_results, x=metric, y=\"Model\", hue=\"Framework\", palette=\"viridis\")\n",
    "    plt.title(f\"Model {metric} Comparison\")\n",
    "    plt.xlabel(metric)\n",
    "    plt.ylabel(\"Model\")\n",
    "    plt.legend(title=\"Framework\")\n",
    "    plt.tight_layout()\n",
    "    plt.show()"
   ]
  },
  {
   "cell_type": "code",
   "execution_count": 74,
   "metadata": {},
   "outputs": [
    {
     "name": "stdout",
     "output_type": "stream",
     "text": [
      "Selected Model for Deployment:\n",
      "Model        DeepLearning_model_python_1735461052018_31\n",
      "Framework                                           H2O\n",
      "MSE                                            0.066305\n",
      "RMSE                                           0.257498\n",
      "MAE                                            0.199259\n",
      "R2                                             0.998844\n",
      "Name: 3, dtype: object\n"
     ]
    }
   ],
   "source": [
    "# Final Model Selection Justification\n",
    "best_model = sorted_results.iloc[0]  # Select the model with the lowest RMSE\n",
    "print(\"Selected Model for Deployment:\")\n",
    "print(best_model)"
   ]
  }
 ],
 "metadata": {
  "kernelspec": {
   "display_name": "venv",
   "language": "python",
   "name": "python3"
  },
  "language_info": {
   "codemirror_mode": {
    "name": "ipython",
    "version": 3
   },
   "file_extension": ".py",
   "mimetype": "text/x-python",
   "name": "python",
   "nbconvert_exporter": "python",
   "pygments_lexer": "ipython3",
   "version": "3.8.0"
  }
 },
 "nbformat": 4,
 "nbformat_minor": 2
}
