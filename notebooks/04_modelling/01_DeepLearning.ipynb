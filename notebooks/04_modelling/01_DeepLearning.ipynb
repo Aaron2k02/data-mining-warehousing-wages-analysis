{
 "cells": [
  {
   "cell_type": "markdown",
   "metadata": {},
   "source": [
    "## Model Description\n",
    "\n",
    "The **Multilayer Perceptron (MLP)** is a type of artificial neural network that learns a mapping from inputs to outputs using a supervised learning algorithm. It consists of multiple layers of interconnected neurons, making it suitable for capturing complex patterns in data.\n",
    "\n",
    "### Key Features of the MLP Model:\n",
    "- **Hidden Layers**: Configurable architecture with support for varying sizes of hidden layers.\n",
    "- **Activation Functions**: Flexible choice of activation functions like ReLU and Tanh.\n",
    "- **Optimization Algorithms**: Supports solvers like Adam and SGD for weight optimization.\n",
    "- **Regularization**: Includes an `alpha` parameter to control L2 regularization.\n",
    "- **Adaptive Learning**: Utilizes an adaptive learning rate for efficient convergence.\n",
    "\n",
    "## Training Process\n",
    "\n",
    "The training pipeline includes the following steps:\n",
    "   \n",
    "2. **Cross-Validation and Hyperparameter Tuning**:\n",
    "   - A `GridSearchCV` approach is used to perform exhaustive hyperparameter tuning with 5-fold stratified cross-validation, ensuring robust model evaluation.\n",
    "   - The hyperparameters optimized include the number of hidden layers, activation functions, solvers, learning rates, and the number of training iterations."
   ]
  },
  {
   "cell_type": "code",
   "execution_count": 1,
   "metadata": {},
   "outputs": [
    {
     "name": "stderr",
     "output_type": "stream",
     "text": [
      "c:\\Users\\Huawei\\OneDrive - Universiti Malaya\\Desktop\\SEMESTER 7\\WIE3007_Data-Mining\\Group Project\\data-mining-warehousing-wages-analysis\\venv\\lib\\site-packages\\tqdm\\auto.py:21: TqdmWarning: IProgress not found. Please update jupyter and ipywidgets. See https://ipywidgets.readthedocs.io/en/stable/user_install.html\n",
      "  from .autonotebook import tqdm as notebook_tqdm\n"
     ]
    }
   ],
   "source": [
    "import pandas as pd\n",
    "import numpy as np\n",
    "from sklearn.neural_network import MLPClassifier\n",
    "from model_utils import run_classifier\n",
    "from sklearn.metrics import accuracy_score, precision_score, recall_score\n",
    "import optuna\n",
    "from sklearn.model_selection import cross_val_score\n",
    "import joblib\n",
    "import os"
   ]
  },
  {
   "cell_type": "code",
   "execution_count": 2,
   "metadata": {},
   "outputs": [],
   "source": [
    "# Load datasets\n",
    "X_train = pd.read_csv(\"../04_modelling/dataset/X_train.csv\")\n",
    "y_train = pd.read_csv(\"../04_modelling/dataset/y_train.csv\")\n",
    "X_test = pd.read_csv(\"../04_modelling/dataset/X_test.csv\")\n",
    "y_test = pd.read_csv(\"../04_modelling/dataset/y_test.csv\")\n",
    "\n",
    "# Fix the shape of y_train and y_test\n",
    "y_train = y_train.values.ravel()  # Convert to 1D array\n",
    "y_test = y_test.values.ravel()    # Convert to 1D array"
   ]
  },
  {
   "cell_type": "markdown",
   "metadata": {},
   "source": [
    "### Function to Record Trained Models"
   ]
  },
  {
   "cell_type": "code",
   "execution_count": 3,
   "metadata": {},
   "outputs": [],
   "source": [
    "import pandas as pd\n",
    "\n",
    "# Initialize an empty DataFrame to store model results\n",
    "model_records = pd.DataFrame(columns=[\"Model Name\", \"Hyperparameters\", \"Test Accuracy\", \"Test Precision\", \"Test Recall\"])\n",
    "\n",
    "def record_trained_model(model_name, params, mean_cv_accuracy, test_metrics):\n",
    "    \"\"\"\n",
    "    Record a trained model's details in a pandas DataFrame.\n",
    "\n",
    "    Args:\n",
    "        model_name (str): Name of the model.\n",
    "        params (dict): Hyperparameters used for training.\n",
    "        mean_cv_accuracy (float): Mean cross-validation accuracy (optional).\n",
    "        test_metrics (dict): Test metrics such as accuracy, precision, and recall.\n",
    "    \"\"\"\n",
    "    global model_records  # Use the global DataFrame\n",
    "\n",
    "    # Create a new record\n",
    "    record = {\n",
    "        \"Model Name\": model_name,\n",
    "        \"Hyperparameters\": params,\n",
    "        \"Test Accuracy\": f\"{test_metrics['accuracy']:.2%}\",\n",
    "        \"Test Precision\": f\"{test_metrics['precision']:.2%}\",\n",
    "        \"Test Recall\": f\"{test_metrics['recall']:.2%}\",\n",
    "    }\n",
    "\n",
    "    # Append the record to the DataFrame\n",
    "    model_records = pd.concat([model_records, pd.DataFrame([record])], ignore_index=True)\n",
    "\n",
    "    print(f\"Model '{model_name}' recorded successfully!\")"
   ]
  },
  {
   "cell_type": "markdown",
   "metadata": {},
   "source": [
    "### Train with Default Parameters\n",
    "- Objective: Train a baseline MLPClassifier without tuning.\n",
    "- Purpose: Provides a baseline performance for comparison."
   ]
  },
  {
   "cell_type": "code",
   "execution_count": 4,
   "metadata": {},
   "outputs": [
    {
     "name": "stdout",
     "output_type": "stream",
     "text": [
      "Train with Default Parameters\n",
      "\n",
      "--- RandomizedSearchCV (Default Neural Net) ---\n",
      "RandomizedSearchCV(cv=StratifiedKFold(n_splits=5, random_state=123, shuffle=True),\n",
      "                   estimator=MLPClassifier(random_state=123),\n",
      "                   param_distributions={}, random_state=123,\n",
      "                   return_train_score=True, scoring='accuracy')\n",
      "\n",
      "--- Cross-Validation Results (Default Neural Net) ---\n",
      "The best parameters are: {}\n",
      "Mean cross-validation accuracy: 79.28%\n",
      "\n",
      "--- Test Results ---\n",
      "Accuracy: 88.46%\n",
      "Precision: 88.56%\n",
      "Recall: 88.46%\n"
     ]
    }
   ],
   "source": [
    "# Default MLPClassifier\n",
    "mlp_default = MLPClassifier(random_state=123)\n",
    "\n",
    "print(\"Train with Default Parameters\")\n",
    "best_model_phase1 = run_classifier(mlp_default, {}, X_train, y_train, X_test, y_test, \"Default Neural Net\")"
   ]
  },
  {
   "cell_type": "code",
   "execution_count": 5,
   "metadata": {},
   "outputs": [
    {
     "name": "stdout",
     "output_type": "stream",
     "text": [
      "Model 'Default Neural Net' recorded successfully!\n"
     ]
    }
   ],
   "source": [
    "# Record default model performance\n",
    "default_test_metrics = {\n",
    "    \"accuracy\": accuracy_score(y_test, best_model_phase1.predict(X_test)),\n",
    "    \"precision\": precision_score(y_test, best_model_phase1.predict(X_test), average='weighted'),\n",
    "    \"recall\": recall_score(y_test, best_model_phase1.predict(X_test), average='weighted')\n",
    "}\n",
    "record_trained_model(\"Default Neural Net\", {}, np.nan, default_test_metrics)"
   ]
  },
  {
   "cell_type": "code",
   "execution_count": 6,
   "metadata": {},
   "outputs": [
    {
     "data": {
      "text/html": [
       "<div>\n",
       "<style scoped>\n",
       "    .dataframe tbody tr th:only-of-type {\n",
       "        vertical-align: middle;\n",
       "    }\n",
       "\n",
       "    .dataframe tbody tr th {\n",
       "        vertical-align: top;\n",
       "    }\n",
       "\n",
       "    .dataframe thead th {\n",
       "        text-align: right;\n",
       "    }\n",
       "</style>\n",
       "<table border=\"1\" class=\"dataframe\">\n",
       "  <thead>\n",
       "    <tr style=\"text-align: right;\">\n",
       "      <th></th>\n",
       "      <th>Model Name</th>\n",
       "      <th>Hyperparameters</th>\n",
       "      <th>Test Accuracy</th>\n",
       "      <th>Test Precision</th>\n",
       "      <th>Test Recall</th>\n",
       "    </tr>\n",
       "  </thead>\n",
       "  <tbody>\n",
       "    <tr>\n",
       "      <th>0</th>\n",
       "      <td>Default Neural Net</td>\n",
       "      <td>{}</td>\n",
       "      <td>88.46%</td>\n",
       "      <td>88.56%</td>\n",
       "      <td>88.46%</td>\n",
       "    </tr>\n",
       "  </tbody>\n",
       "</table>\n",
       "</div>"
      ],
      "text/plain": [
       "           Model Name Hyperparameters Test Accuracy Test Precision Test Recall\n",
       "0  Default Neural Net              {}        88.46%         88.56%      88.46%"
      ]
     },
     "execution_count": 6,
     "metadata": {},
     "output_type": "execute_result"
    }
   ],
   "source": [
    "model_records"
   ]
  },
  {
   "cell_type": "markdown",
   "metadata": {},
   "source": [
    "### Simple Hyperparameter Tuning\n",
    "- Objective: Experiment with a small grid of hyperparameters.\n",
    "- Purpose: Improves performance with minimal computational cost."
   ]
  },
  {
   "cell_type": "code",
   "execution_count": 7,
   "metadata": {},
   "outputs": [
    {
     "name": "stdout",
     "output_type": "stream",
     "text": [
      "\n",
      "Phase 2: Apply Simple Hyperparameter Tuning\n"
     ]
    },
    {
     "name": "stdout",
     "output_type": "stream",
     "text": [
      "\n",
      "--- RandomizedSearchCV (Tuned Neural Net (Simple Hyperparameter)) ---\n",
      "RandomizedSearchCV(cv=StratifiedKFold(n_splits=5, random_state=123, shuffle=True),\n",
      "                   estimator=MLPClassifier(random_state=123),\n",
      "                   param_distributions={'activation': ['relu'],\n",
      "                                        'alpha': [0.0001],\n",
      "                                        'hidden_layer_sizes': [(10,), (50,)],\n",
      "                                        'max_iter': [100], 'solver': ['adam']},\n",
      "                   random_state=123, return_train_score=True,\n",
      "                   scoring='accuracy')\n",
      "\n",
      "--- Cross-Validation Results (Tuned Neural Net (Simple Hyperparameter)) ---\n",
      "The best parameters are: {'solver': 'adam', 'max_iter': 100, 'hidden_layer_sizes': (10,), 'alpha': 0.0001, 'activation': 'relu'}\n",
      "Mean cross-validation accuracy: 77.53%\n",
      "\n",
      "--- Test Results ---\n",
      "Accuracy: 83.08%\n",
      "Precision: 82.27%\n",
      "Recall: 83.08%\n"
     ]
    }
   ],
   "source": [
    "# Simple Parameter Grid\n",
    "param_grid_simple = {\n",
    "    'hidden_layer_sizes': [(10,), (50,)],\n",
    "    'activation': ['relu'],\n",
    "    'solver': ['adam'],\n",
    "    'alpha': [0.0001],\n",
    "    'max_iter': [100]\n",
    "}\n",
    "\n",
    "print(\"\\nPhase 2: Apply Simple Hyperparameter Tuning\")\n",
    "best_model_phase2 = run_classifier(MLPClassifier(random_state=123), param_grid_simple, X_train, y_train, X_test, y_test, \"Tuned Neural Net (Simple Hyperparameter)\")"
   ]
  },
  {
   "cell_type": "code",
   "execution_count": 8,
   "metadata": {},
   "outputs": [
    {
     "name": "stdout",
     "output_type": "stream",
     "text": [
      "Model 'Tuned Neural Net (Simple Hyperparameter)' recorded successfully!\n"
     ]
    }
   ],
   "source": [
    "# Record simple hyperparameter tuning model performance\n",
    "simple_test_metrics = {\n",
    "    \"accuracy\": accuracy_score(y_test, best_model_phase2.predict(X_test)),\n",
    "    \"precision\": precision_score(y_test, best_model_phase2.predict(X_test), average='weighted'),\n",
    "    \"recall\": recall_score(y_test, best_model_phase2.predict(X_test), average='weighted')\n",
    "}\n",
    "record_trained_model(\"Tuned Neural Net (Simple Hyperparameter)\", best_model_phase2.get_params(), np.nan, simple_test_metrics)"
   ]
  },
  {
   "cell_type": "code",
   "execution_count": 9,
   "metadata": {},
   "outputs": [
    {
     "data": {
      "text/html": [
       "<div>\n",
       "<style scoped>\n",
       "    .dataframe tbody tr th:only-of-type {\n",
       "        vertical-align: middle;\n",
       "    }\n",
       "\n",
       "    .dataframe tbody tr th {\n",
       "        vertical-align: top;\n",
       "    }\n",
       "\n",
       "    .dataframe thead th {\n",
       "        text-align: right;\n",
       "    }\n",
       "</style>\n",
       "<table border=\"1\" class=\"dataframe\">\n",
       "  <thead>\n",
       "    <tr style=\"text-align: right;\">\n",
       "      <th></th>\n",
       "      <th>Model Name</th>\n",
       "      <th>Hyperparameters</th>\n",
       "      <th>Test Accuracy</th>\n",
       "      <th>Test Precision</th>\n",
       "      <th>Test Recall</th>\n",
       "    </tr>\n",
       "  </thead>\n",
       "  <tbody>\n",
       "    <tr>\n",
       "      <th>0</th>\n",
       "      <td>Default Neural Net</td>\n",
       "      <td>{}</td>\n",
       "      <td>88.46%</td>\n",
       "      <td>88.56%</td>\n",
       "      <td>88.46%</td>\n",
       "    </tr>\n",
       "    <tr>\n",
       "      <th>1</th>\n",
       "      <td>Tuned Neural Net (Simple Hyperparameter)</td>\n",
       "      <td>{'activation': 'relu', 'alpha': 0.0001, 'batch...</td>\n",
       "      <td>83.08%</td>\n",
       "      <td>82.27%</td>\n",
       "      <td>83.08%</td>\n",
       "    </tr>\n",
       "  </tbody>\n",
       "</table>\n",
       "</div>"
      ],
      "text/plain": [
       "                                 Model Name  \\\n",
       "0                        Default Neural Net   \n",
       "1  Tuned Neural Net (Simple Hyperparameter)   \n",
       "\n",
       "                                     Hyperparameters Test Accuracy  \\\n",
       "0                                                 {}        88.46%   \n",
       "1  {'activation': 'relu', 'alpha': 0.0001, 'batch...        83.08%   \n",
       "\n",
       "  Test Precision Test Recall  \n",
       "0         88.56%      88.46%  \n",
       "1         82.27%      83.08%  "
      ]
     },
     "execution_count": 9,
     "metadata": {},
     "output_type": "execute_result"
    }
   ],
   "source": [
    "model_records"
   ]
  },
  {
   "cell_type": "markdown",
   "metadata": {},
   "source": [
    "### Advanced Hyperparameter Tuning\n",
    "- Objective: Use an expanded parameter grid for more robust tuning.\n",
    "- Purpose: Optimizes the model for higher accuracy, precision, and recall."
   ]
  },
  {
   "cell_type": "code",
   "execution_count": 10,
   "metadata": {},
   "outputs": [
    {
     "name": "stdout",
     "output_type": "stream",
     "text": [
      "\n",
      "Advanced Hyperparameter Tuning\n"
     ]
    },
    {
     "name": "stdout",
     "output_type": "stream",
     "text": [
      "\n",
      "--- RandomizedSearchCV (Tuned Neural Net (Advanced HyperParameter)) ---\n",
      "RandomizedSearchCV(cv=StratifiedKFold(n_splits=5, random_state=123, shuffle=True),\n",
      "                   estimator=MLPClassifier(random_state=123),\n",
      "                   param_distributions={'activation': ['relu', 'tanh'],\n",
      "                                        'alpha': [0.0001, 0.001, 0.01],\n",
      "                                        'hidden_layer_sizes': [(10,), (50,),\n",
      "                                                               (100,)],\n",
      "                                        'learning_rate': ['constant',\n",
      "                                                          'adaptive'],\n",
      "                                        'max_iter': [200, 500],\n",
      "                                        'solver': ['adam', 'sgd']},\n",
      "                   random_state=123, return_train_score=True,\n",
      "                   scoring='accuracy')\n",
      "\n",
      "--- Cross-Validation Results (Tuned Neural Net (Advanced HyperParameter)) ---\n",
      "The best parameters are: {'solver': 'adam', 'max_iter': 200, 'learning_rate': 'constant', 'hidden_layer_sizes': (10,), 'alpha': 0.001, 'activation': 'relu'}\n",
      "Mean cross-validation accuracy: 84.02%\n",
      "\n",
      "--- Test Results ---\n",
      "Accuracy: 87.01%\n",
      "Precision: 86.62%\n",
      "Recall: 87.01%\n"
     ]
    }
   ],
   "source": [
    "# Advanced Parameter Grid\n",
    "param_grid_advanced = {\n",
    "    'hidden_layer_sizes': [(10,), (50,), (100,)],\n",
    "    'activation': ['relu', 'tanh'],\n",
    "    'solver': ['adam', 'sgd'],\n",
    "    'alpha': [0.0001, 0.001, 0.01],\n",
    "    'learning_rate': ['constant', 'adaptive'],\n",
    "    'max_iter': [200, 500]\n",
    "}\n",
    "\n",
    "print(\"\\nAdvanced Hyperparameter Tuning\")\n",
    "best_model_phase3 = run_classifier(MLPClassifier(random_state=123), param_grid_advanced, X_train, y_train, X_test, y_test, \"Tuned Neural Net (Advanced HyperParameter)\")"
   ]
  },
  {
   "cell_type": "code",
   "execution_count": 11,
   "metadata": {},
   "outputs": [
    {
     "name": "stdout",
     "output_type": "stream",
     "text": [
      "Model 'Tuned Neural Net (Advanced HyperParameter)' recorded successfully!\n"
     ]
    }
   ],
   "source": [
    "# Record advanced hyperparameter tuning model performance\n",
    "advanced_test_metrics = {\n",
    "    \"accuracy\": accuracy_score(y_test, best_model_phase3.predict(X_test)),\n",
    "    \"precision\": precision_score(y_test, best_model_phase3.predict(X_test), average='weighted'),\n",
    "    \"recall\": recall_score(y_test, best_model_phase3.predict(X_test), average='weighted')\n",
    "}\n",
    "record_trained_model(\"Tuned Neural Net (Advanced HyperParameter)\", best_model_phase3.get_params(), np.nan, advanced_test_metrics)"
   ]
  },
  {
   "cell_type": "code",
   "execution_count": 12,
   "metadata": {},
   "outputs": [
    {
     "data": {
      "text/html": [
       "<div>\n",
       "<style scoped>\n",
       "    .dataframe tbody tr th:only-of-type {\n",
       "        vertical-align: middle;\n",
       "    }\n",
       "\n",
       "    .dataframe tbody tr th {\n",
       "        vertical-align: top;\n",
       "    }\n",
       "\n",
       "    .dataframe thead th {\n",
       "        text-align: right;\n",
       "    }\n",
       "</style>\n",
       "<table border=\"1\" class=\"dataframe\">\n",
       "  <thead>\n",
       "    <tr style=\"text-align: right;\">\n",
       "      <th></th>\n",
       "      <th>Model Name</th>\n",
       "      <th>Hyperparameters</th>\n",
       "      <th>Test Accuracy</th>\n",
       "      <th>Test Precision</th>\n",
       "      <th>Test Recall</th>\n",
       "    </tr>\n",
       "  </thead>\n",
       "  <tbody>\n",
       "    <tr>\n",
       "      <th>0</th>\n",
       "      <td>Default Neural Net</td>\n",
       "      <td>{}</td>\n",
       "      <td>88.46%</td>\n",
       "      <td>88.56%</td>\n",
       "      <td>88.46%</td>\n",
       "    </tr>\n",
       "    <tr>\n",
       "      <th>1</th>\n",
       "      <td>Tuned Neural Net (Simple Hyperparameter)</td>\n",
       "      <td>{'activation': 'relu', 'alpha': 0.0001, 'batch...</td>\n",
       "      <td>83.08%</td>\n",
       "      <td>82.27%</td>\n",
       "      <td>83.08%</td>\n",
       "    </tr>\n",
       "    <tr>\n",
       "      <th>2</th>\n",
       "      <td>Tuned Neural Net (Advanced HyperParameter)</td>\n",
       "      <td>{'activation': 'relu', 'alpha': 0.001, 'batch_...</td>\n",
       "      <td>87.01%</td>\n",
       "      <td>86.62%</td>\n",
       "      <td>87.01%</td>\n",
       "    </tr>\n",
       "  </tbody>\n",
       "</table>\n",
       "</div>"
      ],
      "text/plain": [
       "                                   Model Name  \\\n",
       "0                          Default Neural Net   \n",
       "1    Tuned Neural Net (Simple Hyperparameter)   \n",
       "2  Tuned Neural Net (Advanced HyperParameter)   \n",
       "\n",
       "                                     Hyperparameters Test Accuracy  \\\n",
       "0                                                 {}        88.46%   \n",
       "1  {'activation': 'relu', 'alpha': 0.0001, 'batch...        83.08%   \n",
       "2  {'activation': 'relu', 'alpha': 0.001, 'batch_...        87.01%   \n",
       "\n",
       "  Test Precision Test Recall  \n",
       "0         88.56%      88.46%  \n",
       "1         82.27%      83.08%  \n",
       "2         86.62%      87.01%  "
      ]
     },
     "execution_count": 12,
     "metadata": {},
     "output_type": "execute_result"
    }
   ],
   "source": [
    "model_records"
   ]
  },
  {
   "cell_type": "markdown",
   "metadata": {},
   "source": [
    "### Full Hyperparameter Grid\n",
    "- Objective: Tune the MLPClassifier with all possible parameters for maximum performance.\n",
    "- Purpose: Achieve the best possible model, but at higher computational cost."
   ]
  },
  {
   "cell_type": "code",
   "execution_count": 13,
   "metadata": {},
   "outputs": [
    {
     "name": "stdout",
     "output_type": "stream",
     "text": [
      "\n",
      "Full Hyperparameter Grid"
     ]
    },
    {
     "name": "stdout",
     "output_type": "stream",
     "text": [
      "\n",
      "\n",
      "--- RandomizedSearchCV (Full Hyperparameter Neural Net) ---\n",
      "RandomizedSearchCV(cv=StratifiedKFold(n_splits=5, random_state=123, shuffle=True),\n",
      "                   estimator=MLPClassifier(random_state=123),\n",
      "                   param_distributions={'activation': ['identity', 'logistic',\n",
      "                                                       'tanh', 'relu'],\n",
      "                                        'alpha': array([1.e-05, 1.e-03, 1.e-01, 1.e+01, 1.e+03]),\n",
      "                                        'hidden_layer_sizes': [(10,), (50,),\n",
      "                                                               (10, 10),\n",
      "                                                               (50, 50)],\n",
      "                                        'learning_rate': ['constant',\n",
      "                                                          'invscaling',\n",
      "                                                          'adaptive'],\n",
      "                                        'max_iter': [100, 500, 1000],\n",
      "                                        'solver': ['lbfgs', 'sgd', 'adam']},\n",
      "                   random_state=123, return_train_score=True,\n",
      "                   scoring='accuracy')\n",
      "\n",
      "--- Cross-Validation Results (Full Hyperparameter Neural Net) ---\n",
      "The best parameters are: {'solver': 'lbfgs', 'max_iter': 1000, 'learning_rate': 'invscaling', 'hidden_layer_sizes': (50, 50), 'alpha': 1e-05, 'activation': 'identity'}\n",
      "Mean cross-validation accuracy: 88.65%\n",
      "\n",
      "--- Test Results ---\n",
      "Accuracy: 89.74%\n",
      "Precision: 89.90%\n",
      "Recall: 89.74%\n"
     ]
    }
   ],
   "source": [
    "param_grid_all = {'hidden_layer_sizes': [(10,), (50,), (10, 10), (50, 50)],\n",
    "             'activation': ['identity', 'logistic', 'tanh', 'relu'],\n",
    "             'solver': ['lbfgs', 'sgd', 'adam'],\n",
    "             'alpha': np.logspace(-5, 3, 5),\n",
    "             'learning_rate': ['constant', 'invscaling','adaptive'],\n",
    "             'max_iter': [100, 500, 1000]}\n",
    "\n",
    "print(\"\\nFull Hyperparameter Grid\")\n",
    "best_model_phase4 = run_classifier(MLPClassifier(random_state=123), param_grid_all,  X_train, y_train, X_test, y_test, 'Full Hyperparameter Neural Net')"
   ]
  },
  {
   "cell_type": "code",
   "execution_count": 14,
   "metadata": {},
   "outputs": [
    {
     "name": "stdout",
     "output_type": "stream",
     "text": [
      "Model 'Full Hyperparameter Neural Net' recorded successfully!\n"
     ]
    }
   ],
   "source": [
    "# Record full hyperparameter tuning model performance\n",
    "full_test_metrics = {\n",
    "    \"accuracy\": accuracy_score(y_test, best_model_phase4.predict(X_test)),\n",
    "    \"precision\": precision_score(y_test, best_model_phase4.predict(X_test), average='weighted'),\n",
    "    \"recall\": recall_score(y_test, best_model_phase4.predict(X_test), average='weighted')\n",
    "}\n",
    "record_trained_model(\"Full Hyperparameter Neural Net\", best_model_phase4.get_params(), np.nan, full_test_metrics)"
   ]
  },
  {
   "cell_type": "code",
   "execution_count": 15,
   "metadata": {},
   "outputs": [
    {
     "data": {
      "text/html": [
       "<div>\n",
       "<style scoped>\n",
       "    .dataframe tbody tr th:only-of-type {\n",
       "        vertical-align: middle;\n",
       "    }\n",
       "\n",
       "    .dataframe tbody tr th {\n",
       "        vertical-align: top;\n",
       "    }\n",
       "\n",
       "    .dataframe thead th {\n",
       "        text-align: right;\n",
       "    }\n",
       "</style>\n",
       "<table border=\"1\" class=\"dataframe\">\n",
       "  <thead>\n",
       "    <tr style=\"text-align: right;\">\n",
       "      <th></th>\n",
       "      <th>Model Name</th>\n",
       "      <th>Hyperparameters</th>\n",
       "      <th>Test Accuracy</th>\n",
       "      <th>Test Precision</th>\n",
       "      <th>Test Recall</th>\n",
       "    </tr>\n",
       "  </thead>\n",
       "  <tbody>\n",
       "    <tr>\n",
       "      <th>0</th>\n",
       "      <td>Default Neural Net</td>\n",
       "      <td>{}</td>\n",
       "      <td>88.46%</td>\n",
       "      <td>88.56%</td>\n",
       "      <td>88.46%</td>\n",
       "    </tr>\n",
       "    <tr>\n",
       "      <th>1</th>\n",
       "      <td>Tuned Neural Net (Simple Hyperparameter)</td>\n",
       "      <td>{'activation': 'relu', 'alpha': 0.0001, 'batch...</td>\n",
       "      <td>83.08%</td>\n",
       "      <td>82.27%</td>\n",
       "      <td>83.08%</td>\n",
       "    </tr>\n",
       "    <tr>\n",
       "      <th>2</th>\n",
       "      <td>Tuned Neural Net (Advanced HyperParameter)</td>\n",
       "      <td>{'activation': 'relu', 'alpha': 0.001, 'batch_...</td>\n",
       "      <td>87.01%</td>\n",
       "      <td>86.62%</td>\n",
       "      <td>87.01%</td>\n",
       "    </tr>\n",
       "    <tr>\n",
       "      <th>3</th>\n",
       "      <td>Full Hyperparameter Neural Net</td>\n",
       "      <td>{'activation': 'identity', 'alpha': 1e-05, 'ba...</td>\n",
       "      <td>89.74%</td>\n",
       "      <td>89.90%</td>\n",
       "      <td>89.74%</td>\n",
       "    </tr>\n",
       "  </tbody>\n",
       "</table>\n",
       "</div>"
      ],
      "text/plain": [
       "                                   Model Name  \\\n",
       "0                          Default Neural Net   \n",
       "1    Tuned Neural Net (Simple Hyperparameter)   \n",
       "2  Tuned Neural Net (Advanced HyperParameter)   \n",
       "3              Full Hyperparameter Neural Net   \n",
       "\n",
       "                                     Hyperparameters Test Accuracy  \\\n",
       "0                                                 {}        88.46%   \n",
       "1  {'activation': 'relu', 'alpha': 0.0001, 'batch...        83.08%   \n",
       "2  {'activation': 'relu', 'alpha': 0.001, 'batch_...        87.01%   \n",
       "3  {'activation': 'identity', 'alpha': 1e-05, 'ba...        89.74%   \n",
       "\n",
       "  Test Precision Test Recall  \n",
       "0         88.56%      88.46%  \n",
       "1         82.27%      83.08%  \n",
       "2         86.62%      87.01%  \n",
       "3         89.90%      89.74%  "
      ]
     },
     "execution_count": 15,
     "metadata": {},
     "output_type": "execute_result"
    }
   ],
   "source": [
    "model_records"
   ]
  },
  {
   "cell_type": "markdown",
   "metadata": {},
   "source": [
    "### Hyperparameter Tuning with Optuna\n",
    "- Objective: Tune the MLPClassifier with best hyperparameter found by from optuna\n",
    "- Purpose: Achieve the best possible model, with lower computational cost."
   ]
  },
  {
   "cell_type": "code",
   "execution_count": 16,
   "metadata": {},
   "outputs": [],
   "source": [
    "# Objective function for Optuna\n",
    "def objective(trial):\n",
    "    # Define the hyperparameter search space\n",
    "    hidden_layer_sizes = trial.suggest_categorical(\"hidden_layer_sizes\", [(10,), (50,), (10, 10), (50, 50)])\n",
    "    activation = trial.suggest_categorical(\"activation\", ['identity', 'logistic', 'tanh', 'relu'])\n",
    "    solver = trial.suggest_categorical(\"solver\", ['lbfgs', 'sgd', 'adam'])\n",
    "    alpha = trial.suggest_float(\"alpha\", 1e-5, 1e3, log=True)\n",
    "    learning_rate = trial.suggest_categorical(\"learning_rate\", ['constant', 'invscaling', 'adaptive'])\n",
    "    max_iter = trial.suggest_categorical(\"max_iter\", [100, 500, 1000])\n",
    "\n",
    "    # Create and evaluate the model\n",
    "    model = MLPClassifier(\n",
    "        hidden_layer_sizes=hidden_layer_sizes,\n",
    "        activation=activation,\n",
    "        solver=solver,\n",
    "        alpha=alpha,\n",
    "        learning_rate=learning_rate,\n",
    "        max_iter=max_iter,\n",
    "        random_state=123\n",
    "    )\n",
    "\n",
    "    # Use cross-validation to evaluate the model\n",
    "    cv_scores = cross_val_score(model, X_train, y_train, cv=5, scoring=\"accuracy\")\n",
    "    mean_cv_score = np.mean(cv_scores)\n",
    "\n",
    "    return mean_cv_score"
   ]
  },
  {
   "cell_type": "code",
   "execution_count": 17,
   "metadata": {},
   "outputs": [
    {
     "name": "stderr",
     "output_type": "stream",
     "text": [
      "[I 2024-12-29 13:12:15,556] A new study created in memory with name: no-name-0bb9c049-dedd-4ac6-89e6-e323e4e7f51f\n"
     ]
    },
    {
     "name": "stderr",
     "output_type": "stream",
     "text": [
      "[I 2024-12-29 13:13:45,804] Trial 0 finished with value: 0.8751404653219008 and parameters: {'hidden_layer_sizes': (10, 10), 'activation': 'logistic', 'solver': 'lbfgs', 'alpha': 0.10980121841013941, 'learning_rate': 'adaptive', 'max_iter': 500}. Best is trial 0 with value: 0.8751404653219008.\n",
      "[I 2024-12-29 13:15:21,405] Trial 1 finished with value: 0.8759425184545474 and parameters: {'hidden_layer_sizes': (50, 50), 'activation': 'identity', 'solver': 'adam', 'alpha': 0.0009033291628834242, 'learning_rate': 'adaptive', 'max_iter': 500}. Best is trial 1 with value: 0.8759425184545474.\n",
      "[I 2024-12-29 13:15:28,859] Trial 2 finished with value: 0.870011617625892 and parameters: {'hidden_layer_sizes': (10,), 'activation': 'identity', 'solver': 'lbfgs', 'alpha': 0.05960072180342096, 'learning_rate': 'constant', 'max_iter': 100}. Best is trial 1 with value: 0.8759425184545474.\n",
      "[I 2024-12-29 13:15:31,641] Trial 3 finished with value: 0.2502003526412107 and parameters: {'hidden_layer_sizes': (10,), 'activation': 'tanh', 'solver': 'lbfgs', 'alpha': 748.3414810517763, 'learning_rate': 'constant', 'max_iter': 1000}. Best is trial 1 with value: 0.8759425184545474.\n",
      "[I 2024-12-29 13:17:15,644] Trial 4 finished with value: 0.3894857915407234 and parameters: {'hidden_layer_sizes': (10,), 'activation': 'logistic', 'solver': 'sgd', 'alpha': 0.0037496207897025364, 'learning_rate': 'constant', 'max_iter': 500}. Best is trial 1 with value: 0.8759425184545474.\n",
      "[I 2024-12-29 13:17:53,356] Trial 5 finished with value: 0.09312619517611498 and parameters: {'hidden_layer_sizes': (50, 50), 'activation': 'identity', 'solver': 'sgd', 'alpha': 0.1743787347242376, 'learning_rate': 'invscaling', 'max_iter': 100}. Best is trial 1 with value: 0.8759425184545474.\n",
      "[I 2024-12-29 13:19:04,999] Trial 6 finished with value: 0.10482452758415069 and parameters: {'hidden_layer_sizes': (10, 10), 'activation': 'tanh', 'solver': 'sgd', 'alpha': 153.4963289406935, 'learning_rate': 'adaptive', 'max_iter': 1000}. Best is trial 1 with value: 0.8759425184545474.\n",
      "[I 2024-12-29 13:19:21,401] Trial 7 finished with value: 0.7387347582916949 and parameters: {'hidden_layer_sizes': (10, 10), 'activation': 'logistic', 'solver': 'lbfgs', 'alpha': 0.00017171072908839485, 'learning_rate': 'adaptive', 'max_iter': 100}. Best is trial 1 with value: 0.8759425184545474.\n",
      "[I 2024-12-29 13:19:36,430] Trial 8 finished with value: 0.2248761129274361 and parameters: {'hidden_layer_sizes': (50, 50), 'activation': 'tanh', 'solver': 'lbfgs', 'alpha': 797.1608008492997, 'learning_rate': 'invscaling', 'max_iter': 1000}. Best is trial 1 with value: 0.8759425184545474.\n",
      "[I 2024-12-29 13:19:40,894] Trial 9 finished with value: 0.06042630518372298 and parameters: {'hidden_layer_sizes': (10, 10), 'activation': 'logistic', 'solver': 'sgd', 'alpha': 0.0018149550104388204, 'learning_rate': 'invscaling', 'max_iter': 500}. Best is trial 1 with value: 0.8759425184545474.\n",
      "[I 2024-12-29 13:23:10,124] Trial 10 finished with value: 0.8236900612752658 and parameters: {'hidden_layer_sizes': (50,), 'activation': 'relu', 'solver': 'adam', 'alpha': 1.561557414115582e-05, 'learning_rate': 'adaptive', 'max_iter': 500}. Best is trial 1 with value: 0.8759425184545474.\n",
      "[I 2024-12-29 13:25:10,114] Trial 11 finished with value: 0.8608737894022577 and parameters: {'hidden_layer_sizes': (50, 50), 'activation': 'identity', 'solver': 'adam', 'alpha': 1.4886166749632221, 'learning_rate': 'adaptive', 'max_iter': 500}. Best is trial 1 with value: 0.8759425184545474.\n",
      "[I 2024-12-29 13:26:40,047] Trial 12 finished with value: 0.5600255999013016 and parameters: {'hidden_layer_sizes': (50,), 'activation': 'relu', 'solver': 'adam', 'alpha': 6.467474745842803, 'learning_rate': 'adaptive', 'max_iter': 500}. Best is trial 1 with value: 0.8759425184545474.\n",
      "[I 2024-12-29 13:29:00,280] Trial 13 finished with value: 0.8543026340139411 and parameters: {'hidden_layer_sizes': (10, 10), 'activation': 'logistic', 'solver': 'adam', 'alpha': 0.009694145098934574, 'learning_rate': 'adaptive', 'max_iter': 500}. Best is trial 1 with value: 0.8759425184545474.\n",
      "[I 2024-12-29 13:30:26,461] Trial 14 finished with value: 0.8906893210371558 and parameters: {'hidden_layer_sizes': (50, 50), 'activation': 'identity', 'solver': 'lbfgs', 'alpha': 0.0002712909526978834, 'learning_rate': 'adaptive', 'max_iter': 500}. Best is trial 14 with value: 0.8906893210371558.\n",
      "[I 2024-12-29 13:31:56,427] Trial 15 finished with value: 0.8761027748648038 and parameters: {'hidden_layer_sizes': (50, 50), 'activation': 'identity', 'solver': 'adam', 'alpha': 0.00011104439435765142, 'learning_rate': 'adaptive', 'max_iter': 500}. Best is trial 14 with value: 0.8906893210371558.\n",
      "[I 2024-12-29 13:33:27,045] Trial 16 finished with value: 0.8897282966298604 and parameters: {'hidden_layer_sizes': (50, 50), 'activation': 'identity', 'solver': 'lbfgs', 'alpha': 1.216822388570705e-05, 'learning_rate': 'adaptive', 'max_iter': 500}. Best is trial 14 with value: 0.8906893210371558.\n",
      "[I 2024-12-29 13:34:54,891] Trial 17 finished with value: 0.8902085518063867 and parameters: {'hidden_layer_sizes': (50, 50), 'activation': 'identity', 'solver': 'lbfgs', 'alpha': 1.0268762521509097e-05, 'learning_rate': 'adaptive', 'max_iter': 500}. Best is trial 14 with value: 0.8906893210371558.\n",
      "[I 2024-12-29 13:38:21,742] Trial 18 finished with value: 0.8828358573396665 and parameters: {'hidden_layer_sizes': (50, 50), 'activation': 'identity', 'solver': 'lbfgs', 'alpha': 0.00010345211503960826, 'learning_rate': 'constant', 'max_iter': 1000}. Best is trial 14 with value: 0.8906893210371558.\n",
      "[I 2024-12-29 13:38:40,837] Trial 19 finished with value: 0.8613572574178028 and parameters: {'hidden_layer_sizes': (50, 50), 'activation': 'identity', 'solver': 'lbfgs', 'alpha': 0.0004077737895770731, 'learning_rate': 'invscaling', 'max_iter': 100}. Best is trial 14 with value: 0.8906893210371558.\n"
     ]
    }
   ],
   "source": [
    "# Run Optuna study\n",
    "study = optuna.create_study(direction=\"maximize\")\n",
    "study.optimize(objective, n_trials=20)"
   ]
  },
  {
   "cell_type": "code",
   "execution_count": 18,
   "metadata": {},
   "outputs": [
    {
     "name": "stdout",
     "output_type": "stream",
     "text": [
      "\n",
      "Best Hyperparameters: {'hidden_layer_sizes': (50, 50), 'activation': 'identity', 'solver': 'lbfgs', 'alpha': 0.0002712909526978834, 'learning_rate': 'adaptive', 'max_iter': 500}\n"
     ]
    }
   ],
   "source": [
    "# Extract the best parameters\n",
    "best_params = study.best_params\n",
    "print(\"\\nBest Hyperparameters:\", best_params)"
   ]
  },
  {
   "cell_type": "code",
   "execution_count": 27,
   "metadata": {},
   "outputs": [
    {
     "data": {
      "application/vnd.plotly.v1+json": {
       "config": {
        "plotlyServerURL": "https://plot.ly"
       },
       "data": [
        {
         "mode": "markers",
         "name": "Objective Value",
         "type": "scatter",
         "x": [
          0,
          1,
          2,
          3,
          4,
          5,
          6,
          7,
          8,
          9,
          10,
          11,
          12,
          13,
          14,
          15,
          16,
          17,
          18,
          19
         ],
         "y": [
          0.8751404653219008,
          0.8759425184545474,
          0.870011617625892,
          0.2502003526412107,
          0.3894857915407234,
          0.09312619517611498,
          0.10482452758415069,
          0.7387347582916949,
          0.2248761129274361,
          0.06042630518372298,
          0.8236900612752658,
          0.8608737894022577,
          0.5600255999013016,
          0.8543026340139411,
          0.8906893210371558,
          0.8761027748648038,
          0.8897282966298604,
          0.8902085518063867,
          0.8828358573396665,
          0.8613572574178028
         ]
        },
        {
         "mode": "lines",
         "name": "Best Value",
         "type": "scatter",
         "x": [
          0,
          1,
          2,
          3,
          4,
          5,
          6,
          7,
          8,
          9,
          10,
          11,
          12,
          13,
          14,
          15,
          16,
          17,
          18,
          19
         ],
         "y": [
          0.8751404653219008,
          0.8759425184545474,
          0.8759425184545474,
          0.8759425184545474,
          0.8759425184545474,
          0.8759425184545474,
          0.8759425184545474,
          0.8759425184545474,
          0.8759425184545474,
          0.8759425184545474,
          0.8759425184545474,
          0.8759425184545474,
          0.8759425184545474,
          0.8759425184545474,
          0.8906893210371558,
          0.8906893210371558,
          0.8906893210371558,
          0.8906893210371558,
          0.8906893210371558,
          0.8906893210371558
         ]
        },
        {
         "marker": {
          "color": "#cccccc"
         },
         "mode": "markers",
         "name": "Infeasible Trial",
         "showlegend": false,
         "type": "scatter",
         "x": [],
         "y": []
        }
       ],
       "layout": {
        "template": {
         "data": {
          "bar": [
           {
            "error_x": {
             "color": "#2a3f5f"
            },
            "error_y": {
             "color": "#2a3f5f"
            },
            "marker": {
             "line": {
              "color": "#E5ECF6",
              "width": 0.5
             },
             "pattern": {
              "fillmode": "overlay",
              "size": 10,
              "solidity": 0.2
             }
            },
            "type": "bar"
           }
          ],
          "barpolar": [
           {
            "marker": {
             "line": {
              "color": "#E5ECF6",
              "width": 0.5
             },
             "pattern": {
              "fillmode": "overlay",
              "size": 10,
              "solidity": 0.2
             }
            },
            "type": "barpolar"
           }
          ],
          "carpet": [
           {
            "aaxis": {
             "endlinecolor": "#2a3f5f",
             "gridcolor": "white",
             "linecolor": "white",
             "minorgridcolor": "white",
             "startlinecolor": "#2a3f5f"
            },
            "baxis": {
             "endlinecolor": "#2a3f5f",
             "gridcolor": "white",
             "linecolor": "white",
             "minorgridcolor": "white",
             "startlinecolor": "#2a3f5f"
            },
            "type": "carpet"
           }
          ],
          "choropleth": [
           {
            "colorbar": {
             "outlinewidth": 0,
             "ticks": ""
            },
            "type": "choropleth"
           }
          ],
          "contour": [
           {
            "colorbar": {
             "outlinewidth": 0,
             "ticks": ""
            },
            "colorscale": [
             [
              0,
              "#0d0887"
             ],
             [
              0.1111111111111111,
              "#46039f"
             ],
             [
              0.2222222222222222,
              "#7201a8"
             ],
             [
              0.3333333333333333,
              "#9c179e"
             ],
             [
              0.4444444444444444,
              "#bd3786"
             ],
             [
              0.5555555555555556,
              "#d8576b"
             ],
             [
              0.6666666666666666,
              "#ed7953"
             ],
             [
              0.7777777777777778,
              "#fb9f3a"
             ],
             [
              0.8888888888888888,
              "#fdca26"
             ],
             [
              1,
              "#f0f921"
             ]
            ],
            "type": "contour"
           }
          ],
          "contourcarpet": [
           {
            "colorbar": {
             "outlinewidth": 0,
             "ticks": ""
            },
            "type": "contourcarpet"
           }
          ],
          "heatmap": [
           {
            "colorbar": {
             "outlinewidth": 0,
             "ticks": ""
            },
            "colorscale": [
             [
              0,
              "#0d0887"
             ],
             [
              0.1111111111111111,
              "#46039f"
             ],
             [
              0.2222222222222222,
              "#7201a8"
             ],
             [
              0.3333333333333333,
              "#9c179e"
             ],
             [
              0.4444444444444444,
              "#bd3786"
             ],
             [
              0.5555555555555556,
              "#d8576b"
             ],
             [
              0.6666666666666666,
              "#ed7953"
             ],
             [
              0.7777777777777778,
              "#fb9f3a"
             ],
             [
              0.8888888888888888,
              "#fdca26"
             ],
             [
              1,
              "#f0f921"
             ]
            ],
            "type": "heatmap"
           }
          ],
          "heatmapgl": [
           {
            "colorbar": {
             "outlinewidth": 0,
             "ticks": ""
            },
            "colorscale": [
             [
              0,
              "#0d0887"
             ],
             [
              0.1111111111111111,
              "#46039f"
             ],
             [
              0.2222222222222222,
              "#7201a8"
             ],
             [
              0.3333333333333333,
              "#9c179e"
             ],
             [
              0.4444444444444444,
              "#bd3786"
             ],
             [
              0.5555555555555556,
              "#d8576b"
             ],
             [
              0.6666666666666666,
              "#ed7953"
             ],
             [
              0.7777777777777778,
              "#fb9f3a"
             ],
             [
              0.8888888888888888,
              "#fdca26"
             ],
             [
              1,
              "#f0f921"
             ]
            ],
            "type": "heatmapgl"
           }
          ],
          "histogram": [
           {
            "marker": {
             "pattern": {
              "fillmode": "overlay",
              "size": 10,
              "solidity": 0.2
             }
            },
            "type": "histogram"
           }
          ],
          "histogram2d": [
           {
            "colorbar": {
             "outlinewidth": 0,
             "ticks": ""
            },
            "colorscale": [
             [
              0,
              "#0d0887"
             ],
             [
              0.1111111111111111,
              "#46039f"
             ],
             [
              0.2222222222222222,
              "#7201a8"
             ],
             [
              0.3333333333333333,
              "#9c179e"
             ],
             [
              0.4444444444444444,
              "#bd3786"
             ],
             [
              0.5555555555555556,
              "#d8576b"
             ],
             [
              0.6666666666666666,
              "#ed7953"
             ],
             [
              0.7777777777777778,
              "#fb9f3a"
             ],
             [
              0.8888888888888888,
              "#fdca26"
             ],
             [
              1,
              "#f0f921"
             ]
            ],
            "type": "histogram2d"
           }
          ],
          "histogram2dcontour": [
           {
            "colorbar": {
             "outlinewidth": 0,
             "ticks": ""
            },
            "colorscale": [
             [
              0,
              "#0d0887"
             ],
             [
              0.1111111111111111,
              "#46039f"
             ],
             [
              0.2222222222222222,
              "#7201a8"
             ],
             [
              0.3333333333333333,
              "#9c179e"
             ],
             [
              0.4444444444444444,
              "#bd3786"
             ],
             [
              0.5555555555555556,
              "#d8576b"
             ],
             [
              0.6666666666666666,
              "#ed7953"
             ],
             [
              0.7777777777777778,
              "#fb9f3a"
             ],
             [
              0.8888888888888888,
              "#fdca26"
             ],
             [
              1,
              "#f0f921"
             ]
            ],
            "type": "histogram2dcontour"
           }
          ],
          "mesh3d": [
           {
            "colorbar": {
             "outlinewidth": 0,
             "ticks": ""
            },
            "type": "mesh3d"
           }
          ],
          "parcoords": [
           {
            "line": {
             "colorbar": {
              "outlinewidth": 0,
              "ticks": ""
             }
            },
            "type": "parcoords"
           }
          ],
          "pie": [
           {
            "automargin": true,
            "type": "pie"
           }
          ],
          "scatter": [
           {
            "fillpattern": {
             "fillmode": "overlay",
             "size": 10,
             "solidity": 0.2
            },
            "type": "scatter"
           }
          ],
          "scatter3d": [
           {
            "line": {
             "colorbar": {
              "outlinewidth": 0,
              "ticks": ""
             }
            },
            "marker": {
             "colorbar": {
              "outlinewidth": 0,
              "ticks": ""
             }
            },
            "type": "scatter3d"
           }
          ],
          "scattercarpet": [
           {
            "marker": {
             "colorbar": {
              "outlinewidth": 0,
              "ticks": ""
             }
            },
            "type": "scattercarpet"
           }
          ],
          "scattergeo": [
           {
            "marker": {
             "colorbar": {
              "outlinewidth": 0,
              "ticks": ""
             }
            },
            "type": "scattergeo"
           }
          ],
          "scattergl": [
           {
            "marker": {
             "colorbar": {
              "outlinewidth": 0,
              "ticks": ""
             }
            },
            "type": "scattergl"
           }
          ],
          "scattermapbox": [
           {
            "marker": {
             "colorbar": {
              "outlinewidth": 0,
              "ticks": ""
             }
            },
            "type": "scattermapbox"
           }
          ],
          "scatterpolar": [
           {
            "marker": {
             "colorbar": {
              "outlinewidth": 0,
              "ticks": ""
             }
            },
            "type": "scatterpolar"
           }
          ],
          "scatterpolargl": [
           {
            "marker": {
             "colorbar": {
              "outlinewidth": 0,
              "ticks": ""
             }
            },
            "type": "scatterpolargl"
           }
          ],
          "scatterternary": [
           {
            "marker": {
             "colorbar": {
              "outlinewidth": 0,
              "ticks": ""
             }
            },
            "type": "scatterternary"
           }
          ],
          "surface": [
           {
            "colorbar": {
             "outlinewidth": 0,
             "ticks": ""
            },
            "colorscale": [
             [
              0,
              "#0d0887"
             ],
             [
              0.1111111111111111,
              "#46039f"
             ],
             [
              0.2222222222222222,
              "#7201a8"
             ],
             [
              0.3333333333333333,
              "#9c179e"
             ],
             [
              0.4444444444444444,
              "#bd3786"
             ],
             [
              0.5555555555555556,
              "#d8576b"
             ],
             [
              0.6666666666666666,
              "#ed7953"
             ],
             [
              0.7777777777777778,
              "#fb9f3a"
             ],
             [
              0.8888888888888888,
              "#fdca26"
             ],
             [
              1,
              "#f0f921"
             ]
            ],
            "type": "surface"
           }
          ],
          "table": [
           {
            "cells": {
             "fill": {
              "color": "#EBF0F8"
             },
             "line": {
              "color": "white"
             }
            },
            "header": {
             "fill": {
              "color": "#C8D4E3"
             },
             "line": {
              "color": "white"
             }
            },
            "type": "table"
           }
          ]
         },
         "layout": {
          "annotationdefaults": {
           "arrowcolor": "#2a3f5f",
           "arrowhead": 0,
           "arrowwidth": 1
          },
          "autotypenumbers": "strict",
          "coloraxis": {
           "colorbar": {
            "outlinewidth": 0,
            "ticks": ""
           }
          },
          "colorscale": {
           "diverging": [
            [
             0,
             "#8e0152"
            ],
            [
             0.1,
             "#c51b7d"
            ],
            [
             0.2,
             "#de77ae"
            ],
            [
             0.3,
             "#f1b6da"
            ],
            [
             0.4,
             "#fde0ef"
            ],
            [
             0.5,
             "#f7f7f7"
            ],
            [
             0.6,
             "#e6f5d0"
            ],
            [
             0.7,
             "#b8e186"
            ],
            [
             0.8,
             "#7fbc41"
            ],
            [
             0.9,
             "#4d9221"
            ],
            [
             1,
             "#276419"
            ]
           ],
           "sequential": [
            [
             0,
             "#0d0887"
            ],
            [
             0.1111111111111111,
             "#46039f"
            ],
            [
             0.2222222222222222,
             "#7201a8"
            ],
            [
             0.3333333333333333,
             "#9c179e"
            ],
            [
             0.4444444444444444,
             "#bd3786"
            ],
            [
             0.5555555555555556,
             "#d8576b"
            ],
            [
             0.6666666666666666,
             "#ed7953"
            ],
            [
             0.7777777777777778,
             "#fb9f3a"
            ],
            [
             0.8888888888888888,
             "#fdca26"
            ],
            [
             1,
             "#f0f921"
            ]
           ],
           "sequentialminus": [
            [
             0,
             "#0d0887"
            ],
            [
             0.1111111111111111,
             "#46039f"
            ],
            [
             0.2222222222222222,
             "#7201a8"
            ],
            [
             0.3333333333333333,
             "#9c179e"
            ],
            [
             0.4444444444444444,
             "#bd3786"
            ],
            [
             0.5555555555555556,
             "#d8576b"
            ],
            [
             0.6666666666666666,
             "#ed7953"
            ],
            [
             0.7777777777777778,
             "#fb9f3a"
            ],
            [
             0.8888888888888888,
             "#fdca26"
            ],
            [
             1,
             "#f0f921"
            ]
           ]
          },
          "colorway": [
           "#636efa",
           "#EF553B",
           "#00cc96",
           "#ab63fa",
           "#FFA15A",
           "#19d3f3",
           "#FF6692",
           "#B6E880",
           "#FF97FF",
           "#FECB52"
          ],
          "font": {
           "color": "#2a3f5f"
          },
          "geo": {
           "bgcolor": "white",
           "lakecolor": "white",
           "landcolor": "#E5ECF6",
           "showlakes": true,
           "showland": true,
           "subunitcolor": "white"
          },
          "hoverlabel": {
           "align": "left"
          },
          "hovermode": "closest",
          "mapbox": {
           "style": "light"
          },
          "paper_bgcolor": "white",
          "plot_bgcolor": "#E5ECF6",
          "polar": {
           "angularaxis": {
            "gridcolor": "white",
            "linecolor": "white",
            "ticks": ""
           },
           "bgcolor": "#E5ECF6",
           "radialaxis": {
            "gridcolor": "white",
            "linecolor": "white",
            "ticks": ""
           }
          },
          "scene": {
           "xaxis": {
            "backgroundcolor": "#E5ECF6",
            "gridcolor": "white",
            "gridwidth": 2,
            "linecolor": "white",
            "showbackground": true,
            "ticks": "",
            "zerolinecolor": "white"
           },
           "yaxis": {
            "backgroundcolor": "#E5ECF6",
            "gridcolor": "white",
            "gridwidth": 2,
            "linecolor": "white",
            "showbackground": true,
            "ticks": "",
            "zerolinecolor": "white"
           },
           "zaxis": {
            "backgroundcolor": "#E5ECF6",
            "gridcolor": "white",
            "gridwidth": 2,
            "linecolor": "white",
            "showbackground": true,
            "ticks": "",
            "zerolinecolor": "white"
           }
          },
          "shapedefaults": {
           "line": {
            "color": "#2a3f5f"
           }
          },
          "ternary": {
           "aaxis": {
            "gridcolor": "white",
            "linecolor": "white",
            "ticks": ""
           },
           "baxis": {
            "gridcolor": "white",
            "linecolor": "white",
            "ticks": ""
           },
           "bgcolor": "#E5ECF6",
           "caxis": {
            "gridcolor": "white",
            "linecolor": "white",
            "ticks": ""
           }
          },
          "title": {
           "x": 0.05
          },
          "xaxis": {
           "automargin": true,
           "gridcolor": "white",
           "linecolor": "white",
           "ticks": "",
           "title": {
            "standoff": 15
           },
           "zerolinecolor": "white",
           "zerolinewidth": 2
          },
          "yaxis": {
           "automargin": true,
           "gridcolor": "white",
           "linecolor": "white",
           "ticks": "",
           "title": {
            "standoff": 15
           },
           "zerolinecolor": "white",
           "zerolinewidth": 2
          }
         }
        },
        "title": {
         "text": "Optimization History Plot"
        },
        "xaxis": {
         "title": {
          "text": "Trial"
         }
        },
        "yaxis": {
         "title": {
          "text": "Objective Value"
         }
        }
       }
      }
     },
     "metadata": {},
     "output_type": "display_data"
    }
   ],
   "source": [
    "optuna.visualization.plot_optimization_history(study)"
   ]
  },
  {
   "cell_type": "code",
   "execution_count": 28,
   "metadata": {},
   "outputs": [
    {
     "data": {
      "application/vnd.plotly.v1+json": {
       "config": {
        "plotlyServerURL": "https://plot.ly"
       },
       "data": [
        {
         "marker": {
          "color": [
           0,
           1,
           2,
           3,
           4,
           5,
           6,
           7,
           8,
           9,
           10,
           11,
           12,
           13,
           14,
           15,
           16,
           17,
           18,
           19
          ],
          "colorbar": {
           "title": {
            "text": "Trial"
           },
           "x": 1,
           "xpad": 40
          },
          "colorscale": [
           [
            0,
            "rgb(247,251,255)"
           ],
           [
            0.125,
            "rgb(222,235,247)"
           ],
           [
            0.25,
            "rgb(198,219,239)"
           ],
           [
            0.375,
            "rgb(158,202,225)"
           ],
           [
            0.5,
            "rgb(107,174,214)"
           ],
           [
            0.625,
            "rgb(66,146,198)"
           ],
           [
            0.75,
            "rgb(33,113,181)"
           ],
           [
            0.875,
            "rgb(8,81,156)"
           ],
           [
            1,
            "rgb(8,48,107)"
           ]
          ],
          "line": {
           "color": "Grey",
           "width": 0.5
          },
          "showscale": true
         },
         "mode": "markers",
         "name": "Feasible Trial",
         "showlegend": false,
         "type": "scatter",
         "x": [
          "logistic",
          "identity",
          "identity",
          "tanh",
          "logistic",
          "identity",
          "tanh",
          "logistic",
          "tanh",
          "logistic",
          "relu",
          "identity",
          "relu",
          "logistic",
          "identity",
          "identity",
          "identity",
          "identity",
          "identity",
          "identity"
         ],
         "xaxis": "x",
         "y": [
          0.8751404653219008,
          0.8759425184545474,
          0.870011617625892,
          0.2502003526412107,
          0.3894857915407234,
          0.09312619517611498,
          0.10482452758415069,
          0.7387347582916949,
          0.2248761129274361,
          0.06042630518372298,
          0.8236900612752658,
          0.8608737894022577,
          0.5600255999013016,
          0.8543026340139411,
          0.8906893210371558,
          0.8761027748648038,
          0.8897282966298604,
          0.8902085518063867,
          0.8828358573396665,
          0.8613572574178028
         ],
         "yaxis": "y"
        },
        {
         "marker": {
          "color": [
           0,
           1,
           2,
           3,
           4,
           5,
           6,
           7,
           8,
           9,
           10,
           11,
           12,
           13,
           14,
           15,
           16,
           17,
           18,
           19
          ],
          "colorbar": {
           "title": {
            "text": "Trial"
           },
           "x": 1,
           "xpad": 40
          },
          "colorscale": [
           [
            0,
            "rgb(247,251,255)"
           ],
           [
            0.125,
            "rgb(222,235,247)"
           ],
           [
            0.25,
            "rgb(198,219,239)"
           ],
           [
            0.375,
            "rgb(158,202,225)"
           ],
           [
            0.5,
            "rgb(107,174,214)"
           ],
           [
            0.625,
            "rgb(66,146,198)"
           ],
           [
            0.75,
            "rgb(33,113,181)"
           ],
           [
            0.875,
            "rgb(8,81,156)"
           ],
           [
            1,
            "rgb(8,48,107)"
           ]
          ],
          "line": {
           "color": "Grey",
           "width": 0.5
          },
          "showscale": false
         },
         "mode": "markers",
         "name": "Feasible Trial",
         "showlegend": false,
         "type": "scatter",
         "x": [
          0.10980121841013941,
          0.0009033291628834242,
          0.05960072180342096,
          748.3414810517763,
          0.0037496207897025364,
          0.1743787347242376,
          153.4963289406935,
          0.00017171072908839485,
          797.1608008492997,
          0.0018149550104388204,
          0.00001561557414115582,
          1.4886166749632221,
          6.467474745842803,
          0.009694145098934574,
          0.0002712909526978834,
          0.00011104439435765142,
          0.00001216822388570705,
          0.000010268762521509097,
          0.00010345211503960826,
          0.0004077737895770731
         ],
         "xaxis": "x2",
         "y": [
          0.8751404653219008,
          0.8759425184545474,
          0.870011617625892,
          0.2502003526412107,
          0.3894857915407234,
          0.09312619517611498,
          0.10482452758415069,
          0.7387347582916949,
          0.2248761129274361,
          0.06042630518372298,
          0.8236900612752658,
          0.8608737894022577,
          0.5600255999013016,
          0.8543026340139411,
          0.8906893210371558,
          0.8761027748648038,
          0.8897282966298604,
          0.8902085518063867,
          0.8828358573396665,
          0.8613572574178028
         ],
         "yaxis": "y2"
        },
        {
         "marker": {
          "color": [
           0,
           1,
           2,
           3,
           4,
           5,
           6,
           7,
           8,
           9,
           10,
           11,
           12,
           13,
           14,
           15,
           16,
           17,
           18,
           19
          ],
          "colorbar": {
           "title": {
            "text": "Trial"
           },
           "x": 1,
           "xpad": 40
          },
          "colorscale": [
           [
            0,
            "rgb(247,251,255)"
           ],
           [
            0.125,
            "rgb(222,235,247)"
           ],
           [
            0.25,
            "rgb(198,219,239)"
           ],
           [
            0.375,
            "rgb(158,202,225)"
           ],
           [
            0.5,
            "rgb(107,174,214)"
           ],
           [
            0.625,
            "rgb(66,146,198)"
           ],
           [
            0.75,
            "rgb(33,113,181)"
           ],
           [
            0.875,
            "rgb(8,81,156)"
           ],
           [
            1,
            "rgb(8,48,107)"
           ]
          ],
          "line": {
           "color": "Grey",
           "width": 0.5
          },
          "showscale": false
         },
         "mode": "markers",
         "name": "Feasible Trial",
         "showlegend": false,
         "type": "scatter",
         "x": [
          [
           10,
           10
          ],
          [
           50,
           50
          ],
          [
           10
          ],
          [
           10
          ],
          [
           10
          ],
          [
           50,
           50
          ],
          [
           10,
           10
          ],
          [
           10,
           10
          ],
          [
           50,
           50
          ],
          [
           10,
           10
          ],
          [
           50
          ],
          [
           50,
           50
          ],
          [
           50
          ],
          [
           10,
           10
          ],
          [
           50,
           50
          ],
          [
           50,
           50
          ],
          [
           50,
           50
          ],
          [
           50,
           50
          ],
          [
           50,
           50
          ],
          [
           50,
           50
          ]
         ],
         "xaxis": "x3",
         "y": [
          0.8751404653219008,
          0.8759425184545474,
          0.870011617625892,
          0.2502003526412107,
          0.3894857915407234,
          0.09312619517611498,
          0.10482452758415069,
          0.7387347582916949,
          0.2248761129274361,
          0.06042630518372298,
          0.8236900612752658,
          0.8608737894022577,
          0.5600255999013016,
          0.8543026340139411,
          0.8906893210371558,
          0.8761027748648038,
          0.8897282966298604,
          0.8902085518063867,
          0.8828358573396665,
          0.8613572574178028
         ],
         "yaxis": "y3"
        },
        {
         "marker": {
          "color": [
           0,
           1,
           2,
           3,
           4,
           5,
           6,
           7,
           8,
           9,
           10,
           11,
           12,
           13,
           14,
           15,
           16,
           17,
           18,
           19
          ],
          "colorbar": {
           "title": {
            "text": "Trial"
           },
           "x": 1,
           "xpad": 40
          },
          "colorscale": [
           [
            0,
            "rgb(247,251,255)"
           ],
           [
            0.125,
            "rgb(222,235,247)"
           ],
           [
            0.25,
            "rgb(198,219,239)"
           ],
           [
            0.375,
            "rgb(158,202,225)"
           ],
           [
            0.5,
            "rgb(107,174,214)"
           ],
           [
            0.625,
            "rgb(66,146,198)"
           ],
           [
            0.75,
            "rgb(33,113,181)"
           ],
           [
            0.875,
            "rgb(8,81,156)"
           ],
           [
            1,
            "rgb(8,48,107)"
           ]
          ],
          "line": {
           "color": "Grey",
           "width": 0.5
          },
          "showscale": false
         },
         "mode": "markers",
         "name": "Feasible Trial",
         "showlegend": false,
         "type": "scatter",
         "x": [
          "adaptive",
          "adaptive",
          "constant",
          "constant",
          "constant",
          "invscaling",
          "adaptive",
          "adaptive",
          "invscaling",
          "invscaling",
          "adaptive",
          "adaptive",
          "adaptive",
          "adaptive",
          "adaptive",
          "adaptive",
          "adaptive",
          "adaptive",
          "constant",
          "invscaling"
         ],
         "xaxis": "x4",
         "y": [
          0.8751404653219008,
          0.8759425184545474,
          0.870011617625892,
          0.2502003526412107,
          0.3894857915407234,
          0.09312619517611498,
          0.10482452758415069,
          0.7387347582916949,
          0.2248761129274361,
          0.06042630518372298,
          0.8236900612752658,
          0.8608737894022577,
          0.5600255999013016,
          0.8543026340139411,
          0.8906893210371558,
          0.8761027748648038,
          0.8897282966298604,
          0.8902085518063867,
          0.8828358573396665,
          0.8613572574178028
         ],
         "yaxis": "y4"
        },
        {
         "marker": {
          "color": [
           0,
           1,
           2,
           3,
           4,
           5,
           6,
           7,
           8,
           9,
           10,
           11,
           12,
           13,
           14,
           15,
           16,
           17,
           18,
           19
          ],
          "colorbar": {
           "title": {
            "text": "Trial"
           },
           "x": 1,
           "xpad": 40
          },
          "colorscale": [
           [
            0,
            "rgb(247,251,255)"
           ],
           [
            0.125,
            "rgb(222,235,247)"
           ],
           [
            0.25,
            "rgb(198,219,239)"
           ],
           [
            0.375,
            "rgb(158,202,225)"
           ],
           [
            0.5,
            "rgb(107,174,214)"
           ],
           [
            0.625,
            "rgb(66,146,198)"
           ],
           [
            0.75,
            "rgb(33,113,181)"
           ],
           [
            0.875,
            "rgb(8,81,156)"
           ],
           [
            1,
            "rgb(8,48,107)"
           ]
          ],
          "line": {
           "color": "Grey",
           "width": 0.5
          },
          "showscale": false
         },
         "mode": "markers",
         "name": "Feasible Trial",
         "showlegend": false,
         "type": "scatter",
         "x": [
          500,
          500,
          100,
          1000,
          500,
          100,
          1000,
          100,
          1000,
          500,
          500,
          500,
          500,
          500,
          500,
          500,
          500,
          500,
          1000,
          100
         ],
         "xaxis": "x5",
         "y": [
          0.8751404653219008,
          0.8759425184545474,
          0.870011617625892,
          0.2502003526412107,
          0.3894857915407234,
          0.09312619517611498,
          0.10482452758415069,
          0.7387347582916949,
          0.2248761129274361,
          0.06042630518372298,
          0.8236900612752658,
          0.8608737894022577,
          0.5600255999013016,
          0.8543026340139411,
          0.8906893210371558,
          0.8761027748648038,
          0.8897282966298604,
          0.8902085518063867,
          0.8828358573396665,
          0.8613572574178028
         ],
         "yaxis": "y5"
        },
        {
         "marker": {
          "color": [
           0,
           1,
           2,
           3,
           4,
           5,
           6,
           7,
           8,
           9,
           10,
           11,
           12,
           13,
           14,
           15,
           16,
           17,
           18,
           19
          ],
          "colorbar": {
           "title": {
            "text": "Trial"
           },
           "x": 1,
           "xpad": 40
          },
          "colorscale": [
           [
            0,
            "rgb(247,251,255)"
           ],
           [
            0.125,
            "rgb(222,235,247)"
           ],
           [
            0.25,
            "rgb(198,219,239)"
           ],
           [
            0.375,
            "rgb(158,202,225)"
           ],
           [
            0.5,
            "rgb(107,174,214)"
           ],
           [
            0.625,
            "rgb(66,146,198)"
           ],
           [
            0.75,
            "rgb(33,113,181)"
           ],
           [
            0.875,
            "rgb(8,81,156)"
           ],
           [
            1,
            "rgb(8,48,107)"
           ]
          ],
          "line": {
           "color": "Grey",
           "width": 0.5
          },
          "showscale": false
         },
         "mode": "markers",
         "name": "Feasible Trial",
         "showlegend": false,
         "type": "scatter",
         "x": [
          "lbfgs",
          "adam",
          "lbfgs",
          "lbfgs",
          "sgd",
          "sgd",
          "sgd",
          "lbfgs",
          "lbfgs",
          "sgd",
          "adam",
          "adam",
          "adam",
          "adam",
          "lbfgs",
          "adam",
          "lbfgs",
          "lbfgs",
          "lbfgs",
          "lbfgs"
         ],
         "xaxis": "x6",
         "y": [
          0.8751404653219008,
          0.8759425184545474,
          0.870011617625892,
          0.2502003526412107,
          0.3894857915407234,
          0.09312619517611498,
          0.10482452758415069,
          0.7387347582916949,
          0.2248761129274361,
          0.06042630518372298,
          0.8236900612752658,
          0.8608737894022577,
          0.5600255999013016,
          0.8543026340139411,
          0.8906893210371558,
          0.8761027748648038,
          0.8897282966298604,
          0.8902085518063867,
          0.8828358573396665,
          0.8613572574178028
         ],
         "yaxis": "y6"
        }
       ],
       "layout": {
        "template": {
         "data": {
          "bar": [
           {
            "error_x": {
             "color": "#2a3f5f"
            },
            "error_y": {
             "color": "#2a3f5f"
            },
            "marker": {
             "line": {
              "color": "#E5ECF6",
              "width": 0.5
             },
             "pattern": {
              "fillmode": "overlay",
              "size": 10,
              "solidity": 0.2
             }
            },
            "type": "bar"
           }
          ],
          "barpolar": [
           {
            "marker": {
             "line": {
              "color": "#E5ECF6",
              "width": 0.5
             },
             "pattern": {
              "fillmode": "overlay",
              "size": 10,
              "solidity": 0.2
             }
            },
            "type": "barpolar"
           }
          ],
          "carpet": [
           {
            "aaxis": {
             "endlinecolor": "#2a3f5f",
             "gridcolor": "white",
             "linecolor": "white",
             "minorgridcolor": "white",
             "startlinecolor": "#2a3f5f"
            },
            "baxis": {
             "endlinecolor": "#2a3f5f",
             "gridcolor": "white",
             "linecolor": "white",
             "minorgridcolor": "white",
             "startlinecolor": "#2a3f5f"
            },
            "type": "carpet"
           }
          ],
          "choropleth": [
           {
            "colorbar": {
             "outlinewidth": 0,
             "ticks": ""
            },
            "type": "choropleth"
           }
          ],
          "contour": [
           {
            "colorbar": {
             "outlinewidth": 0,
             "ticks": ""
            },
            "colorscale": [
             [
              0,
              "#0d0887"
             ],
             [
              0.1111111111111111,
              "#46039f"
             ],
             [
              0.2222222222222222,
              "#7201a8"
             ],
             [
              0.3333333333333333,
              "#9c179e"
             ],
             [
              0.4444444444444444,
              "#bd3786"
             ],
             [
              0.5555555555555556,
              "#d8576b"
             ],
             [
              0.6666666666666666,
              "#ed7953"
             ],
             [
              0.7777777777777778,
              "#fb9f3a"
             ],
             [
              0.8888888888888888,
              "#fdca26"
             ],
             [
              1,
              "#f0f921"
             ]
            ],
            "type": "contour"
           }
          ],
          "contourcarpet": [
           {
            "colorbar": {
             "outlinewidth": 0,
             "ticks": ""
            },
            "type": "contourcarpet"
           }
          ],
          "heatmap": [
           {
            "colorbar": {
             "outlinewidth": 0,
             "ticks": ""
            },
            "colorscale": [
             [
              0,
              "#0d0887"
             ],
             [
              0.1111111111111111,
              "#46039f"
             ],
             [
              0.2222222222222222,
              "#7201a8"
             ],
             [
              0.3333333333333333,
              "#9c179e"
             ],
             [
              0.4444444444444444,
              "#bd3786"
             ],
             [
              0.5555555555555556,
              "#d8576b"
             ],
             [
              0.6666666666666666,
              "#ed7953"
             ],
             [
              0.7777777777777778,
              "#fb9f3a"
             ],
             [
              0.8888888888888888,
              "#fdca26"
             ],
             [
              1,
              "#f0f921"
             ]
            ],
            "type": "heatmap"
           }
          ],
          "heatmapgl": [
           {
            "colorbar": {
             "outlinewidth": 0,
             "ticks": ""
            },
            "colorscale": [
             [
              0,
              "#0d0887"
             ],
             [
              0.1111111111111111,
              "#46039f"
             ],
             [
              0.2222222222222222,
              "#7201a8"
             ],
             [
              0.3333333333333333,
              "#9c179e"
             ],
             [
              0.4444444444444444,
              "#bd3786"
             ],
             [
              0.5555555555555556,
              "#d8576b"
             ],
             [
              0.6666666666666666,
              "#ed7953"
             ],
             [
              0.7777777777777778,
              "#fb9f3a"
             ],
             [
              0.8888888888888888,
              "#fdca26"
             ],
             [
              1,
              "#f0f921"
             ]
            ],
            "type": "heatmapgl"
           }
          ],
          "histogram": [
           {
            "marker": {
             "pattern": {
              "fillmode": "overlay",
              "size": 10,
              "solidity": 0.2
             }
            },
            "type": "histogram"
           }
          ],
          "histogram2d": [
           {
            "colorbar": {
             "outlinewidth": 0,
             "ticks": ""
            },
            "colorscale": [
             [
              0,
              "#0d0887"
             ],
             [
              0.1111111111111111,
              "#46039f"
             ],
             [
              0.2222222222222222,
              "#7201a8"
             ],
             [
              0.3333333333333333,
              "#9c179e"
             ],
             [
              0.4444444444444444,
              "#bd3786"
             ],
             [
              0.5555555555555556,
              "#d8576b"
             ],
             [
              0.6666666666666666,
              "#ed7953"
             ],
             [
              0.7777777777777778,
              "#fb9f3a"
             ],
             [
              0.8888888888888888,
              "#fdca26"
             ],
             [
              1,
              "#f0f921"
             ]
            ],
            "type": "histogram2d"
           }
          ],
          "histogram2dcontour": [
           {
            "colorbar": {
             "outlinewidth": 0,
             "ticks": ""
            },
            "colorscale": [
             [
              0,
              "#0d0887"
             ],
             [
              0.1111111111111111,
              "#46039f"
             ],
             [
              0.2222222222222222,
              "#7201a8"
             ],
             [
              0.3333333333333333,
              "#9c179e"
             ],
             [
              0.4444444444444444,
              "#bd3786"
             ],
             [
              0.5555555555555556,
              "#d8576b"
             ],
             [
              0.6666666666666666,
              "#ed7953"
             ],
             [
              0.7777777777777778,
              "#fb9f3a"
             ],
             [
              0.8888888888888888,
              "#fdca26"
             ],
             [
              1,
              "#f0f921"
             ]
            ],
            "type": "histogram2dcontour"
           }
          ],
          "mesh3d": [
           {
            "colorbar": {
             "outlinewidth": 0,
             "ticks": ""
            },
            "type": "mesh3d"
           }
          ],
          "parcoords": [
           {
            "line": {
             "colorbar": {
              "outlinewidth": 0,
              "ticks": ""
             }
            },
            "type": "parcoords"
           }
          ],
          "pie": [
           {
            "automargin": true,
            "type": "pie"
           }
          ],
          "scatter": [
           {
            "fillpattern": {
             "fillmode": "overlay",
             "size": 10,
             "solidity": 0.2
            },
            "type": "scatter"
           }
          ],
          "scatter3d": [
           {
            "line": {
             "colorbar": {
              "outlinewidth": 0,
              "ticks": ""
             }
            },
            "marker": {
             "colorbar": {
              "outlinewidth": 0,
              "ticks": ""
             }
            },
            "type": "scatter3d"
           }
          ],
          "scattercarpet": [
           {
            "marker": {
             "colorbar": {
              "outlinewidth": 0,
              "ticks": ""
             }
            },
            "type": "scattercarpet"
           }
          ],
          "scattergeo": [
           {
            "marker": {
             "colorbar": {
              "outlinewidth": 0,
              "ticks": ""
             }
            },
            "type": "scattergeo"
           }
          ],
          "scattergl": [
           {
            "marker": {
             "colorbar": {
              "outlinewidth": 0,
              "ticks": ""
             }
            },
            "type": "scattergl"
           }
          ],
          "scattermapbox": [
           {
            "marker": {
             "colorbar": {
              "outlinewidth": 0,
              "ticks": ""
             }
            },
            "type": "scattermapbox"
           }
          ],
          "scatterpolar": [
           {
            "marker": {
             "colorbar": {
              "outlinewidth": 0,
              "ticks": ""
             }
            },
            "type": "scatterpolar"
           }
          ],
          "scatterpolargl": [
           {
            "marker": {
             "colorbar": {
              "outlinewidth": 0,
              "ticks": ""
             }
            },
            "type": "scatterpolargl"
           }
          ],
          "scatterternary": [
           {
            "marker": {
             "colorbar": {
              "outlinewidth": 0,
              "ticks": ""
             }
            },
            "type": "scatterternary"
           }
          ],
          "surface": [
           {
            "colorbar": {
             "outlinewidth": 0,
             "ticks": ""
            },
            "colorscale": [
             [
              0,
              "#0d0887"
             ],
             [
              0.1111111111111111,
              "#46039f"
             ],
             [
              0.2222222222222222,
              "#7201a8"
             ],
             [
              0.3333333333333333,
              "#9c179e"
             ],
             [
              0.4444444444444444,
              "#bd3786"
             ],
             [
              0.5555555555555556,
              "#d8576b"
             ],
             [
              0.6666666666666666,
              "#ed7953"
             ],
             [
              0.7777777777777778,
              "#fb9f3a"
             ],
             [
              0.8888888888888888,
              "#fdca26"
             ],
             [
              1,
              "#f0f921"
             ]
            ],
            "type": "surface"
           }
          ],
          "table": [
           {
            "cells": {
             "fill": {
              "color": "#EBF0F8"
             },
             "line": {
              "color": "white"
             }
            },
            "header": {
             "fill": {
              "color": "#C8D4E3"
             },
             "line": {
              "color": "white"
             }
            },
            "type": "table"
           }
          ]
         },
         "layout": {
          "annotationdefaults": {
           "arrowcolor": "#2a3f5f",
           "arrowhead": 0,
           "arrowwidth": 1
          },
          "autotypenumbers": "strict",
          "coloraxis": {
           "colorbar": {
            "outlinewidth": 0,
            "ticks": ""
           }
          },
          "colorscale": {
           "diverging": [
            [
             0,
             "#8e0152"
            ],
            [
             0.1,
             "#c51b7d"
            ],
            [
             0.2,
             "#de77ae"
            ],
            [
             0.3,
             "#f1b6da"
            ],
            [
             0.4,
             "#fde0ef"
            ],
            [
             0.5,
             "#f7f7f7"
            ],
            [
             0.6,
             "#e6f5d0"
            ],
            [
             0.7,
             "#b8e186"
            ],
            [
             0.8,
             "#7fbc41"
            ],
            [
             0.9,
             "#4d9221"
            ],
            [
             1,
             "#276419"
            ]
           ],
           "sequential": [
            [
             0,
             "#0d0887"
            ],
            [
             0.1111111111111111,
             "#46039f"
            ],
            [
             0.2222222222222222,
             "#7201a8"
            ],
            [
             0.3333333333333333,
             "#9c179e"
            ],
            [
             0.4444444444444444,
             "#bd3786"
            ],
            [
             0.5555555555555556,
             "#d8576b"
            ],
            [
             0.6666666666666666,
             "#ed7953"
            ],
            [
             0.7777777777777778,
             "#fb9f3a"
            ],
            [
             0.8888888888888888,
             "#fdca26"
            ],
            [
             1,
             "#f0f921"
            ]
           ],
           "sequentialminus": [
            [
             0,
             "#0d0887"
            ],
            [
             0.1111111111111111,
             "#46039f"
            ],
            [
             0.2222222222222222,
             "#7201a8"
            ],
            [
             0.3333333333333333,
             "#9c179e"
            ],
            [
             0.4444444444444444,
             "#bd3786"
            ],
            [
             0.5555555555555556,
             "#d8576b"
            ],
            [
             0.6666666666666666,
             "#ed7953"
            ],
            [
             0.7777777777777778,
             "#fb9f3a"
            ],
            [
             0.8888888888888888,
             "#fdca26"
            ],
            [
             1,
             "#f0f921"
            ]
           ]
          },
          "colorway": [
           "#636efa",
           "#EF553B",
           "#00cc96",
           "#ab63fa",
           "#FFA15A",
           "#19d3f3",
           "#FF6692",
           "#B6E880",
           "#FF97FF",
           "#FECB52"
          ],
          "font": {
           "color": "#2a3f5f"
          },
          "geo": {
           "bgcolor": "white",
           "lakecolor": "white",
           "landcolor": "#E5ECF6",
           "showlakes": true,
           "showland": true,
           "subunitcolor": "white"
          },
          "hoverlabel": {
           "align": "left"
          },
          "hovermode": "closest",
          "mapbox": {
           "style": "light"
          },
          "paper_bgcolor": "white",
          "plot_bgcolor": "#E5ECF6",
          "polar": {
           "angularaxis": {
            "gridcolor": "white",
            "linecolor": "white",
            "ticks": ""
           },
           "bgcolor": "#E5ECF6",
           "radialaxis": {
            "gridcolor": "white",
            "linecolor": "white",
            "ticks": ""
           }
          },
          "scene": {
           "xaxis": {
            "backgroundcolor": "#E5ECF6",
            "gridcolor": "white",
            "gridwidth": 2,
            "linecolor": "white",
            "showbackground": true,
            "ticks": "",
            "zerolinecolor": "white"
           },
           "yaxis": {
            "backgroundcolor": "#E5ECF6",
            "gridcolor": "white",
            "gridwidth": 2,
            "linecolor": "white",
            "showbackground": true,
            "ticks": "",
            "zerolinecolor": "white"
           },
           "zaxis": {
            "backgroundcolor": "#E5ECF6",
            "gridcolor": "white",
            "gridwidth": 2,
            "linecolor": "white",
            "showbackground": true,
            "ticks": "",
            "zerolinecolor": "white"
           }
          },
          "shapedefaults": {
           "line": {
            "color": "#2a3f5f"
           }
          },
          "ternary": {
           "aaxis": {
            "gridcolor": "white",
            "linecolor": "white",
            "ticks": ""
           },
           "baxis": {
            "gridcolor": "white",
            "linecolor": "white",
            "ticks": ""
           },
           "bgcolor": "#E5ECF6",
           "caxis": {
            "gridcolor": "white",
            "linecolor": "white",
            "ticks": ""
           }
          },
          "title": {
           "x": 0.05
          },
          "xaxis": {
           "automargin": true,
           "gridcolor": "white",
           "linecolor": "white",
           "ticks": "",
           "title": {
            "standoff": 15
           },
           "zerolinecolor": "white",
           "zerolinewidth": 2
          },
          "yaxis": {
           "automargin": true,
           "gridcolor": "white",
           "linecolor": "white",
           "ticks": "",
           "title": {
            "standoff": 15
           },
           "zerolinecolor": "white",
           "zerolinewidth": 2
          }
         }
        },
        "title": {
         "text": "Slice Plot"
        },
        "width": 1800,
        "xaxis": {
         "anchor": "y",
         "categoryarray": [
          "identity",
          "logistic",
          "tanh",
          "relu"
         ],
         "categoryorder": "array",
         "domain": [
          0,
          0.1388888888888889
         ],
         "title": {
          "text": "activation"
         },
         "type": "category"
        },
        "xaxis2": {
         "anchor": "y2",
         "domain": [
          0.17222222222222222,
          0.3111111111111111
         ],
         "title": {
          "text": "alpha"
         },
         "type": "log"
        },
        "xaxis3": {
         "anchor": "y3",
         "categoryarray": [
          [
           10
          ],
          [
           50
          ],
          [
           10,
           10
          ],
          [
           50,
           50
          ]
         ],
         "categoryorder": "array",
         "domain": [
          0.34444444444444444,
          0.48333333333333334
         ],
         "title": {
          "text": "hidden_layer_sizes"
         },
         "type": "category"
        },
        "xaxis4": {
         "anchor": "y4",
         "categoryarray": [
          "constant",
          "invscaling",
          "adaptive"
         ],
         "categoryorder": "array",
         "domain": [
          0.5166666666666667,
          0.6555555555555557
         ],
         "title": {
          "text": "learning_rate"
         },
         "type": "category"
        },
        "xaxis5": {
         "anchor": "y5",
         "categoryarray": [
          100,
          500,
          1000
         ],
         "categoryorder": "array",
         "domain": [
          0.6888888888888889,
          0.8277777777777777
         ],
         "title": {
          "text": "max_iter"
         },
         "type": "category"
        },
        "xaxis6": {
         "anchor": "y6",
         "categoryarray": [
          "lbfgs",
          "sgd",
          "adam"
         ],
         "categoryorder": "array",
         "domain": [
          0.861111111111111,
          1
         ],
         "title": {
          "text": "solver"
         },
         "type": "category"
        },
        "yaxis": {
         "anchor": "x",
         "domain": [
          0,
          1
         ],
         "title": {
          "text": "Objective Value"
         }
        },
        "yaxis2": {
         "anchor": "x2",
         "domain": [
          0,
          1
         ],
         "matches": "y",
         "showticklabels": false
        },
        "yaxis3": {
         "anchor": "x3",
         "domain": [
          0,
          1
         ],
         "matches": "y",
         "showticklabels": false
        },
        "yaxis4": {
         "anchor": "x4",
         "domain": [
          0,
          1
         ],
         "matches": "y",
         "showticklabels": false
        },
        "yaxis5": {
         "anchor": "x5",
         "domain": [
          0,
          1
         ],
         "matches": "y",
         "showticklabels": false
        },
        "yaxis6": {
         "anchor": "x6",
         "domain": [
          0,
          1
         ],
         "matches": "y",
         "showticklabels": false
        }
       }
      }
     },
     "metadata": {},
     "output_type": "display_data"
    }
   ],
   "source": [
    "optuna.visualization.plot_slice(study)"
   ]
  },
  {
   "cell_type": "code",
   "execution_count": 19,
   "metadata": {},
   "outputs": [
    {
     "data": {
      "text/html": [
       "<style>#sk-container-id-1 {color: black;}#sk-container-id-1 pre{padding: 0;}#sk-container-id-1 div.sk-toggleable {background-color: white;}#sk-container-id-1 label.sk-toggleable__label {cursor: pointer;display: block;width: 100%;margin-bottom: 0;padding: 0.3em;box-sizing: border-box;text-align: center;}#sk-container-id-1 label.sk-toggleable__label-arrow:before {content: \"▸\";float: left;margin-right: 0.25em;color: #696969;}#sk-container-id-1 label.sk-toggleable__label-arrow:hover:before {color: black;}#sk-container-id-1 div.sk-estimator:hover label.sk-toggleable__label-arrow:before {color: black;}#sk-container-id-1 div.sk-toggleable__content {max-height: 0;max-width: 0;overflow: hidden;text-align: left;background-color: #f0f8ff;}#sk-container-id-1 div.sk-toggleable__content pre {margin: 0.2em;color: black;border-radius: 0.25em;background-color: #f0f8ff;}#sk-container-id-1 input.sk-toggleable__control:checked~div.sk-toggleable__content {max-height: 200px;max-width: 100%;overflow: auto;}#sk-container-id-1 input.sk-toggleable__control:checked~label.sk-toggleable__label-arrow:before {content: \"▾\";}#sk-container-id-1 div.sk-estimator input.sk-toggleable__control:checked~label.sk-toggleable__label {background-color: #d4ebff;}#sk-container-id-1 div.sk-label input.sk-toggleable__control:checked~label.sk-toggleable__label {background-color: #d4ebff;}#sk-container-id-1 input.sk-hidden--visually {border: 0;clip: rect(1px 1px 1px 1px);clip: rect(1px, 1px, 1px, 1px);height: 1px;margin: -1px;overflow: hidden;padding: 0;position: absolute;width: 1px;}#sk-container-id-1 div.sk-estimator {font-family: monospace;background-color: #f0f8ff;border: 1px dotted black;border-radius: 0.25em;box-sizing: border-box;margin-bottom: 0.5em;}#sk-container-id-1 div.sk-estimator:hover {background-color: #d4ebff;}#sk-container-id-1 div.sk-parallel-item::after {content: \"\";width: 100%;border-bottom: 1px solid gray;flex-grow: 1;}#sk-container-id-1 div.sk-label:hover label.sk-toggleable__label {background-color: #d4ebff;}#sk-container-id-1 div.sk-serial::before {content: \"\";position: absolute;border-left: 1px solid gray;box-sizing: border-box;top: 0;bottom: 0;left: 50%;z-index: 0;}#sk-container-id-1 div.sk-serial {display: flex;flex-direction: column;align-items: center;background-color: white;padding-right: 0.2em;padding-left: 0.2em;position: relative;}#sk-container-id-1 div.sk-item {position: relative;z-index: 1;}#sk-container-id-1 div.sk-parallel {display: flex;align-items: stretch;justify-content: center;background-color: white;position: relative;}#sk-container-id-1 div.sk-item::before, #sk-container-id-1 div.sk-parallel-item::before {content: \"\";position: absolute;border-left: 1px solid gray;box-sizing: border-box;top: 0;bottom: 0;left: 50%;z-index: -1;}#sk-container-id-1 div.sk-parallel-item {display: flex;flex-direction: column;z-index: 1;position: relative;background-color: white;}#sk-container-id-1 div.sk-parallel-item:first-child::after {align-self: flex-end;width: 50%;}#sk-container-id-1 div.sk-parallel-item:last-child::after {align-self: flex-start;width: 50%;}#sk-container-id-1 div.sk-parallel-item:only-child::after {width: 0;}#sk-container-id-1 div.sk-dashed-wrapped {border: 1px dashed gray;margin: 0 0.4em 0.5em 0.4em;box-sizing: border-box;padding-bottom: 0.4em;background-color: white;}#sk-container-id-1 div.sk-label label {font-family: monospace;font-weight: bold;display: inline-block;line-height: 1.2em;}#sk-container-id-1 div.sk-label-container {text-align: center;}#sk-container-id-1 div.sk-container {/* jupyter's `normalize.less` sets `[hidden] { display: none; }` but bootstrap.min.css set `[hidden] { display: none !important; }` so we also need the `!important` here to be able to override the default hidden behavior on the sphinx rendered scikit-learn.org. See: https://github.com/scikit-learn/scikit-learn/issues/21755 */display: inline-block !important;position: relative;}#sk-container-id-1 div.sk-text-repr-fallback {display: none;}</style><div id=\"sk-container-id-1\" class=\"sk-top-container\"><div class=\"sk-text-repr-fallback\"><pre>MLPClassifier(activation=&#x27;identity&#x27;, alpha=0.0002712909526978834,\n",
       "              hidden_layer_sizes=(50, 50), learning_rate=&#x27;adaptive&#x27;,\n",
       "              max_iter=500, random_state=123, solver=&#x27;lbfgs&#x27;)</pre><b>In a Jupyter environment, please rerun this cell to show the HTML representation or trust the notebook. <br />On GitHub, the HTML representation is unable to render, please try loading this page with nbviewer.org.</b></div><div class=\"sk-container\" hidden><div class=\"sk-item\"><div class=\"sk-estimator sk-toggleable\"><input class=\"sk-toggleable__control sk-hidden--visually\" id=\"sk-estimator-id-1\" type=\"checkbox\" checked><label for=\"sk-estimator-id-1\" class=\"sk-toggleable__label sk-toggleable__label-arrow\">MLPClassifier</label><div class=\"sk-toggleable__content\"><pre>MLPClassifier(activation=&#x27;identity&#x27;, alpha=0.0002712909526978834,\n",
       "              hidden_layer_sizes=(50, 50), learning_rate=&#x27;adaptive&#x27;,\n",
       "              max_iter=500, random_state=123, solver=&#x27;lbfgs&#x27;)</pre></div></div></div></div></div>"
      ],
      "text/plain": [
       "MLPClassifier(activation='identity', alpha=0.0002712909526978834,\n",
       "              hidden_layer_sizes=(50, 50), learning_rate='adaptive',\n",
       "              max_iter=500, random_state=123, solver='lbfgs')"
      ]
     },
     "execution_count": 19,
     "metadata": {},
     "output_type": "execute_result"
    }
   ],
   "source": [
    "# Train the best model with the optimized hyperparameters\n",
    "best_model_phase5 = MLPClassifier(**best_params, random_state=123)\n",
    "best_model_phase5.fit(X_train, y_train)"
   ]
  },
  {
   "cell_type": "code",
   "execution_count": 20,
   "metadata": {},
   "outputs": [],
   "source": [
    "# Evaluate the best model\n",
    "y_test_pred = best_model_phase5.predict(X_test)\n",
    "test_metrics_phase5 = {\n",
    "    \"accuracy\": accuracy_score(y_test, y_test_pred),\n",
    "    \"precision\": precision_score(y_test, y_test_pred, average='weighted'),\n",
    "    \"recall\": recall_score(y_test, y_test_pred, average='weighted')\n",
    "}\n"
   ]
  },
  {
   "cell_type": "code",
   "execution_count": 21,
   "metadata": {},
   "outputs": [
    {
     "name": "stdout",
     "output_type": "stream",
     "text": [
      "Model 'Optuna Tuned Neural Net' recorded successfully!\n"
     ]
    }
   ],
   "source": [
    "# Record best model performance\n",
    "record_trained_model(\"Optuna Tuned Neural Net\", best_params, np.nan, test_metrics_phase5)"
   ]
  },
  {
   "cell_type": "markdown",
   "metadata": {},
   "source": [
    "### Evaluate and Compare Models"
   ]
  },
  {
   "cell_type": "code",
   "execution_count": 22,
   "metadata": {},
   "outputs": [
    {
     "name": "stdout",
     "output_type": "stream",
     "text": [
      "Model Performance Comparison:\n"
     ]
    },
    {
     "data": {
      "text/html": [
       "<div>\n",
       "<style scoped>\n",
       "    .dataframe tbody tr th:only-of-type {\n",
       "        vertical-align: middle;\n",
       "    }\n",
       "\n",
       "    .dataframe tbody tr th {\n",
       "        vertical-align: top;\n",
       "    }\n",
       "\n",
       "    .dataframe thead th {\n",
       "        text-align: right;\n",
       "    }\n",
       "</style>\n",
       "<table border=\"1\" class=\"dataframe\">\n",
       "  <thead>\n",
       "    <tr style=\"text-align: right;\">\n",
       "      <th></th>\n",
       "      <th>Model Name</th>\n",
       "      <th>Hyperparameters</th>\n",
       "      <th>Test Accuracy</th>\n",
       "      <th>Test Precision</th>\n",
       "      <th>Test Recall</th>\n",
       "    </tr>\n",
       "  </thead>\n",
       "  <tbody>\n",
       "    <tr>\n",
       "      <th>1</th>\n",
       "      <td>Tuned Neural Net (Simple Hyperparameter)</td>\n",
       "      <td>{'activation': 'relu', 'alpha': 0.0001, 'batch...</td>\n",
       "      <td>83.08%</td>\n",
       "      <td>82.27%</td>\n",
       "      <td>83.08%</td>\n",
       "    </tr>\n",
       "    <tr>\n",
       "      <th>2</th>\n",
       "      <td>Tuned Neural Net (Advanced HyperParameter)</td>\n",
       "      <td>{'activation': 'relu', 'alpha': 0.001, 'batch_...</td>\n",
       "      <td>87.01%</td>\n",
       "      <td>86.62%</td>\n",
       "      <td>87.01%</td>\n",
       "    </tr>\n",
       "    <tr>\n",
       "      <th>0</th>\n",
       "      <td>Default Neural Net</td>\n",
       "      <td>{}</td>\n",
       "      <td>88.46%</td>\n",
       "      <td>88.56%</td>\n",
       "      <td>88.46%</td>\n",
       "    </tr>\n",
       "    <tr>\n",
       "      <th>3</th>\n",
       "      <td>Full Hyperparameter Neural Net</td>\n",
       "      <td>{'activation': 'identity', 'alpha': 1e-05, 'ba...</td>\n",
       "      <td>89.74%</td>\n",
       "      <td>89.90%</td>\n",
       "      <td>89.74%</td>\n",
       "    </tr>\n",
       "    <tr>\n",
       "      <th>4</th>\n",
       "      <td>Optuna Tuned Neural Net</td>\n",
       "      <td>{'hidden_layer_sizes': (50, 50), 'activation':...</td>\n",
       "      <td>89.83%</td>\n",
       "      <td>89.90%</td>\n",
       "      <td>89.83%</td>\n",
       "    </tr>\n",
       "  </tbody>\n",
       "</table>\n",
       "</div>"
      ],
      "text/plain": [
       "                                   Model Name  \\\n",
       "1    Tuned Neural Net (Simple Hyperparameter)   \n",
       "2  Tuned Neural Net (Advanced HyperParameter)   \n",
       "0                          Default Neural Net   \n",
       "3              Full Hyperparameter Neural Net   \n",
       "4                     Optuna Tuned Neural Net   \n",
       "\n",
       "                                     Hyperparameters Test Accuracy  \\\n",
       "1  {'activation': 'relu', 'alpha': 0.0001, 'batch...        83.08%   \n",
       "2  {'activation': 'relu', 'alpha': 0.001, 'batch_...        87.01%   \n",
       "0                                                 {}        88.46%   \n",
       "3  {'activation': 'identity', 'alpha': 1e-05, 'ba...        89.74%   \n",
       "4  {'hidden_layer_sizes': (50, 50), 'activation':...        89.83%   \n",
       "\n",
       "  Test Precision Test Recall  \n",
       "1         82.27%      83.08%  \n",
       "2         86.62%      87.01%  \n",
       "0         88.56%      88.46%  \n",
       "3         89.90%      89.74%  \n",
       "4         89.90%      89.83%  "
      ]
     },
     "execution_count": 22,
     "metadata": {},
     "output_type": "execute_result"
    }
   ],
   "source": [
    "# Display Results in a Table\n",
    "results_df = pd.DataFrame(model_records)\n",
    "results_df.sort_values(by=\"Test Accuracy\", ascending=True, inplace=True)\n",
    "print(\"Model Performance Comparison:\")\n",
    "results_df"
   ]
  },
  {
   "cell_type": "code",
   "execution_count": 24,
   "metadata": {},
   "outputs": [
    {
     "name": "stdout",
     "output_type": "stream",
     "text": [
      "\n",
      "Evaluate and Compare Models\n",
      "\n",
      "--- Evaluating Default Model ---\n",
      "Accuracy: 88.46%\n",
      "Precision: 88.56%\n",
      "Recall: 88.46%\n",
      "\n",
      "--- Evaluating Simple Hyperparameter Tuning ---\n",
      "Accuracy: 83.08%\n",
      "Precision: 82.27%\n",
      "Recall: 83.08%\n",
      "\n",
      "--- Evaluating Advanced Hyperparameter Tuning ---\n",
      "Accuracy: 87.01%\n",
      "Precision: 86.62%\n",
      "Recall: 87.01%\n",
      "\n",
      "--- Evaluating Full Hyperparameter Grid ---\n"
     ]
    },
    {
     "name": "stdout",
     "output_type": "stream",
     "text": [
      "Accuracy: 89.74%\n",
      "Precision: 89.90%\n",
      "Recall: 89.74%\n",
      "\n",
      "--- Evaluating Hyperparameter Tuning with Optuna ---\n",
      "Accuracy: 89.83%\n",
      "Precision: 89.90%\n",
      "Recall: 89.83%\n"
     ]
    }
   ],
   "source": [
    "print(\"\\nEvaluate and Compare Models\")\n",
    "models = {\n",
    "    \"Default Model\": best_model_phase1,\n",
    "    \"Simple Hyperparameter Tuning\": best_model_phase2,\n",
    "    \"Advanced Hyperparameter Tuning\": best_model_phase3,\n",
    "    \"Full Hyperparameter Grid\": best_model_phase4,\n",
    "    \"Hyperparameter Tuning with Optuna\": best_model_phase5\n",
    "}\n",
    "\n",
    "for name, model in models.items():\n",
    "    print(f\"\\n--- Evaluating {name} ---\")\n",
    "    y_test_pred = model.predict(X_test)\n",
    "    accuracy = accuracy_score(y_test, y_test_pred)\n",
    "    precision = precision_score(y_test, y_test_pred, average='weighted')\n",
    "    recall = recall_score(y_test, y_test_pred, average='weighted')\n",
    "\n",
    "    print(f\"Accuracy: {accuracy:.2%}\")\n",
    "    print(f\"Precision: {precision:.2%}\")\n",
    "    print(f\"Recall: {recall:.2%}\")"
   ]
  },
  {
   "cell_type": "markdown",
   "metadata": {},
   "source": [
    "### Final Model Selection **Optuna Tuned Neural Net**\n",
    "\n",
    "### Justification:\n",
    "- The **Optuna Tuned Neural Net** achieves the highest accuracy (89.83%) and recall (89.83%) while matching the highest precision (89.90%).\n",
    "- Compared to other models, this approach offers the most efficient and targeted hyperparameter optimization, leveraging advanced search techniques for superior results.\n",
    "- The model's hyperparameters balance complexity and efficiency, making it a reliable choice for production deployment.\n",
    "\n",
    "---\n",
    "\n",
    "### Conclusion\n",
    "The **Optuna Tuned Neural Net** is selected as the final model due to its superior performance across all evaluation metrics. Its hyperparameter optimization process ensures that it is both robust and efficient, making it ideal for the task at hand."
   ]
  },
  {
   "cell_type": "code",
   "execution_count": 25,
   "metadata": {},
   "outputs": [
    {
     "name": "stdout",
     "output_type": "stream",
     "text": [
      "\n",
      "The Best Model is 'Hyperparameter Tuning with Optuna'\n",
      "MLPClassifier(activation='identity', alpha=0.0002712909526978834,\n",
      "              hidden_layer_sizes=(50, 50), learning_rate='adaptive',\n",
      "              max_iter=500, random_state=123, solver='lbfgs')\n"
     ]
    }
   ],
   "source": [
    "# Select the model with the highest accuracy\n",
    "best_model_name = max(models, key=lambda name: accuracy_score(y_test, models[name].predict(X_test)))\n",
    "best_model = models[best_model_name]\n",
    "\n",
    "print(f\"\\nThe Best Model is '{best_model_name}'\")\n",
    "print(best_model)\n"
   ]
  },
  {
   "cell_type": "markdown",
   "metadata": {},
   "source": [
    "### Save the Best Model"
   ]
  },
  {
   "cell_type": "code",
   "execution_count": 26,
   "metadata": {},
   "outputs": [
    {
     "name": "stdout",
     "output_type": "stream",
     "text": [
      "Model saved successfully at ../04_modelling/models/mlp_neural_net.pkl!\n"
     ]
    }
   ],
   "source": [
    "def save_model(model, path, model_name=\"mlp_model.pkl\"):\n",
    "    \"\"\"\n",
    "    Save the trained model to a specified directory.\n",
    "\n",
    "    Args:\n",
    "        model: Trained model object.\n",
    "        path (str): Directory path to save the model.\n",
    "        model_name (str): File name for the saved model.\n",
    "    \"\"\"\n",
    "    # Ensure the path exists\n",
    "    os.makedirs(path, exist_ok=True)\n",
    "\n",
    "    # Save the model\n",
    "    file_path = os.path.join(path, model_name)\n",
    "    joblib.dump(model, file_path)\n",
    "    print(f\"Model saved successfully at {file_path}!\")\n",
    "\n",
    "# Save the selected best model\n",
    "save_model(best_model, path=\"../04_modelling/models/\", model_name=\"mlp_neural_net.pkl\")"
   ]
  },
  {
   "cell_type": "markdown",
   "metadata": {},
   "source": [
    "### Deep Learning Model with AutoML"
   ]
  },
  {
   "cell_type": "code",
   "execution_count": 1,
   "metadata": {},
   "outputs": [
    {
     "name": "stderr",
     "output_type": "stream",
     "text": [
      "c:\\Users\\Huawei\\OneDrive - Universiti Malaya\\Desktop\\SEMESTER 7\\WIE3007_Data-Mining\\Group Project\\data-mining-warehousing-wages-analysis\\venv\\lib\\site-packages\\tqdm\\auto.py:21: TqdmWarning: IProgress not found. Please update jupyter and ipywidgets. See https://ipywidgets.readthedocs.io/en/stable/user_install.html\n",
      "  from .autonotebook import tqdm as notebook_tqdm\n"
     ]
    }
   ],
   "source": [
    "# Import Necessary Libraries\n",
    "import pandas as pd\n",
    "import h2o\n",
    "\n",
    "# For hyperparameter optimization\n",
    "from h2o.estimators.deeplearning import H2ODeepLearningEstimator\n",
    "import optuna \n",
    "\n",
    "# Evaluation metrics\n",
    "from sklearn.metrics import accuracy_score, mean_absolute_error "
   ]
  },
  {
   "cell_type": "code",
   "execution_count": 2,
   "metadata": {},
   "outputs": [
    {
     "name": "stdout",
     "output_type": "stream",
     "text": [
      "Checking whether there is an H2O instance running at http://localhost:54321..... not found.\n",
      "Attempting to start a local H2O server...\n",
      "; OpenJDK 64-Bit Server VM Temurin-17.0.12+7 (build 17.0.12+7, mixed mode, sharing)\n",
      "  Starting server from C:\\Users\\Huawei\\OneDrive - Universiti Malaya\\Desktop\\SEMESTER 7\\WIE3007_Data-Mining\\Group Project\\data-mining-warehousing-wages-analysis\\venv\\Lib\\site-packages\\h2o\\backend\\bin\\h2o.jar\n",
      "  Ice root: C:\\Users\\Huawei\\AppData\\Local\\Temp\\tmps_38bbc4\n",
      "  JVM stdout: C:\\Users\\Huawei\\AppData\\Local\\Temp\\tmps_38bbc4\\h2o_Huawei_started_from_python.out\n",
      "  JVM stderr: C:\\Users\\Huawei\\AppData\\Local\\Temp\\tmps_38bbc4\\h2o_Huawei_started_from_python.err\n",
      "  Server is running at http://127.0.0.1:54321\n",
      "Connecting to H2O server at http://127.0.0.1:54321 ... successful.\n"
     ]
    },
    {
     "data": {
      "text/html": [
       "\n",
       "<style>\n",
       "\n",
       "#h2o-table-1.h2o-container {\n",
       "  overflow-x: auto;\n",
       "}\n",
       "#h2o-table-1 .h2o-table {\n",
       "  /* width: 100%; */\n",
       "  margin-top: 1em;\n",
       "  margin-bottom: 1em;\n",
       "}\n",
       "#h2o-table-1 .h2o-table caption {\n",
       "  white-space: nowrap;\n",
       "  caption-side: top;\n",
       "  text-align: left;\n",
       "  /* margin-left: 1em; */\n",
       "  margin: 0;\n",
       "  font-size: larger;\n",
       "}\n",
       "#h2o-table-1 .h2o-table thead {\n",
       "  white-space: nowrap; \n",
       "  position: sticky;\n",
       "  top: 0;\n",
       "  box-shadow: 0 -1px inset;\n",
       "}\n",
       "#h2o-table-1 .h2o-table tbody {\n",
       "  overflow: auto;\n",
       "}\n",
       "#h2o-table-1 .h2o-table th,\n",
       "#h2o-table-1 .h2o-table td {\n",
       "  text-align: right;\n",
       "  /* border: 1px solid; */\n",
       "}\n",
       "#h2o-table-1 .h2o-table tr:nth-child(even) {\n",
       "  /* background: #F5F5F5 */\n",
       "}\n",
       "\n",
       "</style>      \n",
       "<div id=\"h2o-table-1\" class=\"h2o-container\">\n",
       "  <table class=\"h2o-table\">\n",
       "    <caption></caption>\n",
       "    <thead></thead>\n",
       "    <tbody><tr><td>H2O_cluster_uptime:</td>\n",
       "<td>06 secs</td></tr>\n",
       "<tr><td>H2O_cluster_timezone:</td>\n",
       "<td>Asia/Kuala_Lumpur</td></tr>\n",
       "<tr><td>H2O_data_parsing_timezone:</td>\n",
       "<td>UTC</td></tr>\n",
       "<tr><td>H2O_cluster_version:</td>\n",
       "<td>3.46.0.6</td></tr>\n",
       "<tr><td>H2O_cluster_version_age:</td>\n",
       "<td>1 month and 27 days</td></tr>\n",
       "<tr><td>H2O_cluster_name:</td>\n",
       "<td>H2O_from_python_Huawei_az56vq</td></tr>\n",
       "<tr><td>H2O_cluster_total_nodes:</td>\n",
       "<td>1</td></tr>\n",
       "<tr><td>H2O_cluster_free_memory:</td>\n",
       "<td>1.961 Gb</td></tr>\n",
       "<tr><td>H2O_cluster_total_cores:</td>\n",
       "<td>8</td></tr>\n",
       "<tr><td>H2O_cluster_allowed_cores:</td>\n",
       "<td>8</td></tr>\n",
       "<tr><td>H2O_cluster_status:</td>\n",
       "<td>locked, healthy</td></tr>\n",
       "<tr><td>H2O_connection_url:</td>\n",
       "<td>http://127.0.0.1:54321</td></tr>\n",
       "<tr><td>H2O_connection_proxy:</td>\n",
       "<td>{\"http\": null, \"https\": null}</td></tr>\n",
       "<tr><td>H2O_internal_security:</td>\n",
       "<td>False</td></tr>\n",
       "<tr><td>Python_version:</td>\n",
       "<td>3.8.0 final</td></tr></tbody>\n",
       "  </table>\n",
       "</div>\n"
      ],
      "text/plain": [
       "--------------------------  -----------------------------\n",
       "H2O_cluster_uptime:         06 secs\n",
       "H2O_cluster_timezone:       Asia/Kuala_Lumpur\n",
       "H2O_data_parsing_timezone:  UTC\n",
       "H2O_cluster_version:        3.46.0.6\n",
       "H2O_cluster_version_age:    1 month and 27 days\n",
       "H2O_cluster_name:           H2O_from_python_Huawei_az56vq\n",
       "H2O_cluster_total_nodes:    1\n",
       "H2O_cluster_free_memory:    1.961 Gb\n",
       "H2O_cluster_total_cores:    8\n",
       "H2O_cluster_allowed_cores:  8\n",
       "H2O_cluster_status:         locked, healthy\n",
       "H2O_connection_url:         http://127.0.0.1:54321\n",
       "H2O_connection_proxy:       {\"http\": null, \"https\": null}\n",
       "H2O_internal_security:      False\n",
       "Python_version:             3.8.0 final\n",
       "--------------------------  -----------------------------"
      ]
     },
     "metadata": {},
     "output_type": "display_data"
    }
   ],
   "source": [
    "# Initialize H2O cluster\n",
    "h2o.init()"
   ]
  },
  {
   "cell_type": "code",
   "execution_count": 3,
   "metadata": {},
   "outputs": [],
   "source": [
    "# Step 1: Load and Prepare Data\n",
    "X_train = pd.read_csv(\"../04_modelling/dataset/X_train.csv\")\n",
    "y_train = pd.read_csv(\"../04_modelling/dataset/y_train.csv\")\n",
    "X_val = pd.read_csv(\"../04_modelling/dataset/X_val.csv\")\n",
    "y_val = pd.read_csv(\"../04_modelling/dataset/y_val.csv\")\n",
    "X_test = pd.read_csv(\"../04_modelling/dataset/X_test.csv\")\n",
    "y_test = pd.read_csv(\"../04_modelling/dataset/y_test.csv\")"
   ]
  },
  {
   "cell_type": "code",
   "execution_count": 4,
   "metadata": {},
   "outputs": [],
   "source": [
    "train_df = pd.concat([X_train, y_train], axis=1)\n",
    "val_df = pd.concat([X_val, y_val], axis=1)\n",
    "test_df = pd.concat([X_test, y_test], axis=1)"
   ]
  },
  {
   "cell_type": "code",
   "execution_count": 5,
   "metadata": {},
   "outputs": [
    {
     "name": "stdout",
     "output_type": "stream",
     "text": [
      "Parse progress: |████████████████████████████████████████████████████████████████| (done) 100%\n",
      "Parse progress: |████████████████████████████████████████████████████████████████| (done) 100%\n",
      "Parse progress: |████████████████████████████████████████████████████████████████| (done) 100%\n"
     ]
    }
   ],
   "source": [
    "train_h2o = h2o.H2OFrame(train_df)\n",
    "val_h2o = h2o.H2OFrame(val_df)\n",
    "test_h2o = h2o.H2OFrame(test_df)"
   ]
  },
  {
   "cell_type": "code",
   "execution_count": 6,
   "metadata": {},
   "outputs": [],
   "source": [
    "# Define target and features\n",
    "target = \"yearly_compensation\"\n",
    "features = train_h2o.columns\n",
    "if target in features:\n",
    "    features.remove(target)"
   ]
  },
  {
   "cell_type": "code",
   "execution_count": 50,
   "metadata": {},
   "outputs": [],
   "source": [
    "# Initialize a DataFrame to store model performance details\n",
    "model_results = pd.DataFrame(columns=[\n",
    "    \"Model Name\", \"Hyperparameters\", \"MSE\", \"RMSE\", \"MAE\", \n",
    "    \"RMSLE\", \"Mean Residual Deviance\", \"R-Squared\", \"Additional Metrics\"\n",
    "])\n",
    "\n",
    "# Helper function to record model performance\n",
    "def record_model(name, hyperparameters, performance=None, additional_metrics=None):\n",
    "    result = {\n",
    "        \"Model Name\": name,\n",
    "        \"Hyperparameters\": hyperparameters,\n",
    "        \"MSE\": performance.mse() if performance else None,\n",
    "        \"RMSE\": performance.rmse() if performance else None,\n",
    "        \"MAE\": performance.mae() if performance else None,\n",
    "        \"RMSLE\": performance.rmsle() if performance else None,\n",
    "        \"Mean Residual Deviance\": performance.mean_residual_deviance() if performance else None,\n",
    "        \"R-Squared\": performance.r2() if performance else None,\n",
    "        \"Additional Metrics\": additional_metrics if additional_metrics else {}\n",
    "    }\n",
    "    \n",
    "    # Append the result as a new row to the DataFrame\n",
    "    global model_results  # Ensure we're working with the global DataFrame\n",
    "    model_results = pd.concat([model_results, pd.DataFrame([result])], ignore_index=True)"
   ]
  },
  {
   "cell_type": "markdown",
   "metadata": {},
   "source": [
    "### Train Default Deep Learning Model <br/>\n",
    "The default deep learning model is trained with minimal hyperparameter customization. This serves as a baseline to compare against more complex models. The model uses a fixed random seed for reproducibility and evaluates its performance using metrics like RMSE, MAE, and R-squared."
   ]
  },
  {
   "cell_type": "code",
   "execution_count": 8,
   "metadata": {},
   "outputs": [
    {
     "name": "stdout",
     "output_type": "stream",
     "text": [
      "deeplearning Model Build progress: |█████████████████████████████████████████████| (done) 100%\n"
     ]
    },
    {
     "data": {
      "text/html": [
       "<pre style='margin: 1em 0 1em 0;'>Model Details\n",
       "=============\n",
       "H2ODeepLearningEstimator : Deep Learning\n",
       "Model Key: DeepLearning_model_python_1735461052018_1\n",
       "</pre>\n",
       "<div style='margin: 1em 0 1em 0;'>\n",
       "<style>\n",
       "\n",
       "#h2o-table-2.h2o-container {\n",
       "  overflow-x: auto;\n",
       "}\n",
       "#h2o-table-2 .h2o-table {\n",
       "  /* width: 100%; */\n",
       "  margin-top: 1em;\n",
       "  margin-bottom: 1em;\n",
       "}\n",
       "#h2o-table-2 .h2o-table caption {\n",
       "  white-space: nowrap;\n",
       "  caption-side: top;\n",
       "  text-align: left;\n",
       "  /* margin-left: 1em; */\n",
       "  margin: 0;\n",
       "  font-size: larger;\n",
       "}\n",
       "#h2o-table-2 .h2o-table thead {\n",
       "  white-space: nowrap; \n",
       "  position: sticky;\n",
       "  top: 0;\n",
       "  box-shadow: 0 -1px inset;\n",
       "}\n",
       "#h2o-table-2 .h2o-table tbody {\n",
       "  overflow: auto;\n",
       "}\n",
       "#h2o-table-2 .h2o-table th,\n",
       "#h2o-table-2 .h2o-table td {\n",
       "  text-align: right;\n",
       "  /* border: 1px solid; */\n",
       "}\n",
       "#h2o-table-2 .h2o-table tr:nth-child(even) {\n",
       "  /* background: #F5F5F5 */\n",
       "}\n",
       "\n",
       "</style>      \n",
       "<div id=\"h2o-table-2\" class=\"h2o-container\">\n",
       "  <table class=\"h2o-table\">\n",
       "    <caption>Status of Neuron Layers: predicting yearly_compensation, regression, gaussian distribution, Quadratic loss, 50,601 weights/biases, 613.2 KB, 54,590 training samples, mini-batch size 1</caption>\n",
       "    <thead><tr><th></th>\n",
       "<th>layer</th>\n",
       "<th>units</th>\n",
       "<th>type</th>\n",
       "<th>dropout</th>\n",
       "<th>l1</th>\n",
       "<th>l2</th>\n",
       "<th>mean_rate</th>\n",
       "<th>rate_rms</th>\n",
       "<th>momentum</th>\n",
       "<th>mean_weight</th>\n",
       "<th>weight_rms</th>\n",
       "<th>mean_bias</th>\n",
       "<th>bias_rms</th></tr></thead>\n",
       "    <tbody><tr><td></td>\n",
       "<td>1</td>\n",
       "<td>50</td>\n",
       "<td>Input</td>\n",
       "<td>0.0</td>\n",
       "<td></td>\n",
       "<td></td>\n",
       "<td></td>\n",
       "<td></td>\n",
       "<td></td>\n",
       "<td></td>\n",
       "<td></td>\n",
       "<td></td>\n",
       "<td></td></tr>\n",
       "<tr><td></td>\n",
       "<td>2</td>\n",
       "<td>200</td>\n",
       "<td>Rectifier</td>\n",
       "<td>0.0</td>\n",
       "<td>0.0</td>\n",
       "<td>0.0</td>\n",
       "<td>0.1995093</td>\n",
       "<td>0.0998517</td>\n",
       "<td>0.0</td>\n",
       "<td>0.0005083</td>\n",
       "<td>0.0953302</td>\n",
       "<td>0.4497687</td>\n",
       "<td>0.0700728</td></tr>\n",
       "<tr><td></td>\n",
       "<td>3</td>\n",
       "<td>200</td>\n",
       "<td>Rectifier</td>\n",
       "<td>0.0</td>\n",
       "<td>0.0</td>\n",
       "<td>0.0</td>\n",
       "<td>0.4253343</td>\n",
       "<td>0.3431659</td>\n",
       "<td>0.0</td>\n",
       "<td>-0.0160143</td>\n",
       "<td>0.0711694</td>\n",
       "<td>0.9563670</td>\n",
       "<td>0.0244011</td></tr>\n",
       "<tr><td></td>\n",
       "<td>4</td>\n",
       "<td>1</td>\n",
       "<td>Linear</td>\n",
       "<td></td>\n",
       "<td>0.0</td>\n",
       "<td>0.0</td>\n",
       "<td>0.0066523</td>\n",
       "<td>0.0029724</td>\n",
       "<td>0.0</td>\n",
       "<td>0.0017300</td>\n",
       "<td>0.0407801</td>\n",
       "<td>-0.0239891</td>\n",
       "<td>0.0000000</td></tr></tbody>\n",
       "  </table>\n",
       "</div>\n",
       "</div>\n",
       "<div style='margin: 1em 0 1em 0;'><pre style='margin: 1em 0 1em 0;'>ModelMetricsRegression: deeplearning\n",
       "** Reported on train data. **\n",
       "\n",
       "MSE: 0.10573954991881261\n",
       "RMSE: 0.3251761828898491\n",
       "MAE: 0.25527150297906465\n",
       "RMSLE: NaN\n",
       "Mean Residual Deviance: 0.10573954991881261</pre></div>\n",
       "<div style='margin: 1em 0 1em 0;'><pre style='margin: 1em 0 1em 0;'>ModelMetricsRegression: deeplearning\n",
       "** Reported on validation data. **\n",
       "\n",
       "MSE: 0.1599380797818223\n",
       "RMSE: 0.39992259223732574\n",
       "MAE: 0.3130443455548701\n",
       "RMSLE: NaN\n",
       "Mean Residual Deviance: 0.1599380797818223</pre></div>\n",
       "<div style='margin: 1em 0 1em 0;'>\n",
       "<style>\n",
       "\n",
       "#h2o-table-3.h2o-container {\n",
       "  overflow-x: auto;\n",
       "}\n",
       "#h2o-table-3 .h2o-table {\n",
       "  /* width: 100%; */\n",
       "  margin-top: 1em;\n",
       "  margin-bottom: 1em;\n",
       "}\n",
       "#h2o-table-3 .h2o-table caption {\n",
       "  white-space: nowrap;\n",
       "  caption-side: top;\n",
       "  text-align: left;\n",
       "  /* margin-left: 1em; */\n",
       "  margin: 0;\n",
       "  font-size: larger;\n",
       "}\n",
       "#h2o-table-3 .h2o-table thead {\n",
       "  white-space: nowrap; \n",
       "  position: sticky;\n",
       "  top: 0;\n",
       "  box-shadow: 0 -1px inset;\n",
       "}\n",
       "#h2o-table-3 .h2o-table tbody {\n",
       "  overflow: auto;\n",
       "}\n",
       "#h2o-table-3 .h2o-table th,\n",
       "#h2o-table-3 .h2o-table td {\n",
       "  text-align: right;\n",
       "  /* border: 1px solid; */\n",
       "}\n",
       "#h2o-table-3 .h2o-table tr:nth-child(even) {\n",
       "  /* background: #F5F5F5 */\n",
       "}\n",
       "\n",
       "</style>      \n",
       "<div id=\"h2o-table-3\" class=\"h2o-container\">\n",
       "  <table class=\"h2o-table\">\n",
       "    <caption>Scoring History: </caption>\n",
       "    <thead><tr><th></th>\n",
       "<th>timestamp</th>\n",
       "<th>duration</th>\n",
       "<th>training_speed</th>\n",
       "<th>epochs</th>\n",
       "<th>iterations</th>\n",
       "<th>samples</th>\n",
       "<th>training_rmse</th>\n",
       "<th>training_deviance</th>\n",
       "<th>training_mae</th>\n",
       "<th>training_r2</th>\n",
       "<th>validation_rmse</th>\n",
       "<th>validation_deviance</th>\n",
       "<th>validation_mae</th>\n",
       "<th>validation_r2</th></tr></thead>\n",
       "    <tbody><tr><td></td>\n",
       "<td>2024-12-29 16:31:38</td>\n",
       "<td> 0.000 sec</td>\n",
       "<td>None</td>\n",
       "<td>0.0</td>\n",
       "<td>0</td>\n",
       "<td>0.0</td>\n",
       "<td>nan</td>\n",
       "<td>nan</td>\n",
       "<td>nan</td>\n",
       "<td>nan</td>\n",
       "<td>nan</td>\n",
       "<td>nan</td>\n",
       "<td>nan</td>\n",
       "<td>nan</td></tr>\n",
       "<tr><td></td>\n",
       "<td>2024-12-29 16:31:40</td>\n",
       "<td> 2.615 sec</td>\n",
       "<td>4052 obs/sec</td>\n",
       "<td>1.0</td>\n",
       "<td>1</td>\n",
       "<td>5459.0</td>\n",
       "<td>1.1010734</td>\n",
       "<td>1.2123626</td>\n",
       "<td>0.8425727</td>\n",
       "<td>0.9788747</td>\n",
       "<td>1.1556346</td>\n",
       "<td>1.3354912</td>\n",
       "<td>0.8674988</td>\n",
       "<td>0.9767457</td></tr>\n",
       "<tr><td></td>\n",
       "<td>2024-12-29 16:31:44</td>\n",
       "<td> 6.853 sec</td>\n",
       "<td>10199 obs/sec</td>\n",
       "<td>10.0</td>\n",
       "<td>10</td>\n",
       "<td>54590.0</td>\n",
       "<td>0.3251762</td>\n",
       "<td>0.1057395</td>\n",
       "<td>0.2552715</td>\n",
       "<td>0.9981575</td>\n",
       "<td>0.3999226</td>\n",
       "<td>0.1599381</td>\n",
       "<td>0.3130443</td>\n",
       "<td>0.9972151</td></tr></tbody>\n",
       "  </table>\n",
       "</div>\n",
       "</div>\n",
       "<div style='margin: 1em 0 1em 0;'>\n",
       "<style>\n",
       "\n",
       "#h2o-table-4.h2o-container {\n",
       "  overflow-x: auto;\n",
       "}\n",
       "#h2o-table-4 .h2o-table {\n",
       "  /* width: 100%; */\n",
       "  margin-top: 1em;\n",
       "  margin-bottom: 1em;\n",
       "}\n",
       "#h2o-table-4 .h2o-table caption {\n",
       "  white-space: nowrap;\n",
       "  caption-side: top;\n",
       "  text-align: left;\n",
       "  /* margin-left: 1em; */\n",
       "  margin: 0;\n",
       "  font-size: larger;\n",
       "}\n",
       "#h2o-table-4 .h2o-table thead {\n",
       "  white-space: nowrap; \n",
       "  position: sticky;\n",
       "  top: 0;\n",
       "  box-shadow: 0 -1px inset;\n",
       "}\n",
       "#h2o-table-4 .h2o-table tbody {\n",
       "  overflow: auto;\n",
       "}\n",
       "#h2o-table-4 .h2o-table th,\n",
       "#h2o-table-4 .h2o-table td {\n",
       "  text-align: right;\n",
       "  /* border: 1px solid; */\n",
       "}\n",
       "#h2o-table-4 .h2o-table tr:nth-child(even) {\n",
       "  /* background: #F5F5F5 */\n",
       "}\n",
       "\n",
       "</style>      \n",
       "<div id=\"h2o-table-4\" class=\"h2o-container\">\n",
       "  <table class=\"h2o-table\">\n",
       "    <caption>Variable Importances: </caption>\n",
       "    <thead><tr><th>variable</th>\n",
       "<th>relative_importance</th>\n",
       "<th>scaled_importance</th>\n",
       "<th>percentage</th></tr></thead>\n",
       "    <tbody><tr><td>job_title_Data_Engineer</td>\n",
       "<td>1.0</td>\n",
       "<td>1.0</td>\n",
       "<td>0.0325634</td></tr>\n",
       "<tr><td>used_tpu</td>\n",
       "<td>0.8822723</td>\n",
       "<td>0.8822723</td>\n",
       "<td>0.0287298</td></tr>\n",
       "<tr><td>ml_spending</td>\n",
       "<td>0.8682330</td>\n",
       "<td>0.8682330</td>\n",
       "<td>0.0282726</td></tr>\n",
       "<tr><td>country_Ukraine</td>\n",
       "<td>0.8234869</td>\n",
       "<td>0.8234869</td>\n",
       "<td>0.0268155</td></tr>\n",
       "<tr><td>Total_Experience</td>\n",
       "<td>0.7489054</td>\n",
       "<td>0.7489054</td>\n",
       "<td>0.0243869</td></tr>\n",
       "<tr><td>country_United_States_of_America</td>\n",
       "<td>0.7448723</td>\n",
       "<td>0.7448723</td>\n",
       "<td>0.0242556</td></tr>\n",
       "<tr><td>country_SUMprofileTable_yearly_compensation</td>\n",
       "<td>0.7195638</td>\n",
       "<td>0.7195638</td>\n",
       "<td>0.0234314</td></tr>\n",
       "<tr><td>country_Austria</td>\n",
       "<td>0.6916451</td>\n",
       "<td>0.6916451</td>\n",
       "<td>0.0225223</td></tr>\n",
       "<tr><td>country_Thailand</td>\n",
       "<td>0.6845521</td>\n",
       "<td>0.6845521</td>\n",
       "<td>0.0222913</td></tr>\n",
       "<tr><td>demographics_COUNTprofileTable</td>\n",
       "<td>0.6543080</td>\n",
       "<td>0.6543080</td>\n",
       "<td>0.0213065</td></tr>\n",
       "<tr><td>---</td>\n",
       "<td>---</td>\n",
       "<td>---</td>\n",
       "<td>---</td></tr>\n",
       "<tr><td>gender_Male</td>\n",
       "<td>0.5529190</td>\n",
       "<td>0.5529190</td>\n",
       "<td>0.0180049</td></tr>\n",
       "<tr><td>PrimaryTool_MEANprofileTable_yearly_compensation</td>\n",
       "<td>0.5524871</td>\n",
       "<td>0.5524871</td>\n",
       "<td>0.0179909</td></tr>\n",
       "<tr><td>jobTitle_SUMprofileTable_yearly_compensation_1</td>\n",
       "<td>0.5473950</td>\n",
       "<td>0.5473950</td>\n",
       "<td>0.0178250</td></tr>\n",
       "<tr><td>country_Philippines</td>\n",
       "<td>0.5312260</td>\n",
       "<td>0.5312260</td>\n",
       "<td>0.0172985</td></tr>\n",
       "<tr><td>job_title_Product/Project_Manager</td>\n",
       "<td>0.5265130</td>\n",
       "<td>0.5265130</td>\n",
       "<td>0.0171450</td></tr>\n",
       "<tr><td>job_title_Research_Scientist</td>\n",
       "<td>0.5262723</td>\n",
       "<td>0.5262723</td>\n",
       "<td>0.0171372</td></tr>\n",
       "<tr><td>job_title_Data_Analyst</td>\n",
       "<td>0.4936969</td>\n",
       "<td>0.4936969</td>\n",
       "<td>0.0160764</td></tr>\n",
       "<tr><td>company_COUNTprofileTable</td>\n",
       "<td>0.4918678</td>\n",
       "<td>0.4918678</td>\n",
       "<td>0.0160169</td></tr>\n",
       "<tr><td>mlIncorporation_MEANprofileTable_yearly_compensation</td>\n",
       "<td>0.4909595</td>\n",
       "<td>0.4909595</td>\n",
       "<td>0.0159873</td></tr>\n",
       "<tr><td>job_title_Data_Scientist</td>\n",
       "<td>0.4486041</td>\n",
       "<td>0.4486041</td>\n",
       "<td>0.0146081</td></tr></tbody>\n",
       "  </table>\n",
       "</div>\n",
       "<pre style='font-size: smaller; margin-bottom: 1em;'>[50 rows x 4 columns]</pre></div><pre style=\"font-size: smaller; margin: 1em 0 0 0;\">\n",
       "\n",
       "[tips]\n",
       "Use `model.explain()` to inspect the model.\n",
       "--\n",
       "Use `h2o.display.toggle_user_tips()` to switch on/off this section.</pre>"
      ],
      "text/plain": [
       "Model Details\n",
       "=============\n",
       "H2ODeepLearningEstimator : Deep Learning\n",
       "Model Key: DeepLearning_model_python_1735461052018_1\n",
       "\n",
       "\n",
       "Status of Neuron Layers: predicting yearly_compensation, regression, gaussian distribution, Quadratic loss, 50,601 weights/biases, 613.2 KB, 54,590 training samples, mini-batch size 1\n",
       "    layer    units    type       dropout    l1    l2    mean_rate             rate_rms              momentum    mean_weight            weight_rms            mean_bias             bias_rms\n",
       "--  -------  -------  ---------  ---------  ----  ----  --------------------  --------------------  ----------  ---------------------  --------------------  --------------------  -----------------------\n",
       "    1        50       Input      0.0\n",
       "    2        200      Rectifier  0.0        0.0   0.0   0.19950932567659765   0.09985166788101196   0.0         0.0005082754525378733  0.09533023834228516   0.4497687108432842    0.07007277011871338\n",
       "    3        200      Rectifier  0.0        0.0   0.0   0.42533431847795145   0.34316587448120117   0.0         -0.016014308011823995  0.07116937637329102   0.956366994442846     0.02440108358860016\n",
       "    4        1        Linear                0.0   0.0   0.006652345934708137  0.002972404472529888  0.0         0.0017299741761576115  0.040780141949653625  -0.02398909528038229  1.0971281125650402e-154\n",
       "\n",
       "ModelMetricsRegression: deeplearning\n",
       "** Reported on train data. **\n",
       "\n",
       "MSE: 0.10573954991881261\n",
       "RMSE: 0.3251761828898491\n",
       "MAE: 0.25527150297906465\n",
       "RMSLE: NaN\n",
       "Mean Residual Deviance: 0.10573954991881261\n",
       "\n",
       "ModelMetricsRegression: deeplearning\n",
       "** Reported on validation data. **\n",
       "\n",
       "MSE: 0.1599380797818223\n",
       "RMSE: 0.39992259223732574\n",
       "MAE: 0.3130443455548701\n",
       "RMSLE: NaN\n",
       "Mean Residual Deviance: 0.1599380797818223\n",
       "\n",
       "Scoring History: \n",
       "    timestamp            duration    training_speed    epochs    iterations    samples    training_rmse    training_deviance    training_mae    training_r2    validation_rmse    validation_deviance    validation_mae    validation_r2\n",
       "--  -------------------  ----------  ----------------  --------  ------------  ---------  ---------------  -------------------  --------------  -------------  -----------------  ---------------------  ----------------  ---------------\n",
       "    2024-12-29 16:31:38  0.000 sec                     0         0             0          nan              nan                  nan             nan            nan                nan                    nan               nan\n",
       "    2024-12-29 16:31:40  2.615 sec   4052 obs/sec      1         1             5459       1.10107          1.21236              0.842573        0.978875       1.15563            1.33549                0.867499          0.976746\n",
       "    2024-12-29 16:31:44  6.853 sec   10199 obs/sec     10        10            54590      0.325176         0.10574              0.255272        0.998158       0.399923           0.159938               0.313044          0.997215\n",
       "\n",
       "Variable Importances: \n",
       "variable                                              relative_importance    scaled_importance    percentage\n",
       "----------------------------------------------------  ---------------------  -------------------  --------------------\n",
       "job_title_Data_Engineer                               1.0                    1.0                  0.03256339177560067\n",
       "used_tpu                                              0.8822723031044006     0.8822723031044006   0.028729778658750104\n",
       "ml_spending                                           0.8682329654693604     0.8682329654693604   0.028272610207070354\n",
       "country_Ukraine                                       0.8234869241714478     0.8234869241714478   0.026815527333879218\n",
       "Total_Experience                                      0.7489054203033447     0.7489054203033447   0.024386900604208703\n",
       "country_United_States_of_America                      0.7448723316192627     0.7448723316192627   0.024255569557323196\n",
       "country_SUMprofileTable_yearly_compensation           0.7195638418197632     0.7195638418197632   0.0234314392887333\n",
       "country_Austria                                       0.6916451454162598     0.6916451454162598   0.022522311839881966\n",
       "country_Thailand                                      0.6845521330833435     0.6845521330833435   0.022291339300416046\n",
       "demographics_COUNTprofileTable                        0.654308021068573      0.654308021068573    0.021306488431973924\n",
       "---                                                   ---                    ---                  ---\n",
       "gender_Male                                           0.5529190301895142     0.5529190301895142   0.018004919000246325\n",
       "PrimaryTool_MEANprofileTable_yearly_compensation      0.5524871349334717     0.5524871349334717   0.017990855025817792\n",
       "jobTitle_SUMprofileTable_yearly_compensation_1        0.5473949909210205     0.5473949909210205   0.017825037545362566\n",
       "country_Philippines                                   0.5312259793281555     0.5312259793281555   0.017298519686239872\n",
       "job_title_Product/Project_Manager                     0.5265129804611206     0.5265129804611206   0.017145048457694653\n",
       "job_title_Research_Scientist                          0.5262722969055176     0.5262722969055176   0.01713721098477961\n",
       "job_title_Data_Analyst                                0.493696928024292      0.493696928024292    0.016076446485665547\n",
       "company_COUNTprofileTable                             0.4918678104877472     0.4918678104877472   0.016016884214719418\n",
       "mlIncorporation_MEANprofileTable_yearly_compensation  0.490959495306015      0.490959495306015    0.015987306391600946\n",
       "job_title_Data_Scientist                              0.44860413670539856    0.44860413670539856  0.014608072255693015\n",
       "[50 rows x 4 columns]\n",
       "\n",
       "\n",
       "[tips]\n",
       "Use `model.explain()` to inspect the model.\n",
       "--\n",
       "Use `h2o.display.toggle_user_tips()` to switch on/off this section."
      ]
     },
     "execution_count": 8,
     "metadata": {},
     "output_type": "execute_result"
    }
   ],
   "source": [
    "# Train Default Deep Learning Model\n",
    "default_dl_model = H2ODeepLearningEstimator(seed=42)\n",
    "default_dl_model.train(x=features, y=target, training_frame=train_h2o, validation_frame=val_h2o)"
   ]
  },
  {
   "cell_type": "code",
   "execution_count": 9,
   "metadata": {},
   "outputs": [
    {
     "name": "stdout",
     "output_type": "stream",
     "text": [
      "Default Deep Learning Model Performance:\n",
      "ModelMetricsRegression: deeplearning\n",
      "** Reported on test data. **\n",
      "\n",
      "MSE: 0.17237986670457575\n",
      "RMSE: 0.41518654446474507\n",
      "MAE: 0.3124945439505148\n",
      "RMSLE: 0.14093044344592942\n",
      "Mean Residual Deviance: 0.17237986670457575\n"
     ]
    }
   ],
   "source": [
    "# Evaluate Default Model\n",
    "default_performance = default_dl_model.model_performance(test_h2o)\n",
    "print(\"Default Deep Learning Model Performance:\")\n",
    "print(default_performance)"
   ]
  },
  {
   "cell_type": "code",
   "execution_count": 51,
   "metadata": {},
   "outputs": [],
   "source": [
    "# Record default model performance\n",
    "record_model(\"Default Deep Learning Model\", {\"seed\": 42}, default_performance)"
   ]
  },
  {
   "cell_type": "code",
   "execution_count": 52,
   "metadata": {},
   "outputs": [
    {
     "data": {
      "text/html": [
       "<div>\n",
       "<style scoped>\n",
       "    .dataframe tbody tr th:only-of-type {\n",
       "        vertical-align: middle;\n",
       "    }\n",
       "\n",
       "    .dataframe tbody tr th {\n",
       "        vertical-align: top;\n",
       "    }\n",
       "\n",
       "    .dataframe thead th {\n",
       "        text-align: right;\n",
       "    }\n",
       "</style>\n",
       "<table border=\"1\" class=\"dataframe\">\n",
       "  <thead>\n",
       "    <tr style=\"text-align: right;\">\n",
       "      <th></th>\n",
       "      <th>Model Name</th>\n",
       "      <th>Hyperparameters</th>\n",
       "      <th>MSE</th>\n",
       "      <th>RMSE</th>\n",
       "      <th>MAE</th>\n",
       "      <th>RMSLE</th>\n",
       "      <th>Mean Residual Deviance</th>\n",
       "      <th>R-Squared</th>\n",
       "      <th>Additional Metrics</th>\n",
       "    </tr>\n",
       "  </thead>\n",
       "  <tbody>\n",
       "    <tr>\n",
       "      <th>0</th>\n",
       "      <td>Default Deep Learning Model</td>\n",
       "      <td>{'seed': 42}</td>\n",
       "      <td>0.17238</td>\n",
       "      <td>0.415187</td>\n",
       "      <td>0.312495</td>\n",
       "      <td>0.14093</td>\n",
       "      <td>0.17238</td>\n",
       "      <td>0.996995</td>\n",
       "      <td>{}</td>\n",
       "    </tr>\n",
       "  </tbody>\n",
       "</table>\n",
       "</div>"
      ],
      "text/plain": [
       "                    Model Name Hyperparameters      MSE      RMSE       MAE  \\\n",
       "0  Default Deep Learning Model    {'seed': 42}  0.17238  0.415187  0.312495   \n",
       "\n",
       "     RMSLE  Mean Residual Deviance  R-Squared Additional Metrics  \n",
       "0  0.14093                 0.17238   0.996995                 {}  "
      ]
     },
     "execution_count": 52,
     "metadata": {},
     "output_type": "execute_result"
    }
   ],
   "source": [
    "model_results"
   ]
  },
  {
   "cell_type": "markdown",
   "metadata": {},
   "source": [
    "### Hyperparameter Optimization with Optuna <br/>\n",
    "Optuna performs hyperparameter tuning using an efficient sampling strategy. The objective function trains the model with sampled hyperparameters and evaluates its validation RMSE. The best hyperparameters are selected after multiple trials."
   ]
  },
  {
   "cell_type": "code",
   "execution_count": 12,
   "metadata": {},
   "outputs": [],
   "source": [
    "# Step 3: Hyperparameter Optimization using Optuna\n",
    "def objective(trial):\n",
    "    # Define hyperparameter search space\n",
    "    params = {\n",
    "        \"epochs\": trial.suggest_int(\"epochs\", 10, 100),\n",
    "        \"hidden\": trial.suggest_categorical(\"hidden\", [[50, 50], [100, 100], [200, 200]]),\n",
    "        \"input_dropout_ratio\": trial.suggest_float(\"input_dropout_ratio\", 0.0, 0.5),\n",
    "        \"l1\": trial.suggest_float(\"l1\", 1e-6, 1e-3),\n",
    "        \"l2\": trial.suggest_float(\"l2\", 1e-6, 1e-3),\n",
    "        \"activation\": trial.suggest_categorical(\"activation\", [\"Rectifier\", \"Tanh\", \"Maxout\"]),\n",
    "    }\n",
    "    \n",
    "    # Train Deep Learning Model with hyperparameters\n",
    "    model = H2ODeepLearningEstimator(**params, seed=42)\n",
    "    model.train(x=features, y=target, training_frame=train_h2o, validation_frame=val_h2o)\n",
    "    \n",
    "    # Get validation performance (use RMSE as optimization target)\n",
    "    performance = model.model_performance(val_h2o)\n",
    "    return performance.rmse()"
   ]
  },
  {
   "cell_type": "code",
   "execution_count": 13,
   "metadata": {},
   "outputs": [
    {
     "name": "stderr",
     "output_type": "stream",
     "text": [
      "[I 2024-12-29 16:31:57,991] A new study created in memory with name: no-name-b862c1de-612b-467d-9900-2ad3eeb615d9\n"
     ]
    },
    {
     "name": "stdout",
     "output_type": "stream",
     "text": [
      "deeplearning Model Build progress: |"
     ]
    },
    {
     "name": "stderr",
     "output_type": "stream",
     "text": [
      "c:\\Users\\Huawei\\OneDrive - Universiti Malaya\\Desktop\\SEMESTER 7\\WIE3007_Data-Mining\\Group Project\\data-mining-warehousing-wages-analysis\\venv\\lib\\site-packages\\optuna\\distributions.py:524: UserWarning: Choices for a categorical distribution should be a tuple of None, bool, int, float and str for persistent storage but contains [50, 50] which is of type list.\n",
      "  warnings.warn(message)\n",
      "c:\\Users\\Huawei\\OneDrive - Universiti Malaya\\Desktop\\SEMESTER 7\\WIE3007_Data-Mining\\Group Project\\data-mining-warehousing-wages-analysis\\venv\\lib\\site-packages\\optuna\\distributions.py:524: UserWarning: Choices for a categorical distribution should be a tuple of None, bool, int, float and str for persistent storage but contains [100, 100] which is of type list.\n",
      "  warnings.warn(message)\n",
      "c:\\Users\\Huawei\\OneDrive - Universiti Malaya\\Desktop\\SEMESTER 7\\WIE3007_Data-Mining\\Group Project\\data-mining-warehousing-wages-analysis\\venv\\lib\\site-packages\\optuna\\distributions.py:524: UserWarning: Choices for a categorical distribution should be a tuple of None, bool, int, float and str for persistent storage but contains [200, 200] which is of type list.\n",
      "  warnings.warn(message)\n"
     ]
    },
    {
     "name": "stdout",
     "output_type": "stream",
     "text": [
      "█████████████████████████████████████████████| (done) 100%\n"
     ]
    },
    {
     "name": "stderr",
     "output_type": "stream",
     "text": [
      "[I 2024-12-29 16:32:16,208] Trial 0 finished with value: 1.808243555258793 and parameters: {'epochs': 74, 'hidden': [200, 200], 'input_dropout_ratio': 0.2764774693119634, 'l1': 0.0007595104254745987, 'l2': 9.315124302803318e-05, 'activation': 'Rectifier'}. Best is trial 0 with value: 1.808243555258793.\n"
     ]
    },
    {
     "name": "stdout",
     "output_type": "stream",
     "text": [
      "deeplearning Model Build progress: |█████████████████████████████████████████████| (done) 100%\n"
     ]
    },
    {
     "name": "stderr",
     "output_type": "stream",
     "text": [
      "[I 2024-12-29 16:32:37,097] Trial 1 finished with value: 1.3279682659229815 and parameters: {'epochs': 100, 'hidden': [50, 50], 'input_dropout_ratio': 0.247855194138982, 'l1': 0.0007547056274406773, 'l2': 0.0006106556460799933, 'activation': 'Maxout'}. Best is trial 1 with value: 1.3279682659229815.\n"
     ]
    },
    {
     "name": "stdout",
     "output_type": "stream",
     "text": [
      "deeplearning Model Build progress: |████████████████████████████████████████████"
     ]
    },
    {
     "name": "stderr",
     "output_type": "stream",
     "text": [
      "[I 2024-12-29 16:33:18,402] Trial 2 finished with value: 0.6972262665022374 and parameters: {'epochs': 78, 'hidden': [100, 100], 'input_dropout_ratio': 0.021786159625387047, 'l1': 0.0006837711418421921, 'l2': 0.0006036029177502079, 'activation': 'Tanh'}. Best is trial 2 with value: 0.6972262665022374.\n"
     ]
    },
    {
     "name": "stdout",
     "output_type": "stream",
     "text": [
      "█| (done) 100%\n",
      "deeplearning Model Build progress: |█████████████████████████████████████████████| (done) 100%\n"
     ]
    },
    {
     "name": "stderr",
     "output_type": "stream",
     "text": [
      "[I 2024-12-29 16:33:57,389] Trial 3 finished with value: 1.1693910092129791 and parameters: {'epochs': 97, 'hidden': [200, 200], 'input_dropout_ratio': 0.17931379260618818, 'l1': 4.0839374883050106e-05, 'l2': 0.0002919873226838555, 'activation': 'Rectifier'}. Best is trial 2 with value: 0.6972262665022374.\n"
     ]
    },
    {
     "name": "stdout",
     "output_type": "stream",
     "text": [
      "deeplearning Model Build progress: |█████████████████████████████████████████████| (done) 100%\n"
     ]
    },
    {
     "name": "stderr",
     "output_type": "stream",
     "text": [
      "[I 2024-12-29 16:34:14,818] Trial 4 finished with value: 1.1450959384675927 and parameters: {'epochs': 30, 'hidden': [100, 100], 'input_dropout_ratio': 0.18756045911926628, 'l1': 0.0001599632938959047, 'l2': 0.00026158288583889985, 'activation': 'Tanh'}. Best is trial 2 with value: 0.6972262665022374.\n"
     ]
    },
    {
     "name": "stdout",
     "output_type": "stream",
     "text": [
      "deeplearning Model Build progress: |████████████████████████████████████████████"
     ]
    },
    {
     "name": "stderr",
     "output_type": "stream",
     "text": [
      "[I 2024-12-29 16:34:31,497] Trial 5 finished with value: 2.0992704951195056 and parameters: {'epochs': 22, 'hidden': [100, 100], 'input_dropout_ratio': 0.4220207196276296, 'l1': 0.0005514604595367953, 'l2': 0.0008851951132234265, 'activation': 'Maxout'}. Best is trial 2 with value: 0.6972262665022374.\n"
     ]
    },
    {
     "name": "stdout",
     "output_type": "stream",
     "text": [
      "█| (done) 100%\n",
      "deeplearning Model Build progress: |█████████████████████████████████████████████| (done) 100%\n"
     ]
    },
    {
     "name": "stderr",
     "output_type": "stream",
     "text": [
      "[I 2024-12-29 16:34:38,047] Trial 6 finished with value: 0.5574520629326151 and parameters: {'epochs': 25, 'hidden': [100, 100], 'input_dropout_ratio': 0.01924080327170108, 'l1': 0.0009345653909373542, 'l2': 0.0005676378292581919, 'activation': 'Rectifier'}. Best is trial 6 with value: 0.5574520629326151.\n"
     ]
    },
    {
     "name": "stdout",
     "output_type": "stream",
     "text": [
      "deeplearning Model Build progress: |█████████████████████████████████████████████| (done) 100%\n"
     ]
    },
    {
     "name": "stderr",
     "output_type": "stream",
     "text": [
      "[I 2024-12-29 16:34:42,847] Trial 7 finished with value: 0.7726841881628845 and parameters: {'epochs': 55, 'hidden': [50, 50], 'input_dropout_ratio': 0.06225159738238395, 'l1': 0.0004572844798230411, 'l2': 0.00027745564982452787, 'activation': 'Rectifier'}. Best is trial 6 with value: 0.5574520629326151.\n"
     ]
    },
    {
     "name": "stdout",
     "output_type": "stream",
     "text": [
      "deeplearning Model Build progress: |█████████████████████████████████████████████| (done) 100%\n"
     ]
    },
    {
     "name": "stderr",
     "output_type": "stream",
     "text": [
      "[I 2024-12-29 16:34:46,691] Trial 8 finished with value: 2.2942547833337517 and parameters: {'epochs': 12, 'hidden': [50, 50], 'input_dropout_ratio': 0.4468060158015844, 'l1': 0.0009572519545101224, 'l2': 0.0007613978086368552, 'activation': 'Tanh'}. Best is trial 6 with value: 0.5574520629326151.\n"
     ]
    },
    {
     "name": "stdout",
     "output_type": "stream",
     "text": [
      "deeplearning Model Build progress: |████████████████████████████████████████████"
     ]
    },
    {
     "name": "stderr",
     "output_type": "stream",
     "text": [
      "[I 2024-12-29 16:35:08,962] Trial 9 finished with value: 2.217510010949232 and parameters: {'epochs': 91, 'hidden': [200, 200], 'input_dropout_ratio': 0.4952421419802557, 'l1': 0.000989215540439543, 'l2': 0.000385484725680172, 'activation': 'Rectifier'}. Best is trial 6 with value: 0.5574520629326151.\n"
     ]
    },
    {
     "name": "stdout",
     "output_type": "stream",
     "text": [
      "█| (done) 100%\n",
      "deeplearning Model Build progress: |█████████████████████████████████████████████| (done) 100%\n"
     ]
    },
    {
     "name": "stderr",
     "output_type": "stream",
     "text": [
      "[I 2024-12-29 16:35:18,221] Trial 10 finished with value: 0.8838025302087164 and parameters: {'epochs': 43, 'hidden': [100, 100], 'input_dropout_ratio': 0.10160161362536704, 'l1': 0.0004392802976604521, 'l2': 1.3225751230614888e-05, 'activation': 'Rectifier'}. Best is trial 6 with value: 0.5574520629326151.\n"
     ]
    },
    {
     "name": "stdout",
     "output_type": "stream",
     "text": [
      "deeplearning Model Build progress: |████████████████████████████████████████████"
     ]
    },
    {
     "name": "stderr",
     "output_type": "stream",
     "text": [
      "[I 2024-12-29 16:36:08,586] Trial 11 finished with value: 0.6907908123627505 and parameters: {'epochs': 74, 'hidden': [100, 100], 'input_dropout_ratio': 0.004501757539628223, 'l1': 0.0007116343695343038, 'l2': 0.0005893416645479287, 'activation': 'Tanh'}. Best is trial 6 with value: 0.5574520629326151.\n"
     ]
    },
    {
     "name": "stdout",
     "output_type": "stream",
     "text": [
      "█| (done) 100%\n",
      "deeplearning Model Build progress: |████████████████████████████████████████████"
     ]
    },
    {
     "name": "stderr",
     "output_type": "stream",
     "text": [
      "[I 2024-12-29 16:36:52,265] Trial 12 finished with value: 0.7600240793234229 and parameters: {'epochs': 64, 'hidden': [100, 100], 'input_dropout_ratio': 0.011123992947668472, 'l1': 0.0008623353113561478, 'l2': 0.0005597437498450665, 'activation': 'Tanh'}. Best is trial 6 with value: 0.5574520629326151.\n"
     ]
    },
    {
     "name": "stdout",
     "output_type": "stream",
     "text": [
      "█| (done) 100%\n",
      "deeplearning Model Build progress: |████████████████████████████████████████████"
     ]
    },
    {
     "name": "stderr",
     "output_type": "stream",
     "text": [
      "[I 2024-12-29 16:37:21,774] Trial 13 finished with value: 1.0100575162204026 and parameters: {'epochs': 44, 'hidden': [100, 100], 'input_dropout_ratio': 0.1262255136092462, 'l1': 0.0005863568078918668, 'l2': 0.0007463658815847865, 'activation': 'Tanh'}. Best is trial 6 with value: 0.5574520629326151.\n"
     ]
    },
    {
     "name": "stdout",
     "output_type": "stream",
     "text": [
      "█| (done) 100%\n",
      "deeplearning Model Build progress: |█████████████████████████████████████████████| (done) 100%\n"
     ]
    },
    {
     "name": "stderr",
     "output_type": "stream",
     "text": [
      "[I 2024-12-29 16:37:50,132] Trial 14 finished with value: 0.2842984116741133 and parameters: {'epochs': 37, 'hidden': [100, 100], 'input_dropout_ratio': 0.0013062179562149737, 'l1': 0.0008734285704456857, 'l2': 0.00044395405309485716, 'activation': 'Maxout'}. Best is trial 14 with value: 0.2842984116741133.\n"
     ]
    },
    {
     "name": "stdout",
     "output_type": "stream",
     "text": [
      "deeplearning Model Build progress: |█████████████████████████████████████████████| (done) 100%\n"
     ]
    },
    {
     "name": "stderr",
     "output_type": "stream",
     "text": [
      "[I 2024-12-29 16:38:14,036] Trial 15 finished with value: 1.8824940458301644 and parameters: {'epochs': 33, 'hidden': [100, 100], 'input_dropout_ratio': 0.3305030605193073, 'l1': 0.0002896386211175739, 'l2': 0.0004365026454293437, 'activation': 'Maxout'}. Best is trial 14 with value: 0.2842984116741133.\n"
     ]
    },
    {
     "name": "stdout",
     "output_type": "stream",
     "text": [
      "deeplearning Model Build progress: |█████████████████████████████████████████████| (done) 100%\n"
     ]
    },
    {
     "name": "stderr",
     "output_type": "stream",
     "text": [
      "[I 2024-12-29 16:38:26,330] Trial 16 finished with value: 0.975588338687193 and parameters: {'epochs': 14, 'hidden': [100, 100], 'input_dropout_ratio': 0.09765780229627438, 'l1': 0.0008820905790281968, 'l2': 0.0007217891102161952, 'activation': 'Maxout'}. Best is trial 14 with value: 0.2842984116741133.\n"
     ]
    },
    {
     "name": "stdout",
     "output_type": "stream",
     "text": [
      "deeplearning Model Build progress: |█████████████████████████████████████████████| (done) 100%\n"
     ]
    },
    {
     "name": "stderr",
     "output_type": "stream",
     "text": [
      "[I 2024-12-29 16:39:00,509] Trial 17 finished with value: 1.1384997501482428 and parameters: {'epochs': 42, 'hidden': [100, 100], 'input_dropout_ratio': 0.15549772618313137, 'l1': 0.0008238765797868653, 'l2': 0.0009601839196833405, 'activation': 'Maxout'}. Best is trial 14 with value: 0.2842984116741133.\n"
     ]
    },
    {
     "name": "stdout",
     "output_type": "stream",
     "text": [
      "deeplearning Model Build progress: |█████████████████████████████████████████████| (done) 100%\n"
     ]
    },
    {
     "name": "stderr",
     "output_type": "stream",
     "text": [
      "[I 2024-12-29 16:39:08,852] Trial 18 finished with value: 0.7274356089652834 and parameters: {'epochs': 28, 'hidden': [50, 50], 'input_dropout_ratio': 0.06432311563172588, 'l1': 0.000990050740682447, 'l2': 0.0004562117262446519, 'activation': 'Maxout'}. Best is trial 14 with value: 0.2842984116741133.\n"
     ]
    },
    {
     "name": "stdout",
     "output_type": "stream",
     "text": [
      "deeplearning Model Build progress: |█████████████████████████████████████████████| (done) 100%\n"
     ]
    },
    {
     "name": "stderr",
     "output_type": "stream",
     "text": [
      "[I 2024-12-29 16:39:30,261] Trial 19 finished with value: 1.4233917254858595 and parameters: {'epochs': 52, 'hidden': [200, 200], 'input_dropout_ratio': 0.22320830169134048, 'l1': 0.000329929897844141, 'l2': 0.00016807906879025497, 'activation': 'Rectifier'}. Best is trial 14 with value: 0.2842984116741133.\n"
     ]
    }
   ],
   "source": [
    "# Perform hyperparameter optimization\n",
    "study = optuna.create_study(direction=\"minimize\")\n",
    "study.optimize(objective, n_trials=20)"
   ]
  },
  {
   "cell_type": "code",
   "execution_count": 14,
   "metadata": {},
   "outputs": [
    {
     "name": "stdout",
     "output_type": "stream",
     "text": [
      "Best Hyperparameters:\n",
      "{'epochs': 37, 'hidden': [100, 100], 'input_dropout_ratio': 0.0013062179562149737, 'l1': 0.0008734285704456857, 'l2': 0.00044395405309485716, 'activation': 'Maxout'}\n"
     ]
    }
   ],
   "source": [
    "# Best Hyperparameters\n",
    "best_params = study.best_params\n",
    "print(\"Best Hyperparameters:\")\n",
    "print(best_params)"
   ]
  },
  {
   "cell_type": "code",
   "execution_count": 15,
   "metadata": {},
   "outputs": [
    {
     "data": {
      "application/vnd.plotly.v1+json": {
       "config": {
        "plotlyServerURL": "https://plot.ly"
       },
       "data": [
        {
         "mode": "markers",
         "name": "Objective Value",
         "type": "scatter",
         "x": [
          0,
          1,
          2,
          3,
          4,
          5,
          6,
          7,
          8,
          9,
          10,
          11,
          12,
          13,
          14,
          15,
          16,
          17,
          18,
          19
         ],
         "y": [
          1.808243555258793,
          1.3279682659229815,
          0.6972262665022374,
          1.1693910092129791,
          1.1450959384675927,
          2.0992704951195056,
          0.5574520629326151,
          0.7726841881628845,
          2.2942547833337517,
          2.217510010949232,
          0.8838025302087164,
          0.6907908123627505,
          0.7600240793234229,
          1.0100575162204026,
          0.2842984116741133,
          1.8824940458301644,
          0.975588338687193,
          1.1384997501482428,
          0.7274356089652834,
          1.4233917254858595
         ]
        },
        {
         "mode": "lines",
         "name": "Best Value",
         "type": "scatter",
         "x": [
          0,
          1,
          2,
          3,
          4,
          5,
          6,
          7,
          8,
          9,
          10,
          11,
          12,
          13,
          14,
          15,
          16,
          17,
          18,
          19
         ],
         "y": [
          1.808243555258793,
          1.3279682659229815,
          0.6972262665022374,
          0.6972262665022374,
          0.6972262665022374,
          0.6972262665022374,
          0.5574520629326151,
          0.5574520629326151,
          0.5574520629326151,
          0.5574520629326151,
          0.5574520629326151,
          0.5574520629326151,
          0.5574520629326151,
          0.5574520629326151,
          0.2842984116741133,
          0.2842984116741133,
          0.2842984116741133,
          0.2842984116741133,
          0.2842984116741133,
          0.2842984116741133
         ]
        },
        {
         "marker": {
          "color": "#cccccc"
         },
         "mode": "markers",
         "name": "Infeasible Trial",
         "showlegend": false,
         "type": "scatter",
         "x": [],
         "y": []
        }
       ],
       "layout": {
        "template": {
         "data": {
          "bar": [
           {
            "error_x": {
             "color": "#2a3f5f"
            },
            "error_y": {
             "color": "#2a3f5f"
            },
            "marker": {
             "line": {
              "color": "#E5ECF6",
              "width": 0.5
             },
             "pattern": {
              "fillmode": "overlay",
              "size": 10,
              "solidity": 0.2
             }
            },
            "type": "bar"
           }
          ],
          "barpolar": [
           {
            "marker": {
             "line": {
              "color": "#E5ECF6",
              "width": 0.5
             },
             "pattern": {
              "fillmode": "overlay",
              "size": 10,
              "solidity": 0.2
             }
            },
            "type": "barpolar"
           }
          ],
          "carpet": [
           {
            "aaxis": {
             "endlinecolor": "#2a3f5f",
             "gridcolor": "white",
             "linecolor": "white",
             "minorgridcolor": "white",
             "startlinecolor": "#2a3f5f"
            },
            "baxis": {
             "endlinecolor": "#2a3f5f",
             "gridcolor": "white",
             "linecolor": "white",
             "minorgridcolor": "white",
             "startlinecolor": "#2a3f5f"
            },
            "type": "carpet"
           }
          ],
          "choropleth": [
           {
            "colorbar": {
             "outlinewidth": 0,
             "ticks": ""
            },
            "type": "choropleth"
           }
          ],
          "contour": [
           {
            "colorbar": {
             "outlinewidth": 0,
             "ticks": ""
            },
            "colorscale": [
             [
              0,
              "#0d0887"
             ],
             [
              0.1111111111111111,
              "#46039f"
             ],
             [
              0.2222222222222222,
              "#7201a8"
             ],
             [
              0.3333333333333333,
              "#9c179e"
             ],
             [
              0.4444444444444444,
              "#bd3786"
             ],
             [
              0.5555555555555556,
              "#d8576b"
             ],
             [
              0.6666666666666666,
              "#ed7953"
             ],
             [
              0.7777777777777778,
              "#fb9f3a"
             ],
             [
              0.8888888888888888,
              "#fdca26"
             ],
             [
              1,
              "#f0f921"
             ]
            ],
            "type": "contour"
           }
          ],
          "contourcarpet": [
           {
            "colorbar": {
             "outlinewidth": 0,
             "ticks": ""
            },
            "type": "contourcarpet"
           }
          ],
          "heatmap": [
           {
            "colorbar": {
             "outlinewidth": 0,
             "ticks": ""
            },
            "colorscale": [
             [
              0,
              "#0d0887"
             ],
             [
              0.1111111111111111,
              "#46039f"
             ],
             [
              0.2222222222222222,
              "#7201a8"
             ],
             [
              0.3333333333333333,
              "#9c179e"
             ],
             [
              0.4444444444444444,
              "#bd3786"
             ],
             [
              0.5555555555555556,
              "#d8576b"
             ],
             [
              0.6666666666666666,
              "#ed7953"
             ],
             [
              0.7777777777777778,
              "#fb9f3a"
             ],
             [
              0.8888888888888888,
              "#fdca26"
             ],
             [
              1,
              "#f0f921"
             ]
            ],
            "type": "heatmap"
           }
          ],
          "heatmapgl": [
           {
            "colorbar": {
             "outlinewidth": 0,
             "ticks": ""
            },
            "colorscale": [
             [
              0,
              "#0d0887"
             ],
             [
              0.1111111111111111,
              "#46039f"
             ],
             [
              0.2222222222222222,
              "#7201a8"
             ],
             [
              0.3333333333333333,
              "#9c179e"
             ],
             [
              0.4444444444444444,
              "#bd3786"
             ],
             [
              0.5555555555555556,
              "#d8576b"
             ],
             [
              0.6666666666666666,
              "#ed7953"
             ],
             [
              0.7777777777777778,
              "#fb9f3a"
             ],
             [
              0.8888888888888888,
              "#fdca26"
             ],
             [
              1,
              "#f0f921"
             ]
            ],
            "type": "heatmapgl"
           }
          ],
          "histogram": [
           {
            "marker": {
             "pattern": {
              "fillmode": "overlay",
              "size": 10,
              "solidity": 0.2
             }
            },
            "type": "histogram"
           }
          ],
          "histogram2d": [
           {
            "colorbar": {
             "outlinewidth": 0,
             "ticks": ""
            },
            "colorscale": [
             [
              0,
              "#0d0887"
             ],
             [
              0.1111111111111111,
              "#46039f"
             ],
             [
              0.2222222222222222,
              "#7201a8"
             ],
             [
              0.3333333333333333,
              "#9c179e"
             ],
             [
              0.4444444444444444,
              "#bd3786"
             ],
             [
              0.5555555555555556,
              "#d8576b"
             ],
             [
              0.6666666666666666,
              "#ed7953"
             ],
             [
              0.7777777777777778,
              "#fb9f3a"
             ],
             [
              0.8888888888888888,
              "#fdca26"
             ],
             [
              1,
              "#f0f921"
             ]
            ],
            "type": "histogram2d"
           }
          ],
          "histogram2dcontour": [
           {
            "colorbar": {
             "outlinewidth": 0,
             "ticks": ""
            },
            "colorscale": [
             [
              0,
              "#0d0887"
             ],
             [
              0.1111111111111111,
              "#46039f"
             ],
             [
              0.2222222222222222,
              "#7201a8"
             ],
             [
              0.3333333333333333,
              "#9c179e"
             ],
             [
              0.4444444444444444,
              "#bd3786"
             ],
             [
              0.5555555555555556,
              "#d8576b"
             ],
             [
              0.6666666666666666,
              "#ed7953"
             ],
             [
              0.7777777777777778,
              "#fb9f3a"
             ],
             [
              0.8888888888888888,
              "#fdca26"
             ],
             [
              1,
              "#f0f921"
             ]
            ],
            "type": "histogram2dcontour"
           }
          ],
          "mesh3d": [
           {
            "colorbar": {
             "outlinewidth": 0,
             "ticks": ""
            },
            "type": "mesh3d"
           }
          ],
          "parcoords": [
           {
            "line": {
             "colorbar": {
              "outlinewidth": 0,
              "ticks": ""
             }
            },
            "type": "parcoords"
           }
          ],
          "pie": [
           {
            "automargin": true,
            "type": "pie"
           }
          ],
          "scatter": [
           {
            "fillpattern": {
             "fillmode": "overlay",
             "size": 10,
             "solidity": 0.2
            },
            "type": "scatter"
           }
          ],
          "scatter3d": [
           {
            "line": {
             "colorbar": {
              "outlinewidth": 0,
              "ticks": ""
             }
            },
            "marker": {
             "colorbar": {
              "outlinewidth": 0,
              "ticks": ""
             }
            },
            "type": "scatter3d"
           }
          ],
          "scattercarpet": [
           {
            "marker": {
             "colorbar": {
              "outlinewidth": 0,
              "ticks": ""
             }
            },
            "type": "scattercarpet"
           }
          ],
          "scattergeo": [
           {
            "marker": {
             "colorbar": {
              "outlinewidth": 0,
              "ticks": ""
             }
            },
            "type": "scattergeo"
           }
          ],
          "scattergl": [
           {
            "marker": {
             "colorbar": {
              "outlinewidth": 0,
              "ticks": ""
             }
            },
            "type": "scattergl"
           }
          ],
          "scattermapbox": [
           {
            "marker": {
             "colorbar": {
              "outlinewidth": 0,
              "ticks": ""
             }
            },
            "type": "scattermapbox"
           }
          ],
          "scatterpolar": [
           {
            "marker": {
             "colorbar": {
              "outlinewidth": 0,
              "ticks": ""
             }
            },
            "type": "scatterpolar"
           }
          ],
          "scatterpolargl": [
           {
            "marker": {
             "colorbar": {
              "outlinewidth": 0,
              "ticks": ""
             }
            },
            "type": "scatterpolargl"
           }
          ],
          "scatterternary": [
           {
            "marker": {
             "colorbar": {
              "outlinewidth": 0,
              "ticks": ""
             }
            },
            "type": "scatterternary"
           }
          ],
          "surface": [
           {
            "colorbar": {
             "outlinewidth": 0,
             "ticks": ""
            },
            "colorscale": [
             [
              0,
              "#0d0887"
             ],
             [
              0.1111111111111111,
              "#46039f"
             ],
             [
              0.2222222222222222,
              "#7201a8"
             ],
             [
              0.3333333333333333,
              "#9c179e"
             ],
             [
              0.4444444444444444,
              "#bd3786"
             ],
             [
              0.5555555555555556,
              "#d8576b"
             ],
             [
              0.6666666666666666,
              "#ed7953"
             ],
             [
              0.7777777777777778,
              "#fb9f3a"
             ],
             [
              0.8888888888888888,
              "#fdca26"
             ],
             [
              1,
              "#f0f921"
             ]
            ],
            "type": "surface"
           }
          ],
          "table": [
           {
            "cells": {
             "fill": {
              "color": "#EBF0F8"
             },
             "line": {
              "color": "white"
             }
            },
            "header": {
             "fill": {
              "color": "#C8D4E3"
             },
             "line": {
              "color": "white"
             }
            },
            "type": "table"
           }
          ]
         },
         "layout": {
          "annotationdefaults": {
           "arrowcolor": "#2a3f5f",
           "arrowhead": 0,
           "arrowwidth": 1
          },
          "autotypenumbers": "strict",
          "coloraxis": {
           "colorbar": {
            "outlinewidth": 0,
            "ticks": ""
           }
          },
          "colorscale": {
           "diverging": [
            [
             0,
             "#8e0152"
            ],
            [
             0.1,
             "#c51b7d"
            ],
            [
             0.2,
             "#de77ae"
            ],
            [
             0.3,
             "#f1b6da"
            ],
            [
             0.4,
             "#fde0ef"
            ],
            [
             0.5,
             "#f7f7f7"
            ],
            [
             0.6,
             "#e6f5d0"
            ],
            [
             0.7,
             "#b8e186"
            ],
            [
             0.8,
             "#7fbc41"
            ],
            [
             0.9,
             "#4d9221"
            ],
            [
             1,
             "#276419"
            ]
           ],
           "sequential": [
            [
             0,
             "#0d0887"
            ],
            [
             0.1111111111111111,
             "#46039f"
            ],
            [
             0.2222222222222222,
             "#7201a8"
            ],
            [
             0.3333333333333333,
             "#9c179e"
            ],
            [
             0.4444444444444444,
             "#bd3786"
            ],
            [
             0.5555555555555556,
             "#d8576b"
            ],
            [
             0.6666666666666666,
             "#ed7953"
            ],
            [
             0.7777777777777778,
             "#fb9f3a"
            ],
            [
             0.8888888888888888,
             "#fdca26"
            ],
            [
             1,
             "#f0f921"
            ]
           ],
           "sequentialminus": [
            [
             0,
             "#0d0887"
            ],
            [
             0.1111111111111111,
             "#46039f"
            ],
            [
             0.2222222222222222,
             "#7201a8"
            ],
            [
             0.3333333333333333,
             "#9c179e"
            ],
            [
             0.4444444444444444,
             "#bd3786"
            ],
            [
             0.5555555555555556,
             "#d8576b"
            ],
            [
             0.6666666666666666,
             "#ed7953"
            ],
            [
             0.7777777777777778,
             "#fb9f3a"
            ],
            [
             0.8888888888888888,
             "#fdca26"
            ],
            [
             1,
             "#f0f921"
            ]
           ]
          },
          "colorway": [
           "#636efa",
           "#EF553B",
           "#00cc96",
           "#ab63fa",
           "#FFA15A",
           "#19d3f3",
           "#FF6692",
           "#B6E880",
           "#FF97FF",
           "#FECB52"
          ],
          "font": {
           "color": "#2a3f5f"
          },
          "geo": {
           "bgcolor": "white",
           "lakecolor": "white",
           "landcolor": "#E5ECF6",
           "showlakes": true,
           "showland": true,
           "subunitcolor": "white"
          },
          "hoverlabel": {
           "align": "left"
          },
          "hovermode": "closest",
          "mapbox": {
           "style": "light"
          },
          "paper_bgcolor": "white",
          "plot_bgcolor": "#E5ECF6",
          "polar": {
           "angularaxis": {
            "gridcolor": "white",
            "linecolor": "white",
            "ticks": ""
           },
           "bgcolor": "#E5ECF6",
           "radialaxis": {
            "gridcolor": "white",
            "linecolor": "white",
            "ticks": ""
           }
          },
          "scene": {
           "xaxis": {
            "backgroundcolor": "#E5ECF6",
            "gridcolor": "white",
            "gridwidth": 2,
            "linecolor": "white",
            "showbackground": true,
            "ticks": "",
            "zerolinecolor": "white"
           },
           "yaxis": {
            "backgroundcolor": "#E5ECF6",
            "gridcolor": "white",
            "gridwidth": 2,
            "linecolor": "white",
            "showbackground": true,
            "ticks": "",
            "zerolinecolor": "white"
           },
           "zaxis": {
            "backgroundcolor": "#E5ECF6",
            "gridcolor": "white",
            "gridwidth": 2,
            "linecolor": "white",
            "showbackground": true,
            "ticks": "",
            "zerolinecolor": "white"
           }
          },
          "shapedefaults": {
           "line": {
            "color": "#2a3f5f"
           }
          },
          "ternary": {
           "aaxis": {
            "gridcolor": "white",
            "linecolor": "white",
            "ticks": ""
           },
           "baxis": {
            "gridcolor": "white",
            "linecolor": "white",
            "ticks": ""
           },
           "bgcolor": "#E5ECF6",
           "caxis": {
            "gridcolor": "white",
            "linecolor": "white",
            "ticks": ""
           }
          },
          "title": {
           "x": 0.05
          },
          "xaxis": {
           "automargin": true,
           "gridcolor": "white",
           "linecolor": "white",
           "ticks": "",
           "title": {
            "standoff": 15
           },
           "zerolinecolor": "white",
           "zerolinewidth": 2
          },
          "yaxis": {
           "automargin": true,
           "gridcolor": "white",
           "linecolor": "white",
           "ticks": "",
           "title": {
            "standoff": 15
           },
           "zerolinecolor": "white",
           "zerolinewidth": 2
          }
         }
        },
        "title": {
         "text": "Optimization History Plot"
        },
        "xaxis": {
         "title": {
          "text": "Trial"
         }
        },
        "yaxis": {
         "title": {
          "text": "Objective Value"
         }
        }
       }
      }
     },
     "metadata": {},
     "output_type": "display_data"
    }
   ],
   "source": [
    "optuna.visualization.plot_optimization_history(study)"
   ]
  },
  {
   "cell_type": "code",
   "execution_count": 16,
   "metadata": {},
   "outputs": [
    {
     "data": {
      "application/vnd.plotly.v1+json": {
       "config": {
        "plotlyServerURL": "https://plot.ly"
       },
       "data": [
        {
         "marker": {
          "color": [
           0,
           1,
           2,
           3,
           4,
           5,
           6,
           7,
           8,
           9,
           10,
           11,
           12,
           13,
           14,
           15,
           16,
           17,
           18,
           19
          ],
          "colorbar": {
           "title": {
            "text": "Trial"
           },
           "x": 1,
           "xpad": 40
          },
          "colorscale": [
           [
            0,
            "rgb(247,251,255)"
           ],
           [
            0.125,
            "rgb(222,235,247)"
           ],
           [
            0.25,
            "rgb(198,219,239)"
           ],
           [
            0.375,
            "rgb(158,202,225)"
           ],
           [
            0.5,
            "rgb(107,174,214)"
           ],
           [
            0.625,
            "rgb(66,146,198)"
           ],
           [
            0.75,
            "rgb(33,113,181)"
           ],
           [
            0.875,
            "rgb(8,81,156)"
           ],
           [
            1,
            "rgb(8,48,107)"
           ]
          ],
          "line": {
           "color": "Grey",
           "width": 0.5
          },
          "showscale": true
         },
         "mode": "markers",
         "name": "Feasible Trial",
         "showlegend": false,
         "type": "scatter",
         "x": [
          "Rectifier",
          "Maxout",
          "Tanh",
          "Rectifier",
          "Tanh",
          "Maxout",
          "Rectifier",
          "Rectifier",
          "Tanh",
          "Rectifier",
          "Rectifier",
          "Tanh",
          "Tanh",
          "Tanh",
          "Maxout",
          "Maxout",
          "Maxout",
          "Maxout",
          "Maxout",
          "Rectifier"
         ],
         "xaxis": "x",
         "y": [
          1.808243555258793,
          1.3279682659229815,
          0.6972262665022374,
          1.1693910092129791,
          1.1450959384675927,
          2.0992704951195056,
          0.5574520629326151,
          0.7726841881628845,
          2.2942547833337517,
          2.217510010949232,
          0.8838025302087164,
          0.6907908123627505,
          0.7600240793234229,
          1.0100575162204026,
          0.2842984116741133,
          1.8824940458301644,
          0.975588338687193,
          1.1384997501482428,
          0.7274356089652834,
          1.4233917254858595
         ],
         "yaxis": "y"
        },
        {
         "marker": {
          "color": [
           0,
           1,
           2,
           3,
           4,
           5,
           6,
           7,
           8,
           9,
           10,
           11,
           12,
           13,
           14,
           15,
           16,
           17,
           18,
           19
          ],
          "colorbar": {
           "title": {
            "text": "Trial"
           },
           "x": 1,
           "xpad": 40
          },
          "colorscale": [
           [
            0,
            "rgb(247,251,255)"
           ],
           [
            0.125,
            "rgb(222,235,247)"
           ],
           [
            0.25,
            "rgb(198,219,239)"
           ],
           [
            0.375,
            "rgb(158,202,225)"
           ],
           [
            0.5,
            "rgb(107,174,214)"
           ],
           [
            0.625,
            "rgb(66,146,198)"
           ],
           [
            0.75,
            "rgb(33,113,181)"
           ],
           [
            0.875,
            "rgb(8,81,156)"
           ],
           [
            1,
            "rgb(8,48,107)"
           ]
          ],
          "line": {
           "color": "Grey",
           "width": 0.5
          },
          "showscale": false
         },
         "mode": "markers",
         "name": "Feasible Trial",
         "showlegend": false,
         "type": "scatter",
         "x": [
          74,
          100,
          78,
          97,
          30,
          22,
          25,
          55,
          12,
          91,
          43,
          74,
          64,
          44,
          37,
          33,
          14,
          42,
          28,
          52
         ],
         "xaxis": "x2",
         "y": [
          1.808243555258793,
          1.3279682659229815,
          0.6972262665022374,
          1.1693910092129791,
          1.1450959384675927,
          2.0992704951195056,
          0.5574520629326151,
          0.7726841881628845,
          2.2942547833337517,
          2.217510010949232,
          0.8838025302087164,
          0.6907908123627505,
          0.7600240793234229,
          1.0100575162204026,
          0.2842984116741133,
          1.8824940458301644,
          0.975588338687193,
          1.1384997501482428,
          0.7274356089652834,
          1.4233917254858595
         ],
         "yaxis": "y2"
        },
        {
         "marker": {
          "color": [
           0,
           1,
           2,
           3,
           4,
           5,
           6,
           7,
           8,
           9,
           10,
           11,
           12,
           13,
           14,
           15,
           16,
           17,
           18,
           19
          ],
          "colorbar": {
           "title": {
            "text": "Trial"
           },
           "x": 1,
           "xpad": 40
          },
          "colorscale": [
           [
            0,
            "rgb(247,251,255)"
           ],
           [
            0.125,
            "rgb(222,235,247)"
           ],
           [
            0.25,
            "rgb(198,219,239)"
           ],
           [
            0.375,
            "rgb(158,202,225)"
           ],
           [
            0.5,
            "rgb(107,174,214)"
           ],
           [
            0.625,
            "rgb(66,146,198)"
           ],
           [
            0.75,
            "rgb(33,113,181)"
           ],
           [
            0.875,
            "rgb(8,81,156)"
           ],
           [
            1,
            "rgb(8,48,107)"
           ]
          ],
          "line": {
           "color": "Grey",
           "width": 0.5
          },
          "showscale": false
         },
         "mode": "markers",
         "name": "Feasible Trial",
         "showlegend": false,
         "type": "scatter",
         "x": [
          [
           200,
           200
          ],
          [
           50,
           50
          ],
          [
           100,
           100
          ],
          [
           200,
           200
          ],
          [
           100,
           100
          ],
          [
           100,
           100
          ],
          [
           100,
           100
          ],
          [
           50,
           50
          ],
          [
           50,
           50
          ],
          [
           200,
           200
          ],
          [
           100,
           100
          ],
          [
           100,
           100
          ],
          [
           100,
           100
          ],
          [
           100,
           100
          ],
          [
           100,
           100
          ],
          [
           100,
           100
          ],
          [
           100,
           100
          ],
          [
           100,
           100
          ],
          [
           50,
           50
          ],
          [
           200,
           200
          ]
         ],
         "xaxis": "x3",
         "y": [
          1.808243555258793,
          1.3279682659229815,
          0.6972262665022374,
          1.1693910092129791,
          1.1450959384675927,
          2.0992704951195056,
          0.5574520629326151,
          0.7726841881628845,
          2.2942547833337517,
          2.217510010949232,
          0.8838025302087164,
          0.6907908123627505,
          0.7600240793234229,
          1.0100575162204026,
          0.2842984116741133,
          1.8824940458301644,
          0.975588338687193,
          1.1384997501482428,
          0.7274356089652834,
          1.4233917254858595
         ],
         "yaxis": "y3"
        },
        {
         "marker": {
          "color": [
           0,
           1,
           2,
           3,
           4,
           5,
           6,
           7,
           8,
           9,
           10,
           11,
           12,
           13,
           14,
           15,
           16,
           17,
           18,
           19
          ],
          "colorbar": {
           "title": {
            "text": "Trial"
           },
           "x": 1,
           "xpad": 40
          },
          "colorscale": [
           [
            0,
            "rgb(247,251,255)"
           ],
           [
            0.125,
            "rgb(222,235,247)"
           ],
           [
            0.25,
            "rgb(198,219,239)"
           ],
           [
            0.375,
            "rgb(158,202,225)"
           ],
           [
            0.5,
            "rgb(107,174,214)"
           ],
           [
            0.625,
            "rgb(66,146,198)"
           ],
           [
            0.75,
            "rgb(33,113,181)"
           ],
           [
            0.875,
            "rgb(8,81,156)"
           ],
           [
            1,
            "rgb(8,48,107)"
           ]
          ],
          "line": {
           "color": "Grey",
           "width": 0.5
          },
          "showscale": false
         },
         "mode": "markers",
         "name": "Feasible Trial",
         "showlegend": false,
         "type": "scatter",
         "x": [
          0.2764774693119634,
          0.247855194138982,
          0.021786159625387047,
          0.17931379260618818,
          0.18756045911926628,
          0.4220207196276296,
          0.01924080327170108,
          0.06225159738238395,
          0.4468060158015844,
          0.4952421419802557,
          0.10160161362536704,
          0.004501757539628223,
          0.011123992947668472,
          0.1262255136092462,
          0.0013062179562149737,
          0.3305030605193073,
          0.09765780229627438,
          0.15549772618313137,
          0.06432311563172588,
          0.22320830169134048
         ],
         "xaxis": "x4",
         "y": [
          1.808243555258793,
          1.3279682659229815,
          0.6972262665022374,
          1.1693910092129791,
          1.1450959384675927,
          2.0992704951195056,
          0.5574520629326151,
          0.7726841881628845,
          2.2942547833337517,
          2.217510010949232,
          0.8838025302087164,
          0.6907908123627505,
          0.7600240793234229,
          1.0100575162204026,
          0.2842984116741133,
          1.8824940458301644,
          0.975588338687193,
          1.1384997501482428,
          0.7274356089652834,
          1.4233917254858595
         ],
         "yaxis": "y4"
        },
        {
         "marker": {
          "color": [
           0,
           1,
           2,
           3,
           4,
           5,
           6,
           7,
           8,
           9,
           10,
           11,
           12,
           13,
           14,
           15,
           16,
           17,
           18,
           19
          ],
          "colorbar": {
           "title": {
            "text": "Trial"
           },
           "x": 1,
           "xpad": 40
          },
          "colorscale": [
           [
            0,
            "rgb(247,251,255)"
           ],
           [
            0.125,
            "rgb(222,235,247)"
           ],
           [
            0.25,
            "rgb(198,219,239)"
           ],
           [
            0.375,
            "rgb(158,202,225)"
           ],
           [
            0.5,
            "rgb(107,174,214)"
           ],
           [
            0.625,
            "rgb(66,146,198)"
           ],
           [
            0.75,
            "rgb(33,113,181)"
           ],
           [
            0.875,
            "rgb(8,81,156)"
           ],
           [
            1,
            "rgb(8,48,107)"
           ]
          ],
          "line": {
           "color": "Grey",
           "width": 0.5
          },
          "showscale": false
         },
         "mode": "markers",
         "name": "Feasible Trial",
         "showlegend": false,
         "type": "scatter",
         "x": [
          0.0007595104254745987,
          0.0007547056274406773,
          0.0006837711418421921,
          0.000040839374883050106,
          0.0001599632938959047,
          0.0005514604595367953,
          0.0009345653909373542,
          0.0004572844798230411,
          0.0009572519545101224,
          0.000989215540439543,
          0.0004392802976604521,
          0.0007116343695343038,
          0.0008623353113561478,
          0.0005863568078918668,
          0.0008734285704456857,
          0.0002896386211175739,
          0.0008820905790281968,
          0.0008238765797868653,
          0.000990050740682447,
          0.000329929897844141
         ],
         "xaxis": "x5",
         "y": [
          1.808243555258793,
          1.3279682659229815,
          0.6972262665022374,
          1.1693910092129791,
          1.1450959384675927,
          2.0992704951195056,
          0.5574520629326151,
          0.7726841881628845,
          2.2942547833337517,
          2.217510010949232,
          0.8838025302087164,
          0.6907908123627505,
          0.7600240793234229,
          1.0100575162204026,
          0.2842984116741133,
          1.8824940458301644,
          0.975588338687193,
          1.1384997501482428,
          0.7274356089652834,
          1.4233917254858595
         ],
         "yaxis": "y5"
        },
        {
         "marker": {
          "color": [
           0,
           1,
           2,
           3,
           4,
           5,
           6,
           7,
           8,
           9,
           10,
           11,
           12,
           13,
           14,
           15,
           16,
           17,
           18,
           19
          ],
          "colorbar": {
           "title": {
            "text": "Trial"
           },
           "x": 1,
           "xpad": 40
          },
          "colorscale": [
           [
            0,
            "rgb(247,251,255)"
           ],
           [
            0.125,
            "rgb(222,235,247)"
           ],
           [
            0.25,
            "rgb(198,219,239)"
           ],
           [
            0.375,
            "rgb(158,202,225)"
           ],
           [
            0.5,
            "rgb(107,174,214)"
           ],
           [
            0.625,
            "rgb(66,146,198)"
           ],
           [
            0.75,
            "rgb(33,113,181)"
           ],
           [
            0.875,
            "rgb(8,81,156)"
           ],
           [
            1,
            "rgb(8,48,107)"
           ]
          ],
          "line": {
           "color": "Grey",
           "width": 0.5
          },
          "showscale": false
         },
         "mode": "markers",
         "name": "Feasible Trial",
         "showlegend": false,
         "type": "scatter",
         "x": [
          0.00009315124302803318,
          0.0006106556460799933,
          0.0006036029177502079,
          0.0002919873226838555,
          0.00026158288583889985,
          0.0008851951132234265,
          0.0005676378292581919,
          0.00027745564982452787,
          0.0007613978086368552,
          0.000385484725680172,
          0.000013225751230614888,
          0.0005893416645479287,
          0.0005597437498450665,
          0.0007463658815847865,
          0.00044395405309485716,
          0.0004365026454293437,
          0.0007217891102161952,
          0.0009601839196833405,
          0.0004562117262446519,
          0.00016807906879025497
         ],
         "xaxis": "x6",
         "y": [
          1.808243555258793,
          1.3279682659229815,
          0.6972262665022374,
          1.1693910092129791,
          1.1450959384675927,
          2.0992704951195056,
          0.5574520629326151,
          0.7726841881628845,
          2.2942547833337517,
          2.217510010949232,
          0.8838025302087164,
          0.6907908123627505,
          0.7600240793234229,
          1.0100575162204026,
          0.2842984116741133,
          1.8824940458301644,
          0.975588338687193,
          1.1384997501482428,
          0.7274356089652834,
          1.4233917254858595
         ],
         "yaxis": "y6"
        }
       ],
       "layout": {
        "template": {
         "data": {
          "bar": [
           {
            "error_x": {
             "color": "#2a3f5f"
            },
            "error_y": {
             "color": "#2a3f5f"
            },
            "marker": {
             "line": {
              "color": "#E5ECF6",
              "width": 0.5
             },
             "pattern": {
              "fillmode": "overlay",
              "size": 10,
              "solidity": 0.2
             }
            },
            "type": "bar"
           }
          ],
          "barpolar": [
           {
            "marker": {
             "line": {
              "color": "#E5ECF6",
              "width": 0.5
             },
             "pattern": {
              "fillmode": "overlay",
              "size": 10,
              "solidity": 0.2
             }
            },
            "type": "barpolar"
           }
          ],
          "carpet": [
           {
            "aaxis": {
             "endlinecolor": "#2a3f5f",
             "gridcolor": "white",
             "linecolor": "white",
             "minorgridcolor": "white",
             "startlinecolor": "#2a3f5f"
            },
            "baxis": {
             "endlinecolor": "#2a3f5f",
             "gridcolor": "white",
             "linecolor": "white",
             "minorgridcolor": "white",
             "startlinecolor": "#2a3f5f"
            },
            "type": "carpet"
           }
          ],
          "choropleth": [
           {
            "colorbar": {
             "outlinewidth": 0,
             "ticks": ""
            },
            "type": "choropleth"
           }
          ],
          "contour": [
           {
            "colorbar": {
             "outlinewidth": 0,
             "ticks": ""
            },
            "colorscale": [
             [
              0,
              "#0d0887"
             ],
             [
              0.1111111111111111,
              "#46039f"
             ],
             [
              0.2222222222222222,
              "#7201a8"
             ],
             [
              0.3333333333333333,
              "#9c179e"
             ],
             [
              0.4444444444444444,
              "#bd3786"
             ],
             [
              0.5555555555555556,
              "#d8576b"
             ],
             [
              0.6666666666666666,
              "#ed7953"
             ],
             [
              0.7777777777777778,
              "#fb9f3a"
             ],
             [
              0.8888888888888888,
              "#fdca26"
             ],
             [
              1,
              "#f0f921"
             ]
            ],
            "type": "contour"
           }
          ],
          "contourcarpet": [
           {
            "colorbar": {
             "outlinewidth": 0,
             "ticks": ""
            },
            "type": "contourcarpet"
           }
          ],
          "heatmap": [
           {
            "colorbar": {
             "outlinewidth": 0,
             "ticks": ""
            },
            "colorscale": [
             [
              0,
              "#0d0887"
             ],
             [
              0.1111111111111111,
              "#46039f"
             ],
             [
              0.2222222222222222,
              "#7201a8"
             ],
             [
              0.3333333333333333,
              "#9c179e"
             ],
             [
              0.4444444444444444,
              "#bd3786"
             ],
             [
              0.5555555555555556,
              "#d8576b"
             ],
             [
              0.6666666666666666,
              "#ed7953"
             ],
             [
              0.7777777777777778,
              "#fb9f3a"
             ],
             [
              0.8888888888888888,
              "#fdca26"
             ],
             [
              1,
              "#f0f921"
             ]
            ],
            "type": "heatmap"
           }
          ],
          "heatmapgl": [
           {
            "colorbar": {
             "outlinewidth": 0,
             "ticks": ""
            },
            "colorscale": [
             [
              0,
              "#0d0887"
             ],
             [
              0.1111111111111111,
              "#46039f"
             ],
             [
              0.2222222222222222,
              "#7201a8"
             ],
             [
              0.3333333333333333,
              "#9c179e"
             ],
             [
              0.4444444444444444,
              "#bd3786"
             ],
             [
              0.5555555555555556,
              "#d8576b"
             ],
             [
              0.6666666666666666,
              "#ed7953"
             ],
             [
              0.7777777777777778,
              "#fb9f3a"
             ],
             [
              0.8888888888888888,
              "#fdca26"
             ],
             [
              1,
              "#f0f921"
             ]
            ],
            "type": "heatmapgl"
           }
          ],
          "histogram": [
           {
            "marker": {
             "pattern": {
              "fillmode": "overlay",
              "size": 10,
              "solidity": 0.2
             }
            },
            "type": "histogram"
           }
          ],
          "histogram2d": [
           {
            "colorbar": {
             "outlinewidth": 0,
             "ticks": ""
            },
            "colorscale": [
             [
              0,
              "#0d0887"
             ],
             [
              0.1111111111111111,
              "#46039f"
             ],
             [
              0.2222222222222222,
              "#7201a8"
             ],
             [
              0.3333333333333333,
              "#9c179e"
             ],
             [
              0.4444444444444444,
              "#bd3786"
             ],
             [
              0.5555555555555556,
              "#d8576b"
             ],
             [
              0.6666666666666666,
              "#ed7953"
             ],
             [
              0.7777777777777778,
              "#fb9f3a"
             ],
             [
              0.8888888888888888,
              "#fdca26"
             ],
             [
              1,
              "#f0f921"
             ]
            ],
            "type": "histogram2d"
           }
          ],
          "histogram2dcontour": [
           {
            "colorbar": {
             "outlinewidth": 0,
             "ticks": ""
            },
            "colorscale": [
             [
              0,
              "#0d0887"
             ],
             [
              0.1111111111111111,
              "#46039f"
             ],
             [
              0.2222222222222222,
              "#7201a8"
             ],
             [
              0.3333333333333333,
              "#9c179e"
             ],
             [
              0.4444444444444444,
              "#bd3786"
             ],
             [
              0.5555555555555556,
              "#d8576b"
             ],
             [
              0.6666666666666666,
              "#ed7953"
             ],
             [
              0.7777777777777778,
              "#fb9f3a"
             ],
             [
              0.8888888888888888,
              "#fdca26"
             ],
             [
              1,
              "#f0f921"
             ]
            ],
            "type": "histogram2dcontour"
           }
          ],
          "mesh3d": [
           {
            "colorbar": {
             "outlinewidth": 0,
             "ticks": ""
            },
            "type": "mesh3d"
           }
          ],
          "parcoords": [
           {
            "line": {
             "colorbar": {
              "outlinewidth": 0,
              "ticks": ""
             }
            },
            "type": "parcoords"
           }
          ],
          "pie": [
           {
            "automargin": true,
            "type": "pie"
           }
          ],
          "scatter": [
           {
            "fillpattern": {
             "fillmode": "overlay",
             "size": 10,
             "solidity": 0.2
            },
            "type": "scatter"
           }
          ],
          "scatter3d": [
           {
            "line": {
             "colorbar": {
              "outlinewidth": 0,
              "ticks": ""
             }
            },
            "marker": {
             "colorbar": {
              "outlinewidth": 0,
              "ticks": ""
             }
            },
            "type": "scatter3d"
           }
          ],
          "scattercarpet": [
           {
            "marker": {
             "colorbar": {
              "outlinewidth": 0,
              "ticks": ""
             }
            },
            "type": "scattercarpet"
           }
          ],
          "scattergeo": [
           {
            "marker": {
             "colorbar": {
              "outlinewidth": 0,
              "ticks": ""
             }
            },
            "type": "scattergeo"
           }
          ],
          "scattergl": [
           {
            "marker": {
             "colorbar": {
              "outlinewidth": 0,
              "ticks": ""
             }
            },
            "type": "scattergl"
           }
          ],
          "scattermapbox": [
           {
            "marker": {
             "colorbar": {
              "outlinewidth": 0,
              "ticks": ""
             }
            },
            "type": "scattermapbox"
           }
          ],
          "scatterpolar": [
           {
            "marker": {
             "colorbar": {
              "outlinewidth": 0,
              "ticks": ""
             }
            },
            "type": "scatterpolar"
           }
          ],
          "scatterpolargl": [
           {
            "marker": {
             "colorbar": {
              "outlinewidth": 0,
              "ticks": ""
             }
            },
            "type": "scatterpolargl"
           }
          ],
          "scatterternary": [
           {
            "marker": {
             "colorbar": {
              "outlinewidth": 0,
              "ticks": ""
             }
            },
            "type": "scatterternary"
           }
          ],
          "surface": [
           {
            "colorbar": {
             "outlinewidth": 0,
             "ticks": ""
            },
            "colorscale": [
             [
              0,
              "#0d0887"
             ],
             [
              0.1111111111111111,
              "#46039f"
             ],
             [
              0.2222222222222222,
              "#7201a8"
             ],
             [
              0.3333333333333333,
              "#9c179e"
             ],
             [
              0.4444444444444444,
              "#bd3786"
             ],
             [
              0.5555555555555556,
              "#d8576b"
             ],
             [
              0.6666666666666666,
              "#ed7953"
             ],
             [
              0.7777777777777778,
              "#fb9f3a"
             ],
             [
              0.8888888888888888,
              "#fdca26"
             ],
             [
              1,
              "#f0f921"
             ]
            ],
            "type": "surface"
           }
          ],
          "table": [
           {
            "cells": {
             "fill": {
              "color": "#EBF0F8"
             },
             "line": {
              "color": "white"
             }
            },
            "header": {
             "fill": {
              "color": "#C8D4E3"
             },
             "line": {
              "color": "white"
             }
            },
            "type": "table"
           }
          ]
         },
         "layout": {
          "annotationdefaults": {
           "arrowcolor": "#2a3f5f",
           "arrowhead": 0,
           "arrowwidth": 1
          },
          "autotypenumbers": "strict",
          "coloraxis": {
           "colorbar": {
            "outlinewidth": 0,
            "ticks": ""
           }
          },
          "colorscale": {
           "diverging": [
            [
             0,
             "#8e0152"
            ],
            [
             0.1,
             "#c51b7d"
            ],
            [
             0.2,
             "#de77ae"
            ],
            [
             0.3,
             "#f1b6da"
            ],
            [
             0.4,
             "#fde0ef"
            ],
            [
             0.5,
             "#f7f7f7"
            ],
            [
             0.6,
             "#e6f5d0"
            ],
            [
             0.7,
             "#b8e186"
            ],
            [
             0.8,
             "#7fbc41"
            ],
            [
             0.9,
             "#4d9221"
            ],
            [
             1,
             "#276419"
            ]
           ],
           "sequential": [
            [
             0,
             "#0d0887"
            ],
            [
             0.1111111111111111,
             "#46039f"
            ],
            [
             0.2222222222222222,
             "#7201a8"
            ],
            [
             0.3333333333333333,
             "#9c179e"
            ],
            [
             0.4444444444444444,
             "#bd3786"
            ],
            [
             0.5555555555555556,
             "#d8576b"
            ],
            [
             0.6666666666666666,
             "#ed7953"
            ],
            [
             0.7777777777777778,
             "#fb9f3a"
            ],
            [
             0.8888888888888888,
             "#fdca26"
            ],
            [
             1,
             "#f0f921"
            ]
           ],
           "sequentialminus": [
            [
             0,
             "#0d0887"
            ],
            [
             0.1111111111111111,
             "#46039f"
            ],
            [
             0.2222222222222222,
             "#7201a8"
            ],
            [
             0.3333333333333333,
             "#9c179e"
            ],
            [
             0.4444444444444444,
             "#bd3786"
            ],
            [
             0.5555555555555556,
             "#d8576b"
            ],
            [
             0.6666666666666666,
             "#ed7953"
            ],
            [
             0.7777777777777778,
             "#fb9f3a"
            ],
            [
             0.8888888888888888,
             "#fdca26"
            ],
            [
             1,
             "#f0f921"
            ]
           ]
          },
          "colorway": [
           "#636efa",
           "#EF553B",
           "#00cc96",
           "#ab63fa",
           "#FFA15A",
           "#19d3f3",
           "#FF6692",
           "#B6E880",
           "#FF97FF",
           "#FECB52"
          ],
          "font": {
           "color": "#2a3f5f"
          },
          "geo": {
           "bgcolor": "white",
           "lakecolor": "white",
           "landcolor": "#E5ECF6",
           "showlakes": true,
           "showland": true,
           "subunitcolor": "white"
          },
          "hoverlabel": {
           "align": "left"
          },
          "hovermode": "closest",
          "mapbox": {
           "style": "light"
          },
          "paper_bgcolor": "white",
          "plot_bgcolor": "#E5ECF6",
          "polar": {
           "angularaxis": {
            "gridcolor": "white",
            "linecolor": "white",
            "ticks": ""
           },
           "bgcolor": "#E5ECF6",
           "radialaxis": {
            "gridcolor": "white",
            "linecolor": "white",
            "ticks": ""
           }
          },
          "scene": {
           "xaxis": {
            "backgroundcolor": "#E5ECF6",
            "gridcolor": "white",
            "gridwidth": 2,
            "linecolor": "white",
            "showbackground": true,
            "ticks": "",
            "zerolinecolor": "white"
           },
           "yaxis": {
            "backgroundcolor": "#E5ECF6",
            "gridcolor": "white",
            "gridwidth": 2,
            "linecolor": "white",
            "showbackground": true,
            "ticks": "",
            "zerolinecolor": "white"
           },
           "zaxis": {
            "backgroundcolor": "#E5ECF6",
            "gridcolor": "white",
            "gridwidth": 2,
            "linecolor": "white",
            "showbackground": true,
            "ticks": "",
            "zerolinecolor": "white"
           }
          },
          "shapedefaults": {
           "line": {
            "color": "#2a3f5f"
           }
          },
          "ternary": {
           "aaxis": {
            "gridcolor": "white",
            "linecolor": "white",
            "ticks": ""
           },
           "baxis": {
            "gridcolor": "white",
            "linecolor": "white",
            "ticks": ""
           },
           "bgcolor": "#E5ECF6",
           "caxis": {
            "gridcolor": "white",
            "linecolor": "white",
            "ticks": ""
           }
          },
          "title": {
           "x": 0.05
          },
          "xaxis": {
           "automargin": true,
           "gridcolor": "white",
           "linecolor": "white",
           "ticks": "",
           "title": {
            "standoff": 15
           },
           "zerolinecolor": "white",
           "zerolinewidth": 2
          },
          "yaxis": {
           "automargin": true,
           "gridcolor": "white",
           "linecolor": "white",
           "ticks": "",
           "title": {
            "standoff": 15
           },
           "zerolinecolor": "white",
           "zerolinewidth": 2
          }
         }
        },
        "title": {
         "text": "Slice Plot"
        },
        "width": 1800,
        "xaxis": {
         "anchor": "y",
         "categoryarray": [
          "Rectifier",
          "Tanh",
          "Maxout"
         ],
         "categoryorder": "array",
         "domain": [
          0,
          0.1388888888888889
         ],
         "title": {
          "text": "activation"
         },
         "type": "category"
        },
        "xaxis2": {
         "anchor": "y2",
         "domain": [
          0.17222222222222222,
          0.3111111111111111
         ],
         "title": {
          "text": "epochs"
         }
        },
        "xaxis3": {
         "anchor": "y3",
         "categoryarray": [
          [
           50,
           50
          ],
          [
           100,
           100
          ],
          [
           200,
           200
          ]
         ],
         "categoryorder": "array",
         "domain": [
          0.34444444444444444,
          0.48333333333333334
         ],
         "title": {
          "text": "hidden"
         },
         "type": "category"
        },
        "xaxis4": {
         "anchor": "y4",
         "domain": [
          0.5166666666666667,
          0.6555555555555557
         ],
         "title": {
          "text": "input_dropout_ratio"
         }
        },
        "xaxis5": {
         "anchor": "y5",
         "domain": [
          0.6888888888888889,
          0.8277777777777777
         ],
         "title": {
          "text": "l1"
         }
        },
        "xaxis6": {
         "anchor": "y6",
         "domain": [
          0.861111111111111,
          1
         ],
         "title": {
          "text": "l2"
         }
        },
        "yaxis": {
         "anchor": "x",
         "domain": [
          0,
          1
         ],
         "title": {
          "text": "Objective Value"
         }
        },
        "yaxis2": {
         "anchor": "x2",
         "domain": [
          0,
          1
         ],
         "matches": "y",
         "showticklabels": false
        },
        "yaxis3": {
         "anchor": "x3",
         "domain": [
          0,
          1
         ],
         "matches": "y",
         "showticklabels": false
        },
        "yaxis4": {
         "anchor": "x4",
         "domain": [
          0,
          1
         ],
         "matches": "y",
         "showticklabels": false
        },
        "yaxis5": {
         "anchor": "x5",
         "domain": [
          0,
          1
         ],
         "matches": "y",
         "showticklabels": false
        },
        "yaxis6": {
         "anchor": "x6",
         "domain": [
          0,
          1
         ],
         "matches": "y",
         "showticklabels": false
        }
       }
      }
     },
     "metadata": {},
     "output_type": "display_data"
    }
   ],
   "source": [
    "optuna.visualization.plot_slice(study)"
   ]
  },
  {
   "cell_type": "markdown",
   "metadata": {},
   "source": [
    "### Train Deep Learning Model with Best Hyperparameters <br/>\n",
    "The deep learning model is trained using the best hyperparameters found through Optuna. This approach aims to enhance performance metrics by optimizing key parameters such as the number of epochs, hidden layers, and dropout ratios."
   ]
  },
  {
   "cell_type": "code",
   "execution_count": 17,
   "metadata": {},
   "outputs": [
    {
     "name": "stdout",
     "output_type": "stream",
     "text": [
      "deeplearning Model Build progress: |"
     ]
    },
    {
     "name": "stdout",
     "output_type": "stream",
     "text": [
      "█████████████████████████████████████████████| (done) 100%\n"
     ]
    },
    {
     "data": {
      "text/html": [
       "<pre style='margin: 1em 0 1em 0;'>Model Details\n",
       "=============\n",
       "H2ODeepLearningEstimator : Deep Learning\n",
       "Model Key: DeepLearning_model_python_1735461052018_22\n",
       "</pre>\n",
       "<div style='margin: 1em 0 1em 0;'>\n",
       "<style>\n",
       "\n",
       "#h2o-table-5.h2o-container {\n",
       "  overflow-x: auto;\n",
       "}\n",
       "#h2o-table-5 .h2o-table {\n",
       "  /* width: 100%; */\n",
       "  margin-top: 1em;\n",
       "  margin-bottom: 1em;\n",
       "}\n",
       "#h2o-table-5 .h2o-table caption {\n",
       "  white-space: nowrap;\n",
       "  caption-side: top;\n",
       "  text-align: left;\n",
       "  /* margin-left: 1em; */\n",
       "  margin: 0;\n",
       "  font-size: larger;\n",
       "}\n",
       "#h2o-table-5 .h2o-table thead {\n",
       "  white-space: nowrap; \n",
       "  position: sticky;\n",
       "  top: 0;\n",
       "  box-shadow: 0 -1px inset;\n",
       "}\n",
       "#h2o-table-5 .h2o-table tbody {\n",
       "  overflow: auto;\n",
       "}\n",
       "#h2o-table-5 .h2o-table th,\n",
       "#h2o-table-5 .h2o-table td {\n",
       "  text-align: right;\n",
       "  /* border: 1px solid; */\n",
       "}\n",
       "#h2o-table-5 .h2o-table tr:nth-child(even) {\n",
       "  /* background: #F5F5F5 */\n",
       "}\n",
       "\n",
       "</style>      \n",
       "<div id=\"h2o-table-5\" class=\"h2o-container\">\n",
       "  <table class=\"h2o-table\">\n",
       "    <caption>Status of Neuron Layers: predicting yearly_compensation, regression, gaussian distribution, Quadratic loss, 30,501 weights/biases, 377.7 KB, 202,094 training samples, mini-batch size 1</caption>\n",
       "    <thead><tr><th></th>\n",
       "<th>layer</th>\n",
       "<th>units</th>\n",
       "<th>type</th>\n",
       "<th>dropout</th>\n",
       "<th>l1</th>\n",
       "<th>l2</th>\n",
       "<th>mean_rate</th>\n",
       "<th>rate_rms</th>\n",
       "<th>momentum</th>\n",
       "<th>mean_weight</th>\n",
       "<th>weight_rms</th>\n",
       "<th>mean_bias</th>\n",
       "<th>bias_rms</th></tr></thead>\n",
       "    <tbody><tr><td></td>\n",
       "<td>1</td>\n",
       "<td>50</td>\n",
       "<td>Input</td>\n",
       "<td>0.1306218</td>\n",
       "<td></td>\n",
       "<td></td>\n",
       "<td></td>\n",
       "<td></td>\n",
       "<td></td>\n",
       "<td></td>\n",
       "<td></td>\n",
       "<td></td>\n",
       "<td></td></tr>\n",
       "<tr><td></td>\n",
       "<td>2</td>\n",
       "<td>100</td>\n",
       "<td>Maxout</td>\n",
       "<td>0.0</td>\n",
       "<td>0.0008734</td>\n",
       "<td>0.0004440</td>\n",
       "<td>0.4882926</td>\n",
       "<td>0.0878154</td>\n",
       "<td>0.0</td>\n",
       "<td>0.0000069</td>\n",
       "<td>0.0105823</td>\n",
       "<td>0.0006261</td>\n",
       "<td>0.0099727</td></tr>\n",
       "<tr><td></td>\n",
       "<td>3</td>\n",
       "<td>100</td>\n",
       "<td>Maxout</td>\n",
       "<td>0.0</td>\n",
       "<td>0.0008734</td>\n",
       "<td>0.0004440</td>\n",
       "<td>0.4968112</td>\n",
       "<td>0.0345105</td>\n",
       "<td>0.0</td>\n",
       "<td>-0.0002980</td>\n",
       "<td>0.0085138</td>\n",
       "<td>-0.0063182</td>\n",
       "<td>0.0514227</td></tr>\n",
       "<tr><td></td>\n",
       "<td>4</td>\n",
       "<td>1</td>\n",
       "<td>Linear</td>\n",
       "<td></td>\n",
       "<td>0.0008734</td>\n",
       "<td>0.0004440</td>\n",
       "<td>0.4885261</td>\n",
       "<td>0.0865239</td>\n",
       "<td>0.0</td>\n",
       "<td>0.0061165</td>\n",
       "<td>0.1397948</td>\n",
       "<td>-0.0121515</td>\n",
       "<td>0.0000000</td></tr></tbody>\n",
       "  </table>\n",
       "</div>\n",
       "</div>\n",
       "<div style='margin: 1em 0 1em 0;'><pre style='margin: 1em 0 1em 0;'>ModelMetricsRegression: deeplearning\n",
       "** Reported on train data. **\n",
       "\n",
       "MSE: 0.10630006430833712\n",
       "RMSE: 0.32603690635929106\n",
       "MAE: 0.24556682495641646\n",
       "RMSLE: 0.10625648129841943\n",
       "Mean Residual Deviance: 0.10630006430833712</pre></div>\n",
       "<div style='margin: 1em 0 1em 0;'><pre style='margin: 1em 0 1em 0;'>ModelMetricsRegression: deeplearning\n",
       "** Reported on validation data. **\n",
       "\n",
       "MSE: 0.11668056632647489\n",
       "RMSE: 0.34158537194451827\n",
       "MAE: 0.25487976363635617\n",
       "RMSLE: 0.10814836148692926\n",
       "Mean Residual Deviance: 0.11668056632647489</pre></div>\n",
       "<div style='margin: 1em 0 1em 0;'>\n",
       "<style>\n",
       "\n",
       "#h2o-table-6.h2o-container {\n",
       "  overflow-x: auto;\n",
       "}\n",
       "#h2o-table-6 .h2o-table {\n",
       "  /* width: 100%; */\n",
       "  margin-top: 1em;\n",
       "  margin-bottom: 1em;\n",
       "}\n",
       "#h2o-table-6 .h2o-table caption {\n",
       "  white-space: nowrap;\n",
       "  caption-side: top;\n",
       "  text-align: left;\n",
       "  /* margin-left: 1em; */\n",
       "  margin: 0;\n",
       "  font-size: larger;\n",
       "}\n",
       "#h2o-table-6 .h2o-table thead {\n",
       "  white-space: nowrap; \n",
       "  position: sticky;\n",
       "  top: 0;\n",
       "  box-shadow: 0 -1px inset;\n",
       "}\n",
       "#h2o-table-6 .h2o-table tbody {\n",
       "  overflow: auto;\n",
       "}\n",
       "#h2o-table-6 .h2o-table th,\n",
       "#h2o-table-6 .h2o-table td {\n",
       "  text-align: right;\n",
       "  /* border: 1px solid; */\n",
       "}\n",
       "#h2o-table-6 .h2o-table tr:nth-child(even) {\n",
       "  /* background: #F5F5F5 */\n",
       "}\n",
       "\n",
       "</style>      \n",
       "<div id=\"h2o-table-6\" class=\"h2o-container\">\n",
       "  <table class=\"h2o-table\">\n",
       "    <caption>Scoring History: </caption>\n",
       "    <thead><tr><th></th>\n",
       "<th>timestamp</th>\n",
       "<th>duration</th>\n",
       "<th>training_speed</th>\n",
       "<th>epochs</th>\n",
       "<th>iterations</th>\n",
       "<th>samples</th>\n",
       "<th>training_rmse</th>\n",
       "<th>training_deviance</th>\n",
       "<th>training_mae</th>\n",
       "<th>training_r2</th>\n",
       "<th>validation_rmse</th>\n",
       "<th>validation_deviance</th>\n",
       "<th>validation_mae</th>\n",
       "<th>validation_r2</th></tr></thead>\n",
       "    <tbody><tr><td></td>\n",
       "<td>2024-12-29 16:40:37</td>\n",
       "<td> 0.000 sec</td>\n",
       "<td>None</td>\n",
       "<td>0.0</td>\n",
       "<td>0</td>\n",
       "<td>0.0</td>\n",
       "<td>nan</td>\n",
       "<td>nan</td>\n",
       "<td>nan</td>\n",
       "<td>nan</td>\n",
       "<td>nan</td>\n",
       "<td>nan</td>\n",
       "<td>nan</td>\n",
       "<td>nan</td></tr>\n",
       "<tr><td></td>\n",
       "<td>2024-12-29 16:40:39</td>\n",
       "<td> 2.192 sec</td>\n",
       "<td>10231 obs/sec</td>\n",
       "<td>3.6995787</td>\n",
       "<td>1</td>\n",
       "<td>20196.0</td>\n",
       "<td>0.7906521</td>\n",
       "<td>0.6251308</td>\n",
       "<td>0.6172923</td>\n",
       "<td>0.9891072</td>\n",
       "<td>0.8488762</td>\n",
       "<td>0.7205907</td>\n",
       "<td>0.6624720</td>\n",
       "<td>0.9874527</td></tr>\n",
       "<tr><td></td>\n",
       "<td>2024-12-29 16:40:45</td>\n",
       "<td> 7.951 sec</td>\n",
       "<td>10703 obs/sec</td>\n",
       "<td>14.7930024</td>\n",
       "<td>4</td>\n",
       "<td>80755.0</td>\n",
       "<td>0.4049239</td>\n",
       "<td>0.1639633</td>\n",
       "<td>0.3117518</td>\n",
       "<td>0.9971430</td>\n",
       "<td>0.4111871</td>\n",
       "<td>0.1690749</td>\n",
       "<td>0.3293122</td>\n",
       "<td>0.9970560</td></tr>\n",
       "<tr><td></td>\n",
       "<td>2024-12-29 16:40:51</td>\n",
       "<td>13.644 sec</td>\n",
       "<td>10855 obs/sec</td>\n",
       "<td>25.9128045</td>\n",
       "<td>7</td>\n",
       "<td>141458.0</td>\n",
       "<td>0.3439449</td>\n",
       "<td>0.1182981</td>\n",
       "<td>0.2480687</td>\n",
       "<td>0.9979387</td>\n",
       "<td>0.3520265</td>\n",
       "<td>0.1239227</td>\n",
       "<td>0.2547204</td>\n",
       "<td>0.9978422</td></tr>\n",
       "<tr><td></td>\n",
       "<td>2024-12-29 16:40:58</td>\n",
       "<td>20.915 sec</td>\n",
       "<td>10086 obs/sec</td>\n",
       "<td>37.0203334</td>\n",
       "<td>10</td>\n",
       "<td>202094.0</td>\n",
       "<td>0.3260369</td>\n",
       "<td>0.1063001</td>\n",
       "<td>0.2455668</td>\n",
       "<td>0.9981477</td>\n",
       "<td>0.3415854</td>\n",
       "<td>0.1166806</td>\n",
       "<td>0.2548798</td>\n",
       "<td>0.9979683</td></tr></tbody>\n",
       "  </table>\n",
       "</div>\n",
       "</div>\n",
       "<div style='margin: 1em 0 1em 0;'>\n",
       "<style>\n",
       "\n",
       "#h2o-table-7.h2o-container {\n",
       "  overflow-x: auto;\n",
       "}\n",
       "#h2o-table-7 .h2o-table {\n",
       "  /* width: 100%; */\n",
       "  margin-top: 1em;\n",
       "  margin-bottom: 1em;\n",
       "}\n",
       "#h2o-table-7 .h2o-table caption {\n",
       "  white-space: nowrap;\n",
       "  caption-side: top;\n",
       "  text-align: left;\n",
       "  /* margin-left: 1em; */\n",
       "  margin: 0;\n",
       "  font-size: larger;\n",
       "}\n",
       "#h2o-table-7 .h2o-table thead {\n",
       "  white-space: nowrap; \n",
       "  position: sticky;\n",
       "  top: 0;\n",
       "  box-shadow: 0 -1px inset;\n",
       "}\n",
       "#h2o-table-7 .h2o-table tbody {\n",
       "  overflow: auto;\n",
       "}\n",
       "#h2o-table-7 .h2o-table th,\n",
       "#h2o-table-7 .h2o-table td {\n",
       "  text-align: right;\n",
       "  /* border: 1px solid; */\n",
       "}\n",
       "#h2o-table-7 .h2o-table tr:nth-child(even) {\n",
       "  /* background: #F5F5F5 */\n",
       "}\n",
       "\n",
       "</style>      \n",
       "<div id=\"h2o-table-7\" class=\"h2o-container\">\n",
       "  <table class=\"h2o-table\">\n",
       "    <caption>Variable Importances: </caption>\n",
       "    <thead><tr><th>variable</th>\n",
       "<th>relative_importance</th>\n",
       "<th>scaled_importance</th>\n",
       "<th>percentage</th></tr></thead>\n",
       "    <tbody><tr><td>PrimaryTool_MEANprofileTable_yearly_compensation</td>\n",
       "<td>1.0</td>\n",
       "<td>1.0</td>\n",
       "<td>0.0231221</td></tr>\n",
       "<tr><td>used_tpu</td>\n",
       "<td>0.9986047</td>\n",
       "<td>0.9986047</td>\n",
       "<td>0.0230899</td></tr>\n",
       "<tr><td>RecommendedLanguage_SUMprofileTable_yearly_compensation</td>\n",
       "<td>0.9710655</td>\n",
       "<td>0.9710655</td>\n",
       "<td>0.0224531</td></tr>\n",
       "<tr><td>demographics_COUNTprofileTable</td>\n",
       "<td>0.9570277</td>\n",
       "<td>0.9570277</td>\n",
       "<td>0.0221285</td></tr>\n",
       "<tr><td>gender_Male</td>\n",
       "<td>0.9473091</td>\n",
       "<td>0.9473091</td>\n",
       "<td>0.0219038</td></tr>\n",
       "<tr><td>jobTitle_SUMprofileTable_yearly_compensation</td>\n",
       "<td>0.9451640</td>\n",
       "<td>0.9451640</td>\n",
       "<td>0.0218542</td></tr>\n",
       "<tr><td>Total_Experience</td>\n",
       "<td>0.9328293</td>\n",
       "<td>0.9328293</td>\n",
       "<td>0.0215690</td></tr>\n",
       "<tr><td>ml_spending</td>\n",
       "<td>0.9228640</td>\n",
       "<td>0.9228640</td>\n",
       "<td>0.0213386</td></tr>\n",
       "<tr><td>country_Poland</td>\n",
       "<td>0.9181229</td>\n",
       "<td>0.9181229</td>\n",
       "<td>0.0212290</td></tr>\n",
       "<tr><td>job_title_Software_Engineer</td>\n",
       "<td>0.9132979</td>\n",
       "<td>0.9132979</td>\n",
       "<td>0.0211174</td></tr>\n",
       "<tr><td>---</td>\n",
       "<td>---</td>\n",
       "<td>---</td>\n",
       "<td>---</td></tr>\n",
       "<tr><td>job_title_Data_Scientist</td>\n",
       "<td>0.8132345</td>\n",
       "<td>0.8132345</td>\n",
       "<td>0.0188037</td></tr>\n",
       "<tr><td>company_MEANprofileTable_yearly_compensation</td>\n",
       "<td>0.8131225</td>\n",
       "<td>0.8131225</td>\n",
       "<td>0.0188011</td></tr>\n",
       "<tr><td>job_title_Research_Scientist</td>\n",
       "<td>0.8054839</td>\n",
       "<td>0.8054839</td>\n",
       "<td>0.0186245</td></tr>\n",
       "<tr><td>job_title_Business_Analyst</td>\n",
       "<td>0.8010150</td>\n",
       "<td>0.8010150</td>\n",
       "<td>0.0185212</td></tr>\n",
       "<tr><td>job_title_Data_Analyst</td>\n",
       "<td>0.7963883</td>\n",
       "<td>0.7963883</td>\n",
       "<td>0.0184142</td></tr>\n",
       "<tr><td>company_COUNTprofileTable</td>\n",
       "<td>0.7959704</td>\n",
       "<td>0.7959704</td>\n",
       "<td>0.0184045</td></tr>\n",
       "<tr><td>job_title_Product/Project_Manager</td>\n",
       "<td>0.7750086</td>\n",
       "<td>0.7750086</td>\n",
       "<td>0.0179198</td></tr>\n",
       "<tr><td>mlIncorporation_MEANprofileTable_yearly_compensation</td>\n",
       "<td>0.7687501</td>\n",
       "<td>0.7687501</td>\n",
       "<td>0.0177751</td></tr>\n",
       "<tr><td>country_Viet_Nam</td>\n",
       "<td>0.7664821</td>\n",
       "<td>0.7664821</td>\n",
       "<td>0.0177227</td></tr>\n",
       "<tr><td>country_Australia</td>\n",
       "<td>0.7044961</td>\n",
       "<td>0.7044961</td>\n",
       "<td>0.0162895</td></tr></tbody>\n",
       "  </table>\n",
       "</div>\n",
       "<pre style='font-size: smaller; margin-bottom: 1em;'>[50 rows x 4 columns]</pre></div><pre style=\"font-size: smaller; margin: 1em 0 0 0;\">\n",
       "\n",
       "[tips]\n",
       "Use `model.explain()` to inspect the model.\n",
       "--\n",
       "Use `h2o.display.toggle_user_tips()` to switch on/off this section.</pre>"
      ],
      "text/plain": [
       "Model Details\n",
       "=============\n",
       "H2ODeepLearningEstimator : Deep Learning\n",
       "Model Key: DeepLearning_model_python_1735461052018_22\n",
       "\n",
       "\n",
       "Status of Neuron Layers: predicting yearly_compensation, regression, gaussian distribution, Quadratic loss, 30,501 weights/biases, 377.7 KB, 202,094 training samples, mini-batch size 1\n",
       "    layer    units    type    dropout              l1                     l2                      mean_rate            rate_rms              momentum    mean_weight             weight_rms            mean_bias              bias_rms\n",
       "--  -------  -------  ------  -------------------  ---------------------  ----------------------  -------------------  --------------------  ----------  ----------------------  --------------------  ---------------------  -----------------------\n",
       "    1        50       Input   0.13062179562149737\n",
       "    2        100      Maxout  0.0                  0.0008734285704456857  0.00044395405309485716  0.4882925820579927   0.08781537413597107   0.0         6.939230729801693e-06   0.0105823315680027    0.0006261107201493189  0.009972695261240005\n",
       "    3        100      Maxout  0.0                  0.0008734285704456857  0.00044395405309485716  0.49681122388722143  0.034510478377342224  0.0         -0.0002980003350976631  0.008513815701007843  -0.006318233061131003  0.05142267048358917\n",
       "    4        1        Linear                       0.0008734285704456857  0.00044395405309485716  0.48852608448360113  0.08652389049530029   0.0         0.006116522883439756    0.13979482650756836   -0.01215153410536504   1.0971281125650402e-154\n",
       "\n",
       "ModelMetricsRegression: deeplearning\n",
       "** Reported on train data. **\n",
       "\n",
       "MSE: 0.10630006430833712\n",
       "RMSE: 0.32603690635929106\n",
       "MAE: 0.24556682495641646\n",
       "RMSLE: 0.10625648129841943\n",
       "Mean Residual Deviance: 0.10630006430833712\n",
       "\n",
       "ModelMetricsRegression: deeplearning\n",
       "** Reported on validation data. **\n",
       "\n",
       "MSE: 0.11668056632647489\n",
       "RMSE: 0.34158537194451827\n",
       "MAE: 0.25487976363635617\n",
       "RMSLE: 0.10814836148692926\n",
       "Mean Residual Deviance: 0.11668056632647489\n",
       "\n",
       "Scoring History: \n",
       "    timestamp            duration    training_speed    epochs    iterations    samples    training_rmse    training_deviance    training_mae    training_r2    validation_rmse    validation_deviance    validation_mae    validation_r2\n",
       "--  -------------------  ----------  ----------------  --------  ------------  ---------  ---------------  -------------------  --------------  -------------  -----------------  ---------------------  ----------------  ---------------\n",
       "    2024-12-29 16:40:37  0.000 sec                     0         0             0          nan              nan                  nan             nan            nan                nan                    nan               nan\n",
       "    2024-12-29 16:40:39  2.192 sec   10231 obs/sec     3.69958   1             20196      0.790652         0.625131             0.617292        0.989107       0.848876           0.720591               0.662472          0.987453\n",
       "    2024-12-29 16:40:45  7.951 sec   10703 obs/sec     14.793    4             80755      0.404924         0.163963             0.311752        0.997143       0.411187           0.169075               0.329312          0.997056\n",
       "    2024-12-29 16:40:51  13.644 sec  10855 obs/sec     25.9128   7             141458     0.343945         0.118298             0.248069        0.997939       0.352027           0.123923               0.25472           0.997842\n",
       "    2024-12-29 16:40:58  20.915 sec  10086 obs/sec     37.0203   10            202094     0.326037         0.1063               0.245567        0.998148       0.341585           0.116681               0.25488           0.997968\n",
       "\n",
       "Variable Importances: \n",
       "variable                                                 relative_importance    scaled_importance    percentage\n",
       "-------------------------------------------------------  ---------------------  -------------------  --------------------\n",
       "PrimaryTool_MEANprofileTable_yearly_compensation         1.0                    1.0                  0.0231221312808455\n",
       "used_tpu                                                 0.9986046552658081     0.9986046552658081   0.02308986793671948\n",
       "RecommendedLanguage_SUMprofileTable_yearly_compensation  0.9710654616355896     0.9710654616355896   0.022453103086232943\n",
       "demographics_COUNTprofileTable                           0.9570276737213135     0.9570276737213135   0.022128519511186384\n",
       "gender_Male                                              0.9473090767860413     0.9473090767860413   0.021903804836983398\n",
       "jobTitle_SUMprofileTable_yearly_compensation             0.9451640248298645     0.9451640248298645   0.021854206664048442\n",
       "Total_Experience                                         0.9328292608261108     0.9328292608261108   0.021569000631435402\n",
       "ml_spending                                              0.9228639602661133     0.9228639602661133   0.021338581643634058\n",
       "country_Poland                                           0.9181229472160339     0.9181229472160339   0.02122895931748592\n",
       "job_title_Software_Engineer                              0.9132978916168213     0.9132978916168213   0.021117393748483548\n",
       "---                                                      ---                    ---                  ---\n",
       "job_title_Data_Scientist                                 0.8132345080375671     0.8132345080375671   0.018803715056958433\n",
       "company_MEANprofileTable_yearly_compensation             0.8131225109100342     0.8131225109100342   0.018801125444672537\n",
       "job_title_Research_Scientist                             0.805483877658844      0.805483877658844    0.018624503963832285\n",
       "job_title_Business_Analyst                               0.8010150194168091     0.8010150194168091   0.018521174436884467\n",
       "job_title_Data_Analyst                                   0.7963883280754089     0.7963883280754089   0.01841419547229266\n",
       "company_COUNTprofileTable                                0.7959703803062439     0.7959703803062439   0.01840453162910549\n",
       "job_title_Product/Project_Manager                        0.7750085592269897     0.7750085592269897   0.017919849650225382\n",
       "mlIncorporation_MEANprofileTable_yearly_compensation     0.7687500715255737     0.7687500715255737   0.017775140075973684\n",
       "country_Viet_Nam                                         0.7664821147918701     0.7664821147918701   0.01772270008263771\n",
       "country_Australia                                        0.7044960856437683     0.7044960856437683   0.016289450979096985\n",
       "[50 rows x 4 columns]\n",
       "\n",
       "\n",
       "[tips]\n",
       "Use `model.explain()` to inspect the model.\n",
       "--\n",
       "Use `h2o.display.toggle_user_tips()` to switch on/off this section."
      ]
     },
     "execution_count": 17,
     "metadata": {},
     "output_type": "execute_result"
    }
   ],
   "source": [
    "# Train Deep Learning Model with Best Hyperparameters\n",
    "tuned_dl_model = H2ODeepLearningEstimator(**best_params, seed=42)\n",
    "tuned_dl_model.train(x=features, y=target, training_frame=train_h2o, validation_frame=val_h2o)"
   ]
  },
  {
   "cell_type": "code",
   "execution_count": 43,
   "metadata": {},
   "outputs": [
    {
     "name": "stdout",
     "output_type": "stream",
     "text": [
      "Tuned Deep Learning Model Performance:\n",
      "ModelMetricsRegression: deeplearning\n",
      "** Reported on test data. **\n",
      "\n",
      "MSE: 0.11184234023388619\n",
      "RMSE: 0.3344283783321717\n",
      "MAE: 0.2529841293593749\n",
      "RMSLE: 0.10716528227835725\n",
      "Mean Residual Deviance: 0.11184234023388619\n"
     ]
    }
   ],
   "source": [
    "# Evaluate Tuned Model\n",
    "tuned_performance = tuned_dl_model.model_performance(test_h2o)\n",
    "print(\"Tuned Deep Learning Model Performance:\")\n",
    "print(tuned_performance)\n"
   ]
  },
  {
   "cell_type": "code",
   "execution_count": 53,
   "metadata": {},
   "outputs": [],
   "source": [
    "# Record tuned model performance\n",
    "record_model(\"Tuned Deep Learning Model\", best_params, tuned_performance)"
   ]
  },
  {
   "cell_type": "code",
   "execution_count": 54,
   "metadata": {},
   "outputs": [
    {
     "data": {
      "text/html": [
       "<div>\n",
       "<style scoped>\n",
       "    .dataframe tbody tr th:only-of-type {\n",
       "        vertical-align: middle;\n",
       "    }\n",
       "\n",
       "    .dataframe tbody tr th {\n",
       "        vertical-align: top;\n",
       "    }\n",
       "\n",
       "    .dataframe thead th {\n",
       "        text-align: right;\n",
       "    }\n",
       "</style>\n",
       "<table border=\"1\" class=\"dataframe\">\n",
       "  <thead>\n",
       "    <tr style=\"text-align: right;\">\n",
       "      <th></th>\n",
       "      <th>Model Name</th>\n",
       "      <th>Hyperparameters</th>\n",
       "      <th>MSE</th>\n",
       "      <th>RMSE</th>\n",
       "      <th>MAE</th>\n",
       "      <th>RMSLE</th>\n",
       "      <th>Mean Residual Deviance</th>\n",
       "      <th>R-Squared</th>\n",
       "      <th>Additional Metrics</th>\n",
       "    </tr>\n",
       "  </thead>\n",
       "  <tbody>\n",
       "    <tr>\n",
       "      <th>0</th>\n",
       "      <td>Default Deep Learning Model</td>\n",
       "      <td>{'seed': 42}</td>\n",
       "      <td>0.172380</td>\n",
       "      <td>0.415187</td>\n",
       "      <td>0.312495</td>\n",
       "      <td>0.140930</td>\n",
       "      <td>0.172380</td>\n",
       "      <td>0.996995</td>\n",
       "      <td>{}</td>\n",
       "    </tr>\n",
       "    <tr>\n",
       "      <th>1</th>\n",
       "      <td>Tuned Deep Learning Model</td>\n",
       "      <td>{'epochs': 37, 'hidden': [100, 100], 'input_dr...</td>\n",
       "      <td>0.111842</td>\n",
       "      <td>0.334428</td>\n",
       "      <td>0.252984</td>\n",
       "      <td>0.107165</td>\n",
       "      <td>0.111842</td>\n",
       "      <td>0.998050</td>\n",
       "      <td>{}</td>\n",
       "    </tr>\n",
       "  </tbody>\n",
       "</table>\n",
       "</div>"
      ],
      "text/plain": [
       "                    Model Name  \\\n",
       "0  Default Deep Learning Model   \n",
       "1    Tuned Deep Learning Model   \n",
       "\n",
       "                                     Hyperparameters       MSE      RMSE  \\\n",
       "0                                       {'seed': 42}  0.172380  0.415187   \n",
       "1  {'epochs': 37, 'hidden': [100, 100], 'input_dr...  0.111842  0.334428   \n",
       "\n",
       "        MAE     RMSLE  Mean Residual Deviance  R-Squared Additional Metrics  \n",
       "0  0.312495  0.140930                0.172380   0.996995                 {}  \n",
       "1  0.252984  0.107165                0.111842   0.998050                 {}  "
      ]
     },
     "execution_count": 54,
     "metadata": {},
     "output_type": "execute_result"
    }
   ],
   "source": [
    "model_results"
   ]
  },
  {
   "cell_type": "code",
   "execution_count": 21,
   "metadata": {},
   "outputs": [
    {
     "name": "stdout",
     "output_type": "stream",
     "text": [
      "deeplearning prediction progress: |"
     ]
    },
    {
     "name": "stdout",
     "output_type": "stream",
     "text": [
      "██████████████████████████████████████████████| (done) 100%\n"
     ]
    },
    {
     "name": "stderr",
     "output_type": "stream",
     "text": [
      "c:\\Users\\Huawei\\OneDrive - Universiti Malaya\\Desktop\\SEMESTER 7\\WIE3007_Data-Mining\\Group Project\\data-mining-warehousing-wages-analysis\\venv\\lib\\site-packages\\h2o\\frame.py:1983: H2ODependencyWarning:\n",
      "\n",
      "Converting H2O frame to pandas dataframe using single-thread.  For faster conversion using multi-thread, install polars and pyarrow and use it as pandas_df = h2o_df.as_data_frame(use_multi_thread=True)\n",
      "\n",
      "\n"
     ]
    }
   ],
   "source": [
    "# Compare Predictions with Actual\n",
    "predictions = tuned_dl_model.predict(test_h2o)\n",
    "actual_values = y_test.to_numpy().ravel()\n",
    "rounded_predictions = predictions.as_data_frame().to_numpy().ravel().round().astype(int)"
   ]
  },
  {
   "cell_type": "code",
   "execution_count": 22,
   "metadata": {},
   "outputs": [
    {
     "name": "stdout",
     "output_type": "stream",
     "text": [
      "Accuracy on Test Data: 0.89\n"
     ]
    }
   ],
   "source": [
    "accuracy = accuracy_score(actual_values, rounded_predictions)\n",
    "print(f\"Accuracy on Test Data: {accuracy:.2f}\")"
   ]
  },
  {
   "cell_type": "markdown",
   "metadata": {},
   "source": [
    "### Early Stopping Model <br/>\n",
    "This model incorporates early stopping to prevent overfitting. Training halts if the model's RMSE does not improve within a specified number of rounds. This technique ensures efficient use of computational resources and reduces overtraining risks.\n"
   ]
  },
  {
   "cell_type": "code",
   "execution_count": 23,
   "metadata": {},
   "outputs": [
    {
     "name": "stdout",
     "output_type": "stream",
     "text": [
      "deeplearning Model Build progress: |█████████████████████████████████████████████| (done) 100%\n",
      "Final Model Performance on Test Set:\n",
      "RMSE: 0.30\n",
      "MAE: 0.22\n",
      "R-squared: 1.00\n"
     ]
    }
   ],
   "source": [
    "# Retrieve and print the best hyperparameters\n",
    "best_params = study.best_params\n",
    "\n",
    "# Train a early stopping model with the best hyperparameters and early stopping\n",
    "early_stopping_model = H2ODeepLearningEstimator(**best_params, \n",
    "                                       stopping_metric=\"rmse\", \n",
    "                                       stopping_rounds=5, \n",
    "                                       stopping_tolerance=0.01,\n",
    "                                       seed=42)\n",
    "early_stopping_model.train(x=features, y=target, training_frame=train_h2o, validation_frame=val_h2o)\n",
    "\n",
    "# Evaluate the final model on the test set\n",
    "final_performance = early_stopping_model.model_performance(test_h2o)\n",
    "print(\"Final Model Performance on Test Set:\")\n",
    "print(f\"RMSE: {final_performance.rmse():.2f}\")\n",
    "print(f\"MAE: {final_performance.mae():.2f}\")\n",
    "print(f\"R-squared: {final_performance.r2():.2f}\")"
   ]
  },
  {
   "cell_type": "code",
   "execution_count": 55,
   "metadata": {},
   "outputs": [],
   "source": [
    "# Record the performance of the early stopping model\n",
    "record_model(\"Early Stopping Model\", best_params, final_performance)"
   ]
  },
  {
   "cell_type": "code",
   "execution_count": 56,
   "metadata": {},
   "outputs": [
    {
     "data": {
      "text/html": [
       "<div>\n",
       "<style scoped>\n",
       "    .dataframe tbody tr th:only-of-type {\n",
       "        vertical-align: middle;\n",
       "    }\n",
       "\n",
       "    .dataframe tbody tr th {\n",
       "        vertical-align: top;\n",
       "    }\n",
       "\n",
       "    .dataframe thead th {\n",
       "        text-align: right;\n",
       "    }\n",
       "</style>\n",
       "<table border=\"1\" class=\"dataframe\">\n",
       "  <thead>\n",
       "    <tr style=\"text-align: right;\">\n",
       "      <th></th>\n",
       "      <th>Model Name</th>\n",
       "      <th>Hyperparameters</th>\n",
       "      <th>MSE</th>\n",
       "      <th>RMSE</th>\n",
       "      <th>MAE</th>\n",
       "      <th>RMSLE</th>\n",
       "      <th>Mean Residual Deviance</th>\n",
       "      <th>R-Squared</th>\n",
       "      <th>Additional Metrics</th>\n",
       "    </tr>\n",
       "  </thead>\n",
       "  <tbody>\n",
       "    <tr>\n",
       "      <th>0</th>\n",
       "      <td>Default Deep Learning Model</td>\n",
       "      <td>{'seed': 42}</td>\n",
       "      <td>0.172380</td>\n",
       "      <td>0.415187</td>\n",
       "      <td>0.312495</td>\n",
       "      <td>0.140930</td>\n",
       "      <td>0.172380</td>\n",
       "      <td>0.996995</td>\n",
       "      <td>{}</td>\n",
       "    </tr>\n",
       "    <tr>\n",
       "      <th>1</th>\n",
       "      <td>Tuned Deep Learning Model</td>\n",
       "      <td>{'epochs': 37, 'hidden': [100, 100], 'input_dr...</td>\n",
       "      <td>0.111842</td>\n",
       "      <td>0.334428</td>\n",
       "      <td>0.252984</td>\n",
       "      <td>0.107165</td>\n",
       "      <td>0.111842</td>\n",
       "      <td>0.998050</td>\n",
       "      <td>{}</td>\n",
       "    </tr>\n",
       "    <tr>\n",
       "      <th>2</th>\n",
       "      <td>Early Stopping Model</td>\n",
       "      <td>{'epochs': 37, 'hidden': [100, 100], 'input_dr...</td>\n",
       "      <td>0.089279</td>\n",
       "      <td>0.298795</td>\n",
       "      <td>0.216405</td>\n",
       "      <td>0.096573</td>\n",
       "      <td>0.089279</td>\n",
       "      <td>0.998444</td>\n",
       "      <td>{}</td>\n",
       "    </tr>\n",
       "  </tbody>\n",
       "</table>\n",
       "</div>"
      ],
      "text/plain": [
       "                    Model Name  \\\n",
       "0  Default Deep Learning Model   \n",
       "1    Tuned Deep Learning Model   \n",
       "2         Early Stopping Model   \n",
       "\n",
       "                                     Hyperparameters       MSE      RMSE  \\\n",
       "0                                       {'seed': 42}  0.172380  0.415187   \n",
       "1  {'epochs': 37, 'hidden': [100, 100], 'input_dr...  0.111842  0.334428   \n",
       "2  {'epochs': 37, 'hidden': [100, 100], 'input_dr...  0.089279  0.298795   \n",
       "\n",
       "        MAE     RMSLE  Mean Residual Deviance  R-Squared Additional Metrics  \n",
       "0  0.312495  0.140930                0.172380   0.996995                 {}  \n",
       "1  0.252984  0.107165                0.111842   0.998050                 {}  \n",
       "2  0.216405  0.096573                0.089279   0.998444                 {}  "
      ]
     },
     "execution_count": 56,
     "metadata": {},
     "output_type": "execute_result"
    }
   ],
   "source": [
    "model_results"
   ]
  },
  {
   "cell_type": "markdown",
   "metadata": {},
   "source": [
    "### Ensemble Model <br/>\n",
    "An ensemble of models is trained with shared hyperparameters but varied hidden layer configurations. Predictions are averaged to improve robustness and reduce variance. The ensemble is evaluated using metrics like MAE and R-squared.\n"
   ]
  },
  {
   "cell_type": "code",
   "execution_count": 26,
   "metadata": {},
   "outputs": [],
   "source": [
    "import numpy as np"
   ]
  },
  {
   "cell_type": "code",
   "execution_count": 57,
   "metadata": {},
   "outputs": [
    {
     "name": "stdout",
     "output_type": "stream",
     "text": [
      "deeplearning Model Build progress: |"
     ]
    },
    {
     "name": "stdout",
     "output_type": "stream",
     "text": [
      "█████████████████████████████████████████████| (done) 100%\n",
      "deeplearning Model Build progress: |█████████████████████████████████████████████| (done) 100%\n",
      "deeplearning Model Build progress: |█████████████████████████████████████████████| (done) 100%\n"
     ]
    }
   ],
   "source": [
    "# Retrieve best hyperparameters from Optuna\n",
    "best_params = study.best_params\n",
    "\n",
    "# Extract shared hyperparameters for the ensemble\n",
    "common_params = {\n",
    "    \"epochs\": best_params.get(\"epochs\", 100),\n",
    "    \"input_dropout_ratio\": best_params.get(\"input_dropout_ratio\", 0.0),\n",
    "    \"l1\": best_params.get(\"l1\", 1e-6),\n",
    "    \"l2\": best_params.get(\"l2\", 1e-6),\n",
    "    \"activation\": best_params.get(\"activation\", \"Rectifier\"),\n",
    "    \"seed\": 42,\n",
    "}\n",
    "\n",
    "# Train Multiple Models for Ensembling using the best parameters\n",
    "models = []\n",
    "for idx, hidden in enumerate([[50, 50], [100, 100], [200, 200]], start=1):\n",
    "    # Combine best params with unique hidden layers\n",
    "    model_params = {**common_params, \"hidden\": hidden}\n",
    "    \n",
    "    # Train the model\n",
    "    model = H2ODeepLearningEstimator(**model_params)\n",
    "    model.train(x=features, y=target, training_frame=train_h2o, validation_frame=val_h2o)\n",
    "    models.append(model)\n",
    "    \n",
    "    # Record individual model performance\n",
    "    performance = model.model_performance(test_h2o)\n",
    "    record_model(\n",
    "        name=f\"Deep Learning Model {idx} (Hidden: {hidden})\",\n",
    "        hyperparameters=model_params,\n",
    "        performance=performance\n",
    "    )"
   ]
  },
  {
   "cell_type": "code",
   "execution_count": 58,
   "metadata": {},
   "outputs": [
    {
     "name": "stdout",
     "output_type": "stream",
     "text": [
      "deeplearning prediction progress: |"
     ]
    },
    {
     "name": "stdout",
     "output_type": "stream",
     "text": [
      "██████████████████████████████████████████████| (done) 100%\n",
      "deeplearning prediction progress: |"
     ]
    },
    {
     "name": "stderr",
     "output_type": "stream",
     "text": [
      "c:\\Users\\Huawei\\OneDrive - Universiti Malaya\\Desktop\\SEMESTER 7\\WIE3007_Data-Mining\\Group Project\\data-mining-warehousing-wages-analysis\\venv\\lib\\site-packages\\h2o\\frame.py:1983: H2ODependencyWarning:\n",
      "\n",
      "Converting H2O frame to pandas dataframe using single-thread.  For faster conversion using multi-thread, install polars and pyarrow and use it as pandas_df = h2o_df.as_data_frame(use_multi_thread=True)\n",
      "\n",
      "\n"
     ]
    },
    {
     "name": "stdout",
     "output_type": "stream",
     "text": [
      "██████████████████████████████████████████████| (done) 100%\n",
      "deeplearning prediction progress: |"
     ]
    },
    {
     "name": "stderr",
     "output_type": "stream",
     "text": [
      "c:\\Users\\Huawei\\OneDrive - Universiti Malaya\\Desktop\\SEMESTER 7\\WIE3007_Data-Mining\\Group Project\\data-mining-warehousing-wages-analysis\\venv\\lib\\site-packages\\h2o\\frame.py:1983: H2ODependencyWarning:\n",
      "\n",
      "Converting H2O frame to pandas dataframe using single-thread.  For faster conversion using multi-thread, install polars and pyarrow and use it as pandas_df = h2o_df.as_data_frame(use_multi_thread=True)\n",
      "\n",
      "\n"
     ]
    },
    {
     "name": "stdout",
     "output_type": "stream",
     "text": [
      "██████████████████████████████████████████████| (done) 100%\n"
     ]
    },
    {
     "name": "stderr",
     "output_type": "stream",
     "text": [
      "c:\\Users\\Huawei\\OneDrive - Universiti Malaya\\Desktop\\SEMESTER 7\\WIE3007_Data-Mining\\Group Project\\data-mining-warehousing-wages-analysis\\venv\\lib\\site-packages\\h2o\\frame.py:1983: H2ODependencyWarning:\n",
      "\n",
      "Converting H2O frame to pandas dataframe using single-thread.  For faster conversion using multi-thread, install polars and pyarrow and use it as pandas_df = h2o_df.as_data_frame(use_multi_thread=True)\n",
      "\n",
      "\n"
     ]
    }
   ],
   "source": [
    "# Ensemble Predictions (Averaging)\n",
    "predictions = [model.predict(test_h2o).as_data_frame()[\"predict\"].to_numpy() for model in models]\n",
    "ensemble_prediction = np.mean(predictions, axis=0)"
   ]
  },
  {
   "cell_type": "code",
   "execution_count": 59,
   "metadata": {},
   "outputs": [
    {
     "name": "stderr",
     "output_type": "stream",
     "text": [
      "c:\\Users\\Huawei\\OneDrive - Universiti Malaya\\Desktop\\SEMESTER 7\\WIE3007_Data-Mining\\Group Project\\data-mining-warehousing-wages-analysis\\venv\\lib\\site-packages\\h2o\\frame.py:1983: H2ODependencyWarning:\n",
      "\n",
      "Converting H2O frame to pandas dataframe using single-thread.  For faster conversion using multi-thread, install polars and pyarrow and use it as pandas_df = h2o_df.as_data_frame(use_multi_thread=True)\n",
      "\n",
      "\n"
     ]
    }
   ],
   "source": [
    "# Evaluate Ensemble using Mean Absolute Error\n",
    "y_test = test_h2o[target].as_data_frame().to_numpy().ravel()\n",
    "mae_ensemble = mean_absolute_error(y_test, ensemble_prediction)"
   ]
  },
  {
   "cell_type": "code",
   "execution_count": 60,
   "metadata": {},
   "outputs": [],
   "source": [
    "# Add R-squared Evaluation for the ensemble\n",
    "total_variance = np.sum((y_test - np.mean(y_test)) ** 2)\n",
    "residual_variance = np.sum((y_test - ensemble_prediction) ** 2)\n",
    "r_squared = 1 - (residual_variance / total_variance)"
   ]
  },
  {
   "cell_type": "code",
   "execution_count": 61,
   "metadata": {},
   "outputs": [],
   "source": [
    "# Record Ensemble Performance\n",
    "ensemble_metrics = {\n",
    "    \"MAE (Ensemble)\": mae_ensemble,\n",
    "    \"R-Squared (Ensemble)\": r_squared\n",
    "}\n",
    "record_model(\n",
    "    name=\"Ensemble Model (Averaging)\",\n",
    "    hyperparameters=best_params,  # Use best hyperparameters as a general reference\n",
    "    performance=None,  # No direct H2O performance object for the ensemble\n",
    "    additional_metrics=ensemble_metrics\n",
    ")"
   ]
  },
  {
   "cell_type": "code",
   "execution_count": 62,
   "metadata": {},
   "outputs": [
    {
     "data": {
      "text/html": [
       "<div>\n",
       "<style scoped>\n",
       "    .dataframe tbody tr th:only-of-type {\n",
       "        vertical-align: middle;\n",
       "    }\n",
       "\n",
       "    .dataframe tbody tr th {\n",
       "        vertical-align: top;\n",
       "    }\n",
       "\n",
       "    .dataframe thead th {\n",
       "        text-align: right;\n",
       "    }\n",
       "</style>\n",
       "<table border=\"1\" class=\"dataframe\">\n",
       "  <thead>\n",
       "    <tr style=\"text-align: right;\">\n",
       "      <th></th>\n",
       "      <th>Model Name</th>\n",
       "      <th>Hyperparameters</th>\n",
       "      <th>MSE</th>\n",
       "      <th>RMSE</th>\n",
       "      <th>MAE</th>\n",
       "      <th>RMSLE</th>\n",
       "      <th>Mean Residual Deviance</th>\n",
       "      <th>R-Squared</th>\n",
       "      <th>Additional Metrics</th>\n",
       "    </tr>\n",
       "  </thead>\n",
       "  <tbody>\n",
       "    <tr>\n",
       "      <th>0</th>\n",
       "      <td>Default Deep Learning Model</td>\n",
       "      <td>{'seed': 42}</td>\n",
       "      <td>0.172380</td>\n",
       "      <td>0.415187</td>\n",
       "      <td>0.312495</td>\n",
       "      <td>0.140930</td>\n",
       "      <td>0.172380</td>\n",
       "      <td>0.996995</td>\n",
       "      <td>{}</td>\n",
       "    </tr>\n",
       "    <tr>\n",
       "      <th>1</th>\n",
       "      <td>Tuned Deep Learning Model</td>\n",
       "      <td>{'epochs': 37, 'hidden': [100, 100], 'input_dr...</td>\n",
       "      <td>0.111842</td>\n",
       "      <td>0.334428</td>\n",
       "      <td>0.252984</td>\n",
       "      <td>0.107165</td>\n",
       "      <td>0.111842</td>\n",
       "      <td>0.998050</td>\n",
       "      <td>{}</td>\n",
       "    </tr>\n",
       "    <tr>\n",
       "      <th>2</th>\n",
       "      <td>Early Stopping Model</td>\n",
       "      <td>{'epochs': 37, 'hidden': [100, 100], 'input_dr...</td>\n",
       "      <td>0.089279</td>\n",
       "      <td>0.298795</td>\n",
       "      <td>0.216405</td>\n",
       "      <td>0.096573</td>\n",
       "      <td>0.089279</td>\n",
       "      <td>0.998444</td>\n",
       "      <td>{}</td>\n",
       "    </tr>\n",
       "    <tr>\n",
       "      <th>3</th>\n",
       "      <td>Deep Learning Model 1 (Hidden: [50, 50])</td>\n",
       "      <td>{'epochs': 37, 'input_dropout_ratio': 0.001306...</td>\n",
       "      <td>0.066305</td>\n",
       "      <td>0.257498</td>\n",
       "      <td>0.199259</td>\n",
       "      <td>0.092767</td>\n",
       "      <td>0.066305</td>\n",
       "      <td>0.998844</td>\n",
       "      <td>{}</td>\n",
       "    </tr>\n",
       "    <tr>\n",
       "      <th>4</th>\n",
       "      <td>Deep Learning Model 2 (Hidden: [100, 100])</td>\n",
       "      <td>{'epochs': 37, 'input_dropout_ratio': 0.001306...</td>\n",
       "      <td>0.123865</td>\n",
       "      <td>0.351945</td>\n",
       "      <td>0.229852</td>\n",
       "      <td>0.100942</td>\n",
       "      <td>0.123865</td>\n",
       "      <td>0.997841</td>\n",
       "      <td>{}</td>\n",
       "    </tr>\n",
       "    <tr>\n",
       "      <th>5</th>\n",
       "      <td>Deep Learning Model 3 (Hidden: [200, 200])</td>\n",
       "      <td>{'epochs': 37, 'input_dropout_ratio': 0.001306...</td>\n",
       "      <td>0.082322</td>\n",
       "      <td>0.286918</td>\n",
       "      <td>0.198257</td>\n",
       "      <td>0.082074</td>\n",
       "      <td>0.082322</td>\n",
       "      <td>0.998565</td>\n",
       "      <td>{}</td>\n",
       "    </tr>\n",
       "    <tr>\n",
       "      <th>6</th>\n",
       "      <td>Ensemble Model (Averaging)</td>\n",
       "      <td>{'epochs': 37, 'hidden': [100, 100], 'input_dr...</td>\n",
       "      <td>NaN</td>\n",
       "      <td>NaN</td>\n",
       "      <td>NaN</td>\n",
       "      <td>NaN</td>\n",
       "      <td>NaN</td>\n",
       "      <td>NaN</td>\n",
       "      <td>{'MAE (Ensemble)': 0.1531103457657005, 'R-Squa...</td>\n",
       "    </tr>\n",
       "  </tbody>\n",
       "</table>\n",
       "</div>"
      ],
      "text/plain": [
       "                                   Model Name  \\\n",
       "0                 Default Deep Learning Model   \n",
       "1                   Tuned Deep Learning Model   \n",
       "2                        Early Stopping Model   \n",
       "3    Deep Learning Model 1 (Hidden: [50, 50])   \n",
       "4  Deep Learning Model 2 (Hidden: [100, 100])   \n",
       "5  Deep Learning Model 3 (Hidden: [200, 200])   \n",
       "6                  Ensemble Model (Averaging)   \n",
       "\n",
       "                                     Hyperparameters       MSE      RMSE  \\\n",
       "0                                       {'seed': 42}  0.172380  0.415187   \n",
       "1  {'epochs': 37, 'hidden': [100, 100], 'input_dr...  0.111842  0.334428   \n",
       "2  {'epochs': 37, 'hidden': [100, 100], 'input_dr...  0.089279  0.298795   \n",
       "3  {'epochs': 37, 'input_dropout_ratio': 0.001306...  0.066305  0.257498   \n",
       "4  {'epochs': 37, 'input_dropout_ratio': 0.001306...  0.123865  0.351945   \n",
       "5  {'epochs': 37, 'input_dropout_ratio': 0.001306...  0.082322  0.286918   \n",
       "6  {'epochs': 37, 'hidden': [100, 100], 'input_dr...       NaN       NaN   \n",
       "\n",
       "        MAE     RMSLE  Mean Residual Deviance  R-Squared  \\\n",
       "0  0.312495  0.140930                0.172380   0.996995   \n",
       "1  0.252984  0.107165                0.111842   0.998050   \n",
       "2  0.216405  0.096573                0.089279   0.998444   \n",
       "3  0.199259  0.092767                0.066305   0.998844   \n",
       "4  0.229852  0.100942                0.123865   0.997841   \n",
       "5  0.198257  0.082074                0.082322   0.998565   \n",
       "6       NaN       NaN                     NaN        NaN   \n",
       "\n",
       "                                  Additional Metrics  \n",
       "0                                                 {}  \n",
       "1                                                 {}  \n",
       "2                                                 {}  \n",
       "3                                                 {}  \n",
       "4                                                 {}  \n",
       "5                                                 {}  \n",
       "6  {'MAE (Ensemble)': 0.1531103457657005, 'R-Squa...  "
      ]
     },
     "execution_count": 62,
     "metadata": {},
     "output_type": "execute_result"
    }
   ],
   "source": [
    "model_results"
   ]
  },
  {
   "cell_type": "markdown",
   "metadata": {},
   "source": [
    "### Final Evaluation and Model Saving <br/>\n",
    "All trained models are compared based on RMSE, and the best-performing model is selected. The best model is then saved for future use, ensuring reproducibility and ease of deployment."
   ]
  },
  {
   "cell_type": "code",
   "execution_count": 63,
   "metadata": {},
   "outputs": [
    {
     "name": "stdout",
     "output_type": "stream",
     "text": [
      "Model Performance Comparison:\n"
     ]
    },
    {
     "data": {
      "text/html": [
       "<div>\n",
       "<style scoped>\n",
       "    .dataframe tbody tr th:only-of-type {\n",
       "        vertical-align: middle;\n",
       "    }\n",
       "\n",
       "    .dataframe tbody tr th {\n",
       "        vertical-align: top;\n",
       "    }\n",
       "\n",
       "    .dataframe thead th {\n",
       "        text-align: right;\n",
       "    }\n",
       "</style>\n",
       "<table border=\"1\" class=\"dataframe\">\n",
       "  <thead>\n",
       "    <tr style=\"text-align: right;\">\n",
       "      <th></th>\n",
       "      <th>Model Name</th>\n",
       "      <th>Hyperparameters</th>\n",
       "      <th>MSE</th>\n",
       "      <th>RMSE</th>\n",
       "      <th>MAE</th>\n",
       "      <th>RMSLE</th>\n",
       "      <th>Mean Residual Deviance</th>\n",
       "      <th>R-Squared</th>\n",
       "      <th>Additional Metrics</th>\n",
       "    </tr>\n",
       "  </thead>\n",
       "  <tbody>\n",
       "    <tr>\n",
       "      <th>3</th>\n",
       "      <td>Deep Learning Model 1 (Hidden: [50, 50])</td>\n",
       "      <td>{'epochs': 37, 'input_dropout_ratio': 0.001306...</td>\n",
       "      <td>0.066305</td>\n",
       "      <td>0.257498</td>\n",
       "      <td>0.199259</td>\n",
       "      <td>0.092767</td>\n",
       "      <td>0.066305</td>\n",
       "      <td>0.998844</td>\n",
       "      <td>{}</td>\n",
       "    </tr>\n",
       "    <tr>\n",
       "      <th>5</th>\n",
       "      <td>Deep Learning Model 3 (Hidden: [200, 200])</td>\n",
       "      <td>{'epochs': 37, 'input_dropout_ratio': 0.001306...</td>\n",
       "      <td>0.082322</td>\n",
       "      <td>0.286918</td>\n",
       "      <td>0.198257</td>\n",
       "      <td>0.082074</td>\n",
       "      <td>0.082322</td>\n",
       "      <td>0.998565</td>\n",
       "      <td>{}</td>\n",
       "    </tr>\n",
       "    <tr>\n",
       "      <th>2</th>\n",
       "      <td>Early Stopping Model</td>\n",
       "      <td>{'epochs': 37, 'hidden': [100, 100], 'input_dr...</td>\n",
       "      <td>0.089279</td>\n",
       "      <td>0.298795</td>\n",
       "      <td>0.216405</td>\n",
       "      <td>0.096573</td>\n",
       "      <td>0.089279</td>\n",
       "      <td>0.998444</td>\n",
       "      <td>{}</td>\n",
       "    </tr>\n",
       "    <tr>\n",
       "      <th>1</th>\n",
       "      <td>Tuned Deep Learning Model</td>\n",
       "      <td>{'epochs': 37, 'hidden': [100, 100], 'input_dr...</td>\n",
       "      <td>0.111842</td>\n",
       "      <td>0.334428</td>\n",
       "      <td>0.252984</td>\n",
       "      <td>0.107165</td>\n",
       "      <td>0.111842</td>\n",
       "      <td>0.998050</td>\n",
       "      <td>{}</td>\n",
       "    </tr>\n",
       "    <tr>\n",
       "      <th>4</th>\n",
       "      <td>Deep Learning Model 2 (Hidden: [100, 100])</td>\n",
       "      <td>{'epochs': 37, 'input_dropout_ratio': 0.001306...</td>\n",
       "      <td>0.123865</td>\n",
       "      <td>0.351945</td>\n",
       "      <td>0.229852</td>\n",
       "      <td>0.100942</td>\n",
       "      <td>0.123865</td>\n",
       "      <td>0.997841</td>\n",
       "      <td>{}</td>\n",
       "    </tr>\n",
       "    <tr>\n",
       "      <th>0</th>\n",
       "      <td>Default Deep Learning Model</td>\n",
       "      <td>{'seed': 42}</td>\n",
       "      <td>0.172380</td>\n",
       "      <td>0.415187</td>\n",
       "      <td>0.312495</td>\n",
       "      <td>0.140930</td>\n",
       "      <td>0.172380</td>\n",
       "      <td>0.996995</td>\n",
       "      <td>{}</td>\n",
       "    </tr>\n",
       "    <tr>\n",
       "      <th>6</th>\n",
       "      <td>Ensemble Model (Averaging)</td>\n",
       "      <td>{'epochs': 37, 'hidden': [100, 100], 'input_dr...</td>\n",
       "      <td>NaN</td>\n",
       "      <td>NaN</td>\n",
       "      <td>NaN</td>\n",
       "      <td>NaN</td>\n",
       "      <td>NaN</td>\n",
       "      <td>NaN</td>\n",
       "      <td>{'MAE (Ensemble)': 0.1531103457657005, 'R-Squa...</td>\n",
       "    </tr>\n",
       "  </tbody>\n",
       "</table>\n",
       "</div>"
      ],
      "text/plain": [
       "                                   Model Name  \\\n",
       "3    Deep Learning Model 1 (Hidden: [50, 50])   \n",
       "5  Deep Learning Model 3 (Hidden: [200, 200])   \n",
       "2                        Early Stopping Model   \n",
       "1                   Tuned Deep Learning Model   \n",
       "4  Deep Learning Model 2 (Hidden: [100, 100])   \n",
       "0                 Default Deep Learning Model   \n",
       "6                  Ensemble Model (Averaging)   \n",
       "\n",
       "                                     Hyperparameters       MSE      RMSE  \\\n",
       "3  {'epochs': 37, 'input_dropout_ratio': 0.001306...  0.066305  0.257498   \n",
       "5  {'epochs': 37, 'input_dropout_ratio': 0.001306...  0.082322  0.286918   \n",
       "2  {'epochs': 37, 'hidden': [100, 100], 'input_dr...  0.089279  0.298795   \n",
       "1  {'epochs': 37, 'hidden': [100, 100], 'input_dr...  0.111842  0.334428   \n",
       "4  {'epochs': 37, 'input_dropout_ratio': 0.001306...  0.123865  0.351945   \n",
       "0                                       {'seed': 42}  0.172380  0.415187   \n",
       "6  {'epochs': 37, 'hidden': [100, 100], 'input_dr...       NaN       NaN   \n",
       "\n",
       "        MAE     RMSLE  Mean Residual Deviance  R-Squared  \\\n",
       "3  0.199259  0.092767                0.066305   0.998844   \n",
       "5  0.198257  0.082074                0.082322   0.998565   \n",
       "2  0.216405  0.096573                0.089279   0.998444   \n",
       "1  0.252984  0.107165                0.111842   0.998050   \n",
       "4  0.229852  0.100942                0.123865   0.997841   \n",
       "0  0.312495  0.140930                0.172380   0.996995   \n",
       "6       NaN       NaN                     NaN        NaN   \n",
       "\n",
       "                                  Additional Metrics  \n",
       "3                                                 {}  \n",
       "5                                                 {}  \n",
       "2                                                 {}  \n",
       "1                                                 {}  \n",
       "4                                                 {}  \n",
       "0                                                 {}  \n",
       "6  {'MAE (Ensemble)': 0.1531103457657005, 'R-Squa...  "
      ]
     },
     "execution_count": 63,
     "metadata": {},
     "output_type": "execute_result"
    }
   ],
   "source": [
    "# Display Results in a Table\n",
    "import pandas as pd\n",
    "\n",
    "results_df = pd.DataFrame(model_results)\n",
    "results_df.sort_values(by=\"RMSE\", ascending=True, inplace=True)\n",
    "print(\"Model Performance Comparison:\")\n",
    "results_df"
   ]
  },
  {
   "cell_type": "markdown",
   "metadata": {},
   "source": [
    "\n",
    "\n",
    "---\n",
    "\n",
    "## README: Model Performance Summary and Final Model Selection\n",
    "\n",
    "### Performance Summary\n",
    "\n",
    "| **Model Name**                 | **Hyperparameters**                   | **MSE**   | **RMSE**  | **MAE**   | **RMSLE** | **Mean Residual Deviance** | **R²**       | **Additional Metrics**                |\n",
    "|---------------------------------|---------------------------------------|-----------|-----------|-----------|-----------|----------------------------|--------------|---------------------------------------|\n",
    "| Deep Learning Model 1 (Hidden: [50, 50]) | {'epochs': 37, 'input_dropout_ratio': 0.001306... | 0.066305  | 0.257498  | 0.199259  | 0.092767  | 0.066305                   | 0.998844     | {}                                    |\n",
    "| Deep Learning Model 3 (Hidden: [200, 200]) | {'epochs': 37, 'input_dropout_ratio': 0.001306... | 0.082322  | 0.286918  | 0.198257  | 0.082074  | 0.082322                   | 0.998565     | {}                                    |\n",
    "| Early Stopping Model            | {'epochs': 37, 'hidden': [100, 100], 'input_dr... | 0.089279  | 0.298795  | 0.216405  | 0.096573  | 0.089279                   | 0.998444     | {}                                    |\n",
    "| Tuned Deep Learning Model       | {'epochs': 37, 'hidden': [100, 100], 'input_dr... | 0.111842  | 0.334428  | 0.252984  | 0.107165  | 0.111842                   | 0.998050     | {}                                    |\n",
    "| Deep Learning Model 2 (Hidden: [100, 100]) | {'epochs': 37, 'input_dropout_ratio': 0.001306... | 0.123865  | 0.351945  | 0.229852  | 0.100942  | 0.123865                   | 0.997841     | {}                                    |\n",
    "| Default Deep Learning Model     | {'seed': 42}                           | 0.172380  | 0.415187  | 0.312495  | 0.140930  | 0.172380                   | 0.996995     | {}                                    |\n",
    "| Ensemble Model (Averaging)      | {'epochs': 37, 'hidden': [100, 100], 'input_dr... | NaN       | NaN       | 0.153110  | NaN       | NaN                        | NaN          | {'MAE (Ensemble)': 0.1531103457657005, 'R-Squared (Ensemble)': 0.999} |\n",
    "\n",
    "---\n",
    "\n",
    "### Observations\n",
    "1. **Deep Learning Model 1 (Hidden: [50, 50])**:\n",
    "   - Achieves the lowest **RMSE** (0.257498) and **MSE** (0.066305), indicating superior predictive accuracy based on squared error.\n",
    "   - High **R²** value (0.998844), showcasing excellent explanatory power.\n",
    "\n",
    "2. **Ensemble Model (Averaging)**:\n",
    "   - Does not have RMSE or MSE available but achieves the lowest **MAE** (0.153110).\n",
    "   - The highest reported **R-Squared (0.999)** indicates exceptional overall model performance.\n",
    "   - Combines predictions of other models, potentially making it more robust and generalizable.\n",
    "\n",
    "3. Other Models:\n",
    "   - Models like Deep Learning Model 3 (Hidden: [200, 200]) and Early Stopping Model show competitive performance but do not surpass the metrics of Deep Learning Model 1 or the Ensemble Model.\n",
    "\n",
    "---\n",
    "\n",
    "### Final Model Selection\n",
    "\n",
    "#### Selected Model: **Deep Learning Model 1 (Hidden: [50, 50])**\n",
    "#### Justification:\n",
    "1. **RMSE as the Primary Metric**: The model with the lowest **RMSE** is typically chosen in regression tasks because it penalizes larger errors more significantly than MAE. Deep Learning Model 1 achieves the lowest RMSE of 0.257498.\n",
    "2. **Comprehensive Performance**: Alongside RMSE, this model also performs well in terms of **MSE**, **MAE**, and **R²**, making it a strong candidate.\n",
    "\n",
    "#### Ensemble Model Not Selected:\n",
    "While the Ensemble Model achieves the lowest MAE (0.153110) and the highest R-squared (0.999), the absence of RMSE and MSE metrics makes it difficult to comprehensively evaluate its error distribution. If RMSE and MSE values for the Ensemble Model can be computed, it could potentially be reconsidered.\n",
    "\n",
    "---\n",
    "\n",
    "### Conclusion\n",
    "The **Deep Learning Model 1 (Hidden: [50, 50])** was selected as the final model due to its superior RMSE and robust performance across other metrics. This model is well-suited for deployment based on its ability to minimize prediction errors effectively. Future work may include further evaluation of the Ensemble Model's RMSE and MSE to determine its applicability.\n",
    "\n",
    "--- "
   ]
  },
  {
   "cell_type": "code",
   "execution_count": 71,
   "metadata": {},
   "outputs": [
    {
     "data": {
      "text/html": [
       "<pre style='margin: 1em 0 1em 0;'>Model Details\n",
       "=============\n",
       "H2ODeepLearningEstimator : Deep Learning\n",
       "Model Key: DeepLearning_model_python_1735461052018_31\n",
       "</pre>\n",
       "<div style='margin: 1em 0 1em 0;'>\n",
       "<style>\n",
       "\n",
       "#h2o-table-17.h2o-container {\n",
       "  overflow-x: auto;\n",
       "}\n",
       "#h2o-table-17 .h2o-table {\n",
       "  /* width: 100%; */\n",
       "  margin-top: 1em;\n",
       "  margin-bottom: 1em;\n",
       "}\n",
       "#h2o-table-17 .h2o-table caption {\n",
       "  white-space: nowrap;\n",
       "  caption-side: top;\n",
       "  text-align: left;\n",
       "  /* margin-left: 1em; */\n",
       "  margin: 0;\n",
       "  font-size: larger;\n",
       "}\n",
       "#h2o-table-17 .h2o-table thead {\n",
       "  white-space: nowrap; \n",
       "  position: sticky;\n",
       "  top: 0;\n",
       "  box-shadow: 0 -1px inset;\n",
       "}\n",
       "#h2o-table-17 .h2o-table tbody {\n",
       "  overflow: auto;\n",
       "}\n",
       "#h2o-table-17 .h2o-table th,\n",
       "#h2o-table-17 .h2o-table td {\n",
       "  text-align: right;\n",
       "  /* border: 1px solid; */\n",
       "}\n",
       "#h2o-table-17 .h2o-table tr:nth-child(even) {\n",
       "  /* background: #F5F5F5 */\n",
       "}\n",
       "\n",
       "</style>      \n",
       "<div id=\"h2o-table-17\" class=\"h2o-container\">\n",
       "  <table class=\"h2o-table\">\n",
       "    <caption>Status of Neuron Layers: predicting yearly_compensation, regression, gaussian distribution, Quadratic loss, 10,251 weights/biases, 138.0 KB, 202,094 training samples, mini-batch size 1</caption>\n",
       "    <thead><tr><th></th>\n",
       "<th>layer</th>\n",
       "<th>units</th>\n",
       "<th>type</th>\n",
       "<th>dropout</th>\n",
       "<th>l1</th>\n",
       "<th>l2</th>\n",
       "<th>mean_rate</th>\n",
       "<th>rate_rms</th>\n",
       "<th>momentum</th>\n",
       "<th>mean_weight</th>\n",
       "<th>weight_rms</th>\n",
       "<th>mean_bias</th>\n",
       "<th>bias_rms</th></tr></thead>\n",
       "    <tbody><tr><td></td>\n",
       "<td>1</td>\n",
       "<td>50</td>\n",
       "<td>Input</td>\n",
       "<td>0.1306218</td>\n",
       "<td></td>\n",
       "<td></td>\n",
       "<td></td>\n",
       "<td></td>\n",
       "<td></td>\n",
       "<td></td>\n",
       "<td></td>\n",
       "<td></td>\n",
       "<td></td></tr>\n",
       "<tr><td></td>\n",
       "<td>2</td>\n",
       "<td>50</td>\n",
       "<td>Maxout</td>\n",
       "<td>0.0</td>\n",
       "<td>0.0008734</td>\n",
       "<td>0.0004440</td>\n",
       "<td>0.4733224</td>\n",
       "<td>0.1167806</td>\n",
       "<td>0.0</td>\n",
       "<td>-0.0000040</td>\n",
       "<td>0.0153647</td>\n",
       "<td>0.0066430</td>\n",
       "<td>0.0351914</td></tr>\n",
       "<tr><td></td>\n",
       "<td>3</td>\n",
       "<td>50</td>\n",
       "<td>Maxout</td>\n",
       "<td>0.0</td>\n",
       "<td>0.0008734</td>\n",
       "<td>0.0004440</td>\n",
       "<td>0.4982321</td>\n",
       "<td>0.0446134</td>\n",
       "<td>0.0</td>\n",
       "<td>0.0000412</td>\n",
       "<td>0.0183274</td>\n",
       "<td>-0.0046735</td>\n",
       "<td>0.0265504</td></tr>\n",
       "<tr><td></td>\n",
       "<td>4</td>\n",
       "<td>1</td>\n",
       "<td>Linear</td>\n",
       "<td></td>\n",
       "<td>0.0008734</td>\n",
       "<td>0.0004440</td>\n",
       "<td>0.4639662</td>\n",
       "<td>0.1305184</td>\n",
       "<td>0.0</td>\n",
       "<td>-0.0205115</td>\n",
       "<td>0.2014685</td>\n",
       "<td>-0.0060569</td>\n",
       "<td>0.0000000</td></tr></tbody>\n",
       "  </table>\n",
       "</div>\n",
       "</div>\n",
       "<div style='margin: 1em 0 1em 0;'><pre style='margin: 1em 0 1em 0;'>ModelMetricsRegression: deeplearning\n",
       "** Reported on train data. **\n",
       "\n",
       "MSE: 0.06877424596422645\n",
       "RMSE: 0.26224844320648777\n",
       "MAE: 0.1982343550893961\n",
       "RMSLE: 0.09134219559187533\n",
       "Mean Residual Deviance: 0.06877424596422645</pre></div>\n",
       "<div style='margin: 1em 0 1em 0;'><pre style='margin: 1em 0 1em 0;'>ModelMetricsRegression: deeplearning\n",
       "** Reported on validation data. **\n",
       "\n",
       "MSE: 0.07000494825442179\n",
       "RMSE: 0.2645844822630794\n",
       "MAE: 0.20023005208735728\n",
       "RMSLE: NaN\n",
       "Mean Residual Deviance: 0.07000494825442179</pre></div>\n",
       "<div style='margin: 1em 0 1em 0;'>\n",
       "<style>\n",
       "\n",
       "#h2o-table-18.h2o-container {\n",
       "  overflow-x: auto;\n",
       "}\n",
       "#h2o-table-18 .h2o-table {\n",
       "  /* width: 100%; */\n",
       "  margin-top: 1em;\n",
       "  margin-bottom: 1em;\n",
       "}\n",
       "#h2o-table-18 .h2o-table caption {\n",
       "  white-space: nowrap;\n",
       "  caption-side: top;\n",
       "  text-align: left;\n",
       "  /* margin-left: 1em; */\n",
       "  margin: 0;\n",
       "  font-size: larger;\n",
       "}\n",
       "#h2o-table-18 .h2o-table thead {\n",
       "  white-space: nowrap; \n",
       "  position: sticky;\n",
       "  top: 0;\n",
       "  box-shadow: 0 -1px inset;\n",
       "}\n",
       "#h2o-table-18 .h2o-table tbody {\n",
       "  overflow: auto;\n",
       "}\n",
       "#h2o-table-18 .h2o-table th,\n",
       "#h2o-table-18 .h2o-table td {\n",
       "  text-align: right;\n",
       "  /* border: 1px solid; */\n",
       "}\n",
       "#h2o-table-18 .h2o-table tr:nth-child(even) {\n",
       "  /* background: #F5F5F5 */\n",
       "}\n",
       "\n",
       "</style>      \n",
       "<div id=\"h2o-table-18\" class=\"h2o-container\">\n",
       "  <table class=\"h2o-table\">\n",
       "    <caption>Scoring History: </caption>\n",
       "    <thead><tr><th></th>\n",
       "<th>timestamp</th>\n",
       "<th>duration</th>\n",
       "<th>training_speed</th>\n",
       "<th>epochs</th>\n",
       "<th>iterations</th>\n",
       "<th>samples</th>\n",
       "<th>training_rmse</th>\n",
       "<th>training_deviance</th>\n",
       "<th>training_mae</th>\n",
       "<th>training_r2</th>\n",
       "<th>validation_rmse</th>\n",
       "<th>validation_deviance</th>\n",
       "<th>validation_mae</th>\n",
       "<th>validation_r2</th></tr></thead>\n",
       "    <tbody><tr><td></td>\n",
       "<td>2024-12-29 16:54:10</td>\n",
       "<td> 0.000 sec</td>\n",
       "<td>None</td>\n",
       "<td>0.0</td>\n",
       "<td>0</td>\n",
       "<td>0.0</td>\n",
       "<td>nan</td>\n",
       "<td>nan</td>\n",
       "<td>nan</td>\n",
       "<td>nan</td>\n",
       "<td>nan</td>\n",
       "<td>nan</td>\n",
       "<td>nan</td>\n",
       "<td>nan</td></tr>\n",
       "<tr><td></td>\n",
       "<td>2024-12-29 16:54:10</td>\n",
       "<td> 0.814 sec</td>\n",
       "<td>28606 obs/sec</td>\n",
       "<td>3.6995787</td>\n",
       "<td>1</td>\n",
       "<td>20196.0</td>\n",
       "<td>0.7696478</td>\n",
       "<td>0.5923578</td>\n",
       "<td>0.6050586</td>\n",
       "<td>0.9896782</td>\n",
       "<td>0.8686526</td>\n",
       "<td>0.7545573</td>\n",
       "<td>0.6747210</td>\n",
       "<td>0.9868613</td></tr>\n",
       "<tr><td></td>\n",
       "<td>2024-12-29 16:54:16</td>\n",
       "<td> 6.369 sec</td>\n",
       "<td>29398 obs/sec</td>\n",
       "<td>33.3189229</td>\n",
       "<td>9</td>\n",
       "<td>181888.0</td>\n",
       "<td>0.2622484</td>\n",
       "<td>0.0687742</td>\n",
       "<td>0.1982344</td>\n",
       "<td>0.9988016</td>\n",
       "<td>0.2645845</td>\n",
       "<td>0.0700049</td>\n",
       "<td>0.2002301</td>\n",
       "<td>0.9987810</td></tr>\n",
       "<tr><td></td>\n",
       "<td>2024-12-29 16:54:17</td>\n",
       "<td> 7.141 sec</td>\n",
       "<td>29374 obs/sec</td>\n",
       "<td>37.0203334</td>\n",
       "<td>10</td>\n",
       "<td>202094.0</td>\n",
       "<td>0.2586659</td>\n",
       "<td>0.0669081</td>\n",
       "<td>0.1878792</td>\n",
       "<td>0.9988341</td>\n",
       "<td>0.2759438</td>\n",
       "<td>0.0761450</td>\n",
       "<td>0.1969374</td>\n",
       "<td>0.9986741</td></tr>\n",
       "<tr><td></td>\n",
       "<td>2024-12-29 16:54:17</td>\n",
       "<td> 7.213 sec</td>\n",
       "<td>29361 obs/sec</td>\n",
       "<td>37.0203334</td>\n",
       "<td>10</td>\n",
       "<td>202094.0</td>\n",
       "<td>0.2622484</td>\n",
       "<td>0.0687742</td>\n",
       "<td>0.1982344</td>\n",
       "<td>0.9988016</td>\n",
       "<td>0.2645845</td>\n",
       "<td>0.0700049</td>\n",
       "<td>0.2002301</td>\n",
       "<td>0.9987810</td></tr></tbody>\n",
       "  </table>\n",
       "</div>\n",
       "</div>\n",
       "<div style='margin: 1em 0 1em 0;'>\n",
       "<style>\n",
       "\n",
       "#h2o-table-19.h2o-container {\n",
       "  overflow-x: auto;\n",
       "}\n",
       "#h2o-table-19 .h2o-table {\n",
       "  /* width: 100%; */\n",
       "  margin-top: 1em;\n",
       "  margin-bottom: 1em;\n",
       "}\n",
       "#h2o-table-19 .h2o-table caption {\n",
       "  white-space: nowrap;\n",
       "  caption-side: top;\n",
       "  text-align: left;\n",
       "  /* margin-left: 1em; */\n",
       "  margin: 0;\n",
       "  font-size: larger;\n",
       "}\n",
       "#h2o-table-19 .h2o-table thead {\n",
       "  white-space: nowrap; \n",
       "  position: sticky;\n",
       "  top: 0;\n",
       "  box-shadow: 0 -1px inset;\n",
       "}\n",
       "#h2o-table-19 .h2o-table tbody {\n",
       "  overflow: auto;\n",
       "}\n",
       "#h2o-table-19 .h2o-table th,\n",
       "#h2o-table-19 .h2o-table td {\n",
       "  text-align: right;\n",
       "  /* border: 1px solid; */\n",
       "}\n",
       "#h2o-table-19 .h2o-table tr:nth-child(even) {\n",
       "  /* background: #F5F5F5 */\n",
       "}\n",
       "\n",
       "</style>      \n",
       "<div id=\"h2o-table-19\" class=\"h2o-container\">\n",
       "  <table class=\"h2o-table\">\n",
       "    <caption>Variable Importances: </caption>\n",
       "    <thead><tr><th>variable</th>\n",
       "<th>relative_importance</th>\n",
       "<th>scaled_importance</th>\n",
       "<th>percentage</th></tr></thead>\n",
       "    <tbody><tr><td>used_tpu</td>\n",
       "<td>1.0</td>\n",
       "<td>1.0</td>\n",
       "<td>0.0249870</td></tr>\n",
       "<tr><td>country_Australia</td>\n",
       "<td>0.9748659</td>\n",
       "<td>0.9748659</td>\n",
       "<td>0.0243590</td></tr>\n",
       "<tr><td>company_SUMprofileTable_yearly_compensation</td>\n",
       "<td>0.9719041</td>\n",
       "<td>0.9719041</td>\n",
       "<td>0.0242850</td></tr>\n",
       "<tr><td>country_Ukraine</td>\n",
       "<td>0.9664273</td>\n",
       "<td>0.9664273</td>\n",
       "<td>0.0241481</td></tr>\n",
       "<tr><td>country_Taiwan</td>\n",
       "<td>0.9389869</td>\n",
       "<td>0.9389869</td>\n",
       "<td>0.0234625</td></tr>\n",
       "<tr><td>job_title_Data_Engineer</td>\n",
       "<td>0.9374161</td>\n",
       "<td>0.9374161</td>\n",
       "<td>0.0234232</td></tr>\n",
       "<tr><td>demographics_COUNTprofileTable</td>\n",
       "<td>0.9090085</td>\n",
       "<td>0.9090085</td>\n",
       "<td>0.0227134</td></tr>\n",
       "<tr><td>PrimaryTool_SUMprofileTable_yearly_compensation</td>\n",
       "<td>0.8912052</td>\n",
       "<td>0.8912052</td>\n",
       "<td>0.0222686</td></tr>\n",
       "<tr><td>country_SUMprofileTable_yearly_compensation</td>\n",
       "<td>0.8884457</td>\n",
       "<td>0.8884457</td>\n",
       "<td>0.0221996</td></tr>\n",
       "<tr><td>company_size</td>\n",
       "<td>0.8597455</td>\n",
       "<td>0.8597455</td>\n",
       "<td>0.0214825</td></tr>\n",
       "<tr><td>---</td>\n",
       "<td>---</td>\n",
       "<td>---</td>\n",
       "<td>---</td></tr>\n",
       "<tr><td>country_Algeria</td>\n",
       "<td>0.7208391</td>\n",
       "<td>0.7208391</td>\n",
       "<td>0.0180116</td></tr>\n",
       "<tr><td>job_title_Research_Scientist</td>\n",
       "<td>0.7070367</td>\n",
       "<td>0.7070367</td>\n",
       "<td>0.0176667</td></tr>\n",
       "<tr><td>country_Portugal</td>\n",
       "<td>0.7066069</td>\n",
       "<td>0.7066069</td>\n",
       "<td>0.0176560</td></tr>\n",
       "<tr><td>country_Switzerland</td>\n",
       "<td>0.7058876</td>\n",
       "<td>0.7058876</td>\n",
       "<td>0.0176380</td></tr>\n",
       "<tr><td>country_Austria</td>\n",
       "<td>0.6854386</td>\n",
       "<td>0.6854386</td>\n",
       "<td>0.0171271</td></tr>\n",
       "<tr><td>job_title_Data_Analyst</td>\n",
       "<td>0.6850966</td>\n",
       "<td>0.6850966</td>\n",
       "<td>0.0171185</td></tr>\n",
       "<tr><td>demographics_MEANprofileTable_yearly_compensation</td>\n",
       "<td>0.6841066</td>\n",
       "<td>0.6841066</td>\n",
       "<td>0.0170938</td></tr>\n",
       "<tr><td>country_Tunisia</td>\n",
       "<td>0.6809830</td>\n",
       "<td>0.6809830</td>\n",
       "<td>0.0170157</td></tr>\n",
       "<tr><td>country_Viet_Nam</td>\n",
       "<td>0.6373131</td>\n",
       "<td>0.6373131</td>\n",
       "<td>0.0159246</td></tr>\n",
       "<tr><td>country_COUNTprofileTable</td>\n",
       "<td>0.6163108</td>\n",
       "<td>0.6163108</td>\n",
       "<td>0.0153998</td></tr></tbody>\n",
       "  </table>\n",
       "</div>\n",
       "<pre style='font-size: smaller; margin-bottom: 1em;'>[50 rows x 4 columns]</pre></div><pre style=\"font-size: smaller; margin: 1em 0 0 0;\">\n",
       "\n",
       "[tips]\n",
       "Use `model.explain()` to inspect the model.\n",
       "--\n",
       "Use `h2o.display.toggle_user_tips()` to switch on/off this section.</pre>"
      ],
      "text/plain": [
       "Model Details\n",
       "=============\n",
       "H2ODeepLearningEstimator : Deep Learning\n",
       "Model Key: DeepLearning_model_python_1735461052018_31\n",
       "\n",
       "\n",
       "Status of Neuron Layers: predicting yearly_compensation, regression, gaussian distribution, Quadratic loss, 10,251 weights/biases, 138.0 KB, 202,094 training samples, mini-batch size 1\n",
       "    layer    units    type    dropout              l1                     l2                      mean_rate           rate_rms             momentum    mean_weight             weight_rms            mean_bias              bias_rms\n",
       "--  -------  -------  ------  -------------------  ---------------------  ----------------------  ------------------  -------------------  ----------  ----------------------  --------------------  ---------------------  -----------------------\n",
       "    1        50       Input   0.13062179562149737\n",
       "    2        50       Maxout  0.0                  0.0008734285704456857  0.00044395405309485716  0.4733223503382411  0.11678057909011841  0.0         -3.979006264033558e-06  0.015364725142717361  0.006642995096825123   0.03519140183925629\n",
       "    3        50       Maxout  0.0                  0.0008734285704456857  0.00044395405309485716  0.4982321396009298  0.04461340606212616  0.0         4.118497943300099e-05   0.018327370285987854  -0.004673484282890519  0.02655043452978134\n",
       "    4        1        Linear                       0.0008734285704456857  0.00044395405309485716  0.4639661560114473  0.13051837682724     0.0         -0.020511514883137353   0.20146846771240234   -0.006056887093238454  1.0971281125650402e-154\n",
       "\n",
       "ModelMetricsRegression: deeplearning\n",
       "** Reported on train data. **\n",
       "\n",
       "MSE: 0.06877424596422645\n",
       "RMSE: 0.26224844320648777\n",
       "MAE: 0.1982343550893961\n",
       "RMSLE: 0.09134219559187533\n",
       "Mean Residual Deviance: 0.06877424596422645\n",
       "\n",
       "ModelMetricsRegression: deeplearning\n",
       "** Reported on validation data. **\n",
       "\n",
       "MSE: 0.07000494825442179\n",
       "RMSE: 0.2645844822630794\n",
       "MAE: 0.20023005208735728\n",
       "RMSLE: NaN\n",
       "Mean Residual Deviance: 0.07000494825442179\n",
       "\n",
       "Scoring History: \n",
       "    timestamp            duration    training_speed    epochs    iterations    samples    training_rmse    training_deviance    training_mae    training_r2    validation_rmse    validation_deviance    validation_mae    validation_r2\n",
       "--  -------------------  ----------  ----------------  --------  ------------  ---------  ---------------  -------------------  --------------  -------------  -----------------  ---------------------  ----------------  ---------------\n",
       "    2024-12-29 16:54:10  0.000 sec                     0         0             0          nan              nan                  nan             nan            nan                nan                    nan               nan\n",
       "    2024-12-29 16:54:10  0.814 sec   28606 obs/sec     3.69958   1             20196      0.769648         0.592358             0.605059        0.989678       0.868653           0.754557               0.674721          0.986861\n",
       "    2024-12-29 16:54:16  6.369 sec   29398 obs/sec     33.3189   9             181888     0.262248         0.0687742            0.198234        0.998802       0.264584           0.0700049              0.20023           0.998781\n",
       "    2024-12-29 16:54:17  7.141 sec   29374 obs/sec     37.0203   10            202094     0.258666         0.0669081            0.187879        0.998834       0.275944           0.076145               0.196937          0.998674\n",
       "    2024-12-29 16:54:17  7.213 sec   29361 obs/sec     37.0203   10            202094     0.262248         0.0687742            0.198234        0.998802       0.264584           0.0700049              0.20023           0.998781\n",
       "\n",
       "Variable Importances: \n",
       "variable                                           relative_importance    scaled_importance    percentage\n",
       "-------------------------------------------------  ---------------------  -------------------  --------------------\n",
       "used_tpu                                           1.0                    1.0                  0.0249870253298348\n",
       "country_Australia                                  0.9748658537864685     0.9748658537864685   0.02435899778175352\n",
       "company_SUMprofileTable_yearly_compensation        0.9719040989875793     0.9719040989875793   0.024284992339572917\n",
       "country_Ukraine                                    0.9664272665977478     0.9664272665977478   0.024148142589920936\n",
       "country_Taiwan                                     0.9389868974685669     0.9389868974685669   0.023462489391430075\n",
       "job_title_Data_Engineer                            0.937416136264801      0.937416136264801    0.023423240741444456\n",
       "demographics_COUNTprofileTable                     0.9090085029602051     0.9090085029602051   0.022713418488501856\n",
       "PrimaryTool_SUMprofileTable_yearly_compensation    0.8912051916122437     0.8912051916122437   0.02226856669689541\n",
       "country_SUMprofileTable_yearly_compensation        0.8884457349777222     0.8884457349777222   0.02219961608407204\n",
       "company_size                                       0.8597455024719238     0.8597455024719238   0.02148248264747751\n",
       "---                                                ---                    ---                  ---\n",
       "country_Algeria                                    0.7208391427993774     0.7208391427993774   0.01801162591986445\n",
       "job_title_Research_Scientist                       0.7070367336273193     0.7070367336273193   0.01766674477226949\n",
       "country_Portugal                                   0.706606924533844      0.706606924533844    0.017656005121563827\n",
       "country_Switzerland                                0.7058876156806946     0.7058876156806946   0.017638031733030208\n",
       "country_Austria                                    0.6854385733604431     0.6854385733604431   0.01712707099460322\n",
       "job_title_Data_Analyst                             0.6850965619087219     0.6850965619087219   0.01711852514579597\n",
       "demographics_MEANprofileTable_yearly_compensation  0.6841066479682922     0.6841066479682922   0.017093790141092097\n",
       "country_Tunisia                                    0.6809830069541931     0.6809830069541931   0.01701573964395149\n",
       "country_Viet_Nam                                   0.6373131275177002     0.6373131275177002   0.015924559260321013\n",
       "country_COUNTprofileTable                          0.6163108348846436     0.6163108348846436   0.015399774442314223\n",
       "[50 rows x 4 columns]\n",
       "\n",
       "\n",
       "[tips]\n",
       "Use `model.explain()` to inspect the model.\n",
       "--\n",
       "Use `h2o.display.toggle_user_tips()` to switch on/off this section."
      ]
     },
     "execution_count": 71,
     "metadata": {},
     "output_type": "execute_result"
    }
   ],
   "source": [
    " # Retrieve the corresponding model from the `models` list\n",
    "best_model = models[0]          \n",
    "best_model"
   ]
  },
  {
   "cell_type": "code",
   "execution_count": 72,
   "metadata": {},
   "outputs": [
    {
     "name": "stdout",
     "output_type": "stream",
     "text": [
      "Tuned model saved to: C:\\Users\\Huawei\\OneDrive - Universiti Malaya\\Desktop\\SEMESTER 7\\WIE3007_Data-Mining\\Group Project\\data-mining-warehousing-wages-analysis\\notebooks\\04_modelling\\models\\DeepLearning_model_python_1735461052018_31\n",
      "Model metadata saved as Pickle file to: ../04_modelling/models/h20_autoML_DL.pkl\n"
     ]
    }
   ],
   "source": [
    "import pickle\n",
    "\n",
    "# Step 1: Save the H2O model in its native format\n",
    "best_model_path = h2o.save_model(best_model, path=\"../04_modelling/models/\")\n",
    "print(f\"Tuned model saved to: {best_model_path}\")\n",
    "\n",
    "# Step 2: Save the model path in a `.pkl` file\n",
    "pkl_file_path = \"../04_modelling/models/h20_autoML_DL.pkl\"\n",
    "with open(pkl_file_path, \"wb\") as file:\n",
    "    pickle.dump({\"model_path\": best_model_path}, file)\n",
    "\n",
    "print(f\"Model metadata saved as Pickle file to: {pkl_file_path}\")"
   ]
  },
  {
   "cell_type": "code",
   "execution_count": 73,
   "metadata": {},
   "outputs": [
    {
     "name": "stdout",
     "output_type": "stream",
     "text": [
      "H2O session _sid_941a closed.\n"
     ]
    }
   ],
   "source": [
    "# Shutdown H2O Cluster\n",
    "h2o.cluster().shutdown()"
   ]
  },
  {
   "cell_type": "markdown",
   "metadata": {},
   "source": [
    "## Archived"
   ]
  },
  {
   "cell_type": "code",
   "execution_count": null,
   "metadata": {},
   "outputs": [],
   "source": [
    "# from sklearn.metrics import mean_absolute_error\n",
    "# import numpy as np\n",
    "\n",
    "# # Train Multiple Models for Ensembling\n",
    "# models = []\n",
    "# for hidden in [[50, 50], [100, 100], [200, 200]]:\n",
    "#     model = H2ODeepLearningEstimator(\n",
    "#         hidden=hidden,\n",
    "#         epochs=100,\n",
    "#         seed=42\n",
    "#     )\n",
    "#     model.train(x=features, y=target, training_frame=train_h2o, validation_frame=val_h2o)\n",
    "#     models.append(model)\n",
    "\n",
    "# # Ensemble Predictions (Averaging)\n",
    "# predictions = [model.predict(test_h2o).as_data_frame()[\"predict\"].to_numpy() for model in models]\n",
    "# ensemble_prediction = np.mean(predictions, axis=0)\n",
    "\n",
    "# # Evaluate Ensemble using Mean Absolute Error\n",
    "# y_test = test_h2o[target].as_data_frame().to_numpy().ravel()\n",
    "# mae_ensemble = mean_absolute_error(y_test, ensemble_prediction)\n",
    "# print(f\"Mean Absolute Error (MAE) for Ensemble: {mae_ensemble:.2f}\")\n",
    "\n",
    "# # Optional: Add R-squared Evaluation\n",
    "# total_variance = np.sum((y_test - np.mean(y_test)) ** 2)\n",
    "# residual_variance = np.sum((y_test - ensemble_prediction) ** 2)\n",
    "# r_squared = 1 - (residual_variance / total_variance)\n",
    "# print(f\"R-squared for Ensemble: {r_squared:.2f}\")\n"
   ]
  },
  {
   "cell_type": "code",
   "execution_count": null,
   "metadata": {},
   "outputs": [],
   "source": [
    "# # Random Grid Search \n",
    "# from h2o.grid.grid_search import H2OGridSearch\n",
    "\n",
    "# # Define hyperparameters\n",
    "# hyper_params = {\n",
    "#     \"epochs\": list(range(50, 201, 50)),\n",
    "#     \"hidden\": [[50, 50], [100, 100], [200, 200]],\n",
    "#     \"input_dropout_ratio\": [i / 10.0 for i in range(0, 6)],\n",
    "#     \"l1\": [1e-6, 1e-5, 1e-4],\n",
    "#     \"l2\": [1e-6, 1e-5, 1e-4],\n",
    "#     \"activation\": [\"Rectifier\", \"Tanh\", \"Maxout\"]\n",
    "# }\n",
    "\n",
    "# # Search criteria for random grid search\n",
    "# search_criteria = {\n",
    "#     'strategy': 'RandomDiscrete',  # Random search\n",
    "#     'max_models': 20,  # Maximum number of models to train\n",
    "#     'seed': 42  # For reproducibility\n",
    "# }\n",
    "\n",
    "# # Random grid search setup\n",
    "# random_grid = H2OGridSearch(\n",
    "#     model=H2ODeepLearningEstimator(seed=42),\n",
    "#     grid_id='random_grid_dl',\n",
    "#     hyper_params=hyper_params,\n",
    "#     search_criteria=search_criteria\n",
    "# )\n",
    "\n",
    "# # Train models with random grid search\n",
    "# random_grid.train(x=features, y=target, training_frame=train_h2o, validation_frame=val_h2o)\n",
    "\n",
    "# # Get the grid results, sorted by validation RMSE\n",
    "# grid_results = random_grid.get_grid(sort_by=\"rmse\", decreasing=False)\n",
    "\n",
    "# # Get the best model based on RMSE\n",
    "# best_model = grid_results.models[0]\n",
    "\n",
    "# # Print details of the best model\n",
    "# print(\"Best Random Search Model:\")\n",
    "# print(best_model)\n",
    "\n",
    "# # Evaluate the best model on the test set\n",
    "# performance = best_model.model_performance(test_h2o)\n",
    "\n",
    "# # Print performance metrics\n",
    "# print(\"Performance of Best Random Search Model:\")\n",
    "# print(f\"RMSE: {performance.rmse():.2f}\")\n",
    "# print(f\"MAE: {performance.mae():.2f}\")\n",
    "# print(f\"R-squared: {performance.r2():.2f}\")"
   ]
  },
  {
   "cell_type": "code",
   "execution_count": null,
   "metadata": {},
   "outputs": [],
   "source": [
    "# # Grid Search for Hyperparameter Tuning\n",
    "# hyper_params = {\n",
    "#     \"epochs\": [50, 100, 150],\n",
    "#     \"hidden\": [[50, 50], [100, 100], [200, 200]],\n",
    "#     \"input_dropout_ratio\": [0.0, 0.2, 0.4],\n",
    "#     \"l1\": [1e-5, 1e-4, 1e-3],\n",
    "#     \"l2\": [1e-5, 1e-4, 1e-3],\n",
    "#     \"activation\": [\"Rectifier\", \"Tanh\", \"Maxout\"]\n",
    "# }\n",
    "\n",
    "# grid_search = H2OGridSearch(\n",
    "#     H2ODeepLearningEstimator(seed=42),\n",
    "#     hyper_params=hyper_params\n",
    "# )\n",
    "\n",
    "# # Train models with grid search\n",
    "# grid_search.train(x=features, y=target, training_frame=train_h2o, validation_frame=val_h2o)\n",
    "\n",
    "# # Get the best model from the grid search\n",
    "# best_model = grid_search.get_grid(sort_by=\"rmse\", decreasing=False).models[0]\n",
    "# print(\"Best Grid Search Model:\")\n",
    "# print(best_model)\n",
    "\n",
    "# # Evaluate the best grid search model\n",
    "# performance = best_model.model_performance(test_h2o)\n",
    "# print(\"Best Grid Search Model Performance:\")\n",
    "# print(performance)"
   ]
  }
 ],
 "metadata": {
  "kernelspec": {
   "display_name": "venv",
   "language": "python",
   "name": "python3"
  },
  "language_info": {
   "codemirror_mode": {
    "name": "ipython",
    "version": 3
   },
   "file_extension": ".py",
   "mimetype": "text/x-python",
   "name": "python",
   "nbconvert_exporter": "python",
   "pygments_lexer": "ipython3",
   "version": "3.8.0"
  }
 },
 "nbformat": 4,
 "nbformat_minor": 2
}
