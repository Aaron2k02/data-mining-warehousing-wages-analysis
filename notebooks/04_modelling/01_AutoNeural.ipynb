{
 "cells": [
  {
   "cell_type": "code",
   "execution_count": 1,
   "metadata": {},
   "outputs": [],
   "source": [
    "import pandas as pd\n",
    "import numpy as np\n",
    "\n",
    "from model_utils import run_classifier\n",
    "from sklearn.neural_network import MLPClassifier"
   ]
  },
  {
   "cell_type": "markdown",
   "metadata": {},
   "source": []
  },
  {
   "cell_type": "code",
   "execution_count": 2,
   "metadata": {},
   "outputs": [],
   "source": [
    "# Load datasets\n",
    "X_train = pd.read_csv(\"../04_modelling/dataset/X_train.csv\")\n",
    "y_train = pd.read_csv(\"../04_modelling/dataset/y_train.csv\")\n",
    "X_test = pd.read_csv(\"../04_modelling/dataset/X_test.csv\")\n",
    "y_test = pd.read_csv(\"../04_modelling/dataset/y_test.csv\")\n",
    "\n",
    "# Fix the shape of y_train and y_test\n",
    "y_train = y_train.values.ravel()  # Convert to 1D array\n",
    "y_test = y_test.values.ravel()    # Convert to 1D array"
   ]
  },
  {
   "cell_type": "code",
   "execution_count": null,
   "metadata": {},
   "outputs": [
    {
     "name": "stderr",
     "output_type": "stream",
     "text": [
      "c:\\Users\\Huawei\\OneDrive - Universiti Malaya\\Desktop\\SEMESTER 7\\WIE3007_Data-Mining\\Group Project\\data-mining-warehousing-wages-analysis\\venv\\lib\\site-packages\\sklearn\\model_selection\\_search.py:307: UserWarning: The total space of parameters 8 is smaller than n_iter=10. Running 8 iterations. For exhaustive searches, use GridSearchCV.\n",
      "  warnings.warn(\n",
      "c:\\Users\\Huawei\\OneDrive - Universiti Malaya\\Desktop\\SEMESTER 7\\WIE3007_Data-Mining\\Group Project\\data-mining-warehousing-wages-analysis\\venv\\lib\\site-packages\\sklearn\\neural_network\\_multilayer_perceptron.py:691: ConvergenceWarning: Stochastic Optimizer: Maximum iterations (1000) reached and the optimization hasn't converged yet.\n",
      "  warnings.warn(\n",
      "c:\\Users\\Huawei\\OneDrive - Universiti Malaya\\Desktop\\SEMESTER 7\\WIE3007_Data-Mining\\Group Project\\data-mining-warehousing-wages-analysis\\venv\\lib\\site-packages\\sklearn\\neural_network\\_multilayer_perceptron.py:691: ConvergenceWarning: Stochastic Optimizer: Maximum iterations (1000) reached and the optimization hasn't converged yet.\n",
      "  warnings.warn(\n",
      "c:\\Users\\Huawei\\OneDrive - Universiti Malaya\\Desktop\\SEMESTER 7\\WIE3007_Data-Mining\\Group Project\\data-mining-warehousing-wages-analysis\\venv\\lib\\site-packages\\sklearn\\neural_network\\_multilayer_perceptron.py:691: ConvergenceWarning: Stochastic Optimizer: Maximum iterations (1000) reached and the optimization hasn't converged yet.\n",
      "  warnings.warn(\n",
      "c:\\Users\\Huawei\\OneDrive - Universiti Malaya\\Desktop\\SEMESTER 7\\WIE3007_Data-Mining\\Group Project\\data-mining-warehousing-wages-analysis\\venv\\lib\\site-packages\\sklearn\\neural_network\\_multilayer_perceptron.py:691: ConvergenceWarning: Stochastic Optimizer: Maximum iterations (1000) reached and the optimization hasn't converged yet.\n",
      "  warnings.warn(\n",
      "c:\\Users\\Huawei\\OneDrive - Universiti Malaya\\Desktop\\SEMESTER 7\\WIE3007_Data-Mining\\Group Project\\data-mining-warehousing-wages-analysis\\venv\\lib\\site-packages\\sklearn\\neural_network\\_multilayer_perceptron.py:691: ConvergenceWarning: Stochastic Optimizer: Maximum iterations (1000) reached and the optimization hasn't converged yet.\n",
      "  warnings.warn(\n"
     ]
    }
   ],
   "source": [
    "mlp = MLPClassifier()\n",
    "\n",
    "# param_grid_mlp = {'hidden_layer_sizes': [(10,), (50,), (10, 10), (50, 50)],\n",
    "#              'activation': ['identity', 'logistic', 'tanh', 'relu'],\n",
    "#              'solver': ['lbfgs', 'sgd', 'adam'],\n",
    "#              'alpha': np.logspace(-5, 3, 5),\n",
    "#              'learning_rate': ['constant', 'invscaling','adaptive'],\n",
    "#              'max_iter': [100, 500, 1000]}\n",
    "\n",
    "# Updated parameter grid\n",
    "param_grid_mlp = {\n",
    "    'hidden_layer_sizes': [(10,), (50,)],\n",
    "    'activation': ['relu'],\n",
    "    'solver': ['adam'],\n",
    "    'alpha': [0.0001, 0.001],\n",
    "    'learning_rate': ['adaptive'],\n",
    "    'max_iter': [1000, 2000]\n",
    "}\n",
    "\n",
    "# Run the classifier\n",
    "best_model = run_classifier(mlp, param_grid_mlp, X_train, y_train, X_test, y_test, \"Neural Net\")"
   ]
  }
 ],
 "metadata": {
  "kernelspec": {
   "display_name": "venv",
   "language": "python",
   "name": "python3"
  },
  "language_info": {
   "codemirror_mode": {
    "name": "ipython",
    "version": 3
   },
   "file_extension": ".py",
   "mimetype": "text/x-python",
   "name": "python",
   "nbconvert_exporter": "python",
   "pygments_lexer": "ipython3",
   "version": "3.8.0"
  }
 },
 "nbformat": 4,
 "nbformat_minor": 2
}
