{
 "cells": [
  {
   "cell_type": "code",
   "execution_count": 1,
   "metadata": {},
   "outputs": [],
   "source": [
    "# Step 1: Import Necessary Libraries\n",
    "import pandas as pd\n",
    "\n",
    "# Neural Network Libraries\n",
    "import tensorflow as tf\n",
    "from tensorflow.keras.models import Sequential\n",
    "from tensorflow.keras.layers import Dense"
   ]
  },
  {
   "cell_type": "code",
   "execution_count": 2,
   "metadata": {},
   "outputs": [],
   "source": [
    "# Step 2: Load and Explore Data\n",
    "# Load datasets\n",
    "X_train = pd.read_csv(\"../04_modelling/dataset/X_train.csv\")\n",
    "y_train = pd.read_csv(\"../04_modelling/dataset/y_train.csv\")\n",
    "X_val = pd.read_csv(\"../04_modelling/dataset/X_val.csv\")\n",
    "y_val = pd.read_csv(\"../04_modelling/dataset/y_val.csv\")\n",
    "X_test = pd.read_csv(\"../04_modelling/dataset/X_test.csv\")\n",
    "y_test = pd.read_csv(\"../04_modelling/dataset/y_test.csv\")"
   ]
  },
  {
   "cell_type": "code",
   "execution_count": 18,
   "metadata": {},
   "outputs": [
    {
     "data": {
      "text/plain": [
       "(5459, 1)"
      ]
     },
     "execution_count": 18,
     "metadata": {},
     "output_type": "execute_result"
    }
   ],
   "source": [
    "y_train.shape"
   ]
  },
  {
   "cell_type": "code",
   "execution_count": null,
   "metadata": {},
   "outputs": [
    {
     "name": "stdout",
     "output_type": "stream",
     "text": [
      "Epoch 1/10\n"
     ]
    },
    {
     "name": "stderr",
     "output_type": "stream",
     "text": [
      "c:\\Users\\Huawei\\OneDrive - Universiti Malaya\\Desktop\\SEMESTER 7\\WIE3007_Data-Mining\\Group Project\\data-mining-warehousing-wages-analysis\\venv\\lib\\site-packages\\tensorflow\\python\\util\\dispatch.py:1176: SyntaxWarning: In loss categorical_crossentropy, expected y_pred.shape to be (batch_size, num_classes) with num_classes > 1. Received: y_pred.shape=(None, 1). Consider using 'binary_crossentropy' if you only have 2 classes.\n",
      "  return dispatch_target(*args, **kwargs)\n"
     ]
    },
    {
     "name": "stdout",
     "output_type": "stream",
     "text": [
      "546/546 [==============================] - 2s 2ms/step - loss: 0.0000e+00 - accuracy: 0.0412\n",
      "Epoch 2/10\n",
      "546/546 [==============================] - 1s 2ms/step - loss: 0.0000e+00 - accuracy: 0.0412\n",
      "Epoch 3/10\n",
      "546/546 [==============================] - 1s 2ms/step - loss: 0.0000e+00 - accuracy: 0.0412\n",
      "Epoch 4/10\n",
      "546/546 [==============================] - 1s 2ms/step - loss: 0.0000e+00 - accuracy: 0.0412\n",
      "Epoch 5/10\n",
      "546/546 [==============================] - 1s 2ms/step - loss: 0.0000e+00 - accuracy: 0.0412\n",
      "Epoch 6/10\n",
      "546/546 [==============================] - 1s 2ms/step - loss: 0.0000e+00 - accuracy: 0.0412\n",
      "Epoch 7/10\n",
      "546/546 [==============================] - 1s 2ms/step - loss: 0.0000e+00 - accuracy: 0.0412\n",
      "Epoch 8/10\n",
      "546/546 [==============================] - 1s 2ms/step - loss: 0.0000e+00 - accuracy: 0.0412\n",
      "Epoch 9/10\n",
      "546/546 [==============================] - 1s 2ms/step - loss: 0.0000e+00 - accuracy: 0.0412\n",
      "Epoch 10/10\n",
      "546/546 [==============================] - 1s 2ms/step - loss: 0.0000e+00 - accuracy: 0.0412\n",
      "Epoch 1/10\n",
      "546/546 [==============================] - 1s 2ms/step - loss: 0.0000e+00 - accuracy: 0.0412\n",
      "Epoch 2/10\n",
      "546/546 [==============================] - 1s 2ms/step - loss: 0.0000e+00 - accuracy: 0.0412\n",
      "Epoch 3/10\n",
      "546/546 [==============================] - 1s 2ms/step - loss: 0.0000e+00 - accuracy: 0.0412\n",
      "Epoch 4/10\n",
      "546/546 [==============================] - 1s 2ms/step - loss: 0.0000e+00 - accuracy: 0.0412\n",
      "Epoch 5/10\n",
      "546/546 [==============================] - 1s 2ms/step - loss: 0.0000e+00 - accuracy: 0.0412\n",
      "Epoch 6/10\n",
      "546/546 [==============================] - 1s 2ms/step - loss: 0.0000e+00 - accuracy: 0.0412\n",
      "Epoch 7/10\n",
      "546/546 [==============================] - 1s 2ms/step - loss: 0.0000e+00 - accuracy: 0.0412\n",
      "Epoch 8/10\n",
      "546/546 [==============================] - 1s 2ms/step - loss: 0.0000e+00 - accuracy: 0.0412\n",
      "Epoch 9/10\n",
      "546/546 [==============================] - 1s 2ms/step - loss: 0.0000e+00 - accuracy: 0.0412\n",
      "Epoch 10/10\n",
      "546/546 [==============================] - 1s 2ms/step - loss: 0.0000e+00 - accuracy: 0.0412\n"
     ]
    }
   ],
   "source": [
    "classifier = Sequential()\n",
    "# Defining the Input layer and FIRST hidden layer,both are same!\n",
    "# relu means Rectifier linear unit function\n",
    "classifier.add(Dense(units=10, input_dim=50, kernel_initializer='uniform', activation='relu'))\n",
    "\n",
    "#Defining the SECOND hidden layer, here we have not defined input because it is\n",
    "# second layer and it will get input as the output of first hidden layer\n",
    "classifier.add(Dense(units=6, kernel_initializer='uniform', activation='relu'))\n",
    "\n",
    "# Defining the Output layer\n",
    "# sigmoid means sigmoid activation function\n",
    "# for Multiclass classification the activation ='softmax'\n",
    "# And output_dim will be equal to the number of factor levels\n",
    "classifier.add(Dense(units=1, kernel_initializer='uniform', activation='softmax'))\n",
    "\n",
    "# Optimizer== the algorithm of SGG to keep updating weights\n",
    "# loss== the loss function to measure the accuracy\n",
    "# metrics== the way we will compare the accuracy after each step of SGD\n",
    "classifier.compile(optimizer='adam', loss='categorical_crossentropy', metrics=['accuracy'])\n",
    "\n",
    "# fitting the Neural Network on the training data\n",
    "Salary_Model=classifier.fit(X_train,y_train, batch_size=10 , epochs=10, verbose=1)"
   ]
  },
  {
   "cell_type": "code",
   "execution_count": 17,
   "metadata": {},
   "outputs": [
    {
     "name": "stdout",
     "output_type": "stream",
     "text": [
      "1 Parameters: batch_size: 5 - epochs: 5 Accuracy: 0.04121633991599083\n",
      "2 Parameters: batch_size: 5 - epochs: 10 Accuracy: 0.04121633991599083\n",
      "3 Parameters: batch_size: 5 - epochs: 50 Accuracy: 0.04121633991599083\n",
      "4 Parameters: batch_size: 5 - epochs: 100 Accuracy: 0.04121633991599083\n",
      "5 Parameters: batch_size: 10 - epochs: 5 Accuracy: 0.04121633991599083\n",
      "6 Parameters: batch_size: 10 - epochs: 10 Accuracy: 0.04121633991599083\n",
      "7 Parameters: batch_size: 10 - epochs: 50 Accuracy: 0.04121633991599083\n",
      "8 Parameters: batch_size: 10 - epochs: 100 Accuracy: 0.04121633991599083\n",
      "9 Parameters: batch_size: 15 - epochs: 5 Accuracy: 0.04121633991599083\n",
      "10 Parameters: batch_size: 15 - epochs: 10 Accuracy: 0.04121633991599083\n",
      "11 Parameters: batch_size: 15 - epochs: 50 Accuracy: 0.04121633991599083\n",
      "12 Parameters: batch_size: 15 - epochs: 100 Accuracy: 0.04121633991599083\n",
      "13 Parameters: batch_size: 20 - epochs: 5 Accuracy: 0.04121633991599083\n",
      "14 Parameters: batch_size: 20 - epochs: 10 Accuracy: 0.04121633991599083\n",
      "15 Parameters: batch_size: 20 - epochs: 50 Accuracy: 0.04121633991599083\n",
      "16 Parameters: batch_size: 20 - epochs: 100 Accuracy: 0.04121633991599083\n"
     ]
    }
   ],
   "source": [
    "def FunctionFindBestParams(X_train, y_train):\n",
    "    # Defining the list of hyperparameters to try\n",
    "    TrialNumber = 0\n",
    "    batch_size_list = [5, 10, 15, 20]\n",
    "    epoch_list = [5, 10, 50, 100]\n",
    "    \n",
    "    # Initialize the results DataFrame\n",
    "    SearchResultsData = pd.DataFrame(columns=['TrialNumber', 'Parameters', 'Accuracy'])\n",
    "    \n",
    "    for batch_size_trial in batch_size_list:\n",
    "        for epochs_trial in epoch_list:\n",
    "            TrialNumber += 1\n",
    "            \n",
    "            # Creating the classifier ANN model\n",
    "            classifier = Sequential()\n",
    "            classifier.add(Dense(units=10, input_dim=X_train.shape[1], kernel_initializer='uniform', activation='relu'))\n",
    "            classifier.add(Dense(units=6, kernel_initializer='uniform', activation='relu'))\n",
    "            classifier.add(Dense(units=1, kernel_initializer='uniform', activation='sigmoid'))\n",
    "            classifier.compile(optimizer='adam', loss='binary_crossentropy', metrics=['accuracy'])\n",
    "            \n",
    "            # Training the model\n",
    "            Salary_Model = classifier.fit(X_train, y_train, batch_size=batch_size_trial, epochs=epochs_trial, verbose=0)\n",
    "            \n",
    "            # Fetching the accuracy of the training\n",
    "            Accuracy = Salary_Model.history['accuracy'][-1]\n",
    "            \n",
    "            # Printing the results of the current iteration\n",
    "            print(TrialNumber, 'Parameters:', 'batch_size:', batch_size_trial, '-', 'epochs:', epochs_trial, 'Accuracy:', Accuracy)\n",
    "            \n",
    "            # Append the results to the DataFrame\n",
    "            new_row = pd.DataFrame({\n",
    "                'TrialNumber': [TrialNumber],\n",
    "                'Parameters': [f'batch_size={batch_size_trial}-epochs={epochs_trial}'],\n",
    "                'Accuracy': [Accuracy]\n",
    "            })\n",
    "            SearchResultsData = pd.concat([SearchResultsData, new_row], ignore_index=True)\n",
    "    \n",
    "    return SearchResultsData\n",
    " \n",
    "###############################################\n",
    " \n",
    "# Calling the function\n",
    "ResultsData=FunctionFindBestParams(X_train, y_train)"
   ]
  }
 ],
 "metadata": {
  "kernelspec": {
   "display_name": "venv",
   "language": "python",
   "name": "python3"
  },
  "language_info": {
   "codemirror_mode": {
    "name": "ipython",
    "version": 3
   },
   "file_extension": ".py",
   "mimetype": "text/x-python",
   "name": "python",
   "nbconvert_exporter": "python",
   "pygments_lexer": "ipython3",
   "version": "3.8.0"
  }
 },
 "nbformat": 4,
 "nbformat_minor": 2
}
