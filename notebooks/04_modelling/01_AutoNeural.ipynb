{
 "cells": [
  {
   "cell_type": "code",
   "execution_count": 1,
   "metadata": {},
   "outputs": [],
   "source": [
    "import pandas as pd\n",
    "import numpy as np\n",
    "\n",
    "from model_utils import run_classifier\n",
    "from sklearn.neural_network import MLPClassifier"
   ]
  },
  {
   "cell_type": "markdown",
   "metadata": {},
   "source": []
  },
  {
   "cell_type": "code",
   "execution_count": 2,
   "metadata": {},
   "outputs": [],
   "source": [
    "# Load datasets\n",
    "X_train = pd.read_csv(\"../04_modelling/dataset/X_train.csv\")\n",
    "y_train = pd.read_csv(\"../04_modelling/dataset/y_train.csv\")\n",
    "X_test = pd.read_csv(\"../04_modelling/dataset/X_test.csv\")\n",
    "y_test = pd.read_csv(\"../04_modelling/dataset/y_test.csv\")\n",
    "\n",
    "# Fix the shape of y_train and y_test\n",
    "y_train = y_train.values.ravel()  # Convert to 1D array\n",
    "y_test = y_test.values.ravel()    # Convert to 1D array"
   ]
  },
  {
   "cell_type": "code",
   "execution_count": null,
   "metadata": {},
   "outputs": [],
   "source": [
    "mlp = MLPClassifier()\n",
    "\n",
    "# param_grid_mlp = {'hidden_layer_sizes': [(10,), (50,), (10, 10), (50, 50)],\n",
    "#              'activation': ['identity', 'logistic', 'tanh', 'relu'],\n",
    "#              'solver': ['lbfgs', 'sgd', 'adam'],\n",
    "#              'alpha': np.logspace(-5, 3, 5),\n",
    "#              'learning_rate': ['constant', 'invscaling','adaptive'],\n",
    "#              'max_iter': [100, 500, 1000]}\n",
    "\n",
    "# Updated parameter grid\n",
    "param_grid_mlp = {\n",
    "    'hidden_layer_sizes': [(10,), (50,)],\n",
    "    'activation': ['relu'],\n",
    "    'solver': ['adam'],\n",
    "    'alpha': [0.0001, 0.001],\n",
    "    'learning_rate': ['adaptive'],\n",
    "    'max_iter': [10, 100, 1000]\n",
    "}\n",
    "\n",
    "# Run the classifier\n",
    "best_model = run_classifier(mlp, param_grid_mlp, X_train, y_train, X_test, y_test, \"Neural Net\")"
   ]
  },
  {
   "cell_type": "code",
   "execution_count": null,
   "metadata": {},
   "outputs": [],
   "source": [
    "mlp_2 = MLPClassifier()\n",
    "\n",
    "param_grid_mlp_2 = {'hidden_layer_sizes': [(10,), (50,), (10, 10), (50, 50)],\n",
    "             'activation': ['identity', 'logistic', 'tanh', 'relu'],\n",
    "             'solver': ['lbfgs', 'sgd', 'adam'],\n",
    "             'alpha': np.logspace(-5, 3, 5),\n",
    "             'learning_rate': ['constant', 'invscaling','adaptive'],\n",
    "             'max_iter': [100, 500, 1000]}\n",
    "\n",
    "# Run the classifier\n",
    "best_model = run_classifier(mlp_2, param_grid_mlp_2, X_train, y_train, X_test, y_test, \"Neural Net\")"
   ]
  },
  {
   "cell_type": "code",
   "execution_count": 11,
   "metadata": {},
   "outputs": [],
   "source": [
    "import numpy as np\n",
    "import pandas as pd\n",
    "from sklearn.model_selection import GridSearchCV, StratifiedKFold\n",
    "from sklearn.metrics import accuracy_score, precision_score, recall_score\n",
    "from sklearn.neural_network import MLPClassifier\n",
    "from sklearn.preprocessing import StandardScaler\n",
    "from sklearn.exceptions import ConvergenceWarning\n",
    "import warnings"
   ]
  },
  {
   "cell_type": "code",
   "execution_count": 13,
   "metadata": {},
   "outputs": [],
   "source": [
    "def run_classifier(clf, param_grid, X_train, y_train, X_test, y_test, title, n_splits=5, random_state=123):\n",
    "    \"\"\"\n",
    "    Perform cross-validation, hyperparameter tuning, and evaluation for a given classifier.\n",
    "    \"\"\"\n",
    "    warnings.filterwarnings(\"ignore\", category=UserWarning)  # Ignore warnings from MLP convergence issues\n",
    "    warnings.simplefilter(\"ignore\", category=ConvergenceWarning)\n",
    "    \n",
    "    # Scale the data\n",
    "    scaler = StandardScaler()\n",
    "    X_train = scaler.fit_transform(X_train)\n",
    "    X_test = scaler.transform(X_test)\n",
    "\n",
    "    # Cross-Validation Setup\n",
    "    cv = StratifiedKFold(n_splits=n_splits, shuffle=True, random_state=random_state)\n",
    "\n",
    "    gs = GridSearchCV(\n",
    "        clf,\n",
    "        param_grid=param_grid,\n",
    "        cv=cv,\n",
    "        scoring='accuracy',\n",
    "        return_train_score=True\n",
    "    )\n",
    "\n",
    "    # Perform Cross-Validation and Hyperparameter Tuning\n",
    "    gs.fit(X_train, y_train)\n",
    "\n",
    "    print(f\"\\n--- Cross-Validation Results ({title}) ---\")\n",
    "    print(\"The best parameters are:\", gs.best_params_)\n",
    "    print(\"Mean cross-validation accuracy: %.2f%%\" % (gs.best_score_ * 100))\n",
    "\n",
    "    # Evaluate Model on Test Set\n",
    "    print(\"\\n--- Test Results ---\")\n",
    "    y_test_pred = gs.best_estimator_.predict(X_test)\n",
    "\n",
    "    print('Accuracy: %.2f%%' % (accuracy_score(y_test, y_test_pred) * 100))\n",
    "    print('Precision: %.2f%%' % (precision_score(y_test, y_test_pred, average='weighted') * 100))\n",
    "    print('Recall: %.2f%%' % (recall_score(y_test, y_test_pred, average='weighted') * 100))\n",
    "\n",
    "    return gs.best_estimator_"
   ]
  },
  {
   "cell_type": "code",
   "execution_count": 14,
   "metadata": {},
   "outputs": [],
   "source": [
    "# Load datasets\n",
    "X_train = pd.read_csv(\"../04_modelling/dataset/X_train.csv\")\n",
    "y_train = pd.read_csv(\"../04_modelling/dataset/y_train.csv\")\n",
    "X_test = pd.read_csv(\"../04_modelling/dataset/X_test.csv\")\n",
    "y_test = pd.read_csv(\"../04_modelling/dataset/y_test.csv\")"
   ]
  },
  {
   "cell_type": "code",
   "execution_count": 15,
   "metadata": {},
   "outputs": [],
   "source": [
    "# Fix the shape of y_train and y_test\n",
    "y_train = y_train.values.ravel()\n",
    "y_test = y_test.values.ravel()"
   ]
  },
  {
   "cell_type": "code",
   "execution_count": 16,
   "metadata": {},
   "outputs": [],
   "source": [
    "# Define the MLPClassifier and parameter grid\n",
    "mlp = MLPClassifier(random_state=123)\n",
    "param_grid_mlp = {\n",
    "    'hidden_layer_sizes': [(10,), (50,), (100,)],\n",
    "    'activation': ['relu', 'tanh'],\n",
    "    'solver': ['adam', 'sgd'],\n",
    "    'alpha': [0.0001, 0.001, 0.01],\n",
    "    'learning_rate': ['adaptive'],\n",
    "    'max_iter': [200, 500]\n",
    "}"
   ]
  },
  {
   "cell_type": "code",
   "execution_count": null,
   "metadata": {},
   "outputs": [],
   "source": [
    "# Run the classifier\n",
    "best_model = run_classifier(mlp, param_grid_mlp, X_train, y_train, X_test, y_test, \"Neural Net\")"
   ]
  }
 ],
 "metadata": {
  "kernelspec": {
   "display_name": "venv",
   "language": "python",
   "name": "python3"
  },
  "language_info": {
   "codemirror_mode": {
    "name": "ipython",
    "version": 3
   },
   "file_extension": ".py",
   "mimetype": "text/x-python",
   "name": "python",
   "nbconvert_exporter": "python",
   "pygments_lexer": "ipython3",
   "version": "3.8.0"
  }
 },
 "nbformat": 4,
 "nbformat_minor": 2
}
