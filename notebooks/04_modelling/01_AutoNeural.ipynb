{
 "cells": [
  {
   "cell_type": "markdown",
   "metadata": {},
   "source": [
    "## Model Description\n",
    "\n",
    "The **Multilayer Perceptron (MLP)** is a type of artificial neural network that learns a mapping from inputs to outputs using a supervised learning algorithm. It consists of multiple layers of interconnected neurons, making it suitable for capturing complex patterns in data.\n",
    "\n",
    "### Key Features of the MLP Model:\n",
    "- **Hidden Layers**: Configurable architecture with support for varying sizes of hidden layers.\n",
    "- **Activation Functions**: Flexible choice of activation functions like ReLU and Tanh.\n",
    "- **Optimization Algorithms**: Supports solvers like Adam and SGD for weight optimization.\n",
    "- **Regularization**: Includes an `alpha` parameter to control L2 regularization.\n",
    "- **Adaptive Learning**: Utilizes an adaptive learning rate for efficient convergence.\n",
    "\n",
    "## Training Process\n",
    "\n",
    "The training pipeline includes the following steps:\n",
    "   \n",
    "2. **Cross-Validation and Hyperparameter Tuning**:\n",
    "   - A `GridSearchCV` approach is used to perform exhaustive hyperparameter tuning with 5-fold stratified cross-validation, ensuring robust model evaluation.\n",
    "   - The hyperparameters optimized include the number of hidden layers, activation functions, solvers, learning rates, and the number of training iterations."
   ]
  },
  {
   "cell_type": "code",
   "execution_count": 1,
   "metadata": {},
   "outputs": [
    {
     "name": "stderr",
     "output_type": "stream",
     "text": [
      "c:\\Users\\Huawei\\OneDrive - Universiti Malaya\\Desktop\\SEMESTER 7\\WIE3007_Data-Mining\\Group Project\\data-mining-warehousing-wages-analysis\\venv\\lib\\site-packages\\tqdm\\auto.py:21: TqdmWarning: IProgress not found. Please update jupyter and ipywidgets. See https://ipywidgets.readthedocs.io/en/stable/user_install.html\n",
      "  from .autonotebook import tqdm as notebook_tqdm\n"
     ]
    }
   ],
   "source": [
    "import pandas as pd\n",
    "import numpy as np\n",
    "from sklearn.neural_network import MLPClassifier\n",
    "from model_utils import run_classifier\n",
    "from sklearn.metrics import accuracy_score, precision_score, recall_score\n",
    "import optuna\n",
    "from sklearn.model_selection import cross_val_score\n",
    "import joblib\n",
    "import os"
   ]
  },
  {
   "cell_type": "code",
   "execution_count": 2,
   "metadata": {},
   "outputs": [],
   "source": [
    "# Load datasets\n",
    "X_train = pd.read_csv(\"../04_modelling/dataset/X_train.csv\")\n",
    "y_train = pd.read_csv(\"../04_modelling/dataset/y_train.csv\")\n",
    "X_test = pd.read_csv(\"../04_modelling/dataset/X_test.csv\")\n",
    "y_test = pd.read_csv(\"../04_modelling/dataset/y_test.csv\")\n",
    "\n",
    "# Fix the shape of y_train and y_test\n",
    "y_train = y_train.values.ravel()  # Convert to 1D array\n",
    "y_test = y_test.values.ravel()    # Convert to 1D array"
   ]
  },
  {
   "cell_type": "markdown",
   "metadata": {},
   "source": [
    "### Function to Record Trained Models"
   ]
  },
  {
   "cell_type": "code",
   "execution_count": 3,
   "metadata": {},
   "outputs": [],
   "source": [
    "import pandas as pd\n",
    "\n",
    "# Initialize an empty DataFrame to store model results\n",
    "model_records = pd.DataFrame(columns=[\"Model Name\", \"Hyperparameters\", \"Test Accuracy\", \"Test Precision\", \"Test Recall\"])\n",
    "\n",
    "def record_trained_model(model_name, params, mean_cv_accuracy, test_metrics):\n",
    "    \"\"\"\n",
    "    Record a trained model's details in a pandas DataFrame.\n",
    "\n",
    "    Args:\n",
    "        model_name (str): Name of the model.\n",
    "        params (dict): Hyperparameters used for training.\n",
    "        mean_cv_accuracy (float): Mean cross-validation accuracy (optional).\n",
    "        test_metrics (dict): Test metrics such as accuracy, precision, and recall.\n",
    "    \"\"\"\n",
    "    global model_records  # Use the global DataFrame\n",
    "\n",
    "    # Create a new record\n",
    "    record = {\n",
    "        \"Model Name\": model_name,\n",
    "        \"Hyperparameters\": params,\n",
    "        \"Test Accuracy\": f\"{test_metrics['accuracy']:.2%}\",\n",
    "        \"Test Precision\": f\"{test_metrics['precision']:.2%}\",\n",
    "        \"Test Recall\": f\"{test_metrics['recall']:.2%}\",\n",
    "    }\n",
    "\n",
    "    # Append the record to the DataFrame\n",
    "    model_records = pd.concat([model_records, pd.DataFrame([record])], ignore_index=True)\n",
    "\n",
    "    print(f\"Model '{model_name}' recorded successfully!\")"
   ]
  },
  {
   "cell_type": "markdown",
   "metadata": {},
   "source": [
    "### Train with Default Parameters\n",
    "- Objective: Train a baseline MLPClassifier without tuning.\n",
    "- Purpose: Provides a baseline performance for comparison."
   ]
  },
  {
   "cell_type": "code",
   "execution_count": 4,
   "metadata": {},
   "outputs": [
    {
     "name": "stdout",
     "output_type": "stream",
     "text": [
      "Train with Default Parameters\n",
      "\n",
      "--- RandomizedSearchCV (Default Neural Net) ---\n",
      "RandomizedSearchCV(cv=StratifiedKFold(n_splits=5, random_state=123, shuffle=True),\n",
      "                   estimator=MLPClassifier(random_state=123),\n",
      "                   param_distributions={}, random_state=123,\n",
      "                   return_train_score=True, scoring='accuracy')\n",
      "\n",
      "--- Cross-Validation Results (Default Neural Net) ---\n",
      "The best parameters are: {}\n",
      "Mean cross-validation accuracy: 79.28%\n",
      "\n",
      "--- Test Results ---\n",
      "Accuracy: 88.46%\n",
      "Precision: 88.56%\n",
      "Recall: 88.46%\n"
     ]
    }
   ],
   "source": [
    "# Default MLPClassifier\n",
    "mlp_default = MLPClassifier(random_state=123)\n",
    "\n",
    "print(\"Train with Default Parameters\")\n",
    "best_model_phase1 = run_classifier(mlp_default, {}, X_train, y_train, X_test, y_test, \"Default Neural Net\")"
   ]
  },
  {
   "cell_type": "code",
   "execution_count": 5,
   "metadata": {},
   "outputs": [
    {
     "name": "stdout",
     "output_type": "stream",
     "text": [
      "Model 'Default Neural Net' recorded successfully!\n"
     ]
    }
   ],
   "source": [
    "# Record default model performance\n",
    "default_test_metrics = {\n",
    "    \"accuracy\": accuracy_score(y_test, best_model_phase1.predict(X_test)),\n",
    "    \"precision\": precision_score(y_test, best_model_phase1.predict(X_test), average='weighted'),\n",
    "    \"recall\": recall_score(y_test, best_model_phase1.predict(X_test), average='weighted')\n",
    "}\n",
    "record_trained_model(\"Default Neural Net\", {}, np.nan, default_test_metrics)"
   ]
  },
  {
   "cell_type": "code",
   "execution_count": 6,
   "metadata": {},
   "outputs": [
    {
     "data": {
      "text/html": [
       "<div>\n",
       "<style scoped>\n",
       "    .dataframe tbody tr th:only-of-type {\n",
       "        vertical-align: middle;\n",
       "    }\n",
       "\n",
       "    .dataframe tbody tr th {\n",
       "        vertical-align: top;\n",
       "    }\n",
       "\n",
       "    .dataframe thead th {\n",
       "        text-align: right;\n",
       "    }\n",
       "</style>\n",
       "<table border=\"1\" class=\"dataframe\">\n",
       "  <thead>\n",
       "    <tr style=\"text-align: right;\">\n",
       "      <th></th>\n",
       "      <th>Model Name</th>\n",
       "      <th>Hyperparameters</th>\n",
       "      <th>Test Accuracy</th>\n",
       "      <th>Test Precision</th>\n",
       "      <th>Test Recall</th>\n",
       "    </tr>\n",
       "  </thead>\n",
       "  <tbody>\n",
       "    <tr>\n",
       "      <th>0</th>\n",
       "      <td>Default Neural Net</td>\n",
       "      <td>{}</td>\n",
       "      <td>88.46%</td>\n",
       "      <td>88.56%</td>\n",
       "      <td>88.46%</td>\n",
       "    </tr>\n",
       "  </tbody>\n",
       "</table>\n",
       "</div>"
      ],
      "text/plain": [
       "           Model Name Hyperparameters Test Accuracy Test Precision Test Recall\n",
       "0  Default Neural Net              {}        88.46%         88.56%      88.46%"
      ]
     },
     "execution_count": 6,
     "metadata": {},
     "output_type": "execute_result"
    }
   ],
   "source": [
    "model_records"
   ]
  },
  {
   "cell_type": "markdown",
   "metadata": {},
   "source": [
    "### Simple Hyperparameter Tuning\n",
    "- Objective: Experiment with a small grid of hyperparameters.\n",
    "- Purpose: Improves performance with minimal computational cost."
   ]
  },
  {
   "cell_type": "code",
   "execution_count": 7,
   "metadata": {},
   "outputs": [
    {
     "name": "stdout",
     "output_type": "stream",
     "text": [
      "\n",
      "Phase 2: Apply Simple Hyperparameter Tuning\n"
     ]
    },
    {
     "name": "stdout",
     "output_type": "stream",
     "text": [
      "\n",
      "--- RandomizedSearchCV (Tuned Neural Net (Simple Hyperparameter)) ---\n",
      "RandomizedSearchCV(cv=StratifiedKFold(n_splits=5, random_state=123, shuffle=True),\n",
      "                   estimator=MLPClassifier(random_state=123),\n",
      "                   param_distributions={'activation': ['relu'],\n",
      "                                        'alpha': [0.0001],\n",
      "                                        'hidden_layer_sizes': [(10,), (50,)],\n",
      "                                        'max_iter': [100], 'solver': ['adam']},\n",
      "                   random_state=123, return_train_score=True,\n",
      "                   scoring='accuracy')\n",
      "\n",
      "--- Cross-Validation Results (Tuned Neural Net (Simple Hyperparameter)) ---\n",
      "The best parameters are: {'solver': 'adam', 'max_iter': 100, 'hidden_layer_sizes': (10,), 'alpha': 0.0001, 'activation': 'relu'}\n",
      "Mean cross-validation accuracy: 77.53%\n",
      "\n",
      "--- Test Results ---\n",
      "Accuracy: 83.08%\n",
      "Precision: 82.27%\n",
      "Recall: 83.08%\n"
     ]
    }
   ],
   "source": [
    "# Simple Parameter Grid\n",
    "param_grid_simple = {\n",
    "    'hidden_layer_sizes': [(10,), (50,)],\n",
    "    'activation': ['relu'],\n",
    "    'solver': ['adam'],\n",
    "    'alpha': [0.0001],\n",
    "    'max_iter': [100]\n",
    "}\n",
    "\n",
    "print(\"\\nPhase 2: Apply Simple Hyperparameter Tuning\")\n",
    "best_model_phase2 = run_classifier(MLPClassifier(random_state=123), param_grid_simple, X_train, y_train, X_test, y_test, \"Tuned Neural Net (Simple Hyperparameter)\")"
   ]
  },
  {
   "cell_type": "code",
   "execution_count": 8,
   "metadata": {},
   "outputs": [
    {
     "name": "stdout",
     "output_type": "stream",
     "text": [
      "Model 'Tuned Neural Net (Simple Hyperparameter)' recorded successfully!\n"
     ]
    }
   ],
   "source": [
    "# Record simple hyperparameter tuning model performance\n",
    "simple_test_metrics = {\n",
    "    \"accuracy\": accuracy_score(y_test, best_model_phase2.predict(X_test)),\n",
    "    \"precision\": precision_score(y_test, best_model_phase2.predict(X_test), average='weighted'),\n",
    "    \"recall\": recall_score(y_test, best_model_phase2.predict(X_test), average='weighted')\n",
    "}\n",
    "record_trained_model(\"Tuned Neural Net (Simple Hyperparameter)\", best_model_phase2.get_params(), np.nan, simple_test_metrics)"
   ]
  },
  {
   "cell_type": "code",
   "execution_count": 9,
   "metadata": {},
   "outputs": [
    {
     "data": {
      "text/html": [
       "<div>\n",
       "<style scoped>\n",
       "    .dataframe tbody tr th:only-of-type {\n",
       "        vertical-align: middle;\n",
       "    }\n",
       "\n",
       "    .dataframe tbody tr th {\n",
       "        vertical-align: top;\n",
       "    }\n",
       "\n",
       "    .dataframe thead th {\n",
       "        text-align: right;\n",
       "    }\n",
       "</style>\n",
       "<table border=\"1\" class=\"dataframe\">\n",
       "  <thead>\n",
       "    <tr style=\"text-align: right;\">\n",
       "      <th></th>\n",
       "      <th>Model Name</th>\n",
       "      <th>Hyperparameters</th>\n",
       "      <th>Test Accuracy</th>\n",
       "      <th>Test Precision</th>\n",
       "      <th>Test Recall</th>\n",
       "    </tr>\n",
       "  </thead>\n",
       "  <tbody>\n",
       "    <tr>\n",
       "      <th>0</th>\n",
       "      <td>Default Neural Net</td>\n",
       "      <td>{}</td>\n",
       "      <td>88.46%</td>\n",
       "      <td>88.56%</td>\n",
       "      <td>88.46%</td>\n",
       "    </tr>\n",
       "    <tr>\n",
       "      <th>1</th>\n",
       "      <td>Tuned Neural Net (Simple Hyperparameter)</td>\n",
       "      <td>{'activation': 'relu', 'alpha': 0.0001, 'batch...</td>\n",
       "      <td>83.08%</td>\n",
       "      <td>82.27%</td>\n",
       "      <td>83.08%</td>\n",
       "    </tr>\n",
       "  </tbody>\n",
       "</table>\n",
       "</div>"
      ],
      "text/plain": [
       "                                 Model Name  \\\n",
       "0                        Default Neural Net   \n",
       "1  Tuned Neural Net (Simple Hyperparameter)   \n",
       "\n",
       "                                     Hyperparameters Test Accuracy  \\\n",
       "0                                                 {}        88.46%   \n",
       "1  {'activation': 'relu', 'alpha': 0.0001, 'batch...        83.08%   \n",
       "\n",
       "  Test Precision Test Recall  \n",
       "0         88.56%      88.46%  \n",
       "1         82.27%      83.08%  "
      ]
     },
     "execution_count": 9,
     "metadata": {},
     "output_type": "execute_result"
    }
   ],
   "source": [
    "model_records"
   ]
  },
  {
   "cell_type": "markdown",
   "metadata": {},
   "source": [
    "### Advanced Hyperparameter Tuning\n",
    "- Objective: Use an expanded parameter grid for more robust tuning.\n",
    "- Purpose: Optimizes the model for higher accuracy, precision, and recall."
   ]
  },
  {
   "cell_type": "code",
   "execution_count": 10,
   "metadata": {},
   "outputs": [
    {
     "name": "stdout",
     "output_type": "stream",
     "text": [
      "\n",
      "Advanced Hyperparameter Tuning\n"
     ]
    },
    {
     "name": "stdout",
     "output_type": "stream",
     "text": [
      "\n",
      "--- RandomizedSearchCV (Tuned Neural Net (Advanced HyperParameter)) ---\n",
      "RandomizedSearchCV(cv=StratifiedKFold(n_splits=5, random_state=123, shuffle=True),\n",
      "                   estimator=MLPClassifier(random_state=123),\n",
      "                   param_distributions={'activation': ['relu', 'tanh'],\n",
      "                                        'alpha': [0.0001, 0.001, 0.01],\n",
      "                                        'hidden_layer_sizes': [(10,), (50,),\n",
      "                                                               (100,)],\n",
      "                                        'learning_rate': ['constant',\n",
      "                                                          'adaptive'],\n",
      "                                        'max_iter': [200, 500],\n",
      "                                        'solver': ['adam', 'sgd']},\n",
      "                   random_state=123, return_train_score=True,\n",
      "                   scoring='accuracy')\n",
      "\n",
      "--- Cross-Validation Results (Tuned Neural Net (Advanced HyperParameter)) ---\n",
      "The best parameters are: {'solver': 'adam', 'max_iter': 200, 'learning_rate': 'constant', 'hidden_layer_sizes': (10,), 'alpha': 0.001, 'activation': 'relu'}\n",
      "Mean cross-validation accuracy: 84.02%\n",
      "\n",
      "--- Test Results ---\n",
      "Accuracy: 87.01%\n",
      "Precision: 86.62%\n",
      "Recall: 87.01%\n"
     ]
    }
   ],
   "source": [
    "# Advanced Parameter Grid\n",
    "param_grid_advanced = {\n",
    "    'hidden_layer_sizes': [(10,), (50,), (100,)],\n",
    "    'activation': ['relu', 'tanh'],\n",
    "    'solver': ['adam', 'sgd'],\n",
    "    'alpha': [0.0001, 0.001, 0.01],\n",
    "    'learning_rate': ['constant', 'adaptive'],\n",
    "    'max_iter': [200, 500]\n",
    "}\n",
    "\n",
    "print(\"\\nAdvanced Hyperparameter Tuning\")\n",
    "best_model_phase3 = run_classifier(MLPClassifier(random_state=123), param_grid_advanced, X_train, y_train, X_test, y_test, \"Tuned Neural Net (Advanced HyperParameter)\")"
   ]
  },
  {
   "cell_type": "code",
   "execution_count": 11,
   "metadata": {},
   "outputs": [
    {
     "name": "stdout",
     "output_type": "stream",
     "text": [
      "Model 'Tuned Neural Net (Advanced HyperParameter)' recorded successfully!\n"
     ]
    }
   ],
   "source": [
    "# Record advanced hyperparameter tuning model performance\n",
    "advanced_test_metrics = {\n",
    "    \"accuracy\": accuracy_score(y_test, best_model_phase3.predict(X_test)),\n",
    "    \"precision\": precision_score(y_test, best_model_phase3.predict(X_test), average='weighted'),\n",
    "    \"recall\": recall_score(y_test, best_model_phase3.predict(X_test), average='weighted')\n",
    "}\n",
    "record_trained_model(\"Tuned Neural Net (Advanced HyperParameter)\", best_model_phase3.get_params(), np.nan, advanced_test_metrics)"
   ]
  },
  {
   "cell_type": "code",
   "execution_count": 12,
   "metadata": {},
   "outputs": [
    {
     "data": {
      "text/html": [
       "<div>\n",
       "<style scoped>\n",
       "    .dataframe tbody tr th:only-of-type {\n",
       "        vertical-align: middle;\n",
       "    }\n",
       "\n",
       "    .dataframe tbody tr th {\n",
       "        vertical-align: top;\n",
       "    }\n",
       "\n",
       "    .dataframe thead th {\n",
       "        text-align: right;\n",
       "    }\n",
       "</style>\n",
       "<table border=\"1\" class=\"dataframe\">\n",
       "  <thead>\n",
       "    <tr style=\"text-align: right;\">\n",
       "      <th></th>\n",
       "      <th>Model Name</th>\n",
       "      <th>Hyperparameters</th>\n",
       "      <th>Test Accuracy</th>\n",
       "      <th>Test Precision</th>\n",
       "      <th>Test Recall</th>\n",
       "    </tr>\n",
       "  </thead>\n",
       "  <tbody>\n",
       "    <tr>\n",
       "      <th>0</th>\n",
       "      <td>Default Neural Net</td>\n",
       "      <td>{}</td>\n",
       "      <td>88.46%</td>\n",
       "      <td>88.56%</td>\n",
       "      <td>88.46%</td>\n",
       "    </tr>\n",
       "    <tr>\n",
       "      <th>1</th>\n",
       "      <td>Tuned Neural Net (Simple Hyperparameter)</td>\n",
       "      <td>{'activation': 'relu', 'alpha': 0.0001, 'batch...</td>\n",
       "      <td>83.08%</td>\n",
       "      <td>82.27%</td>\n",
       "      <td>83.08%</td>\n",
       "    </tr>\n",
       "    <tr>\n",
       "      <th>2</th>\n",
       "      <td>Tuned Neural Net (Advanced HyperParameter)</td>\n",
       "      <td>{'activation': 'relu', 'alpha': 0.001, 'batch_...</td>\n",
       "      <td>87.01%</td>\n",
       "      <td>86.62%</td>\n",
       "      <td>87.01%</td>\n",
       "    </tr>\n",
       "  </tbody>\n",
       "</table>\n",
       "</div>"
      ],
      "text/plain": [
       "                                   Model Name  \\\n",
       "0                          Default Neural Net   \n",
       "1    Tuned Neural Net (Simple Hyperparameter)   \n",
       "2  Tuned Neural Net (Advanced HyperParameter)   \n",
       "\n",
       "                                     Hyperparameters Test Accuracy  \\\n",
       "0                                                 {}        88.46%   \n",
       "1  {'activation': 'relu', 'alpha': 0.0001, 'batch...        83.08%   \n",
       "2  {'activation': 'relu', 'alpha': 0.001, 'batch_...        87.01%   \n",
       "\n",
       "  Test Precision Test Recall  \n",
       "0         88.56%      88.46%  \n",
       "1         82.27%      83.08%  \n",
       "2         86.62%      87.01%  "
      ]
     },
     "execution_count": 12,
     "metadata": {},
     "output_type": "execute_result"
    }
   ],
   "source": [
    "model_records"
   ]
  },
  {
   "cell_type": "markdown",
   "metadata": {},
   "source": [
    "### Full Hyperparameter Grid\n",
    "- Objective: Tune the MLPClassifier with all possible parameters for maximum performance.\n",
    "- Purpose: Achieve the best possible model, but at higher computational cost."
   ]
  },
  {
   "cell_type": "code",
   "execution_count": 13,
   "metadata": {},
   "outputs": [
    {
     "name": "stdout",
     "output_type": "stream",
     "text": [
      "\n",
      "Full Hyperparameter Grid"
     ]
    },
    {
     "name": "stdout",
     "output_type": "stream",
     "text": [
      "\n",
      "\n",
      "--- RandomizedSearchCV (Full Hyperparameter Neural Net) ---\n",
      "RandomizedSearchCV(cv=StratifiedKFold(n_splits=5, random_state=123, shuffle=True),\n",
      "                   estimator=MLPClassifier(random_state=123),\n",
      "                   param_distributions={'activation': ['identity', 'logistic',\n",
      "                                                       'tanh', 'relu'],\n",
      "                                        'alpha': array([1.e-05, 1.e-03, 1.e-01, 1.e+01, 1.e+03]),\n",
      "                                        'hidden_layer_sizes': [(10,), (50,),\n",
      "                                                               (10, 10),\n",
      "                                                               (50, 50)],\n",
      "                                        'learning_rate': ['constant',\n",
      "                                                          'invscaling',\n",
      "                                                          'adaptive'],\n",
      "                                        'max_iter': [100, 500, 1000],\n",
      "                                        'solver': ['lbfgs', 'sgd', 'adam']},\n",
      "                   random_state=123, return_train_score=True,\n",
      "                   scoring='accuracy')\n",
      "\n",
      "--- Cross-Validation Results (Full Hyperparameter Neural Net) ---\n",
      "The best parameters are: {'solver': 'lbfgs', 'max_iter': 1000, 'learning_rate': 'invscaling', 'hidden_layer_sizes': (50, 50), 'alpha': 1e-05, 'activation': 'identity'}\n",
      "Mean cross-validation accuracy: 88.65%\n",
      "\n",
      "--- Test Results ---\n",
      "Accuracy: 89.74%\n",
      "Precision: 89.90%\n",
      "Recall: 89.74%\n"
     ]
    }
   ],
   "source": [
    "param_grid_all = {'hidden_layer_sizes': [(10,), (50,), (10, 10), (50, 50)],\n",
    "             'activation': ['identity', 'logistic', 'tanh', 'relu'],\n",
    "             'solver': ['lbfgs', 'sgd', 'adam'],\n",
    "             'alpha': np.logspace(-5, 3, 5),\n",
    "             'learning_rate': ['constant', 'invscaling','adaptive'],\n",
    "             'max_iter': [100, 500, 1000]}\n",
    "\n",
    "print(\"\\nFull Hyperparameter Grid\")\n",
    "best_model_phase4 = run_classifier(MLPClassifier(random_state=123), param_grid_all,  X_train, y_train, X_test, y_test, 'Full Hyperparameter Neural Net')"
   ]
  },
  {
   "cell_type": "code",
   "execution_count": 14,
   "metadata": {},
   "outputs": [
    {
     "name": "stdout",
     "output_type": "stream",
     "text": [
      "Model 'Full Hyperparameter Neural Net' recorded successfully!\n"
     ]
    }
   ],
   "source": [
    "# Record full hyperparameter tuning model performance\n",
    "full_test_metrics = {\n",
    "    \"accuracy\": accuracy_score(y_test, best_model_phase4.predict(X_test)),\n",
    "    \"precision\": precision_score(y_test, best_model_phase4.predict(X_test), average='weighted'),\n",
    "    \"recall\": recall_score(y_test, best_model_phase4.predict(X_test), average='weighted')\n",
    "}\n",
    "record_trained_model(\"Full Hyperparameter Neural Net\", best_model_phase4.get_params(), np.nan, full_test_metrics)"
   ]
  },
  {
   "cell_type": "code",
   "execution_count": 15,
   "metadata": {},
   "outputs": [
    {
     "data": {
      "text/html": [
       "<div>\n",
       "<style scoped>\n",
       "    .dataframe tbody tr th:only-of-type {\n",
       "        vertical-align: middle;\n",
       "    }\n",
       "\n",
       "    .dataframe tbody tr th {\n",
       "        vertical-align: top;\n",
       "    }\n",
       "\n",
       "    .dataframe thead th {\n",
       "        text-align: right;\n",
       "    }\n",
       "</style>\n",
       "<table border=\"1\" class=\"dataframe\">\n",
       "  <thead>\n",
       "    <tr style=\"text-align: right;\">\n",
       "      <th></th>\n",
       "      <th>Model Name</th>\n",
       "      <th>Hyperparameters</th>\n",
       "      <th>Test Accuracy</th>\n",
       "      <th>Test Precision</th>\n",
       "      <th>Test Recall</th>\n",
       "    </tr>\n",
       "  </thead>\n",
       "  <tbody>\n",
       "    <tr>\n",
       "      <th>0</th>\n",
       "      <td>Default Neural Net</td>\n",
       "      <td>{}</td>\n",
       "      <td>88.46%</td>\n",
       "      <td>88.56%</td>\n",
       "      <td>88.46%</td>\n",
       "    </tr>\n",
       "    <tr>\n",
       "      <th>1</th>\n",
       "      <td>Tuned Neural Net (Simple Hyperparameter)</td>\n",
       "      <td>{'activation': 'relu', 'alpha': 0.0001, 'batch...</td>\n",
       "      <td>83.08%</td>\n",
       "      <td>82.27%</td>\n",
       "      <td>83.08%</td>\n",
       "    </tr>\n",
       "    <tr>\n",
       "      <th>2</th>\n",
       "      <td>Tuned Neural Net (Advanced HyperParameter)</td>\n",
       "      <td>{'activation': 'relu', 'alpha': 0.001, 'batch_...</td>\n",
       "      <td>87.01%</td>\n",
       "      <td>86.62%</td>\n",
       "      <td>87.01%</td>\n",
       "    </tr>\n",
       "    <tr>\n",
       "      <th>3</th>\n",
       "      <td>Full Hyperparameter Neural Net</td>\n",
       "      <td>{'activation': 'identity', 'alpha': 1e-05, 'ba...</td>\n",
       "      <td>89.74%</td>\n",
       "      <td>89.90%</td>\n",
       "      <td>89.74%</td>\n",
       "    </tr>\n",
       "  </tbody>\n",
       "</table>\n",
       "</div>"
      ],
      "text/plain": [
       "                                   Model Name  \\\n",
       "0                          Default Neural Net   \n",
       "1    Tuned Neural Net (Simple Hyperparameter)   \n",
       "2  Tuned Neural Net (Advanced HyperParameter)   \n",
       "3              Full Hyperparameter Neural Net   \n",
       "\n",
       "                                     Hyperparameters Test Accuracy  \\\n",
       "0                                                 {}        88.46%   \n",
       "1  {'activation': 'relu', 'alpha': 0.0001, 'batch...        83.08%   \n",
       "2  {'activation': 'relu', 'alpha': 0.001, 'batch_...        87.01%   \n",
       "3  {'activation': 'identity', 'alpha': 1e-05, 'ba...        89.74%   \n",
       "\n",
       "  Test Precision Test Recall  \n",
       "0         88.56%      88.46%  \n",
       "1         82.27%      83.08%  \n",
       "2         86.62%      87.01%  \n",
       "3         89.90%      89.74%  "
      ]
     },
     "execution_count": 15,
     "metadata": {},
     "output_type": "execute_result"
    }
   ],
   "source": [
    "model_records"
   ]
  },
  {
   "cell_type": "markdown",
   "metadata": {},
   "source": [
    "### Hyperparameter Tuning with Optuna\n",
    "- Objective: Tune the MLPClassifier with best hyperparameter found by from optuna\n",
    "- Purpose: Achieve the best possible model, with lower computational cost."
   ]
  },
  {
   "cell_type": "code",
   "execution_count": 16,
   "metadata": {},
   "outputs": [],
   "source": [
    "# Objective function for Optuna\n",
    "def objective(trial):\n",
    "    # Define the hyperparameter search space\n",
    "    hidden_layer_sizes = trial.suggest_categorical(\"hidden_layer_sizes\", [(10,), (50,), (10, 10), (50, 50)])\n",
    "    activation = trial.suggest_categorical(\"activation\", ['identity', 'logistic', 'tanh', 'relu'])\n",
    "    solver = trial.suggest_categorical(\"solver\", ['lbfgs', 'sgd', 'adam'])\n",
    "    alpha = trial.suggest_float(\"alpha\", 1e-5, 1e3, log=True)\n",
    "    learning_rate = trial.suggest_categorical(\"learning_rate\", ['constant', 'invscaling', 'adaptive'])\n",
    "    max_iter = trial.suggest_categorical(\"max_iter\", [100, 500, 1000])\n",
    "\n",
    "    # Create and evaluate the model\n",
    "    model = MLPClassifier(\n",
    "        hidden_layer_sizes=hidden_layer_sizes,\n",
    "        activation=activation,\n",
    "        solver=solver,\n",
    "        alpha=alpha,\n",
    "        learning_rate=learning_rate,\n",
    "        max_iter=max_iter,\n",
    "        random_state=123\n",
    "    )\n",
    "\n",
    "    # Use cross-validation to evaluate the model\n",
    "    cv_scores = cross_val_score(model, X_train, y_train, cv=5, scoring=\"accuracy\")\n",
    "    mean_cv_score = np.mean(cv_scores)\n",
    "\n",
    "    return mean_cv_score"
   ]
  },
  {
   "cell_type": "code",
   "execution_count": 17,
   "metadata": {},
   "outputs": [
    {
     "name": "stderr",
     "output_type": "stream",
     "text": [
      "[I 2024-12-29 13:12:15,556] A new study created in memory with name: no-name-0bb9c049-dedd-4ac6-89e6-e323e4e7f51f\n"
     ]
    },
    {
     "name": "stderr",
     "output_type": "stream",
     "text": [
      "[I 2024-12-29 13:13:45,804] Trial 0 finished with value: 0.8751404653219008 and parameters: {'hidden_layer_sizes': (10, 10), 'activation': 'logistic', 'solver': 'lbfgs', 'alpha': 0.10980121841013941, 'learning_rate': 'adaptive', 'max_iter': 500}. Best is trial 0 with value: 0.8751404653219008.\n",
      "[I 2024-12-29 13:15:21,405] Trial 1 finished with value: 0.8759425184545474 and parameters: {'hidden_layer_sizes': (50, 50), 'activation': 'identity', 'solver': 'adam', 'alpha': 0.0009033291628834242, 'learning_rate': 'adaptive', 'max_iter': 500}. Best is trial 1 with value: 0.8759425184545474.\n",
      "[I 2024-12-29 13:15:28,859] Trial 2 finished with value: 0.870011617625892 and parameters: {'hidden_layer_sizes': (10,), 'activation': 'identity', 'solver': 'lbfgs', 'alpha': 0.05960072180342096, 'learning_rate': 'constant', 'max_iter': 100}. Best is trial 1 with value: 0.8759425184545474.\n",
      "[I 2024-12-29 13:15:31,641] Trial 3 finished with value: 0.2502003526412107 and parameters: {'hidden_layer_sizes': (10,), 'activation': 'tanh', 'solver': 'lbfgs', 'alpha': 748.3414810517763, 'learning_rate': 'constant', 'max_iter': 1000}. Best is trial 1 with value: 0.8759425184545474.\n",
      "[I 2024-12-29 13:17:15,644] Trial 4 finished with value: 0.3894857915407234 and parameters: {'hidden_layer_sizes': (10,), 'activation': 'logistic', 'solver': 'sgd', 'alpha': 0.0037496207897025364, 'learning_rate': 'constant', 'max_iter': 500}. Best is trial 1 with value: 0.8759425184545474.\n",
      "[I 2024-12-29 13:17:53,356] Trial 5 finished with value: 0.09312619517611498 and parameters: {'hidden_layer_sizes': (50, 50), 'activation': 'identity', 'solver': 'sgd', 'alpha': 0.1743787347242376, 'learning_rate': 'invscaling', 'max_iter': 100}. Best is trial 1 with value: 0.8759425184545474.\n",
      "[I 2024-12-29 13:19:04,999] Trial 6 finished with value: 0.10482452758415069 and parameters: {'hidden_layer_sizes': (10, 10), 'activation': 'tanh', 'solver': 'sgd', 'alpha': 153.4963289406935, 'learning_rate': 'adaptive', 'max_iter': 1000}. Best is trial 1 with value: 0.8759425184545474.\n",
      "[I 2024-12-29 13:19:21,401] Trial 7 finished with value: 0.7387347582916949 and parameters: {'hidden_layer_sizes': (10, 10), 'activation': 'logistic', 'solver': 'lbfgs', 'alpha': 0.00017171072908839485, 'learning_rate': 'adaptive', 'max_iter': 100}. Best is trial 1 with value: 0.8759425184545474.\n",
      "[I 2024-12-29 13:19:36,430] Trial 8 finished with value: 0.2248761129274361 and parameters: {'hidden_layer_sizes': (50, 50), 'activation': 'tanh', 'solver': 'lbfgs', 'alpha': 797.1608008492997, 'learning_rate': 'invscaling', 'max_iter': 1000}. Best is trial 1 with value: 0.8759425184545474.\n",
      "[I 2024-12-29 13:19:40,894] Trial 9 finished with value: 0.06042630518372298 and parameters: {'hidden_layer_sizes': (10, 10), 'activation': 'logistic', 'solver': 'sgd', 'alpha': 0.0018149550104388204, 'learning_rate': 'invscaling', 'max_iter': 500}. Best is trial 1 with value: 0.8759425184545474.\n",
      "[I 2024-12-29 13:23:10,124] Trial 10 finished with value: 0.8236900612752658 and parameters: {'hidden_layer_sizes': (50,), 'activation': 'relu', 'solver': 'adam', 'alpha': 1.561557414115582e-05, 'learning_rate': 'adaptive', 'max_iter': 500}. Best is trial 1 with value: 0.8759425184545474.\n",
      "[I 2024-12-29 13:25:10,114] Trial 11 finished with value: 0.8608737894022577 and parameters: {'hidden_layer_sizes': (50, 50), 'activation': 'identity', 'solver': 'adam', 'alpha': 1.4886166749632221, 'learning_rate': 'adaptive', 'max_iter': 500}. Best is trial 1 with value: 0.8759425184545474.\n",
      "[I 2024-12-29 13:26:40,047] Trial 12 finished with value: 0.5600255999013016 and parameters: {'hidden_layer_sizes': (50,), 'activation': 'relu', 'solver': 'adam', 'alpha': 6.467474745842803, 'learning_rate': 'adaptive', 'max_iter': 500}. Best is trial 1 with value: 0.8759425184545474.\n",
      "[I 2024-12-29 13:29:00,280] Trial 13 finished with value: 0.8543026340139411 and parameters: {'hidden_layer_sizes': (10, 10), 'activation': 'logistic', 'solver': 'adam', 'alpha': 0.009694145098934574, 'learning_rate': 'adaptive', 'max_iter': 500}. Best is trial 1 with value: 0.8759425184545474.\n",
      "[I 2024-12-29 13:30:26,461] Trial 14 finished with value: 0.8906893210371558 and parameters: {'hidden_layer_sizes': (50, 50), 'activation': 'identity', 'solver': 'lbfgs', 'alpha': 0.0002712909526978834, 'learning_rate': 'adaptive', 'max_iter': 500}. Best is trial 14 with value: 0.8906893210371558.\n",
      "[I 2024-12-29 13:31:56,427] Trial 15 finished with value: 0.8761027748648038 and parameters: {'hidden_layer_sizes': (50, 50), 'activation': 'identity', 'solver': 'adam', 'alpha': 0.00011104439435765142, 'learning_rate': 'adaptive', 'max_iter': 500}. Best is trial 14 with value: 0.8906893210371558.\n",
      "[I 2024-12-29 13:33:27,045] Trial 16 finished with value: 0.8897282966298604 and parameters: {'hidden_layer_sizes': (50, 50), 'activation': 'identity', 'solver': 'lbfgs', 'alpha': 1.216822388570705e-05, 'learning_rate': 'adaptive', 'max_iter': 500}. Best is trial 14 with value: 0.8906893210371558.\n",
      "[I 2024-12-29 13:34:54,891] Trial 17 finished with value: 0.8902085518063867 and parameters: {'hidden_layer_sizes': (50, 50), 'activation': 'identity', 'solver': 'lbfgs', 'alpha': 1.0268762521509097e-05, 'learning_rate': 'adaptive', 'max_iter': 500}. Best is trial 14 with value: 0.8906893210371558.\n",
      "[I 2024-12-29 13:38:21,742] Trial 18 finished with value: 0.8828358573396665 and parameters: {'hidden_layer_sizes': (50, 50), 'activation': 'identity', 'solver': 'lbfgs', 'alpha': 0.00010345211503960826, 'learning_rate': 'constant', 'max_iter': 1000}. Best is trial 14 with value: 0.8906893210371558.\n",
      "[I 2024-12-29 13:38:40,837] Trial 19 finished with value: 0.8613572574178028 and parameters: {'hidden_layer_sizes': (50, 50), 'activation': 'identity', 'solver': 'lbfgs', 'alpha': 0.0004077737895770731, 'learning_rate': 'invscaling', 'max_iter': 100}. Best is trial 14 with value: 0.8906893210371558.\n"
     ]
    }
   ],
   "source": [
    "# Run Optuna study\n",
    "study = optuna.create_study(direction=\"maximize\")\n",
    "study.optimize(objective, n_trials=20)"
   ]
  },
  {
   "cell_type": "code",
   "execution_count": 18,
   "metadata": {},
   "outputs": [
    {
     "name": "stdout",
     "output_type": "stream",
     "text": [
      "\n",
      "Best Hyperparameters: {'hidden_layer_sizes': (50, 50), 'activation': 'identity', 'solver': 'lbfgs', 'alpha': 0.0002712909526978834, 'learning_rate': 'adaptive', 'max_iter': 500}\n"
     ]
    }
   ],
   "source": [
    "# Extract the best parameters\n",
    "best_params = study.best_params\n",
    "print(\"\\nBest Hyperparameters:\", best_params)"
   ]
  },
  {
   "cell_type": "code",
   "execution_count": 27,
   "metadata": {},
   "outputs": [
    {
     "data": {
      "application/vnd.plotly.v1+json": {
       "config": {
        "plotlyServerURL": "https://plot.ly"
       },
       "data": [
        {
         "mode": "markers",
         "name": "Objective Value",
         "type": "scatter",
         "x": [
          0,
          1,
          2,
          3,
          4,
          5,
          6,
          7,
          8,
          9,
          10,
          11,
          12,
          13,
          14,
          15,
          16,
          17,
          18,
          19
         ],
         "y": [
          0.8751404653219008,
          0.8759425184545474,
          0.870011617625892,
          0.2502003526412107,
          0.3894857915407234,
          0.09312619517611498,
          0.10482452758415069,
          0.7387347582916949,
          0.2248761129274361,
          0.06042630518372298,
          0.8236900612752658,
          0.8608737894022577,
          0.5600255999013016,
          0.8543026340139411,
          0.8906893210371558,
          0.8761027748648038,
          0.8897282966298604,
          0.8902085518063867,
          0.8828358573396665,
          0.8613572574178028
         ]
        },
        {
         "mode": "lines",
         "name": "Best Value",
         "type": "scatter",
         "x": [
          0,
          1,
          2,
          3,
          4,
          5,
          6,
          7,
          8,
          9,
          10,
          11,
          12,
          13,
          14,
          15,
          16,
          17,
          18,
          19
         ],
         "y": [
          0.8751404653219008,
          0.8759425184545474,
          0.8759425184545474,
          0.8759425184545474,
          0.8759425184545474,
          0.8759425184545474,
          0.8759425184545474,
          0.8759425184545474,
          0.8759425184545474,
          0.8759425184545474,
          0.8759425184545474,
          0.8759425184545474,
          0.8759425184545474,
          0.8759425184545474,
          0.8906893210371558,
          0.8906893210371558,
          0.8906893210371558,
          0.8906893210371558,
          0.8906893210371558,
          0.8906893210371558
         ]
        },
        {
         "marker": {
          "color": "#cccccc"
         },
         "mode": "markers",
         "name": "Infeasible Trial",
         "showlegend": false,
         "type": "scatter",
         "x": [],
         "y": []
        }
       ],
       "layout": {
        "template": {
         "data": {
          "bar": [
           {
            "error_x": {
             "color": "#2a3f5f"
            },
            "error_y": {
             "color": "#2a3f5f"
            },
            "marker": {
             "line": {
              "color": "#E5ECF6",
              "width": 0.5
             },
             "pattern": {
              "fillmode": "overlay",
              "size": 10,
              "solidity": 0.2
             }
            },
            "type": "bar"
           }
          ],
          "barpolar": [
           {
            "marker": {
             "line": {
              "color": "#E5ECF6",
              "width": 0.5
             },
             "pattern": {
              "fillmode": "overlay",
              "size": 10,
              "solidity": 0.2
             }
            },
            "type": "barpolar"
           }
          ],
          "carpet": [
           {
            "aaxis": {
             "endlinecolor": "#2a3f5f",
             "gridcolor": "white",
             "linecolor": "white",
             "minorgridcolor": "white",
             "startlinecolor": "#2a3f5f"
            },
            "baxis": {
             "endlinecolor": "#2a3f5f",
             "gridcolor": "white",
             "linecolor": "white",
             "minorgridcolor": "white",
             "startlinecolor": "#2a3f5f"
            },
            "type": "carpet"
           }
          ],
          "choropleth": [
           {
            "colorbar": {
             "outlinewidth": 0,
             "ticks": ""
            },
            "type": "choropleth"
           }
          ],
          "contour": [
           {
            "colorbar": {
             "outlinewidth": 0,
             "ticks": ""
            },
            "colorscale": [
             [
              0,
              "#0d0887"
             ],
             [
              0.1111111111111111,
              "#46039f"
             ],
             [
              0.2222222222222222,
              "#7201a8"
             ],
             [
              0.3333333333333333,
              "#9c179e"
             ],
             [
              0.4444444444444444,
              "#bd3786"
             ],
             [
              0.5555555555555556,
              "#d8576b"
             ],
             [
              0.6666666666666666,
              "#ed7953"
             ],
             [
              0.7777777777777778,
              "#fb9f3a"
             ],
             [
              0.8888888888888888,
              "#fdca26"
             ],
             [
              1,
              "#f0f921"
             ]
            ],
            "type": "contour"
           }
          ],
          "contourcarpet": [
           {
            "colorbar": {
             "outlinewidth": 0,
             "ticks": ""
            },
            "type": "contourcarpet"
           }
          ],
          "heatmap": [
           {
            "colorbar": {
             "outlinewidth": 0,
             "ticks": ""
            },
            "colorscale": [
             [
              0,
              "#0d0887"
             ],
             [
              0.1111111111111111,
              "#46039f"
             ],
             [
              0.2222222222222222,
              "#7201a8"
             ],
             [
              0.3333333333333333,
              "#9c179e"
             ],
             [
              0.4444444444444444,
              "#bd3786"
             ],
             [
              0.5555555555555556,
              "#d8576b"
             ],
             [
              0.6666666666666666,
              "#ed7953"
             ],
             [
              0.7777777777777778,
              "#fb9f3a"
             ],
             [
              0.8888888888888888,
              "#fdca26"
             ],
             [
              1,
              "#f0f921"
             ]
            ],
            "type": "heatmap"
           }
          ],
          "heatmapgl": [
           {
            "colorbar": {
             "outlinewidth": 0,
             "ticks": ""
            },
            "colorscale": [
             [
              0,
              "#0d0887"
             ],
             [
              0.1111111111111111,
              "#46039f"
             ],
             [
              0.2222222222222222,
              "#7201a8"
             ],
             [
              0.3333333333333333,
              "#9c179e"
             ],
             [
              0.4444444444444444,
              "#bd3786"
             ],
             [
              0.5555555555555556,
              "#d8576b"
             ],
             [
              0.6666666666666666,
              "#ed7953"
             ],
             [
              0.7777777777777778,
              "#fb9f3a"
             ],
             [
              0.8888888888888888,
              "#fdca26"
             ],
             [
              1,
              "#f0f921"
             ]
            ],
            "type": "heatmapgl"
           }
          ],
          "histogram": [
           {
            "marker": {
             "pattern": {
              "fillmode": "overlay",
              "size": 10,
              "solidity": 0.2
             }
            },
            "type": "histogram"
           }
          ],
          "histogram2d": [
           {
            "colorbar": {
             "outlinewidth": 0,
             "ticks": ""
            },
            "colorscale": [
             [
              0,
              "#0d0887"
             ],
             [
              0.1111111111111111,
              "#46039f"
             ],
             [
              0.2222222222222222,
              "#7201a8"
             ],
             [
              0.3333333333333333,
              "#9c179e"
             ],
             [
              0.4444444444444444,
              "#bd3786"
             ],
             [
              0.5555555555555556,
              "#d8576b"
             ],
             [
              0.6666666666666666,
              "#ed7953"
             ],
             [
              0.7777777777777778,
              "#fb9f3a"
             ],
             [
              0.8888888888888888,
              "#fdca26"
             ],
             [
              1,
              "#f0f921"
             ]
            ],
            "type": "histogram2d"
           }
          ],
          "histogram2dcontour": [
           {
            "colorbar": {
             "outlinewidth": 0,
             "ticks": ""
            },
            "colorscale": [
             [
              0,
              "#0d0887"
             ],
             [
              0.1111111111111111,
              "#46039f"
             ],
             [
              0.2222222222222222,
              "#7201a8"
             ],
             [
              0.3333333333333333,
              "#9c179e"
             ],
             [
              0.4444444444444444,
              "#bd3786"
             ],
             [
              0.5555555555555556,
              "#d8576b"
             ],
             [
              0.6666666666666666,
              "#ed7953"
             ],
             [
              0.7777777777777778,
              "#fb9f3a"
             ],
             [
              0.8888888888888888,
              "#fdca26"
             ],
             [
              1,
              "#f0f921"
             ]
            ],
            "type": "histogram2dcontour"
           }
          ],
          "mesh3d": [
           {
            "colorbar": {
             "outlinewidth": 0,
             "ticks": ""
            },
            "type": "mesh3d"
           }
          ],
          "parcoords": [
           {
            "line": {
             "colorbar": {
              "outlinewidth": 0,
              "ticks": ""
             }
            },
            "type": "parcoords"
           }
          ],
          "pie": [
           {
            "automargin": true,
            "type": "pie"
           }
          ],
          "scatter": [
           {
            "fillpattern": {
             "fillmode": "overlay",
             "size": 10,
             "solidity": 0.2
            },
            "type": "scatter"
           }
          ],
          "scatter3d": [
           {
            "line": {
             "colorbar": {
              "outlinewidth": 0,
              "ticks": ""
             }
            },
            "marker": {
             "colorbar": {
              "outlinewidth": 0,
              "ticks": ""
             }
            },
            "type": "scatter3d"
           }
          ],
          "scattercarpet": [
           {
            "marker": {
             "colorbar": {
              "outlinewidth": 0,
              "ticks": ""
             }
            },
            "type": "scattercarpet"
           }
          ],
          "scattergeo": [
           {
            "marker": {
             "colorbar": {
              "outlinewidth": 0,
              "ticks": ""
             }
            },
            "type": "scattergeo"
           }
          ],
          "scattergl": [
           {
            "marker": {
             "colorbar": {
              "outlinewidth": 0,
              "ticks": ""
             }
            },
            "type": "scattergl"
           }
          ],
          "scattermapbox": [
           {
            "marker": {
             "colorbar": {
              "outlinewidth": 0,
              "ticks": ""
             }
            },
            "type": "scattermapbox"
           }
          ],
          "scatterpolar": [
           {
            "marker": {
             "colorbar": {
              "outlinewidth": 0,
              "ticks": ""
             }
            },
            "type": "scatterpolar"
           }
          ],
          "scatterpolargl": [
           {
            "marker": {
             "colorbar": {
              "outlinewidth": 0,
              "ticks": ""
             }
            },
            "type": "scatterpolargl"
           }
          ],
          "scatterternary": [
           {
            "marker": {
             "colorbar": {
              "outlinewidth": 0,
              "ticks": ""
             }
            },
            "type": "scatterternary"
           }
          ],
          "surface": [
           {
            "colorbar": {
             "outlinewidth": 0,
             "ticks": ""
            },
            "colorscale": [
             [
              0,
              "#0d0887"
             ],
             [
              0.1111111111111111,
              "#46039f"
             ],
             [
              0.2222222222222222,
              "#7201a8"
             ],
             [
              0.3333333333333333,
              "#9c179e"
             ],
             [
              0.4444444444444444,
              "#bd3786"
             ],
             [
              0.5555555555555556,
              "#d8576b"
             ],
             [
              0.6666666666666666,
              "#ed7953"
             ],
             [
              0.7777777777777778,
              "#fb9f3a"
             ],
             [
              0.8888888888888888,
              "#fdca26"
             ],
             [
              1,
              "#f0f921"
             ]
            ],
            "type": "surface"
           }
          ],
          "table": [
           {
            "cells": {
             "fill": {
              "color": "#EBF0F8"
             },
             "line": {
              "color": "white"
             }
            },
            "header": {
             "fill": {
              "color": "#C8D4E3"
             },
             "line": {
              "color": "white"
             }
            },
            "type": "table"
           }
          ]
         },
         "layout": {
          "annotationdefaults": {
           "arrowcolor": "#2a3f5f",
           "arrowhead": 0,
           "arrowwidth": 1
          },
          "autotypenumbers": "strict",
          "coloraxis": {
           "colorbar": {
            "outlinewidth": 0,
            "ticks": ""
           }
          },
          "colorscale": {
           "diverging": [
            [
             0,
             "#8e0152"
            ],
            [
             0.1,
             "#c51b7d"
            ],
            [
             0.2,
             "#de77ae"
            ],
            [
             0.3,
             "#f1b6da"
            ],
            [
             0.4,
             "#fde0ef"
            ],
            [
             0.5,
             "#f7f7f7"
            ],
            [
             0.6,
             "#e6f5d0"
            ],
            [
             0.7,
             "#b8e186"
            ],
            [
             0.8,
             "#7fbc41"
            ],
            [
             0.9,
             "#4d9221"
            ],
            [
             1,
             "#276419"
            ]
           ],
           "sequential": [
            [
             0,
             "#0d0887"
            ],
            [
             0.1111111111111111,
             "#46039f"
            ],
            [
             0.2222222222222222,
             "#7201a8"
            ],
            [
             0.3333333333333333,
             "#9c179e"
            ],
            [
             0.4444444444444444,
             "#bd3786"
            ],
            [
             0.5555555555555556,
             "#d8576b"
            ],
            [
             0.6666666666666666,
             "#ed7953"
            ],
            [
             0.7777777777777778,
             "#fb9f3a"
            ],
            [
             0.8888888888888888,
             "#fdca26"
            ],
            [
             1,
             "#f0f921"
            ]
           ],
           "sequentialminus": [
            [
             0,
             "#0d0887"
            ],
            [
             0.1111111111111111,
             "#46039f"
            ],
            [
             0.2222222222222222,
             "#7201a8"
            ],
            [
             0.3333333333333333,
             "#9c179e"
            ],
            [
             0.4444444444444444,
             "#bd3786"
            ],
            [
             0.5555555555555556,
             "#d8576b"
            ],
            [
             0.6666666666666666,
             "#ed7953"
            ],
            [
             0.7777777777777778,
             "#fb9f3a"
            ],
            [
             0.8888888888888888,
             "#fdca26"
            ],
            [
             1,
             "#f0f921"
            ]
           ]
          },
          "colorway": [
           "#636efa",
           "#EF553B",
           "#00cc96",
           "#ab63fa",
           "#FFA15A",
           "#19d3f3",
           "#FF6692",
           "#B6E880",
           "#FF97FF",
           "#FECB52"
          ],
          "font": {
           "color": "#2a3f5f"
          },
          "geo": {
           "bgcolor": "white",
           "lakecolor": "white",
           "landcolor": "#E5ECF6",
           "showlakes": true,
           "showland": true,
           "subunitcolor": "white"
          },
          "hoverlabel": {
           "align": "left"
          },
          "hovermode": "closest",
          "mapbox": {
           "style": "light"
          },
          "paper_bgcolor": "white",
          "plot_bgcolor": "#E5ECF6",
          "polar": {
           "angularaxis": {
            "gridcolor": "white",
            "linecolor": "white",
            "ticks": ""
           },
           "bgcolor": "#E5ECF6",
           "radialaxis": {
            "gridcolor": "white",
            "linecolor": "white",
            "ticks": ""
           }
          },
          "scene": {
           "xaxis": {
            "backgroundcolor": "#E5ECF6",
            "gridcolor": "white",
            "gridwidth": 2,
            "linecolor": "white",
            "showbackground": true,
            "ticks": "",
            "zerolinecolor": "white"
           },
           "yaxis": {
            "backgroundcolor": "#E5ECF6",
            "gridcolor": "white",
            "gridwidth": 2,
            "linecolor": "white",
            "showbackground": true,
            "ticks": "",
            "zerolinecolor": "white"
           },
           "zaxis": {
            "backgroundcolor": "#E5ECF6",
            "gridcolor": "white",
            "gridwidth": 2,
            "linecolor": "white",
            "showbackground": true,
            "ticks": "",
            "zerolinecolor": "white"
           }
          },
          "shapedefaults": {
           "line": {
            "color": "#2a3f5f"
           }
          },
          "ternary": {
           "aaxis": {
            "gridcolor": "white",
            "linecolor": "white",
            "ticks": ""
           },
           "baxis": {
            "gridcolor": "white",
            "linecolor": "white",
            "ticks": ""
           },
           "bgcolor": "#E5ECF6",
           "caxis": {
            "gridcolor": "white",
            "linecolor": "white",
            "ticks": ""
           }
          },
          "title": {
           "x": 0.05
          },
          "xaxis": {
           "automargin": true,
           "gridcolor": "white",
           "linecolor": "white",
           "ticks": "",
           "title": {
            "standoff": 15
           },
           "zerolinecolor": "white",
           "zerolinewidth": 2
          },
          "yaxis": {
           "automargin": true,
           "gridcolor": "white",
           "linecolor": "white",
           "ticks": "",
           "title": {
            "standoff": 15
           },
           "zerolinecolor": "white",
           "zerolinewidth": 2
          }
         }
        },
        "title": {
         "text": "Optimization History Plot"
        },
        "xaxis": {
         "title": {
          "text": "Trial"
         }
        },
        "yaxis": {
         "title": {
          "text": "Objective Value"
         }
        }
       }
      }
     },
     "metadata": {},
     "output_type": "display_data"
    }
   ],
   "source": [
    "optuna.visualization.plot_optimization_history(study)"
   ]
  },
  {
   "cell_type": "code",
   "execution_count": 28,
   "metadata": {},
   "outputs": [
    {
     "data": {
      "application/vnd.plotly.v1+json": {
       "config": {
        "plotlyServerURL": "https://plot.ly"
       },
       "data": [
        {
         "marker": {
          "color": [
           0,
           1,
           2,
           3,
           4,
           5,
           6,
           7,
           8,
           9,
           10,
           11,
           12,
           13,
           14,
           15,
           16,
           17,
           18,
           19
          ],
          "colorbar": {
           "title": {
            "text": "Trial"
           },
           "x": 1,
           "xpad": 40
          },
          "colorscale": [
           [
            0,
            "rgb(247,251,255)"
           ],
           [
            0.125,
            "rgb(222,235,247)"
           ],
           [
            0.25,
            "rgb(198,219,239)"
           ],
           [
            0.375,
            "rgb(158,202,225)"
           ],
           [
            0.5,
            "rgb(107,174,214)"
           ],
           [
            0.625,
            "rgb(66,146,198)"
           ],
           [
            0.75,
            "rgb(33,113,181)"
           ],
           [
            0.875,
            "rgb(8,81,156)"
           ],
           [
            1,
            "rgb(8,48,107)"
           ]
          ],
          "line": {
           "color": "Grey",
           "width": 0.5
          },
          "showscale": true
         },
         "mode": "markers",
         "name": "Feasible Trial",
         "showlegend": false,
         "type": "scatter",
         "x": [
          "logistic",
          "identity",
          "identity",
          "tanh",
          "logistic",
          "identity",
          "tanh",
          "logistic",
          "tanh",
          "logistic",
          "relu",
          "identity",
          "relu",
          "logistic",
          "identity",
          "identity",
          "identity",
          "identity",
          "identity",
          "identity"
         ],
         "xaxis": "x",
         "y": [
          0.8751404653219008,
          0.8759425184545474,
          0.870011617625892,
          0.2502003526412107,
          0.3894857915407234,
          0.09312619517611498,
          0.10482452758415069,
          0.7387347582916949,
          0.2248761129274361,
          0.06042630518372298,
          0.8236900612752658,
          0.8608737894022577,
          0.5600255999013016,
          0.8543026340139411,
          0.8906893210371558,
          0.8761027748648038,
          0.8897282966298604,
          0.8902085518063867,
          0.8828358573396665,
          0.8613572574178028
         ],
         "yaxis": "y"
        },
        {
         "marker": {
          "color": [
           0,
           1,
           2,
           3,
           4,
           5,
           6,
           7,
           8,
           9,
           10,
           11,
           12,
           13,
           14,
           15,
           16,
           17,
           18,
           19
          ],
          "colorbar": {
           "title": {
            "text": "Trial"
           },
           "x": 1,
           "xpad": 40
          },
          "colorscale": [
           [
            0,
            "rgb(247,251,255)"
           ],
           [
            0.125,
            "rgb(222,235,247)"
           ],
           [
            0.25,
            "rgb(198,219,239)"
           ],
           [
            0.375,
            "rgb(158,202,225)"
           ],
           [
            0.5,
            "rgb(107,174,214)"
           ],
           [
            0.625,
            "rgb(66,146,198)"
           ],
           [
            0.75,
            "rgb(33,113,181)"
           ],
           [
            0.875,
            "rgb(8,81,156)"
           ],
           [
            1,
            "rgb(8,48,107)"
           ]
          ],
          "line": {
           "color": "Grey",
           "width": 0.5
          },
          "showscale": false
         },
         "mode": "markers",
         "name": "Feasible Trial",
         "showlegend": false,
         "type": "scatter",
         "x": [
          0.10980121841013941,
          0.0009033291628834242,
          0.05960072180342096,
          748.3414810517763,
          0.0037496207897025364,
          0.1743787347242376,
          153.4963289406935,
          0.00017171072908839485,
          797.1608008492997,
          0.0018149550104388204,
          0.00001561557414115582,
          1.4886166749632221,
          6.467474745842803,
          0.009694145098934574,
          0.0002712909526978834,
          0.00011104439435765142,
          0.00001216822388570705,
          0.000010268762521509097,
          0.00010345211503960826,
          0.0004077737895770731
         ],
         "xaxis": "x2",
         "y": [
          0.8751404653219008,
          0.8759425184545474,
          0.870011617625892,
          0.2502003526412107,
          0.3894857915407234,
          0.09312619517611498,
          0.10482452758415069,
          0.7387347582916949,
          0.2248761129274361,
          0.06042630518372298,
          0.8236900612752658,
          0.8608737894022577,
          0.5600255999013016,
          0.8543026340139411,
          0.8906893210371558,
          0.8761027748648038,
          0.8897282966298604,
          0.8902085518063867,
          0.8828358573396665,
          0.8613572574178028
         ],
         "yaxis": "y2"
        },
        {
         "marker": {
          "color": [
           0,
           1,
           2,
           3,
           4,
           5,
           6,
           7,
           8,
           9,
           10,
           11,
           12,
           13,
           14,
           15,
           16,
           17,
           18,
           19
          ],
          "colorbar": {
           "title": {
            "text": "Trial"
           },
           "x": 1,
           "xpad": 40
          },
          "colorscale": [
           [
            0,
            "rgb(247,251,255)"
           ],
           [
            0.125,
            "rgb(222,235,247)"
           ],
           [
            0.25,
            "rgb(198,219,239)"
           ],
           [
            0.375,
            "rgb(158,202,225)"
           ],
           [
            0.5,
            "rgb(107,174,214)"
           ],
           [
            0.625,
            "rgb(66,146,198)"
           ],
           [
            0.75,
            "rgb(33,113,181)"
           ],
           [
            0.875,
            "rgb(8,81,156)"
           ],
           [
            1,
            "rgb(8,48,107)"
           ]
          ],
          "line": {
           "color": "Grey",
           "width": 0.5
          },
          "showscale": false
         },
         "mode": "markers",
         "name": "Feasible Trial",
         "showlegend": false,
         "type": "scatter",
         "x": [
          [
           10,
           10
          ],
          [
           50,
           50
          ],
          [
           10
          ],
          [
           10
          ],
          [
           10
          ],
          [
           50,
           50
          ],
          [
           10,
           10
          ],
          [
           10,
           10
          ],
          [
           50,
           50
          ],
          [
           10,
           10
          ],
          [
           50
          ],
          [
           50,
           50
          ],
          [
           50
          ],
          [
           10,
           10
          ],
          [
           50,
           50
          ],
          [
           50,
           50
          ],
          [
           50,
           50
          ],
          [
           50,
           50
          ],
          [
           50,
           50
          ],
          [
           50,
           50
          ]
         ],
         "xaxis": "x3",
         "y": [
          0.8751404653219008,
          0.8759425184545474,
          0.870011617625892,
          0.2502003526412107,
          0.3894857915407234,
          0.09312619517611498,
          0.10482452758415069,
          0.7387347582916949,
          0.2248761129274361,
          0.06042630518372298,
          0.8236900612752658,
          0.8608737894022577,
          0.5600255999013016,
          0.8543026340139411,
          0.8906893210371558,
          0.8761027748648038,
          0.8897282966298604,
          0.8902085518063867,
          0.8828358573396665,
          0.8613572574178028
         ],
         "yaxis": "y3"
        },
        {
         "marker": {
          "color": [
           0,
           1,
           2,
           3,
           4,
           5,
           6,
           7,
           8,
           9,
           10,
           11,
           12,
           13,
           14,
           15,
           16,
           17,
           18,
           19
          ],
          "colorbar": {
           "title": {
            "text": "Trial"
           },
           "x": 1,
           "xpad": 40
          },
          "colorscale": [
           [
            0,
            "rgb(247,251,255)"
           ],
           [
            0.125,
            "rgb(222,235,247)"
           ],
           [
            0.25,
            "rgb(198,219,239)"
           ],
           [
            0.375,
            "rgb(158,202,225)"
           ],
           [
            0.5,
            "rgb(107,174,214)"
           ],
           [
            0.625,
            "rgb(66,146,198)"
           ],
           [
            0.75,
            "rgb(33,113,181)"
           ],
           [
            0.875,
            "rgb(8,81,156)"
           ],
           [
            1,
            "rgb(8,48,107)"
           ]
          ],
          "line": {
           "color": "Grey",
           "width": 0.5
          },
          "showscale": false
         },
         "mode": "markers",
         "name": "Feasible Trial",
         "showlegend": false,
         "type": "scatter",
         "x": [
          "adaptive",
          "adaptive",
          "constant",
          "constant",
          "constant",
          "invscaling",
          "adaptive",
          "adaptive",
          "invscaling",
          "invscaling",
          "adaptive",
          "adaptive",
          "adaptive",
          "adaptive",
          "adaptive",
          "adaptive",
          "adaptive",
          "adaptive",
          "constant",
          "invscaling"
         ],
         "xaxis": "x4",
         "y": [
          0.8751404653219008,
          0.8759425184545474,
          0.870011617625892,
          0.2502003526412107,
          0.3894857915407234,
          0.09312619517611498,
          0.10482452758415069,
          0.7387347582916949,
          0.2248761129274361,
          0.06042630518372298,
          0.8236900612752658,
          0.8608737894022577,
          0.5600255999013016,
          0.8543026340139411,
          0.8906893210371558,
          0.8761027748648038,
          0.8897282966298604,
          0.8902085518063867,
          0.8828358573396665,
          0.8613572574178028
         ],
         "yaxis": "y4"
        },
        {
         "marker": {
          "color": [
           0,
           1,
           2,
           3,
           4,
           5,
           6,
           7,
           8,
           9,
           10,
           11,
           12,
           13,
           14,
           15,
           16,
           17,
           18,
           19
          ],
          "colorbar": {
           "title": {
            "text": "Trial"
           },
           "x": 1,
           "xpad": 40
          },
          "colorscale": [
           [
            0,
            "rgb(247,251,255)"
           ],
           [
            0.125,
            "rgb(222,235,247)"
           ],
           [
            0.25,
            "rgb(198,219,239)"
           ],
           [
            0.375,
            "rgb(158,202,225)"
           ],
           [
            0.5,
            "rgb(107,174,214)"
           ],
           [
            0.625,
            "rgb(66,146,198)"
           ],
           [
            0.75,
            "rgb(33,113,181)"
           ],
           [
            0.875,
            "rgb(8,81,156)"
           ],
           [
            1,
            "rgb(8,48,107)"
           ]
          ],
          "line": {
           "color": "Grey",
           "width": 0.5
          },
          "showscale": false
         },
         "mode": "markers",
         "name": "Feasible Trial",
         "showlegend": false,
         "type": "scatter",
         "x": [
          500,
          500,
          100,
          1000,
          500,
          100,
          1000,
          100,
          1000,
          500,
          500,
          500,
          500,
          500,
          500,
          500,
          500,
          500,
          1000,
          100
         ],
         "xaxis": "x5",
         "y": [
          0.8751404653219008,
          0.8759425184545474,
          0.870011617625892,
          0.2502003526412107,
          0.3894857915407234,
          0.09312619517611498,
          0.10482452758415069,
          0.7387347582916949,
          0.2248761129274361,
          0.06042630518372298,
          0.8236900612752658,
          0.8608737894022577,
          0.5600255999013016,
          0.8543026340139411,
          0.8906893210371558,
          0.8761027748648038,
          0.8897282966298604,
          0.8902085518063867,
          0.8828358573396665,
          0.8613572574178028
         ],
         "yaxis": "y5"
        },
        {
         "marker": {
          "color": [
           0,
           1,
           2,
           3,
           4,
           5,
           6,
           7,
           8,
           9,
           10,
           11,
           12,
           13,
           14,
           15,
           16,
           17,
           18,
           19
          ],
          "colorbar": {
           "title": {
            "text": "Trial"
           },
           "x": 1,
           "xpad": 40
          },
          "colorscale": [
           [
            0,
            "rgb(247,251,255)"
           ],
           [
            0.125,
            "rgb(222,235,247)"
           ],
           [
            0.25,
            "rgb(198,219,239)"
           ],
           [
            0.375,
            "rgb(158,202,225)"
           ],
           [
            0.5,
            "rgb(107,174,214)"
           ],
           [
            0.625,
            "rgb(66,146,198)"
           ],
           [
            0.75,
            "rgb(33,113,181)"
           ],
           [
            0.875,
            "rgb(8,81,156)"
           ],
           [
            1,
            "rgb(8,48,107)"
           ]
          ],
          "line": {
           "color": "Grey",
           "width": 0.5
          },
          "showscale": false
         },
         "mode": "markers",
         "name": "Feasible Trial",
         "showlegend": false,
         "type": "scatter",
         "x": [
          "lbfgs",
          "adam",
          "lbfgs",
          "lbfgs",
          "sgd",
          "sgd",
          "sgd",
          "lbfgs",
          "lbfgs",
          "sgd",
          "adam",
          "adam",
          "adam",
          "adam",
          "lbfgs",
          "adam",
          "lbfgs",
          "lbfgs",
          "lbfgs",
          "lbfgs"
         ],
         "xaxis": "x6",
         "y": [
          0.8751404653219008,
          0.8759425184545474,
          0.870011617625892,
          0.2502003526412107,
          0.3894857915407234,
          0.09312619517611498,
          0.10482452758415069,
          0.7387347582916949,
          0.2248761129274361,
          0.06042630518372298,
          0.8236900612752658,
          0.8608737894022577,
          0.5600255999013016,
          0.8543026340139411,
          0.8906893210371558,
          0.8761027748648038,
          0.8897282966298604,
          0.8902085518063867,
          0.8828358573396665,
          0.8613572574178028
         ],
         "yaxis": "y6"
        }
       ],
       "layout": {
        "template": {
         "data": {
          "bar": [
           {
            "error_x": {
             "color": "#2a3f5f"
            },
            "error_y": {
             "color": "#2a3f5f"
            },
            "marker": {
             "line": {
              "color": "#E5ECF6",
              "width": 0.5
             },
             "pattern": {
              "fillmode": "overlay",
              "size": 10,
              "solidity": 0.2
             }
            },
            "type": "bar"
           }
          ],
          "barpolar": [
           {
            "marker": {
             "line": {
              "color": "#E5ECF6",
              "width": 0.5
             },
             "pattern": {
              "fillmode": "overlay",
              "size": 10,
              "solidity": 0.2
             }
            },
            "type": "barpolar"
           }
          ],
          "carpet": [
           {
            "aaxis": {
             "endlinecolor": "#2a3f5f",
             "gridcolor": "white",
             "linecolor": "white",
             "minorgridcolor": "white",
             "startlinecolor": "#2a3f5f"
            },
            "baxis": {
             "endlinecolor": "#2a3f5f",
             "gridcolor": "white",
             "linecolor": "white",
             "minorgridcolor": "white",
             "startlinecolor": "#2a3f5f"
            },
            "type": "carpet"
           }
          ],
          "choropleth": [
           {
            "colorbar": {
             "outlinewidth": 0,
             "ticks": ""
            },
            "type": "choropleth"
           }
          ],
          "contour": [
           {
            "colorbar": {
             "outlinewidth": 0,
             "ticks": ""
            },
            "colorscale": [
             [
              0,
              "#0d0887"
             ],
             [
              0.1111111111111111,
              "#46039f"
             ],
             [
              0.2222222222222222,
              "#7201a8"
             ],
             [
              0.3333333333333333,
              "#9c179e"
             ],
             [
              0.4444444444444444,
              "#bd3786"
             ],
             [
              0.5555555555555556,
              "#d8576b"
             ],
             [
              0.6666666666666666,
              "#ed7953"
             ],
             [
              0.7777777777777778,
              "#fb9f3a"
             ],
             [
              0.8888888888888888,
              "#fdca26"
             ],
             [
              1,
              "#f0f921"
             ]
            ],
            "type": "contour"
           }
          ],
          "contourcarpet": [
           {
            "colorbar": {
             "outlinewidth": 0,
             "ticks": ""
            },
            "type": "contourcarpet"
           }
          ],
          "heatmap": [
           {
            "colorbar": {
             "outlinewidth": 0,
             "ticks": ""
            },
            "colorscale": [
             [
              0,
              "#0d0887"
             ],
             [
              0.1111111111111111,
              "#46039f"
             ],
             [
              0.2222222222222222,
              "#7201a8"
             ],
             [
              0.3333333333333333,
              "#9c179e"
             ],
             [
              0.4444444444444444,
              "#bd3786"
             ],
             [
              0.5555555555555556,
              "#d8576b"
             ],
             [
              0.6666666666666666,
              "#ed7953"
             ],
             [
              0.7777777777777778,
              "#fb9f3a"
             ],
             [
              0.8888888888888888,
              "#fdca26"
             ],
             [
              1,
              "#f0f921"
             ]
            ],
            "type": "heatmap"
           }
          ],
          "heatmapgl": [
           {
            "colorbar": {
             "outlinewidth": 0,
             "ticks": ""
            },
            "colorscale": [
             [
              0,
              "#0d0887"
             ],
             [
              0.1111111111111111,
              "#46039f"
             ],
             [
              0.2222222222222222,
              "#7201a8"
             ],
             [
              0.3333333333333333,
              "#9c179e"
             ],
             [
              0.4444444444444444,
              "#bd3786"
             ],
             [
              0.5555555555555556,
              "#d8576b"
             ],
             [
              0.6666666666666666,
              "#ed7953"
             ],
             [
              0.7777777777777778,
              "#fb9f3a"
             ],
             [
              0.8888888888888888,
              "#fdca26"
             ],
             [
              1,
              "#f0f921"
             ]
            ],
            "type": "heatmapgl"
           }
          ],
          "histogram": [
           {
            "marker": {
             "pattern": {
              "fillmode": "overlay",
              "size": 10,
              "solidity": 0.2
             }
            },
            "type": "histogram"
           }
          ],
          "histogram2d": [
           {
            "colorbar": {
             "outlinewidth": 0,
             "ticks": ""
            },
            "colorscale": [
             [
              0,
              "#0d0887"
             ],
             [
              0.1111111111111111,
              "#46039f"
             ],
             [
              0.2222222222222222,
              "#7201a8"
             ],
             [
              0.3333333333333333,
              "#9c179e"
             ],
             [
              0.4444444444444444,
              "#bd3786"
             ],
             [
              0.5555555555555556,
              "#d8576b"
             ],
             [
              0.6666666666666666,
              "#ed7953"
             ],
             [
              0.7777777777777778,
              "#fb9f3a"
             ],
             [
              0.8888888888888888,
              "#fdca26"
             ],
             [
              1,
              "#f0f921"
             ]
            ],
            "type": "histogram2d"
           }
          ],
          "histogram2dcontour": [
           {
            "colorbar": {
             "outlinewidth": 0,
             "ticks": ""
            },
            "colorscale": [
             [
              0,
              "#0d0887"
             ],
             [
              0.1111111111111111,
              "#46039f"
             ],
             [
              0.2222222222222222,
              "#7201a8"
             ],
             [
              0.3333333333333333,
              "#9c179e"
             ],
             [
              0.4444444444444444,
              "#bd3786"
             ],
             [
              0.5555555555555556,
              "#d8576b"
             ],
             [
              0.6666666666666666,
              "#ed7953"
             ],
             [
              0.7777777777777778,
              "#fb9f3a"
             ],
             [
              0.8888888888888888,
              "#fdca26"
             ],
             [
              1,
              "#f0f921"
             ]
            ],
            "type": "histogram2dcontour"
           }
          ],
          "mesh3d": [
           {
            "colorbar": {
             "outlinewidth": 0,
             "ticks": ""
            },
            "type": "mesh3d"
           }
          ],
          "parcoords": [
           {
            "line": {
             "colorbar": {
              "outlinewidth": 0,
              "ticks": ""
             }
            },
            "type": "parcoords"
           }
          ],
          "pie": [
           {
            "automargin": true,
            "type": "pie"
           }
          ],
          "scatter": [
           {
            "fillpattern": {
             "fillmode": "overlay",
             "size": 10,
             "solidity": 0.2
            },
            "type": "scatter"
           }
          ],
          "scatter3d": [
           {
            "line": {
             "colorbar": {
              "outlinewidth": 0,
              "ticks": ""
             }
            },
            "marker": {
             "colorbar": {
              "outlinewidth": 0,
              "ticks": ""
             }
            },
            "type": "scatter3d"
           }
          ],
          "scattercarpet": [
           {
            "marker": {
             "colorbar": {
              "outlinewidth": 0,
              "ticks": ""
             }
            },
            "type": "scattercarpet"
           }
          ],
          "scattergeo": [
           {
            "marker": {
             "colorbar": {
              "outlinewidth": 0,
              "ticks": ""
             }
            },
            "type": "scattergeo"
           }
          ],
          "scattergl": [
           {
            "marker": {
             "colorbar": {
              "outlinewidth": 0,
              "ticks": ""
             }
            },
            "type": "scattergl"
           }
          ],
          "scattermapbox": [
           {
            "marker": {
             "colorbar": {
              "outlinewidth": 0,
              "ticks": ""
             }
            },
            "type": "scattermapbox"
           }
          ],
          "scatterpolar": [
           {
            "marker": {
             "colorbar": {
              "outlinewidth": 0,
              "ticks": ""
             }
            },
            "type": "scatterpolar"
           }
          ],
          "scatterpolargl": [
           {
            "marker": {
             "colorbar": {
              "outlinewidth": 0,
              "ticks": ""
             }
            },
            "type": "scatterpolargl"
           }
          ],
          "scatterternary": [
           {
            "marker": {
             "colorbar": {
              "outlinewidth": 0,
              "ticks": ""
             }
            },
            "type": "scatterternary"
           }
          ],
          "surface": [
           {
            "colorbar": {
             "outlinewidth": 0,
             "ticks": ""
            },
            "colorscale": [
             [
              0,
              "#0d0887"
             ],
             [
              0.1111111111111111,
              "#46039f"
             ],
             [
              0.2222222222222222,
              "#7201a8"
             ],
             [
              0.3333333333333333,
              "#9c179e"
             ],
             [
              0.4444444444444444,
              "#bd3786"
             ],
             [
              0.5555555555555556,
              "#d8576b"
             ],
             [
              0.6666666666666666,
              "#ed7953"
             ],
             [
              0.7777777777777778,
              "#fb9f3a"
             ],
             [
              0.8888888888888888,
              "#fdca26"
             ],
             [
              1,
              "#f0f921"
             ]
            ],
            "type": "surface"
           }
          ],
          "table": [
           {
            "cells": {
             "fill": {
              "color": "#EBF0F8"
             },
             "line": {
              "color": "white"
             }
            },
            "header": {
             "fill": {
              "color": "#C8D4E3"
             },
             "line": {
              "color": "white"
             }
            },
            "type": "table"
           }
          ]
         },
         "layout": {
          "annotationdefaults": {
           "arrowcolor": "#2a3f5f",
           "arrowhead": 0,
           "arrowwidth": 1
          },
          "autotypenumbers": "strict",
          "coloraxis": {
           "colorbar": {
            "outlinewidth": 0,
            "ticks": ""
           }
          },
          "colorscale": {
           "diverging": [
            [
             0,
             "#8e0152"
            ],
            [
             0.1,
             "#c51b7d"
            ],
            [
             0.2,
             "#de77ae"
            ],
            [
             0.3,
             "#f1b6da"
            ],
            [
             0.4,
             "#fde0ef"
            ],
            [
             0.5,
             "#f7f7f7"
            ],
            [
             0.6,
             "#e6f5d0"
            ],
            [
             0.7,
             "#b8e186"
            ],
            [
             0.8,
             "#7fbc41"
            ],
            [
             0.9,
             "#4d9221"
            ],
            [
             1,
             "#276419"
            ]
           ],
           "sequential": [
            [
             0,
             "#0d0887"
            ],
            [
             0.1111111111111111,
             "#46039f"
            ],
            [
             0.2222222222222222,
             "#7201a8"
            ],
            [
             0.3333333333333333,
             "#9c179e"
            ],
            [
             0.4444444444444444,
             "#bd3786"
            ],
            [
             0.5555555555555556,
             "#d8576b"
            ],
            [
             0.6666666666666666,
             "#ed7953"
            ],
            [
             0.7777777777777778,
             "#fb9f3a"
            ],
            [
             0.8888888888888888,
             "#fdca26"
            ],
            [
             1,
             "#f0f921"
            ]
           ],
           "sequentialminus": [
            [
             0,
             "#0d0887"
            ],
            [
             0.1111111111111111,
             "#46039f"
            ],
            [
             0.2222222222222222,
             "#7201a8"
            ],
            [
             0.3333333333333333,
             "#9c179e"
            ],
            [
             0.4444444444444444,
             "#bd3786"
            ],
            [
             0.5555555555555556,
             "#d8576b"
            ],
            [
             0.6666666666666666,
             "#ed7953"
            ],
            [
             0.7777777777777778,
             "#fb9f3a"
            ],
            [
             0.8888888888888888,
             "#fdca26"
            ],
            [
             1,
             "#f0f921"
            ]
           ]
          },
          "colorway": [
           "#636efa",
           "#EF553B",
           "#00cc96",
           "#ab63fa",
           "#FFA15A",
           "#19d3f3",
           "#FF6692",
           "#B6E880",
           "#FF97FF",
           "#FECB52"
          ],
          "font": {
           "color": "#2a3f5f"
          },
          "geo": {
           "bgcolor": "white",
           "lakecolor": "white",
           "landcolor": "#E5ECF6",
           "showlakes": true,
           "showland": true,
           "subunitcolor": "white"
          },
          "hoverlabel": {
           "align": "left"
          },
          "hovermode": "closest",
          "mapbox": {
           "style": "light"
          },
          "paper_bgcolor": "white",
          "plot_bgcolor": "#E5ECF6",
          "polar": {
           "angularaxis": {
            "gridcolor": "white",
            "linecolor": "white",
            "ticks": ""
           },
           "bgcolor": "#E5ECF6",
           "radialaxis": {
            "gridcolor": "white",
            "linecolor": "white",
            "ticks": ""
           }
          },
          "scene": {
           "xaxis": {
            "backgroundcolor": "#E5ECF6",
            "gridcolor": "white",
            "gridwidth": 2,
            "linecolor": "white",
            "showbackground": true,
            "ticks": "",
            "zerolinecolor": "white"
           },
           "yaxis": {
            "backgroundcolor": "#E5ECF6",
            "gridcolor": "white",
            "gridwidth": 2,
            "linecolor": "white",
            "showbackground": true,
            "ticks": "",
            "zerolinecolor": "white"
           },
           "zaxis": {
            "backgroundcolor": "#E5ECF6",
            "gridcolor": "white",
            "gridwidth": 2,
            "linecolor": "white",
            "showbackground": true,
            "ticks": "",
            "zerolinecolor": "white"
           }
          },
          "shapedefaults": {
           "line": {
            "color": "#2a3f5f"
           }
          },
          "ternary": {
           "aaxis": {
            "gridcolor": "white",
            "linecolor": "white",
            "ticks": ""
           },
           "baxis": {
            "gridcolor": "white",
            "linecolor": "white",
            "ticks": ""
           },
           "bgcolor": "#E5ECF6",
           "caxis": {
            "gridcolor": "white",
            "linecolor": "white",
            "ticks": ""
           }
          },
          "title": {
           "x": 0.05
          },
          "xaxis": {
           "automargin": true,
           "gridcolor": "white",
           "linecolor": "white",
           "ticks": "",
           "title": {
            "standoff": 15
           },
           "zerolinecolor": "white",
           "zerolinewidth": 2
          },
          "yaxis": {
           "automargin": true,
           "gridcolor": "white",
           "linecolor": "white",
           "ticks": "",
           "title": {
            "standoff": 15
           },
           "zerolinecolor": "white",
           "zerolinewidth": 2
          }
         }
        },
        "title": {
         "text": "Slice Plot"
        },
        "width": 1800,
        "xaxis": {
         "anchor": "y",
         "categoryarray": [
          "identity",
          "logistic",
          "tanh",
          "relu"
         ],
         "categoryorder": "array",
         "domain": [
          0,
          0.1388888888888889
         ],
         "title": {
          "text": "activation"
         },
         "type": "category"
        },
        "xaxis2": {
         "anchor": "y2",
         "domain": [
          0.17222222222222222,
          0.3111111111111111
         ],
         "title": {
          "text": "alpha"
         },
         "type": "log"
        },
        "xaxis3": {
         "anchor": "y3",
         "categoryarray": [
          [
           10
          ],
          [
           50
          ],
          [
           10,
           10
          ],
          [
           50,
           50
          ]
         ],
         "categoryorder": "array",
         "domain": [
          0.34444444444444444,
          0.48333333333333334
         ],
         "title": {
          "text": "hidden_layer_sizes"
         },
         "type": "category"
        },
        "xaxis4": {
         "anchor": "y4",
         "categoryarray": [
          "constant",
          "invscaling",
          "adaptive"
         ],
         "categoryorder": "array",
         "domain": [
          0.5166666666666667,
          0.6555555555555557
         ],
         "title": {
          "text": "learning_rate"
         },
         "type": "category"
        },
        "xaxis5": {
         "anchor": "y5",
         "categoryarray": [
          100,
          500,
          1000
         ],
         "categoryorder": "array",
         "domain": [
          0.6888888888888889,
          0.8277777777777777
         ],
         "title": {
          "text": "max_iter"
         },
         "type": "category"
        },
        "xaxis6": {
         "anchor": "y6",
         "categoryarray": [
          "lbfgs",
          "sgd",
          "adam"
         ],
         "categoryorder": "array",
         "domain": [
          0.861111111111111,
          1
         ],
         "title": {
          "text": "solver"
         },
         "type": "category"
        },
        "yaxis": {
         "anchor": "x",
         "domain": [
          0,
          1
         ],
         "title": {
          "text": "Objective Value"
         }
        },
        "yaxis2": {
         "anchor": "x2",
         "domain": [
          0,
          1
         ],
         "matches": "y",
         "showticklabels": false
        },
        "yaxis3": {
         "anchor": "x3",
         "domain": [
          0,
          1
         ],
         "matches": "y",
         "showticklabels": false
        },
        "yaxis4": {
         "anchor": "x4",
         "domain": [
          0,
          1
         ],
         "matches": "y",
         "showticklabels": false
        },
        "yaxis5": {
         "anchor": "x5",
         "domain": [
          0,
          1
         ],
         "matches": "y",
         "showticklabels": false
        },
        "yaxis6": {
         "anchor": "x6",
         "domain": [
          0,
          1
         ],
         "matches": "y",
         "showticklabels": false
        }
       }
      }
     },
     "metadata": {},
     "output_type": "display_data"
    }
   ],
   "source": [
    "optuna.visualization.plot_slice(study)"
   ]
  },
  {
   "cell_type": "code",
   "execution_count": 19,
   "metadata": {},
   "outputs": [
    {
     "data": {
      "text/html": [
       "<style>#sk-container-id-1 {color: black;}#sk-container-id-1 pre{padding: 0;}#sk-container-id-1 div.sk-toggleable {background-color: white;}#sk-container-id-1 label.sk-toggleable__label {cursor: pointer;display: block;width: 100%;margin-bottom: 0;padding: 0.3em;box-sizing: border-box;text-align: center;}#sk-container-id-1 label.sk-toggleable__label-arrow:before {content: \"▸\";float: left;margin-right: 0.25em;color: #696969;}#sk-container-id-1 label.sk-toggleable__label-arrow:hover:before {color: black;}#sk-container-id-1 div.sk-estimator:hover label.sk-toggleable__label-arrow:before {color: black;}#sk-container-id-1 div.sk-toggleable__content {max-height: 0;max-width: 0;overflow: hidden;text-align: left;background-color: #f0f8ff;}#sk-container-id-1 div.sk-toggleable__content pre {margin: 0.2em;color: black;border-radius: 0.25em;background-color: #f0f8ff;}#sk-container-id-1 input.sk-toggleable__control:checked~div.sk-toggleable__content {max-height: 200px;max-width: 100%;overflow: auto;}#sk-container-id-1 input.sk-toggleable__control:checked~label.sk-toggleable__label-arrow:before {content: \"▾\";}#sk-container-id-1 div.sk-estimator input.sk-toggleable__control:checked~label.sk-toggleable__label {background-color: #d4ebff;}#sk-container-id-1 div.sk-label input.sk-toggleable__control:checked~label.sk-toggleable__label {background-color: #d4ebff;}#sk-container-id-1 input.sk-hidden--visually {border: 0;clip: rect(1px 1px 1px 1px);clip: rect(1px, 1px, 1px, 1px);height: 1px;margin: -1px;overflow: hidden;padding: 0;position: absolute;width: 1px;}#sk-container-id-1 div.sk-estimator {font-family: monospace;background-color: #f0f8ff;border: 1px dotted black;border-radius: 0.25em;box-sizing: border-box;margin-bottom: 0.5em;}#sk-container-id-1 div.sk-estimator:hover {background-color: #d4ebff;}#sk-container-id-1 div.sk-parallel-item::after {content: \"\";width: 100%;border-bottom: 1px solid gray;flex-grow: 1;}#sk-container-id-1 div.sk-label:hover label.sk-toggleable__label {background-color: #d4ebff;}#sk-container-id-1 div.sk-serial::before {content: \"\";position: absolute;border-left: 1px solid gray;box-sizing: border-box;top: 0;bottom: 0;left: 50%;z-index: 0;}#sk-container-id-1 div.sk-serial {display: flex;flex-direction: column;align-items: center;background-color: white;padding-right: 0.2em;padding-left: 0.2em;position: relative;}#sk-container-id-1 div.sk-item {position: relative;z-index: 1;}#sk-container-id-1 div.sk-parallel {display: flex;align-items: stretch;justify-content: center;background-color: white;position: relative;}#sk-container-id-1 div.sk-item::before, #sk-container-id-1 div.sk-parallel-item::before {content: \"\";position: absolute;border-left: 1px solid gray;box-sizing: border-box;top: 0;bottom: 0;left: 50%;z-index: -1;}#sk-container-id-1 div.sk-parallel-item {display: flex;flex-direction: column;z-index: 1;position: relative;background-color: white;}#sk-container-id-1 div.sk-parallel-item:first-child::after {align-self: flex-end;width: 50%;}#sk-container-id-1 div.sk-parallel-item:last-child::after {align-self: flex-start;width: 50%;}#sk-container-id-1 div.sk-parallel-item:only-child::after {width: 0;}#sk-container-id-1 div.sk-dashed-wrapped {border: 1px dashed gray;margin: 0 0.4em 0.5em 0.4em;box-sizing: border-box;padding-bottom: 0.4em;background-color: white;}#sk-container-id-1 div.sk-label label {font-family: monospace;font-weight: bold;display: inline-block;line-height: 1.2em;}#sk-container-id-1 div.sk-label-container {text-align: center;}#sk-container-id-1 div.sk-container {/* jupyter's `normalize.less` sets `[hidden] { display: none; }` but bootstrap.min.css set `[hidden] { display: none !important; }` so we also need the `!important` here to be able to override the default hidden behavior on the sphinx rendered scikit-learn.org. See: https://github.com/scikit-learn/scikit-learn/issues/21755 */display: inline-block !important;position: relative;}#sk-container-id-1 div.sk-text-repr-fallback {display: none;}</style><div id=\"sk-container-id-1\" class=\"sk-top-container\"><div class=\"sk-text-repr-fallback\"><pre>MLPClassifier(activation=&#x27;identity&#x27;, alpha=0.0002712909526978834,\n",
       "              hidden_layer_sizes=(50, 50), learning_rate=&#x27;adaptive&#x27;,\n",
       "              max_iter=500, random_state=123, solver=&#x27;lbfgs&#x27;)</pre><b>In a Jupyter environment, please rerun this cell to show the HTML representation or trust the notebook. <br />On GitHub, the HTML representation is unable to render, please try loading this page with nbviewer.org.</b></div><div class=\"sk-container\" hidden><div class=\"sk-item\"><div class=\"sk-estimator sk-toggleable\"><input class=\"sk-toggleable__control sk-hidden--visually\" id=\"sk-estimator-id-1\" type=\"checkbox\" checked><label for=\"sk-estimator-id-1\" class=\"sk-toggleable__label sk-toggleable__label-arrow\">MLPClassifier</label><div class=\"sk-toggleable__content\"><pre>MLPClassifier(activation=&#x27;identity&#x27;, alpha=0.0002712909526978834,\n",
       "              hidden_layer_sizes=(50, 50), learning_rate=&#x27;adaptive&#x27;,\n",
       "              max_iter=500, random_state=123, solver=&#x27;lbfgs&#x27;)</pre></div></div></div></div></div>"
      ],
      "text/plain": [
       "MLPClassifier(activation='identity', alpha=0.0002712909526978834,\n",
       "              hidden_layer_sizes=(50, 50), learning_rate='adaptive',\n",
       "              max_iter=500, random_state=123, solver='lbfgs')"
      ]
     },
     "execution_count": 19,
     "metadata": {},
     "output_type": "execute_result"
    }
   ],
   "source": [
    "# Train the best model with the optimized hyperparameters\n",
    "best_model_phase5 = MLPClassifier(**best_params, random_state=123)\n",
    "best_model_phase5.fit(X_train, y_train)"
   ]
  },
  {
   "cell_type": "code",
   "execution_count": 20,
   "metadata": {},
   "outputs": [],
   "source": [
    "# Evaluate the best model\n",
    "y_test_pred = best_model_phase5.predict(X_test)\n",
    "test_metrics_phase5 = {\n",
    "    \"accuracy\": accuracy_score(y_test, y_test_pred),\n",
    "    \"precision\": precision_score(y_test, y_test_pred, average='weighted'),\n",
    "    \"recall\": recall_score(y_test, y_test_pred, average='weighted')\n",
    "}\n"
   ]
  },
  {
   "cell_type": "code",
   "execution_count": 21,
   "metadata": {},
   "outputs": [
    {
     "name": "stdout",
     "output_type": "stream",
     "text": [
      "Model 'Optuna Tuned Neural Net' recorded successfully!\n"
     ]
    }
   ],
   "source": [
    "# Record best model performance\n",
    "record_trained_model(\"Optuna Tuned Neural Net\", best_params, np.nan, test_metrics_phase5)"
   ]
  },
  {
   "cell_type": "markdown",
   "metadata": {},
   "source": [
    "### Evaluate and Compare Models"
   ]
  },
  {
   "cell_type": "code",
   "execution_count": 22,
   "metadata": {},
   "outputs": [
    {
     "name": "stdout",
     "output_type": "stream",
     "text": [
      "Model Performance Comparison:\n"
     ]
    },
    {
     "data": {
      "text/html": [
       "<div>\n",
       "<style scoped>\n",
       "    .dataframe tbody tr th:only-of-type {\n",
       "        vertical-align: middle;\n",
       "    }\n",
       "\n",
       "    .dataframe tbody tr th {\n",
       "        vertical-align: top;\n",
       "    }\n",
       "\n",
       "    .dataframe thead th {\n",
       "        text-align: right;\n",
       "    }\n",
       "</style>\n",
       "<table border=\"1\" class=\"dataframe\">\n",
       "  <thead>\n",
       "    <tr style=\"text-align: right;\">\n",
       "      <th></th>\n",
       "      <th>Model Name</th>\n",
       "      <th>Hyperparameters</th>\n",
       "      <th>Test Accuracy</th>\n",
       "      <th>Test Precision</th>\n",
       "      <th>Test Recall</th>\n",
       "    </tr>\n",
       "  </thead>\n",
       "  <tbody>\n",
       "    <tr>\n",
       "      <th>1</th>\n",
       "      <td>Tuned Neural Net (Simple Hyperparameter)</td>\n",
       "      <td>{'activation': 'relu', 'alpha': 0.0001, 'batch...</td>\n",
       "      <td>83.08%</td>\n",
       "      <td>82.27%</td>\n",
       "      <td>83.08%</td>\n",
       "    </tr>\n",
       "    <tr>\n",
       "      <th>2</th>\n",
       "      <td>Tuned Neural Net (Advanced HyperParameter)</td>\n",
       "      <td>{'activation': 'relu', 'alpha': 0.001, 'batch_...</td>\n",
       "      <td>87.01%</td>\n",
       "      <td>86.62%</td>\n",
       "      <td>87.01%</td>\n",
       "    </tr>\n",
       "    <tr>\n",
       "      <th>0</th>\n",
       "      <td>Default Neural Net</td>\n",
       "      <td>{}</td>\n",
       "      <td>88.46%</td>\n",
       "      <td>88.56%</td>\n",
       "      <td>88.46%</td>\n",
       "    </tr>\n",
       "    <tr>\n",
       "      <th>3</th>\n",
       "      <td>Full Hyperparameter Neural Net</td>\n",
       "      <td>{'activation': 'identity', 'alpha': 1e-05, 'ba...</td>\n",
       "      <td>89.74%</td>\n",
       "      <td>89.90%</td>\n",
       "      <td>89.74%</td>\n",
       "    </tr>\n",
       "    <tr>\n",
       "      <th>4</th>\n",
       "      <td>Optuna Tuned Neural Net</td>\n",
       "      <td>{'hidden_layer_sizes': (50, 50), 'activation':...</td>\n",
       "      <td>89.83%</td>\n",
       "      <td>89.90%</td>\n",
       "      <td>89.83%</td>\n",
       "    </tr>\n",
       "  </tbody>\n",
       "</table>\n",
       "</div>"
      ],
      "text/plain": [
       "                                   Model Name  \\\n",
       "1    Tuned Neural Net (Simple Hyperparameter)   \n",
       "2  Tuned Neural Net (Advanced HyperParameter)   \n",
       "0                          Default Neural Net   \n",
       "3              Full Hyperparameter Neural Net   \n",
       "4                     Optuna Tuned Neural Net   \n",
       "\n",
       "                                     Hyperparameters Test Accuracy  \\\n",
       "1  {'activation': 'relu', 'alpha': 0.0001, 'batch...        83.08%   \n",
       "2  {'activation': 'relu', 'alpha': 0.001, 'batch_...        87.01%   \n",
       "0                                                 {}        88.46%   \n",
       "3  {'activation': 'identity', 'alpha': 1e-05, 'ba...        89.74%   \n",
       "4  {'hidden_layer_sizes': (50, 50), 'activation':...        89.83%   \n",
       "\n",
       "  Test Precision Test Recall  \n",
       "1         82.27%      83.08%  \n",
       "2         86.62%      87.01%  \n",
       "0         88.56%      88.46%  \n",
       "3         89.90%      89.74%  \n",
       "4         89.90%      89.83%  "
      ]
     },
     "execution_count": 22,
     "metadata": {},
     "output_type": "execute_result"
    }
   ],
   "source": [
    "# Display Results in a Table\n",
    "results_df = pd.DataFrame(model_records)\n",
    "results_df.sort_values(by=\"Test Accuracy\", ascending=True, inplace=True)\n",
    "print(\"Model Performance Comparison:\")\n",
    "results_df"
   ]
  },
  {
   "cell_type": "code",
   "execution_count": 24,
   "metadata": {},
   "outputs": [
    {
     "name": "stdout",
     "output_type": "stream",
     "text": [
      "\n",
      "Evaluate and Compare Models\n",
      "\n",
      "--- Evaluating Default Model ---\n",
      "Accuracy: 88.46%\n",
      "Precision: 88.56%\n",
      "Recall: 88.46%\n",
      "\n",
      "--- Evaluating Simple Hyperparameter Tuning ---\n",
      "Accuracy: 83.08%\n",
      "Precision: 82.27%\n",
      "Recall: 83.08%\n",
      "\n",
      "--- Evaluating Advanced Hyperparameter Tuning ---\n",
      "Accuracy: 87.01%\n",
      "Precision: 86.62%\n",
      "Recall: 87.01%\n",
      "\n",
      "--- Evaluating Full Hyperparameter Grid ---\n"
     ]
    },
    {
     "name": "stdout",
     "output_type": "stream",
     "text": [
      "Accuracy: 89.74%\n",
      "Precision: 89.90%\n",
      "Recall: 89.74%\n",
      "\n",
      "--- Evaluating Hyperparameter Tuning with Optuna ---\n",
      "Accuracy: 89.83%\n",
      "Precision: 89.90%\n",
      "Recall: 89.83%\n"
     ]
    }
   ],
   "source": [
    "print(\"\\nEvaluate and Compare Models\")\n",
    "models = {\n",
    "    \"Default Model\": best_model_phase1,\n",
    "    \"Simple Hyperparameter Tuning\": best_model_phase2,\n",
    "    \"Advanced Hyperparameter Tuning\": best_model_phase3,\n",
    "    \"Full Hyperparameter Grid\": best_model_phase4,\n",
    "    \"Hyperparameter Tuning with Optuna\": best_model_phase5\n",
    "}\n",
    "\n",
    "for name, model in models.items():\n",
    "    print(f\"\\n--- Evaluating {name} ---\")\n",
    "    y_test_pred = model.predict(X_test)\n",
    "    accuracy = accuracy_score(y_test, y_test_pred)\n",
    "    precision = precision_score(y_test, y_test_pred, average='weighted')\n",
    "    recall = recall_score(y_test, y_test_pred, average='weighted')\n",
    "\n",
    "    print(f\"Accuracy: {accuracy:.2%}\")\n",
    "    print(f\"Precision: {precision:.2%}\")\n",
    "    print(f\"Recall: {recall:.2%}\")"
   ]
  },
  {
   "cell_type": "markdown",
   "metadata": {},
   "source": [
    "### Select the Best Model"
   ]
  },
  {
   "cell_type": "code",
   "execution_count": 25,
   "metadata": {},
   "outputs": [
    {
     "name": "stdout",
     "output_type": "stream",
     "text": [
      "\n",
      "The Best Model is 'Hyperparameter Tuning with Optuna'\n",
      "MLPClassifier(activation='identity', alpha=0.0002712909526978834,\n",
      "              hidden_layer_sizes=(50, 50), learning_rate='adaptive',\n",
      "              max_iter=500, random_state=123, solver='lbfgs')\n"
     ]
    }
   ],
   "source": [
    "# Select the model with the highest accuracy\n",
    "best_model_name = max(models, key=lambda name: accuracy_score(y_test, models[name].predict(X_test)))\n",
    "best_model = models[best_model_name]\n",
    "\n",
    "print(f\"\\nThe Best Model is '{best_model_name}'\")\n",
    "print(best_model)\n"
   ]
  },
  {
   "cell_type": "markdown",
   "metadata": {},
   "source": [
    "### Save the Best Model"
   ]
  },
  {
   "cell_type": "code",
   "execution_count": 26,
   "metadata": {},
   "outputs": [
    {
     "name": "stdout",
     "output_type": "stream",
     "text": [
      "Model saved successfully at ../04_modelling/models/mlp_neural_net.pkl!\n"
     ]
    }
   ],
   "source": [
    "def save_model(model, path, model_name=\"mlp_model.pkl\"):\n",
    "    \"\"\"\n",
    "    Save the trained model to a specified directory.\n",
    "\n",
    "    Args:\n",
    "        model: Trained model object.\n",
    "        path (str): Directory path to save the model.\n",
    "        model_name (str): File name for the saved model.\n",
    "    \"\"\"\n",
    "    # Ensure the path exists\n",
    "    os.makedirs(path, exist_ok=True)\n",
    "\n",
    "    # Save the model\n",
    "    file_path = os.path.join(path, model_name)\n",
    "    joblib.dump(model, file_path)\n",
    "    print(f\"Model saved successfully at {file_path}!\")\n",
    "\n",
    "# Save the selected best model\n",
    "save_model(best_model, path=\"../04_modelling/models/\", model_name=\"mlp_neural_net.pkl\")"
   ]
  },
  {
   "cell_type": "markdown",
   "metadata": {},
   "source": [
    "### Deep Learning Model with AutoML"
   ]
  },
  {
   "cell_type": "code",
   "execution_count": null,
   "metadata": {},
   "outputs": [],
   "source": [
    "# Import Necessary Libraries\n",
    "import pandas as pd\n",
    "import h2o\n",
    "\n",
    "# For hyperparameter optimization\n",
    "from h2o.estimators.deeplearning import H2ODeepLearningEstimator\n",
    "import optuna \n",
    "\n",
    "# Evaluation metrics\n",
    "from sklearn.metrics import mean_squared_error\n",
    "from sklearn.metrics import accuracy_score, mean_absolute_error "
   ]
  },
  {
   "cell_type": "code",
   "execution_count": null,
   "metadata": {},
   "outputs": [
    {
     "name": "stdout",
     "output_type": "stream",
     "text": [
      "Checking whether there is an H2O instance running at http://localhost:54321. connected.\n"
     ]
    },
    {
     "data": {
      "text/html": [
       "\n",
       "<style>\n",
       "\n",
       "#h2o-table-3.h2o-container {\n",
       "  overflow-x: auto;\n",
       "}\n",
       "#h2o-table-3 .h2o-table {\n",
       "  /* width: 100%; */\n",
       "  margin-top: 1em;\n",
       "  margin-bottom: 1em;\n",
       "}\n",
       "#h2o-table-3 .h2o-table caption {\n",
       "  white-space: nowrap;\n",
       "  caption-side: top;\n",
       "  text-align: left;\n",
       "  /* margin-left: 1em; */\n",
       "  margin: 0;\n",
       "  font-size: larger;\n",
       "}\n",
       "#h2o-table-3 .h2o-table thead {\n",
       "  white-space: nowrap; \n",
       "  position: sticky;\n",
       "  top: 0;\n",
       "  box-shadow: 0 -1px inset;\n",
       "}\n",
       "#h2o-table-3 .h2o-table tbody {\n",
       "  overflow: auto;\n",
       "}\n",
       "#h2o-table-3 .h2o-table th,\n",
       "#h2o-table-3 .h2o-table td {\n",
       "  text-align: right;\n",
       "  /* border: 1px solid; */\n",
       "}\n",
       "#h2o-table-3 .h2o-table tr:nth-child(even) {\n",
       "  /* background: #F5F5F5 */\n",
       "}\n",
       "\n",
       "</style>      \n",
       "<div id=\"h2o-table-3\" class=\"h2o-container\">\n",
       "  <table class=\"h2o-table\">\n",
       "    <caption></caption>\n",
       "    <thead></thead>\n",
       "    <tbody><tr><td>H2O_cluster_uptime:</td>\n",
       "<td>1 hour 7 mins</td></tr>\n",
       "<tr><td>H2O_cluster_timezone:</td>\n",
       "<td>Asia/Kuala_Lumpur</td></tr>\n",
       "<tr><td>H2O_data_parsing_timezone:</td>\n",
       "<td>UTC</td></tr>\n",
       "<tr><td>H2O_cluster_version:</td>\n",
       "<td>3.46.0.6</td></tr>\n",
       "<tr><td>H2O_cluster_version_age:</td>\n",
       "<td>1 month and 26 days</td></tr>\n",
       "<tr><td>H2O_cluster_name:</td>\n",
       "<td>H2O_from_python_Huawei_kmu9vd</td></tr>\n",
       "<tr><td>H2O_cluster_total_nodes:</td>\n",
       "<td>1</td></tr>\n",
       "<tr><td>H2O_cluster_free_memory:</td>\n",
       "<td>1.884 Gb</td></tr>\n",
       "<tr><td>H2O_cluster_total_cores:</td>\n",
       "<td>8</td></tr>\n",
       "<tr><td>H2O_cluster_allowed_cores:</td>\n",
       "<td>8</td></tr>\n",
       "<tr><td>H2O_cluster_status:</td>\n",
       "<td>locked, healthy</td></tr>\n",
       "<tr><td>H2O_connection_url:</td>\n",
       "<td>http://localhost:54321</td></tr>\n",
       "<tr><td>H2O_connection_proxy:</td>\n",
       "<td>{\"http\": null, \"https\": null}</td></tr>\n",
       "<tr><td>H2O_internal_security:</td>\n",
       "<td>False</td></tr>\n",
       "<tr><td>Python_version:</td>\n",
       "<td>3.8.0 final</td></tr></tbody>\n",
       "  </table>\n",
       "</div>\n"
      ],
      "text/plain": [
       "--------------------------  -----------------------------\n",
       "H2O_cluster_uptime:         1 hour 7 mins\n",
       "H2O_cluster_timezone:       Asia/Kuala_Lumpur\n",
       "H2O_data_parsing_timezone:  UTC\n",
       "H2O_cluster_version:        3.46.0.6\n",
       "H2O_cluster_version_age:    1 month and 26 days\n",
       "H2O_cluster_name:           H2O_from_python_Huawei_kmu9vd\n",
       "H2O_cluster_total_nodes:    1\n",
       "H2O_cluster_free_memory:    1.884 Gb\n",
       "H2O_cluster_total_cores:    8\n",
       "H2O_cluster_allowed_cores:  8\n",
       "H2O_cluster_status:         locked, healthy\n",
       "H2O_connection_url:         http://localhost:54321\n",
       "H2O_connection_proxy:       {\"http\": null, \"https\": null}\n",
       "H2O_internal_security:      False\n",
       "Python_version:             3.8.0 final\n",
       "--------------------------  -----------------------------"
      ]
     },
     "metadata": {},
     "output_type": "display_data"
    }
   ],
   "source": [
    "# Initialize H2O cluster\n",
    "h2o.init()"
   ]
  },
  {
   "cell_type": "code",
   "execution_count": null,
   "metadata": {},
   "outputs": [],
   "source": [
    "# Step 1: Load and Prepare Data\n",
    "X_train = pd.read_csv(\"../04_modelling/dataset/X_train.csv\")\n",
    "y_train = pd.read_csv(\"../04_modelling/dataset/y_train.csv\")\n",
    "X_val = pd.read_csv(\"../04_modelling/dataset/X_val.csv\")\n",
    "y_val = pd.read_csv(\"../04_modelling/dataset/y_val.csv\")\n",
    "X_test = pd.read_csv(\"../04_modelling/dataset/X_test.csv\")\n",
    "y_test = pd.read_csv(\"../04_modelling/dataset/y_test.csv\")"
   ]
  },
  {
   "cell_type": "code",
   "execution_count": null,
   "metadata": {},
   "outputs": [],
   "source": [
    "train_df = pd.concat([X_train, y_train], axis=1)\n",
    "val_df = pd.concat([X_val, y_val], axis=1)\n",
    "test_df = pd.concat([X_test, y_test], axis=1)"
   ]
  },
  {
   "cell_type": "code",
   "execution_count": null,
   "metadata": {},
   "outputs": [
    {
     "name": "stdout",
     "output_type": "stream",
     "text": [
      "Parse progress: |████████████████████████████████████████████████████████████████| (done) 100%\n",
      "Parse progress: |████████████████████████████████████████████████████████████████| (done) 100%\n",
      "Parse progress: |████████████████████████████████████████████████████████████████| (done) 100%\n"
     ]
    }
   ],
   "source": [
    "train_h2o = h2o.H2OFrame(train_df)\n",
    "val_h2o = h2o.H2OFrame(val_df)\n",
    "test_h2o = h2o.H2OFrame(test_df)"
   ]
  },
  {
   "cell_type": "code",
   "execution_count": null,
   "metadata": {},
   "outputs": [],
   "source": [
    "# Define target and features\n",
    "target = \"yearly_compensation\"\n",
    "features = train_h2o.columns\n",
    "if target in features:\n",
    "    features.remove(target)"
   ]
  },
  {
   "cell_type": "code",
   "execution_count": null,
   "metadata": {},
   "outputs": [],
   "source": [
    "# Initialize a DataFrame to store model performance details\n",
    "model_results = pd.DataFrame(columns=[\n",
    "    \"Model Name\", \"Hyperparameters\", \"MSE\", \"RMSE\", \"MAE\", \n",
    "    \"RMSLE\", \"Mean Residual Deviance\", \"R-Squared\", \"Additional Metrics\"\n",
    "])\n",
    "\n",
    "# Helper function to record model performance\n",
    "def record_model(name, hyperparameters, performance, additional_metrics=None):\n",
    "    result = {\n",
    "        \"Model Name\": name,\n",
    "        \"Hyperparameters\": hyperparameters,\n",
    "        \"MSE\": performance.mse(),\n",
    "        \"RMSE\": performance.rmse(),\n",
    "        \"MAE\": performance.mae(),\n",
    "        \"RMSLE\": performance.rmsle(),\n",
    "        \"Mean Residual Deviance\": performance.mean_residual_deviance(),\n",
    "        \"R-Squared\": performance.r2(),\n",
    "        \"Additional Metrics\": additional_metrics if additional_metrics else {}\n",
    "    }\n",
    "    \n",
    "    # Append the result as a new row to the DataFrame\n",
    "    global model_results  # Ensure we're working with the global DataFrame\n",
    "    model_results = pd.concat([model_results, pd.DataFrame([result])], ignore_index=True)"
   ]
  },
  {
   "cell_type": "markdown",
   "metadata": {},
   "source": [
    "### Train Default Deep Learning Model <br/>\n",
    "The default deep learning model is trained with minimal hyperparameter customization. This serves as a baseline to compare against more complex models. The model uses a fixed random seed for reproducibility and evaluates its performance using metrics like RMSE, MAE, and R-squared."
   ]
  },
  {
   "cell_type": "code",
   "execution_count": null,
   "metadata": {},
   "outputs": [
    {
     "name": "stdout",
     "output_type": "stream",
     "text": [
      "deeplearning Model Build progress: |█████████████████████████████████████████████| (done) 100%\n"
     ]
    },
    {
     "data": {
      "text/html": [
       "<pre style='margin: 1em 0 1em 0;'>Model Details\n",
       "=============\n",
       "H2ODeepLearningEstimator : Deep Learning\n",
       "Model Key: DeepLearning_model_python_1735399311316_7\n",
       "</pre>\n",
       "<div style='margin: 1em 0 1em 0;'>\n",
       "<style>\n",
       "\n",
       "#h2o-table-4.h2o-container {\n",
       "  overflow-x: auto;\n",
       "}\n",
       "#h2o-table-4 .h2o-table {\n",
       "  /* width: 100%; */\n",
       "  margin-top: 1em;\n",
       "  margin-bottom: 1em;\n",
       "}\n",
       "#h2o-table-4 .h2o-table caption {\n",
       "  white-space: nowrap;\n",
       "  caption-side: top;\n",
       "  text-align: left;\n",
       "  /* margin-left: 1em; */\n",
       "  margin: 0;\n",
       "  font-size: larger;\n",
       "}\n",
       "#h2o-table-4 .h2o-table thead {\n",
       "  white-space: nowrap; \n",
       "  position: sticky;\n",
       "  top: 0;\n",
       "  box-shadow: 0 -1px inset;\n",
       "}\n",
       "#h2o-table-4 .h2o-table tbody {\n",
       "  overflow: auto;\n",
       "}\n",
       "#h2o-table-4 .h2o-table th,\n",
       "#h2o-table-4 .h2o-table td {\n",
       "  text-align: right;\n",
       "  /* border: 1px solid; */\n",
       "}\n",
       "#h2o-table-4 .h2o-table tr:nth-child(even) {\n",
       "  /* background: #F5F5F5 */\n",
       "}\n",
       "\n",
       "</style>      \n",
       "<div id=\"h2o-table-4\" class=\"h2o-container\">\n",
       "  <table class=\"h2o-table\">\n",
       "    <caption>Status of Neuron Layers: predicting yearly_compensation, regression, gaussian distribution, Quadratic loss, 50,601 weights/biases, 613.2 KB, 54,590 training samples, mini-batch size 1</caption>\n",
       "    <thead><tr><th></th>\n",
       "<th>layer</th>\n",
       "<th>units</th>\n",
       "<th>type</th>\n",
       "<th>dropout</th>\n",
       "<th>l1</th>\n",
       "<th>l2</th>\n",
       "<th>mean_rate</th>\n",
       "<th>rate_rms</th>\n",
       "<th>momentum</th>\n",
       "<th>mean_weight</th>\n",
       "<th>weight_rms</th>\n",
       "<th>mean_bias</th>\n",
       "<th>bias_rms</th></tr></thead>\n",
       "    <tbody><tr><td></td>\n",
       "<td>1</td>\n",
       "<td>50</td>\n",
       "<td>Input</td>\n",
       "<td>0.0</td>\n",
       "<td></td>\n",
       "<td></td>\n",
       "<td></td>\n",
       "<td></td>\n",
       "<td></td>\n",
       "<td></td>\n",
       "<td></td>\n",
       "<td></td>\n",
       "<td></td></tr>\n",
       "<tr><td></td>\n",
       "<td>2</td>\n",
       "<td>200</td>\n",
       "<td>Rectifier</td>\n",
       "<td>0.0</td>\n",
       "<td>0.0</td>\n",
       "<td>0.0</td>\n",
       "<td>0.2004067</td>\n",
       "<td>0.1019030</td>\n",
       "<td>0.0</td>\n",
       "<td>0.0013314</td>\n",
       "<td>0.0955141</td>\n",
       "<td>0.4508021</td>\n",
       "<td>0.0680175</td></tr>\n",
       "<tr><td></td>\n",
       "<td>3</td>\n",
       "<td>200</td>\n",
       "<td>Rectifier</td>\n",
       "<td>0.0</td>\n",
       "<td>0.0</td>\n",
       "<td>0.0</td>\n",
       "<td>0.3962110</td>\n",
       "<td>0.3301710</td>\n",
       "<td>0.0</td>\n",
       "<td>-0.0159340</td>\n",
       "<td>0.0712199</td>\n",
       "<td>0.9565161</td>\n",
       "<td>0.0254086</td></tr>\n",
       "<tr><td></td>\n",
       "<td>4</td>\n",
       "<td>1</td>\n",
       "<td>Linear</td>\n",
       "<td></td>\n",
       "<td>0.0</td>\n",
       "<td>0.0</td>\n",
       "<td>0.0067211</td>\n",
       "<td>0.0030025</td>\n",
       "<td>0.0</td>\n",
       "<td>0.0024632</td>\n",
       "<td>0.0437930</td>\n",
       "<td>-0.0192963</td>\n",
       "<td>0.0000000</td></tr></tbody>\n",
       "  </table>\n",
       "</div>\n",
       "</div>\n",
       "<div style='margin: 1em 0 1em 0;'><pre style='margin: 1em 0 1em 0;'>ModelMetricsRegression: deeplearning\n",
       "** Reported on train data. **\n",
       "\n",
       "MSE: 0.11562223122086344\n",
       "RMSE: 0.3400326914001997\n",
       "MAE: 0.2645070335302583\n",
       "RMSLE: 0.13644538159082265\n",
       "Mean Residual Deviance: 0.11562223122086344</pre></div>\n",
       "<div style='margin: 1em 0 1em 0;'><pre style='margin: 1em 0 1em 0;'>ModelMetricsRegression: deeplearning\n",
       "** Reported on validation data. **\n",
       "\n",
       "MSE: 0.15104084770059478\n",
       "RMSE: 0.3886397402487229\n",
       "MAE: 0.29829890390871977\n",
       "RMSLE: 0.1444320786637511\n",
       "Mean Residual Deviance: 0.15104084770059478</pre></div>\n",
       "<div style='margin: 1em 0 1em 0;'>\n",
       "<style>\n",
       "\n",
       "#h2o-table-5.h2o-container {\n",
       "  overflow-x: auto;\n",
       "}\n",
       "#h2o-table-5 .h2o-table {\n",
       "  /* width: 100%; */\n",
       "  margin-top: 1em;\n",
       "  margin-bottom: 1em;\n",
       "}\n",
       "#h2o-table-5 .h2o-table caption {\n",
       "  white-space: nowrap;\n",
       "  caption-side: top;\n",
       "  text-align: left;\n",
       "  /* margin-left: 1em; */\n",
       "  margin: 0;\n",
       "  font-size: larger;\n",
       "}\n",
       "#h2o-table-5 .h2o-table thead {\n",
       "  white-space: nowrap; \n",
       "  position: sticky;\n",
       "  top: 0;\n",
       "  box-shadow: 0 -1px inset;\n",
       "}\n",
       "#h2o-table-5 .h2o-table tbody {\n",
       "  overflow: auto;\n",
       "}\n",
       "#h2o-table-5 .h2o-table th,\n",
       "#h2o-table-5 .h2o-table td {\n",
       "  text-align: right;\n",
       "  /* border: 1px solid; */\n",
       "}\n",
       "#h2o-table-5 .h2o-table tr:nth-child(even) {\n",
       "  /* background: #F5F5F5 */\n",
       "}\n",
       "\n",
       "</style>      \n",
       "<div id=\"h2o-table-5\" class=\"h2o-container\">\n",
       "  <table class=\"h2o-table\">\n",
       "    <caption>Scoring History: </caption>\n",
       "    <thead><tr><th></th>\n",
       "<th>timestamp</th>\n",
       "<th>duration</th>\n",
       "<th>training_speed</th>\n",
       "<th>epochs</th>\n",
       "<th>iterations</th>\n",
       "<th>samples</th>\n",
       "<th>training_rmse</th>\n",
       "<th>training_deviance</th>\n",
       "<th>training_mae</th>\n",
       "<th>training_r2</th>\n",
       "<th>validation_rmse</th>\n",
       "<th>validation_deviance</th>\n",
       "<th>validation_mae</th>\n",
       "<th>validation_r2</th></tr></thead>\n",
       "    <tbody><tr><td></td>\n",
       "<td>2024-12-29 00:29:29</td>\n",
       "<td> 0.000 sec</td>\n",
       "<td>None</td>\n",
       "<td>0.0</td>\n",
       "<td>0</td>\n",
       "<td>0.0</td>\n",
       "<td>nan</td>\n",
       "<td>nan</td>\n",
       "<td>nan</td>\n",
       "<td>nan</td>\n",
       "<td>nan</td>\n",
       "<td>nan</td>\n",
       "<td>nan</td>\n",
       "<td>nan</td></tr>\n",
       "<tr><td></td>\n",
       "<td>2024-12-29 00:29:30</td>\n",
       "<td> 1.676 sec</td>\n",
       "<td>4626 obs/sec</td>\n",
       "<td>1.0</td>\n",
       "<td>1</td>\n",
       "<td>5459.0</td>\n",
       "<td>1.1888770</td>\n",
       "<td>1.4134286</td>\n",
       "<td>0.9284737</td>\n",
       "<td>0.9753712</td>\n",
       "<td>1.2615032</td>\n",
       "<td>1.5913903</td>\n",
       "<td>0.9682492</td>\n",
       "<td>0.9722899</td></tr>\n",
       "<tr><td></td>\n",
       "<td>2024-12-29 00:29:35</td>\n",
       "<td> 7.038 sec</td>\n",
       "<td>7160 obs/sec</td>\n",
       "<td>8.0</td>\n",
       "<td>8</td>\n",
       "<td>43672.0</td>\n",
       "<td>0.3338209</td>\n",
       "<td>0.1114364</td>\n",
       "<td>0.2586734</td>\n",
       "<td>0.9980582</td>\n",
       "<td>0.4197230</td>\n",
       "<td>0.1761674</td>\n",
       "<td>0.3156904</td>\n",
       "<td>0.9969325</td></tr>\n",
       "<tr><td></td>\n",
       "<td>2024-12-29 00:29:37</td>\n",
       "<td> 8.426 sec</td>\n",
       "<td>7545 obs/sec</td>\n",
       "<td>10.0</td>\n",
       "<td>10</td>\n",
       "<td>54590.0</td>\n",
       "<td>0.3400327</td>\n",
       "<td>0.1156222</td>\n",
       "<td>0.2645070</td>\n",
       "<td>0.9979853</td>\n",
       "<td>0.3886397</td>\n",
       "<td>0.1510408</td>\n",
       "<td>0.2982989</td>\n",
       "<td>0.9973700</td></tr></tbody>\n",
       "  </table>\n",
       "</div>\n",
       "</div>\n",
       "<div style='margin: 1em 0 1em 0;'>\n",
       "<style>\n",
       "\n",
       "#h2o-table-6.h2o-container {\n",
       "  overflow-x: auto;\n",
       "}\n",
       "#h2o-table-6 .h2o-table {\n",
       "  /* width: 100%; */\n",
       "  margin-top: 1em;\n",
       "  margin-bottom: 1em;\n",
       "}\n",
       "#h2o-table-6 .h2o-table caption {\n",
       "  white-space: nowrap;\n",
       "  caption-side: top;\n",
       "  text-align: left;\n",
       "  /* margin-left: 1em; */\n",
       "  margin: 0;\n",
       "  font-size: larger;\n",
       "}\n",
       "#h2o-table-6 .h2o-table thead {\n",
       "  white-space: nowrap; \n",
       "  position: sticky;\n",
       "  top: 0;\n",
       "  box-shadow: 0 -1px inset;\n",
       "}\n",
       "#h2o-table-6 .h2o-table tbody {\n",
       "  overflow: auto;\n",
       "}\n",
       "#h2o-table-6 .h2o-table th,\n",
       "#h2o-table-6 .h2o-table td {\n",
       "  text-align: right;\n",
       "  /* border: 1px solid; */\n",
       "}\n",
       "#h2o-table-6 .h2o-table tr:nth-child(even) {\n",
       "  /* background: #F5F5F5 */\n",
       "}\n",
       "\n",
       "</style>      \n",
       "<div id=\"h2o-table-6\" class=\"h2o-container\">\n",
       "  <table class=\"h2o-table\">\n",
       "    <caption>Variable Importances: </caption>\n",
       "    <thead><tr><th>variable</th>\n",
       "<th>relative_importance</th>\n",
       "<th>scaled_importance</th>\n",
       "<th>percentage</th></tr></thead>\n",
       "    <tbody><tr><td>job_title_Data_Engineer</td>\n",
       "<td>1.0</td>\n",
       "<td>1.0</td>\n",
       "<td>0.0323628</td></tr>\n",
       "<tr><td>used_tpu</td>\n",
       "<td>0.8924959</td>\n",
       "<td>0.8924959</td>\n",
       "<td>0.0288836</td></tr>\n",
       "<tr><td>ml_spending</td>\n",
       "<td>0.8825805</td>\n",
       "<td>0.8825805</td>\n",
       "<td>0.0285628</td></tr>\n",
       "<tr><td>country_Ukraine</td>\n",
       "<td>0.8308105</td>\n",
       "<td>0.8308105</td>\n",
       "<td>0.0268873</td></tr>\n",
       "<tr><td>country_United_States_of_America</td>\n",
       "<td>0.7165332</td>\n",
       "<td>0.7165332</td>\n",
       "<td>0.0231890</td></tr>\n",
       "<tr><td>country_SUMprofileTable_yearly_compensation</td>\n",
       "<td>0.7129788</td>\n",
       "<td>0.7129788</td>\n",
       "<td>0.0230740</td></tr>\n",
       "<tr><td>Total_Experience</td>\n",
       "<td>0.7034249</td>\n",
       "<td>0.7034249</td>\n",
       "<td>0.0227648</td></tr>\n",
       "<tr><td>country_Thailand</td>\n",
       "<td>0.6894102</td>\n",
       "<td>0.6894102</td>\n",
       "<td>0.0223112</td></tr>\n",
       "<tr><td>country_Austria</td>\n",
       "<td>0.6892593</td>\n",
       "<td>0.6892593</td>\n",
       "<td>0.0223063</td></tr>\n",
       "<tr><td>RecommendedLanguage_MEANprofileTable_yearly_compensation</td>\n",
       "<td>0.6722112</td>\n",
       "<td>0.6722112</td>\n",
       "<td>0.0217546</td></tr>\n",
       "<tr><td>---</td>\n",
       "<td>---</td>\n",
       "<td>---</td>\n",
       "<td>---</td></tr>\n",
       "<tr><td>country_Switzerland</td>\n",
       "<td>0.5548732</td>\n",
       "<td>0.5548732</td>\n",
       "<td>0.0179572</td></tr>\n",
       "<tr><td>job_title_Product/Project_Manager</td>\n",
       "<td>0.5494499</td>\n",
       "<td>0.5494499</td>\n",
       "<td>0.0177817</td></tr>\n",
       "<tr><td>job_title_Software_Engineer</td>\n",
       "<td>0.5478628</td>\n",
       "<td>0.5478628</td>\n",
       "<td>0.0177304</td></tr>\n",
       "<tr><td>IncomeCategory_SUMprofileTable_yearly_compensation</td>\n",
       "<td>0.5477347</td>\n",
       "<td>0.5477347</td>\n",
       "<td>0.0177262</td></tr>\n",
       "<tr><td>country_Philippines</td>\n",
       "<td>0.5452268</td>\n",
       "<td>0.5452268</td>\n",
       "<td>0.0176451</td></tr>\n",
       "<tr><td>job_title_Research_Scientist</td>\n",
       "<td>0.5381987</td>\n",
       "<td>0.5381987</td>\n",
       "<td>0.0174176</td></tr>\n",
       "<tr><td>company_COUNTprofileTable</td>\n",
       "<td>0.5326409</td>\n",
       "<td>0.5326409</td>\n",
       "<td>0.0172377</td></tr>\n",
       "<tr><td>jobTitle_SUMprofileTable_yearly_compensation</td>\n",
       "<td>0.5202758</td>\n",
       "<td>0.5202758</td>\n",
       "<td>0.0168376</td></tr>\n",
       "<tr><td>mlIncorporation_MEANprofileTable_yearly_compensation</td>\n",
       "<td>0.5094476</td>\n",
       "<td>0.5094476</td>\n",
       "<td>0.0164871</td></tr>\n",
       "<tr><td>job_title_Data_Scientist</td>\n",
       "<td>0.4684333</td>\n",
       "<td>0.4684333</td>\n",
       "<td>0.0151598</td></tr></tbody>\n",
       "  </table>\n",
       "</div>\n",
       "<pre style='font-size: smaller; margin-bottom: 1em;'>[50 rows x 4 columns]</pre></div><pre style=\"font-size: smaller; margin: 1em 0 0 0;\">\n",
       "\n",
       "[tips]\n",
       "Use `model.explain()` to inspect the model.\n",
       "--\n",
       "Use `h2o.display.toggle_user_tips()` to switch on/off this section.</pre>"
      ],
      "text/plain": [
       "Model Details\n",
       "=============\n",
       "H2ODeepLearningEstimator : Deep Learning\n",
       "Model Key: DeepLearning_model_python_1735399311316_7\n",
       "\n",
       "\n",
       "Status of Neuron Layers: predicting yearly_compensation, regression, gaussian distribution, Quadratic loss, 50,601 weights/biases, 613.2 KB, 54,590 training samples, mini-batch size 1\n",
       "    layer    units    type       dropout    l1    l2    mean_rate              rate_rms               momentum    mean_weight            weight_rms           mean_bias              bias_rms\n",
       "--  -------  -------  ---------  ---------  ----  ----  ---------------------  ---------------------  ----------  ---------------------  -------------------  ---------------------  -----------------------\n",
       "    1        50       Input      0.0\n",
       "    2        200      Rectifier  0.0        0.0   0.0   0.20040669322814791    0.10190296173095703    0.0         0.0013313539829755883  0.09551414847373962  0.45080205574796905    0.06801745295524597\n",
       "    3        200      Rectifier  0.0        0.0   0.0   0.39621103298155214    0.33017098903656006    0.0         -0.015933988819990218  0.07121986150741577  0.9565160891049319     0.025408603250980377\n",
       "    4        1        Linear                0.0   0.0   0.0067210645024897535  0.0030024591833353043  0.0         0.0024631587121621123  0.04379303753376007  -0.019296261689081214  1.0971281125650402e-154\n",
       "\n",
       "ModelMetricsRegression: deeplearning\n",
       "** Reported on train data. **\n",
       "\n",
       "MSE: 0.11562223122086344\n",
       "RMSE: 0.3400326914001997\n",
       "MAE: 0.2645070335302583\n",
       "RMSLE: 0.13644538159082265\n",
       "Mean Residual Deviance: 0.11562223122086344\n",
       "\n",
       "ModelMetricsRegression: deeplearning\n",
       "** Reported on validation data. **\n",
       "\n",
       "MSE: 0.15104084770059478\n",
       "RMSE: 0.3886397402487229\n",
       "MAE: 0.29829890390871977\n",
       "RMSLE: 0.1444320786637511\n",
       "Mean Residual Deviance: 0.15104084770059478\n",
       "\n",
       "Scoring History: \n",
       "    timestamp            duration    training_speed    epochs    iterations    samples    training_rmse    training_deviance    training_mae    training_r2    validation_rmse    validation_deviance    validation_mae    validation_r2\n",
       "--  -------------------  ----------  ----------------  --------  ------------  ---------  ---------------  -------------------  --------------  -------------  -----------------  ---------------------  ----------------  ---------------\n",
       "    2024-12-29 00:29:29  0.000 sec                     0         0             0          nan              nan                  nan             nan            nan                nan                    nan               nan\n",
       "    2024-12-29 00:29:30  1.676 sec   4626 obs/sec      1         1             5459       1.18888          1.41343              0.928474        0.975371       1.2615             1.59139                0.968249          0.97229\n",
       "    2024-12-29 00:29:35  7.038 sec   7160 obs/sec      8         8             43672      0.333821         0.111436             0.258673        0.998058       0.419723           0.176167               0.31569           0.996932\n",
       "    2024-12-29 00:29:37  8.426 sec   7545 obs/sec      10        10            54590      0.340033         0.115622             0.264507        0.997985       0.38864            0.151041               0.298299          0.99737\n",
       "\n",
       "Variable Importances: \n",
       "variable                                                  relative_importance    scaled_importance    percentage\n",
       "--------------------------------------------------------  ---------------------  -------------------  --------------------\n",
       "job_title_Data_Engineer                                   1.0                    1.0                  0.032362774387563985\n",
       "used_tpu                                                  0.8924959301948547     0.8924959301948547   0.028883644430715137\n",
       "ml_spending                                               0.8825805187225342     0.8825805187225342   0.028562754206276565\n",
       "country_Ukraine                                           0.8308104872703552     0.8308104872703552   0.026887332358352604\n",
       "country_United_States_of_America                          0.7165332436561584     0.7165332436561584   0.02318900370563367\n",
       "country_SUMprofileTable_yearly_compensation               0.7129787802696228     0.7129787802696228   0.023073971408986357\n",
       "Total_Experience                                          0.703424870967865      0.703424870967865    0.022764780397734323\n",
       "country_Thailand                                          0.6894101500511169     0.6894101500511169   0.02231122514660093\n",
       "country_Austria                                           0.6892592906951904     0.6892592906951904   0.022306342919300826\n",
       "RecommendedLanguage_MEANprofileTable_yearly_compensation  0.672211229801178      0.672211229801178    0.02175462037084245\n",
       "---                                                       ---                    ---                  ---\n",
       "country_Switzerland                                       0.5548732280731201     0.5548732280731201   0.017957237093829723\n",
       "job_title_Product/Project_Manager                         0.5494498610496521     0.5494498610496521   0.01778172189042827\n",
       "job_title_Software_Engineer                               0.5478628277778625     0.5478628277778625   0.01773036109070779\n",
       "IncomeCategory_SUMprofileTable_yearly_compensation        0.5477346777915955     0.5477346777915955   0.017726213801614456\n",
       "country_Philippines                                       0.5452268123626709     0.5452268123626709   0.0176450523185438\n",
       "job_title_Research_Scientist                              0.538198709487915      0.538198709487915    0.017417603410835487\n",
       "company_COUNTprofileTable                                 0.5326409339904785     0.5326409339904785   0.017237738376315218\n",
       "jobTitle_SUMprofileTable_yearly_compensation              0.5202758312225342     0.5202758312225342   0.01683756934515719\n",
       "mlIncorporation_MEANprofileTable_yearly_compensation      0.5094475746154785     0.5094475746154785   0.0164871369195724\n",
       "job_title_Data_Scientist                                  0.46843332052230835    0.46843332052230835  0.015159801867680912\n",
       "[50 rows x 4 columns]\n",
       "\n",
       "\n",
       "[tips]\n",
       "Use `model.explain()` to inspect the model.\n",
       "--\n",
       "Use `h2o.display.toggle_user_tips()` to switch on/off this section."
      ]
     },
     "metadata": {},
     "output_type": "display_data"
    }
   ],
   "source": [
    "# Train Default Deep Learning Model\n",
    "default_dl_model = H2ODeepLearningEstimator(seed=42)\n",
    "default_dl_model.train(x=features, y=target, training_frame=train_h2o, validation_frame=val_h2o)"
   ]
  },
  {
   "cell_type": "code",
   "execution_count": null,
   "metadata": {},
   "outputs": [
    {
     "name": "stdout",
     "output_type": "stream",
     "text": [
      "Default Deep Learning Model Performance:\n",
      "ModelMetricsRegression: deeplearning\n",
      "** Reported on test data. **\n",
      "\n",
      "MSE: 0.17463401534693082\n",
      "RMSE: 0.41789234899305205\n",
      "MAE: 0.32230853365925477\n",
      "RMSLE: 0.1474763140332855\n",
      "Mean Residual Deviance: 0.17463401534693082\n"
     ]
    }
   ],
   "source": [
    "# Evaluate Default Model\n",
    "default_performance = default_dl_model.model_performance(test_h2o)\n",
    "print(\"Default Deep Learning Model Performance:\")\n",
    "print(default_performance)"
   ]
  },
  {
   "cell_type": "code",
   "execution_count": null,
   "metadata": {},
   "outputs": [],
   "source": [
    "# Record default model performance\n",
    "record_model(\"Default Deep Learning Model\", {\"seed\": 42}, default_performance)"
   ]
  },
  {
   "cell_type": "markdown",
   "metadata": {},
   "source": [
    "### Hyperparameter Optimization with Optuna <br/>\n",
    "Optuna performs hyperparameter tuning using an efficient sampling strategy. The objective function trains the model with sampled hyperparameters and evaluates its validation RMSE. The best hyperparameters are selected after multiple trials."
   ]
  },
  {
   "cell_type": "code",
   "execution_count": null,
   "metadata": {},
   "outputs": [],
   "source": [
    "# Step 3: Hyperparameter Optimization using Optuna\n",
    "def objective(trial):\n",
    "    # Define hyperparameter search space\n",
    "    params = {\n",
    "        \"epochs\": trial.suggest_int(\"epochs\", 10, 100),\n",
    "        \"hidden\": trial.suggest_categorical(\"hidden\", [[50, 50], [100, 100], [200, 200]]),\n",
    "        \"input_dropout_ratio\": trial.suggest_uniform(\"input_dropout_ratio\", 0.0, 0.5),\n",
    "        \"l1\": trial.suggest_loguniform(\"l1\", 1e-6, 1e-3),\n",
    "        \"l2\": trial.suggest_loguniform(\"l2\", 1e-6, 1e-3),\n",
    "        \"activation\": trial.suggest_categorical(\"activation\", [\"Rectifier\", \"Tanh\", \"Maxout\"]),\n",
    "    }\n",
    "    \n",
    "    # Train Deep Learning Model with hyperparameters\n",
    "    model = H2ODeepLearningEstimator(**params, seed=42)\n",
    "    model.train(x=features, y=target, training_frame=train_h2o, validation_frame=val_h2o)\n",
    "    \n",
    "    # Get validation performance (use RMSE as optimization target)\n",
    "    performance = model.model_performance(val_h2o)\n",
    "    return performance.rmse()"
   ]
  },
  {
   "cell_type": "code",
   "execution_count": null,
   "metadata": {},
   "outputs": [
    {
     "name": "stderr",
     "output_type": "stream",
     "text": [
      "[I 2024-12-29 00:29:42,859] A new study created in memory with name: no-name-e4712640-d386-4350-ae84-23414ccb4423\n"
     ]
    },
    {
     "name": "stderr",
     "output_type": "stream",
     "text": [
      "c:\\Users\\Huawei\\OneDrive - Universiti Malaya\\Desktop\\SEMESTER 7\\WIE3007_Data-Mining\\Group Project\\data-mining-warehousing-wages-analysis\\venv\\lib\\site-packages\\optuna\\distributions.py:524: UserWarning: Choices for a categorical distribution should be a tuple of None, bool, int, float and str for persistent storage but contains [50, 50] which is of type list.\n",
      "  warnings.warn(message)\n",
      "c:\\Users\\Huawei\\OneDrive - Universiti Malaya\\Desktop\\SEMESTER 7\\WIE3007_Data-Mining\\Group Project\\data-mining-warehousing-wages-analysis\\venv\\lib\\site-packages\\optuna\\distributions.py:524: UserWarning: Choices for a categorical distribution should be a tuple of None, bool, int, float and str for persistent storage but contains [100, 100] which is of type list.\n",
      "  warnings.warn(message)\n",
      "c:\\Users\\Huawei\\OneDrive - Universiti Malaya\\Desktop\\SEMESTER 7\\WIE3007_Data-Mining\\Group Project\\data-mining-warehousing-wages-analysis\\venv\\lib\\site-packages\\optuna\\distributions.py:524: UserWarning: Choices for a categorical distribution should be a tuple of None, bool, int, float and str for persistent storage but contains [200, 200] which is of type list.\n",
      "  warnings.warn(message)\n",
      "C:\\Users\\Huawei\\AppData\\Local\\Temp\\ipykernel_19556\\1992653952.py:7: FutureWarning: suggest_uniform has been deprecated in v3.0.0. This feature will be removed in v6.0.0. See https://github.com/optuna/optuna/releases/tag/v3.0.0. Use suggest_float instead.\n",
      "  \"input_dropout_ratio\": trial.suggest_uniform(\"input_dropout_ratio\", 0.0, 0.5),\n",
      "C:\\Users\\Huawei\\AppData\\Local\\Temp\\ipykernel_19556\\1992653952.py:8: FutureWarning: suggest_loguniform has been deprecated in v3.0.0. This feature will be removed in v6.0.0. See https://github.com/optuna/optuna/releases/tag/v3.0.0. Use suggest_float(..., log=True) instead.\n",
      "  \"l1\": trial.suggest_loguniform(\"l1\", 1e-6, 1e-3),\n",
      "C:\\Users\\Huawei\\AppData\\Local\\Temp\\ipykernel_19556\\1992653952.py:9: FutureWarning: suggest_loguniform has been deprecated in v3.0.0. This feature will be removed in v6.0.0. See https://github.com/optuna/optuna/releases/tag/v3.0.0. Use suggest_float(..., log=True) instead.\n",
      "  \"l2\": trial.suggest_loguniform(\"l2\", 1e-6, 1e-3),\n"
     ]
    },
    {
     "name": "stdout",
     "output_type": "stream",
     "text": [
      "deeplearning Model Build progress: |█████████████████████████████████████████████| (done) 100%\n"
     ]
    },
    {
     "name": "stderr",
     "output_type": "stream",
     "text": [
      "[I 2024-12-29 00:31:39,725] Trial 0 finished with value: 0.19440924416723668 and parameters: {'epochs': 42, 'hidden': [200, 200], 'input_dropout_ratio': 0.00026745724984855723, 'l1': 6.893661461455753e-06, 'l2': 0.0007896026535373353, 'activation': 'Maxout'}. Best is trial 0 with value: 0.19440924416723668.\n"
     ]
    },
    {
     "name": "stdout",
     "output_type": "stream",
     "text": [
      "deeplearning Model Build progress: |█████████████████████████████████████████████| (done) 100%\n"
     ]
    },
    {
     "name": "stderr",
     "output_type": "stream",
     "text": [
      "[I 2024-12-29 00:32:35,049] Trial 1 finished with value: 1.3258625887990734 and parameters: {'epochs': 29, 'hidden': [200, 200], 'input_dropout_ratio': 0.28814156778198313, 'l1': 0.00027332229182007206, 'l2': 0.00017841999209665093, 'activation': 'Tanh'}. Best is trial 0 with value: 0.19440924416723668.\n"
     ]
    },
    {
     "name": "stdout",
     "output_type": "stream",
     "text": [
      "deeplearning Model Build progress: |█████████████████████████████████████████████| (done) 100%\n"
     ]
    },
    {
     "name": "stderr",
     "output_type": "stream",
     "text": [
      "[I 2024-12-29 00:32:55,257] Trial 2 finished with value: 1.634747257157558 and parameters: {'epochs': 72, 'hidden': [100, 100], 'input_dropout_ratio': 0.318516456857556, 'l1': 0.00019395812581802688, 'l2': 7.3328662521291e-06, 'activation': 'Rectifier'}. Best is trial 0 with value: 0.19440924416723668.\n"
     ]
    },
    {
     "name": "stdout",
     "output_type": "stream",
     "text": [
      "deeplearning Model Build progress: |█████████████████████████████████████████████| (done) 100%\n"
     ]
    },
    {
     "name": "stderr",
     "output_type": "stream",
     "text": [
      "[I 2024-12-29 00:33:16,431] Trial 3 finished with value: 1.2832072004390995 and parameters: {'epochs': 53, 'hidden': [50, 50], 'input_dropout_ratio': 0.14563924472250578, 'l1': 7.988093226347808e-06, 'l2': 1.081032819932921e-05, 'activation': 'Maxout'}. Best is trial 0 with value: 0.19440924416723668.\n"
     ]
    },
    {
     "name": "stdout",
     "output_type": "stream",
     "text": [
      "deeplearning Model Build progress: |█████████████████████████████████████████████| (done) 100%\n"
     ]
    },
    {
     "name": "stderr",
     "output_type": "stream",
     "text": [
      "[I 2024-12-29 00:33:35,646] Trial 4 finished with value: 0.7368232134017909 and parameters: {'epochs': 52, 'hidden': [50, 50], 'input_dropout_ratio': 0.03874356909610871, 'l1': 2.4106046846133187e-05, 'l2': 2.144735567480832e-05, 'activation': 'Maxout'}. Best is trial 0 with value: 0.19440924416723668.\n"
     ]
    },
    {
     "name": "stdout",
     "output_type": "stream",
     "text": [
      "deeplearning Model Build progress: |█████████████████████████████████████████████| (done) 100%\n"
     ]
    },
    {
     "name": "stderr",
     "output_type": "stream",
     "text": [
      "[I 2024-12-29 00:35:45,866] Trial 5 finished with value: 1.611695802529085 and parameters: {'epochs': 76, 'hidden': [200, 200], 'input_dropout_ratio': 0.34420899734364513, 'l1': 0.00024473462572799674, 'l2': 2.0137300272973865e-05, 'activation': 'Tanh'}. Best is trial 0 with value: 0.19440924416723668.\n"
     ]
    },
    {
     "name": "stdout",
     "output_type": "stream",
     "text": [
      "deeplearning Model Build progress: |█████████████████████████████████████████████| (done) 100%\n"
     ]
    },
    {
     "name": "stderr",
     "output_type": "stream",
     "text": [
      "[I 2024-12-29 00:37:48,087] Trial 6 finished with value: 1.3204399784467176 and parameters: {'epochs': 48, 'hidden': [200, 200], 'input_dropout_ratio': 0.19764556109624187, 'l1': 0.0003363273435900321, 'l2': 0.00027856336597624997, 'activation': 'Maxout'}. Best is trial 0 with value: 0.19440924416723668.\n"
     ]
    },
    {
     "name": "stdout",
     "output_type": "stream",
     "text": [
      "deeplearning Model Build progress: |█████████████████████████████████████████████| (done) 100%\n"
     ]
    },
    {
     "name": "stderr",
     "output_type": "stream",
     "text": [
      "[I 2024-12-29 00:38:02,415] Trial 7 finished with value: 0.5482873879057968 and parameters: {'epochs': 24, 'hidden': [100, 100], 'input_dropout_ratio': 0.01782356632052151, 'l1': 1.5156726405854706e-05, 'l2': 0.0008382895628739779, 'activation': 'Rectifier'}. Best is trial 0 with value: 0.19440924416723668.\n"
     ]
    },
    {
     "name": "stdout",
     "output_type": "stream",
     "text": [
      "deeplearning Model Build progress: |█████████████████████████████████████████████| (done) 100%\n"
     ]
    },
    {
     "name": "stderr",
     "output_type": "stream",
     "text": [
      "[I 2024-12-29 00:38:13,056] Trial 8 finished with value: 1.0548193429126034 and parameters: {'epochs': 30, 'hidden': [50, 50], 'input_dropout_ratio': 0.11916323491184594, 'l1': 5.442544811038452e-05, 'l2': 6.270224339653445e-05, 'activation': 'Rectifier'}. Best is trial 0 with value: 0.19440924416723668.\n"
     ]
    },
    {
     "name": "stdout",
     "output_type": "stream",
     "text": [
      "deeplearning Model Build progress: |█████████████████████████████████████████████| (done) 100%\n"
     ]
    },
    {
     "name": "stderr",
     "output_type": "stream",
     "text": [
      "[I 2024-12-29 00:38:31,243] Trial 9 finished with value: 1.2044782814433805 and parameters: {'epochs': 94, 'hidden': [50, 50], 'input_dropout_ratio': 0.1587875174035639, 'l1': 5.97442814239806e-06, 'l2': 3.12801044671335e-06, 'activation': 'Rectifier'}. Best is trial 0 with value: 0.19440924416723668.\n"
     ]
    },
    {
     "name": "stdout",
     "output_type": "stream",
     "text": [
      "deeplearning Model Build progress: |█████████████████████████████████████████████| (done) 100%\n"
     ]
    },
    {
     "name": "stderr",
     "output_type": "stream",
     "text": [
      "[I 2024-12-29 00:39:13,122] Trial 10 finished with value: 2.06584952211662 and parameters: {'epochs': 14, 'hidden': [200, 200], 'input_dropout_ratio': 0.45207188149700694, 'l1': 1.2586308837063503e-06, 'l2': 1.0865552017995012e-06, 'activation': 'Maxout'}. Best is trial 0 with value: 0.19440924416723668.\n"
     ]
    },
    {
     "name": "stdout",
     "output_type": "stream",
     "text": [
      "deeplearning Model Build progress: |█████████████████████████████████████████████| (done) 100%\n"
     ]
    },
    {
     "name": "stderr",
     "output_type": "stream",
     "text": [
      "[I 2024-12-29 00:39:27,923] Trial 11 finished with value: 0.35851053339713695 and parameters: {'epochs': 31, 'hidden': [100, 100], 'input_dropout_ratio': 0.004286391488563992, 'l1': 4.485454289832473e-06, 'l2': 0.000841119327548078, 'activation': 'Rectifier'}. Best is trial 0 with value: 0.19440924416723668.\n"
     ]
    },
    {
     "name": "stdout",
     "output_type": "stream",
     "text": [
      "deeplearning Model Build progress: |█████████████████████████████████████████████| (done) 100%\n"
     ]
    },
    {
     "name": "stderr",
     "output_type": "stream",
     "text": [
      "[I 2024-12-29 00:39:45,385] Trial 12 finished with value: 0.7945864298144273 and parameters: {'epochs': 40, 'hidden': [100, 100], 'input_dropout_ratio': 0.060099704092667, 'l1': 1.925979397685232e-06, 'l2': 0.0009323099415308876, 'activation': 'Rectifier'}. Best is trial 0 with value: 0.19440924416723668.\n"
     ]
    },
    {
     "name": "stdout",
     "output_type": "stream",
     "text": [
      "deeplearning Model Build progress: |█████████████████████████████████████████████| (done) 100%\n"
     ]
    },
    {
     "name": "stderr",
     "output_type": "stream",
     "text": [
      "[I 2024-12-29 00:40:42,497] Trial 13 finished with value: 0.31371684941472333 and parameters: {'epochs': 65, 'hidden': [100, 100], 'input_dropout_ratio': 0.006527424790946257, 'l1': 3.985843920009758e-06, 'l2': 0.00023080492111863114, 'activation': 'Maxout'}. Best is trial 0 with value: 0.19440924416723668.\n"
     ]
    },
    {
     "name": "stdout",
     "output_type": "stream",
     "text": [
      "deeplearning Model Build progress: |██████████████████████████████████"
     ]
    }
   ],
   "source": [
    "# Perform hyperparameter optimization\n",
    "study = optuna.create_study(direction=\"minimize\")\n",
    "study.optimize(objective, n_trials=20)\n"
   ]
  },
  {
   "cell_type": "code",
   "execution_count": null,
   "metadata": {},
   "outputs": [
    {
     "name": "stdout",
     "output_type": "stream",
     "text": [
      "Best Hyperparameters:\n",
      "{'epochs': 52, 'hidden': [100, 100], 'input_dropout_ratio': 0.008342451696622868, 'l1': 0.00012151328066147507, 'l2': 0.0001678209282947037, 'activation': 'Tanh'}\n"
     ]
    }
   ],
   "source": [
    "# Best Hyperparameters\n",
    "best_params = study.best_params\n",
    "print(\"Best Hyperparameters:\")\n",
    "print(best_params)"
   ]
  },
  {
   "cell_type": "code",
   "execution_count": null,
   "metadata": {},
   "outputs": [],
   "source": [
    "optuna.visualization.plot_optimization_history(study)"
   ]
  },
  {
   "cell_type": "code",
   "execution_count": null,
   "metadata": {},
   "outputs": [],
   "source": [
    "optuna.visualization.plot_slice(study)"
   ]
  },
  {
   "cell_type": "markdown",
   "metadata": {},
   "source": [
    "### Train Deep Learning Model with Best Hyperparameters <br/>\n",
    "The deep learning model is trained using the best hyperparameters found through Optuna. This approach aims to enhance performance metrics by optimizing key parameters such as the number of epochs, hidden layers, and dropout ratios."
   ]
  },
  {
   "cell_type": "code",
   "execution_count": null,
   "metadata": {},
   "outputs": [
    {
     "name": "stdout",
     "output_type": "stream",
     "text": [
      "deeplearning Model Build progress: |█████████████████████████████████████████████| (done) 100%\n"
     ]
    },
    {
     "data": {
      "text/html": [
       "<pre style='margin: 1em 0 1em 0;'>Model Details\n",
       "=============\n",
       "H2ODeepLearningEstimator : Deep Learning\n",
       "Model Key: DeepLearning_model_python_1735396813160_22\n",
       "</pre>\n",
       "<div style='margin: 1em 0 1em 0;'>\n",
       "<style>\n",
       "\n",
       "#h2o-table-5.h2o-container {\n",
       "  overflow-x: auto;\n",
       "}\n",
       "#h2o-table-5 .h2o-table {\n",
       "  /* width: 100%; */\n",
       "  margin-top: 1em;\n",
       "  margin-bottom: 1em;\n",
       "}\n",
       "#h2o-table-5 .h2o-table caption {\n",
       "  white-space: nowrap;\n",
       "  caption-side: top;\n",
       "  text-align: left;\n",
       "  /* margin-left: 1em; */\n",
       "  margin: 0;\n",
       "  font-size: larger;\n",
       "}\n",
       "#h2o-table-5 .h2o-table thead {\n",
       "  white-space: nowrap; \n",
       "  position: sticky;\n",
       "  top: 0;\n",
       "  box-shadow: 0 -1px inset;\n",
       "}\n",
       "#h2o-table-5 .h2o-table tbody {\n",
       "  overflow: auto;\n",
       "}\n",
       "#h2o-table-5 .h2o-table th,\n",
       "#h2o-table-5 .h2o-table td {\n",
       "  text-align: right;\n",
       "  /* border: 1px solid; */\n",
       "}\n",
       "#h2o-table-5 .h2o-table tr:nth-child(even) {\n",
       "  /* background: #F5F5F5 */\n",
       "}\n",
       "\n",
       "</style>      \n",
       "<div id=\"h2o-table-5\" class=\"h2o-container\">\n",
       "  <table class=\"h2o-table\">\n",
       "    <caption>Status of Neuron Layers: predicting yearly_compensation, regression, gaussian distribution, Quadratic loss, 15,301 weights/biases, 197.2 KB, 283,937 training samples, mini-batch size 1</caption>\n",
       "    <thead><tr><th></th>\n",
       "<th>layer</th>\n",
       "<th>units</th>\n",
       "<th>type</th>\n",
       "<th>dropout</th>\n",
       "<th>l1</th>\n",
       "<th>l2</th>\n",
       "<th>mean_rate</th>\n",
       "<th>rate_rms</th>\n",
       "<th>momentum</th>\n",
       "<th>mean_weight</th>\n",
       "<th>weight_rms</th>\n",
       "<th>mean_bias</th>\n",
       "<th>bias_rms</th></tr></thead>\n",
       "    <tbody><tr><td></td>\n",
       "<td>1</td>\n",
       "<td>50</td>\n",
       "<td>Input</td>\n",
       "<td>0.8342452</td>\n",
       "<td></td>\n",
       "<td></td>\n",
       "<td></td>\n",
       "<td></td>\n",
       "<td></td>\n",
       "<td></td>\n",
       "<td></td>\n",
       "<td></td>\n",
       "<td></td></tr>\n",
       "<tr><td></td>\n",
       "<td>2</td>\n",
       "<td>100</td>\n",
       "<td>Tanh</td>\n",
       "<td>0.0</td>\n",
       "<td>0.0001215</td>\n",
       "<td>0.0001678</td>\n",
       "<td>0.8816644</td>\n",
       "<td>0.3059335</td>\n",
       "<td>0.0</td>\n",
       "<td>0.0001598</td>\n",
       "<td>0.0254350</td>\n",
       "<td>0.0019210</td>\n",
       "<td>0.0380167</td></tr>\n",
       "<tr><td></td>\n",
       "<td>3</td>\n",
       "<td>100</td>\n",
       "<td>Tanh</td>\n",
       "<td>0.0</td>\n",
       "<td>0.0001215</td>\n",
       "<td>0.0001678</td>\n",
       "<td>0.9831108</td>\n",
       "<td>0.0942007</td>\n",
       "<td>0.0</td>\n",
       "<td>-0.0001319</td>\n",
       "<td>0.0122083</td>\n",
       "<td>-0.0021567</td>\n",
       "<td>0.0421184</td></tr>\n",
       "<tr><td></td>\n",
       "<td>4</td>\n",
       "<td>1</td>\n",
       "<td>Linear</td>\n",
       "<td></td>\n",
       "<td>0.0001215</td>\n",
       "<td>0.0001678</td>\n",
       "<td>0.9147559</td>\n",
       "<td>0.2606895</td>\n",
       "<td>0.0</td>\n",
       "<td>0.0154104</td>\n",
       "<td>0.1159600</td>\n",
       "<td>0.1144471</td>\n",
       "<td>0.0000000</td></tr></tbody>\n",
       "  </table>\n",
       "</div>\n",
       "</div>\n",
       "<div style='margin: 1em 0 1em 0;'><pre style='margin: 1em 0 1em 0;'>ModelMetricsRegression: deeplearning\n",
       "** Reported on train data. **\n",
       "\n",
       "MSE: 0.27756077170129484\n",
       "RMSE: 0.5268403664311371\n",
       "MAE: 0.4120253335724394\n",
       "RMSLE: NaN\n",
       "Mean Residual Deviance: 0.27756077170129484</pre></div>\n",
       "<div style='margin: 1em 0 1em 0;'><pre style='margin: 1em 0 1em 0;'>ModelMetricsRegression: deeplearning\n",
       "** Reported on validation data. **\n",
       "\n",
       "MSE: 0.2724192791433427\n",
       "RMSE: 0.5219380031606653\n",
       "MAE: 0.4129254043351014\n",
       "RMSLE: 0.18057140597074758\n",
       "Mean Residual Deviance: 0.2724192791433427</pre></div>\n",
       "<div style='margin: 1em 0 1em 0;'>\n",
       "<style>\n",
       "\n",
       "#h2o-table-6.h2o-container {\n",
       "  overflow-x: auto;\n",
       "}\n",
       "#h2o-table-6 .h2o-table {\n",
       "  /* width: 100%; */\n",
       "  margin-top: 1em;\n",
       "  margin-bottom: 1em;\n",
       "}\n",
       "#h2o-table-6 .h2o-table caption {\n",
       "  white-space: nowrap;\n",
       "  caption-side: top;\n",
       "  text-align: left;\n",
       "  /* margin-left: 1em; */\n",
       "  margin: 0;\n",
       "  font-size: larger;\n",
       "}\n",
       "#h2o-table-6 .h2o-table thead {\n",
       "  white-space: nowrap; \n",
       "  position: sticky;\n",
       "  top: 0;\n",
       "  box-shadow: 0 -1px inset;\n",
       "}\n",
       "#h2o-table-6 .h2o-table tbody {\n",
       "  overflow: auto;\n",
       "}\n",
       "#h2o-table-6 .h2o-table th,\n",
       "#h2o-table-6 .h2o-table td {\n",
       "  text-align: right;\n",
       "  /* border: 1px solid; */\n",
       "}\n",
       "#h2o-table-6 .h2o-table tr:nth-child(even) {\n",
       "  /* background: #F5F5F5 */\n",
       "}\n",
       "\n",
       "</style>      \n",
       "<div id=\"h2o-table-6\" class=\"h2o-container\">\n",
       "  <table class=\"h2o-table\">\n",
       "    <caption>Scoring History: </caption>\n",
       "    <thead><tr><th></th>\n",
       "<th>timestamp</th>\n",
       "<th>duration</th>\n",
       "<th>training_speed</th>\n",
       "<th>epochs</th>\n",
       "<th>iterations</th>\n",
       "<th>samples</th>\n",
       "<th>training_rmse</th>\n",
       "<th>training_deviance</th>\n",
       "<th>training_mae</th>\n",
       "<th>training_r2</th>\n",
       "<th>validation_rmse</th>\n",
       "<th>validation_deviance</th>\n",
       "<th>validation_mae</th>\n",
       "<th>validation_r2</th></tr></thead>\n",
       "    <tbody><tr><td></td>\n",
       "<td>2024-12-28 22:52:17</td>\n",
       "<td> 0.000 sec</td>\n",
       "<td>None</td>\n",
       "<td>0.0</td>\n",
       "<td>0</td>\n",
       "<td>0.0</td>\n",
       "<td>nan</td>\n",
       "<td>nan</td>\n",
       "<td>nan</td>\n",
       "<td>nan</td>\n",
       "<td>nan</td>\n",
       "<td>nan</td>\n",
       "<td>nan</td>\n",
       "<td>nan</td></tr>\n",
       "<tr><td></td>\n",
       "<td>2024-12-28 22:52:20</td>\n",
       "<td> 2.822 sec</td>\n",
       "<td>10470 obs/sec</td>\n",
       "<td>5.1976552</td>\n",
       "<td>1</td>\n",
       "<td>28374.0</td>\n",
       "<td>0.7517335</td>\n",
       "<td>0.5651033</td>\n",
       "<td>0.5743227</td>\n",
       "<td>0.9901531</td>\n",
       "<td>0.7582119</td>\n",
       "<td>0.5748853</td>\n",
       "<td>0.5646446</td>\n",
       "<td>0.9899898</td></tr>\n",
       "<tr><td></td>\n",
       "<td>2024-12-28 22:52:25</td>\n",
       "<td> 8.271 sec</td>\n",
       "<td>10542 obs/sec</td>\n",
       "<td>15.5909507</td>\n",
       "<td>3</td>\n",
       "<td>85111.0</td>\n",
       "<td>0.5833219</td>\n",
       "<td>0.3402645</td>\n",
       "<td>0.4462536</td>\n",
       "<td>0.9940709</td>\n",
       "<td>0.6064818</td>\n",
       "<td>0.3678202</td>\n",
       "<td>0.4614304</td>\n",
       "<td>0.9935953</td></tr>\n",
       "<tr><td></td>\n",
       "<td>2024-12-28 22:52:32</td>\n",
       "<td>14.579 sec</td>\n",
       "<td>9952 obs/sec</td>\n",
       "<td>26.0126397</td>\n",
       "<td>5</td>\n",
       "<td>142003.0</td>\n",
       "<td>0.6031367</td>\n",
       "<td>0.3637739</td>\n",
       "<td>0.4707099</td>\n",
       "<td>0.9936613</td>\n",
       "<td>0.6191633</td>\n",
       "<td>0.3833632</td>\n",
       "<td>0.4926364</td>\n",
       "<td>0.9933247</td></tr>\n",
       "<tr><td></td>\n",
       "<td>2024-12-28 22:52:38</td>\n",
       "<td>20.641 sec</td>\n",
       "<td>9829 obs/sec</td>\n",
       "<td>36.4149112</td>\n",
       "<td>7</td>\n",
       "<td>198789.0</td>\n",
       "<td>0.5116001</td>\n",
       "<td>0.2617346</td>\n",
       "<td>0.3937612</td>\n",
       "<td>0.9954393</td>\n",
       "<td>0.5276004</td>\n",
       "<td>0.2783621</td>\n",
       "<td>0.4059540</td>\n",
       "<td>0.9951530</td></tr>\n",
       "<tr><td></td>\n",
       "<td>2024-12-28 22:52:44</td>\n",
       "<td>26.703 sec</td>\n",
       "<td>9763 obs/sec</td>\n",
       "<td>46.7977652</td>\n",
       "<td>9</td>\n",
       "<td>255469.0</td>\n",
       "<td>0.5268404</td>\n",
       "<td>0.2775608</td>\n",
       "<td>0.4120253</td>\n",
       "<td>0.9951635</td>\n",
       "<td>0.5219380</td>\n",
       "<td>0.2724193</td>\n",
       "<td>0.4129254</td>\n",
       "<td>0.9952565</td></tr>\n",
       "<tr><td></td>\n",
       "<td>2024-12-28 22:52:47</td>\n",
       "<td>29.809 sec</td>\n",
       "<td>9731 obs/sec</td>\n",
       "<td>52.0126397</td>\n",
       "<td>10</td>\n",
       "<td>283937.0</td>\n",
       "<td>0.5515813</td>\n",
       "<td>0.3042419</td>\n",
       "<td>0.4376608</td>\n",
       "<td>0.9946986</td>\n",
       "<td>0.5575225</td>\n",
       "<td>0.3108313</td>\n",
       "<td>0.4421584</td>\n",
       "<td>0.9945876</td></tr>\n",
       "<tr><td></td>\n",
       "<td>2024-12-28 22:52:47</td>\n",
       "<td>29.896 sec</td>\n",
       "<td>9730 obs/sec</td>\n",
       "<td>52.0126397</td>\n",
       "<td>10</td>\n",
       "<td>283937.0</td>\n",
       "<td>0.5268404</td>\n",
       "<td>0.2775608</td>\n",
       "<td>0.4120253</td>\n",
       "<td>0.9951635</td>\n",
       "<td>0.5219380</td>\n",
       "<td>0.2724193</td>\n",
       "<td>0.4129254</td>\n",
       "<td>0.9952565</td></tr></tbody>\n",
       "  </table>\n",
       "</div>\n",
       "</div>\n",
       "<div style='margin: 1em 0 1em 0;'>\n",
       "<style>\n",
       "\n",
       "#h2o-table-7.h2o-container {\n",
       "  overflow-x: auto;\n",
       "}\n",
       "#h2o-table-7 .h2o-table {\n",
       "  /* width: 100%; */\n",
       "  margin-top: 1em;\n",
       "  margin-bottom: 1em;\n",
       "}\n",
       "#h2o-table-7 .h2o-table caption {\n",
       "  white-space: nowrap;\n",
       "  caption-side: top;\n",
       "  text-align: left;\n",
       "  /* margin-left: 1em; */\n",
       "  margin: 0;\n",
       "  font-size: larger;\n",
       "}\n",
       "#h2o-table-7 .h2o-table thead {\n",
       "  white-space: nowrap; \n",
       "  position: sticky;\n",
       "  top: 0;\n",
       "  box-shadow: 0 -1px inset;\n",
       "}\n",
       "#h2o-table-7 .h2o-table tbody {\n",
       "  overflow: auto;\n",
       "}\n",
       "#h2o-table-7 .h2o-table th,\n",
       "#h2o-table-7 .h2o-table td {\n",
       "  text-align: right;\n",
       "  /* border: 1px solid; */\n",
       "}\n",
       "#h2o-table-7 .h2o-table tr:nth-child(even) {\n",
       "  /* background: #F5F5F5 */\n",
       "}\n",
       "\n",
       "</style>      \n",
       "<div id=\"h2o-table-7\" class=\"h2o-container\">\n",
       "  <table class=\"h2o-table\">\n",
       "    <caption>Variable Importances: </caption>\n",
       "    <thead><tr><th>variable</th>\n",
       "<th>relative_importance</th>\n",
       "<th>scaled_importance</th>\n",
       "<th>percentage</th></tr></thead>\n",
       "    <tbody><tr><td>used_tpu</td>\n",
       "<td>1.0</td>\n",
       "<td>1.0</td>\n",
       "<td>0.0274446</td></tr>\n",
       "<tr><td>country_Ukraine</td>\n",
       "<td>0.9816257</td>\n",
       "<td>0.9816257</td>\n",
       "<td>0.0269404</td></tr>\n",
       "<tr><td>country_Philippines</td>\n",
       "<td>0.9349760</td>\n",
       "<td>0.9349760</td>\n",
       "<td>0.0256601</td></tr>\n",
       "<tr><td>ml_spending</td>\n",
       "<td>0.9109827</td>\n",
       "<td>0.9109827</td>\n",
       "<td>0.0250016</td></tr>\n",
       "<tr><td>Total_Experience</td>\n",
       "<td>0.8950585</td>\n",
       "<td>0.8950585</td>\n",
       "<td>0.0245645</td></tr>\n",
       "<tr><td>job_title_Data_Engineer</td>\n",
       "<td>0.8669543</td>\n",
       "<td>0.8669543</td>\n",
       "<td>0.0237932</td></tr>\n",
       "<tr><td>country_Singapore</td>\n",
       "<td>0.8453551</td>\n",
       "<td>0.8453551</td>\n",
       "<td>0.0232005</td></tr>\n",
       "<tr><td>country_Thailand</td>\n",
       "<td>0.8075344</td>\n",
       "<td>0.8075344</td>\n",
       "<td>0.0221625</td></tr>\n",
       "<tr><td>country_Spain</td>\n",
       "<td>0.7780793</td>\n",
       "<td>0.7780793</td>\n",
       "<td>0.0213541</td></tr>\n",
       "<tr><td>company_MEANprofileTable_yearly_compensation</td>\n",
       "<td>0.7715148</td>\n",
       "<td>0.7715148</td>\n",
       "<td>0.0211739</td></tr>\n",
       "<tr><td>---</td>\n",
       "<td>---</td>\n",
       "<td>---</td>\n",
       "<td>---</td></tr>\n",
       "<tr><td>age</td>\n",
       "<td>0.6594344</td>\n",
       "<td>0.6594344</td>\n",
       "<td>0.0180979</td></tr>\n",
       "<tr><td>country_Switzerland</td>\n",
       "<td>0.6452879</td>\n",
       "<td>0.6452879</td>\n",
       "<td>0.0177097</td></tr>\n",
       "<tr><td>job_title_Research_Scientist</td>\n",
       "<td>0.6375483</td>\n",
       "<td>0.6375483</td>\n",
       "<td>0.0174973</td></tr>\n",
       "<tr><td>jobTitle_SUMprofileTable_yearly_compensation_1</td>\n",
       "<td>0.6374173</td>\n",
       "<td>0.6374173</td>\n",
       "<td>0.0174937</td></tr>\n",
       "<tr><td>company_COUNTprofileTable</td>\n",
       "<td>0.6346015</td>\n",
       "<td>0.6346015</td>\n",
       "<td>0.0174164</td></tr>\n",
       "<tr><td>demographics_MEANprofileTable_yearly_compensation</td>\n",
       "<td>0.6304113</td>\n",
       "<td>0.6304113</td>\n",
       "<td>0.0173014</td></tr>\n",
       "<tr><td>country_Poland</td>\n",
       "<td>0.6282192</td>\n",
       "<td>0.6282192</td>\n",
       "<td>0.0172412</td></tr>\n",
       "<tr><td>job_title_Software_Engineer</td>\n",
       "<td>0.6222198</td>\n",
       "<td>0.6222198</td>\n",
       "<td>0.0170766</td></tr>\n",
       "<tr><td>country_Russia</td>\n",
       "<td>0.6019500</td>\n",
       "<td>0.6019500</td>\n",
       "<td>0.0165203</td></tr>\n",
       "<tr><td>job_title_Data_Analyst</td>\n",
       "<td>0.6007071</td>\n",
       "<td>0.6007071</td>\n",
       "<td>0.0164862</td></tr></tbody>\n",
       "  </table>\n",
       "</div>\n",
       "<pre style='font-size: smaller; margin-bottom: 1em;'>[50 rows x 4 columns]</pre></div><pre style=\"font-size: smaller; margin: 1em 0 0 0;\">\n",
       "\n",
       "[tips]\n",
       "Use `model.explain()` to inspect the model.\n",
       "--\n",
       "Use `h2o.display.toggle_user_tips()` to switch on/off this section.</pre>"
      ],
      "text/plain": [
       "Model Details\n",
       "=============\n",
       "H2ODeepLearningEstimator : Deep Learning\n",
       "Model Key: DeepLearning_model_python_1735396813160_22\n",
       "\n",
       "\n",
       "Status of Neuron Layers: predicting yearly_compensation, regression, gaussian distribution, Quadratic loss, 15,301 weights/biases, 197.2 KB, 283,937 training samples, mini-batch size 1\n",
       "    layer    units    type    dropout             l1                      l2                     mean_rate           rate_rms             momentum    mean_weight              weight_rms            mean_bias               bias_rms\n",
       "--  -------  -------  ------  ------------------  ----------------------  ---------------------  ------------------  -------------------  ----------  -----------------------  --------------------  ----------------------  -----------------------\n",
       "    1        50       Input   0.8342451696622868\n",
       "    2        100      Tanh    0.0                 0.00012151328066147507  0.0001678209282947037  0.8816643535090727  0.30593347549438477  0.0         0.00015979995093208998   0.025434978306293488  0.001920957170234406    0.038016676902770996\n",
       "    3        100      Tanh    0.0                 0.00012151328066147507  0.0001678209282947037  0.98311079688319    0.09420070052146912  0.0         -0.00013188497404738805  0.012208331376314163  -0.0021566956655598045  0.04211840033531189\n",
       "    4        1        Linear                      0.00012151328066147507  0.0001678209282947037  0.9147559474781155  0.26068949699401855  0.0         0.015410366349085507     0.115960031747818     0.11444711376612314     1.0971281125650402e-154\n",
       "\n",
       "ModelMetricsRegression: deeplearning\n",
       "** Reported on train data. **\n",
       "\n",
       "MSE: 0.27756077170129484\n",
       "RMSE: 0.5268403664311371\n",
       "MAE: 0.4120253335724394\n",
       "RMSLE: NaN\n",
       "Mean Residual Deviance: 0.27756077170129484\n",
       "\n",
       "ModelMetricsRegression: deeplearning\n",
       "** Reported on validation data. **\n",
       "\n",
       "MSE: 0.2724192791433427\n",
       "RMSE: 0.5219380031606653\n",
       "MAE: 0.4129254043351014\n",
       "RMSLE: 0.18057140597074758\n",
       "Mean Residual Deviance: 0.2724192791433427\n",
       "\n",
       "Scoring History: \n",
       "    timestamp            duration    training_speed    epochs    iterations    samples    training_rmse    training_deviance    training_mae    training_r2    validation_rmse    validation_deviance    validation_mae    validation_r2\n",
       "--  -------------------  ----------  ----------------  --------  ------------  ---------  ---------------  -------------------  --------------  -------------  -----------------  ---------------------  ----------------  ---------------\n",
       "    2024-12-28 22:52:17  0.000 sec                     0         0             0          nan              nan                  nan             nan            nan                nan                    nan               nan\n",
       "    2024-12-28 22:52:20  2.822 sec   10470 obs/sec     5.19766   1             28374      0.751734         0.565103             0.574323        0.990153       0.758212           0.574885               0.564645          0.98999\n",
       "    2024-12-28 22:52:25  8.271 sec   10542 obs/sec     15.591    3             85111      0.583322         0.340264             0.446254        0.994071       0.606482           0.36782                0.46143           0.993595\n",
       "    2024-12-28 22:52:32  14.579 sec  9952 obs/sec      26.0126   5             142003     0.603137         0.363774             0.47071         0.993661       0.619163           0.383363               0.492636          0.993325\n",
       "    2024-12-28 22:52:38  20.641 sec  9829 obs/sec      36.4149   7             198789     0.5116           0.261735             0.393761        0.995439       0.5276             0.278362               0.405954          0.995153\n",
       "    2024-12-28 22:52:44  26.703 sec  9763 obs/sec      46.7978   9             255469     0.52684          0.277561             0.412025        0.995164       0.521938           0.272419               0.412925          0.995256\n",
       "    2024-12-28 22:52:47  29.809 sec  9731 obs/sec      52.0126   10            283937     0.551581         0.304242             0.437661        0.994699       0.557523           0.310831               0.442158          0.994588\n",
       "    2024-12-28 22:52:47  29.896 sec  9730 obs/sec      52.0126   10            283937     0.52684          0.277561             0.412025        0.995164       0.521938           0.272419               0.412925          0.995256\n",
       "\n",
       "Variable Importances: \n",
       "variable                                           relative_importance    scaled_importance    percentage\n",
       "-------------------------------------------------  ---------------------  -------------------  --------------------\n",
       "used_tpu                                           1.0                    1.0                  0.0274446274228117\n",
       "country_Ukraine                                    0.9816256761550903     0.9816256761550903   0.026940350950742074\n",
       "country_Philippines                                0.9349759817123413     0.9349759817123413   0.025660067467372816\n",
       "ml_spending                                        0.9109827280044556     0.9109827280044556   0.025001581558698895\n",
       "Total_Experience                                   0.8950585126876831     0.8950585126876831   0.024564547402329443\n",
       "job_title_Data_Engineer                            0.8669542670249939     0.8669542670249939   0.02379323685111777\n",
       "country_Singapore                                  0.8453550934791565     0.8453550934791565   0.02320045558051161\n",
       "country_Thailand                                   0.807534396648407      0.807534396648407    0.022162480647120574\n",
       "country_Spain                                      0.7780792713165283     0.7780792713165283   0.021354095706694942\n",
       "company_MEANprofileTable_yearly_compensation       0.7715147733688354     0.7715147733688354   0.0211739355063027\n",
       "---                                                ---                    ---                  ---\n",
       "age                                                0.6594343781471252     0.6594343781471252   0.018097930818041376\n",
       "country_Switzerland                                0.6452878713607788     0.6452878713607788   0.01770968520995582\n",
       "job_title_Research_Scientist                       0.6375483274459839     0.6375483274459839   0.017497276310791784\n",
       "jobTitle_SUMprofileTable_yearly_compensation_1     0.6374172568321228     0.6374172568321228   0.01749367912662829\n",
       "company_COUNTprofileTable                          0.6346015334129333     0.6346015334129333   0.017416402646462947\n",
       "demographics_MEANprofileTable_yearly_compensation  0.6304113268852234     0.6304113268852234   0.017301403989485313\n",
       "country_Poland                                     0.6282191872596741     0.6282191872596741   0.017241241534203332\n",
       "job_title_Software_Engineer                        0.6222198009490967     0.6222198009490967   0.01707659061214402\n",
       "country_Russia                                     0.6019500494003296     0.6019500494003296   0.016520294832935146\n",
       "job_title_Data_Analyst                             0.6007070541381836     0.6007070541381836   0.016486181291077227\n",
       "[50 rows x 4 columns]\n",
       "\n",
       "\n",
       "[tips]\n",
       "Use `model.explain()` to inspect the model.\n",
       "--\n",
       "Use `h2o.display.toggle_user_tips()` to switch on/off this section."
      ]
     },
     "metadata": {},
     "output_type": "display_data"
    }
   ],
   "source": [
    "# Train Deep Learning Model with Best Hyperparameters\n",
    "tuned_dl_model = H2ODeepLearningEstimator(**best_params, seed=42)\n",
    "tuned_dl_model.train(x=features, y=target, training_frame=train_h2o, validation_frame=val_h2o)"
   ]
  },
  {
   "cell_type": "code",
   "execution_count": null,
   "metadata": {},
   "outputs": [
    {
     "name": "stdout",
     "output_type": "stream",
     "text": [
      "Tuned Deep Learning Model Performance:\n",
      "ModelMetricsRegression: deeplearning\n",
      "** Reported on test data. **\n",
      "\n",
      "MSE: 0.3033611197459497\n",
      "RMSE: 0.5507822798038711\n",
      "MAE: 0.43116396331180634\n",
      "RMSLE: 0.166014045295754\n",
      "Mean Residual Deviance: 0.3033611197459497\n"
     ]
    }
   ],
   "source": [
    "# Evaluate Tuned Model\n",
    "tuned_performance = tuned_dl_model.model_performance(test_h2o)\n",
    "print(\"Tuned Deep Learning Model Performance:\")\n",
    "print(tuned_performance)\n"
   ]
  },
  {
   "cell_type": "code",
   "execution_count": null,
   "metadata": {},
   "outputs": [],
   "source": [
    "# Record tuned model performance\n",
    "record_model(\"Tuned Deep Learning Model\", best_params, tuned_performance)"
   ]
  },
  {
   "cell_type": "code",
   "execution_count": null,
   "metadata": {},
   "outputs": [
    {
     "name": "stdout",
     "output_type": "stream",
     "text": [
      "deeplearning prediction progress: |██████████████████████████████████████████████| (done) 100%\n"
     ]
    },
    {
     "name": "stderr",
     "output_type": "stream",
     "text": [
      "c:\\Users\\Huawei\\OneDrive - Universiti Malaya\\Desktop\\SEMESTER 7\\WIE3007_Data-Mining\\Group Project\\data-mining-warehousing-wages-analysis\\venv\\lib\\site-packages\\h2o\\frame.py:1983: H2ODependencyWarning: Converting H2O frame to pandas dataframe using single-thread.  For faster conversion using multi-thread, install polars and pyarrow and use it as pandas_df = h2o_df.as_data_frame(use_multi_thread=True)\n",
      "\n",
      "  warnings.warn(\"Converting H2O frame to pandas dataframe using single-thread.  For faster conversion using\"\n"
     ]
    }
   ],
   "source": [
    "# Compare Predictions with Actual\n",
    "predictions = tuned_dl_model.predict(test_h2o)\n",
    "actual_values = y_test.to_numpy().ravel()\n",
    "rounded_predictions = predictions.as_data_frame().to_numpy().ravel().round().astype(int)"
   ]
  },
  {
   "cell_type": "code",
   "execution_count": null,
   "metadata": {},
   "outputs": [
    {
     "name": "stdout",
     "output_type": "stream",
     "text": [
      "Accuracy on Test Data: 0.66\n"
     ]
    }
   ],
   "source": [
    "accuracy = accuracy_score(actual_values, rounded_predictions)\n",
    "print(f\"Accuracy on Test Data: {accuracy:.2f}\")"
   ]
  },
  {
   "cell_type": "markdown",
   "metadata": {},
   "source": [
    "### Early Stopping Model <br/>\n",
    "This model incorporates early stopping to prevent overfitting. Training halts if the model's RMSE does not improve within a specified number of rounds. This technique ensures efficient use of computational resources and reduces overtraining risks.\n"
   ]
  },
  {
   "cell_type": "code",
   "execution_count": null,
   "metadata": {},
   "outputs": [],
   "source": [
    "# Retrieve and print the best hyperparameters\n",
    "best_params = study.best_params\n",
    "\n",
    "# Train a early stopping model with the best hyperparameters and early stopping\n",
    "early_stopping_model = H2ODeepLearningEstimator(**best_params, \n",
    "                                       stopping_metric=\"rmse\", \n",
    "                                       stopping_rounds=5, \n",
    "                                       stopping_tolerance=0.01,\n",
    "                                       seed=42)\n",
    "early_stopping_model.train(x=features, y=target, training_frame=train_h2o, validation_frame=val_h2o)\n",
    "\n",
    "# Evaluate the final model on the test set\n",
    "final_performance = early_stopping_model.model_performance(test_h2o)\n",
    "print(\"Final Model Performance on Test Set:\")\n",
    "print(f\"RMSE: {final_performance.rmse():.2f}\")\n",
    "print(f\"MAE: {final_performance.mae():.2f}\")\n",
    "print(f\"R-squared: {final_performance.r2():.2f}\")"
   ]
  },
  {
   "cell_type": "code",
   "execution_count": null,
   "metadata": {},
   "outputs": [],
   "source": [
    "# Record the performance of the early stopping model\n",
    "record_model(\"Early Stopping Model\", best_params, final_performance)"
   ]
  },
  {
   "cell_type": "markdown",
   "metadata": {},
   "source": [
    "### Ensemble Model <br/>\n",
    "An ensemble of models is trained with shared hyperparameters but varied hidden layer configurations. Predictions are averaged to improve robustness and reduce variance. The ensemble is evaluated using metrics like MAE and R-squared.\n"
   ]
  },
  {
   "cell_type": "code",
   "execution_count": null,
   "metadata": {},
   "outputs": [],
   "source": [
    "# Retrieve best hyperparameters from Optuna\n",
    "best_params = study.best_params\n",
    "\n",
    "# Extract shared hyperparameters for the ensemble\n",
    "common_params = {\n",
    "    \"epochs\": best_params.get(\"epochs\", 100),\n",
    "    \"input_dropout_ratio\": best_params.get(\"input_dropout_ratio\", 0.0),\n",
    "    \"l1\": best_params.get(\"l1\", 1e-6),\n",
    "    \"l2\": best_params.get(\"l2\", 1e-6),\n",
    "    \"activation\": best_params.get(\"activation\", \"Rectifier\"),\n",
    "    \"seed\": 42,\n",
    "}\n",
    "\n",
    "# Train Multiple Models for Ensembling using the best parameters\n",
    "models = []\n",
    "for hidden in [[50, 50], [100, 100], [200, 200]]:\n",
    "    # Combine best params with unique hidden layers\n",
    "    model_params = {**common_params, \"hidden\": hidden}\n",
    "    \n",
    "    # Train the model\n",
    "    model = H2ODeepLearningEstimator(**model_params)\n",
    "    model.train(x=features, y=target, training_frame=train_h2o, validation_frame=val_h2o)\n",
    "    models.append(model)\n",
    "\n",
    "# Ensemble Predictions (Averaging)\n",
    "predictions = [model.predict(test_h2o).as_data_frame()[\"predict\"].to_numpy() for model in models]\n",
    "ensemble_prediction = np.mean(predictions, axis=0)\n",
    "\n",
    "# Evaluate Ensemble using Mean Absolute Error\n",
    "y_test = test_h2o[target].as_data_frame().to_numpy().ravel()\n",
    "mae_ensemble = mean_absolute_error(y_test, ensemble_prediction)\n",
    "print(f\"Mean Absolute Error (MAE) for Ensemble: {mae_ensemble:.2f}\")\n",
    "\n",
    "# Add R-squared Evaluation\n",
    "total_variance = np.sum((y_test - np.mean(y_test)) ** 2)\n",
    "residual_variance = np.sum((y_test - ensemble_prediction) ** 2)\n",
    "r_squared = 1 - (residual_variance / total_variance)\n",
    "print(f\"R-squared for Ensemble: {r_squared:.2f}\")"
   ]
  },
  {
   "cell_type": "code",
   "execution_count": null,
   "metadata": {},
   "outputs": [],
   "source": [
    "# Record ensemble performance\n",
    "record_model(\"Ensemble Model\", {\"common_params\": best_params, \"hidden_layers\": [[50, 50], [100, 100], [200, 200]]}, final_performance, {\"MAE\": mae_ensemble})\n"
   ]
  },
  {
   "cell_type": "markdown",
   "metadata": {},
   "source": [
    "### Final Evaluation and Model Saving <br/>\n",
    "All trained models are compared based on RMSE, and the best-performing model is selected. The best model is then saved for future use, ensuring reproducibility and ease of deployment."
   ]
  },
  {
   "cell_type": "code",
   "execution_count": null,
   "metadata": {},
   "outputs": [],
   "source": [
    "# Display Results in a Table\n",
    "import pandas as pd\n",
    "\n",
    "results_df = pd.DataFrame(model_results)\n",
    "results_df.sort_values(by=\"RMSE\", ascending=True, inplace=True)\n",
    "print(\"Model Performance Comparison:\")\n",
    "results_df\n",
    "\n",
    "# Select the best model based on RMSE\n",
    "best_model_info = results_df.iloc[0]\n",
    "print(\"\\nBest Model:\")\n",
    "best_model_info"
   ]
  },
  {
   "cell_type": "code",
   "execution_count": null,
   "metadata": {},
   "outputs": [],
   "source": [
    "# Step 6: Save the Tuned Model\n",
    "best_model_path = h2o.save_model(best_model_info, path=\"../04_modelling/models/\")\n",
    "print(f\"Tuned model saved to: {best_model_path}\")\n",
    "\n",
    "# Shutdown H2O Cluster\n",
    "h2o.cluster().shutdown()"
   ]
  },
  {
   "cell_type": "markdown",
   "metadata": {},
   "source": [
    "## Archived"
   ]
  },
  {
   "cell_type": "code",
   "execution_count": null,
   "metadata": {},
   "outputs": [],
   "source": [
    "# from sklearn.metrics import mean_absolute_error\n",
    "# import numpy as np\n",
    "\n",
    "# # Train Multiple Models for Ensembling\n",
    "# models = []\n",
    "# for hidden in [[50, 50], [100, 100], [200, 200]]:\n",
    "#     model = H2ODeepLearningEstimator(\n",
    "#         hidden=hidden,\n",
    "#         epochs=100,\n",
    "#         seed=42\n",
    "#     )\n",
    "#     model.train(x=features, y=target, training_frame=train_h2o, validation_frame=val_h2o)\n",
    "#     models.append(model)\n",
    "\n",
    "# # Ensemble Predictions (Averaging)\n",
    "# predictions = [model.predict(test_h2o).as_data_frame()[\"predict\"].to_numpy() for model in models]\n",
    "# ensemble_prediction = np.mean(predictions, axis=0)\n",
    "\n",
    "# # Evaluate Ensemble using Mean Absolute Error\n",
    "# y_test = test_h2o[target].as_data_frame().to_numpy().ravel()\n",
    "# mae_ensemble = mean_absolute_error(y_test, ensemble_prediction)\n",
    "# print(f\"Mean Absolute Error (MAE) for Ensemble: {mae_ensemble:.2f}\")\n",
    "\n",
    "# # Optional: Add R-squared Evaluation\n",
    "# total_variance = np.sum((y_test - np.mean(y_test)) ** 2)\n",
    "# residual_variance = np.sum((y_test - ensemble_prediction) ** 2)\n",
    "# r_squared = 1 - (residual_variance / total_variance)\n",
    "# print(f\"R-squared for Ensemble: {r_squared:.2f}\")\n"
   ]
  },
  {
   "cell_type": "code",
   "execution_count": null,
   "metadata": {},
   "outputs": [],
   "source": [
    "# # Random Grid Search \n",
    "# from h2o.grid.grid_search import H2OGridSearch\n",
    "\n",
    "# # Define hyperparameters\n",
    "# hyper_params = {\n",
    "#     \"epochs\": list(range(50, 201, 50)),\n",
    "#     \"hidden\": [[50, 50], [100, 100], [200, 200]],\n",
    "#     \"input_dropout_ratio\": [i / 10.0 for i in range(0, 6)],\n",
    "#     \"l1\": [1e-6, 1e-5, 1e-4],\n",
    "#     \"l2\": [1e-6, 1e-5, 1e-4],\n",
    "#     \"activation\": [\"Rectifier\", \"Tanh\", \"Maxout\"]\n",
    "# }\n",
    "\n",
    "# # Search criteria for random grid search\n",
    "# search_criteria = {\n",
    "#     'strategy': 'RandomDiscrete',  # Random search\n",
    "#     'max_models': 20,  # Maximum number of models to train\n",
    "#     'seed': 42  # For reproducibility\n",
    "# }\n",
    "\n",
    "# # Random grid search setup\n",
    "# random_grid = H2OGridSearch(\n",
    "#     model=H2ODeepLearningEstimator(seed=42),\n",
    "#     grid_id='random_grid_dl',\n",
    "#     hyper_params=hyper_params,\n",
    "#     search_criteria=search_criteria\n",
    "# )\n",
    "\n",
    "# # Train models with random grid search\n",
    "# random_grid.train(x=features, y=target, training_frame=train_h2o, validation_frame=val_h2o)\n",
    "\n",
    "# # Get the grid results, sorted by validation RMSE\n",
    "# grid_results = random_grid.get_grid(sort_by=\"rmse\", decreasing=False)\n",
    "\n",
    "# # Get the best model based on RMSE\n",
    "# best_model = grid_results.models[0]\n",
    "\n",
    "# # Print details of the best model\n",
    "# print(\"Best Random Search Model:\")\n",
    "# print(best_model)\n",
    "\n",
    "# # Evaluate the best model on the test set\n",
    "# performance = best_model.model_performance(test_h2o)\n",
    "\n",
    "# # Print performance metrics\n",
    "# print(\"Performance of Best Random Search Model:\")\n",
    "# print(f\"RMSE: {performance.rmse():.2f}\")\n",
    "# print(f\"MAE: {performance.mae():.2f}\")\n",
    "# print(f\"R-squared: {performance.r2():.2f}\")"
   ]
  },
  {
   "cell_type": "code",
   "execution_count": null,
   "metadata": {},
   "outputs": [],
   "source": [
    "# # Grid Search for Hyperparameter Tuning\n",
    "# hyper_params = {\n",
    "#     \"epochs\": [50, 100, 150],\n",
    "#     \"hidden\": [[50, 50], [100, 100], [200, 200]],\n",
    "#     \"input_dropout_ratio\": [0.0, 0.2, 0.4],\n",
    "#     \"l1\": [1e-5, 1e-4, 1e-3],\n",
    "#     \"l2\": [1e-5, 1e-4, 1e-3],\n",
    "#     \"activation\": [\"Rectifier\", \"Tanh\", \"Maxout\"]\n",
    "# }\n",
    "\n",
    "# grid_search = H2OGridSearch(\n",
    "#     H2ODeepLearningEstimator(seed=42),\n",
    "#     hyper_params=hyper_params\n",
    "# )\n",
    "\n",
    "# # Train models with grid search\n",
    "# grid_search.train(x=features, y=target, training_frame=train_h2o, validation_frame=val_h2o)\n",
    "\n",
    "# # Get the best model from the grid search\n",
    "# best_model = grid_search.get_grid(sort_by=\"rmse\", decreasing=False).models[0]\n",
    "# print(\"Best Grid Search Model:\")\n",
    "# print(best_model)\n",
    "\n",
    "# # Evaluate the best grid search model\n",
    "# performance = best_model.model_performance(test_h2o)\n",
    "# print(\"Best Grid Search Model Performance:\")\n",
    "# print(performance)"
   ]
  }
 ],
 "metadata": {
  "kernelspec": {
   "display_name": "venv",
   "language": "python",
   "name": "python3"
  },
  "language_info": {
   "codemirror_mode": {
    "name": "ipython",
    "version": 3
   },
   "file_extension": ".py",
   "mimetype": "text/x-python",
   "name": "python",
   "nbconvert_exporter": "python",
   "pygments_lexer": "ipython3",
   "version": "3.8.0"
  }
 },
 "nbformat": 4,
 "nbformat_minor": 2
}
