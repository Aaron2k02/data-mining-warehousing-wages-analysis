{
 "cells": [
  {
   "cell_type": "code",
   "execution_count": 21,
   "metadata": {},
   "outputs": [],
   "source": [
    "# Step 1: Import Necessary Libraries\n",
    "import pandas as pd\n",
    "import h2o\n",
    "from h2o.automl import H2OAutoML"
   ]
  },
  {
   "cell_type": "code",
   "execution_count": 22,
   "metadata": {},
   "outputs": [
    {
     "name": "stdout",
     "output_type": "stream",
     "text": [
      "Checking whether there is an H2O instance running at http://localhost:54321."
     ]
    },
    {
     "name": "stdout",
     "output_type": "stream",
     "text": [
      ".... not found.\n",
      "Attempting to start a local H2O server...\n",
      "; OpenJDK 64-Bit Server VM Temurin-17.0.12+7 (build 17.0.12+7, mixed mode, sharing)\n",
      "  Starting server from C:\\Users\\Huawei\\OneDrive - Universiti Malaya\\Desktop\\SEMESTER 7\\WIE3007_Data-Mining\\Group Project\\data-mining-warehousing-wages-analysis\\venv\\Lib\\site-packages\\h2o\\backend\\bin\\h2o.jar\n",
      "  Ice root: C:\\Users\\Huawei\\AppData\\Local\\Temp\\tmpcxu3dl5w\n",
      "  JVM stdout: C:\\Users\\Huawei\\AppData\\Local\\Temp\\tmpcxu3dl5w\\h2o_Huawei_started_from_python.out\n",
      "  JVM stderr: C:\\Users\\Huawei\\AppData\\Local\\Temp\\tmpcxu3dl5w\\h2o_Huawei_started_from_python.err\n",
      "  Server is running at http://127.0.0.1:54321\n",
      "Connecting to H2O server at http://127.0.0.1:54321 ... successful.\n"
     ]
    },
    {
     "data": {
      "text/html": [
       "\n",
       "<style>\n",
       "\n",
       "#h2o-table-5.h2o-container {\n",
       "  overflow-x: auto;\n",
       "}\n",
       "#h2o-table-5 .h2o-table {\n",
       "  /* width: 100%; */\n",
       "  margin-top: 1em;\n",
       "  margin-bottom: 1em;\n",
       "}\n",
       "#h2o-table-5 .h2o-table caption {\n",
       "  white-space: nowrap;\n",
       "  caption-side: top;\n",
       "  text-align: left;\n",
       "  /* margin-left: 1em; */\n",
       "  margin: 0;\n",
       "  font-size: larger;\n",
       "}\n",
       "#h2o-table-5 .h2o-table thead {\n",
       "  white-space: nowrap; \n",
       "  position: sticky;\n",
       "  top: 0;\n",
       "  box-shadow: 0 -1px inset;\n",
       "}\n",
       "#h2o-table-5 .h2o-table tbody {\n",
       "  overflow: auto;\n",
       "}\n",
       "#h2o-table-5 .h2o-table th,\n",
       "#h2o-table-5 .h2o-table td {\n",
       "  text-align: right;\n",
       "  /* border: 1px solid; */\n",
       "}\n",
       "#h2o-table-5 .h2o-table tr:nth-child(even) {\n",
       "  /* background: #F5F5F5 */\n",
       "}\n",
       "\n",
       "</style>      \n",
       "<div id=\"h2o-table-5\" class=\"h2o-container\">\n",
       "  <table class=\"h2o-table\">\n",
       "    <caption></caption>\n",
       "    <thead></thead>\n",
       "    <tbody><tr><td>H2O_cluster_uptime:</td>\n",
       "<td>03 secs</td></tr>\n",
       "<tr><td>H2O_cluster_timezone:</td>\n",
       "<td>Asia/Kuala_Lumpur</td></tr>\n",
       "<tr><td>H2O_data_parsing_timezone:</td>\n",
       "<td>UTC</td></tr>\n",
       "<tr><td>H2O_cluster_version:</td>\n",
       "<td>3.46.0.6</td></tr>\n",
       "<tr><td>H2O_cluster_version_age:</td>\n",
       "<td>1 month and 24 days</td></tr>\n",
       "<tr><td>H2O_cluster_name:</td>\n",
       "<td>H2O_from_python_Huawei_k1sdh4</td></tr>\n",
       "<tr><td>H2O_cluster_total_nodes:</td>\n",
       "<td>1</td></tr>\n",
       "<tr><td>H2O_cluster_free_memory:</td>\n",
       "<td>1.961 Gb</td></tr>\n",
       "<tr><td>H2O_cluster_total_cores:</td>\n",
       "<td>8</td></tr>\n",
       "<tr><td>H2O_cluster_allowed_cores:</td>\n",
       "<td>8</td></tr>\n",
       "<tr><td>H2O_cluster_status:</td>\n",
       "<td>locked, healthy</td></tr>\n",
       "<tr><td>H2O_connection_url:</td>\n",
       "<td>http://127.0.0.1:54321</td></tr>\n",
       "<tr><td>H2O_connection_proxy:</td>\n",
       "<td>{\"http\": null, \"https\": null}</td></tr>\n",
       "<tr><td>H2O_internal_security:</td>\n",
       "<td>False</td></tr>\n",
       "<tr><td>Python_version:</td>\n",
       "<td>3.8.0 final</td></tr></tbody>\n",
       "  </table>\n",
       "</div>\n"
      ],
      "text/plain": [
       "--------------------------  -----------------------------\n",
       "H2O_cluster_uptime:         03 secs\n",
       "H2O_cluster_timezone:       Asia/Kuala_Lumpur\n",
       "H2O_data_parsing_timezone:  UTC\n",
       "H2O_cluster_version:        3.46.0.6\n",
       "H2O_cluster_version_age:    1 month and 24 days\n",
       "H2O_cluster_name:           H2O_from_python_Huawei_k1sdh4\n",
       "H2O_cluster_total_nodes:    1\n",
       "H2O_cluster_free_memory:    1.961 Gb\n",
       "H2O_cluster_total_cores:    8\n",
       "H2O_cluster_allowed_cores:  8\n",
       "H2O_cluster_status:         locked, healthy\n",
       "H2O_connection_url:         http://127.0.0.1:54321\n",
       "H2O_connection_proxy:       {\"http\": null, \"https\": null}\n",
       "H2O_internal_security:      False\n",
       "Python_version:             3.8.0 final\n",
       "--------------------------  -----------------------------"
      ]
     },
     "metadata": {},
     "output_type": "display_data"
    }
   ],
   "source": [
    "# Initialize H2O cluster\n",
    "h2o.init()"
   ]
  },
  {
   "cell_type": "code",
   "execution_count": 23,
   "metadata": {},
   "outputs": [],
   "source": [
    "# Step 2: Load and Explore Data\n",
    "# Load datasets\n",
    "X_train = pd.read_csv(\"../04_modelling/dataset/X_train.csv\")\n",
    "y_train = pd.read_csv(\"../04_modelling/dataset/y_train.csv\")\n",
    "X_val = pd.read_csv(\"../04_modelling/dataset/X_val.csv\")\n",
    "y_val = pd.read_csv(\"../04_modelling/dataset/y_val.csv\")\n",
    "X_test = pd.read_csv(\"../04_modelling/dataset/X_test.csv\")\n",
    "y_test = pd.read_csv(\"../04_modelling/dataset/y_test.csv\")"
   ]
  },
  {
   "cell_type": "code",
   "execution_count": 24,
   "metadata": {},
   "outputs": [],
   "source": [
    "# Combine training features and target for H2O AutoML\n",
    "train_df = pd.concat([X_train, y_train], axis=1)\n",
    "val_df = pd.concat([X_val, y_val], axis=1)\n",
    "test_df = pd.concat([X_test, y_test], axis=1)"
   ]
  },
  {
   "cell_type": "code",
   "execution_count": 25,
   "metadata": {},
   "outputs": [
    {
     "name": "stdout",
     "output_type": "stream",
     "text": [
      "Parse progress: |████████████████████████████████████████████████████████████████| (done) 100%\n",
      "Parse progress: |████████████████████████████████████████████████████████████████| (done) 100%\n",
      "Parse progress: |████████████████████████████████████████████████████████████████| (done) 100%\n"
     ]
    }
   ],
   "source": [
    "# Convert to H2O Frames\n",
    "train_h2o = h2o.H2OFrame(train_df)\n",
    "val_h2o = h2o.H2OFrame(val_df)\n",
    "test_h2o = h2o.H2OFrame(test_df)"
   ]
  },
  {
   "cell_type": "code",
   "execution_count": 26,
   "metadata": {},
   "outputs": [],
   "source": [
    "# Define target and features\n",
    "target = \"yearly_compensation\"\n",
    "features = train_h2o.columns\n",
    "features.remove(target)"
   ]
  },
  {
   "cell_type": "code",
   "execution_count": 27,
   "metadata": {},
   "outputs": [
    {
     "name": "stdout",
     "output_type": "stream",
     "text": [
      "Training Data Summary:\n"
     ]
    },
    {
     "data": {
      "text/html": [
       "<pre style='margin: 1em 0 1em 0;'>Rows:5459\n",
       "Cols:51\n",
       "</pre>"
      ],
      "text/plain": [
       "Rows:5459\n",
       "Cols:51\n"
      ]
     },
     "metadata": {},
     "output_type": "display_data"
    },
    {
     "data": {
      "text/html": [
       "<table class='dataframe'>\n",
       "<thead>\n",
       "<tr><th>       </th><th>ml_spending          </th><th>used_tpu             </th><th>Total_Experience       </th><th>demographics_COUNTprofileTable  </th><th>demographics_MEANprofileTable_yearly_compensation  </th><th>company_COUNTprofileTable  </th><th>company_MEANprofileTable_yearly_compensation  </th><th>company_SUMprofileTable_yearly_compensation  </th><th>country_COUNTprofileTable  </th><th>country_SUMprofileTable_yearly_compensation  </th><th>jobTitle_SUMprofileTable_yearly_compensation  </th><th>jobTitle_SUMprofileTable_yearly_compensation_1  </th><th>mlIncorporation_SUMprofileTable_yearly_compensation  </th><th>mlIncorporation_MEANprofileTable_yearly_compensation  </th><th>PrimaryTool_SUMprofileTable_yearly_compensation  </th><th>PrimaryTool_MEANprofileTable_yearly_compensation  </th><th>RecommendedLanguage_SUMprofileTable_yearly_compensation  </th><th>RecommendedLanguage_MEANprofileTable_yearly_compensation  </th><th>IncomeCategory_SUMprofileTable_yearly_compensation  </th><th>age                   </th><th>gender_Male          </th><th>company_size         </th><th>country_Algeria     </th><th>country_Australia    </th><th>country_Austria      </th><th>country_Nigeria       </th><th>country_Other       </th><th>country_Philippines  </th><th>country_Poland      </th><th>country_Portugal     </th><th>country_Republic_of_Korea  </th><th>country_Russia        </th><th>country_Saudi_Arabia  </th><th>country_Singapore    </th><th>country_Spain        </th><th>country_Switzerland  </th><th>country_Taiwan       </th><th>country_Thailand     </th><th>country_Tunisia     </th><th>country_Turkey      </th><th>country_Ukraine       </th><th>country_United_States_of_America  </th><th>country_Viet_Nam     </th><th>job_title_Business_Analyst  </th><th>job_title_Data_Analyst  </th><th>job_title_Data_Engineer  </th><th>job_title_Data_Scientist  </th><th>job_title_Product/Project_Manager  </th><th>job_title_Research_Scientist  </th><th>job_title_Software_Engineer  </th><th>yearly_compensation  </th></tr>\n",
       "</thead>\n",
       "<tbody>\n",
       "<tr><td>type   </td><td>real                 </td><td>real                 </td><td>real                   </td><td>real                            </td><td>real                                               </td><td>real                       </td><td>real                                          </td><td>real                                         </td><td>real                       </td><td>real                                         </td><td>real                                          </td><td>real                                            </td><td>real                                                 </td><td>real                                                  </td><td>real                                             </td><td>real                                              </td><td>real                                                     </td><td>real                                                      </td><td>real                                                </td><td>real                  </td><td>real                 </td><td>real                 </td><td>real                </td><td>real                 </td><td>real                 </td><td>real                  </td><td>real                </td><td>real                 </td><td>real                </td><td>real                 </td><td>real                       </td><td>real                  </td><td>real                  </td><td>real                 </td><td>real                 </td><td>real                 </td><td>real                 </td><td>real                 </td><td>real                </td><td>real                </td><td>real                  </td><td>real                              </td><td>real                 </td><td>real                        </td><td>real                    </td><td>real                     </td><td>real                      </td><td>real                               </td><td>real                          </td><td>real                         </td><td>int                  </td></tr>\n",
       "<tr><td>mins   </td><td>-5.073214151002757   </td><td>-4.986915629786675   </td><td>-3.894034176423702     </td><td>-4.626803917463832              </td><td>-4.485160789575362                                 </td><td>-4.697719812525946         </td><td>-4.177191085597267                            </td><td>-4.489270330011596                           </td><td>-5.474562681728408         </td><td>-4.141542218290927                           </td><td>-4.312797198084712                            </td><td>-3.640135585386583                              </td><td>-3.9156531768923344                                  </td><td>-3.8090352815546336                                   </td><td>-3.948373607951701                               </td><td>-6.633594637063434                                </td><td>-3.554863581010869                                       </td><td>-3.6676969322076007                                       </td><td>-4.58154777588761                                   </td><td>-4.182098831765816    </td><td>-4.945087032146247   </td><td>-4.158391286783692   </td><td>-4.129525464152223  </td><td>-2.956127991412488   </td><td>-3.309099336730281   </td><td>-3.624885508492478    </td><td>-4.969630300896252  </td><td>-5.033903596696299   </td><td>-3.5386477083792016 </td><td>-4.420184254999469   </td><td>-4.168450093896267         </td><td>-4.125855910126183    </td><td>-3.856805748582876    </td><td>-4.107408970710599   </td><td>-4.546294437727609   </td><td>-3.791664434666988   </td><td>-4.743266082092007   </td><td>-3.6969835452361934  </td><td>-4.476333448057696  </td><td>-3.672761484346168  </td><td>-3.3169862291510386   </td><td>-2.990471642762147                </td><td>-3.5763992584874185  </td><td>-3.471249864028924          </td><td>-2.514554877453015      </td><td>-2.1795053058669813      </td><td>-1.4953476643568728       </td><td>-0.211262928713999                 </td><td>-0.1929108164798906           </td><td>-0.1518463636541843          </td><td>0.0                  </td></tr>\n",
       "<tr><td>mean   </td><td>-0.003377296744197873</td><td>-0.008395492689889886</td><td>-0.00012469694809002992</td><td>-0.01035154226995089            </td><td>0.0037394333234852532                              </td><td>-0.0032719797218479976     </td><td>-0.004223564022879654                         </td><td>-0.0030969986054931436                       </td><td>-0.007930048444353504      </td><td>-0.014272447446954183                        </td><td>-0.011401307680057416                         </td><td>0.003381163321315585                            </td><td>-0.010496233527614333                                </td><td>-0.01008031830684686                                  </td><td>-0.009583903537950623                            </td><td>0.0012660169500348264                             </td><td>0.009880261098446433                                     </td><td>-0.00269898603019323                                      </td><td>2.5584556922530697e-05                              </td><td>-0.0015476633985693098</td><td>-0.007047951781546629</td><td>0.0012954530505763725</td><td>0.012184540794283355</td><td>-0.005218221477880209</td><td>-0.003962401376109956</td><td>-0.0020463546342546057</td><td>-0.00423146190723855</td><td>-0.005157047548750889</td><td>0.007398474252734203</td><td>-0.006323640419355434</td><td>0.009063268330118057       </td><td>-0.0022356159238555483</td><td>-0.0064200427519799375</td><td>-0.005383689458664042</td><td>-0.012404747101242718</td><td>0.01433426178874028  </td><td>-0.009987254513806838</td><td>0.0008994458528694564</td><td>0.009436431220184109</td><td>-0.00414452204445641</td><td>-0.0030703035923405862</td><td>0.013519736896756748              </td><td>-0.001578680102810357</td><td>-0.008244308868963176       </td><td>0.006181237787700669    </td><td>-0.004139823792625962    </td><td>-0.0016791350125122035    </td><td>-0.00036803019575168264            </td><td>-0.0006041522292237774        </td><td>-5.193256324336065e-05       </td><td>10.382670818831283   </td></tr>\n",
       "<tr><td>maxs   </td><td>7.269771021095883    </td><td>7.460528071179854    </td><td>6.782091584796228      </td><td>7.441591933236912               </td><td>6.002826818335985                                  </td><td>4.806017107174871          </td><td>4.496645242889465                             </td><td>5.000959400082108                            </td><td>6.018563119248007          </td><td>4.642460463878098                            </td><td>4.799734330177638                             </td><td>4.576483809859401                               </td><td>4.152266969366401                                    </td><td>4.177939068866628                                     </td><td>5.422563471680602                                </td><td>7.03678773788237                                  </td><td>5.534162561393571                                        </td><td>4.649763124498995                                         </td><td>5.0359109485346565                                  </td><td>4.929310141361294     </td><td>7.646449150361898    </td><td>4.8307328341003055   </td><td>5.352687128523926   </td><td>4.571535013422617    </td><td>3.96655811047615     </td><td>5.339517594623461     </td><td>5.694407896224008   </td><td>7.10876892034325     </td><td>4.235961736495298   </td><td>4.830563801367003    </td><td>5.123866592015899          </td><td>5.266273914573052     </td><td>5.075312308190376     </td><td>6.125389700092723    </td><td>4.725441651323048    </td><td>4.743452757263217    </td><td>5.997099064921344    </td><td>5.969358251155255    </td><td>4.790325036090813   </td><td>4.024769038212844   </td><td>4.515648018783491     </td><td>4.028701377779641                 </td><td>3.730223634217832    </td><td>3.52642449831317            </td><td>4.0531638465713895      </td><td>2.183676834152579        </td><td>1.7742792294652303        </td><td>0.3316912198386232                 </td><td>0.4397574261914539            </td><td>0.1720630622693965           </td><td>24.0                 </td></tr>\n",
       "<tr><td>sigma  </td><td>2.3255260395913457   </td><td>1.9766297474063632   </td><td>1.8834289780387334     </td><td>1.81469015939219                </td><td>1.7478013430756678                                 </td><td>1.5165007361311573         </td><td>1.4984248068911894                            </td><td>1.442919607703331                            </td><td>1.3764569092610144         </td><td>1.3179201417581539                           </td><td>1.2821622339100567                            </td><td>1.1722245090966554                              </td><td>1.15571828880509                                     </td><td>1.1298050176748828                                    </td><td>1.1110137949133019                               </td><td>1.114567225191251                                 </td><td>1.0955127778388392                                       </td><td>1.0909276075244234                                        </td><td>1.0611183790342584                                  </td><td>1.068854659233697     </td><td>1.0519617222085147   </td><td>1.0407189473408613   </td><td>1.0327673101440007  </td><td>1.0120254575977141   </td><td>1.0224072599305476   </td><td>1.010842798240422     </td><td>0.9817468844553642  </td><td>0.9804661145315603   </td><td>0.9924483957714472  </td><td>0.9926275811057427   </td><td>0.9835880018235923         </td><td>0.9782459496746466    </td><td>1.0014266947895334    </td><td>0.9877807977874384   </td><td>0.9527221969550587   </td><td>0.956758275447779    </td><td>0.9558964471772846   </td><td>0.9380528079718882   </td><td>0.9198609109762221  </td><td>0.9165042456820118  </td><td>0.9087476776435119    </td><td>0.8960946819195628                </td><td>0.8888985757336763   </td><td>0.8453810207952447          </td><td>0.7132871267214891      </td><td>0.6306201733258915       </td><td>0.4634882084233629        </td><td>0.10838091584450202                </td><td>0.06004861046201989           </td><td>0.05384765855677194          </td><td>7.576259431484092    </td></tr>\n",
       "<tr><td>zeros  </td><td>0                    </td><td>0                    </td><td>0                      </td><td>0                               </td><td>0                                                  </td><td>0                          </td><td>0                                             </td><td>0                                            </td><td>0                          </td><td>0                                            </td><td>0                                             </td><td>0                                               </td><td>0                                                    </td><td>0                                                     </td><td>0                                                </td><td>0                                                 </td><td>0                                                        </td><td>0                                                         </td><td>0                                                   </td><td>0                     </td><td>0                    </td><td>0                    </td><td>0                   </td><td>0                    </td><td>0                    </td><td>0                     </td><td>0                   </td><td>0                    </td><td>0                   </td><td>0                    </td><td>0                          </td><td>0                     </td><td>0                     </td><td>0                    </td><td>0                    </td><td>0                    </td><td>0                    </td><td>0                    </td><td>0                   </td><td>0                   </td><td>0                     </td><td>0                                 </td><td>0                    </td><td>0                           </td><td>0                       </td><td>0                        </td><td>0                         </td><td>0                                  </td><td>0                             </td><td>0                            </td><td>572                  </td></tr>\n",
       "<tr><td>missing</td><td>0                    </td><td>0                    </td><td>0                      </td><td>0                               </td><td>0                                                  </td><td>0                          </td><td>0                                             </td><td>0                                            </td><td>0                          </td><td>0                                            </td><td>0                                             </td><td>0                                               </td><td>0                                                    </td><td>0                                                     </td><td>0                                                </td><td>0                                                 </td><td>0                                                        </td><td>0                                                         </td><td>0                                                   </td><td>0                     </td><td>0                    </td><td>0                    </td><td>0                   </td><td>0                    </td><td>0                    </td><td>0                     </td><td>0                   </td><td>0                    </td><td>0                   </td><td>0                    </td><td>0                          </td><td>0                     </td><td>0                     </td><td>0                    </td><td>0                    </td><td>0                    </td><td>0                    </td><td>0                    </td><td>0                   </td><td>0                   </td><td>0                     </td><td>0                                 </td><td>0                    </td><td>0                           </td><td>0                       </td><td>0                        </td><td>0                         </td><td>0                                  </td><td>0                             </td><td>0                            </td><td>0                    </td></tr>\n",
       "<tr><td>0      </td><td>-2.054795576093737   </td><td>0.4923118928494385   </td><td>-1.96584873801883      </td><td>-0.5615993623695698             </td><td>-0.8132486790780239                                </td><td>0.8363905306459674         </td><td>-1.0900045546265973                           </td><td>-1.0035366840884503                          </td><td>1.3192054031090734         </td><td>0.0751104837316023                           </td><td>0.3185544752615175                            </td><td>1.2935973497468345                              </td><td>-0.3875607501244065                                  </td><td>0.4423954770506668                                    </td><td>0.1843139314966431                               </td><td>-0.3143645590517375                               </td><td>1.1934928951543913                                       </td><td>-0.9002323077357239                                       </td><td>-0.9368275583603098                                 </td><td>0.4739569742837564    </td><td>0.3900102605367816   </td><td>-0.6573491093729394  </td><td>0.6144047779224667  </td><td>-0.4856021459630266  </td><td>-1.2786494038544234  </td><td>-0.3328539588103243   </td><td>-0.3306648730260518 </td><td>0.352597864590927    </td><td>-0.0878571657589537 </td><td>-0.3669086730500958  </td><td>-0.6265864641253345        </td><td>-0.7435321637904703   </td><td>-0.6967495094390594   </td><td>0.1633853018594519   </td><td>0.3043863244147335   </td><td>0.6027206214706221   </td><td>-0.3245590530629399  </td><td>0.4285619070679026   </td><td>0.11028893192261    </td><td>0.5726291613766291  </td><td>-0.827132645485194    </td><td>1.223173646634119                 </td><td>-0.1795684883920204  </td><td>-0.2266321575937455         </td><td>-0.1514807861230827     </td><td>-0.1239375612387548      </td><td>0.1722655399280655        </td><td>-0.0521402947608555                </td><td>0.0337621739689639            </td><td>0.040374419617608            </td><td>21.0                 </td></tr>\n",
       "<tr><td>1      </td><td>-2.314099196480271   </td><td>4.516586277384517    </td><td>-0.2200978630068345    </td><td>0.2353099687654983              </td><td>1.11103404467577                                   </td><td>-0.1896667908899545        </td><td>1.861411459345311                             </td><td>2.326146600854736                            </td><td>-0.2911205546776509        </td><td>2.267147604794263                            </td><td>0.2746559877888608                            </td><td>-0.0684018537670555                             </td><td>-2.72529680395414                                    </td><td>0.9819216316712776                                    </td><td>-1.793466636577669                               </td><td>0.6461156894782728                                </td><td>1.5808537178063693                                       </td><td>-0.966473133320718                                        </td><td>0.4066501078082408                                  </td><td>-1.248738411763678    </td><td>-1.3668931580059576  </td><td>-0.6219023163873411  </td><td>0.9614791293212585  </td><td>-0.6615440475364286  </td><td>-1.1698222128532385  </td><td>-0.7648829888610472   </td><td>-0.6195601801190137 </td><td>-0.0745195925938589  </td><td>-0.1615523351469809 </td><td>-1.1701259287736547  </td><td>-0.4440602940755831        </td><td>-1.0469478559476242   </td><td>-1.2526283201834838   </td><td>0.3613507079747746   </td><td>0.6066274871298102   </td><td>2.0941433556935896   </td><td>1.0439288396309945   </td><td>0.7886773460288845   </td><td>-0.3230651426472111 </td><td>0.4331364697268657  </td><td>-0.740232738195601    </td><td>0.3864985722896454                </td><td>0.9160483917282212   </td><td>0.3281917979625856          </td><td>-0.7565196321693763     </td><td>0.3534889712242704       </td><td>-0.1397242411062821       </td><td>-0.0337887430886497                </td><td>-0.0324800313145986           </td><td>0.042546217148953            </td><td>22.0                 </td></tr>\n",
       "<tr><td>2      </td><td>0.6312027424979392   </td><td>1.6767143230315409   </td><td>1.907250340254403      </td><td>-3.1251733093142646             </td><td>-0.7461890072586665                                </td><td>0.4212355204041978         </td><td>-0.7366443008140691                           </td><td>0.864212520769232                            </td><td>1.483181470729194          </td><td>-0.7087415151916935                          </td><td>-0.5309395281929956                           </td><td>1.8440963414700968                              </td><td>-0.0956756216303495                                  </td><td>0.014241926419366                                     </td><td>1.4833756558972235                               </td><td>0.8401258830431024                                </td><td>-0.6639170102161696                                      </td><td>0.1350022936264014                                        </td><td>1.4087993011788282                                  </td><td>-1.6395466374822183   </td><td>1.5552615836415762   </td><td>1.1243294359223317   </td><td>0.2845146102085652  </td><td>0.3353060463167867   </td><td>-0.0419838756582657  </td><td>0.026427132331208     </td><td>0.2797302250926107  </td><td>-0.015216840384895   </td><td>-0.2453531791935218 </td><td>0.5059822969419521   </td><td>0.0036644269164969         </td><td>-1.3525647801597849   </td><td>0.5285760442287731    </td><td>0.8450973643427145   </td><td>-0.0555387952402179  </td><td>-0.6769975808987874  </td><td>1.270831864804277    </td><td>0.6844353509235922   </td><td>0.1208945407927925  </td><td>2.499902156002331   </td><td>-0.6410543382137485   </td><td>-0.0665139052879652               </td><td>-0.7954311355749204  </td><td>-0.1870048487227412         </td><td>-0.5879239295218602     </td><td>-0.4749438312678324      </td><td>-0.1429879632007341       </td><td>-0.1309765031231058                </td><td>0.0051266753389068            </td><td>-0.0411268528957624          </td><td>21.0                 </td></tr>\n",
       "<tr><td>3      </td><td>2.320958960404266    </td><td>-0.7780014477914278  </td><td>2.429482020244316      </td><td>5.678431608189733               </td><td>3.848174875575729                                  </td><td>-1.14648386956108          </td><td>-0.2492739117015401                           </td><td>0.2931060312401686                           </td><td>3.80877492127561           </td><td>-0.9179106345523586                          </td><td>0.9458986527650872                            </td><td>1.280830433326699                               </td><td>1.5735439335061774                                   </td><td>-0.8070593954946562                                   </td><td>1.407663700516412                                </td><td>2.00511475891098                                  </td><td>1.1091594571119012                                       </td><td>2.023492119818952                                         </td><td>0.8986607330872751                                  </td><td>-1.0799030822592337   </td><td>0.77168292548514     </td><td>-0.319332407165693   </td><td>1.347138299659306   </td><td>-1.0618869647686364  </td><td>1.6203919595653982   </td><td>-3.2051765294428063   </td><td>-1.1555800447757438 </td><td>0.1795340393739273   </td><td>-0.359669474578126  </td><td>4.814507917130366    </td><td>2.555266633859315          </td><td>1.702852152594551     </td><td>-0.3474136771939675   </td><td>-1.277675286998956   </td><td>0.2458145575098569   </td><td>1.212341223845924    </td><td>-0.2928078120745788  </td><td>0.379578123524674    </td><td>-1.0556483020541416 </td><td>2.754523573096575   </td><td>0.5847350528106092    </td><td>0.4517859663473253                </td><td>0.3650172575610654   </td><td>0.6701555277773684          </td><td>-0.2042710036458618     </td><td>0.4095528788215258       </td><td>0.0608925189271874        </td><td>-0.0533503288658693                </td><td>0.1433205591105434            </td><td>0.0410062983150165           </td><td>7.0                  </td></tr>\n",
       "<tr><td>4      </td><td>4.208681909726333    </td><td>1.3542197159012666   </td><td>-0.3002949039195782    </td><td>0.9501074839204224              </td><td>3.688192404784133                                  </td><td>-0.5461441432490802        </td><td>-0.2918803928105017                           </td><td>0.6746036651270376                           </td><td>-2.913231511136389         </td><td>-1.42123660383701                            </td><td>-0.7038411089370354                           </td><td>1.68066953923228                                </td><td>-1.0972819485509684                                  </td><td>2.8272403564264668                                    </td><td>0.0189331306234878                               </td><td>-4.245098220390849                                </td><td>2.116544735154659                                        </td><td>1.116989114611288                                         </td><td>1.457822966338968                                   </td><td>-1.1415120533261505   </td><td>1.6075482900100466   </td><td>2.1300302605969774   </td><td>-1.005224331827812  </td><td>-0.6458451520984269  </td><td>2.1192048512636643   </td><td>0.3219639982736546    </td><td>-1.2067377984480865 </td><td>-1.6789610512384758  </td><td>-2.297053185096783  </td><td>-1.340058035769981   </td><td>-0.0271049545601466        </td><td>-1.9260825268688349   </td><td>-1.5555192834457934   </td><td>-0.3553100985741304  </td><td>0.4811224374923142   </td><td>-1.3586276922371463  </td><td>-0.392955959357151   </td><td>0.1356660879680583   </td><td>0.7737130613310063  </td><td>-0.394361244313631  </td><td>1.5168597137223878    </td><td>2.272179141479113                 </td><td>-1.7821980017799552  </td><td>-0.1762255974352505         </td><td>-0.868883972157157      </td><td>0.5365382565070669       </td><td>-0.0884174372184108       </td><td>-0.0359696847108403                </td><td>0.0645421344809143            </td><td>0.0196934486398324           </td><td>12.0                 </td></tr>\n",
       "<tr><td>5      </td><td>-2.160569159790556   </td><td>3.0954602666994395   </td><td>2.2975128216943776     </td><td>-0.3156563893638585             </td><td>1.239136339620441                                  </td><td>-0.4028408308566345        </td><td>-0.3254823382691913                           </td><td>1.2939351988740553                           </td><td>-2.474687613614215         </td><td>-1.6499951729035052                          </td><td>-0.2232454738646951                           </td><td>-0.501543666592082                              </td><td>1.7039300361461445                                   </td><td>1.6169549828442584                                    </td><td>1.538779722308744                                </td><td>1.94313599274571                                  </td><td>2.298601245347906                                        </td><td>-1.2882766048994647                                       </td><td>0.3274548839784907                                  </td><td>2.002025434751289     </td><td>-1.1583709833808455  </td><td>-0.1213787584518267  </td><td>-0.3237837710438445 </td><td>0.3507688912229432   </td><td>0.0115262627175968   </td><td>0.0059887640303956    </td><td>0.0868486884652135  </td><td>-0.6433173444119005  </td><td>0.2877931483968555  </td><td>-0.0126479381874919  </td><td>-0.7974133327181623        </td><td>0.8436870969362738    </td><td>0.0218567796225353    </td><td>0.4151646798495206   </td><td>1.3091700188750728   </td><td>-0.4705992881241316  </td><td>1.326491340740427    </td><td>-1.4470995995269114  </td><td>-0.7840989342812532 </td><td>-1.421441328236842  </td><td>0.1245357841093187    </td><td>1.073362812924192                 </td><td>-0.4271537598823818  </td><td>0.6091905722289352          </td><td>0.3498108889574035      </td><td>0.1159207738704144       </td><td>0.104362740389833         </td><td>0.0131898911139446                 </td><td>-0.0253885078430769           </td><td>-0.0014942994325633          </td><td>6.0                  </td></tr>\n",
       "<tr><td>6      </td><td>4.756001097550819    </td><td>1.1861203708156824   </td><td>0.5767817988376049     </td><td>2.341262560637817               </td><td>-2.9642844971002407                                </td><td>-0.1062670384568297        </td><td>-0.0717507304263829                           </td><td>-0.1235119445147622                          </td><td>-0.5334730361130863        </td><td>-2.439739531585257                           </td><td>-0.7671231141811287                           </td><td>0.3698761290319952                              </td><td>0.9069994245623164                                   </td><td>1.1808418120231827                                    </td><td>-0.1805412728098757                              </td><td>-1.6895349281212253                               </td><td>-1.4293212766305905                                      </td><td>-0.0137860824132639                                       </td><td>0.6676693012466847                                  </td><td>1.3984177686421164    </td><td>-0.7673587025130059  </td><td>-0.8925323579934734  </td><td>-1.417102882539384  </td><td>-0.5751862955583754  </td><td>-0.6134462832246794  </td><td>0.2335154087840211    </td><td>-0.1923836091900986 </td><td>0.1737302032880355   </td><td>0.1344589124882041  </td><td>0.1970767997376624   </td><td>-0.2438860920297517        </td><td>1.0478536232104618    </td><td>-0.3035018499950639   </td><td>0.6601047723226106   </td><td>-0.2612402113376623  </td><td>0.942963367606328    </td><td>0.5304948880822177   </td><td>-0.7499613723859208  </td><td>-0.2776436004542946 </td><td>0.5202180991745988  </td><td>-2.3756707594446422   </td><td>-1.4753955428193175               </td><td>-1.070985141683042   </td><td>1.1730968139403646          </td><td>-0.4864082205149698     </td><td>0.7515946263045553       </td><td>-0.9406310675727608       </td><td>-0.0917646935148063                </td><td>-0.04750353974965             </td><td>0.1498883811014215           </td><td>7.0                  </td></tr>\n",
       "<tr><td>7      </td><td>-0.7532726706602609  </td><td>0.1298385318806229   </td><td>-1.9238992315195085    </td><td>0.1144402721692976              </td><td>-0.2264328743534147                                </td><td>-1.819908649203312         </td><td>0.5854402895263967                            </td><td>0.3904628327633518                           </td><td>0.0829412090121858         </td><td>-1.4096350395520407                          </td><td>-0.4431106164461573                           </td><td>0.4367532621182255                              </td><td>0.1542565319956743                                   </td><td>2.308564282912961                                     </td><td>-0.2911238291110447                              </td><td>1.4948923387113129                                </td><td>-1.630121939779793                                       </td><td>-0.8504191660466238                                       </td><td>-0.766874786663613                                  </td><td>-0.322786534067089    </td><td>-1.4061475382470148  </td><td>0.9135551300438752   </td><td>-1.5123028524162052 </td><td>-1.335515325522172   </td><td>0.0620788941075902   </td><td>0.3513388699708389    </td><td>0.1650821588572595  </td><td>0.5572122821216242   </td><td>-0.8195312434426432 </td><td>-0.1087588656775279  </td><td>-0.162141981166711         </td><td>0.4718920191964784    </td><td>0.6290873770955077    </td><td>0.1440720395124457   </td><td>-0.766344546728305   </td><td>-0.058864217698841   </td><td>0.312755089729317    </td><td>-0.2323978356020098  </td><td>0.6352259450689185  </td><td>-1.4697006828545072 </td><td>-0.6427482971591454   </td><td>-0.4758827764529504               </td><td>-0.7671025854175975  </td><td>1.3227286544566994          </td><td>-1.1527887956415217     </td><td>-0.4457248981365591      </td><td>0.0497829612526175        </td><td>0.1443185319174414                 </td><td>0.0568884114900217            </td><td>0.0236268726566625           </td><td>2.0                  </td></tr>\n",
       "<tr><td>8      </td><td>3.149947693547671    </td><td>-0.8256336319903139  </td><td>-0.0823106802098586    </td><td>0.1182079768959366              </td><td>0.0285490577387118                                 </td><td>-2.484587247726908         </td><td>0.4389962514325868                            </td><td>2.0489382797043265                           </td><td>-1.7176565009205744        </td><td>0.3849738583440377                           </td><td>1.7485395162792867                            </td><td>2.513047807799093                               </td><td>1.2493220454874392                                   </td><td>-0.3057308306417625                                   </td><td>0.4412439534612536                               </td><td>-0.6735394523257237                               </td><td>1.4300802805670982                                       </td><td>0.8702145732003261                                        </td><td>-1.5041274947531815                                 </td><td>0.7450664226935697    </td><td>-1.1946778545556982  </td><td>1.5533689842925194   </td><td>2.6786801369275937  </td><td>-0.9860347058603322  </td><td>0.9280720712676058   </td><td>2.478464539581953     </td><td>1.8561803612883647  </td><td>0.4120064421612539   </td><td>0.5899560017648967  </td><td>-0.1260311917502813  </td><td>1.2389323581990523         </td><td>0.7947661611348906    </td><td>2.470368055188989     </td><td>0.9912696892531804   </td><td>0.806361037134572    </td><td>1.1749371962919668   </td><td>-0.0634802720379619  </td><td>-2.1007626222971645  </td><td>-1.2737459352161382 </td><td>-1.6582394746474356 </td><td>-0.4018024805301037   </td><td>-0.7408564641499806               </td><td>-1.2121207058997348  </td><td>0.0935052452861723          </td><td>0.6387006503686298      </td><td>0.1187397643829118       </td><td>-0.3421566759114173       </td><td>-0.0875684618945142                </td><td>-0.1034839301762834           </td><td>0.0190077990686037           </td><td>1.0                  </td></tr>\n",
       "<tr><td>9      </td><td>1.4942177426265306   </td><td>2.6238221682265546   </td><td>1.7341876713729918     </td><td>-1.8713417952328444             </td><td>2.448685130479696                                  </td><td>1.036155059659232          </td><td>-2.0049983334703723                           </td><td>-1.7814465846071508                          </td><td>-3.118958637292576         </td><td>0.952896118914998                            </td><td>-2.515826723116045                            </td><td>-0.4457364846564814                             </td><td>2.696666807821611                                    </td><td>-0.4344123356946505                                   </td><td>0.5941011007010925                               </td><td>1.4433029283623309                                </td><td>1.442229025647295                                        </td><td>-1.149465699244573                                        </td><td>-0.403046947875871                                  </td><td>-0.4839243487956591   </td><td>-0.35280523674236    </td><td>-0.1147379864831973  </td><td>-0.0556578713883848 </td><td>-0.1734085682599482  </td><td>-0.2352662975367038  </td><td>-0.0850681389302442   </td><td>0.2133433467980521  </td><td>-0.4017312153901285  </td><td>0.230328380514301   </td><td>0.1747320383148669   </td><td>0.0217272794722031         </td><td>-0.4338130977517676   </td><td>-0.0834650039627172   </td><td>-1.233825304714122   </td><td>-1.2685670250059564  </td><td>-0.3177803236499321  </td><td>0.3079930397052412   </td><td>-0.6118036911685883  </td><td>0.5257141436269765  </td><td>0.2190222489591647  </td><td>0.5789384120193053    </td><td>1.3848262606061017                </td><td>-0.0103970475903626  </td><td>-0.2792416787538203         </td><td>-0.1778235171414121     </td><td>0.6200822580207905       </td><td>-0.0301901959892795       </td><td>-0.0243662950328702                </td><td>0.0633901594727615            </td><td>0.0551432891236292           </td><td>19.0                 </td></tr>\n",
       "</tbody>\n",
       "</table><pre style='font-size: smaller; margin-bottom: 1em;'>[5459 rows x 51 columns]</pre>"
      ],
      "text/plain": [
       "         ml_spending            used_tpu               Total_Experience         demographics_COUNTprofileTable    demographics_MEANprofileTable_yearly_compensation    company_COUNTprofileTable    company_MEANprofileTable_yearly_compensation    company_SUMprofileTable_yearly_compensation    country_COUNTprofileTable    country_SUMprofileTable_yearly_compensation    jobTitle_SUMprofileTable_yearly_compensation    jobTitle_SUMprofileTable_yearly_compensation_1    mlIncorporation_SUMprofileTable_yearly_compensation    mlIncorporation_MEANprofileTable_yearly_compensation    PrimaryTool_SUMprofileTable_yearly_compensation    PrimaryTool_MEANprofileTable_yearly_compensation    RecommendedLanguage_SUMprofileTable_yearly_compensation    RecommendedLanguage_MEANprofileTable_yearly_compensation    IncomeCategory_SUMprofileTable_yearly_compensation    age                     gender_Male            company_size           country_Algeria       country_Australia      country_Austria        country_Nigeria         country_Other         country_Philippines    country_Poland        country_Portugal       country_Republic_of_Korea    country_Russia          country_Saudi_Arabia    country_Singapore      country_Spain          country_Switzerland    country_Taiwan         country_Thailand       country_Tunisia       country_Turkey        country_Ukraine         country_United_States_of_America    country_Viet_Nam       job_title_Business_Analyst    job_title_Data_Analyst    job_title_Data_Engineer    job_title_Data_Scientist    job_title_Product/Project_Manager    job_title_Research_Scientist    job_title_Software_Engineer    yearly_compensation\n",
       "-------  ---------------------  ---------------------  -----------------------  --------------------------------  ---------------------------------------------------  ---------------------------  ----------------------------------------------  ---------------------------------------------  ---------------------------  ---------------------------------------------  ----------------------------------------------  ------------------------------------------------  -----------------------------------------------------  ------------------------------------------------------  -------------------------------------------------  --------------------------------------------------  ---------------------------------------------------------  ----------------------------------------------------------  ----------------------------------------------------  ----------------------  ---------------------  ---------------------  --------------------  ---------------------  ---------------------  ----------------------  --------------------  ---------------------  --------------------  ---------------------  ---------------------------  ----------------------  ----------------------  ---------------------  ---------------------  ---------------------  ---------------------  ---------------------  --------------------  --------------------  ----------------------  ----------------------------------  ---------------------  ----------------------------  ------------------------  -------------------------  --------------------------  -----------------------------------  ------------------------------  -----------------------------  ---------------------\n",
       "type     real                   real                   real                     real                              real                                                 real                         real                                            real                                           real                         real                                           real                                            real                                              real                                                   real                                                    real                                               real                                                real                                                       real                                                        real                                                  real                    real                   real                   real                  real                   real                   real                    real                  real                   real                  real                   real                         real                    real                    real                   real                   real                   real                   real                   real                  real                  real                    real                                real                   real                          real                      real                       real                        real                                 real                            real                           int\n",
       "mins     -5.073214151002757     -4.986915629786675     -3.894034176423702       -4.626803917463832                -4.485160789575362                                   -4.697719812525946           -4.177191085597267                              -4.489270330011596                             -5.474562681728408           -4.141542218290927                             -4.312797198084712                              -3.640135585386583                                -3.9156531768923344                                    -3.8090352815546336                                     -3.948373607951701                                 -6.633594637063434                                  -3.554863581010869                                         -3.6676969322076007                                         -4.58154777588761                                     -4.182098831765816      -4.945087032146247     -4.158391286783692     -4.129525464152223    -2.956127991412488     -3.309099336730281     -3.624885508492478      -4.969630300896252    -5.033903596696299     -3.5386477083792016   -4.420184254999469     -4.168450093896267           -4.125855910126183      -3.856805748582876      -4.107408970710599     -4.546294437727609     -3.791664434666988     -4.743266082092007     -3.6969835452361934    -4.476333448057696    -3.672761484346168    -3.3169862291510386     -2.990471642762147                  -3.5763992584874185    -3.471249864028924            -2.514554877453015        -2.1795053058669813        -1.4953476643568728         -0.211262928713999                   -0.1929108164798906             -0.1518463636541843            0.0\n",
       "mean     -0.003377296744197873  -0.008395492689889886  -0.00012469694809002992  -0.01035154226995089              0.0037394333234852532                                -0.0032719797218479976       -0.004223564022879654                           -0.0030969986054931436                         -0.007930048444353504        -0.014272447446954183                          -0.011401307680057416                           0.003381163321315585                              -0.010496233527614333                                  -0.01008031830684686                                    -0.009583903537950623                              0.0012660169500348264                               0.009880261098446433                                       -0.00269898603019323                                        2.5584556922530697e-05                                -0.0015476633985693098  -0.007047951781546629  0.0012954530505763725  0.012184540794283355  -0.005218221477880209  -0.003962401376109956  -0.0020463546342546057  -0.00423146190723855  -0.005157047548750889  0.007398474252734203  -0.006323640419355434  0.009063268330118057         -0.0022356159238555483  -0.0064200427519799375  -0.005383689458664042  -0.012404747101242718  0.01433426178874028    -0.009987254513806838  0.0008994458528694564  0.009436431220184109  -0.00414452204445641  -0.0030703035923405862  0.013519736896756748                -0.001578680102810357  -0.008244308868963176         0.006181237787700669      -0.004139823792625962      -0.0016791350125122035      -0.00036803019575168264              -0.0006041522292237774          -5.193256324336065e-05         10.382670818831283\n",
       "maxs     7.269771021095883      7.460528071179854      6.782091584796228        7.441591933236912                 6.002826818335985                                    4.806017107174871            4.496645242889465                               5.000959400082108                              6.018563119248007            4.642460463878098                              4.799734330177638                               4.576483809859401                                 4.152266969366401                                      4.177939068866628                                       5.422563471680602                                  7.03678773788237                                    5.534162561393571                                          4.649763124498995                                           5.0359109485346565                                    4.929310141361294       7.646449150361898      4.8307328341003055     5.352687128523926     4.571535013422617      3.96655811047615       5.339517594623461       5.694407896224008     7.10876892034325       4.235961736495298     4.830563801367003      5.123866592015899            5.266273914573052       5.075312308190376       6.125389700092723      4.725441651323048      4.743452757263217      5.997099064921344      5.969358251155255      4.790325036090813     4.024769038212844     4.515648018783491       4.028701377779641                   3.730223634217832      3.52642449831317              4.0531638465713895        2.183676834152579          1.7742792294652303          0.3316912198386232                   0.4397574261914539              0.1720630622693965             24.0\n",
       "sigma    2.3255260395913457     1.9766297474063632     1.8834289780387334       1.81469015939219                  1.7478013430756678                                   1.5165007361311573           1.4984248068911894                              1.442919607703331                              1.3764569092610144           1.3179201417581539                             1.2821622339100567                              1.1722245090966554                                1.15571828880509                                       1.1298050176748828                                      1.1110137949133019                                 1.114567225191251                                   1.0955127778388392                                         1.0909276075244234                                          1.0611183790342584                                    1.068854659233697       1.0519617222085147     1.0407189473408613     1.0327673101440007    1.0120254575977141     1.0224072599305476     1.010842798240422       0.9817468844553642    0.9804661145315603     0.9924483957714472    0.9926275811057427     0.9835880018235923           0.9782459496746466      1.0014266947895334      0.9877807977874384     0.9527221969550587     0.956758275447779      0.9558964471772846     0.9380528079718882     0.9198609109762221    0.9165042456820118    0.9087476776435119      0.8960946819195628                  0.8888985757336763     0.8453810207952447            0.7132871267214891        0.6306201733258915         0.4634882084233629          0.10838091584450202                  0.06004861046201989             0.05384765855677194            7.576259431484092\n",
       "zeros    0                      0                      0                        0                                 0                                                    0                            0                                               0                                              0                            0                                              0                                               0                                                 0                                                      0                                                       0                                                  0                                                   0                                                          0                                                           0                                                     0                       0                      0                      0                     0                      0                      0                       0                     0                      0                     0                      0                            0                       0                       0                      0                      0                      0                      0                      0                     0                     0                       0                                   0                      0                             0                         0                          0                           0                                    0                               0                              572\n",
       "missing  0                      0                      0                        0                                 0                                                    0                            0                                               0                                              0                            0                                              0                                               0                                                 0                                                      0                                                       0                                                  0                                                   0                                                          0                                                           0                                                     0                       0                      0                      0                     0                      0                      0                       0                     0                      0                     0                      0                            0                       0                       0                      0                      0                      0                      0                      0                     0                     0                       0                                   0                      0                             0                         0                          0                           0                                    0                               0                              0\n",
       "0        -2.054795576093737     0.4923118928494385     -1.96584873801883        -0.5615993623695698               -0.8132486790780239                                  0.8363905306459674           -1.0900045546265973                             -1.0035366840884503                            1.3192054031090734           0.0751104837316023                             0.3185544752615175                              1.2935973497468345                                -0.3875607501244065                                    0.4423954770506668                                      0.1843139314966431                                 -0.3143645590517375                                 1.1934928951543913                                         -0.9002323077357239                                         -0.9368275583603098                                   0.4739569742837564      0.3900102605367816     -0.6573491093729394    0.6144047779224667    -0.4856021459630266    -1.2786494038544234    -0.3328539588103243     -0.3306648730260518   0.352597864590927      -0.0878571657589537   -0.3669086730500958    -0.6265864641253345          -0.7435321637904703     -0.6967495094390594     0.1633853018594519     0.3043863244147335     0.6027206214706221     -0.3245590530629399    0.4285619070679026     0.11028893192261      0.5726291613766291    -0.827132645485194      1.223173646634119                   -0.1795684883920204    -0.2266321575937455           -0.1514807861230827       -0.1239375612387548        0.1722655399280655          -0.0521402947608555                  0.0337621739689639              0.040374419617608              21.0\n",
       "1        -2.314099196480271     4.516586277384517      -0.2200978630068345      0.2353099687654983                1.11103404467577                                     -0.1896667908899545          1.861411459345311                               2.326146600854736                              -0.2911205546776509          2.267147604794263                              0.2746559877888608                              -0.0684018537670555                               -2.72529680395414                                      0.9819216316712776                                      -1.793466636577669                                 0.6461156894782728                                  1.5808537178063693                                         -0.966473133320718                                          0.4066501078082408                                    -1.248738411763678      -1.3668931580059576    -0.6219023163873411    0.9614791293212585    -0.6615440475364286    -1.1698222128532385    -0.7648829888610472     -0.6195601801190137   -0.0745195925938589    -0.1615523351469809   -1.1701259287736547    -0.4440602940755831          -1.0469478559476242     -1.2526283201834838     0.3613507079747746     0.6066274871298102     2.0941433556935896     1.0439288396309945     0.7886773460288845     -0.3230651426472111   0.4331364697268657    -0.740232738195601      0.3864985722896454                  0.9160483917282212     0.3281917979625856            -0.7565196321693763       0.3534889712242704         -0.1397242411062821         -0.0337887430886497                  -0.0324800313145986             0.042546217148953              22.0\n",
       "2        0.6312027424979392     1.6767143230315409     1.907250340254403        -3.1251733093142646               -0.7461890072586665                                  0.4212355204041978           -0.7366443008140691                             0.864212520769232                              1.483181470729194            -0.7087415151916935                            -0.5309395281929956                             1.8440963414700968                                -0.0956756216303495                                    0.014241926419366                                       1.4833756558972235                                 0.8401258830431024                                  -0.6639170102161696                                        0.1350022936264014                                          1.4087993011788282                                    -1.6395466374822183     1.5552615836415762     1.1243294359223317     0.2845146102085652    0.3353060463167867     -0.0419838756582657    0.026427132331208       0.2797302250926107    -0.015216840384895     -0.2453531791935218   0.5059822969419521     0.0036644269164969           -1.3525647801597849     0.5285760442287731      0.8450973643427145     -0.0555387952402179    -0.6769975808987874    1.270831864804277      0.6844353509235922     0.1208945407927925    2.499902156002331     -0.6410543382137485     -0.0665139052879652                 -0.7954311355749204    -0.1870048487227412           -0.5879239295218602       -0.4749438312678324        -0.1429879632007341         -0.1309765031231058                  0.0051266753389068              -0.0411268528957624            21.0\n",
       "3        2.320958960404266      -0.7780014477914278    2.429482020244316        5.678431608189733                 3.848174875575729                                    -1.14648386956108            -0.2492739117015401                             0.2931060312401686                             3.80877492127561             -0.9179106345523586                            0.9458986527650872                              1.280830433326699                                 1.5735439335061774                                     -0.8070593954946562                                     1.407663700516412                                  2.00511475891098                                    1.1091594571119012                                         2.023492119818952                                           0.8986607330872751                                    -1.0799030822592337     0.77168292548514       -0.319332407165693     1.347138299659306     -1.0618869647686364    1.6203919595653982     -3.2051765294428063     -1.1555800447757438   0.1795340393739273     -0.359669474578126    4.814507917130366      2.555266633859315            1.702852152594551       -0.3474136771939675     -1.277675286998956     0.2458145575098569     1.212341223845924      -0.2928078120745788    0.379578123524674      -1.0556483020541416   2.754523573096575     0.5847350528106092      0.4517859663473253                  0.3650172575610654     0.6701555277773684            -0.2042710036458618       0.4095528788215258         0.0608925189271874          -0.0533503288658693                  0.1433205591105434              0.0410062983150165             7.0\n",
       "4        4.208681909726333      1.3542197159012666     -0.3002949039195782      0.9501074839204224                3.688192404784133                                    -0.5461441432490802          -0.2918803928105017                             0.6746036651270376                             -2.913231511136389           -1.42123660383701                              -0.7038411089370354                             1.68066953923228                                  -1.0972819485509684                                    2.8272403564264668                                      0.0189331306234878                                 -4.245098220390849                                  2.116544735154659                                          1.116989114611288                                           1.457822966338968                                     -1.1415120533261505     1.6075482900100466     2.1300302605969774     -1.005224331827812    -0.6458451520984269    2.1192048512636643     0.3219639982736546      -1.2067377984480865   -1.6789610512384758    -2.297053185096783    -1.340058035769981     -0.0271049545601466          -1.9260825268688349     -1.5555192834457934     -0.3553100985741304    0.4811224374923142     -1.3586276922371463    -0.392955959357151     0.1356660879680583     0.7737130613310063    -0.394361244313631    1.5168597137223878      2.272179141479113                   -1.7821980017799552    -0.1762255974352505           -0.868883972157157        0.5365382565070669         -0.0884174372184108         -0.0359696847108403                  0.0645421344809143              0.0196934486398324             12.0\n",
       "5        -2.160569159790556     3.0954602666994395     2.2975128216943776       -0.3156563893638585               1.239136339620441                                    -0.4028408308566345          -0.3254823382691913                             1.2939351988740553                             -2.474687613614215           -1.6499951729035052                            -0.2232454738646951                             -0.501543666592082                                1.7039300361461445                                     1.6169549828442584                                      1.538779722308744                                  1.94313599274571                                    2.298601245347906                                          -1.2882766048994647                                         0.3274548839784907                                    2.002025434751289       -1.1583709833808455    -0.1213787584518267    -0.3237837710438445   0.3507688912229432     0.0115262627175968     0.0059887640303956      0.0868486884652135    -0.6433173444119005    0.2877931483968555    -0.0126479381874919    -0.7974133327181623          0.8436870969362738      0.0218567796225353      0.4151646798495206     1.3091700188750728     -0.4705992881241316    1.326491340740427      -1.4470995995269114    -0.7840989342812532   -1.421441328236842    0.1245357841093187      1.073362812924192                   -0.4271537598823818    0.6091905722289352            0.3498108889574035        0.1159207738704144         0.104362740389833           0.0131898911139446                   -0.0253885078430769             -0.0014942994325633            6.0\n",
       "6        4.756001097550819      1.1861203708156824     0.5767817988376049       2.341262560637817                 -2.9642844971002407                                  -0.1062670384568297          -0.0717507304263829                             -0.1235119445147622                            -0.5334730361130863          -2.439739531585257                             -0.7671231141811287                             0.3698761290319952                                0.9069994245623164                                     1.1808418120231827                                      -0.1805412728098757                                -1.6895349281212253                                 -1.4293212766305905                                        -0.0137860824132639                                         0.6676693012466847                                    1.3984177686421164      -0.7673587025130059    -0.8925323579934734    -1.417102882539384    -0.5751862955583754    -0.6134462832246794    0.2335154087840211      -0.1923836091900986   0.1737302032880355     0.1344589124882041    0.1970767997376624     -0.2438860920297517          1.0478536232104618      -0.3035018499950639     0.6601047723226106     -0.2612402113376623    0.942963367606328      0.5304948880822177     -0.7499613723859208    -0.2776436004542946   0.5202180991745988    -2.3756707594446422     -1.4753955428193175                 -1.070985141683042     1.1730968139403646            -0.4864082205149698       0.7515946263045553         -0.9406310675727608         -0.0917646935148063                  -0.04750353974965               0.1498883811014215             7.0\n",
       "7        -0.7532726706602609    0.1298385318806229     -1.9238992315195085      0.1144402721692976                -0.2264328743534147                                  -1.819908649203312           0.5854402895263967                              0.3904628327633518                             0.0829412090121858           -1.4096350395520407                            -0.4431106164461573                             0.4367532621182255                                0.1542565319956743                                     2.308564282912961                                       -0.2911238291110447                                1.4948923387113129                                  -1.630121939779793                                         -0.8504191660466238                                         -0.766874786663613                                    -0.322786534067089      -1.4061475382470148    0.9135551300438752     -1.5123028524162052   -1.335515325522172     0.0620788941075902     0.3513388699708389      0.1650821588572595    0.5572122821216242     -0.8195312434426432   -0.1087588656775279    -0.162141981166711           0.4718920191964784      0.6290873770955077      0.1440720395124457     -0.766344546728305     -0.058864217698841     0.312755089729317      -0.2323978356020098    0.6352259450689185    -1.4697006828545072   -0.6427482971591454     -0.4758827764529504                 -0.7671025854175975    1.3227286544566994            -1.1527887956415217       -0.4457248981365591        0.0497829612526175          0.1443185319174414                   0.0568884114900217              0.0236268726566625             2.0\n",
       "8        3.149947693547671      -0.8256336319903139    -0.0823106802098586      0.1182079768959366                0.0285490577387118                                   -2.484587247726908           0.4389962514325868                              2.0489382797043265                             -1.7176565009205744          0.3849738583440377                             1.7485395162792867                              2.513047807799093                                 1.2493220454874392                                     -0.3057308306417625                                     0.4412439534612536                                 -0.6735394523257237                                 1.4300802805670982                                         0.8702145732003261                                          -1.5041274947531815                                   0.7450664226935697      -1.1946778545556982    1.5533689842925194     2.6786801369275937    -0.9860347058603322    0.9280720712676058     2.478464539581953       1.8561803612883647    0.4120064421612539     0.5899560017648967    -0.1260311917502813    1.2389323581990523           0.7947661611348906      2.470368055188989       0.9912696892531804     0.806361037134572      1.1749371962919668     -0.0634802720379619    -2.1007626222971645    -1.2737459352161382   -1.6582394746474356   -0.4018024805301037     -0.7408564641499806                 -1.2121207058997348    0.0935052452861723            0.6387006503686298        0.1187397643829118         -0.3421566759114173         -0.0875684618945142                  -0.1034839301762834             0.0190077990686037             1.0\n",
       "9        1.4942177426265306     2.6238221682265546     1.7341876713729918       -1.8713417952328444               2.448685130479696                                    1.036155059659232            -2.0049983334703723                             -1.7814465846071508                            -3.118958637292576           0.952896118914998                              -2.515826723116045                              -0.4457364846564814                               2.696666807821611                                      -0.4344123356946505                                     0.5941011007010925                                 1.4433029283623309                                  1.442229025647295                                          -1.149465699244573                                          -0.403046947875871                                    -0.4839243487956591     -0.35280523674236      -0.1147379864831973    -0.0556578713883848   -0.1734085682599482    -0.2352662975367038    -0.0850681389302442     0.2133433467980521    -0.4017312153901285    0.230328380514301     0.1747320383148669     0.0217272794722031           -0.4338130977517676     -0.0834650039627172     -1.233825304714122     -1.2685670250059564    -0.3177803236499321    0.3079930397052412     -0.6118036911685883    0.5257141436269765    0.2190222489591647    0.5789384120193053      1.3848262606061017                  -0.0103970475903626    -0.2792416787538203           -0.1778235171414121       0.6200822580207905         -0.0301901959892795         -0.0243662950328702                  0.0633901594727615              0.0551432891236292             19.0\n",
       "[5459 rows x 51 columns]\n"
      ]
     },
     "metadata": {},
     "output_type": "display_data"
    }
   ],
   "source": [
    "# Check data summary\n",
    "print(\"Training Data Summary:\")\n",
    "train_h2o.describe()"
   ]
  },
  {
   "cell_type": "code",
   "execution_count": 28,
   "metadata": {},
   "outputs": [],
   "source": [
    "# Step 3: Model Selection using AutoML\n",
    "# Configure AutoML parameters\n",
    "h2o_automl = H2OAutoML(\n",
    "    max_models=10,             # Limit the number of models to explore\n",
    "    seed=10,                   # Set seed for reproducibility\n",
    "    exclude_algos=[\"DeepLearning\"],  # Exclude deep learning models\n",
    "    verbosity=\"info\",         # Enable detailed logs\n",
    "    nfolds=0                  # Use validation set directly instead of k-fold CV\n",
    ")"
   ]
  },
  {
   "cell_type": "code",
   "execution_count": 29,
   "metadata": {},
   "outputs": [
    {
     "name": "stdout",
     "output_type": "stream",
     "text": [
      "AutoML progress: |\n",
      "20:28:44.931: Project: AutoML_1_20241226_202844\n",
      "20:28:44.932: Cross-validation disabled by user: no fold column nor nfolds > 1.\n",
      "20:28:44.932: Setting stopping tolerance adaptively based on the training frame: 0.0135345385323802\n",
      "20:28:44.932: Build control seed: 10\n",
      "20:28:44.933: training frame: Frame key: AutoML_1_20241226_202844_training_Key_Frame__upload_865b450262053ea35082fd086f784c9a.hex    cols: 51    rows: 5459  chunks: 2    size: 2195995  checksum: -217094960968714656\n",
      "20:28:44.933: validation frame: Frame key: Key_Frame__upload_a00b139507a78235cb7c3896cefa4cda.hex    cols: 51    rows: 1170  chunks: 1    size: 472638  checksum: 742896563949582232\n",
      "20:28:44.933: leaderboard frame: Frame key: Key_Frame__upload_a00b139507a78235cb7c3896cefa4cda.hex    cols: 51    rows: 1170  chunks: 1    size: 472638  checksum: 742896563949582232\n",
      "20:28:44.934: blending frame: NULL\n",
      "20:28:44.934: response column: yearly_compensation\n",
      "20:28:44.934: fold column: null\n",
      "20:28:44.934: weights column: null\n",
      "20:28:44.950: AutoML: XGBoost is not available; skipping it.\n",
      "20:28:44.955: Loading execution steps: [{XGBoost : [def_2 (1g, 10w), def_1 (2g, 10w), def_3 (3g, 10w), grid_1 (4g, 90w), lr_search (7g, 30w)]}, {GLM : [def_1 (1g, 10w)]}, {DRF : [def_1 (2g, 10w), XRT (3g, 10w)]}, {GBM : [def_5 (1g, 10w), def_2 (2g, 10w), def_3 (2g, 10w), def_4 (2g, 10w), def_1 (3g, 10w), grid_1 (4g, 60w), lr_annealing (7g, 10w)]}, {DeepLearning : [def_1 (3g, 10w), grid_1 (4g, 30w), grid_2 (5g, 30w), grid_3 (5g, 30w)]}, {completion : [resume_best_grids (6g, 60w)]}, {StackedEnsemble : [monotonic (9g, 10w), best_of_family_xglm (10g, 10w), all_xglm (10g, 10w)]}]\n",
      "20:28:44.987: Disabling Algo: DeepLearning as requested by the user.\n",
      "20:28:44.987: Disabling Algo: XGBoost as requested by the user.\n",
      "20:28:44.988: AutoML job created: 2024.12.26 20:28:44.887\n",
      "20:28:44.989: AutoML build started: 2024.12.26 20:28:44.988\n",
      "20:28:45.13: AutoML: starting GLM_1_AutoML_1_20241226_202844 model training\n",
      "\n",
      "\n",
      "20:28:46.232: New leader: GLM_1_AutoML_1_20241226_202844, rmse: 0.7502736843084195\n",
      "\n",
      "\n",
      "20:28:46.247: AutoML: starting GBM_1_AutoML_1_20241226_202844 model training\n",
      "\n",
      "██████\n",
      "20:28:56.459: AutoML: starting DRF_1_AutoML_1_20241226_202844 model training\n",
      "\n",
      "█ (cancelled)\n"
     ]
    },
    {
     "ename": "H2OJobCancelled",
     "evalue": "Job<$03017f00000132d4ffffffff$_a9cde2e84f9c647f3884662018b943fb> was cancelled by the user.",
     "output_type": "error",
     "traceback": [
      "\u001b[1;31m---------------------------------------------------------------------------\u001b[0m",
      "\u001b[1;31mH2OJobCancelled\u001b[0m                           Traceback (most recent call last)",
      "Cell \u001b[1;32mIn[29], line 2\u001b[0m\n\u001b[0;32m      1\u001b[0m \u001b[38;5;66;03m# Train the AutoML models with cross validation\u001b[39;00m\n\u001b[1;32m----> 2\u001b[0m \u001b[43mh2o_automl\u001b[49m\u001b[38;5;241;43m.\u001b[39;49m\u001b[43mtrain\u001b[49m\u001b[43m(\u001b[49m\u001b[43mx\u001b[49m\u001b[38;5;241;43m=\u001b[39;49m\u001b[43mfeatures\u001b[49m\u001b[43m,\u001b[49m\u001b[43m \u001b[49m\u001b[43my\u001b[49m\u001b[38;5;241;43m=\u001b[39;49m\u001b[43mtarget\u001b[49m\u001b[43m,\u001b[49m\u001b[43m \u001b[49m\u001b[43mtraining_frame\u001b[49m\u001b[38;5;241;43m=\u001b[39;49m\u001b[43mtrain_h2o\u001b[49m\u001b[43m,\u001b[49m\u001b[43m \u001b[49m\u001b[43mvalidation_frame\u001b[49m\u001b[38;5;241;43m=\u001b[39;49m\u001b[43mval_h2o\u001b[49m\u001b[43m)\u001b[49m\n",
      "File \u001b[1;32mc:\\Users\\Huawei\\OneDrive - Universiti Malaya\\Desktop\\SEMESTER 7\\WIE3007_Data-Mining\\Group Project\\data-mining-warehousing-wages-analysis\\venv\\lib\\site-packages\\h2o\\automl\\_estimator.py:682\u001b[0m, in \u001b[0;36mH2OAutoML.train\u001b[1;34m(self, x, y, training_frame, fold_column, weights_column, validation_frame, leaderboard_frame, blending_frame)\u001b[0m\n\u001b[0;32m    680\u001b[0m poll_updates \u001b[38;5;241m=\u001b[39m ft\u001b[38;5;241m.\u001b[39mpartial(\u001b[38;5;28mself\u001b[39m\u001b[38;5;241m.\u001b[39m_poll_training_updates, verbosity\u001b[38;5;241m=\u001b[39m\u001b[38;5;28mself\u001b[39m\u001b[38;5;241m.\u001b[39m_verbosity, state\u001b[38;5;241m=\u001b[39m{})\n\u001b[0;32m    681\u001b[0m \u001b[38;5;28;01mtry\u001b[39;00m:\n\u001b[1;32m--> 682\u001b[0m     \u001b[38;5;28;43mself\u001b[39;49m\u001b[38;5;241;43m.\u001b[39;49m\u001b[43m_job\u001b[49m\u001b[38;5;241;43m.\u001b[39;49m\u001b[43mpoll\u001b[49m\u001b[43m(\u001b[49m\u001b[43mpoll_updates\u001b[49m\u001b[38;5;241;43m=\u001b[39;49m\u001b[43mpoll_updates\u001b[49m\u001b[43m)\u001b[49m\n\u001b[0;32m    683\u001b[0m \u001b[38;5;28;01mfinally\u001b[39;00m:\n\u001b[0;32m    684\u001b[0m     poll_updates(\u001b[38;5;28mself\u001b[39m\u001b[38;5;241m.\u001b[39m_job, \u001b[38;5;241m1\u001b[39m)\n",
      "File \u001b[1;32mc:\\Users\\Huawei\\OneDrive - Universiti Malaya\\Desktop\\SEMESTER 7\\WIE3007_Data-Mining\\Group Project\\data-mining-warehousing-wages-analysis\\venv\\lib\\site-packages\\h2o\\job.py:85\u001b[0m, in \u001b[0;36mH2OJob.poll\u001b[1;34m(self, poll_updates)\u001b[0m\n\u001b[0;32m     83\u001b[0m \u001b[38;5;66;03m# check if failed... and politely print relevant message\u001b[39;00m\n\u001b[0;32m     84\u001b[0m \u001b[38;5;28;01mif\u001b[39;00m \u001b[38;5;28mself\u001b[39m\u001b[38;5;241m.\u001b[39mstatus \u001b[38;5;241m==\u001b[39m \u001b[38;5;124m\"\u001b[39m\u001b[38;5;124mCANCELLED\u001b[39m\u001b[38;5;124m\"\u001b[39m:\n\u001b[1;32m---> 85\u001b[0m     \u001b[38;5;28;01mraise\u001b[39;00m H2OJobCancelled(\u001b[38;5;124m\"\u001b[39m\u001b[38;5;124mJob<\u001b[39m\u001b[38;5;132;01m%s\u001b[39;00m\u001b[38;5;124m> was cancelled by the user.\u001b[39m\u001b[38;5;124m\"\u001b[39m \u001b[38;5;241m%\u001b[39m \u001b[38;5;28mself\u001b[39m\u001b[38;5;241m.\u001b[39mjob_key)\n\u001b[0;32m     86\u001b[0m \u001b[38;5;28;01mif\u001b[39;00m \u001b[38;5;28mself\u001b[39m\u001b[38;5;241m.\u001b[39mstatus \u001b[38;5;241m==\u001b[39m \u001b[38;5;124m\"\u001b[39m\u001b[38;5;124mFAILED\u001b[39m\u001b[38;5;124m\"\u001b[39m:\n\u001b[0;32m     87\u001b[0m     \u001b[38;5;28;01mif\u001b[39;00m (\u001b[38;5;28misinstance\u001b[39m(\u001b[38;5;28mself\u001b[39m\u001b[38;5;241m.\u001b[39mjob, \u001b[38;5;28mdict\u001b[39m)) \u001b[38;5;129;01mand\u001b[39;00m (\u001b[38;5;124m\"\u001b[39m\u001b[38;5;124mstacktrace\u001b[39m\u001b[38;5;124m\"\u001b[39m \u001b[38;5;129;01min\u001b[39;00m \u001b[38;5;28mlist\u001b[39m(\u001b[38;5;28mself\u001b[39m\u001b[38;5;241m.\u001b[39mjob)):\n",
      "\u001b[1;31mH2OJobCancelled\u001b[0m: Job<$03017f00000132d4ffffffff$_a9cde2e84f9c647f3884662018b943fb> was cancelled by the user."
     ]
    }
   ],
   "source": [
    "# Train the AutoML models with cross validation\n",
    "h2o_automl.train(x=features, y=target, training_frame=train_h2o, validation_frame=val_h2o)"
   ]
  },
  {
   "cell_type": "code",
   "execution_count": null,
   "metadata": {},
   "outputs": [],
   "source": [
    "# Review Leaderboard\n",
    "h2o_models = h2o.automl.get_leaderboard(h2o_automl, extra_columns=\"All\")\n",
    "h2o_models"
   ]
  },
  {
   "cell_type": "code",
   "execution_count": 11,
   "metadata": {},
   "outputs": [
    {
     "name": "stdout",
     "output_type": "stream",
     "text": [
      "Best Model: GLM_1_AutoML_1_20241226_201057\n"
     ]
    }
   ],
   "source": [
    "# Identify the best-performing model\n",
    "best_model = h2o_automl.leader\n",
    "print(f\"Best Model: {best_model.model_id}\")"
   ]
  },
  {
   "cell_type": "code",
   "execution_count": 12,
   "metadata": {},
   "outputs": [
    {
     "name": "stdout",
     "output_type": "stream",
     "text": [
      "glm prediction progress: |███████████████████████████████████████████████████████| (done) 100%\n"
     ]
    }
   ],
   "source": [
    "# Step 5: Evaluate on Test Data\n",
    "# Generate predictions\n",
    "predictions = best_model.predict(test_h2o)\n",
    "actual_predictions = y_test\n",
    "\n",
    "h2o_mean_squared_error(predictions, actual_predictions)"
   ]
  },
  {
   "cell_type": "code",
   "execution_count": null,
   "metadata": {},
   "outputs": [
    {
     "name": "stdout",
     "output_type": "stream",
     "text": [
      "Predictions on Test Data:\n"
     ]
    },
    {
     "ename": "H2OConnectionError",
     "evalue": "Connection was closed, and can no longer be used.",
     "output_type": "error",
     "traceback": [
      "\u001b[1;31m---------------------------------------------------------------------------\u001b[0m",
      "\u001b[1;31mH2OConnectionError\u001b[0m                        Traceback (most recent call last)",
      "Cell \u001b[1;32mIn[20], line 3\u001b[0m\n\u001b[0;32m      1\u001b[0m \u001b[38;5;66;03m# Display a preview of predictions\u001b[39;00m\n\u001b[0;32m      2\u001b[0m \u001b[38;5;28mprint\u001b[39m(\u001b[38;5;124m\"\u001b[39m\u001b[38;5;124mPredictions on Test Data:\u001b[39m\u001b[38;5;124m\"\u001b[39m)\n\u001b[1;32m----> 3\u001b[0m \u001b[43mpredictions\u001b[49m\u001b[38;5;241;43m.\u001b[39;49m\u001b[43mhead\u001b[49m\u001b[43m(\u001b[49m\u001b[43m)\u001b[49m\n",
      "File \u001b[1;32mc:\\Users\\Huawei\\OneDrive - Universiti Malaya\\Desktop\\SEMESTER 7\\WIE3007_Data-Mining\\Group Project\\data-mining-warehousing-wages-analysis\\venv\\lib\\site-packages\\h2o\\frame.py:613\u001b[0m, in \u001b[0;36mH2OFrame.head\u001b[1;34m(self, rows, cols)\u001b[0m\n\u001b[0;32m    611\u001b[0m ncols \u001b[38;5;241m=\u001b[39m \u001b[38;5;28mmin\u001b[39m(\u001b[38;5;28mself\u001b[39m\u001b[38;5;241m.\u001b[39mncols, cols)\n\u001b[0;32m    612\u001b[0m newdt \u001b[38;5;241m=\u001b[39m \u001b[38;5;28mself\u001b[39m[:nrows, :ncols]\n\u001b[1;32m--> 613\u001b[0m \u001b[38;5;28;01mreturn\u001b[39;00m \u001b[43mnewdt\u001b[49m\u001b[38;5;241;43m.\u001b[39;49m\u001b[43m_frame\u001b[49m\u001b[43m(\u001b[49m\u001b[43mrows\u001b[49m\u001b[38;5;241;43m=\u001b[39;49m\u001b[43mnrows\u001b[49m\u001b[43m,\u001b[49m\u001b[43m \u001b[49m\u001b[43mcols\u001b[49m\u001b[38;5;241;43m=\u001b[39;49m\u001b[43mcols\u001b[49m\u001b[43m,\u001b[49m\u001b[43m \u001b[49m\u001b[43mfill_cache\u001b[49m\u001b[38;5;241;43m=\u001b[39;49m\u001b[38;5;28;43;01mTrue\u001b[39;49;00m\u001b[43m)\u001b[49m\n",
      "File \u001b[1;32mc:\\Users\\Huawei\\OneDrive - Universiti Malaya\\Desktop\\SEMESTER 7\\WIE3007_Data-Mining\\Group Project\\data-mining-warehousing-wages-analysis\\venv\\lib\\site-packages\\h2o\\frame.py:584\u001b[0m, in \u001b[0;36mH2OFrame._frame\u001b[1;34m(self, rows, rows_offset, cols, cols_offset, fill_cache)\u001b[0m\n\u001b[0;32m    583\u001b[0m \u001b[38;5;28;01mdef\u001b[39;00m \u001b[38;5;21m_frame\u001b[39m(\u001b[38;5;28mself\u001b[39m, rows\u001b[38;5;241m=\u001b[39m\u001b[38;5;241m10\u001b[39m, rows_offset\u001b[38;5;241m=\u001b[39m\u001b[38;5;241m0\u001b[39m, cols\u001b[38;5;241m=\u001b[39m\u001b[38;5;241m-\u001b[39m\u001b[38;5;241m1\u001b[39m, cols_offset\u001b[38;5;241m=\u001b[39m\u001b[38;5;241m0\u001b[39m, fill_cache\u001b[38;5;241m=\u001b[39m\u001b[38;5;28;01mFalse\u001b[39;00m):\n\u001b[1;32m--> 584\u001b[0m     \u001b[38;5;28;43mself\u001b[39;49m\u001b[38;5;241;43m.\u001b[39;49m\u001b[43m_ex\u001b[49m\u001b[38;5;241;43m.\u001b[39;49m\u001b[43m_eager_frame\u001b[49m\u001b[43m(\u001b[49m\u001b[43m)\u001b[49m\n\u001b[0;32m    585\u001b[0m     \u001b[38;5;28;01mif\u001b[39;00m fill_cache:\n\u001b[0;32m    586\u001b[0m         \u001b[38;5;28mself\u001b[39m\u001b[38;5;241m.\u001b[39m_ex\u001b[38;5;241m.\u001b[39m_cache\u001b[38;5;241m.\u001b[39mfill(rows\u001b[38;5;241m=\u001b[39mrows, rows_offset\u001b[38;5;241m=\u001b[39mrows_offset, cols\u001b[38;5;241m=\u001b[39mcols, cols_offset\u001b[38;5;241m=\u001b[39mcols_offset)\n",
      "File \u001b[1;32mc:\\Users\\Huawei\\OneDrive - Universiti Malaya\\Desktop\\SEMESTER 7\\WIE3007_Data-Mining\\Group Project\\data-mining-warehousing-wages-analysis\\venv\\lib\\site-packages\\h2o\\expr.py:90\u001b[0m, in \u001b[0;36mExprNode._eager_frame\u001b[1;34m(self)\u001b[0m\n\u001b[0;32m     88\u001b[0m \u001b[38;5;28;01mif\u001b[39;00m \u001b[38;5;129;01mnot\u001b[39;00m \u001b[38;5;28mself\u001b[39m\u001b[38;5;241m.\u001b[39m_cache\u001b[38;5;241m.\u001b[39mis_empty(): \u001b[38;5;28;01mreturn\u001b[39;00m\n\u001b[0;32m     89\u001b[0m \u001b[38;5;28;01mif\u001b[39;00m \u001b[38;5;28mself\u001b[39m\u001b[38;5;241m.\u001b[39m_cache\u001b[38;5;241m.\u001b[39m_id \u001b[38;5;129;01mis\u001b[39;00m \u001b[38;5;129;01mnot\u001b[39;00m \u001b[38;5;28;01mNone\u001b[39;00m: \u001b[38;5;28;01mreturn\u001b[39;00m  \u001b[38;5;66;03m# Data already computed under ID, but not cached locally\u001b[39;00m\n\u001b[1;32m---> 90\u001b[0m \u001b[38;5;28;43mself\u001b[39;49m\u001b[38;5;241;43m.\u001b[39;49m\u001b[43m_eval_driver\u001b[49m\u001b[43m(\u001b[49m\u001b[38;5;124;43m'\u001b[39;49m\u001b[38;5;124;43mframe\u001b[39;49m\u001b[38;5;124;43m'\u001b[39;49m\u001b[43m)\u001b[49m\n",
      "File \u001b[1;32mc:\\Users\\Huawei\\OneDrive - Universiti Malaya\\Desktop\\SEMESTER 7\\WIE3007_Data-Mining\\Group Project\\data-mining-warehousing-wages-analysis\\venv\\lib\\site-packages\\h2o\\expr.py:113\u001b[0m, in \u001b[0;36mExprNode._eval_driver\u001b[1;34m(self, top)\u001b[0m\n\u001b[0;32m    106\u001b[0m \u001b[38;5;28;01mdef\u001b[39;00m \u001b[38;5;21m_eval_driver\u001b[39m(\u001b[38;5;28mself\u001b[39m, top):\n\u001b[0;32m    107\u001b[0m \u001b[38;5;250m    \u001b[39m\u001b[38;5;124;03m\"\"\"\u001b[39;00m\n\u001b[0;32m    108\u001b[0m \u001b[38;5;124;03m    :param top: if this is a top expression (providing a final result),\u001b[39;00m\n\u001b[0;32m    109\u001b[0m \u001b[38;5;124;03m        then specifies the expected result type (accepted values = ['frame', 'scalar']),\u001b[39;00m\n\u001b[0;32m    110\u001b[0m \u001b[38;5;124;03m        or None if no object creation is expected.\u001b[39;00m\n\u001b[0;32m    111\u001b[0m \u001b[38;5;124;03m    :return: self expr\u001b[39;00m\n\u001b[0;32m    112\u001b[0m \u001b[38;5;124;03m    \"\"\"\u001b[39;00m\n\u001b[1;32m--> 113\u001b[0m     exec_str \u001b[38;5;241m=\u001b[39m \u001b[38;5;28;43mself\u001b[39;49m\u001b[38;5;241;43m.\u001b[39;49m\u001b[43m_get_ast_str\u001b[49m\u001b[43m(\u001b[49m\u001b[43mtop\u001b[49m\u001b[43m)\u001b[49m\n\u001b[0;32m    114\u001b[0m     res \u001b[38;5;241m=\u001b[39m ExprNode\u001b[38;5;241m.\u001b[39mrapids(exec_str)\n\u001b[0;32m    115\u001b[0m     \u001b[38;5;28;01mif\u001b[39;00m \u001b[38;5;124m'\u001b[39m\u001b[38;5;124mscalar\u001b[39m\u001b[38;5;124m'\u001b[39m \u001b[38;5;129;01min\u001b[39;00m res:\n",
      "File \u001b[1;32mc:\\Users\\Huawei\\OneDrive - Universiti Malaya\\Desktop\\SEMESTER 7\\WIE3007_Data-Mining\\Group Project\\data-mining-warehousing-wages-analysis\\venv\\lib\\site-packages\\h2o\\expr.py:171\u001b[0m, in \u001b[0;36mExprNode._get_ast_str\u001b[1;34m(self, top)\u001b[0m\n\u001b[0;32m    169\u001b[0m \u001b[38;5;66;03m# if this self node is referenced by at least one other node (nested expr), then create a tmp frame\u001b[39;00m\n\u001b[0;32m    170\u001b[0m \u001b[38;5;28;01mif\u001b[39;00m top \u001b[38;5;241m==\u001b[39m \u001b[38;5;124m'\u001b[39m\u001b[38;5;124mframe\u001b[39m\u001b[38;5;124m'\u001b[39m \u001b[38;5;129;01mor\u001b[39;00m (\u001b[38;5;129;01mnot\u001b[39;00m top \u001b[38;5;129;01mand\u001b[39;00m ref_cnt \u001b[38;5;241m>\u001b[39m \u001b[38;5;241m1\u001b[39m):\n\u001b[1;32m--> 171\u001b[0m     \u001b[38;5;28mself\u001b[39m\u001b[38;5;241m.\u001b[39m_cache\u001b[38;5;241m.\u001b[39m_id \u001b[38;5;241m=\u001b[39m _py_tmp_key(append\u001b[38;5;241m=\u001b[39m\u001b[43mh2o\u001b[49m\u001b[38;5;241;43m.\u001b[39;49m\u001b[43mconnection\u001b[49m\u001b[43m(\u001b[49m\u001b[43m)\u001b[49m\u001b[38;5;241;43m.\u001b[39;49m\u001b[43msession_id\u001b[49m)\n\u001b[0;32m    172\u001b[0m     exec_str \u001b[38;5;241m=\u001b[39m \u001b[38;5;124m\"\u001b[39m\u001b[38;5;124m(tmp= \u001b[39m\u001b[38;5;132;01m{}\u001b[39;00m\u001b[38;5;124m \u001b[39m\u001b[38;5;132;01m{}\u001b[39;00m\u001b[38;5;124m)\u001b[39m\u001b[38;5;124m\"\u001b[39m\u001b[38;5;241m.\u001b[39mformat(\u001b[38;5;28mself\u001b[39m\u001b[38;5;241m.\u001b[39m_cache\u001b[38;5;241m.\u001b[39m_id, exec_str)\n\u001b[0;32m    173\u001b[0m \u001b[38;5;28;01mreturn\u001b[39;00m exec_str\n",
      "File \u001b[1;32mc:\\Users\\Huawei\\OneDrive - Universiti Malaya\\Desktop\\SEMESTER 7\\WIE3007_Data-Mining\\Group Project\\data-mining-warehousing-wages-analysis\\venv\\lib\\site-packages\\h2o\\backend\\connection.py:572\u001b[0m, in \u001b[0;36mH2OConnection.session_id\u001b[1;34m(self)\u001b[0m\n\u001b[0;32m    564\u001b[0m \u001b[38;5;250m\u001b[39m\u001b[38;5;124;03m\"\"\"\u001b[39;00m\n\u001b[0;32m    565\u001b[0m \u001b[38;5;124;03mReturn the session id of the current connection.\u001b[39;00m\n\u001b[0;32m    566\u001b[0m \n\u001b[1;32m   (...)\u001b[0m\n\u001b[0;32m    569\u001b[0m \u001b[38;5;124;03missued, the session id will stay the same until the connection is closed.\u001b[39;00m\n\u001b[0;32m    570\u001b[0m \u001b[38;5;124;03m\"\"\"\u001b[39;00m\n\u001b[0;32m    571\u001b[0m \u001b[38;5;28;01mif\u001b[39;00m \u001b[38;5;28mself\u001b[39m\u001b[38;5;241m.\u001b[39m_session_id \u001b[38;5;129;01mis\u001b[39;00m \u001b[38;5;28;01mNone\u001b[39;00m:\n\u001b[1;32m--> 572\u001b[0m     req \u001b[38;5;241m=\u001b[39m \u001b[38;5;28;43mself\u001b[39;49m\u001b[38;5;241;43m.\u001b[39;49m\u001b[43mrequest\u001b[49m\u001b[43m(\u001b[49m\u001b[38;5;124;43m\"\u001b[39;49m\u001b[38;5;124;43mPOST /4/sessions\u001b[39;49m\u001b[38;5;124;43m\"\u001b[39;49m\u001b[43m)\u001b[49m\n\u001b[0;32m    573\u001b[0m     \u001b[38;5;28mself\u001b[39m\u001b[38;5;241m.\u001b[39m_session_id \u001b[38;5;241m=\u001b[39m req\u001b[38;5;241m.\u001b[39mget(\u001b[38;5;124m\"\u001b[39m\u001b[38;5;124msession_key\u001b[39m\u001b[38;5;124m\"\u001b[39m) \u001b[38;5;129;01mor\u001b[39;00m req\u001b[38;5;241m.\u001b[39mget(\u001b[38;5;124m\"\u001b[39m\u001b[38;5;124msession_id\u001b[39m\u001b[38;5;124m\"\u001b[39m)\n\u001b[0;32m    574\u001b[0m \u001b[38;5;28;01mreturn\u001b[39;00m CallableString(\u001b[38;5;28mself\u001b[39m\u001b[38;5;241m.\u001b[39m_session_id)\n",
      "File \u001b[1;32mc:\\Users\\Huawei\\OneDrive - Universiti Malaya\\Desktop\\SEMESTER 7\\WIE3007_Data-Mining\\Group Project\\data-mining-warehousing-wages-analysis\\venv\\lib\\site-packages\\h2o\\backend\\connection.py:451\u001b[0m, in \u001b[0;36mH2OConnection.request\u001b[1;34m(self, endpoint, data, json, filename, save_to)\u001b[0m\n\u001b[0;32m    432\u001b[0m \u001b[38;5;250m\u001b[39m\u001b[38;5;124;03m\"\"\"\u001b[39;00m\n\u001b[0;32m    433\u001b[0m \u001b[38;5;124;03mPerform a REST API request to the backend H2O server.\u001b[39;00m\n\u001b[0;32m    434\u001b[0m \n\u001b[1;32m   (...)\u001b[0m\n\u001b[0;32m    448\u001b[0m \u001b[38;5;124;03m:raises H2OResponseError: if the server returned an H2OErrorV3 response (e.g. if the parameters were invalid).\u001b[39;00m\n\u001b[0;32m    449\u001b[0m \u001b[38;5;124;03m\"\"\"\u001b[39;00m\n\u001b[0;32m    450\u001b[0m \u001b[38;5;28;01mif\u001b[39;00m \u001b[38;5;28mself\u001b[39m\u001b[38;5;241m.\u001b[39m_stage \u001b[38;5;241m==\u001b[39m \u001b[38;5;241m0\u001b[39m: \u001b[38;5;28;01mraise\u001b[39;00m H2OConnectionError(\u001b[38;5;124m\"\u001b[39m\u001b[38;5;124mConnection not initialized; run .connect() first.\u001b[39m\u001b[38;5;124m\"\u001b[39m)\n\u001b[1;32m--> 451\u001b[0m \u001b[38;5;28;01mif\u001b[39;00m \u001b[38;5;28mself\u001b[39m\u001b[38;5;241m.\u001b[39m_stage \u001b[38;5;241m==\u001b[39m \u001b[38;5;241m-\u001b[39m\u001b[38;5;241m1\u001b[39m: \u001b[38;5;28;01mraise\u001b[39;00m H2OConnectionError(\u001b[38;5;124m\"\u001b[39m\u001b[38;5;124mConnection was closed, and can no longer be used.\u001b[39m\u001b[38;5;124m\"\u001b[39m)\n\u001b[0;32m    453\u001b[0m \u001b[38;5;66;03m# Prepare URL\u001b[39;00m\n\u001b[0;32m    454\u001b[0m assert_is_type(endpoint, \u001b[38;5;28mstr\u001b[39m)\n",
      "\u001b[1;31mH2OConnectionError\u001b[0m: Connection was closed, and can no longer be used."
     ]
    }
   ],
   "source": [
    "# Display a preview of predictions\n",
    "h2o_compare = pd.DataFrame(data={'actual': y_test, 'predicted': predictions.as_data_frame().to_numpy().ravel()})\n",
    "h2o_compare.plot(figsize=(10, 6), title=\"Actual vs Predicted Yearly Compensation (H2O AutoML)\", xlabel=\"Actual Vs Predicted\", ylabel=\"Yearly Compensation\")"
   ]
  },
  {
   "cell_type": "code",
   "execution_count": 14,
   "metadata": {},
   "outputs": [
    {
     "name": "stdout",
     "output_type": "stream",
     "text": [
      "Model Performance on Test Data:\n",
      "ModelMetricsRegressionGLM: glm\n",
      "** Reported on test data. **\n",
      "\n",
      "MSE: 0.580239033646979\n",
      "RMSE: 0.7617342276982039\n",
      "MAE: 0.5441590865678606\n",
      "RMSLE: NaN\n",
      "Mean Residual Deviance: 0.580239033646979\n",
      "R^2: 0.9898857737387018\n",
      "Null degrees of freedom: 1169\n",
      "Residual degrees of freedom: 1119\n",
      "Null deviance: 67121.28489254977\n",
      "Residual deviance: 678.8796693669655\n",
      "AIC: 2787.467461661745\n"
     ]
    }
   ],
   "source": [
    "# Evaluate model performance\n",
    "performance = best_model.model_performance(test_h2o)\n",
    "print(\"Model Performance on Test Data:\")\n",
    "print(performance)"
   ]
  },
  {
   "cell_type": "code",
   "execution_count": 15,
   "metadata": {},
   "outputs": [
    {
     "name": "stderr",
     "output_type": "stream",
     "text": [
      "c:\\Users\\Huawei\\OneDrive - Universiti Malaya\\Desktop\\SEMESTER 7\\WIE3007_Data-Mining\\Group Project\\data-mining-warehousing-wages-analysis\\venv\\lib\\site-packages\\h2o\\frame.py:1983: H2ODependencyWarning: Converting H2O frame to pandas dataframe using single-thread.  For faster conversion using multi-thread, install polars and pyarrow and use it as pandas_df = h2o_df.as_data_frame(use_multi_thread=True)\n",
      "\n",
      "  warnings.warn(\"Converting H2O frame to pandas dataframe using single-thread.  For faster conversion using\"\n"
     ]
    }
   ],
   "source": [
    "# Step 6: Advanced Techniques - Ensemble Model Analysis\n",
    "# Extract specific models from the leaderboard for further analysis (e.g., Gradient Boosting)\n",
    "model_ids = leaderboard['model_id'].as_data_frame()['model_id'].tolist()\n",
    "gbm_model_id = next(mid for mid in model_ids if \"GBM\" in mid)\n",
    "gbm_model = h2o.get_model(gbm_model_id)"
   ]
  },
  {
   "cell_type": "code",
   "execution_count": 16,
   "metadata": {},
   "outputs": [
    {
     "name": "stdout",
     "output_type": "stream",
     "text": [
      "GBM Model Performance:\n",
      "ModelMetricsRegression: gbm\n",
      "** Reported on test data. **\n",
      "\n",
      "MSE: 3.1661946202578672\n",
      "RMSE: 1.7793804034713507\n",
      "MAE: 1.307297046193763\n",
      "RMSLE: NaN\n",
      "Mean Residual Deviance: 3.1661946202578672\n"
     ]
    }
   ],
   "source": [
    "# Analyze GBM Model\n",
    "gbm_performance = gbm_model.model_performance(test_h2o)\n",
    "print(\"GBM Model Performance:\")\n",
    "print(gbm_performance)"
   ]
  },
  {
   "cell_type": "code",
   "execution_count": 17,
   "metadata": {},
   "outputs": [
    {
     "name": "stderr",
     "output_type": "stream",
     "text": [
      "c:\\Users\\Huawei\\OneDrive - Universiti Malaya\\Desktop\\SEMESTER 7\\WIE3007_Data-Mining\\Group Project\\data-mining-warehousing-wages-analysis\\venv\\lib\\site-packages\\h2o\\frame.py:1983: H2ODependencyWarning: Converting H2O frame to pandas dataframe using single-thread.  For faster conversion using multi-thread, install polars and pyarrow and use it as pandas_df = h2o_df.as_data_frame(use_multi_thread=True)\n",
      "\n",
      "  warnings.warn(\"Converting H2O frame to pandas dataframe using single-thread.  For faster conversion using\"\n"
     ]
    },
    {
     "ename": "OSError",
     "evalue": "Cannot save file into a non-existent directory: '..\\04_modelling\\results'",
     "output_type": "error",
     "traceback": [
      "\u001b[1;31m---------------------------------------------------------------------------\u001b[0m",
      "\u001b[1;31mOSError\u001b[0m                                   Traceback (most recent call last)",
      "Cell \u001b[1;32mIn[17], line 4\u001b[0m\n\u001b[0;32m      1\u001b[0m \u001b[38;5;66;03m# Step 7: Save and Interpret Results\u001b[39;00m\n\u001b[0;32m      2\u001b[0m \u001b[38;5;66;03m# Save leaderboard and best model locally for further analysis\u001b[39;00m\n\u001b[0;32m      3\u001b[0m leaderboard_path \u001b[38;5;241m=\u001b[39m \u001b[38;5;124m\"\u001b[39m\u001b[38;5;124m../04_modelling/results/leaderboard.csv\u001b[39m\u001b[38;5;124m\"\u001b[39m\n\u001b[1;32m----> 4\u001b[0m \u001b[43mleaderboard\u001b[49m\u001b[38;5;241;43m.\u001b[39;49m\u001b[43mas_data_frame\u001b[49m\u001b[43m(\u001b[49m\u001b[43m)\u001b[49m\u001b[38;5;241;43m.\u001b[39;49m\u001b[43mto_csv\u001b[49m\u001b[43m(\u001b[49m\u001b[43mleaderboard_path\u001b[49m\u001b[43m,\u001b[49m\u001b[43m \u001b[49m\u001b[43mindex\u001b[49m\u001b[38;5;241;43m=\u001b[39;49m\u001b[38;5;28;43;01mFalse\u001b[39;49;00m\u001b[43m)\u001b[49m\n\u001b[0;32m      5\u001b[0m \u001b[38;5;28mprint\u001b[39m(\u001b[38;5;124mf\u001b[39m\u001b[38;5;124m\"\u001b[39m\u001b[38;5;124mLeaderboard saved to: \u001b[39m\u001b[38;5;132;01m{\u001b[39;00mleaderboard_path\u001b[38;5;132;01m}\u001b[39;00m\u001b[38;5;124m\"\u001b[39m)\n",
      "File \u001b[1;32mc:\\Users\\Huawei\\OneDrive - Universiti Malaya\\Desktop\\SEMESTER 7\\WIE3007_Data-Mining\\Group Project\\data-mining-warehousing-wages-analysis\\venv\\lib\\site-packages\\pandas\\core\\generic.py:3772\u001b[0m, in \u001b[0;36mNDFrame.to_csv\u001b[1;34m(self, path_or_buf, sep, na_rep, float_format, columns, header, index, index_label, mode, encoding, compression, quoting, quotechar, lineterminator, chunksize, date_format, doublequote, escapechar, decimal, errors, storage_options)\u001b[0m\n\u001b[0;32m   3761\u001b[0m df \u001b[38;5;241m=\u001b[39m \u001b[38;5;28mself\u001b[39m \u001b[38;5;28;01mif\u001b[39;00m \u001b[38;5;28misinstance\u001b[39m(\u001b[38;5;28mself\u001b[39m, ABCDataFrame) \u001b[38;5;28;01melse\u001b[39;00m \u001b[38;5;28mself\u001b[39m\u001b[38;5;241m.\u001b[39mto_frame()\n\u001b[0;32m   3763\u001b[0m formatter \u001b[38;5;241m=\u001b[39m DataFrameFormatter(\n\u001b[0;32m   3764\u001b[0m     frame\u001b[38;5;241m=\u001b[39mdf,\n\u001b[0;32m   3765\u001b[0m     header\u001b[38;5;241m=\u001b[39mheader,\n\u001b[1;32m   (...)\u001b[0m\n\u001b[0;32m   3769\u001b[0m     decimal\u001b[38;5;241m=\u001b[39mdecimal,\n\u001b[0;32m   3770\u001b[0m )\n\u001b[1;32m-> 3772\u001b[0m \u001b[38;5;28;01mreturn\u001b[39;00m \u001b[43mDataFrameRenderer\u001b[49m\u001b[43m(\u001b[49m\u001b[43mformatter\u001b[49m\u001b[43m)\u001b[49m\u001b[38;5;241;43m.\u001b[39;49m\u001b[43mto_csv\u001b[49m\u001b[43m(\u001b[49m\n\u001b[0;32m   3773\u001b[0m \u001b[43m    \u001b[49m\u001b[43mpath_or_buf\u001b[49m\u001b[43m,\u001b[49m\n\u001b[0;32m   3774\u001b[0m \u001b[43m    \u001b[49m\u001b[43mlineterminator\u001b[49m\u001b[38;5;241;43m=\u001b[39;49m\u001b[43mlineterminator\u001b[49m\u001b[43m,\u001b[49m\n\u001b[0;32m   3775\u001b[0m \u001b[43m    \u001b[49m\u001b[43msep\u001b[49m\u001b[38;5;241;43m=\u001b[39;49m\u001b[43msep\u001b[49m\u001b[43m,\u001b[49m\n\u001b[0;32m   3776\u001b[0m \u001b[43m    \u001b[49m\u001b[43mencoding\u001b[49m\u001b[38;5;241;43m=\u001b[39;49m\u001b[43mencoding\u001b[49m\u001b[43m,\u001b[49m\n\u001b[0;32m   3777\u001b[0m \u001b[43m    \u001b[49m\u001b[43merrors\u001b[49m\u001b[38;5;241;43m=\u001b[39;49m\u001b[43merrors\u001b[49m\u001b[43m,\u001b[49m\n\u001b[0;32m   3778\u001b[0m \u001b[43m    \u001b[49m\u001b[43mcompression\u001b[49m\u001b[38;5;241;43m=\u001b[39;49m\u001b[43mcompression\u001b[49m\u001b[43m,\u001b[49m\n\u001b[0;32m   3779\u001b[0m \u001b[43m    \u001b[49m\u001b[43mquoting\u001b[49m\u001b[38;5;241;43m=\u001b[39;49m\u001b[43mquoting\u001b[49m\u001b[43m,\u001b[49m\n\u001b[0;32m   3780\u001b[0m \u001b[43m    \u001b[49m\u001b[43mcolumns\u001b[49m\u001b[38;5;241;43m=\u001b[39;49m\u001b[43mcolumns\u001b[49m\u001b[43m,\u001b[49m\n\u001b[0;32m   3781\u001b[0m \u001b[43m    \u001b[49m\u001b[43mindex_label\u001b[49m\u001b[38;5;241;43m=\u001b[39;49m\u001b[43mindex_label\u001b[49m\u001b[43m,\u001b[49m\n\u001b[0;32m   3782\u001b[0m \u001b[43m    \u001b[49m\u001b[43mmode\u001b[49m\u001b[38;5;241;43m=\u001b[39;49m\u001b[43mmode\u001b[49m\u001b[43m,\u001b[49m\n\u001b[0;32m   3783\u001b[0m \u001b[43m    \u001b[49m\u001b[43mchunksize\u001b[49m\u001b[38;5;241;43m=\u001b[39;49m\u001b[43mchunksize\u001b[49m\u001b[43m,\u001b[49m\n\u001b[0;32m   3784\u001b[0m \u001b[43m    \u001b[49m\u001b[43mquotechar\u001b[49m\u001b[38;5;241;43m=\u001b[39;49m\u001b[43mquotechar\u001b[49m\u001b[43m,\u001b[49m\n\u001b[0;32m   3785\u001b[0m \u001b[43m    \u001b[49m\u001b[43mdate_format\u001b[49m\u001b[38;5;241;43m=\u001b[39;49m\u001b[43mdate_format\u001b[49m\u001b[43m,\u001b[49m\n\u001b[0;32m   3786\u001b[0m \u001b[43m    \u001b[49m\u001b[43mdoublequote\u001b[49m\u001b[38;5;241;43m=\u001b[39;49m\u001b[43mdoublequote\u001b[49m\u001b[43m,\u001b[49m\n\u001b[0;32m   3787\u001b[0m \u001b[43m    \u001b[49m\u001b[43mescapechar\u001b[49m\u001b[38;5;241;43m=\u001b[39;49m\u001b[43mescapechar\u001b[49m\u001b[43m,\u001b[49m\n\u001b[0;32m   3788\u001b[0m \u001b[43m    \u001b[49m\u001b[43mstorage_options\u001b[49m\u001b[38;5;241;43m=\u001b[39;49m\u001b[43mstorage_options\u001b[49m\u001b[43m,\u001b[49m\n\u001b[0;32m   3789\u001b[0m \u001b[43m\u001b[49m\u001b[43m)\u001b[49m\n",
      "File \u001b[1;32mc:\\Users\\Huawei\\OneDrive - Universiti Malaya\\Desktop\\SEMESTER 7\\WIE3007_Data-Mining\\Group Project\\data-mining-warehousing-wages-analysis\\venv\\lib\\site-packages\\pandas\\io\\formats\\format.py:1186\u001b[0m, in \u001b[0;36mDataFrameRenderer.to_csv\u001b[1;34m(self, path_or_buf, encoding, sep, columns, index_label, mode, compression, quoting, quotechar, lineterminator, chunksize, date_format, doublequote, escapechar, errors, storage_options)\u001b[0m\n\u001b[0;32m   1165\u001b[0m     created_buffer \u001b[38;5;241m=\u001b[39m \u001b[38;5;28;01mFalse\u001b[39;00m\n\u001b[0;32m   1167\u001b[0m csv_formatter \u001b[38;5;241m=\u001b[39m CSVFormatter(\n\u001b[0;32m   1168\u001b[0m     path_or_buf\u001b[38;5;241m=\u001b[39mpath_or_buf,\n\u001b[0;32m   1169\u001b[0m     lineterminator\u001b[38;5;241m=\u001b[39mlineterminator,\n\u001b[1;32m   (...)\u001b[0m\n\u001b[0;32m   1184\u001b[0m     formatter\u001b[38;5;241m=\u001b[39m\u001b[38;5;28mself\u001b[39m\u001b[38;5;241m.\u001b[39mfmt,\n\u001b[0;32m   1185\u001b[0m )\n\u001b[1;32m-> 1186\u001b[0m \u001b[43mcsv_formatter\u001b[49m\u001b[38;5;241;43m.\u001b[39;49m\u001b[43msave\u001b[49m\u001b[43m(\u001b[49m\u001b[43m)\u001b[49m\n\u001b[0;32m   1188\u001b[0m \u001b[38;5;28;01mif\u001b[39;00m created_buffer:\n\u001b[0;32m   1189\u001b[0m     \u001b[38;5;28;01massert\u001b[39;00m \u001b[38;5;28misinstance\u001b[39m(path_or_buf, StringIO)\n",
      "File \u001b[1;32mc:\\Users\\Huawei\\OneDrive - Universiti Malaya\\Desktop\\SEMESTER 7\\WIE3007_Data-Mining\\Group Project\\data-mining-warehousing-wages-analysis\\venv\\lib\\site-packages\\pandas\\io\\formats\\csvs.py:240\u001b[0m, in \u001b[0;36mCSVFormatter.save\u001b[1;34m(self)\u001b[0m\n\u001b[0;32m    236\u001b[0m \u001b[38;5;250m\u001b[39m\u001b[38;5;124;03m\"\"\"\u001b[39;00m\n\u001b[0;32m    237\u001b[0m \u001b[38;5;124;03mCreate the writer & save.\u001b[39;00m\n\u001b[0;32m    238\u001b[0m \u001b[38;5;124;03m\"\"\"\u001b[39;00m\n\u001b[0;32m    239\u001b[0m \u001b[38;5;66;03m# apply compression and byte/text conversion\u001b[39;00m\n\u001b[1;32m--> 240\u001b[0m \u001b[38;5;28;01mwith\u001b[39;00m \u001b[43mget_handle\u001b[49m\u001b[43m(\u001b[49m\n\u001b[0;32m    241\u001b[0m \u001b[43m    \u001b[49m\u001b[38;5;28;43mself\u001b[39;49m\u001b[38;5;241;43m.\u001b[39;49m\u001b[43mfilepath_or_buffer\u001b[49m\u001b[43m,\u001b[49m\n\u001b[0;32m    242\u001b[0m \u001b[43m    \u001b[49m\u001b[38;5;28;43mself\u001b[39;49m\u001b[38;5;241;43m.\u001b[39;49m\u001b[43mmode\u001b[49m\u001b[43m,\u001b[49m\n\u001b[0;32m    243\u001b[0m \u001b[43m    \u001b[49m\u001b[43mencoding\u001b[49m\u001b[38;5;241;43m=\u001b[39;49m\u001b[38;5;28;43mself\u001b[39;49m\u001b[38;5;241;43m.\u001b[39;49m\u001b[43mencoding\u001b[49m\u001b[43m,\u001b[49m\n\u001b[0;32m    244\u001b[0m \u001b[43m    \u001b[49m\u001b[43merrors\u001b[49m\u001b[38;5;241;43m=\u001b[39;49m\u001b[38;5;28;43mself\u001b[39;49m\u001b[38;5;241;43m.\u001b[39;49m\u001b[43merrors\u001b[49m\u001b[43m,\u001b[49m\n\u001b[0;32m    245\u001b[0m \u001b[43m    \u001b[49m\u001b[43mcompression\u001b[49m\u001b[38;5;241;43m=\u001b[39;49m\u001b[38;5;28;43mself\u001b[39;49m\u001b[38;5;241;43m.\u001b[39;49m\u001b[43mcompression\u001b[49m\u001b[43m,\u001b[49m\n\u001b[0;32m    246\u001b[0m \u001b[43m    \u001b[49m\u001b[43mstorage_options\u001b[49m\u001b[38;5;241;43m=\u001b[39;49m\u001b[38;5;28;43mself\u001b[39;49m\u001b[38;5;241;43m.\u001b[39;49m\u001b[43mstorage_options\u001b[49m\u001b[43m,\u001b[49m\n\u001b[0;32m    247\u001b[0m \u001b[43m\u001b[49m\u001b[43m)\u001b[49m \u001b[38;5;28;01mas\u001b[39;00m handles:\n\u001b[0;32m    248\u001b[0m     \u001b[38;5;66;03m# Note: self.encoding is irrelevant here\u001b[39;00m\n\u001b[0;32m    249\u001b[0m     \u001b[38;5;28mself\u001b[39m\u001b[38;5;241m.\u001b[39mwriter \u001b[38;5;241m=\u001b[39m csvlib\u001b[38;5;241m.\u001b[39mwriter(\n\u001b[0;32m    250\u001b[0m         handles\u001b[38;5;241m.\u001b[39mhandle,\n\u001b[0;32m    251\u001b[0m         lineterminator\u001b[38;5;241m=\u001b[39m\u001b[38;5;28mself\u001b[39m\u001b[38;5;241m.\u001b[39mlineterminator,\n\u001b[1;32m   (...)\u001b[0m\n\u001b[0;32m    256\u001b[0m         quotechar\u001b[38;5;241m=\u001b[39m\u001b[38;5;28mself\u001b[39m\u001b[38;5;241m.\u001b[39mquotechar,\n\u001b[0;32m    257\u001b[0m     )\n\u001b[0;32m    259\u001b[0m     \u001b[38;5;28mself\u001b[39m\u001b[38;5;241m.\u001b[39m_save()\n",
      "File \u001b[1;32mc:\\Users\\Huawei\\OneDrive - Universiti Malaya\\Desktop\\SEMESTER 7\\WIE3007_Data-Mining\\Group Project\\data-mining-warehousing-wages-analysis\\venv\\lib\\site-packages\\pandas\\io\\common.py:737\u001b[0m, in \u001b[0;36mget_handle\u001b[1;34m(path_or_buf, mode, encoding, compression, memory_map, is_text, errors, storage_options)\u001b[0m\n\u001b[0;32m    735\u001b[0m \u001b[38;5;66;03m# Only for write methods\u001b[39;00m\n\u001b[0;32m    736\u001b[0m \u001b[38;5;28;01mif\u001b[39;00m \u001b[38;5;124m\"\u001b[39m\u001b[38;5;124mr\u001b[39m\u001b[38;5;124m\"\u001b[39m \u001b[38;5;129;01mnot\u001b[39;00m \u001b[38;5;129;01min\u001b[39;00m mode \u001b[38;5;129;01mand\u001b[39;00m is_path:\n\u001b[1;32m--> 737\u001b[0m     \u001b[43mcheck_parent_directory\u001b[49m\u001b[43m(\u001b[49m\u001b[38;5;28;43mstr\u001b[39;49m\u001b[43m(\u001b[49m\u001b[43mhandle\u001b[49m\u001b[43m)\u001b[49m\u001b[43m)\u001b[49m\n\u001b[0;32m    739\u001b[0m \u001b[38;5;28;01mif\u001b[39;00m compression:\n\u001b[0;32m    740\u001b[0m     \u001b[38;5;28;01mif\u001b[39;00m compression \u001b[38;5;241m!=\u001b[39m \u001b[38;5;124m\"\u001b[39m\u001b[38;5;124mzstd\u001b[39m\u001b[38;5;124m\"\u001b[39m:\n\u001b[0;32m    741\u001b[0m         \u001b[38;5;66;03m# compression libraries do not like an explicit text-mode\u001b[39;00m\n",
      "File \u001b[1;32mc:\\Users\\Huawei\\OneDrive - Universiti Malaya\\Desktop\\SEMESTER 7\\WIE3007_Data-Mining\\Group Project\\data-mining-warehousing-wages-analysis\\venv\\lib\\site-packages\\pandas\\io\\common.py:600\u001b[0m, in \u001b[0;36mcheck_parent_directory\u001b[1;34m(path)\u001b[0m\n\u001b[0;32m    598\u001b[0m parent \u001b[38;5;241m=\u001b[39m Path(path)\u001b[38;5;241m.\u001b[39mparent\n\u001b[0;32m    599\u001b[0m \u001b[38;5;28;01mif\u001b[39;00m \u001b[38;5;129;01mnot\u001b[39;00m parent\u001b[38;5;241m.\u001b[39mis_dir():\n\u001b[1;32m--> 600\u001b[0m     \u001b[38;5;28;01mraise\u001b[39;00m \u001b[38;5;167;01mOSError\u001b[39;00m(\u001b[38;5;124mrf\u001b[39m\u001b[38;5;124m\"\u001b[39m\u001b[38;5;124mCannot save file into a non-existent directory: \u001b[39m\u001b[38;5;124m'\u001b[39m\u001b[38;5;132;01m{\u001b[39;00mparent\u001b[38;5;132;01m}\u001b[39;00m\u001b[38;5;124m'\u001b[39m\u001b[38;5;124m\"\u001b[39m)\n",
      "\u001b[1;31mOSError\u001b[0m: Cannot save file into a non-existent directory: '..\\04_modelling\\results'"
     ]
    }
   ],
   "source": [
    "# Step 7: Save and Interpret Results\n",
    "# Save leaderboard and best model locally for further analysis\n",
    "# leaderboard_path = \"../04_modelling/results/leaderboard.csv\"\n",
    "# leaderboard.as_data_frame().to_csv(leaderboard_path, index=False)\n",
    "# print(f\"Leaderboard saved to: {leaderboard_path}\")"
   ]
  },
  {
   "cell_type": "code",
   "execution_count": 18,
   "metadata": {},
   "outputs": [
    {
     "name": "stdout",
     "output_type": "stream",
     "text": [
      "Best model saved to: C:\\Users\\Huawei\\OneDrive - Universiti Malaya\\Desktop\\SEMESTER 7\\WIE3007_Data-Mining\\Group Project\\data-mining-warehousing-wages-analysis\\notebooks\\04_modelling\\models\\GLM_1_AutoML_1_20241226_201057\n"
     ]
    }
   ],
   "source": [
    "# Save the best model\n",
    "best_model_path = h2o.save_model(best_model, path=\"../04_modelling/models/\")\n",
    "print(f\"Best model saved to: {best_model_path}\")"
   ]
  },
  {
   "cell_type": "code",
   "execution_count": 30,
   "metadata": {},
   "outputs": [
    {
     "name": "stdout",
     "output_type": "stream",
     "text": [
      "H2O session _sid_aefc closed.\n"
     ]
    },
    {
     "name": "stderr",
     "output_type": "stream",
     "text": [
      "C:\\Users\\Huawei\\AppData\\Local\\Temp\\ipykernel_22940\\3898568403.py:2: H2ODeprecationWarning: Deprecated, use ``h2o.cluster().shutdown()``.\n",
      "  h2o.shutdown(prompt=False)\n"
     ]
    }
   ],
   "source": [
    "# Shutdown H2O cluster after processing\n",
    "h2o.shutdown(prompt=False)"
   ]
  }
 ],
 "metadata": {
  "kernelspec": {
   "display_name": "venv",
   "language": "python",
   "name": "python3"
  },
  "language_info": {
   "codemirror_mode": {
    "name": "ipython",
    "version": 3
   },
   "file_extension": ".py",
   "mimetype": "text/x-python",
   "name": "python",
   "nbconvert_exporter": "python",
   "pygments_lexer": "ipython3",
   "version": "3.8.0"
  }
 },
 "nbformat": 4,
 "nbformat_minor": 2
}
