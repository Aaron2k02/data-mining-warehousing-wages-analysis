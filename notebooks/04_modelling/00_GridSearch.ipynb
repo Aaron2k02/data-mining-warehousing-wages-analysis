{
 "cells": [
  {
   "cell_type": "code",
   "execution_count": 1,
   "metadata": {},
   "outputs": [
    {
     "name": "stderr",
     "output_type": "stream",
     "text": [
      "c:\\Users\\Huawei\\OneDrive - Universiti Malaya\\Desktop\\SEMESTER 7\\WIE3007_Data-Mining\\Group Project\\data-mining-warehousing-wages-analysis\\venv\\lib\\site-packages\\tqdm\\auto.py:21: TqdmWarning: IProgress not found. Please update jupyter and ipywidgets. See https://ipywidgets.readthedocs.io/en/stable/user_install.html\n",
      "  from .autonotebook import tqdm as notebook_tqdm\n"
     ]
    }
   ],
   "source": [
    "import pandas as pd\n",
    "import numpy as np\n",
    "from sklearn.tree import DecisionTreeClassifier\n",
    "from sklearn.metrics import accuracy_score, precision_score, recall_score\n",
    "from sklearn.model_selection import RandomizedSearchCV, StratifiedKFold, cross_val_score\n",
    "import optuna\n",
    "from model_utils import run_classifier\n",
    "import joblib\n",
    "import os"
   ]
  },
  {
   "cell_type": "code",
   "execution_count": 2,
   "metadata": {},
   "outputs": [],
   "source": [
    "# Load datasets\n",
    "X_train = pd.read_csv(\"../04_modelling/dataset/X_train.csv\")\n",
    "y_train = pd.read_csv(\"../04_modelling/dataset/y_train.csv\").squeeze()  # Convert to Series if needed\n",
    "X_test = pd.read_csv(\"../04_modelling/dataset/X_test.csv\")\n",
    "y_test = pd.read_csv(\"../04_modelling/dataset/y_test.csv\").squeeze()    # Convert to Series if needed"
   ]
  },
  {
   "cell_type": "code",
   "execution_count": 3,
   "metadata": {},
   "outputs": [],
   "source": [
    "import pandas as pd\n",
    "\n",
    "# Initialize an empty DataFrame to store model results\n",
    "model_records = pd.DataFrame(columns=[\"Model Name\", \"Hyperparameters\", \"Test Accuracy\", \"Test Precision\", \"Test Recall\"])\n",
    "\n",
    "def record_trained_model(model_name, params, mean_cv_accuracy, test_metrics):\n",
    "    \"\"\"\n",
    "    Record a trained model's details in a pandas DataFrame.\n",
    "\n",
    "    Args:\n",
    "        model_name (str): Name of the model.\n",
    "        params (dict): Hyperparameters used for training.\n",
    "        mean_cv_accuracy (float): Mean cross-validation accuracy (optional).\n",
    "        test_metrics (dict): Test metrics such as accuracy, precision, and recall.\n",
    "    \"\"\"\n",
    "    global model_records  # Use the global DataFrame\n",
    "\n",
    "    # Create a new record\n",
    "    record = {\n",
    "        \"Model Name\": model_name,\n",
    "        \"Hyperparameters\": params,\n",
    "        \"Test Accuracy\": f\"{test_metrics['accuracy']:.2%}\",\n",
    "        \"Test Precision\": f\"{test_metrics['precision']:.2%}\",\n",
    "        \"Test Recall\": f\"{test_metrics['recall']:.2%}\",\n",
    "    }\n",
    "\n",
    "    # Append the record to the DataFrame\n",
    "    model_records = pd.concat([model_records, pd.DataFrame([record])], ignore_index=True)\n",
    "\n",
    "    print(f\"Model '{model_name}' recorded successfully!\")"
   ]
  },
  {
   "cell_type": "code",
   "execution_count": 4,
   "metadata": {},
   "outputs": [
    {
     "name": "stdout",
     "output_type": "stream",
     "text": [
      "Decision Tree with Default Parameters\n",
      "\n",
      "--- RandomizedSearchCV (Default Decision Tree) ---\n",
      "RandomizedSearchCV(cv=StratifiedKFold(n_splits=5, random_state=123, shuffle=True),\n",
      "                   estimator=DecisionTreeClassifier(), param_distributions={},\n",
      "                   random_state=123, return_train_score=True,\n",
      "                   scoring='accuracy')\n",
      "\n",
      "--- Cross-Validation Results (Default Decision Tree) ---\n",
      "The best parameters are: {}\n",
      "Mean cross-validation accuracy: 42.57%\n",
      "\n",
      "--- Test Results ---\n",
      "Accuracy: 43.59%\n",
      "Precision: 44.33%\n",
      "Recall: 43.59%\n"
     ]
    }
   ],
   "source": [
    "# Default MLPClassifier\n",
    "dtree_default = DecisionTreeClassifier()\n",
    "\n",
    "print(\"Decision Tree with Default Parameters\")\n",
    "best_model_dtree_default = run_classifier(dtree_default, {}, X_train, y_train, X_test, y_test, \"Default Decision Tree\")"
   ]
  },
  {
   "cell_type": "code",
   "execution_count": 5,
   "metadata": {},
   "outputs": [
    {
     "name": "stdout",
     "output_type": "stream",
     "text": [
      "Model 'Decision Tree with Default Parameters' recorded successfully!\n"
     ]
    }
   ],
   "source": [
    "# Record default parameter model performance\n",
    "default_test_metrics = {\n",
    "    \"accuracy\": accuracy_score(y_test, best_model_dtree_default.predict(X_test)),\n",
    "    \"precision\": precision_score(y_test, best_model_dtree_default.predict(X_test), average='weighted'),\n",
    "    \"recall\": recall_score(y_test, best_model_dtree_default.predict(X_test), average='weighted')\n",
    "}\n",
    "record_trained_model(\"Decision Tree with Default Parameters\", {}, np.nan, default_test_metrics)"
   ]
  },
  {
   "cell_type": "code",
   "execution_count": 6,
   "metadata": {},
   "outputs": [
    {
     "data": {
      "text/html": [
       "<div>\n",
       "<style scoped>\n",
       "    .dataframe tbody tr th:only-of-type {\n",
       "        vertical-align: middle;\n",
       "    }\n",
       "\n",
       "    .dataframe tbody tr th {\n",
       "        vertical-align: top;\n",
       "    }\n",
       "\n",
       "    .dataframe thead th {\n",
       "        text-align: right;\n",
       "    }\n",
       "</style>\n",
       "<table border=\"1\" class=\"dataframe\">\n",
       "  <thead>\n",
       "    <tr style=\"text-align: right;\">\n",
       "      <th></th>\n",
       "      <th>Model Name</th>\n",
       "      <th>Hyperparameters</th>\n",
       "      <th>Test Accuracy</th>\n",
       "      <th>Test Precision</th>\n",
       "      <th>Test Recall</th>\n",
       "    </tr>\n",
       "  </thead>\n",
       "  <tbody>\n",
       "    <tr>\n",
       "      <th>0</th>\n",
       "      <td>Decision Tree with Default Parameters</td>\n",
       "      <td>{}</td>\n",
       "      <td>43.59%</td>\n",
       "      <td>44.33%</td>\n",
       "      <td>43.59%</td>\n",
       "    </tr>\n",
       "  </tbody>\n",
       "</table>\n",
       "</div>"
      ],
      "text/plain": [
       "                              Model Name Hyperparameters Test Accuracy  \\\n",
       "0  Decision Tree with Default Parameters              {}        43.59%   \n",
       "\n",
       "  Test Precision Test Recall  \n",
       "0         44.33%      43.59%  "
      ]
     },
     "execution_count": 6,
     "metadata": {},
     "output_type": "execute_result"
    }
   ],
   "source": [
    "model_records"
   ]
  },
  {
   "cell_type": "code",
   "execution_count": 7,
   "metadata": {},
   "outputs": [
    {
     "name": "stdout",
     "output_type": "stream",
     "text": [
      "\n",
      "--- RandomizedSearchCV (Tuned Decision Tree) ---\n",
      "RandomizedSearchCV(cv=StratifiedKFold(n_splits=5, random_state=123, shuffle=True),\n",
      "                   estimator=DecisionTreeClassifier(),\n",
      "                   param_distributions={'criterion': ['gini', 'entropy'],\n",
      "                                        'max_depth': array([ 1,  3,  5,  7,  9, 11, 13, 15, 17, 19]),\n",
      "                                        'min_samples_leaf': [1, 2, 4, 10],\n",
      "                                        'min_samples_split': [2, 5, 10],\n",
      "                                        'splitter': ['best', 'random']},\n",
      "                   random_state=123, return_train_score=True,\n",
      "                   scoring='accuracy')\n",
      "\n",
      "--- Cross-Validation Results (Tuned Decision Tree) ---\n",
      "The best parameters are: {'splitter': 'best', 'min_samples_split': 5, 'min_samples_leaf': 4, 'max_depth': 15, 'criterion': 'entropy'}\n",
      "Mean cross-validation accuracy: 43.84%\n",
      "\n",
      "--- Test Results ---\n",
      "Accuracy: 43.50%\n",
      "Precision: 43.34%\n",
      "Recall: 43.50%\n"
     ]
    }
   ],
   "source": [
    "# Train Decision Tree with Hyperparameter Tuning\n",
    "dtree_tuned = DecisionTreeClassifier()\n",
    "\n",
    "param_grid = {\n",
    "    'criterion': ['gini', 'entropy'],\n",
    "    'splitter': ['best', 'random'],\n",
    "    'max_depth': np.arange(1, 20, 2),\n",
    "    'min_samples_split': [2, 5, 10],\n",
    "    'min_samples_leaf': [1, 2, 4, 10]\n",
    "}\n",
    "\n",
    "best_model_dtree_tuned = run_classifier(dtree_tuned, param_grid, X_train, y_train, X_test, y_test, \"Tuned Decision Tree\")"
   ]
  },
  {
   "cell_type": "code",
   "execution_count": 8,
   "metadata": {},
   "outputs": [
    {
     "name": "stdout",
     "output_type": "stream",
     "text": [
      "Model 'Decision Tree with Tuned Parameters' recorded successfully!\n"
     ]
    }
   ],
   "source": [
    "# Record tuned parameter model performance\n",
    "tuned_test_metrics = {\n",
    "    \"accuracy\": accuracy_score(y_test, best_model_dtree_tuned.predict(X_test)),\n",
    "    \"precision\": precision_score(y_test, best_model_dtree_tuned.predict(X_test), average='weighted'),\n",
    "    \"recall\": recall_score(y_test, best_model_dtree_tuned.predict(X_test), average='weighted')\n",
    "}\n",
    "record_trained_model(\"Decision Tree with Tuned Parameters\", best_model_dtree_tuned.get_params(), np.nan, tuned_test_metrics)"
   ]
  },
  {
   "cell_type": "code",
   "execution_count": 9,
   "metadata": {},
   "outputs": [
    {
     "data": {
      "text/html": [
       "<div>\n",
       "<style scoped>\n",
       "    .dataframe tbody tr th:only-of-type {\n",
       "        vertical-align: middle;\n",
       "    }\n",
       "\n",
       "    .dataframe tbody tr th {\n",
       "        vertical-align: top;\n",
       "    }\n",
       "\n",
       "    .dataframe thead th {\n",
       "        text-align: right;\n",
       "    }\n",
       "</style>\n",
       "<table border=\"1\" class=\"dataframe\">\n",
       "  <thead>\n",
       "    <tr style=\"text-align: right;\">\n",
       "      <th></th>\n",
       "      <th>Model Name</th>\n",
       "      <th>Hyperparameters</th>\n",
       "      <th>Test Accuracy</th>\n",
       "      <th>Test Precision</th>\n",
       "      <th>Test Recall</th>\n",
       "    </tr>\n",
       "  </thead>\n",
       "  <tbody>\n",
       "    <tr>\n",
       "      <th>0</th>\n",
       "      <td>Decision Tree with Default Parameters</td>\n",
       "      <td>{}</td>\n",
       "      <td>43.59%</td>\n",
       "      <td>44.33%</td>\n",
       "      <td>43.59%</td>\n",
       "    </tr>\n",
       "    <tr>\n",
       "      <th>1</th>\n",
       "      <td>Decision Tree with Tuned Parameters</td>\n",
       "      <td>{'ccp_alpha': 0.0, 'class_weight': None, 'crit...</td>\n",
       "      <td>43.50%</td>\n",
       "      <td>43.34%</td>\n",
       "      <td>43.50%</td>\n",
       "    </tr>\n",
       "  </tbody>\n",
       "</table>\n",
       "</div>"
      ],
      "text/plain": [
       "                              Model Name  \\\n",
       "0  Decision Tree with Default Parameters   \n",
       "1    Decision Tree with Tuned Parameters   \n",
       "\n",
       "                                     Hyperparameters Test Accuracy  \\\n",
       "0                                                 {}        43.59%   \n",
       "1  {'ccp_alpha': 0.0, 'class_weight': None, 'crit...        43.50%   \n",
       "\n",
       "  Test Precision Test Recall  \n",
       "0         44.33%      43.59%  \n",
       "1         43.34%      43.50%  "
      ]
     },
     "execution_count": 9,
     "metadata": {},
     "output_type": "execute_result"
    }
   ],
   "source": [
    "model_records"
   ]
  },
  {
   "cell_type": "code",
   "execution_count": 10,
   "metadata": {},
   "outputs": [],
   "source": [
    "# Optimize Decision Tree Parameters using Optuna\n",
    "def objective(trial):\n",
    "    # Define the hyperparameter search space\n",
    "    criterion = trial.suggest_categorical(\"criterion\", ['gini', 'entropy'])\n",
    "    splitter = trial.suggest_categorical(\"splitter\", ['best', 'random'])\n",
    "    max_depth = trial.suggest_int(\"max_depth\", 1, 20)\n",
    "    min_samples_split = trial.suggest_int(\"min_samples_split\", 2, 10)\n",
    "    min_samples_leaf = trial.suggest_int(\"min_samples_leaf\", 1, 10)\n",
    "\n",
    "    # Create the model with the sampled parameters\n",
    "    model = DecisionTreeClassifier(\n",
    "        criterion=criterion,\n",
    "        splitter=splitter,\n",
    "        max_depth=max_depth,\n",
    "        min_samples_split=min_samples_split,\n",
    "        min_samples_leaf=min_samples_leaf,\n",
    "        random_state=123\n",
    "    )\n",
    "\n",
    "    # Evaluate the model using cross-validation\n",
    "    cv_scores = cross_val_score(model, X_train, y_train, cv=5, scoring=\"accuracy\")\n",
    "    mean_cv_score = np.mean(cv_scores)\n",
    "\n",
    "    return mean_cv_score"
   ]
  },
  {
   "cell_type": "code",
   "execution_count": 11,
   "metadata": {},
   "outputs": [
    {
     "name": "stderr",
     "output_type": "stream",
     "text": [
      "[I 2024-12-29 19:22:30,920] A new study created in memory with name: no-name-e4c70dd1-5428-4999-b6ed-7a33d97d58c9\n",
      "[I 2024-12-29 19:22:31,300] Trial 0 finished with value: 0.41894253012493154 and parameters: {'criterion': 'entropy', 'splitter': 'random', 'max_depth': 20, 'min_samples_split': 6, 'min_samples_leaf': 4}. Best is trial 0 with value: 0.41894253012493154.\n",
      "[I 2024-12-29 19:22:36,055] Trial 1 finished with value: 0.4279197429518236 and parameters: {'criterion': 'gini', 'splitter': 'best', 'max_depth': 14, 'min_samples_split': 3, 'min_samples_leaf': 5}. Best is trial 1 with value: 0.4279197429518236.\n",
      "[I 2024-12-29 19:22:36,314] Trial 2 finished with value: 0.3978718653787398 and parameters: {'criterion': 'gini', 'splitter': 'random', 'max_depth': 12, 'min_samples_split': 9, 'min_samples_leaf': 7}. Best is trial 1 with value: 0.4279197429518236.\n",
      "[I 2024-12-29 19:22:36,397] Trial 3 finished with value: 0.16816040665719859 and parameters: {'criterion': 'entropy', 'splitter': 'random', 'max_depth': 2, 'min_samples_split': 5, 'min_samples_leaf': 5}. Best is trial 1 with value: 0.4279197429518236.\n",
      "[I 2024-12-29 19:22:45,387] Trial 4 finished with value: 0.4288328078887199 and parameters: {'criterion': 'entropy', 'splitter': 'best', 'max_depth': 15, 'min_samples_split': 10, 'min_samples_leaf': 9}. Best is trial 4 with value: 0.4288328078887199.\n",
      "[I 2024-12-29 19:22:55,304] Trial 5 finished with value: 0.42974671219400823 and parameters: {'criterion': 'entropy', 'splitter': 'best', 'max_depth': 17, 'min_samples_split': 9, 'min_samples_leaf': 2}. Best is trial 5 with value: 0.42974671219400823.\n",
      "[I 2024-12-29 19:22:55,553] Trial 6 finished with value: 0.4041019933320575 and parameters: {'criterion': 'gini', 'splitter': 'random', 'max_depth': 14, 'min_samples_split': 5, 'min_samples_leaf': 6}. Best is trial 5 with value: 0.42974671219400823.\n",
      "[I 2024-12-29 19:22:55,915] Trial 7 finished with value: 0.4031850673005577 and parameters: {'criterion': 'entropy', 'splitter': 'random', 'max_depth': 11, 'min_samples_split': 3, 'min_samples_leaf': 1}. Best is trial 5 with value: 0.42974671219400823.\n",
      "[I 2024-12-29 19:23:13,622] Trial 8 finished with value: 0.44220495361650264 and parameters: {'criterion': 'entropy', 'splitter': 'best', 'max_depth': 7, 'min_samples_split': 5, 'min_samples_leaf': 2}. Best is trial 8 with value: 0.44220495361650264.\n",
      "[I 2024-12-29 19:23:15,649] Trial 9 finished with value: 0.31196402131324225 and parameters: {'criterion': 'gini', 'splitter': 'best', 'max_depth': 3, 'min_samples_split': 5, 'min_samples_leaf': 1}. Best is trial 8 with value: 0.44220495361650264.\n",
      "[I 2024-12-29 19:23:25,666] Trial 10 finished with value: 0.44293755434910337 and parameters: {'criterion': 'entropy', 'splitter': 'best', 'max_depth': 7, 'min_samples_split': 2, 'min_samples_leaf': 3}. Best is trial 10 with value: 0.44293755434910337.\n",
      "[I 2024-12-29 19:23:35,381] Trial 11 finished with value: 0.44293755434910337 and parameters: {'criterion': 'entropy', 'splitter': 'best', 'max_depth': 7, 'min_samples_split': 2, 'min_samples_leaf': 3}. Best is trial 10 with value: 0.44293755434910337.\n",
      "[I 2024-12-29 19:23:44,376] Trial 12 finished with value: 0.4447697276753188 and parameters: {'criterion': 'entropy', 'splitter': 'best', 'max_depth': 7, 'min_samples_split': 2, 'min_samples_leaf': 4}. Best is trial 12 with value: 0.4447697276753188.\n",
      "[I 2024-12-29 19:23:53,153] Trial 13 finished with value: 0.432313332863287 and parameters: {'criterion': 'entropy', 'splitter': 'best', 'max_depth': 6, 'min_samples_split': 2, 'min_samples_leaf': 8}. Best is trial 12 with value: 0.4447697276753188.\n",
      "[I 2024-12-29 19:24:02,862] Trial 14 finished with value: 0.44989944366662965 and parameters: {'criterion': 'entropy', 'splitter': 'best', 'max_depth': 9, 'min_samples_split': 3, 'min_samples_leaf': 4}. Best is trial 14 with value: 0.44989944366662965.\n",
      "[I 2024-12-29 19:24:12,883] Trial 15 finished with value: 0.44989944366662965 and parameters: {'criterion': 'entropy', 'splitter': 'best', 'max_depth': 9, 'min_samples_split': 3, 'min_samples_leaf': 4}. Best is trial 14 with value: 0.44989944366662965.\n",
      "[I 2024-12-29 19:24:22,608] Trial 16 finished with value: 0.44201710297035685 and parameters: {'criterion': 'entropy', 'splitter': 'best', 'max_depth': 10, 'min_samples_split': 4, 'min_samples_leaf': 10}. Best is trial 14 with value: 0.44989944366662965.\n",
      "[I 2024-12-29 19:24:33,277] Trial 17 finished with value: 0.4522797245528684 and parameters: {'criterion': 'entropy', 'splitter': 'best', 'max_depth': 10, 'min_samples_split': 7, 'min_samples_leaf': 6}. Best is trial 17 with value: 0.4522797245528684.\n",
      "[I 2024-12-29 19:24:35,371] Trial 18 finished with value: 0.37186521086612745 and parameters: {'criterion': 'gini', 'splitter': 'best', 'max_depth': 4, 'min_samples_split': 7, 'min_samples_leaf': 7}. Best is trial 17 with value: 0.4522797245528684.\n",
      "[I 2024-12-29 19:24:44,887] Trial 19 finished with value: 0.4498992757929513 and parameters: {'criterion': 'entropy', 'splitter': 'best', 'max_depth': 12, 'min_samples_split': 7, 'min_samples_leaf': 6}. Best is trial 17 with value: 0.4522797245528684.\n"
     ]
    }
   ],
   "source": [
    "# Run Optuna optimization\n",
    "study = optuna.create_study(direction=\"maximize\")\n",
    "study.optimize(objective, n_trials=20)"
   ]
  },
  {
   "cell_type": "code",
   "execution_count": 12,
   "metadata": {},
   "outputs": [
    {
     "data": {
      "application/vnd.plotly.v1+json": {
       "config": {
        "plotlyServerURL": "https://plot.ly"
       },
       "data": [
        {
         "mode": "markers",
         "name": "Objective Value",
         "type": "scatter",
         "x": [
          0,
          1,
          2,
          3,
          4,
          5,
          6,
          7,
          8,
          9,
          10,
          11,
          12,
          13,
          14,
          15,
          16,
          17,
          18,
          19
         ],
         "y": [
          0.41894253012493154,
          0.4279197429518236,
          0.3978718653787398,
          0.16816040665719859,
          0.4288328078887199,
          0.42974671219400823,
          0.4041019933320575,
          0.4031850673005577,
          0.44220495361650264,
          0.31196402131324225,
          0.44293755434910337,
          0.44293755434910337,
          0.4447697276753188,
          0.432313332863287,
          0.44989944366662965,
          0.44989944366662965,
          0.44201710297035685,
          0.4522797245528684,
          0.37186521086612745,
          0.4498992757929513
         ]
        },
        {
         "mode": "lines",
         "name": "Best Value",
         "type": "scatter",
         "x": [
          0,
          1,
          2,
          3,
          4,
          5,
          6,
          7,
          8,
          9,
          10,
          11,
          12,
          13,
          14,
          15,
          16,
          17,
          18,
          19
         ],
         "y": [
          0.41894253012493154,
          0.4279197429518236,
          0.4279197429518236,
          0.4279197429518236,
          0.4288328078887199,
          0.42974671219400823,
          0.42974671219400823,
          0.42974671219400823,
          0.44220495361650264,
          0.44220495361650264,
          0.44293755434910337,
          0.44293755434910337,
          0.4447697276753188,
          0.4447697276753188,
          0.44989944366662965,
          0.44989944366662965,
          0.44989944366662965,
          0.4522797245528684,
          0.4522797245528684,
          0.4522797245528684
         ]
        },
        {
         "marker": {
          "color": "#cccccc"
         },
         "mode": "markers",
         "name": "Infeasible Trial",
         "showlegend": false,
         "type": "scatter",
         "x": [],
         "y": []
        }
       ],
       "layout": {
        "template": {
         "data": {
          "bar": [
           {
            "error_x": {
             "color": "#2a3f5f"
            },
            "error_y": {
             "color": "#2a3f5f"
            },
            "marker": {
             "line": {
              "color": "#E5ECF6",
              "width": 0.5
             },
             "pattern": {
              "fillmode": "overlay",
              "size": 10,
              "solidity": 0.2
             }
            },
            "type": "bar"
           }
          ],
          "barpolar": [
           {
            "marker": {
             "line": {
              "color": "#E5ECF6",
              "width": 0.5
             },
             "pattern": {
              "fillmode": "overlay",
              "size": 10,
              "solidity": 0.2
             }
            },
            "type": "barpolar"
           }
          ],
          "carpet": [
           {
            "aaxis": {
             "endlinecolor": "#2a3f5f",
             "gridcolor": "white",
             "linecolor": "white",
             "minorgridcolor": "white",
             "startlinecolor": "#2a3f5f"
            },
            "baxis": {
             "endlinecolor": "#2a3f5f",
             "gridcolor": "white",
             "linecolor": "white",
             "minorgridcolor": "white",
             "startlinecolor": "#2a3f5f"
            },
            "type": "carpet"
           }
          ],
          "choropleth": [
           {
            "colorbar": {
             "outlinewidth": 0,
             "ticks": ""
            },
            "type": "choropleth"
           }
          ],
          "contour": [
           {
            "colorbar": {
             "outlinewidth": 0,
             "ticks": ""
            },
            "colorscale": [
             [
              0,
              "#0d0887"
             ],
             [
              0.1111111111111111,
              "#46039f"
             ],
             [
              0.2222222222222222,
              "#7201a8"
             ],
             [
              0.3333333333333333,
              "#9c179e"
             ],
             [
              0.4444444444444444,
              "#bd3786"
             ],
             [
              0.5555555555555556,
              "#d8576b"
             ],
             [
              0.6666666666666666,
              "#ed7953"
             ],
             [
              0.7777777777777778,
              "#fb9f3a"
             ],
             [
              0.8888888888888888,
              "#fdca26"
             ],
             [
              1,
              "#f0f921"
             ]
            ],
            "type": "contour"
           }
          ],
          "contourcarpet": [
           {
            "colorbar": {
             "outlinewidth": 0,
             "ticks": ""
            },
            "type": "contourcarpet"
           }
          ],
          "heatmap": [
           {
            "colorbar": {
             "outlinewidth": 0,
             "ticks": ""
            },
            "colorscale": [
             [
              0,
              "#0d0887"
             ],
             [
              0.1111111111111111,
              "#46039f"
             ],
             [
              0.2222222222222222,
              "#7201a8"
             ],
             [
              0.3333333333333333,
              "#9c179e"
             ],
             [
              0.4444444444444444,
              "#bd3786"
             ],
             [
              0.5555555555555556,
              "#d8576b"
             ],
             [
              0.6666666666666666,
              "#ed7953"
             ],
             [
              0.7777777777777778,
              "#fb9f3a"
             ],
             [
              0.8888888888888888,
              "#fdca26"
             ],
             [
              1,
              "#f0f921"
             ]
            ],
            "type": "heatmap"
           }
          ],
          "heatmapgl": [
           {
            "colorbar": {
             "outlinewidth": 0,
             "ticks": ""
            },
            "colorscale": [
             [
              0,
              "#0d0887"
             ],
             [
              0.1111111111111111,
              "#46039f"
             ],
             [
              0.2222222222222222,
              "#7201a8"
             ],
             [
              0.3333333333333333,
              "#9c179e"
             ],
             [
              0.4444444444444444,
              "#bd3786"
             ],
             [
              0.5555555555555556,
              "#d8576b"
             ],
             [
              0.6666666666666666,
              "#ed7953"
             ],
             [
              0.7777777777777778,
              "#fb9f3a"
             ],
             [
              0.8888888888888888,
              "#fdca26"
             ],
             [
              1,
              "#f0f921"
             ]
            ],
            "type": "heatmapgl"
           }
          ],
          "histogram": [
           {
            "marker": {
             "pattern": {
              "fillmode": "overlay",
              "size": 10,
              "solidity": 0.2
             }
            },
            "type": "histogram"
           }
          ],
          "histogram2d": [
           {
            "colorbar": {
             "outlinewidth": 0,
             "ticks": ""
            },
            "colorscale": [
             [
              0,
              "#0d0887"
             ],
             [
              0.1111111111111111,
              "#46039f"
             ],
             [
              0.2222222222222222,
              "#7201a8"
             ],
             [
              0.3333333333333333,
              "#9c179e"
             ],
             [
              0.4444444444444444,
              "#bd3786"
             ],
             [
              0.5555555555555556,
              "#d8576b"
             ],
             [
              0.6666666666666666,
              "#ed7953"
             ],
             [
              0.7777777777777778,
              "#fb9f3a"
             ],
             [
              0.8888888888888888,
              "#fdca26"
             ],
             [
              1,
              "#f0f921"
             ]
            ],
            "type": "histogram2d"
           }
          ],
          "histogram2dcontour": [
           {
            "colorbar": {
             "outlinewidth": 0,
             "ticks": ""
            },
            "colorscale": [
             [
              0,
              "#0d0887"
             ],
             [
              0.1111111111111111,
              "#46039f"
             ],
             [
              0.2222222222222222,
              "#7201a8"
             ],
             [
              0.3333333333333333,
              "#9c179e"
             ],
             [
              0.4444444444444444,
              "#bd3786"
             ],
             [
              0.5555555555555556,
              "#d8576b"
             ],
             [
              0.6666666666666666,
              "#ed7953"
             ],
             [
              0.7777777777777778,
              "#fb9f3a"
             ],
             [
              0.8888888888888888,
              "#fdca26"
             ],
             [
              1,
              "#f0f921"
             ]
            ],
            "type": "histogram2dcontour"
           }
          ],
          "mesh3d": [
           {
            "colorbar": {
             "outlinewidth": 0,
             "ticks": ""
            },
            "type": "mesh3d"
           }
          ],
          "parcoords": [
           {
            "line": {
             "colorbar": {
              "outlinewidth": 0,
              "ticks": ""
             }
            },
            "type": "parcoords"
           }
          ],
          "pie": [
           {
            "automargin": true,
            "type": "pie"
           }
          ],
          "scatter": [
           {
            "fillpattern": {
             "fillmode": "overlay",
             "size": 10,
             "solidity": 0.2
            },
            "type": "scatter"
           }
          ],
          "scatter3d": [
           {
            "line": {
             "colorbar": {
              "outlinewidth": 0,
              "ticks": ""
             }
            },
            "marker": {
             "colorbar": {
              "outlinewidth": 0,
              "ticks": ""
             }
            },
            "type": "scatter3d"
           }
          ],
          "scattercarpet": [
           {
            "marker": {
             "colorbar": {
              "outlinewidth": 0,
              "ticks": ""
             }
            },
            "type": "scattercarpet"
           }
          ],
          "scattergeo": [
           {
            "marker": {
             "colorbar": {
              "outlinewidth": 0,
              "ticks": ""
             }
            },
            "type": "scattergeo"
           }
          ],
          "scattergl": [
           {
            "marker": {
             "colorbar": {
              "outlinewidth": 0,
              "ticks": ""
             }
            },
            "type": "scattergl"
           }
          ],
          "scattermapbox": [
           {
            "marker": {
             "colorbar": {
              "outlinewidth": 0,
              "ticks": ""
             }
            },
            "type": "scattermapbox"
           }
          ],
          "scatterpolar": [
           {
            "marker": {
             "colorbar": {
              "outlinewidth": 0,
              "ticks": ""
             }
            },
            "type": "scatterpolar"
           }
          ],
          "scatterpolargl": [
           {
            "marker": {
             "colorbar": {
              "outlinewidth": 0,
              "ticks": ""
             }
            },
            "type": "scatterpolargl"
           }
          ],
          "scatterternary": [
           {
            "marker": {
             "colorbar": {
              "outlinewidth": 0,
              "ticks": ""
             }
            },
            "type": "scatterternary"
           }
          ],
          "surface": [
           {
            "colorbar": {
             "outlinewidth": 0,
             "ticks": ""
            },
            "colorscale": [
             [
              0,
              "#0d0887"
             ],
             [
              0.1111111111111111,
              "#46039f"
             ],
             [
              0.2222222222222222,
              "#7201a8"
             ],
             [
              0.3333333333333333,
              "#9c179e"
             ],
             [
              0.4444444444444444,
              "#bd3786"
             ],
             [
              0.5555555555555556,
              "#d8576b"
             ],
             [
              0.6666666666666666,
              "#ed7953"
             ],
             [
              0.7777777777777778,
              "#fb9f3a"
             ],
             [
              0.8888888888888888,
              "#fdca26"
             ],
             [
              1,
              "#f0f921"
             ]
            ],
            "type": "surface"
           }
          ],
          "table": [
           {
            "cells": {
             "fill": {
              "color": "#EBF0F8"
             },
             "line": {
              "color": "white"
             }
            },
            "header": {
             "fill": {
              "color": "#C8D4E3"
             },
             "line": {
              "color": "white"
             }
            },
            "type": "table"
           }
          ]
         },
         "layout": {
          "annotationdefaults": {
           "arrowcolor": "#2a3f5f",
           "arrowhead": 0,
           "arrowwidth": 1
          },
          "autotypenumbers": "strict",
          "coloraxis": {
           "colorbar": {
            "outlinewidth": 0,
            "ticks": ""
           }
          },
          "colorscale": {
           "diverging": [
            [
             0,
             "#8e0152"
            ],
            [
             0.1,
             "#c51b7d"
            ],
            [
             0.2,
             "#de77ae"
            ],
            [
             0.3,
             "#f1b6da"
            ],
            [
             0.4,
             "#fde0ef"
            ],
            [
             0.5,
             "#f7f7f7"
            ],
            [
             0.6,
             "#e6f5d0"
            ],
            [
             0.7,
             "#b8e186"
            ],
            [
             0.8,
             "#7fbc41"
            ],
            [
             0.9,
             "#4d9221"
            ],
            [
             1,
             "#276419"
            ]
           ],
           "sequential": [
            [
             0,
             "#0d0887"
            ],
            [
             0.1111111111111111,
             "#46039f"
            ],
            [
             0.2222222222222222,
             "#7201a8"
            ],
            [
             0.3333333333333333,
             "#9c179e"
            ],
            [
             0.4444444444444444,
             "#bd3786"
            ],
            [
             0.5555555555555556,
             "#d8576b"
            ],
            [
             0.6666666666666666,
             "#ed7953"
            ],
            [
             0.7777777777777778,
             "#fb9f3a"
            ],
            [
             0.8888888888888888,
             "#fdca26"
            ],
            [
             1,
             "#f0f921"
            ]
           ],
           "sequentialminus": [
            [
             0,
             "#0d0887"
            ],
            [
             0.1111111111111111,
             "#46039f"
            ],
            [
             0.2222222222222222,
             "#7201a8"
            ],
            [
             0.3333333333333333,
             "#9c179e"
            ],
            [
             0.4444444444444444,
             "#bd3786"
            ],
            [
             0.5555555555555556,
             "#d8576b"
            ],
            [
             0.6666666666666666,
             "#ed7953"
            ],
            [
             0.7777777777777778,
             "#fb9f3a"
            ],
            [
             0.8888888888888888,
             "#fdca26"
            ],
            [
             1,
             "#f0f921"
            ]
           ]
          },
          "colorway": [
           "#636efa",
           "#EF553B",
           "#00cc96",
           "#ab63fa",
           "#FFA15A",
           "#19d3f3",
           "#FF6692",
           "#B6E880",
           "#FF97FF",
           "#FECB52"
          ],
          "font": {
           "color": "#2a3f5f"
          },
          "geo": {
           "bgcolor": "white",
           "lakecolor": "white",
           "landcolor": "#E5ECF6",
           "showlakes": true,
           "showland": true,
           "subunitcolor": "white"
          },
          "hoverlabel": {
           "align": "left"
          },
          "hovermode": "closest",
          "mapbox": {
           "style": "light"
          },
          "paper_bgcolor": "white",
          "plot_bgcolor": "#E5ECF6",
          "polar": {
           "angularaxis": {
            "gridcolor": "white",
            "linecolor": "white",
            "ticks": ""
           },
           "bgcolor": "#E5ECF6",
           "radialaxis": {
            "gridcolor": "white",
            "linecolor": "white",
            "ticks": ""
           }
          },
          "scene": {
           "xaxis": {
            "backgroundcolor": "#E5ECF6",
            "gridcolor": "white",
            "gridwidth": 2,
            "linecolor": "white",
            "showbackground": true,
            "ticks": "",
            "zerolinecolor": "white"
           },
           "yaxis": {
            "backgroundcolor": "#E5ECF6",
            "gridcolor": "white",
            "gridwidth": 2,
            "linecolor": "white",
            "showbackground": true,
            "ticks": "",
            "zerolinecolor": "white"
           },
           "zaxis": {
            "backgroundcolor": "#E5ECF6",
            "gridcolor": "white",
            "gridwidth": 2,
            "linecolor": "white",
            "showbackground": true,
            "ticks": "",
            "zerolinecolor": "white"
           }
          },
          "shapedefaults": {
           "line": {
            "color": "#2a3f5f"
           }
          },
          "ternary": {
           "aaxis": {
            "gridcolor": "white",
            "linecolor": "white",
            "ticks": ""
           },
           "baxis": {
            "gridcolor": "white",
            "linecolor": "white",
            "ticks": ""
           },
           "bgcolor": "#E5ECF6",
           "caxis": {
            "gridcolor": "white",
            "linecolor": "white",
            "ticks": ""
           }
          },
          "title": {
           "x": 0.05
          },
          "xaxis": {
           "automargin": true,
           "gridcolor": "white",
           "linecolor": "white",
           "ticks": "",
           "title": {
            "standoff": 15
           },
           "zerolinecolor": "white",
           "zerolinewidth": 2
          },
          "yaxis": {
           "automargin": true,
           "gridcolor": "white",
           "linecolor": "white",
           "ticks": "",
           "title": {
            "standoff": 15
           },
           "zerolinecolor": "white",
           "zerolinewidth": 2
          }
         }
        },
        "title": {
         "text": "Optimization History Plot"
        },
        "xaxis": {
         "title": {
          "text": "Trial"
         }
        },
        "yaxis": {
         "title": {
          "text": "Objective Value"
         }
        }
       }
      }
     },
     "metadata": {},
     "output_type": "display_data"
    }
   ],
   "source": [
    "optuna.visualization.plot_optimization_history(study)"
   ]
  },
  {
   "cell_type": "code",
   "execution_count": 13,
   "metadata": {},
   "outputs": [
    {
     "data": {
      "application/vnd.plotly.v1+json": {
       "config": {
        "plotlyServerURL": "https://plot.ly"
       },
       "data": [
        {
         "marker": {
          "color": [
           0,
           1,
           2,
           3,
           4,
           5,
           6,
           7,
           8,
           9,
           10,
           11,
           12,
           13,
           14,
           15,
           16,
           17,
           18,
           19
          ],
          "colorbar": {
           "title": {
            "text": "Trial"
           },
           "x": 1,
           "xpad": 40
          },
          "colorscale": [
           [
            0,
            "rgb(247,251,255)"
           ],
           [
            0.125,
            "rgb(222,235,247)"
           ],
           [
            0.25,
            "rgb(198,219,239)"
           ],
           [
            0.375,
            "rgb(158,202,225)"
           ],
           [
            0.5,
            "rgb(107,174,214)"
           ],
           [
            0.625,
            "rgb(66,146,198)"
           ],
           [
            0.75,
            "rgb(33,113,181)"
           ],
           [
            0.875,
            "rgb(8,81,156)"
           ],
           [
            1,
            "rgb(8,48,107)"
           ]
          ],
          "line": {
           "color": "Grey",
           "width": 0.5
          },
          "showscale": true
         },
         "mode": "markers",
         "name": "Feasible Trial",
         "showlegend": false,
         "type": "scatter",
         "x": [
          "entropy",
          "gini",
          "gini",
          "entropy",
          "entropy",
          "entropy",
          "gini",
          "entropy",
          "entropy",
          "gini",
          "entropy",
          "entropy",
          "entropy",
          "entropy",
          "entropy",
          "entropy",
          "entropy",
          "entropy",
          "gini",
          "entropy"
         ],
         "xaxis": "x",
         "y": [
          0.41894253012493154,
          0.4279197429518236,
          0.3978718653787398,
          0.16816040665719859,
          0.4288328078887199,
          0.42974671219400823,
          0.4041019933320575,
          0.4031850673005577,
          0.44220495361650264,
          0.31196402131324225,
          0.44293755434910337,
          0.44293755434910337,
          0.4447697276753188,
          0.432313332863287,
          0.44989944366662965,
          0.44989944366662965,
          0.44201710297035685,
          0.4522797245528684,
          0.37186521086612745,
          0.4498992757929513
         ],
         "yaxis": "y"
        },
        {
         "marker": {
          "color": [
           0,
           1,
           2,
           3,
           4,
           5,
           6,
           7,
           8,
           9,
           10,
           11,
           12,
           13,
           14,
           15,
           16,
           17,
           18,
           19
          ],
          "colorbar": {
           "title": {
            "text": "Trial"
           },
           "x": 1,
           "xpad": 40
          },
          "colorscale": [
           [
            0,
            "rgb(247,251,255)"
           ],
           [
            0.125,
            "rgb(222,235,247)"
           ],
           [
            0.25,
            "rgb(198,219,239)"
           ],
           [
            0.375,
            "rgb(158,202,225)"
           ],
           [
            0.5,
            "rgb(107,174,214)"
           ],
           [
            0.625,
            "rgb(66,146,198)"
           ],
           [
            0.75,
            "rgb(33,113,181)"
           ],
           [
            0.875,
            "rgb(8,81,156)"
           ],
           [
            1,
            "rgb(8,48,107)"
           ]
          ],
          "line": {
           "color": "Grey",
           "width": 0.5
          },
          "showscale": false
         },
         "mode": "markers",
         "name": "Feasible Trial",
         "showlegend": false,
         "type": "scatter",
         "x": [
          20,
          14,
          12,
          2,
          15,
          17,
          14,
          11,
          7,
          3,
          7,
          7,
          7,
          6,
          9,
          9,
          10,
          10,
          4,
          12
         ],
         "xaxis": "x2",
         "y": [
          0.41894253012493154,
          0.4279197429518236,
          0.3978718653787398,
          0.16816040665719859,
          0.4288328078887199,
          0.42974671219400823,
          0.4041019933320575,
          0.4031850673005577,
          0.44220495361650264,
          0.31196402131324225,
          0.44293755434910337,
          0.44293755434910337,
          0.4447697276753188,
          0.432313332863287,
          0.44989944366662965,
          0.44989944366662965,
          0.44201710297035685,
          0.4522797245528684,
          0.37186521086612745,
          0.4498992757929513
         ],
         "yaxis": "y2"
        },
        {
         "marker": {
          "color": [
           0,
           1,
           2,
           3,
           4,
           5,
           6,
           7,
           8,
           9,
           10,
           11,
           12,
           13,
           14,
           15,
           16,
           17,
           18,
           19
          ],
          "colorbar": {
           "title": {
            "text": "Trial"
           },
           "x": 1,
           "xpad": 40
          },
          "colorscale": [
           [
            0,
            "rgb(247,251,255)"
           ],
           [
            0.125,
            "rgb(222,235,247)"
           ],
           [
            0.25,
            "rgb(198,219,239)"
           ],
           [
            0.375,
            "rgb(158,202,225)"
           ],
           [
            0.5,
            "rgb(107,174,214)"
           ],
           [
            0.625,
            "rgb(66,146,198)"
           ],
           [
            0.75,
            "rgb(33,113,181)"
           ],
           [
            0.875,
            "rgb(8,81,156)"
           ],
           [
            1,
            "rgb(8,48,107)"
           ]
          ],
          "line": {
           "color": "Grey",
           "width": 0.5
          },
          "showscale": false
         },
         "mode": "markers",
         "name": "Feasible Trial",
         "showlegend": false,
         "type": "scatter",
         "x": [
          4,
          5,
          7,
          5,
          9,
          2,
          6,
          1,
          2,
          1,
          3,
          3,
          4,
          8,
          4,
          4,
          10,
          6,
          7,
          6
         ],
         "xaxis": "x3",
         "y": [
          0.41894253012493154,
          0.4279197429518236,
          0.3978718653787398,
          0.16816040665719859,
          0.4288328078887199,
          0.42974671219400823,
          0.4041019933320575,
          0.4031850673005577,
          0.44220495361650264,
          0.31196402131324225,
          0.44293755434910337,
          0.44293755434910337,
          0.4447697276753188,
          0.432313332863287,
          0.44989944366662965,
          0.44989944366662965,
          0.44201710297035685,
          0.4522797245528684,
          0.37186521086612745,
          0.4498992757929513
         ],
         "yaxis": "y3"
        },
        {
         "marker": {
          "color": [
           0,
           1,
           2,
           3,
           4,
           5,
           6,
           7,
           8,
           9,
           10,
           11,
           12,
           13,
           14,
           15,
           16,
           17,
           18,
           19
          ],
          "colorbar": {
           "title": {
            "text": "Trial"
           },
           "x": 1,
           "xpad": 40
          },
          "colorscale": [
           [
            0,
            "rgb(247,251,255)"
           ],
           [
            0.125,
            "rgb(222,235,247)"
           ],
           [
            0.25,
            "rgb(198,219,239)"
           ],
           [
            0.375,
            "rgb(158,202,225)"
           ],
           [
            0.5,
            "rgb(107,174,214)"
           ],
           [
            0.625,
            "rgb(66,146,198)"
           ],
           [
            0.75,
            "rgb(33,113,181)"
           ],
           [
            0.875,
            "rgb(8,81,156)"
           ],
           [
            1,
            "rgb(8,48,107)"
           ]
          ],
          "line": {
           "color": "Grey",
           "width": 0.5
          },
          "showscale": false
         },
         "mode": "markers",
         "name": "Feasible Trial",
         "showlegend": false,
         "type": "scatter",
         "x": [
          6,
          3,
          9,
          5,
          10,
          9,
          5,
          3,
          5,
          5,
          2,
          2,
          2,
          2,
          3,
          3,
          4,
          7,
          7,
          7
         ],
         "xaxis": "x4",
         "y": [
          0.41894253012493154,
          0.4279197429518236,
          0.3978718653787398,
          0.16816040665719859,
          0.4288328078887199,
          0.42974671219400823,
          0.4041019933320575,
          0.4031850673005577,
          0.44220495361650264,
          0.31196402131324225,
          0.44293755434910337,
          0.44293755434910337,
          0.4447697276753188,
          0.432313332863287,
          0.44989944366662965,
          0.44989944366662965,
          0.44201710297035685,
          0.4522797245528684,
          0.37186521086612745,
          0.4498992757929513
         ],
         "yaxis": "y4"
        },
        {
         "marker": {
          "color": [
           0,
           1,
           2,
           3,
           4,
           5,
           6,
           7,
           8,
           9,
           10,
           11,
           12,
           13,
           14,
           15,
           16,
           17,
           18,
           19
          ],
          "colorbar": {
           "title": {
            "text": "Trial"
           },
           "x": 1,
           "xpad": 40
          },
          "colorscale": [
           [
            0,
            "rgb(247,251,255)"
           ],
           [
            0.125,
            "rgb(222,235,247)"
           ],
           [
            0.25,
            "rgb(198,219,239)"
           ],
           [
            0.375,
            "rgb(158,202,225)"
           ],
           [
            0.5,
            "rgb(107,174,214)"
           ],
           [
            0.625,
            "rgb(66,146,198)"
           ],
           [
            0.75,
            "rgb(33,113,181)"
           ],
           [
            0.875,
            "rgb(8,81,156)"
           ],
           [
            1,
            "rgb(8,48,107)"
           ]
          ],
          "line": {
           "color": "Grey",
           "width": 0.5
          },
          "showscale": false
         },
         "mode": "markers",
         "name": "Feasible Trial",
         "showlegend": false,
         "type": "scatter",
         "x": [
          "random",
          "best",
          "random",
          "random",
          "best",
          "best",
          "random",
          "random",
          "best",
          "best",
          "best",
          "best",
          "best",
          "best",
          "best",
          "best",
          "best",
          "best",
          "best",
          "best"
         ],
         "xaxis": "x5",
         "y": [
          0.41894253012493154,
          0.4279197429518236,
          0.3978718653787398,
          0.16816040665719859,
          0.4288328078887199,
          0.42974671219400823,
          0.4041019933320575,
          0.4031850673005577,
          0.44220495361650264,
          0.31196402131324225,
          0.44293755434910337,
          0.44293755434910337,
          0.4447697276753188,
          0.432313332863287,
          0.44989944366662965,
          0.44989944366662965,
          0.44201710297035685,
          0.4522797245528684,
          0.37186521086612745,
          0.4498992757929513
         ],
         "yaxis": "y5"
        }
       ],
       "layout": {
        "template": {
         "data": {
          "bar": [
           {
            "error_x": {
             "color": "#2a3f5f"
            },
            "error_y": {
             "color": "#2a3f5f"
            },
            "marker": {
             "line": {
              "color": "#E5ECF6",
              "width": 0.5
             },
             "pattern": {
              "fillmode": "overlay",
              "size": 10,
              "solidity": 0.2
             }
            },
            "type": "bar"
           }
          ],
          "barpolar": [
           {
            "marker": {
             "line": {
              "color": "#E5ECF6",
              "width": 0.5
             },
             "pattern": {
              "fillmode": "overlay",
              "size": 10,
              "solidity": 0.2
             }
            },
            "type": "barpolar"
           }
          ],
          "carpet": [
           {
            "aaxis": {
             "endlinecolor": "#2a3f5f",
             "gridcolor": "white",
             "linecolor": "white",
             "minorgridcolor": "white",
             "startlinecolor": "#2a3f5f"
            },
            "baxis": {
             "endlinecolor": "#2a3f5f",
             "gridcolor": "white",
             "linecolor": "white",
             "minorgridcolor": "white",
             "startlinecolor": "#2a3f5f"
            },
            "type": "carpet"
           }
          ],
          "choropleth": [
           {
            "colorbar": {
             "outlinewidth": 0,
             "ticks": ""
            },
            "type": "choropleth"
           }
          ],
          "contour": [
           {
            "colorbar": {
             "outlinewidth": 0,
             "ticks": ""
            },
            "colorscale": [
             [
              0,
              "#0d0887"
             ],
             [
              0.1111111111111111,
              "#46039f"
             ],
             [
              0.2222222222222222,
              "#7201a8"
             ],
             [
              0.3333333333333333,
              "#9c179e"
             ],
             [
              0.4444444444444444,
              "#bd3786"
             ],
             [
              0.5555555555555556,
              "#d8576b"
             ],
             [
              0.6666666666666666,
              "#ed7953"
             ],
             [
              0.7777777777777778,
              "#fb9f3a"
             ],
             [
              0.8888888888888888,
              "#fdca26"
             ],
             [
              1,
              "#f0f921"
             ]
            ],
            "type": "contour"
           }
          ],
          "contourcarpet": [
           {
            "colorbar": {
             "outlinewidth": 0,
             "ticks": ""
            },
            "type": "contourcarpet"
           }
          ],
          "heatmap": [
           {
            "colorbar": {
             "outlinewidth": 0,
             "ticks": ""
            },
            "colorscale": [
             [
              0,
              "#0d0887"
             ],
             [
              0.1111111111111111,
              "#46039f"
             ],
             [
              0.2222222222222222,
              "#7201a8"
             ],
             [
              0.3333333333333333,
              "#9c179e"
             ],
             [
              0.4444444444444444,
              "#bd3786"
             ],
             [
              0.5555555555555556,
              "#d8576b"
             ],
             [
              0.6666666666666666,
              "#ed7953"
             ],
             [
              0.7777777777777778,
              "#fb9f3a"
             ],
             [
              0.8888888888888888,
              "#fdca26"
             ],
             [
              1,
              "#f0f921"
             ]
            ],
            "type": "heatmap"
           }
          ],
          "heatmapgl": [
           {
            "colorbar": {
             "outlinewidth": 0,
             "ticks": ""
            },
            "colorscale": [
             [
              0,
              "#0d0887"
             ],
             [
              0.1111111111111111,
              "#46039f"
             ],
             [
              0.2222222222222222,
              "#7201a8"
             ],
             [
              0.3333333333333333,
              "#9c179e"
             ],
             [
              0.4444444444444444,
              "#bd3786"
             ],
             [
              0.5555555555555556,
              "#d8576b"
             ],
             [
              0.6666666666666666,
              "#ed7953"
             ],
             [
              0.7777777777777778,
              "#fb9f3a"
             ],
             [
              0.8888888888888888,
              "#fdca26"
             ],
             [
              1,
              "#f0f921"
             ]
            ],
            "type": "heatmapgl"
           }
          ],
          "histogram": [
           {
            "marker": {
             "pattern": {
              "fillmode": "overlay",
              "size": 10,
              "solidity": 0.2
             }
            },
            "type": "histogram"
           }
          ],
          "histogram2d": [
           {
            "colorbar": {
             "outlinewidth": 0,
             "ticks": ""
            },
            "colorscale": [
             [
              0,
              "#0d0887"
             ],
             [
              0.1111111111111111,
              "#46039f"
             ],
             [
              0.2222222222222222,
              "#7201a8"
             ],
             [
              0.3333333333333333,
              "#9c179e"
             ],
             [
              0.4444444444444444,
              "#bd3786"
             ],
             [
              0.5555555555555556,
              "#d8576b"
             ],
             [
              0.6666666666666666,
              "#ed7953"
             ],
             [
              0.7777777777777778,
              "#fb9f3a"
             ],
             [
              0.8888888888888888,
              "#fdca26"
             ],
             [
              1,
              "#f0f921"
             ]
            ],
            "type": "histogram2d"
           }
          ],
          "histogram2dcontour": [
           {
            "colorbar": {
             "outlinewidth": 0,
             "ticks": ""
            },
            "colorscale": [
             [
              0,
              "#0d0887"
             ],
             [
              0.1111111111111111,
              "#46039f"
             ],
             [
              0.2222222222222222,
              "#7201a8"
             ],
             [
              0.3333333333333333,
              "#9c179e"
             ],
             [
              0.4444444444444444,
              "#bd3786"
             ],
             [
              0.5555555555555556,
              "#d8576b"
             ],
             [
              0.6666666666666666,
              "#ed7953"
             ],
             [
              0.7777777777777778,
              "#fb9f3a"
             ],
             [
              0.8888888888888888,
              "#fdca26"
             ],
             [
              1,
              "#f0f921"
             ]
            ],
            "type": "histogram2dcontour"
           }
          ],
          "mesh3d": [
           {
            "colorbar": {
             "outlinewidth": 0,
             "ticks": ""
            },
            "type": "mesh3d"
           }
          ],
          "parcoords": [
           {
            "line": {
             "colorbar": {
              "outlinewidth": 0,
              "ticks": ""
             }
            },
            "type": "parcoords"
           }
          ],
          "pie": [
           {
            "automargin": true,
            "type": "pie"
           }
          ],
          "scatter": [
           {
            "fillpattern": {
             "fillmode": "overlay",
             "size": 10,
             "solidity": 0.2
            },
            "type": "scatter"
           }
          ],
          "scatter3d": [
           {
            "line": {
             "colorbar": {
              "outlinewidth": 0,
              "ticks": ""
             }
            },
            "marker": {
             "colorbar": {
              "outlinewidth": 0,
              "ticks": ""
             }
            },
            "type": "scatter3d"
           }
          ],
          "scattercarpet": [
           {
            "marker": {
             "colorbar": {
              "outlinewidth": 0,
              "ticks": ""
             }
            },
            "type": "scattercarpet"
           }
          ],
          "scattergeo": [
           {
            "marker": {
             "colorbar": {
              "outlinewidth": 0,
              "ticks": ""
             }
            },
            "type": "scattergeo"
           }
          ],
          "scattergl": [
           {
            "marker": {
             "colorbar": {
              "outlinewidth": 0,
              "ticks": ""
             }
            },
            "type": "scattergl"
           }
          ],
          "scattermapbox": [
           {
            "marker": {
             "colorbar": {
              "outlinewidth": 0,
              "ticks": ""
             }
            },
            "type": "scattermapbox"
           }
          ],
          "scatterpolar": [
           {
            "marker": {
             "colorbar": {
              "outlinewidth": 0,
              "ticks": ""
             }
            },
            "type": "scatterpolar"
           }
          ],
          "scatterpolargl": [
           {
            "marker": {
             "colorbar": {
              "outlinewidth": 0,
              "ticks": ""
             }
            },
            "type": "scatterpolargl"
           }
          ],
          "scatterternary": [
           {
            "marker": {
             "colorbar": {
              "outlinewidth": 0,
              "ticks": ""
             }
            },
            "type": "scatterternary"
           }
          ],
          "surface": [
           {
            "colorbar": {
             "outlinewidth": 0,
             "ticks": ""
            },
            "colorscale": [
             [
              0,
              "#0d0887"
             ],
             [
              0.1111111111111111,
              "#46039f"
             ],
             [
              0.2222222222222222,
              "#7201a8"
             ],
             [
              0.3333333333333333,
              "#9c179e"
             ],
             [
              0.4444444444444444,
              "#bd3786"
             ],
             [
              0.5555555555555556,
              "#d8576b"
             ],
             [
              0.6666666666666666,
              "#ed7953"
             ],
             [
              0.7777777777777778,
              "#fb9f3a"
             ],
             [
              0.8888888888888888,
              "#fdca26"
             ],
             [
              1,
              "#f0f921"
             ]
            ],
            "type": "surface"
           }
          ],
          "table": [
           {
            "cells": {
             "fill": {
              "color": "#EBF0F8"
             },
             "line": {
              "color": "white"
             }
            },
            "header": {
             "fill": {
              "color": "#C8D4E3"
             },
             "line": {
              "color": "white"
             }
            },
            "type": "table"
           }
          ]
         },
         "layout": {
          "annotationdefaults": {
           "arrowcolor": "#2a3f5f",
           "arrowhead": 0,
           "arrowwidth": 1
          },
          "autotypenumbers": "strict",
          "coloraxis": {
           "colorbar": {
            "outlinewidth": 0,
            "ticks": ""
           }
          },
          "colorscale": {
           "diverging": [
            [
             0,
             "#8e0152"
            ],
            [
             0.1,
             "#c51b7d"
            ],
            [
             0.2,
             "#de77ae"
            ],
            [
             0.3,
             "#f1b6da"
            ],
            [
             0.4,
             "#fde0ef"
            ],
            [
             0.5,
             "#f7f7f7"
            ],
            [
             0.6,
             "#e6f5d0"
            ],
            [
             0.7,
             "#b8e186"
            ],
            [
             0.8,
             "#7fbc41"
            ],
            [
             0.9,
             "#4d9221"
            ],
            [
             1,
             "#276419"
            ]
           ],
           "sequential": [
            [
             0,
             "#0d0887"
            ],
            [
             0.1111111111111111,
             "#46039f"
            ],
            [
             0.2222222222222222,
             "#7201a8"
            ],
            [
             0.3333333333333333,
             "#9c179e"
            ],
            [
             0.4444444444444444,
             "#bd3786"
            ],
            [
             0.5555555555555556,
             "#d8576b"
            ],
            [
             0.6666666666666666,
             "#ed7953"
            ],
            [
             0.7777777777777778,
             "#fb9f3a"
            ],
            [
             0.8888888888888888,
             "#fdca26"
            ],
            [
             1,
             "#f0f921"
            ]
           ],
           "sequentialminus": [
            [
             0,
             "#0d0887"
            ],
            [
             0.1111111111111111,
             "#46039f"
            ],
            [
             0.2222222222222222,
             "#7201a8"
            ],
            [
             0.3333333333333333,
             "#9c179e"
            ],
            [
             0.4444444444444444,
             "#bd3786"
            ],
            [
             0.5555555555555556,
             "#d8576b"
            ],
            [
             0.6666666666666666,
             "#ed7953"
            ],
            [
             0.7777777777777778,
             "#fb9f3a"
            ],
            [
             0.8888888888888888,
             "#fdca26"
            ],
            [
             1,
             "#f0f921"
            ]
           ]
          },
          "colorway": [
           "#636efa",
           "#EF553B",
           "#00cc96",
           "#ab63fa",
           "#FFA15A",
           "#19d3f3",
           "#FF6692",
           "#B6E880",
           "#FF97FF",
           "#FECB52"
          ],
          "font": {
           "color": "#2a3f5f"
          },
          "geo": {
           "bgcolor": "white",
           "lakecolor": "white",
           "landcolor": "#E5ECF6",
           "showlakes": true,
           "showland": true,
           "subunitcolor": "white"
          },
          "hoverlabel": {
           "align": "left"
          },
          "hovermode": "closest",
          "mapbox": {
           "style": "light"
          },
          "paper_bgcolor": "white",
          "plot_bgcolor": "#E5ECF6",
          "polar": {
           "angularaxis": {
            "gridcolor": "white",
            "linecolor": "white",
            "ticks": ""
           },
           "bgcolor": "#E5ECF6",
           "radialaxis": {
            "gridcolor": "white",
            "linecolor": "white",
            "ticks": ""
           }
          },
          "scene": {
           "xaxis": {
            "backgroundcolor": "#E5ECF6",
            "gridcolor": "white",
            "gridwidth": 2,
            "linecolor": "white",
            "showbackground": true,
            "ticks": "",
            "zerolinecolor": "white"
           },
           "yaxis": {
            "backgroundcolor": "#E5ECF6",
            "gridcolor": "white",
            "gridwidth": 2,
            "linecolor": "white",
            "showbackground": true,
            "ticks": "",
            "zerolinecolor": "white"
           },
           "zaxis": {
            "backgroundcolor": "#E5ECF6",
            "gridcolor": "white",
            "gridwidth": 2,
            "linecolor": "white",
            "showbackground": true,
            "ticks": "",
            "zerolinecolor": "white"
           }
          },
          "shapedefaults": {
           "line": {
            "color": "#2a3f5f"
           }
          },
          "ternary": {
           "aaxis": {
            "gridcolor": "white",
            "linecolor": "white",
            "ticks": ""
           },
           "baxis": {
            "gridcolor": "white",
            "linecolor": "white",
            "ticks": ""
           },
           "bgcolor": "#E5ECF6",
           "caxis": {
            "gridcolor": "white",
            "linecolor": "white",
            "ticks": ""
           }
          },
          "title": {
           "x": 0.05
          },
          "xaxis": {
           "automargin": true,
           "gridcolor": "white",
           "linecolor": "white",
           "ticks": "",
           "title": {
            "standoff": 15
           },
           "zerolinecolor": "white",
           "zerolinewidth": 2
          },
          "yaxis": {
           "automargin": true,
           "gridcolor": "white",
           "linecolor": "white",
           "ticks": "",
           "title": {
            "standoff": 15
           },
           "zerolinecolor": "white",
           "zerolinewidth": 2
          }
         }
        },
        "title": {
         "text": "Slice Plot"
        },
        "width": 1500,
        "xaxis": {
         "anchor": "y",
         "categoryarray": [
          "gini",
          "entropy"
         ],
         "categoryorder": "array",
         "domain": [
          0,
          0.16799999999999998
         ],
         "title": {
          "text": "criterion"
         },
         "type": "category"
        },
        "xaxis2": {
         "anchor": "y2",
         "domain": [
          0.208,
          0.376
         ],
         "title": {
          "text": "max_depth"
         }
        },
        "xaxis3": {
         "anchor": "y3",
         "domain": [
          0.416,
          0.584
         ],
         "title": {
          "text": "min_samples_leaf"
         }
        },
        "xaxis4": {
         "anchor": "y4",
         "domain": [
          0.624,
          0.792
         ],
         "title": {
          "text": "min_samples_split"
         }
        },
        "xaxis5": {
         "anchor": "y5",
         "categoryarray": [
          "best",
          "random"
         ],
         "categoryorder": "array",
         "domain": [
          0.832,
          1
         ],
         "title": {
          "text": "splitter"
         },
         "type": "category"
        },
        "yaxis": {
         "anchor": "x",
         "domain": [
          0,
          1
         ],
         "title": {
          "text": "Objective Value"
         }
        },
        "yaxis2": {
         "anchor": "x2",
         "domain": [
          0,
          1
         ],
         "matches": "y",
         "showticklabels": false
        },
        "yaxis3": {
         "anchor": "x3",
         "domain": [
          0,
          1
         ],
         "matches": "y",
         "showticklabels": false
        },
        "yaxis4": {
         "anchor": "x4",
         "domain": [
          0,
          1
         ],
         "matches": "y",
         "showticklabels": false
        },
        "yaxis5": {
         "anchor": "x5",
         "domain": [
          0,
          1
         ],
         "matches": "y",
         "showticklabels": false
        }
       }
      }
     },
     "metadata": {},
     "output_type": "display_data"
    }
   ],
   "source": [
    "optuna.visualization.plot_slice(study)"
   ]
  },
  {
   "cell_type": "code",
   "execution_count": 14,
   "metadata": {},
   "outputs": [
    {
     "name": "stdout",
     "output_type": "stream",
     "text": [
      "\n",
      "Best Hyperparameters from Optuna: {'criterion': 'entropy', 'splitter': 'best', 'max_depth': 10, 'min_samples_split': 7, 'min_samples_leaf': 6}\n"
     ]
    }
   ],
   "source": [
    "# Extract the best parameters\n",
    "best_params = study.best_params\n",
    "print(\"\\nBest Hyperparameters from Optuna:\", best_params)"
   ]
  },
  {
   "cell_type": "code",
   "execution_count": 15,
   "metadata": {},
   "outputs": [
    {
     "name": "stdout",
     "output_type": "stream",
     "text": [
      "\n",
      "--- RandomizedSearchCV (Tuned Decision Tree) ---\n",
      "RandomizedSearchCV(cv=StratifiedKFold(n_splits=5, random_state=123, shuffle=True),\n",
      "                   estimator=DecisionTreeClassifier(),\n",
      "                   param_distributions={'criterion': ['gini', 'entropy'],\n",
      "                                        'max_depth': array([ 1,  3,  5,  7,  9, 11, 13, 15, 17, 19]),\n",
      "                                        'min_samples_leaf': [1, 2, 4, 10],\n",
      "                                        'min_samples_split': [2, 5, 10],\n",
      "                                        'splitter': ['best', 'random']},\n",
      "                   random_state=123, return_train_score=True,\n",
      "                   scoring='accuracy')\n",
      "\n",
      "--- Cross-Validation Results (Tuned Decision Tree) ---\n",
      "The best parameters are: {'splitter': 'best', 'min_samples_split': 5, 'min_samples_leaf': 4, 'max_depth': 15, 'criterion': 'entropy'}\n",
      "Mean cross-validation accuracy: 44.09%\n",
      "\n",
      "--- Test Results ---\n",
      "Accuracy: 43.59%\n",
      "Precision: 43.70%\n",
      "Recall: 43.59%\n"
     ]
    },
    {
     "data": {
      "text/html": [
       "<style>#sk-container-id-1 {color: black;}#sk-container-id-1 pre{padding: 0;}#sk-container-id-1 div.sk-toggleable {background-color: white;}#sk-container-id-1 label.sk-toggleable__label {cursor: pointer;display: block;width: 100%;margin-bottom: 0;padding: 0.3em;box-sizing: border-box;text-align: center;}#sk-container-id-1 label.sk-toggleable__label-arrow:before {content: \"▸\";float: left;margin-right: 0.25em;color: #696969;}#sk-container-id-1 label.sk-toggleable__label-arrow:hover:before {color: black;}#sk-container-id-1 div.sk-estimator:hover label.sk-toggleable__label-arrow:before {color: black;}#sk-container-id-1 div.sk-toggleable__content {max-height: 0;max-width: 0;overflow: hidden;text-align: left;background-color: #f0f8ff;}#sk-container-id-1 div.sk-toggleable__content pre {margin: 0.2em;color: black;border-radius: 0.25em;background-color: #f0f8ff;}#sk-container-id-1 input.sk-toggleable__control:checked~div.sk-toggleable__content {max-height: 200px;max-width: 100%;overflow: auto;}#sk-container-id-1 input.sk-toggleable__control:checked~label.sk-toggleable__label-arrow:before {content: \"▾\";}#sk-container-id-1 div.sk-estimator input.sk-toggleable__control:checked~label.sk-toggleable__label {background-color: #d4ebff;}#sk-container-id-1 div.sk-label input.sk-toggleable__control:checked~label.sk-toggleable__label {background-color: #d4ebff;}#sk-container-id-1 input.sk-hidden--visually {border: 0;clip: rect(1px 1px 1px 1px);clip: rect(1px, 1px, 1px, 1px);height: 1px;margin: -1px;overflow: hidden;padding: 0;position: absolute;width: 1px;}#sk-container-id-1 div.sk-estimator {font-family: monospace;background-color: #f0f8ff;border: 1px dotted black;border-radius: 0.25em;box-sizing: border-box;margin-bottom: 0.5em;}#sk-container-id-1 div.sk-estimator:hover {background-color: #d4ebff;}#sk-container-id-1 div.sk-parallel-item::after {content: \"\";width: 100%;border-bottom: 1px solid gray;flex-grow: 1;}#sk-container-id-1 div.sk-label:hover label.sk-toggleable__label {background-color: #d4ebff;}#sk-container-id-1 div.sk-serial::before {content: \"\";position: absolute;border-left: 1px solid gray;box-sizing: border-box;top: 0;bottom: 0;left: 50%;z-index: 0;}#sk-container-id-1 div.sk-serial {display: flex;flex-direction: column;align-items: center;background-color: white;padding-right: 0.2em;padding-left: 0.2em;position: relative;}#sk-container-id-1 div.sk-item {position: relative;z-index: 1;}#sk-container-id-1 div.sk-parallel {display: flex;align-items: stretch;justify-content: center;background-color: white;position: relative;}#sk-container-id-1 div.sk-item::before, #sk-container-id-1 div.sk-parallel-item::before {content: \"\";position: absolute;border-left: 1px solid gray;box-sizing: border-box;top: 0;bottom: 0;left: 50%;z-index: -1;}#sk-container-id-1 div.sk-parallel-item {display: flex;flex-direction: column;z-index: 1;position: relative;background-color: white;}#sk-container-id-1 div.sk-parallel-item:first-child::after {align-self: flex-end;width: 50%;}#sk-container-id-1 div.sk-parallel-item:last-child::after {align-self: flex-start;width: 50%;}#sk-container-id-1 div.sk-parallel-item:only-child::after {width: 0;}#sk-container-id-1 div.sk-dashed-wrapped {border: 1px dashed gray;margin: 0 0.4em 0.5em 0.4em;box-sizing: border-box;padding-bottom: 0.4em;background-color: white;}#sk-container-id-1 div.sk-label label {font-family: monospace;font-weight: bold;display: inline-block;line-height: 1.2em;}#sk-container-id-1 div.sk-label-container {text-align: center;}#sk-container-id-1 div.sk-container {/* jupyter's `normalize.less` sets `[hidden] { display: none; }` but bootstrap.min.css set `[hidden] { display: none !important; }` so we also need the `!important` here to be able to override the default hidden behavior on the sphinx rendered scikit-learn.org. See: https://github.com/scikit-learn/scikit-learn/issues/21755 */display: inline-block !important;position: relative;}#sk-container-id-1 div.sk-text-repr-fallback {display: none;}</style><div id=\"sk-container-id-1\" class=\"sk-top-container\"><div class=\"sk-text-repr-fallback\"><pre>DecisionTreeClassifier(criterion=&#x27;entropy&#x27;, max_depth=15, min_samples_leaf=4,\n",
       "                       min_samples_split=5)</pre><b>In a Jupyter environment, please rerun this cell to show the HTML representation or trust the notebook. <br />On GitHub, the HTML representation is unable to render, please try loading this page with nbviewer.org.</b></div><div class=\"sk-container\" hidden><div class=\"sk-item\"><div class=\"sk-estimator sk-toggleable\"><input class=\"sk-toggleable__control sk-hidden--visually\" id=\"sk-estimator-id-1\" type=\"checkbox\" checked><label for=\"sk-estimator-id-1\" class=\"sk-toggleable__label sk-toggleable__label-arrow\">DecisionTreeClassifier</label><div class=\"sk-toggleable__content\"><pre>DecisionTreeClassifier(criterion=&#x27;entropy&#x27;, max_depth=15, min_samples_leaf=4,\n",
       "                       min_samples_split=5)</pre></div></div></div></div></div>"
      ],
      "text/plain": [
       "DecisionTreeClassifier(criterion='entropy', max_depth=15, min_samples_leaf=4,\n",
       "                       min_samples_split=5)"
      ]
     },
     "execution_count": 15,
     "metadata": {},
     "output_type": "execute_result"
    }
   ],
   "source": [
    "# Train Decision Tree with Optuna Tuned Parameters\n",
    "best_model_dtree_optuna = DecisionTreeClassifier(**best_params, random_state=123)\n",
    "\n",
    "best_model_dtree_optuna = run_classifier(dtree_tuned, param_grid, X_train, y_train, X_test, y_test, \"Tuned Decision Tree\")\n",
    "best_model_dtree_optuna.fit(X_train, y_train)"
   ]
  },
  {
   "cell_type": "code",
   "execution_count": 16,
   "metadata": {},
   "outputs": [
    {
     "name": "stdout",
     "output_type": "stream",
     "text": [
      "Model 'Decision Tree with Optuna Parameters' recorded successfully!\n"
     ]
    }
   ],
   "source": [
    "# Evaluate the Optuna-tuned model\n",
    "optuna_test_metrics = {\n",
    "    \"accuracy\": accuracy_score(y_test, best_model_dtree_optuna.predict(X_test)),\n",
    "    \"precision\": precision_score(y_test, best_model_dtree_optuna.predict(X_test), average='weighted'),\n",
    "    \"recall\": recall_score(y_test, best_model_dtree_optuna.predict(X_test), average='weighted')\n",
    "}\n",
    "record_trained_model(\"Decision Tree with Optuna Parameters\", best_params, np.nan, optuna_test_metrics)"
   ]
  },
  {
   "cell_type": "code",
   "execution_count": 17,
   "metadata": {},
   "outputs": [
    {
     "data": {
      "text/html": [
       "<div>\n",
       "<style scoped>\n",
       "    .dataframe tbody tr th:only-of-type {\n",
       "        vertical-align: middle;\n",
       "    }\n",
       "\n",
       "    .dataframe tbody tr th {\n",
       "        vertical-align: top;\n",
       "    }\n",
       "\n",
       "    .dataframe thead th {\n",
       "        text-align: right;\n",
       "    }\n",
       "</style>\n",
       "<table border=\"1\" class=\"dataframe\">\n",
       "  <thead>\n",
       "    <tr style=\"text-align: right;\">\n",
       "      <th></th>\n",
       "      <th>Model Name</th>\n",
       "      <th>Hyperparameters</th>\n",
       "      <th>Test Accuracy</th>\n",
       "      <th>Test Precision</th>\n",
       "      <th>Test Recall</th>\n",
       "    </tr>\n",
       "  </thead>\n",
       "  <tbody>\n",
       "    <tr>\n",
       "      <th>0</th>\n",
       "      <td>Decision Tree with Default Parameters</td>\n",
       "      <td>{}</td>\n",
       "      <td>43.59%</td>\n",
       "      <td>44.33%</td>\n",
       "      <td>43.59%</td>\n",
       "    </tr>\n",
       "    <tr>\n",
       "      <th>1</th>\n",
       "      <td>Decision Tree with Tuned Parameters</td>\n",
       "      <td>{'ccp_alpha': 0.0, 'class_weight': None, 'crit...</td>\n",
       "      <td>43.50%</td>\n",
       "      <td>43.34%</td>\n",
       "      <td>43.50%</td>\n",
       "    </tr>\n",
       "    <tr>\n",
       "      <th>2</th>\n",
       "      <td>Decision Tree with Optuna Parameters</td>\n",
       "      <td>{'criterion': 'entropy', 'splitter': 'best', '...</td>\n",
       "      <td>43.93%</td>\n",
       "      <td>44.00%</td>\n",
       "      <td>43.93%</td>\n",
       "    </tr>\n",
       "  </tbody>\n",
       "</table>\n",
       "</div>"
      ],
      "text/plain": [
       "                              Model Name  \\\n",
       "0  Decision Tree with Default Parameters   \n",
       "1    Decision Tree with Tuned Parameters   \n",
       "2   Decision Tree with Optuna Parameters   \n",
       "\n",
       "                                     Hyperparameters Test Accuracy  \\\n",
       "0                                                 {}        43.59%   \n",
       "1  {'ccp_alpha': 0.0, 'class_weight': None, 'crit...        43.50%   \n",
       "2  {'criterion': 'entropy', 'splitter': 'best', '...        43.93%   \n",
       "\n",
       "  Test Precision Test Recall  \n",
       "0         44.33%      43.59%  \n",
       "1         43.34%      43.50%  \n",
       "2         44.00%      43.93%  "
      ]
     },
     "execution_count": 17,
     "metadata": {},
     "output_type": "execute_result"
    }
   ],
   "source": [
    "model_records"
   ]
  },
  {
   "cell_type": "code",
   "execution_count": 18,
   "metadata": {},
   "outputs": [
    {
     "name": "stdout",
     "output_type": "stream",
     "text": [
      "Training Decision Tree with Advanced Techniques (e.g., Pruning)...\n"
     ]
    },
    {
     "data": {
      "text/html": [
       "<style>#sk-container-id-2 {color: black;}#sk-container-id-2 pre{padding: 0;}#sk-container-id-2 div.sk-toggleable {background-color: white;}#sk-container-id-2 label.sk-toggleable__label {cursor: pointer;display: block;width: 100%;margin-bottom: 0;padding: 0.3em;box-sizing: border-box;text-align: center;}#sk-container-id-2 label.sk-toggleable__label-arrow:before {content: \"▸\";float: left;margin-right: 0.25em;color: #696969;}#sk-container-id-2 label.sk-toggleable__label-arrow:hover:before {color: black;}#sk-container-id-2 div.sk-estimator:hover label.sk-toggleable__label-arrow:before {color: black;}#sk-container-id-2 div.sk-toggleable__content {max-height: 0;max-width: 0;overflow: hidden;text-align: left;background-color: #f0f8ff;}#sk-container-id-2 div.sk-toggleable__content pre {margin: 0.2em;color: black;border-radius: 0.25em;background-color: #f0f8ff;}#sk-container-id-2 input.sk-toggleable__control:checked~div.sk-toggleable__content {max-height: 200px;max-width: 100%;overflow: auto;}#sk-container-id-2 input.sk-toggleable__control:checked~label.sk-toggleable__label-arrow:before {content: \"▾\";}#sk-container-id-2 div.sk-estimator input.sk-toggleable__control:checked~label.sk-toggleable__label {background-color: #d4ebff;}#sk-container-id-2 div.sk-label input.sk-toggleable__control:checked~label.sk-toggleable__label {background-color: #d4ebff;}#sk-container-id-2 input.sk-hidden--visually {border: 0;clip: rect(1px 1px 1px 1px);clip: rect(1px, 1px, 1px, 1px);height: 1px;margin: -1px;overflow: hidden;padding: 0;position: absolute;width: 1px;}#sk-container-id-2 div.sk-estimator {font-family: monospace;background-color: #f0f8ff;border: 1px dotted black;border-radius: 0.25em;box-sizing: border-box;margin-bottom: 0.5em;}#sk-container-id-2 div.sk-estimator:hover {background-color: #d4ebff;}#sk-container-id-2 div.sk-parallel-item::after {content: \"\";width: 100%;border-bottom: 1px solid gray;flex-grow: 1;}#sk-container-id-2 div.sk-label:hover label.sk-toggleable__label {background-color: #d4ebff;}#sk-container-id-2 div.sk-serial::before {content: \"\";position: absolute;border-left: 1px solid gray;box-sizing: border-box;top: 0;bottom: 0;left: 50%;z-index: 0;}#sk-container-id-2 div.sk-serial {display: flex;flex-direction: column;align-items: center;background-color: white;padding-right: 0.2em;padding-left: 0.2em;position: relative;}#sk-container-id-2 div.sk-item {position: relative;z-index: 1;}#sk-container-id-2 div.sk-parallel {display: flex;align-items: stretch;justify-content: center;background-color: white;position: relative;}#sk-container-id-2 div.sk-item::before, #sk-container-id-2 div.sk-parallel-item::before {content: \"\";position: absolute;border-left: 1px solid gray;box-sizing: border-box;top: 0;bottom: 0;left: 50%;z-index: -1;}#sk-container-id-2 div.sk-parallel-item {display: flex;flex-direction: column;z-index: 1;position: relative;background-color: white;}#sk-container-id-2 div.sk-parallel-item:first-child::after {align-self: flex-end;width: 50%;}#sk-container-id-2 div.sk-parallel-item:last-child::after {align-self: flex-start;width: 50%;}#sk-container-id-2 div.sk-parallel-item:only-child::after {width: 0;}#sk-container-id-2 div.sk-dashed-wrapped {border: 1px dashed gray;margin: 0 0.4em 0.5em 0.4em;box-sizing: border-box;padding-bottom: 0.4em;background-color: white;}#sk-container-id-2 div.sk-label label {font-family: monospace;font-weight: bold;display: inline-block;line-height: 1.2em;}#sk-container-id-2 div.sk-label-container {text-align: center;}#sk-container-id-2 div.sk-container {/* jupyter's `normalize.less` sets `[hidden] { display: none; }` but bootstrap.min.css set `[hidden] { display: none !important; }` so we also need the `!important` here to be able to override the default hidden behavior on the sphinx rendered scikit-learn.org. See: https://github.com/scikit-learn/scikit-learn/issues/21755 */display: inline-block !important;position: relative;}#sk-container-id-2 div.sk-text-repr-fallback {display: none;}</style><div id=\"sk-container-id-2\" class=\"sk-top-container\"><div class=\"sk-text-repr-fallback\"><pre>DecisionTreeClassifier(ccp_alpha=0.01, criterion=&#x27;entropy&#x27;, max_depth=10,\n",
       "                       min_samples_leaf=6, min_samples_split=7,\n",
       "                       random_state=123)</pre><b>In a Jupyter environment, please rerun this cell to show the HTML representation or trust the notebook. <br />On GitHub, the HTML representation is unable to render, please try loading this page with nbviewer.org.</b></div><div class=\"sk-container\" hidden><div class=\"sk-item\"><div class=\"sk-estimator sk-toggleable\"><input class=\"sk-toggleable__control sk-hidden--visually\" id=\"sk-estimator-id-2\" type=\"checkbox\" checked><label for=\"sk-estimator-id-2\" class=\"sk-toggleable__label sk-toggleable__label-arrow\">DecisionTreeClassifier</label><div class=\"sk-toggleable__content\"><pre>DecisionTreeClassifier(ccp_alpha=0.01, criterion=&#x27;entropy&#x27;, max_depth=10,\n",
       "                       min_samples_leaf=6, min_samples_split=7,\n",
       "                       random_state=123)</pre></div></div></div></div></div>"
      ],
      "text/plain": [
       "DecisionTreeClassifier(ccp_alpha=0.01, criterion='entropy', max_depth=10,\n",
       "                       min_samples_leaf=6, min_samples_split=7,\n",
       "                       random_state=123)"
      ]
     },
     "execution_count": 18,
     "metadata": {},
     "output_type": "execute_result"
    }
   ],
   "source": [
    "# Phase 4: pruned decision tree\n",
    "dtree_pruned = DecisionTreeClassifier(**best_params, random_state=123, ccp_alpha=0.01)\n",
    "print(\"Training Decision Tree with Advanced Techniques (e.g., Pruning)...\")\n",
    "dtree_pruned.fit(X_train, y_train)"
   ]
  },
  {
   "cell_type": "code",
   "execution_count": 19,
   "metadata": {},
   "outputs": [
    {
     "name": "stdout",
     "output_type": "stream",
     "text": [
      "Model 'Pruned Decision Tree with Optuna Parameters' recorded successfully!\n"
     ]
    }
   ],
   "source": [
    "# Evaluate the advanced pruned model\n",
    "test_metrics = {\n",
    "    \"accuracy\": accuracy_score(y_test, dtree_pruned.predict(X_test)),\n",
    "    \"precision\": precision_score(y_test, dtree_pruned.predict(X_test), average='weighted'),\n",
    "    \"recall\": recall_score(y_test, dtree_pruned.predict(X_test), average='weighted')\n",
    "}\n",
    "record_trained_model(\"Pruned Decision Tree with Optuna Parameters\", dtree_pruned.get_params(), np.nan, test_metrics)"
   ]
  },
  {
   "cell_type": "code",
   "execution_count": 20,
   "metadata": {},
   "outputs": [
    {
     "data": {
      "text/html": [
       "<div>\n",
       "<style scoped>\n",
       "    .dataframe tbody tr th:only-of-type {\n",
       "        vertical-align: middle;\n",
       "    }\n",
       "\n",
       "    .dataframe tbody tr th {\n",
       "        vertical-align: top;\n",
       "    }\n",
       "\n",
       "    .dataframe thead th {\n",
       "        text-align: right;\n",
       "    }\n",
       "</style>\n",
       "<table border=\"1\" class=\"dataframe\">\n",
       "  <thead>\n",
       "    <tr style=\"text-align: right;\">\n",
       "      <th></th>\n",
       "      <th>Model Name</th>\n",
       "      <th>Hyperparameters</th>\n",
       "      <th>Test Accuracy</th>\n",
       "      <th>Test Precision</th>\n",
       "      <th>Test Recall</th>\n",
       "    </tr>\n",
       "  </thead>\n",
       "  <tbody>\n",
       "    <tr>\n",
       "      <th>0</th>\n",
       "      <td>Decision Tree with Default Parameters</td>\n",
       "      <td>{}</td>\n",
       "      <td>43.59%</td>\n",
       "      <td>44.33%</td>\n",
       "      <td>43.59%</td>\n",
       "    </tr>\n",
       "    <tr>\n",
       "      <th>1</th>\n",
       "      <td>Decision Tree with Tuned Parameters</td>\n",
       "      <td>{'ccp_alpha': 0.0, 'class_weight': None, 'crit...</td>\n",
       "      <td>43.50%</td>\n",
       "      <td>43.34%</td>\n",
       "      <td>43.50%</td>\n",
       "    </tr>\n",
       "    <tr>\n",
       "      <th>2</th>\n",
       "      <td>Decision Tree with Optuna Parameters</td>\n",
       "      <td>{'criterion': 'entropy', 'splitter': 'best', '...</td>\n",
       "      <td>43.93%</td>\n",
       "      <td>44.00%</td>\n",
       "      <td>43.93%</td>\n",
       "    </tr>\n",
       "    <tr>\n",
       "      <th>3</th>\n",
       "      <td>Pruned Decision Tree with Optuna Parameters</td>\n",
       "      <td>{'ccp_alpha': 0.01, 'class_weight': None, 'cri...</td>\n",
       "      <td>41.45%</td>\n",
       "      <td>35.69%</td>\n",
       "      <td>41.45%</td>\n",
       "    </tr>\n",
       "  </tbody>\n",
       "</table>\n",
       "</div>"
      ],
      "text/plain": [
       "                                    Model Name  \\\n",
       "0        Decision Tree with Default Parameters   \n",
       "1          Decision Tree with Tuned Parameters   \n",
       "2         Decision Tree with Optuna Parameters   \n",
       "3  Pruned Decision Tree with Optuna Parameters   \n",
       "\n",
       "                                     Hyperparameters Test Accuracy  \\\n",
       "0                                                 {}        43.59%   \n",
       "1  {'ccp_alpha': 0.0, 'class_weight': None, 'crit...        43.50%   \n",
       "2  {'criterion': 'entropy', 'splitter': 'best', '...        43.93%   \n",
       "3  {'ccp_alpha': 0.01, 'class_weight': None, 'cri...        41.45%   \n",
       "\n",
       "  Test Precision Test Recall  \n",
       "0         44.33%      43.59%  \n",
       "1         43.34%      43.50%  \n",
       "2         44.00%      43.93%  \n",
       "3         35.69%      41.45%  "
      ]
     },
     "execution_count": 20,
     "metadata": {},
     "output_type": "execute_result"
    }
   ],
   "source": [
    "model_records"
   ]
  },
  {
   "cell_type": "code",
   "execution_count": null,
   "metadata": {},
   "outputs": [],
   "source": [
    "# Get effective alphas for pruning\n",
    "path = best_model_dtree_optuna.cost_complexity_pruning_path(X_train, y_train)\n",
    "ccp_alphas = path.ccp_alphas\n",
    "\n",
    "# Train and evaluate trees with different alphas\n",
    "pruned_models = []\n",
    "pruned_metrics = []\n",
    "\n",
    "for alpha in ccp_alphas:\n",
    "    pruned_model = DecisionTreeClassifier(**best_params, random_state=123, ccp_alpha=alpha)\n",
    "    pruned_model.fit(X_train, y_train)\n",
    "    accuracy = accuracy_score(y_test, pruned_model.predict(X_test))\n",
    "    pruned_models.append(pruned_model)\n",
    "    pruned_metrics.append((alpha, accuracy))\n",
    "\n",
    "# Select the best pruned model based on accuracy\n",
    "best_alpha_idx = np.argmax([metric[1] for metric in pruned_metrics])\n",
    "best_pruned_model = pruned_models[best_alpha_idx]\n",
    "\n",
    "print(f\"Best Alpha: {ccp_alphas[best_alpha_idx]}\")\n",
    "print(f\"Best Pruned Model Accuracy: {pruned_metrics[best_alpha_idx][1]:.2f}\")"
   ]
  },
  {
   "cell_type": "code",
   "execution_count": 26,
   "metadata": {},
   "outputs": [
    {
     "data": {
      "text/plain": [
       "(701,)"
      ]
     },
     "execution_count": 26,
     "metadata": {},
     "output_type": "execute_result"
    }
   ],
   "source": [
    "ccp_alphas.shape"
   ]
  },
  {
   "cell_type": "code",
   "execution_count": 32,
   "metadata": {},
   "outputs": [
    {
     "data": {
      "text/plain": [
       "398"
      ]
     },
     "execution_count": 32,
     "metadata": {},
     "output_type": "execute_result"
    }
   ],
   "source": [
    "len(pruned_metrics)"
   ]
  },
  {
   "cell_type": "code",
   "execution_count": 23,
   "metadata": {},
   "outputs": [
    {
     "name": "stdout",
     "output_type": "stream",
     "text": [
      "Best Alpha: 0.0\n",
      "Best Pruned Model Accuracy: 0.46\n"
     ]
    }
   ],
   "source": [
    "# Select the best pruned model based on accuracy\n",
    "best_alpha_idx = np.argmax([metric[1] for metric in pruned_metrics])\n",
    "best_pruned_model = pruned_models[best_alpha_idx]\n",
    "\n",
    "print(f\"Best Alpha: {ccp_alphas[best_alpha_idx]}\")\n",
    "print(f\"Best Pruned Model Accuracy: {pruned_metrics[best_alpha_idx][1]:.2f}\")"
   ]
  },
  {
   "cell_type": "code",
   "execution_count": 60,
   "metadata": {},
   "outputs": [
    {
     "name": "stdout",
     "output_type": "stream",
     "text": [
      "Model 'Pruned Decision Tree with Alpha Optimization' recorded successfully!\n"
     ]
    }
   ],
   "source": [
    "from sklearn.metrics import precision_score, recall_score\n",
    "\n",
    "# Calculate precision and recall for the best pruned model\n",
    "precision = precision_score(y_test, best_pruned_model.predict(X_test), average='weighted')\n",
    "recall = recall_score(y_test, best_pruned_model.predict(X_test), average='weighted')\n",
    "\n",
    "# Record the performance of the best pruned model\n",
    "record_trained_model(\n",
    "    \"Pruned Decision Tree with Alpha Optimization\",\n",
    "    pruned_models[best_alpha_idx].get_params(),\n",
    "    ccp_alphas[best_alpha_idx],\n",
    "    {\n",
    "        \"accuracy\": pruned_metrics[best_alpha_idx][1],  # Pass accuracy as a float\n",
    "        \"precision\": precision,                        # Add precision\n",
    "        \"recall\": recall                               # Add recall\n",
    "    }\n",
    ")\n"
   ]
  },
  {
   "cell_type": "code",
   "execution_count": 61,
   "metadata": {},
   "outputs": [
    {
     "data": {
      "text/html": [
       "<div>\n",
       "<style scoped>\n",
       "    .dataframe tbody tr th:only-of-type {\n",
       "        vertical-align: middle;\n",
       "    }\n",
       "\n",
       "    .dataframe tbody tr th {\n",
       "        vertical-align: top;\n",
       "    }\n",
       "\n",
       "    .dataframe thead th {\n",
       "        text-align: right;\n",
       "    }\n",
       "</style>\n",
       "<table border=\"1\" class=\"dataframe\">\n",
       "  <thead>\n",
       "    <tr style=\"text-align: right;\">\n",
       "      <th></th>\n",
       "      <th>Model Name</th>\n",
       "      <th>Hyperparameters</th>\n",
       "      <th>Test Accuracy</th>\n",
       "      <th>Test Precision</th>\n",
       "      <th>Test Recall</th>\n",
       "    </tr>\n",
       "  </thead>\n",
       "  <tbody>\n",
       "    <tr>\n",
       "      <th>0</th>\n",
       "      <td>Decision Tree with Default Parameters</td>\n",
       "      <td>{}</td>\n",
       "      <td>43.59%</td>\n",
       "      <td>44.33%</td>\n",
       "      <td>43.59%</td>\n",
       "    </tr>\n",
       "    <tr>\n",
       "      <th>1</th>\n",
       "      <td>Decision Tree with Tuned Parameters</td>\n",
       "      <td>{'ccp_alpha': 0.0, 'class_weight': None, 'crit...</td>\n",
       "      <td>43.50%</td>\n",
       "      <td>43.34%</td>\n",
       "      <td>43.50%</td>\n",
       "    </tr>\n",
       "    <tr>\n",
       "      <th>2</th>\n",
       "      <td>Decision Tree with Optuna Parameters</td>\n",
       "      <td>{'criterion': 'entropy', 'splitter': 'best', '...</td>\n",
       "      <td>43.93%</td>\n",
       "      <td>44.00%</td>\n",
       "      <td>43.93%</td>\n",
       "    </tr>\n",
       "    <tr>\n",
       "      <th>3</th>\n",
       "      <td>Pruned Decision Tree with Optuna Parameters</td>\n",
       "      <td>{'ccp_alpha': 0.01, 'class_weight': None, 'cri...</td>\n",
       "      <td>41.45%</td>\n",
       "      <td>35.69%</td>\n",
       "      <td>41.45%</td>\n",
       "    </tr>\n",
       "    <tr>\n",
       "      <th>4</th>\n",
       "      <td>Pruned Decision Tree with Alpha Optimization</td>\n",
       "      <td>{'ccp_alpha': 0.0, 'class_weight': None, 'crit...</td>\n",
       "      <td>46.24%</td>\n",
       "      <td>45.76%</td>\n",
       "      <td>46.24%</td>\n",
       "    </tr>\n",
       "  </tbody>\n",
       "</table>\n",
       "</div>"
      ],
      "text/plain": [
       "                                     Model Name  \\\n",
       "0         Decision Tree with Default Parameters   \n",
       "1           Decision Tree with Tuned Parameters   \n",
       "2          Decision Tree with Optuna Parameters   \n",
       "3   Pruned Decision Tree with Optuna Parameters   \n",
       "4  Pruned Decision Tree with Alpha Optimization   \n",
       "\n",
       "                                     Hyperparameters Test Accuracy  \\\n",
       "0                                                 {}        43.59%   \n",
       "1  {'ccp_alpha': 0.0, 'class_weight': None, 'crit...        43.50%   \n",
       "2  {'criterion': 'entropy', 'splitter': 'best', '...        43.93%   \n",
       "3  {'ccp_alpha': 0.01, 'class_weight': None, 'cri...        41.45%   \n",
       "4  {'ccp_alpha': 0.0, 'class_weight': None, 'crit...        46.24%   \n",
       "\n",
       "  Test Precision Test Recall  \n",
       "0         44.33%      43.59%  \n",
       "1         43.34%      43.50%  \n",
       "2         44.00%      43.93%  \n",
       "3         35.69%      41.45%  \n",
       "4         45.76%      46.24%  "
      ]
     },
     "execution_count": 61,
     "metadata": {},
     "output_type": "execute_result"
    }
   ],
   "source": [
    "model_records"
   ]
  },
  {
   "cell_type": "code",
   "execution_count": 24,
   "metadata": {},
   "outputs": [
    {
     "data": {
      "text/html": [
       "<style>#sk-container-id-3 {color: black;}#sk-container-id-3 pre{padding: 0;}#sk-container-id-3 div.sk-toggleable {background-color: white;}#sk-container-id-3 label.sk-toggleable__label {cursor: pointer;display: block;width: 100%;margin-bottom: 0;padding: 0.3em;box-sizing: border-box;text-align: center;}#sk-container-id-3 label.sk-toggleable__label-arrow:before {content: \"▸\";float: left;margin-right: 0.25em;color: #696969;}#sk-container-id-3 label.sk-toggleable__label-arrow:hover:before {color: black;}#sk-container-id-3 div.sk-estimator:hover label.sk-toggleable__label-arrow:before {color: black;}#sk-container-id-3 div.sk-toggleable__content {max-height: 0;max-width: 0;overflow: hidden;text-align: left;background-color: #f0f8ff;}#sk-container-id-3 div.sk-toggleable__content pre {margin: 0.2em;color: black;border-radius: 0.25em;background-color: #f0f8ff;}#sk-container-id-3 input.sk-toggleable__control:checked~div.sk-toggleable__content {max-height: 200px;max-width: 100%;overflow: auto;}#sk-container-id-3 input.sk-toggleable__control:checked~label.sk-toggleable__label-arrow:before {content: \"▾\";}#sk-container-id-3 div.sk-estimator input.sk-toggleable__control:checked~label.sk-toggleable__label {background-color: #d4ebff;}#sk-container-id-3 div.sk-label input.sk-toggleable__control:checked~label.sk-toggleable__label {background-color: #d4ebff;}#sk-container-id-3 input.sk-hidden--visually {border: 0;clip: rect(1px 1px 1px 1px);clip: rect(1px, 1px, 1px, 1px);height: 1px;margin: -1px;overflow: hidden;padding: 0;position: absolute;width: 1px;}#sk-container-id-3 div.sk-estimator {font-family: monospace;background-color: #f0f8ff;border: 1px dotted black;border-radius: 0.25em;box-sizing: border-box;margin-bottom: 0.5em;}#sk-container-id-3 div.sk-estimator:hover {background-color: #d4ebff;}#sk-container-id-3 div.sk-parallel-item::after {content: \"\";width: 100%;border-bottom: 1px solid gray;flex-grow: 1;}#sk-container-id-3 div.sk-label:hover label.sk-toggleable__label {background-color: #d4ebff;}#sk-container-id-3 div.sk-serial::before {content: \"\";position: absolute;border-left: 1px solid gray;box-sizing: border-box;top: 0;bottom: 0;left: 50%;z-index: 0;}#sk-container-id-3 div.sk-serial {display: flex;flex-direction: column;align-items: center;background-color: white;padding-right: 0.2em;padding-left: 0.2em;position: relative;}#sk-container-id-3 div.sk-item {position: relative;z-index: 1;}#sk-container-id-3 div.sk-parallel {display: flex;align-items: stretch;justify-content: center;background-color: white;position: relative;}#sk-container-id-3 div.sk-item::before, #sk-container-id-3 div.sk-parallel-item::before {content: \"\";position: absolute;border-left: 1px solid gray;box-sizing: border-box;top: 0;bottom: 0;left: 50%;z-index: -1;}#sk-container-id-3 div.sk-parallel-item {display: flex;flex-direction: column;z-index: 1;position: relative;background-color: white;}#sk-container-id-3 div.sk-parallel-item:first-child::after {align-self: flex-end;width: 50%;}#sk-container-id-3 div.sk-parallel-item:last-child::after {align-self: flex-start;width: 50%;}#sk-container-id-3 div.sk-parallel-item:only-child::after {width: 0;}#sk-container-id-3 div.sk-dashed-wrapped {border: 1px dashed gray;margin: 0 0.4em 0.5em 0.4em;box-sizing: border-box;padding-bottom: 0.4em;background-color: white;}#sk-container-id-3 div.sk-label label {font-family: monospace;font-weight: bold;display: inline-block;line-height: 1.2em;}#sk-container-id-3 div.sk-label-container {text-align: center;}#sk-container-id-3 div.sk-container {/* jupyter's `normalize.less` sets `[hidden] { display: none; }` but bootstrap.min.css set `[hidden] { display: none !important; }` so we also need the `!important` here to be able to override the default hidden behavior on the sphinx rendered scikit-learn.org. See: https://github.com/scikit-learn/scikit-learn/issues/21755 */display: inline-block !important;position: relative;}#sk-container-id-3 div.sk-text-repr-fallback {display: none;}</style><div id=\"sk-container-id-3\" class=\"sk-top-container\"><div class=\"sk-text-repr-fallback\"><pre>DecisionTreeClassifier(criterion=&#x27;entropy&#x27;, max_depth=10, min_samples_leaf=6,\n",
       "                       min_samples_split=7, random_state=123)</pre><b>In a Jupyter environment, please rerun this cell to show the HTML representation or trust the notebook. <br />On GitHub, the HTML representation is unable to render, please try loading this page with nbviewer.org.</b></div><div class=\"sk-container\" hidden><div class=\"sk-item\"><div class=\"sk-estimator sk-toggleable\"><input class=\"sk-toggleable__control sk-hidden--visually\" id=\"sk-estimator-id-3\" type=\"checkbox\" checked><label for=\"sk-estimator-id-3\" class=\"sk-toggleable__label sk-toggleable__label-arrow\">DecisionTreeClassifier</label><div class=\"sk-toggleable__content\"><pre>DecisionTreeClassifier(criterion=&#x27;entropy&#x27;, max_depth=10, min_samples_leaf=6,\n",
       "                       min_samples_split=7, random_state=123)</pre></div></div></div></div></div>"
      ],
      "text/plain": [
       "DecisionTreeClassifier(criterion='entropy', max_depth=10, min_samples_leaf=6,\n",
       "                       min_samples_split=7, random_state=123)"
      ]
     },
     "execution_count": 24,
     "metadata": {},
     "output_type": "execute_result"
    }
   ],
   "source": [
    "best_pruned_model"
   ]
  },
  {
   "cell_type": "code",
   "execution_count": 37,
   "metadata": {},
   "outputs": [
    {
     "name": "stdout",
     "output_type": "stream",
     "text": [
      "\n",
      "Early Stopping Metrics:\n",
      "{'accuracy': 0.45897435897435895, 'precision': 0.4536332397196331, 'recall': 0.45897435897435895}\n"
     ]
    }
   ],
   "source": [
    "# Define a custom stopping criterion\n",
    "early_stop_model = DecisionTreeClassifier(\n",
    "    **best_params, random_state=123, min_impurity_decrease=0.001  # Adjust threshold\n",
    ")\n",
    "early_stop_model.fit(X_train, y_train)\n",
    "\n",
    "# Evaluate the model\n",
    "early_stop_metrics = {\n",
    "    \"accuracy\": accuracy_score(y_test, early_stop_model.predict(X_test)),\n",
    "    \"precision\": precision_score(y_test, early_stop_model.predict(X_test), average='weighted'),\n",
    "    \"recall\": recall_score(y_test, early_stop_model.predict(X_test), average='weighted')\n",
    "}\n",
    "\n",
    "print(\"\\nEarly Stopping Metrics:\")\n",
    "print(early_stop_metrics)\n"
   ]
  },
  {
   "cell_type": "code",
   "execution_count": 62,
   "metadata": {},
   "outputs": [
    {
     "name": "stdout",
     "output_type": "stream",
     "text": [
      "Model 'Decision Tree with Early Stopping' recorded successfully!\n"
     ]
    }
   ],
   "source": [
    "# Record the performance of the early stopping model\n",
    "record_trained_model(\n",
    "    \"Decision Tree with Early Stopping\",\n",
    "    early_stop_model.get_params(),\n",
    "    \"min_impurity_decrease=0.001\",\n",
    "    {\n",
    "        \"accuracy\": early_stop_metrics[\"accuracy\"],\n",
    "        \"precision\": early_stop_metrics[\"precision\"],\n",
    "        \"recall\": early_stop_metrics[\"recall\"]\n",
    "    }\n",
    ")"
   ]
  },
  {
   "cell_type": "code",
   "execution_count": 63,
   "metadata": {},
   "outputs": [
    {
     "data": {
      "text/html": [
       "<div>\n",
       "<style scoped>\n",
       "    .dataframe tbody tr th:only-of-type {\n",
       "        vertical-align: middle;\n",
       "    }\n",
       "\n",
       "    .dataframe tbody tr th {\n",
       "        vertical-align: top;\n",
       "    }\n",
       "\n",
       "    .dataframe thead th {\n",
       "        text-align: right;\n",
       "    }\n",
       "</style>\n",
       "<table border=\"1\" class=\"dataframe\">\n",
       "  <thead>\n",
       "    <tr style=\"text-align: right;\">\n",
       "      <th></th>\n",
       "      <th>Model Name</th>\n",
       "      <th>Hyperparameters</th>\n",
       "      <th>Test Accuracy</th>\n",
       "      <th>Test Precision</th>\n",
       "      <th>Test Recall</th>\n",
       "    </tr>\n",
       "  </thead>\n",
       "  <tbody>\n",
       "    <tr>\n",
       "      <th>0</th>\n",
       "      <td>Decision Tree with Default Parameters</td>\n",
       "      <td>{}</td>\n",
       "      <td>43.59%</td>\n",
       "      <td>44.33%</td>\n",
       "      <td>43.59%</td>\n",
       "    </tr>\n",
       "    <tr>\n",
       "      <th>1</th>\n",
       "      <td>Decision Tree with Tuned Parameters</td>\n",
       "      <td>{'ccp_alpha': 0.0, 'class_weight': None, 'crit...</td>\n",
       "      <td>43.50%</td>\n",
       "      <td>43.34%</td>\n",
       "      <td>43.50%</td>\n",
       "    </tr>\n",
       "    <tr>\n",
       "      <th>2</th>\n",
       "      <td>Decision Tree with Optuna Parameters</td>\n",
       "      <td>{'criterion': 'entropy', 'splitter': 'best', '...</td>\n",
       "      <td>43.93%</td>\n",
       "      <td>44.00%</td>\n",
       "      <td>43.93%</td>\n",
       "    </tr>\n",
       "    <tr>\n",
       "      <th>3</th>\n",
       "      <td>Pruned Decision Tree with Optuna Parameters</td>\n",
       "      <td>{'ccp_alpha': 0.01, 'class_weight': None, 'cri...</td>\n",
       "      <td>41.45%</td>\n",
       "      <td>35.69%</td>\n",
       "      <td>41.45%</td>\n",
       "    </tr>\n",
       "    <tr>\n",
       "      <th>4</th>\n",
       "      <td>Pruned Decision Tree with Alpha Optimization</td>\n",
       "      <td>{'ccp_alpha': 0.0, 'class_weight': None, 'crit...</td>\n",
       "      <td>46.24%</td>\n",
       "      <td>45.76%</td>\n",
       "      <td>46.24%</td>\n",
       "    </tr>\n",
       "    <tr>\n",
       "      <th>5</th>\n",
       "      <td>Decision Tree with Early Stopping</td>\n",
       "      <td>{'ccp_alpha': 0.0, 'class_weight': None, 'crit...</td>\n",
       "      <td>45.90%</td>\n",
       "      <td>45.36%</td>\n",
       "      <td>45.90%</td>\n",
       "    </tr>\n",
       "  </tbody>\n",
       "</table>\n",
       "</div>"
      ],
      "text/plain": [
       "                                     Model Name  \\\n",
       "0         Decision Tree with Default Parameters   \n",
       "1           Decision Tree with Tuned Parameters   \n",
       "2          Decision Tree with Optuna Parameters   \n",
       "3   Pruned Decision Tree with Optuna Parameters   \n",
       "4  Pruned Decision Tree with Alpha Optimization   \n",
       "5             Decision Tree with Early Stopping   \n",
       "\n",
       "                                     Hyperparameters Test Accuracy  \\\n",
       "0                                                 {}        43.59%   \n",
       "1  {'ccp_alpha': 0.0, 'class_weight': None, 'crit...        43.50%   \n",
       "2  {'criterion': 'entropy', 'splitter': 'best', '...        43.93%   \n",
       "3  {'ccp_alpha': 0.01, 'class_weight': None, 'cri...        41.45%   \n",
       "4  {'ccp_alpha': 0.0, 'class_weight': None, 'crit...        46.24%   \n",
       "5  {'ccp_alpha': 0.0, 'class_weight': None, 'crit...        45.90%   \n",
       "\n",
       "  Test Precision Test Recall  \n",
       "0         44.33%      43.59%  \n",
       "1         43.34%      43.50%  \n",
       "2         44.00%      43.93%  \n",
       "3         35.69%      41.45%  \n",
       "4         45.76%      46.24%  \n",
       "5         45.36%      45.90%  "
      ]
     },
     "execution_count": 63,
     "metadata": {},
     "output_type": "execute_result"
    }
   ],
   "source": [
    "model_records"
   ]
  },
  {
   "cell_type": "code",
   "execution_count": 38,
   "metadata": {},
   "outputs": [
    {
     "name": "stdout",
     "output_type": "stream",
     "text": [
      "\n",
      "Feature Pruning Metrics:\n",
      "{'accuracy': 0.4547008547008547, 'precision': 0.4505461671572581, 'recall': 0.4547008547008547}\n"
     ]
    }
   ],
   "source": [
    "# Calculate feature importance\n",
    "feature_importances = best_model_dtree_optuna.feature_importances_\n",
    "important_features = np.where(feature_importances > np.mean(feature_importances))[0]\n",
    "\n",
    "# Train model with only important features\n",
    "# Use .iloc for positional indexing\n",
    "X_train_imp = X_train.iloc[:, important_features]\n",
    "X_test_imp = X_test.iloc[:, important_features]\n",
    "\n",
    "feature_pruned_model = DecisionTreeClassifier(**best_params, random_state=123)\n",
    "feature_pruned_model.fit(X_train_imp, y_train)\n",
    "\n",
    "# Evaluate feature-pruned model\n",
    "y_pred_imp = feature_pruned_model.predict(X_test_imp)\n",
    "\n",
    "feature_pruned_metrics = {\n",
    "    \"accuracy\": accuracy_score(y_test, y_pred_imp),\n",
    "    \"precision\": precision_score(y_test, y_pred_imp, average='weighted'),\n",
    "    \"recall\": recall_score(y_test, y_pred_imp, average='weighted')\n",
    "}\n",
    "\n",
    "print(\"\\nFeature Pruning Metrics:\")\n",
    "print(feature_pruned_metrics)"
   ]
  },
  {
   "cell_type": "code",
   "execution_count": 64,
   "metadata": {},
   "outputs": [
    {
     "name": "stdout",
     "output_type": "stream",
     "text": [
      "Model 'Decision Tree with Feature Pruning' recorded successfully!\n"
     ]
    }
   ],
   "source": [
    "# Record the performance of the feature-pruned model\n",
    "record_trained_model(\n",
    "    \"Decision Tree with Feature Pruning\",\n",
    "    feature_pruned_model.get_params(),\n",
    "    f\"Important Features={len(important_features)}\",\n",
    "    {\n",
    "        \"accuracy\": feature_pruned_metrics[\"accuracy\"],\n",
    "        \"precision\": feature_pruned_metrics[\"precision\"],\n",
    "        \"recall\": feature_pruned_metrics[\"recall\"]\n",
    "    }\n",
    ")"
   ]
  },
  {
   "cell_type": "code",
   "execution_count": 65,
   "metadata": {},
   "outputs": [
    {
     "data": {
      "text/html": [
       "<div>\n",
       "<style scoped>\n",
       "    .dataframe tbody tr th:only-of-type {\n",
       "        vertical-align: middle;\n",
       "    }\n",
       "\n",
       "    .dataframe tbody tr th {\n",
       "        vertical-align: top;\n",
       "    }\n",
       "\n",
       "    .dataframe thead th {\n",
       "        text-align: right;\n",
       "    }\n",
       "</style>\n",
       "<table border=\"1\" class=\"dataframe\">\n",
       "  <thead>\n",
       "    <tr style=\"text-align: right;\">\n",
       "      <th></th>\n",
       "      <th>Model Name</th>\n",
       "      <th>Hyperparameters</th>\n",
       "      <th>Test Accuracy</th>\n",
       "      <th>Test Precision</th>\n",
       "      <th>Test Recall</th>\n",
       "    </tr>\n",
       "  </thead>\n",
       "  <tbody>\n",
       "    <tr>\n",
       "      <th>0</th>\n",
       "      <td>Decision Tree with Default Parameters</td>\n",
       "      <td>{}</td>\n",
       "      <td>43.59%</td>\n",
       "      <td>44.33%</td>\n",
       "      <td>43.59%</td>\n",
       "    </tr>\n",
       "    <tr>\n",
       "      <th>1</th>\n",
       "      <td>Decision Tree with Tuned Parameters</td>\n",
       "      <td>{'ccp_alpha': 0.0, 'class_weight': None, 'crit...</td>\n",
       "      <td>43.50%</td>\n",
       "      <td>43.34%</td>\n",
       "      <td>43.50%</td>\n",
       "    </tr>\n",
       "    <tr>\n",
       "      <th>2</th>\n",
       "      <td>Decision Tree with Optuna Parameters</td>\n",
       "      <td>{'criterion': 'entropy', 'splitter': 'best', '...</td>\n",
       "      <td>43.93%</td>\n",
       "      <td>44.00%</td>\n",
       "      <td>43.93%</td>\n",
       "    </tr>\n",
       "    <tr>\n",
       "      <th>3</th>\n",
       "      <td>Pruned Decision Tree with Optuna Parameters</td>\n",
       "      <td>{'ccp_alpha': 0.01, 'class_weight': None, 'cri...</td>\n",
       "      <td>41.45%</td>\n",
       "      <td>35.69%</td>\n",
       "      <td>41.45%</td>\n",
       "    </tr>\n",
       "    <tr>\n",
       "      <th>4</th>\n",
       "      <td>Pruned Decision Tree with Alpha Optimization</td>\n",
       "      <td>{'ccp_alpha': 0.0, 'class_weight': None, 'crit...</td>\n",
       "      <td>46.24%</td>\n",
       "      <td>45.76%</td>\n",
       "      <td>46.24%</td>\n",
       "    </tr>\n",
       "    <tr>\n",
       "      <th>5</th>\n",
       "      <td>Decision Tree with Early Stopping</td>\n",
       "      <td>{'ccp_alpha': 0.0, 'class_weight': None, 'crit...</td>\n",
       "      <td>45.90%</td>\n",
       "      <td>45.36%</td>\n",
       "      <td>45.90%</td>\n",
       "    </tr>\n",
       "    <tr>\n",
       "      <th>6</th>\n",
       "      <td>Decision Tree with Feature Pruning</td>\n",
       "      <td>{'ccp_alpha': 0.0, 'class_weight': None, 'crit...</td>\n",
       "      <td>45.47%</td>\n",
       "      <td>45.05%</td>\n",
       "      <td>45.47%</td>\n",
       "    </tr>\n",
       "  </tbody>\n",
       "</table>\n",
       "</div>"
      ],
      "text/plain": [
       "                                     Model Name  \\\n",
       "0         Decision Tree with Default Parameters   \n",
       "1           Decision Tree with Tuned Parameters   \n",
       "2          Decision Tree with Optuna Parameters   \n",
       "3   Pruned Decision Tree with Optuna Parameters   \n",
       "4  Pruned Decision Tree with Alpha Optimization   \n",
       "5             Decision Tree with Early Stopping   \n",
       "6            Decision Tree with Feature Pruning   \n",
       "\n",
       "                                     Hyperparameters Test Accuracy  \\\n",
       "0                                                 {}        43.59%   \n",
       "1  {'ccp_alpha': 0.0, 'class_weight': None, 'crit...        43.50%   \n",
       "2  {'criterion': 'entropy', 'splitter': 'best', '...        43.93%   \n",
       "3  {'ccp_alpha': 0.01, 'class_weight': None, 'cri...        41.45%   \n",
       "4  {'ccp_alpha': 0.0, 'class_weight': None, 'crit...        46.24%   \n",
       "5  {'ccp_alpha': 0.0, 'class_weight': None, 'crit...        45.90%   \n",
       "6  {'ccp_alpha': 0.0, 'class_weight': None, 'crit...        45.47%   \n",
       "\n",
       "  Test Precision Test Recall  \n",
       "0         44.33%      43.59%  \n",
       "1         43.34%      43.50%  \n",
       "2         44.00%      43.93%  \n",
       "3         35.69%      41.45%  \n",
       "4         45.76%      46.24%  \n",
       "5         45.36%      45.90%  \n",
       "6         45.05%      45.47%  "
      ]
     },
     "execution_count": 65,
     "metadata": {},
     "output_type": "execute_result"
    }
   ],
   "source": [
    "model_records"
   ]
  },
  {
   "cell_type": "code",
   "execution_count": 40,
   "metadata": {},
   "outputs": [
    {
     "name": "stdout",
     "output_type": "stream",
     "text": [
      "\n",
      "Bagging Metrics:\n",
      "{'accuracy': 0.5316239316239316, 'precision': 0.5189225937975445, 'recall': 0.5316239316239316}\n"
     ]
    }
   ],
   "source": [
    "from sklearn.ensemble import BaggingClassifier\n",
    "\n",
    "bagging_model = BaggingClassifier(\n",
    "    estimator=DecisionTreeClassifier(**best_params, random_state=123),\n",
    "    n_estimators=50, random_state=123\n",
    ")\n",
    "bagging_model.fit(X_train, y_train)\n",
    "\n",
    "bagging_metrics = {\n",
    "    \"accuracy\": accuracy_score(y_test, bagging_model.predict(X_test)),\n",
    "    \"precision\": precision_score(y_test, bagging_model.predict(X_test), average='weighted'),\n",
    "    \"recall\": recall_score(y_test, bagging_model.predict(X_test), average='weighted')\n",
    "}\n",
    "\n",
    "print(\"\\nBagging Metrics:\")\n",
    "print(bagging_metrics)\n"
   ]
  },
  {
   "cell_type": "code",
   "execution_count": 66,
   "metadata": {},
   "outputs": [
    {
     "name": "stdout",
     "output_type": "stream",
     "text": [
      "Model 'Bagging Classifier with Decision Tree' recorded successfully!\n"
     ]
    }
   ],
   "source": [
    "# Record the performance of the Bagging model\n",
    "record_trained_model(\n",
    "    \"Bagging Classifier with Decision Tree\",\n",
    "    bagging_model.get_params(),\n",
    "    f\"n_estimators=50\",\n",
    "    {\n",
    "        \"accuracy\": bagging_metrics[\"accuracy\"],\n",
    "        \"precision\": bagging_metrics[\"precision\"],\n",
    "        \"recall\": bagging_metrics[\"recall\"]\n",
    "    }\n",
    ")"
   ]
  },
  {
   "cell_type": "code",
   "execution_count": 67,
   "metadata": {},
   "outputs": [
    {
     "data": {
      "text/html": [
       "<div>\n",
       "<style scoped>\n",
       "    .dataframe tbody tr th:only-of-type {\n",
       "        vertical-align: middle;\n",
       "    }\n",
       "\n",
       "    .dataframe tbody tr th {\n",
       "        vertical-align: top;\n",
       "    }\n",
       "\n",
       "    .dataframe thead th {\n",
       "        text-align: right;\n",
       "    }\n",
       "</style>\n",
       "<table border=\"1\" class=\"dataframe\">\n",
       "  <thead>\n",
       "    <tr style=\"text-align: right;\">\n",
       "      <th></th>\n",
       "      <th>Model Name</th>\n",
       "      <th>Hyperparameters</th>\n",
       "      <th>Test Accuracy</th>\n",
       "      <th>Test Precision</th>\n",
       "      <th>Test Recall</th>\n",
       "    </tr>\n",
       "  </thead>\n",
       "  <tbody>\n",
       "    <tr>\n",
       "      <th>0</th>\n",
       "      <td>Decision Tree with Default Parameters</td>\n",
       "      <td>{}</td>\n",
       "      <td>43.59%</td>\n",
       "      <td>44.33%</td>\n",
       "      <td>43.59%</td>\n",
       "    </tr>\n",
       "    <tr>\n",
       "      <th>1</th>\n",
       "      <td>Decision Tree with Tuned Parameters</td>\n",
       "      <td>{'ccp_alpha': 0.0, 'class_weight': None, 'crit...</td>\n",
       "      <td>43.50%</td>\n",
       "      <td>43.34%</td>\n",
       "      <td>43.50%</td>\n",
       "    </tr>\n",
       "    <tr>\n",
       "      <th>2</th>\n",
       "      <td>Decision Tree with Optuna Parameters</td>\n",
       "      <td>{'criterion': 'entropy', 'splitter': 'best', '...</td>\n",
       "      <td>43.93%</td>\n",
       "      <td>44.00%</td>\n",
       "      <td>43.93%</td>\n",
       "    </tr>\n",
       "    <tr>\n",
       "      <th>3</th>\n",
       "      <td>Pruned Decision Tree with Optuna Parameters</td>\n",
       "      <td>{'ccp_alpha': 0.01, 'class_weight': None, 'cri...</td>\n",
       "      <td>41.45%</td>\n",
       "      <td>35.69%</td>\n",
       "      <td>41.45%</td>\n",
       "    </tr>\n",
       "    <tr>\n",
       "      <th>4</th>\n",
       "      <td>Pruned Decision Tree with Alpha Optimization</td>\n",
       "      <td>{'ccp_alpha': 0.0, 'class_weight': None, 'crit...</td>\n",
       "      <td>46.24%</td>\n",
       "      <td>45.76%</td>\n",
       "      <td>46.24%</td>\n",
       "    </tr>\n",
       "    <tr>\n",
       "      <th>5</th>\n",
       "      <td>Decision Tree with Early Stopping</td>\n",
       "      <td>{'ccp_alpha': 0.0, 'class_weight': None, 'crit...</td>\n",
       "      <td>45.90%</td>\n",
       "      <td>45.36%</td>\n",
       "      <td>45.90%</td>\n",
       "    </tr>\n",
       "    <tr>\n",
       "      <th>6</th>\n",
       "      <td>Decision Tree with Feature Pruning</td>\n",
       "      <td>{'ccp_alpha': 0.0, 'class_weight': None, 'crit...</td>\n",
       "      <td>45.47%</td>\n",
       "      <td>45.05%</td>\n",
       "      <td>45.47%</td>\n",
       "    </tr>\n",
       "    <tr>\n",
       "      <th>7</th>\n",
       "      <td>Bagging Classifier with Decision Tree</td>\n",
       "      <td>{'base_estimator': 'deprecated', 'bootstrap': ...</td>\n",
       "      <td>55.56%</td>\n",
       "      <td>54.35%</td>\n",
       "      <td>55.56%</td>\n",
       "    </tr>\n",
       "  </tbody>\n",
       "</table>\n",
       "</div>"
      ],
      "text/plain": [
       "                                     Model Name  \\\n",
       "0         Decision Tree with Default Parameters   \n",
       "1           Decision Tree with Tuned Parameters   \n",
       "2          Decision Tree with Optuna Parameters   \n",
       "3   Pruned Decision Tree with Optuna Parameters   \n",
       "4  Pruned Decision Tree with Alpha Optimization   \n",
       "5             Decision Tree with Early Stopping   \n",
       "6            Decision Tree with Feature Pruning   \n",
       "7         Bagging Classifier with Decision Tree   \n",
       "\n",
       "                                     Hyperparameters Test Accuracy  \\\n",
       "0                                                 {}        43.59%   \n",
       "1  {'ccp_alpha': 0.0, 'class_weight': None, 'crit...        43.50%   \n",
       "2  {'criterion': 'entropy', 'splitter': 'best', '...        43.93%   \n",
       "3  {'ccp_alpha': 0.01, 'class_weight': None, 'cri...        41.45%   \n",
       "4  {'ccp_alpha': 0.0, 'class_weight': None, 'crit...        46.24%   \n",
       "5  {'ccp_alpha': 0.0, 'class_weight': None, 'crit...        45.90%   \n",
       "6  {'ccp_alpha': 0.0, 'class_weight': None, 'crit...        45.47%   \n",
       "7  {'base_estimator': 'deprecated', 'bootstrap': ...        55.56%   \n",
       "\n",
       "  Test Precision Test Recall  \n",
       "0         44.33%      43.59%  \n",
       "1         43.34%      43.50%  \n",
       "2         44.00%      43.93%  \n",
       "3         35.69%      41.45%  \n",
       "4         45.76%      46.24%  \n",
       "5         45.36%      45.90%  \n",
       "6         45.05%      45.47%  \n",
       "7         54.35%      55.56%  "
      ]
     },
     "execution_count": 67,
     "metadata": {},
     "output_type": "execute_result"
    }
   ],
   "source": [
    "model_records"
   ]
  },
  {
   "cell_type": "code",
   "execution_count": 49,
   "metadata": {},
   "outputs": [],
   "source": [
    "# Optimize Decision Tree and Bagging Parameters using Optuna\n",
    "def objective(trial):\n",
    "    # # Decision Tree Parameters\n",
    "    criterion = trial.suggest_categorical(\"criterion\", ['gini', 'entropy'])\n",
    "    splitter = trial.suggest_categorical(\"splitter\", ['best', 'random'])\n",
    "    max_depth = trial.suggest_int(\"max_depth\", 1, 20)\n",
    "    min_samples_split = trial.suggest_int(\"min_samples_split\", 2, 10)\n",
    "    min_samples_leaf = trial.suggest_int(\"min_samples_leaf\", 1, 10)\n",
    "\n",
    "    # Bagging Parameters\n",
    "    n_estimators = trial.suggest_int(\"n_estimators\", 10, 100)\n",
    "    max_samples = trial.suggest_float(\"max_samples\", 0.5, 1.0)\n",
    "    max_features = trial.suggest_float(\"max_features\", 0.5, 1.0)\n",
    "    bootstrap = trial.suggest_categorical(\"bootstrap\", [True, False])\n",
    "\n",
    "    # Create the Decision Tree model\n",
    "    base_model = DecisionTreeClassifier(\n",
    "        criterion=criterion,\n",
    "        splitter=splitter,\n",
    "        max_depth=max_depth,\n",
    "        min_samples_split=min_samples_split,\n",
    "        min_samples_leaf=min_samples_leaf,\n",
    "        random_state=123\n",
    "    )\n",
    "\n",
    "    # Create the Bagging model\n",
    "    bagging_model = BaggingClassifier(\n",
    "        estimator=base_model,\n",
    "        n_estimators=n_estimators,\n",
    "        max_samples=max_samples,\n",
    "        max_features=max_features,\n",
    "        bootstrap=bootstrap,\n",
    "        random_state=123\n",
    "    )\n",
    "\n",
    "    # Evaluate the Bagging model using cross-validation\n",
    "    cv_scores = cross_val_score(bagging_model, X_train, y_train, cv=5, scoring=\"accuracy\")\n",
    "    mean_cv_score = np.mean(cv_scores)\n",
    "\n",
    "    return mean_cv_score"
   ]
  },
  {
   "cell_type": "code",
   "execution_count": 50,
   "metadata": {},
   "outputs": [
    {
     "name": "stderr",
     "output_type": "stream",
     "text": [
      "[I 2024-12-29 20:26:57,431] A new study created in memory with name: no-name-c33e4b14-84fb-4388-9b31-31732876b728\n",
      "[I 2024-12-29 20:27:00,204] Trial 0 finished with value: 0.4837854171493035 and parameters: {'criterion': 'gini', 'splitter': 'random', 'max_depth': 9, 'min_samples_split': 6, 'min_samples_leaf': 6, 'n_estimators': 63, 'max_samples': 0.6102814798953524, 'max_features': 0.5065311242652626, 'bootstrap': True}. Best is trial 0 with value: 0.4837854171493035.\n",
      "[I 2024-12-29 20:27:01,055] Trial 1 finished with value: 0.3462164630358947 and parameters: {'criterion': 'entropy', 'splitter': 'random', 'max_depth': 3, 'min_samples_split': 7, 'min_samples_leaf': 3, 'n_estimators': 28, 'max_samples': 0.8488884749089203, 'max_features': 0.6795515552477596, 'bootstrap': True}. Best is trial 0 with value: 0.4837854171493035.\n",
      "[I 2024-12-29 20:27:06,485] Trial 2 finished with value: 0.504852724421927 and parameters: {'criterion': 'gini', 'splitter': 'random', 'max_depth': 19, 'min_samples_split': 2, 'min_samples_leaf': 9, 'n_estimators': 70, 'max_samples': 0.8100817186749159, 'max_features': 0.7498774530528731, 'bootstrap': True}. Best is trial 2 with value: 0.504852724421927.\n",
      "[I 2024-12-29 20:27:17,089] Trial 3 finished with value: 0.5262881786713134 and parameters: {'criterion': 'entropy', 'splitter': 'random', 'max_depth': 16, 'min_samples_split': 5, 'min_samples_leaf': 5, 'n_estimators': 83, 'max_samples': 0.5757276617760865, 'max_features': 0.8856537652973075, 'bootstrap': True}. Best is trial 3 with value: 0.5262881786713134.\n",
      "[I 2024-12-29 20:27:22,663] Trial 4 finished with value: 0.5085192534321774 and parameters: {'criterion': 'entropy', 'splitter': 'random', 'max_depth': 13, 'min_samples_split': 2, 'min_samples_leaf': 8, 'n_estimators': 56, 'max_samples': 0.738356662613363, 'max_features': 0.593946343100219, 'bootstrap': False}. Best is trial 3 with value: 0.5262881786713134.\n",
      "[I 2024-12-29 20:27:30,271] Trial 5 finished with value: 0.4967932769949268 and parameters: {'criterion': 'entropy', 'splitter': 'random', 'max_depth': 8, 'min_samples_split': 7, 'min_samples_leaf': 9, 'n_estimators': 95, 'max_samples': 0.7717066817685914, 'max_features': 0.9326555464825665, 'bootstrap': True}. Best is trial 3 with value: 0.5262881786713134.\n",
      "[I 2024-12-29 20:27:38,927] Trial 6 finished with value: 0.4284653324066706 and parameters: {'criterion': 'gini', 'splitter': 'best', 'max_depth': 4, 'min_samples_split': 5, 'min_samples_leaf': 8, 'n_estimators': 12, 'max_samples': 0.6871227215486471, 'max_features': 0.5044468484916715, 'bootstrap': False}. Best is trial 3 with value: 0.5262881786713134.\n",
      "[I 2024-12-29 20:29:34,300] Trial 7 finished with value: 0.5134664907350517 and parameters: {'criterion': 'gini', 'splitter': 'best', 'max_depth': 10, 'min_samples_split': 6, 'min_samples_leaf': 10, 'n_estimators': 50, 'max_samples': 0.8886372680071057, 'max_features': 0.610088807339938, 'bootstrap': False}. Best is trial 3 with value: 0.5262881786713134.\n",
      "[I 2024-12-29 20:31:27,129] Trial 8 finished with value: 0.4684009696383665 and parameters: {'criterion': 'entropy', 'splitter': 'best', 'max_depth': 5, 'min_samples_split': 4, 'min_samples_leaf': 4, 'n_estimators': 40, 'max_samples': 0.9525419392853429, 'max_features': 0.7538659129473548, 'bootstrap': True}. Best is trial 3 with value: 0.5262881786713134.\n",
      "[I 2024-12-29 20:38:45,632] Trial 9 finished with value: 0.5332468783889499 and parameters: {'criterion': 'entropy', 'splitter': 'best', 'max_depth': 11, 'min_samples_split': 5, 'min_samples_leaf': 8, 'n_estimators': 64, 'max_samples': 0.8435364266523997, 'max_features': 0.8911728421009528, 'bootstrap': False}. Best is trial 9 with value: 0.5332468783889499.\n",
      "[I 2024-12-29 20:52:10,065] Trial 10 finished with value: 0.523904372437828 and parameters: {'criterion': 'entropy', 'splitter': 'best', 'max_depth': 14, 'min_samples_split': 10, 'min_samples_leaf': 1, 'n_estimators': 79, 'max_samples': 0.9423742733088594, 'max_features': 0.9931754820895493, 'bootstrap': False}. Best is trial 9 with value: 0.5332468783889499.\n",
      "[I 2024-12-29 20:58:52,078] Trial 11 finished with value: 0.532516627887847 and parameters: {'criterion': 'entropy', 'splitter': 'best', 'max_depth': 18, 'min_samples_split': 4, 'min_samples_leaf': 6, 'n_estimators': 90, 'max_samples': 0.5182166720651983, 'max_features': 0.8723834098542725, 'bootstrap': False}. Best is trial 9 with value: 0.5332468783889499.\n",
      "[I 2024-12-29 21:05:29,183] Trial 12 finished with value: 0.5387435662412748 and parameters: {'criterion': 'entropy', 'splitter': 'best', 'max_depth': 20, 'min_samples_split': 4, 'min_samples_leaf': 6, 'n_estimators': 99, 'max_samples': 0.503114608961871, 'max_features': 0.8372167500763045, 'bootstrap': False}. Best is trial 12 with value: 0.5387435662412748.\n",
      "[I 2024-12-29 21:11:31,311] Trial 13 finished with value: 0.543322992314743 and parameters: {'criterion': 'entropy', 'splitter': 'best', 'max_depth': 20, 'min_samples_split': 3, 'min_samples_leaf': 7, 'n_estimators': 73, 'max_samples': 0.7007480577067862, 'max_features': 0.8119546801497252, 'bootstrap': False}. Best is trial 13 with value: 0.543322992314743.\n",
      "[I 2024-12-29 21:21:23,612] Trial 14 finished with value: 0.5424072413989921 and parameters: {'criterion': 'entropy', 'splitter': 'best', 'max_depth': 20, 'min_samples_split': 3, 'min_samples_leaf': 7, 'n_estimators': 100, 'max_samples': 0.6579750624113702, 'max_features': 0.7971140409056384, 'bootstrap': False}. Best is trial 13 with value: 0.543322992314743.\n",
      "[I 2024-12-29 21:29:07,784] Trial 15 finished with value: 0.5438731143589073 and parameters: {'criterion': 'entropy', 'splitter': 'best', 'max_depth': 16, 'min_samples_split': 3, 'min_samples_leaf': 7, 'n_estimators': 74, 'max_samples': 0.6756393844171332, 'max_features': 0.7859584317953463, 'bootstrap': False}. Best is trial 15 with value: 0.5438731143589073.\n",
      "[I 2024-12-29 21:35:28,852] Trial 16 finished with value: 0.5528511665541913 and parameters: {'criterion': 'entropy', 'splitter': 'best', 'max_depth': 16, 'min_samples_split': 9, 'min_samples_leaf': 4, 'n_estimators': 74, 'max_samples': 0.7080360245310086, 'max_features': 0.6986074415599616, 'bootstrap': False}. Best is trial 16 with value: 0.5528511665541913.\n",
      "[I 2024-12-29 21:39:34,884] Trial 17 finished with value: 0.5374618507065803 and parameters: {'criterion': 'entropy', 'splitter': 'best', 'max_depth': 17, 'min_samples_split': 10, 'min_samples_leaf': 2, 'n_estimators': 48, 'max_samples': 0.6284300850516111, 'max_features': 0.6908571605829531, 'bootstrap': False}. Best is trial 16 with value: 0.5528511665541913.\n",
      "[I 2024-12-29 21:43:47,861] Trial 18 finished with value: 0.5370970612033856 and parameters: {'criterion': 'gini', 'splitter': 'best', 'max_depth': 15, 'min_samples_split': 9, 'min_samples_leaf': 4, 'n_estimators': 86, 'max_samples': 0.7442775298475577, 'max_features': 0.6882687602644069, 'bootstrap': False}. Best is trial 16 with value: 0.5528511665541913.\n",
      "[I 2024-12-29 21:48:05,403] Trial 19 finished with value: 0.5337980076751846 and parameters: {'criterion': 'entropy', 'splitter': 'best', 'max_depth': 12, 'min_samples_split': 8, 'min_samples_leaf': 4, 'n_estimators': 76, 'max_samples': 0.5711635167351007, 'max_features': 0.6085764708031536, 'bootstrap': False}. Best is trial 16 with value: 0.5528511665541913.\n"
     ]
    }
   ],
   "source": [
    "# Run Optuna optimization\n",
    "study = optuna.create_study(direction=\"maximize\")\n",
    "study.optimize(objective, n_trials=20)"
   ]
  },
  {
   "cell_type": "code",
   "execution_count": 51,
   "metadata": {},
   "outputs": [
    {
     "name": "stdout",
     "output_type": "stream",
     "text": [
      "\n",
      "Best Hyperparameters for BaggingClassifier: {'criterion': 'entropy', 'splitter': 'best', 'max_depth': 16, 'min_samples_split': 9, 'min_samples_leaf': 4, 'n_estimators': 74, 'max_samples': 0.7080360245310086, 'max_features': 0.6986074415599616, 'bootstrap': False}\n"
     ]
    }
   ],
   "source": [
    "# Extract the best parameters\n",
    "best_params = study.best_params\n",
    "print(\"\\nBest Hyperparameters for BaggingClassifier:\", best_params)"
   ]
  },
  {
   "cell_type": "code",
   "execution_count": 52,
   "metadata": {},
   "outputs": [],
   "source": [
    "# Train the best Bagging model\n",
    "best_base_model = DecisionTreeClassifier(\n",
    "    criterion=best_params['criterion'],\n",
    "    splitter=best_params['splitter'],\n",
    "    max_depth=best_params['max_depth'],\n",
    "    min_samples_split=best_params['min_samples_split'],\n",
    "    min_samples_leaf=best_params['min_samples_leaf'],\n",
    "    random_state=123\n",
    ")\n"
   ]
  },
  {
   "cell_type": "code",
   "execution_count": 53,
   "metadata": {},
   "outputs": [
    {
     "data": {
      "text/html": [
       "<style>#sk-container-id-4 {color: black;}#sk-container-id-4 pre{padding: 0;}#sk-container-id-4 div.sk-toggleable {background-color: white;}#sk-container-id-4 label.sk-toggleable__label {cursor: pointer;display: block;width: 100%;margin-bottom: 0;padding: 0.3em;box-sizing: border-box;text-align: center;}#sk-container-id-4 label.sk-toggleable__label-arrow:before {content: \"▸\";float: left;margin-right: 0.25em;color: #696969;}#sk-container-id-4 label.sk-toggleable__label-arrow:hover:before {color: black;}#sk-container-id-4 div.sk-estimator:hover label.sk-toggleable__label-arrow:before {color: black;}#sk-container-id-4 div.sk-toggleable__content {max-height: 0;max-width: 0;overflow: hidden;text-align: left;background-color: #f0f8ff;}#sk-container-id-4 div.sk-toggleable__content pre {margin: 0.2em;color: black;border-radius: 0.25em;background-color: #f0f8ff;}#sk-container-id-4 input.sk-toggleable__control:checked~div.sk-toggleable__content {max-height: 200px;max-width: 100%;overflow: auto;}#sk-container-id-4 input.sk-toggleable__control:checked~label.sk-toggleable__label-arrow:before {content: \"▾\";}#sk-container-id-4 div.sk-estimator input.sk-toggleable__control:checked~label.sk-toggleable__label {background-color: #d4ebff;}#sk-container-id-4 div.sk-label input.sk-toggleable__control:checked~label.sk-toggleable__label {background-color: #d4ebff;}#sk-container-id-4 input.sk-hidden--visually {border: 0;clip: rect(1px 1px 1px 1px);clip: rect(1px, 1px, 1px, 1px);height: 1px;margin: -1px;overflow: hidden;padding: 0;position: absolute;width: 1px;}#sk-container-id-4 div.sk-estimator {font-family: monospace;background-color: #f0f8ff;border: 1px dotted black;border-radius: 0.25em;box-sizing: border-box;margin-bottom: 0.5em;}#sk-container-id-4 div.sk-estimator:hover {background-color: #d4ebff;}#sk-container-id-4 div.sk-parallel-item::after {content: \"\";width: 100%;border-bottom: 1px solid gray;flex-grow: 1;}#sk-container-id-4 div.sk-label:hover label.sk-toggleable__label {background-color: #d4ebff;}#sk-container-id-4 div.sk-serial::before {content: \"\";position: absolute;border-left: 1px solid gray;box-sizing: border-box;top: 0;bottom: 0;left: 50%;z-index: 0;}#sk-container-id-4 div.sk-serial {display: flex;flex-direction: column;align-items: center;background-color: white;padding-right: 0.2em;padding-left: 0.2em;position: relative;}#sk-container-id-4 div.sk-item {position: relative;z-index: 1;}#sk-container-id-4 div.sk-parallel {display: flex;align-items: stretch;justify-content: center;background-color: white;position: relative;}#sk-container-id-4 div.sk-item::before, #sk-container-id-4 div.sk-parallel-item::before {content: \"\";position: absolute;border-left: 1px solid gray;box-sizing: border-box;top: 0;bottom: 0;left: 50%;z-index: -1;}#sk-container-id-4 div.sk-parallel-item {display: flex;flex-direction: column;z-index: 1;position: relative;background-color: white;}#sk-container-id-4 div.sk-parallel-item:first-child::after {align-self: flex-end;width: 50%;}#sk-container-id-4 div.sk-parallel-item:last-child::after {align-self: flex-start;width: 50%;}#sk-container-id-4 div.sk-parallel-item:only-child::after {width: 0;}#sk-container-id-4 div.sk-dashed-wrapped {border: 1px dashed gray;margin: 0 0.4em 0.5em 0.4em;box-sizing: border-box;padding-bottom: 0.4em;background-color: white;}#sk-container-id-4 div.sk-label label {font-family: monospace;font-weight: bold;display: inline-block;line-height: 1.2em;}#sk-container-id-4 div.sk-label-container {text-align: center;}#sk-container-id-4 div.sk-container {/* jupyter's `normalize.less` sets `[hidden] { display: none; }` but bootstrap.min.css set `[hidden] { display: none !important; }` so we also need the `!important` here to be able to override the default hidden behavior on the sphinx rendered scikit-learn.org. See: https://github.com/scikit-learn/scikit-learn/issues/21755 */display: inline-block !important;position: relative;}#sk-container-id-4 div.sk-text-repr-fallback {display: none;}</style><div id=\"sk-container-id-4\" class=\"sk-top-container\"><div class=\"sk-text-repr-fallback\"><pre>BaggingClassifier(bootstrap=False,\n",
       "                  estimator=DecisionTreeClassifier(criterion=&#x27;entropy&#x27;,\n",
       "                                                   max_depth=16,\n",
       "                                                   min_samples_leaf=4,\n",
       "                                                   min_samples_split=9,\n",
       "                                                   random_state=123),\n",
       "                  max_features=0.6986074415599616,\n",
       "                  max_samples=0.7080360245310086, n_estimators=74,\n",
       "                  random_state=123)</pre><b>In a Jupyter environment, please rerun this cell to show the HTML representation or trust the notebook. <br />On GitHub, the HTML representation is unable to render, please try loading this page with nbviewer.org.</b></div><div class=\"sk-container\" hidden><div class=\"sk-item sk-dashed-wrapped\"><div class=\"sk-label-container\"><div class=\"sk-label sk-toggleable\"><input class=\"sk-toggleable__control sk-hidden--visually\" id=\"sk-estimator-id-4\" type=\"checkbox\" ><label for=\"sk-estimator-id-4\" class=\"sk-toggleable__label sk-toggleable__label-arrow\">BaggingClassifier</label><div class=\"sk-toggleable__content\"><pre>BaggingClassifier(bootstrap=False,\n",
       "                  estimator=DecisionTreeClassifier(criterion=&#x27;entropy&#x27;,\n",
       "                                                   max_depth=16,\n",
       "                                                   min_samples_leaf=4,\n",
       "                                                   min_samples_split=9,\n",
       "                                                   random_state=123),\n",
       "                  max_features=0.6986074415599616,\n",
       "                  max_samples=0.7080360245310086, n_estimators=74,\n",
       "                  random_state=123)</pre></div></div></div><div class=\"sk-parallel\"><div class=\"sk-parallel-item\"><div class=\"sk-item\"><div class=\"sk-label-container\"><div class=\"sk-label sk-toggleable\"><input class=\"sk-toggleable__control sk-hidden--visually\" id=\"sk-estimator-id-5\" type=\"checkbox\" ><label for=\"sk-estimator-id-5\" class=\"sk-toggleable__label sk-toggleable__label-arrow\">estimator: DecisionTreeClassifier</label><div class=\"sk-toggleable__content\"><pre>DecisionTreeClassifier(criterion=&#x27;entropy&#x27;, max_depth=16, min_samples_leaf=4,\n",
       "                       min_samples_split=9, random_state=123)</pre></div></div></div><div class=\"sk-serial\"><div class=\"sk-item\"><div class=\"sk-estimator sk-toggleable\"><input class=\"sk-toggleable__control sk-hidden--visually\" id=\"sk-estimator-id-6\" type=\"checkbox\" ><label for=\"sk-estimator-id-6\" class=\"sk-toggleable__label sk-toggleable__label-arrow\">DecisionTreeClassifier</label><div class=\"sk-toggleable__content\"><pre>DecisionTreeClassifier(criterion=&#x27;entropy&#x27;, max_depth=16, min_samples_leaf=4,\n",
       "                       min_samples_split=9, random_state=123)</pre></div></div></div></div></div></div></div></div></div></div>"
      ],
      "text/plain": [
       "BaggingClassifier(bootstrap=False,\n",
       "                  estimator=DecisionTreeClassifier(criterion='entropy',\n",
       "                                                   max_depth=16,\n",
       "                                                   min_samples_leaf=4,\n",
       "                                                   min_samples_split=9,\n",
       "                                                   random_state=123),\n",
       "                  max_features=0.6986074415599616,\n",
       "                  max_samples=0.7080360245310086, n_estimators=74,\n",
       "                  random_state=123)"
      ]
     },
     "execution_count": 53,
     "metadata": {},
     "output_type": "execute_result"
    }
   ],
   "source": [
    "best_bagging_model = BaggingClassifier(\n",
    "    estimator=best_base_model,\n",
    "    n_estimators=best_params['n_estimators'],\n",
    "    max_samples=best_params['max_samples'],\n",
    "    max_features=best_params['max_features'],\n",
    "    bootstrap=best_params['bootstrap'],\n",
    "    random_state=123\n",
    ")\n",
    "best_bagging_model.fit(X_train, y_train)"
   ]
  },
  {
   "cell_type": "code",
   "execution_count": 54,
   "metadata": {},
   "outputs": [
    {
     "name": "stdout",
     "output_type": "stream",
     "text": [
      "\n",
      "Optimized Bagging Metrics:\n",
      "{'accuracy': 0.5555555555555556, 'precision': 0.5434761894347337, 'recall': 0.5555555555555556}\n"
     ]
    }
   ],
   "source": [
    "# Evaluate the best Bagging model\n",
    "bagging_metrics = {\n",
    "    \"accuracy\": accuracy_score(y_test, best_bagging_model.predict(X_test)),\n",
    "    \"precision\": precision_score(y_test, best_bagging_model.predict(X_test), average='weighted'),\n",
    "    \"recall\": recall_score(y_test, best_bagging_model.predict(X_test), average='weighted')\n",
    "}\n",
    "\n",
    "print(\"\\nOptimized Bagging Metrics:\")\n",
    "print(bagging_metrics)"
   ]
  },
  {
   "cell_type": "code",
   "execution_count": 68,
   "metadata": {},
   "outputs": [
    {
     "name": "stdout",
     "output_type": "stream",
     "text": [
      "Model 'Optimized Bagging Classifier' recorded successfully!\n"
     ]
    }
   ],
   "source": [
    "# Record the performance of the best Bagging model (if applicable)\n",
    "record_trained_model(\n",
    "    \"Optimized Bagging Classifier\",\n",
    "    best_bagging_model.get_params(),\n",
    "    \"Optimized Parameters\",\n",
    "    {\n",
    "        \"accuracy\": bagging_metrics[\"accuracy\"],\n",
    "        \"precision\": bagging_metrics[\"precision\"],\n",
    "        \"recall\": bagging_metrics[\"recall\"]\n",
    "    }\n",
    ")"
   ]
  },
  {
   "cell_type": "code",
   "execution_count": 69,
   "metadata": {},
   "outputs": [
    {
     "data": {
      "text/html": [
       "<div>\n",
       "<style scoped>\n",
       "    .dataframe tbody tr th:only-of-type {\n",
       "        vertical-align: middle;\n",
       "    }\n",
       "\n",
       "    .dataframe tbody tr th {\n",
       "        vertical-align: top;\n",
       "    }\n",
       "\n",
       "    .dataframe thead th {\n",
       "        text-align: right;\n",
       "    }\n",
       "</style>\n",
       "<table border=\"1\" class=\"dataframe\">\n",
       "  <thead>\n",
       "    <tr style=\"text-align: right;\">\n",
       "      <th></th>\n",
       "      <th>Model Name</th>\n",
       "      <th>Hyperparameters</th>\n",
       "      <th>Test Accuracy</th>\n",
       "      <th>Test Precision</th>\n",
       "      <th>Test Recall</th>\n",
       "    </tr>\n",
       "  </thead>\n",
       "  <tbody>\n",
       "    <tr>\n",
       "      <th>0</th>\n",
       "      <td>Decision Tree with Default Parameters</td>\n",
       "      <td>{}</td>\n",
       "      <td>43.59%</td>\n",
       "      <td>44.33%</td>\n",
       "      <td>43.59%</td>\n",
       "    </tr>\n",
       "    <tr>\n",
       "      <th>1</th>\n",
       "      <td>Decision Tree with Tuned Parameters</td>\n",
       "      <td>{'ccp_alpha': 0.0, 'class_weight': None, 'crit...</td>\n",
       "      <td>43.50%</td>\n",
       "      <td>43.34%</td>\n",
       "      <td>43.50%</td>\n",
       "    </tr>\n",
       "    <tr>\n",
       "      <th>2</th>\n",
       "      <td>Decision Tree with Optuna Parameters</td>\n",
       "      <td>{'criterion': 'entropy', 'splitter': 'best', '...</td>\n",
       "      <td>43.93%</td>\n",
       "      <td>44.00%</td>\n",
       "      <td>43.93%</td>\n",
       "    </tr>\n",
       "    <tr>\n",
       "      <th>3</th>\n",
       "      <td>Pruned Decision Tree with Optuna Parameters</td>\n",
       "      <td>{'ccp_alpha': 0.01, 'class_weight': None, 'cri...</td>\n",
       "      <td>41.45%</td>\n",
       "      <td>35.69%</td>\n",
       "      <td>41.45%</td>\n",
       "    </tr>\n",
       "    <tr>\n",
       "      <th>4</th>\n",
       "      <td>Pruned Decision Tree with Alpha Optimization</td>\n",
       "      <td>{'ccp_alpha': 0.0, 'class_weight': None, 'crit...</td>\n",
       "      <td>46.24%</td>\n",
       "      <td>45.76%</td>\n",
       "      <td>46.24%</td>\n",
       "    </tr>\n",
       "    <tr>\n",
       "      <th>5</th>\n",
       "      <td>Decision Tree with Early Stopping</td>\n",
       "      <td>{'ccp_alpha': 0.0, 'class_weight': None, 'crit...</td>\n",
       "      <td>45.90%</td>\n",
       "      <td>45.36%</td>\n",
       "      <td>45.90%</td>\n",
       "    </tr>\n",
       "    <tr>\n",
       "      <th>6</th>\n",
       "      <td>Decision Tree with Feature Pruning</td>\n",
       "      <td>{'ccp_alpha': 0.0, 'class_weight': None, 'crit...</td>\n",
       "      <td>45.47%</td>\n",
       "      <td>45.05%</td>\n",
       "      <td>45.47%</td>\n",
       "    </tr>\n",
       "    <tr>\n",
       "      <th>7</th>\n",
       "      <td>Bagging Classifier with Decision Tree</td>\n",
       "      <td>{'base_estimator': 'deprecated', 'bootstrap': ...</td>\n",
       "      <td>55.56%</td>\n",
       "      <td>54.35%</td>\n",
       "      <td>55.56%</td>\n",
       "    </tr>\n",
       "    <tr>\n",
       "      <th>8</th>\n",
       "      <td>Optimized Bagging Classifier</td>\n",
       "      <td>{'base_estimator': 'deprecated', 'bootstrap': ...</td>\n",
       "      <td>55.56%</td>\n",
       "      <td>54.35%</td>\n",
       "      <td>55.56%</td>\n",
       "    </tr>\n",
       "  </tbody>\n",
       "</table>\n",
       "</div>"
      ],
      "text/plain": [
       "                                     Model Name  \\\n",
       "0         Decision Tree with Default Parameters   \n",
       "1           Decision Tree with Tuned Parameters   \n",
       "2          Decision Tree with Optuna Parameters   \n",
       "3   Pruned Decision Tree with Optuna Parameters   \n",
       "4  Pruned Decision Tree with Alpha Optimization   \n",
       "5             Decision Tree with Early Stopping   \n",
       "6            Decision Tree with Feature Pruning   \n",
       "7         Bagging Classifier with Decision Tree   \n",
       "8                  Optimized Bagging Classifier   \n",
       "\n",
       "                                     Hyperparameters Test Accuracy  \\\n",
       "0                                                 {}        43.59%   \n",
       "1  {'ccp_alpha': 0.0, 'class_weight': None, 'crit...        43.50%   \n",
       "2  {'criterion': 'entropy', 'splitter': 'best', '...        43.93%   \n",
       "3  {'ccp_alpha': 0.01, 'class_weight': None, 'cri...        41.45%   \n",
       "4  {'ccp_alpha': 0.0, 'class_weight': None, 'crit...        46.24%   \n",
       "5  {'ccp_alpha': 0.0, 'class_weight': None, 'crit...        45.90%   \n",
       "6  {'ccp_alpha': 0.0, 'class_weight': None, 'crit...        45.47%   \n",
       "7  {'base_estimator': 'deprecated', 'bootstrap': ...        55.56%   \n",
       "8  {'base_estimator': 'deprecated', 'bootstrap': ...        55.56%   \n",
       "\n",
       "  Test Precision Test Recall  \n",
       "0         44.33%      43.59%  \n",
       "1         43.34%      43.50%  \n",
       "2         44.00%      43.93%  \n",
       "3         35.69%      41.45%  \n",
       "4         45.76%      46.24%  \n",
       "5         45.36%      45.90%  \n",
       "6         45.05%      45.47%  \n",
       "7         54.35%      55.56%  \n",
       "8         54.35%      55.56%  "
      ]
     },
     "execution_count": 69,
     "metadata": {},
     "output_type": "execute_result"
    }
   ],
   "source": [
    "model_records"
   ]
  },
  {
   "cell_type": "code",
   "execution_count": null,
   "metadata": {},
   "outputs": [],
   "source": [
    "# from sklearn.ensemble import StackingClassifier\n",
    "# from sklearn.ensemble import RandomForestClassifier\n",
    "# from sklearn.ensemble import GradientBoostingClassifier\n",
    "# from sklearn.linear_model import LogisticRegression\n",
    "\n",
    "# stacking_model = StackingClassifier(\n",
    "#     estimators=[\n",
    "#         ('dtree', DecisionTreeClassifier(**best_params, random_state=123)),\n",
    "#         ('rf', RandomForestClassifier(n_estimators=50, random_state=123)),\n",
    "#         ('gb', GradientBoostingClassifier(n_estimators=50, random_state=123))\n",
    "#     ],\n",
    "#     final_estimator=LogisticRegression()\n",
    "# )\n",
    "# stacking_model.fit(X_train, y_train)\n",
    "\n",
    "# stacking_metrics = {\n",
    "#     \"accuracy\": accuracy_score(y_test, stacking_model.predict(X_test)),\n",
    "#     \"precision\": precision_score(y_test, stacking_model.predict(X_test), average='weighted'),\n",
    "#     \"recall\": recall_score(y_test, stacking_model.predict(X_test), average='weighted')\n",
    "# }\n",
    "\n",
    "# print(\"\\nStacking Metrics:\")\n",
    "# print(stacking_metrics)"
   ]
  },
  {
   "cell_type": "markdown",
   "metadata": {},
   "source": [
    "### Evaluate and Compare Models"
   ]
  },
  {
   "cell_type": "code",
   "execution_count": 71,
   "metadata": {},
   "outputs": [
    {
     "name": "stdout",
     "output_type": "stream",
     "text": [
      "Model Performance Comparison:\n"
     ]
    },
    {
     "data": {
      "text/html": [
       "<div>\n",
       "<style scoped>\n",
       "    .dataframe tbody tr th:only-of-type {\n",
       "        vertical-align: middle;\n",
       "    }\n",
       "\n",
       "    .dataframe tbody tr th {\n",
       "        vertical-align: top;\n",
       "    }\n",
       "\n",
       "    .dataframe thead th {\n",
       "        text-align: right;\n",
       "    }\n",
       "</style>\n",
       "<table border=\"1\" class=\"dataframe\">\n",
       "  <thead>\n",
       "    <tr style=\"text-align: right;\">\n",
       "      <th></th>\n",
       "      <th>Model Name</th>\n",
       "      <th>Hyperparameters</th>\n",
       "      <th>Test Accuracy</th>\n",
       "      <th>Test Precision</th>\n",
       "      <th>Test Recall</th>\n",
       "    </tr>\n",
       "  </thead>\n",
       "  <tbody>\n",
       "    <tr>\n",
       "      <th>7</th>\n",
       "      <td>Bagging Classifier with Decision Tree</td>\n",
       "      <td>{'base_estimator': 'deprecated', 'bootstrap': ...</td>\n",
       "      <td>55.56%</td>\n",
       "      <td>54.35%</td>\n",
       "      <td>55.56%</td>\n",
       "    </tr>\n",
       "    <tr>\n",
       "      <th>8</th>\n",
       "      <td>Optimized Bagging Classifier</td>\n",
       "      <td>{'base_estimator': 'deprecated', 'bootstrap': ...</td>\n",
       "      <td>55.56%</td>\n",
       "      <td>54.35%</td>\n",
       "      <td>55.56%</td>\n",
       "    </tr>\n",
       "    <tr>\n",
       "      <th>4</th>\n",
       "      <td>Pruned Decision Tree with Alpha Optimization</td>\n",
       "      <td>{'ccp_alpha': 0.0, 'class_weight': None, 'crit...</td>\n",
       "      <td>46.24%</td>\n",
       "      <td>45.76%</td>\n",
       "      <td>46.24%</td>\n",
       "    </tr>\n",
       "    <tr>\n",
       "      <th>5</th>\n",
       "      <td>Decision Tree with Early Stopping</td>\n",
       "      <td>{'ccp_alpha': 0.0, 'class_weight': None, 'crit...</td>\n",
       "      <td>45.90%</td>\n",
       "      <td>45.36%</td>\n",
       "      <td>45.90%</td>\n",
       "    </tr>\n",
       "    <tr>\n",
       "      <th>6</th>\n",
       "      <td>Decision Tree with Feature Pruning</td>\n",
       "      <td>{'ccp_alpha': 0.0, 'class_weight': None, 'crit...</td>\n",
       "      <td>45.47%</td>\n",
       "      <td>45.05%</td>\n",
       "      <td>45.47%</td>\n",
       "    </tr>\n",
       "    <tr>\n",
       "      <th>2</th>\n",
       "      <td>Decision Tree with Optuna Parameters</td>\n",
       "      <td>{'criterion': 'entropy', 'splitter': 'best', '...</td>\n",
       "      <td>43.93%</td>\n",
       "      <td>44.00%</td>\n",
       "      <td>43.93%</td>\n",
       "    </tr>\n",
       "    <tr>\n",
       "      <th>0</th>\n",
       "      <td>Decision Tree with Default Parameters</td>\n",
       "      <td>{}</td>\n",
       "      <td>43.59%</td>\n",
       "      <td>44.33%</td>\n",
       "      <td>43.59%</td>\n",
       "    </tr>\n",
       "    <tr>\n",
       "      <th>1</th>\n",
       "      <td>Decision Tree with Tuned Parameters</td>\n",
       "      <td>{'ccp_alpha': 0.0, 'class_weight': None, 'crit...</td>\n",
       "      <td>43.50%</td>\n",
       "      <td>43.34%</td>\n",
       "      <td>43.50%</td>\n",
       "    </tr>\n",
       "    <tr>\n",
       "      <th>3</th>\n",
       "      <td>Pruned Decision Tree with Optuna Parameters</td>\n",
       "      <td>{'ccp_alpha': 0.01, 'class_weight': None, 'cri...</td>\n",
       "      <td>41.45%</td>\n",
       "      <td>35.69%</td>\n",
       "      <td>41.45%</td>\n",
       "    </tr>\n",
       "  </tbody>\n",
       "</table>\n",
       "</div>"
      ],
      "text/plain": [
       "                                     Model Name  \\\n",
       "7         Bagging Classifier with Decision Tree   \n",
       "8                  Optimized Bagging Classifier   \n",
       "4  Pruned Decision Tree with Alpha Optimization   \n",
       "5             Decision Tree with Early Stopping   \n",
       "6            Decision Tree with Feature Pruning   \n",
       "2          Decision Tree with Optuna Parameters   \n",
       "0         Decision Tree with Default Parameters   \n",
       "1           Decision Tree with Tuned Parameters   \n",
       "3   Pruned Decision Tree with Optuna Parameters   \n",
       "\n",
       "                                     Hyperparameters Test Accuracy  \\\n",
       "7  {'base_estimator': 'deprecated', 'bootstrap': ...        55.56%   \n",
       "8  {'base_estimator': 'deprecated', 'bootstrap': ...        55.56%   \n",
       "4  {'ccp_alpha': 0.0, 'class_weight': None, 'crit...        46.24%   \n",
       "5  {'ccp_alpha': 0.0, 'class_weight': None, 'crit...        45.90%   \n",
       "6  {'ccp_alpha': 0.0, 'class_weight': None, 'crit...        45.47%   \n",
       "2  {'criterion': 'entropy', 'splitter': 'best', '...        43.93%   \n",
       "0                                                 {}        43.59%   \n",
       "1  {'ccp_alpha': 0.0, 'class_weight': None, 'crit...        43.50%   \n",
       "3  {'ccp_alpha': 0.01, 'class_weight': None, 'cri...        41.45%   \n",
       "\n",
       "  Test Precision Test Recall  \n",
       "7         54.35%      55.56%  \n",
       "8         54.35%      55.56%  \n",
       "4         45.76%      46.24%  \n",
       "5         45.36%      45.90%  \n",
       "6         45.05%      45.47%  \n",
       "2         44.00%      43.93%  \n",
       "0         44.33%      43.59%  \n",
       "1         43.34%      43.50%  \n",
       "3         35.69%      41.45%  "
      ]
     },
     "execution_count": 71,
     "metadata": {},
     "output_type": "execute_result"
    }
   ],
   "source": [
    "# Display Results in a Table\n",
    "results_df = pd.DataFrame(model_records)\n",
    "results_df.sort_values(by=\"Test Accuracy\", ascending=False, inplace=True)\n",
    "print(\"Model Performance Comparison:\")\n",
    "results_df"
   ]
  },
  {
   "cell_type": "code",
   "execution_count": 72,
   "metadata": {},
   "outputs": [
    {
     "name": "stdout",
     "output_type": "stream",
     "text": [
      "\n",
      "Best Model:\n"
     ]
    },
    {
     "data": {
      "text/plain": [
       "Model Name                     Bagging Classifier with Decision Tree\n",
       "Hyperparameters    {'base_estimator': 'deprecated', 'bootstrap': ...\n",
       "Test Accuracy                                                 55.56%\n",
       "Test Precision                                                54.35%\n",
       "Test Recall                                                   55.56%\n",
       "Name: 7, dtype: object"
      ]
     },
     "execution_count": 72,
     "metadata": {},
     "output_type": "execute_result"
    }
   ],
   "source": [
    "# Select the best model based on RMSE\n",
    "best_model_info = results_df.iloc[0]\n",
    "print(\"\\nBest Model:\")\n",
    "best_model_info"
   ]
  },
  {
   "cell_type": "markdown",
   "metadata": {},
   "source": [
    "### Save the Best Model"
   ]
  },
  {
   "cell_type": "code",
   "execution_count": 74,
   "metadata": {},
   "outputs": [
    {
     "name": "stdout",
     "output_type": "stream",
     "text": [
      "Model saved successfully at ../04_modelling/models/dtree_model.pkl!\n"
     ]
    }
   ],
   "source": [
    "def save_model(model, path, model_name=\"dtree_model.pkl\"):\n",
    "    \"\"\"\n",
    "    Save the trained model to a specified directory.\n",
    "\n",
    "    Args:\n",
    "        model: Trained model object.\n",
    "        path (str): Directory path to save the model.\n",
    "        model_name (str): File name for the saved model.\n",
    "    \"\"\"\n",
    "    # Ensure the path exists\n",
    "    os.makedirs(path, exist_ok=True)\n",
    "\n",
    "    # Save the model\n",
    "    file_path = os.path.join(path, model_name)\n",
    "    joblib.dump(model, file_path)\n",
    "    print(f\"Model saved successfully at {file_path}!\")\n",
    "\n",
    "# Save the selected best model\n",
    "save_model(best_bagging_model, path=\"../04_modelling/models/\", model_name=\"dtree_model.pkl\")"
   ]
  },
  {
   "cell_type": "markdown",
   "metadata": {},
   "source": [
    "### Desicion Tree with AutoML "
   ]
  },
  {
   "cell_type": "code",
   "execution_count": null,
   "metadata": {},
   "outputs": [],
   "source": []
  },
  {
   "cell_type": "markdown",
   "metadata": {},
   "source": [
    "### Archive"
   ]
  },
  {
   "cell_type": "code",
   "execution_count": 3,
   "metadata": {},
   "outputs": [],
   "source": [
    "# # Step 1: Import Necessary Libraries\n",
    "# import pandas as pd\n",
    "# import numpy as np\n",
    "# from sklearn.model_selection import StratifiedKFold, GridSearchCV, RandomizedSearchCV\n",
    "# from sklearn.metrics import accuracy_score, recall_score, precision_score, confusion_matrix\n",
    "# from matplotlib.colors import ListedColormap\n",
    "# import seaborn as sns\n",
    "# import warnings; warnings.filterwarnings('ignore')\n",
    "\n",
    "# import matplotlib.pyplot as plt\n",
    "# import lightgbm as lgb\n",
    "# import xgboost as xgb\n",
    "# # from catboost import CatBoostRegressor"
   ]
  },
  {
   "cell_type": "code",
   "execution_count": 4,
   "metadata": {},
   "outputs": [],
   "source": [
    "# # Step 2: Load and Explore Data\n",
    "# Load datasets\n",
    "# X_train = pd.read_csv(\"../04_modelling/dataset/X_train.csv\")\n",
    "# y_train = pd.read_csv(\"../04_modelling/dataset/y_train.csv\")\n",
    "# # X_val = pd.read_csv(\"../04_modelling/dataset/X_val.csv\")\n",
    "# # y_val = pd.read_csv(\"../04_modelling/dataset/y_val.csv\")\n",
    "# X_test = pd.read_csv(\"../04_modelling/dataset/X_test.csv\")\n",
    "# y_test = pd.read_csv(\"../04_modelling/dataset/y_test.csv\")"
   ]
  },
  {
   "cell_type": "code",
   "execution_count": 5,
   "metadata": {},
   "outputs": [
    {
     "data": {
      "text/plain": [
       "(5459, 50)"
      ]
     },
     "execution_count": 5,
     "metadata": {},
     "output_type": "execute_result"
    }
   ],
   "source": [
    "# X_train.shape"
   ]
  },
  {
   "cell_type": "code",
   "execution_count": 6,
   "metadata": {},
   "outputs": [],
   "source": [
    "# target_names = y_train['yearly_compensation']"
   ]
  },
  {
   "cell_type": "code",
   "execution_count": 7,
   "metadata": {},
   "outputs": [],
   "source": [
    "# target_names = target_names.to_numpy()"
   ]
  },
  {
   "cell_type": "code",
   "execution_count": 70,
   "metadata": {},
   "outputs": [],
   "source": [
    "# def run_classifier(clf, param_grid, title):\n",
    "#     # -----------------------------------------------------\n",
    "#     cv = StratifiedKFold(n_splits=3, shuffle=True, random_state=123)\n",
    "#     # Randomized grid search\n",
    "#     n_iter_search = 10\n",
    "#     gs = RandomizedSearchCV(\n",
    "#         clf,\n",
    "#         param_distributions=param_grid,\n",
    "#         n_iter=n_iter_search,\n",
    "#         cv=cv,\n",
    "#         scoring='accuracy'\n",
    "#     )\n",
    "#     # -----------------------------------------------------\n",
    "#     # Train model\n",
    "#     gs.fit(X_train, y_train)  \n",
    "#     print(\"The best parameters are %s\" % (gs.best_params_)) \n",
    "#     # Predict on test set\n",
    "#     y_pred = gs.best_estimator_.predict(X_test)\n",
    "#     # Get Probability estimates\n",
    "#     y_prob = gs.best_estimator_.predict_proba(X_test)[:, 1]\n",
    "#     # -----------------------------------------------------\n",
    "#     print('Accuracy score: %.2f%%' % (accuracy_score(y_test, y_pred)*100))  \n",
    "#     print('Precision score: %.2f%%' % (precision_score(y_test, y_pred, average='weighted')*100))\n",
    "#     print('Recall score: %.2f%%' % (recall_score(y_test, y_pred, average='weighted')*100))\n",
    "#     # -----------------------------------------------------\n",
    "    # Plot confusion matrix\n",
    "    # fig, [ax1, ax2] = plt.subplots(1, 2, figsize=(10, 5))\n",
    "    # cm = confusion_matrix(y_test, y_pred)\n",
    "    \n",
    "    # # Ensure target names match unique classes\n",
    "    # target_names = sorted(set(y_test))  # Unique classes\n",
    "    \n",
    "    # sns.heatmap(cm, annot=True, cbar=False, fmt=\"d\", linewidths=.5, cmap=\"Blues\", ax=ax1)\n",
    "    # ax1.set_title(\"Confusion Matrix\")\n",
    "    # ax1.set_xlabel(\"Predicted class\")\n",
    "    # ax1.set_ylabel(\"Actual class\")\n",
    "    # ax1.set_xticklabels(target_names, rotation=45)\n",
    "    # ax1.set_yticklabels(target_names)\n",
    "    # fig.tight_layout()"
   ]
  },
  {
   "cell_type": "code",
   "execution_count": 71,
   "metadata": {},
   "outputs": [],
   "source": [
    "# def run_classifier(clf, param_grid, title):\n",
    "#     # -----------------------------------------------------\n",
    "#     # Cross-Validation Setup\n",
    "#     cv = StratifiedKFold(n_splits=5, shuffle=True, random_state=123)  # 5-fold CV for better generalization\n",
    "#     n_iter_search = 10  # Number of parameter combinations for RandomizedSearch\n",
    "    \n",
    "#     gs = RandomizedSearchCV(\n",
    "#         clf,\n",
    "#         param_distributions=param_grid,\n",
    "#         n_iter=n_iter_search,\n",
    "#         cv=cv,\n",
    "#         scoring='accuracy',\n",
    "#         return_train_score=True\n",
    "#     )\n",
    "#     # -----------------------------------------------------\n",
    "#     # Perform Cross-Validation and Hyperparameter Tuning\n",
    "#     gs.fit(X_train, y_train)\n",
    "#     print(f\"\\n--- Cross-Validation Results ({title}) ---\")\n",
    "#     print(\"The best parameters are:\", gs.best_params_)\n",
    "#     print(\"Mean cross-validation accuracy: %.2f%%\" % (gs.best_score_ * 100))\n",
    "    \n",
    "#     # -----------------------------------------------------\n",
    "#     # Evaluate Model on Test and Validation Sets\n",
    "#     print(\"\\n--- Test and Validation Results ---\")\n",
    "    \n",
    "#     # Predict on Test Set\n",
    "#     y_test_pred = gs.best_estimator_.predict(X_test)\n",
    "#     y_test_prob = gs.best_estimator_.predict_proba(X_test)[:, 1]\n",
    "    \n",
    "#     # Predict on Validation Set\n",
    "#     # y_val_pred = gs.best_estimator_.predict(X_val)\n",
    "#     # y_val_prob = gs.best_estimator_.predict_proba(X_val)[:, 1]\n",
    "    \n",
    "#     # Test Set Metrics\n",
    "#     print(\"\\n--- Test Metrics ---\")\n",
    "#     print('Accuracy: %.2f%%' % (accuracy_score(y_test, y_test_pred) * 100))\n",
    "#     print('Precision: %.2f%%' % (precision_score(y_test, y_test_pred, average='weighted') * 100))\n",
    "#     print('Recall: %.2f%%' % (recall_score(y_test, y_test_pred, average='weighted') * 100))\n",
    "    \n",
    "#     # Validation Set Metrics\n",
    "#     # print(\"\\n--- Validation Metrics ---\")\n",
    "#     # print('Accuracy: %.2f%%' % (accuracy_score(y_val, y_val_pred) * 100))\n",
    "#     # print('Precision: %.2f%%' % (precision_score(y_val, y_val_pred, average='weighted') * 100))\n",
    "#     # print('Recall: %.2f%%' % (recall_score(y_val, y_val_pred, average='weighted') * 100))\n",
    "    \n",
    "#     # -----------------------------------------------------\n",
    "#     # Confusion Matrices (optional for analysis)\n",
    "#     # print(\"\\nConfusion Matrix (Test):\")\n",
    "#     # print(confusion_matrix(y_test, y_test_pred))\n",
    "#     # print(\"\\nConfusion Matrix (Validation):\")\n",
    "#     # print(confusion_matrix(y_val, y_val_pred))"
   ]
  },
  {
   "cell_type": "code",
   "execution_count": 12,
   "metadata": {},
   "outputs": [],
   "source": [
    "# from sklearn.model_selection import RandomizedSearchCV, KFold\n",
    "# from sklearn.metrics import mean_squared_error, mean_absolute_error, r2_score\n",
    "# import numpy as np\n",
    "\n",
    "# def run_regressor(regressor, param_grid, title):\n",
    "#     # -----------------------------------------------------\n",
    "#     # Cross-Validation Setup\n",
    "#     cv = KFold(n_splits=5, shuffle=True, random_state=123)  # K-Fold CV for regression\n",
    "#     n_iter_search = 10  # Number of parameter combinations for RandomizedSearch\n",
    "\n",
    "#     gs = RandomizedSearchCV(\n",
    "#         regressor,\n",
    "#         param_distributions=param_grid,\n",
    "#         n_iter=n_iter_search,\n",
    "#         cv=cv,\n",
    "#         scoring='neg_root_mean_squared_error',  # For regression, use RMSE\n",
    "#         return_train_score=True\n",
    "#     )\n",
    "#     # -----------------------------------------------------\n",
    "#     # Perform Cross-Validation and Hyperparameter Tuning\n",
    "#     gs.fit(X_train, y_train)\n",
    "#     print(f\"\\n--- Cross-Validation Results ({title}) ---\")\n",
    "#     print(\"The best parameters are:\", gs.best_params_)\n",
    "#     print(\"Mean cross-validation RMSE: %.4f\" % (-gs.best_score_))\n",
    "    \n",
    "#     # -----------------------------------------------------\n",
    "#     # Evaluate Model on Test Set\n",
    "#     print(\"\\n--- Test Results ---\")\n",
    "    \n",
    "#     # Predict on Test Set\n",
    "#     y_test_pred = gs.best_estimator_.predict(X_test)\n",
    "#     rmse = np.sqrt(mean_squared_error(y_test, y_test_pred))\n",
    "#     mae = mean_absolute_error(y_test, y_test_pred)\n",
    "#     r2 = r2_score(y_test, y_test_pred)\n",
    "#     # mape = np.mean(np.abs((y_test - y_test_pred) / y_test)) * 100  # Mean Absolute Percentage Error\n",
    "\n",
    "#     print('Test RMSE: %.4f' % rmse)\n",
    "#     print('Test MAE: %.4f' % mae)\n",
    "#     print('Test R² (Accuracy): %.2f%%' % (r2 * 100))\n",
    "#     # print('Test MAPE: %.2f%%' % mape)"
   ]
  },
  {
   "cell_type": "code",
   "execution_count": 13,
   "metadata": {},
   "outputs": [
    {
     "name": "stdout",
     "output_type": "stream",
     "text": [
      "\n",
      "--- Cross-Validation Results (LightGBM Regressor) ---\n",
      "The best parameters are: {'num_leaves': 31, 'n_estimators': 1000, 'learning_rate': 0.1, 'feature_fraction': 0.7, 'bagging_fraction': 0.8}\n",
      "Mean cross-validation RMSE: 2.0086\n",
      "\n",
      "--- Test Results ---\n",
      "Test RMSE: 1.9360\n",
      "Test MAE: 1.4020\n",
      "Test R² (Accuracy): 93.47%\n"
     ]
    }
   ],
   "source": [
    "# # Define LightGBM parameters for tuning\n",
    "# param_grid_lgbm = {\n",
    "#     'num_leaves': [31, 50, 70],\n",
    "#     'learning_rate': [0.01, 0.1, 0.2],\n",
    "#     'n_estimators': [100, 500, 1000],\n",
    "#     'bagging_fraction': [0.5, 0.6, 0.8],\n",
    "#     'feature_fraction': [0.5, 0.7, 0.9]\n",
    "# }\n",
    "\n",
    "# # Initialize LightGBM regressor\n",
    "# lgbm_regressor = lgb.LGBMRegressor(\n",
    "#     objective=\"regression\",\n",
    "#     metric=\"rmse\",\n",
    "#     bagging_seed=42,\n",
    "#     verbosity=-1,\n",
    "#     random_state=42\n",
    "# )\n",
    "\n",
    "# # Call the helper function\n",
    "# run_regressor(lgbm_regressor, param_grid_lgbm, \"LightGBM Regressor\")"
   ]
  },
  {
   "cell_type": "code",
   "execution_count": 72,
   "metadata": {},
   "outputs": [
    {
     "name": "stdout",
     "output_type": "stream",
     "text": [
      "\n",
      "--- Cross-Validation Results (Logistic Regression) ---\n",
      "The best parameters are: {'solver': 'lbfgs', 'penalty': 'l2'}\n",
      "Mean cross-validation accuracy: 70.88%\n",
      "\n",
      "--- Test and Validation Results ---\n",
      "\n",
      "--- Test Metrics ---\n",
      "Accuracy: 73.97%\n",
      "Precision: 72.85%\n",
      "Recall: 73.97%\n"
     ]
    }
   ],
   "source": [
    "# from sklearn.linear_model import LogisticRegression\n",
    "\n",
    "# lr = LogisticRegression()\n",
    "\n",
    "# param_grid_lr = {'penalty': ['l2'],\n",
    "#               'solver': ['newton-cg', 'lbfgs', 'liblinear', 'sag', 'saga']}\n",
    "\n",
    "# run_classifier(lr, param_grid_lr, 'Logistic Regression')"
   ]
  },
  {
   "cell_type": "code",
   "execution_count": 73,
   "metadata": {},
   "outputs": [
    {
     "name": "stdout",
     "output_type": "stream",
     "text": [
      "\n",
      "--- Cross-Validation Results (Decision Tree) ---\n",
      "The best parameters are: {'splitter': 'random', 'min_samples_split': 10, 'min_samples_leaf': 10, 'max_features': None, 'max_depth': 11, 'criterion': 'gini'}\n",
      "Mean cross-validation accuracy: 42.09%\n",
      "\n",
      "--- Test and Validation Results ---\n",
      "\n",
      "--- Test Metrics ---\n",
      "Accuracy: 41.86%\n",
      "Precision: 40.10%\n",
      "Recall: 41.86%\n"
     ]
    }
   ],
   "source": [
    "# from sklearn.tree import DecisionTreeClassifier\n",
    "# import numpy as np\n",
    "\n",
    "# dtree = DecisionTreeClassifier()\n",
    "\n",
    "# param_grid_dtree = {'criterion': ['gini', 'entropy'],\n",
    "#               'splitter': ['best', 'random'],\n",
    "#               'max_depth': np.arange(1, 20, 2),\n",
    "#               'min_samples_split': [2, 5, 10],\n",
    "#               'min_samples_leaf': [1, 2, 4, 10],\n",
    "#               'max_features': ['auto', 'sqrt', 'log2', None]}\n",
    "\n",
    "# run_classifier(dtree, param_grid_dtree, \"Decision Tree\")"
   ]
  },
  {
   "cell_type": "code",
   "execution_count": null,
   "metadata": {},
   "outputs": [
    {
     "name": "stdout",
     "output_type": "stream",
     "text": [
      "\n",
      "--- Cross-Validation Results (Decision Tree) ---\n",
      "The best parameters are: {'splitter': 'random', 'min_samples_split': 20, 'min_samples_leaf': 2, 'max_features': None, 'max_depth': 21, 'criterion': 'gini', 'class_weight': 'balanced'}\n",
      "Mean cross-validation accuracy: 37.44%\n",
      "\n",
      "--- Test and Validation Results ---\n",
      "\n",
      "--- Test Metrics ---\n",
      "Accuracy: 36.35%\n",
      "Precision: 42.44%\n",
      "Recall: 36.35%\n"
     ]
    }
   ],
   "source": [
    "# dtree_2 = DecisionTreeClassifier()\n",
    "\n",
    "# param_grid_dtree_2 = {\n",
    "#     'criterion': ['gini', 'entropy', 'log_loss'],  # Include 'log_loss' for classification\n",
    "#     'splitter': ['best', 'random'],\n",
    "#     'max_depth': np.arange(1, 50, 5),  # Increase depth range\n",
    "#     'min_samples_split': [2, 5, 10, 20],  # Larger values for more generalization\n",
    "#     'min_samples_leaf': [1, 2, 4, 10, 20],  # Larger leaves for pruning\n",
    "#     'max_features': ['auto', 'sqrt', 'log2', None],  # Adjust based on dataset size\n",
    "#     'class_weight': [None, 'balanced']  # Try balancing class weights\n",
    "# }\n",
    "\n",
    "# run_classifier(dtree, param_grid_dtree_2, \"Decision Tree\")"
   ]
  },
  {
   "cell_type": "code",
   "execution_count": 75,
   "metadata": {},
   "outputs": [
    {
     "name": "stdout",
     "output_type": "stream",
     "text": [
      "\n",
      "--- Cross-Validation Results (Decision Tree) ---\n",
      "The best parameters are: {'splitter': 'best', 'min_samples_split': 10, 'min_samples_leaf': 1, 'max_features': None, 'max_depth': 27, 'criterion': 'entropy', 'class_weight': 'balanced'}\n",
      "Mean cross-validation accuracy: 42.25%\n",
      "\n",
      "--- Test and Validation Results ---\n",
      "\n",
      "--- Test Metrics ---\n",
      "Accuracy: 44.87%\n",
      "Precision: 46.58%\n",
      "Recall: 44.87%\n"
     ]
    }
   ],
   "source": [
    "# dtree_3 = DecisionTreeClassifier()\n",
    "\n",
    "# param_grid_dtree_3 = {\n",
    "#     'criterion': ['gini', 'entropy', 'log_loss'],\n",
    "#     'splitter': ['best', 'random'],\n",
    "#     'max_depth': np.arange(1, 30, 2),  # Extend range\n",
    "#     'min_samples_split': [2, 5, 10, 20, 50],  # Include larger splits\n",
    "#     'min_samples_leaf': [1, 2, 4, 10, 20],  # Include larger leaf sizes\n",
    "#     'max_features': [None, 'sqrt', 'log2'],\n",
    "#     'class_weight': [None, 'balanced'],  # Try balancing classes\n",
    "# }\n",
    "\n",
    "# run_classifier(dtree_3, param_grid_dtree_3, \"Decision Tree\")"
   ]
  },
  {
   "cell_type": "code",
   "execution_count": 76,
   "metadata": {},
   "outputs": [
    {
     "data": {
      "text/html": [
       "<style>#sk-container-id-2 {color: black;}#sk-container-id-2 pre{padding: 0;}#sk-container-id-2 div.sk-toggleable {background-color: white;}#sk-container-id-2 label.sk-toggleable__label {cursor: pointer;display: block;width: 100%;margin-bottom: 0;padding: 0.3em;box-sizing: border-box;text-align: center;}#sk-container-id-2 label.sk-toggleable__label-arrow:before {content: \"▸\";float: left;margin-right: 0.25em;color: #696969;}#sk-container-id-2 label.sk-toggleable__label-arrow:hover:before {color: black;}#sk-container-id-2 div.sk-estimator:hover label.sk-toggleable__label-arrow:before {color: black;}#sk-container-id-2 div.sk-toggleable__content {max-height: 0;max-width: 0;overflow: hidden;text-align: left;background-color: #f0f8ff;}#sk-container-id-2 div.sk-toggleable__content pre {margin: 0.2em;color: black;border-radius: 0.25em;background-color: #f0f8ff;}#sk-container-id-2 input.sk-toggleable__control:checked~div.sk-toggleable__content {max-height: 200px;max-width: 100%;overflow: auto;}#sk-container-id-2 input.sk-toggleable__control:checked~label.sk-toggleable__label-arrow:before {content: \"▾\";}#sk-container-id-2 div.sk-estimator input.sk-toggleable__control:checked~label.sk-toggleable__label {background-color: #d4ebff;}#sk-container-id-2 div.sk-label input.sk-toggleable__control:checked~label.sk-toggleable__label {background-color: #d4ebff;}#sk-container-id-2 input.sk-hidden--visually {border: 0;clip: rect(1px 1px 1px 1px);clip: rect(1px, 1px, 1px, 1px);height: 1px;margin: -1px;overflow: hidden;padding: 0;position: absolute;width: 1px;}#sk-container-id-2 div.sk-estimator {font-family: monospace;background-color: #f0f8ff;border: 1px dotted black;border-radius: 0.25em;box-sizing: border-box;margin-bottom: 0.5em;}#sk-container-id-2 div.sk-estimator:hover {background-color: #d4ebff;}#sk-container-id-2 div.sk-parallel-item::after {content: \"\";width: 100%;border-bottom: 1px solid gray;flex-grow: 1;}#sk-container-id-2 div.sk-label:hover label.sk-toggleable__label {background-color: #d4ebff;}#sk-container-id-2 div.sk-serial::before {content: \"\";position: absolute;border-left: 1px solid gray;box-sizing: border-box;top: 0;bottom: 0;left: 50%;z-index: 0;}#sk-container-id-2 div.sk-serial {display: flex;flex-direction: column;align-items: center;background-color: white;padding-right: 0.2em;padding-left: 0.2em;position: relative;}#sk-container-id-2 div.sk-item {position: relative;z-index: 1;}#sk-container-id-2 div.sk-parallel {display: flex;align-items: stretch;justify-content: center;background-color: white;position: relative;}#sk-container-id-2 div.sk-item::before, #sk-container-id-2 div.sk-parallel-item::before {content: \"\";position: absolute;border-left: 1px solid gray;box-sizing: border-box;top: 0;bottom: 0;left: 50%;z-index: -1;}#sk-container-id-2 div.sk-parallel-item {display: flex;flex-direction: column;z-index: 1;position: relative;background-color: white;}#sk-container-id-2 div.sk-parallel-item:first-child::after {align-self: flex-end;width: 50%;}#sk-container-id-2 div.sk-parallel-item:last-child::after {align-self: flex-start;width: 50%;}#sk-container-id-2 div.sk-parallel-item:only-child::after {width: 0;}#sk-container-id-2 div.sk-dashed-wrapped {border: 1px dashed gray;margin: 0 0.4em 0.5em 0.4em;box-sizing: border-box;padding-bottom: 0.4em;background-color: white;}#sk-container-id-2 div.sk-label label {font-family: monospace;font-weight: bold;display: inline-block;line-height: 1.2em;}#sk-container-id-2 div.sk-label-container {text-align: center;}#sk-container-id-2 div.sk-container {/* jupyter's `normalize.less` sets `[hidden] { display: none; }` but bootstrap.min.css set `[hidden] { display: none !important; }` so we also need the `!important` here to be able to override the default hidden behavior on the sphinx rendered scikit-learn.org. See: https://github.com/scikit-learn/scikit-learn/issues/21755 */display: inline-block !important;position: relative;}#sk-container-id-2 div.sk-text-repr-fallback {display: none;}</style><div id=\"sk-container-id-2\" class=\"sk-top-container\"><div class=\"sk-text-repr-fallback\"><pre>DecisionTreeClassifier()</pre><b>In a Jupyter environment, please rerun this cell to show the HTML representation or trust the notebook. <br />On GitHub, the HTML representation is unable to render, please try loading this page with nbviewer.org.</b></div><div class=\"sk-container\" hidden><div class=\"sk-item\"><div class=\"sk-estimator sk-toggleable\"><input class=\"sk-toggleable__control sk-hidden--visually\" id=\"sk-estimator-id-2\" type=\"checkbox\" checked><label for=\"sk-estimator-id-2\" class=\"sk-toggleable__label sk-toggleable__label-arrow\">DecisionTreeClassifier</label><div class=\"sk-toggleable__content\"><pre>DecisionTreeClassifier()</pre></div></div></div></div></div>"
      ],
      "text/plain": [
       "DecisionTreeClassifier()"
      ]
     },
     "execution_count": 76,
     "metadata": {},
     "output_type": "execute_result"
    }
   ],
   "source": [
    "dtree_3"
   ]
  },
  {
   "cell_type": "code",
   "execution_count": null,
   "metadata": {},
   "outputs": [],
   "source": [
    "# from sklearn import tree\n",
    "# target_names = sorted(set(y_test))\n",
    "# fig = plt.figure(figsize=(25,20))\n",
    "# _ = tree.plot_tree(dtree_3,\n",
    "#                    feature_names=X_train.columns,\n",
    "#                    class_names=target_names,\n",
    "#                    filled=True)"
   ]
  },
  {
   "cell_type": "code",
   "execution_count": null,
   "metadata": {},
   "outputs": [],
   "source": [
    "# dtree_4 = DecisionTreeClassifier()\n",
    "\n",
    "# param_grid_dtree_4 = {\n",
    "#     'criterion': ['gini', 'entropy', 'log_loss'],  # Different impurity measures\n",
    "#     'splitter': ['best', 'random'],  # Best or random split selection\n",
    "#     'max_depth': [2, 3, 5, 10, 20],  # Fix range definition\n",
    "#     'min_samples_split': [2, 5, 10, 20, 50, 100],  # Extended to larger values for robustness\n",
    "#     'min_samples_leaf': [1, 5, 10, 20, 50, 100],  # Include smaller leaf sizes for granular splits\n",
    "#     'max_features': [None, 'sqrt', 'log2'],  # Different feature selection strategies\n",
    "#     'class_weight': [None, 'balanced'],  # Account for imbalanced classes\n",
    "# }\n",
    "\n",
    "# run_classifier(dtree_4, param_grid_dtree_4, \"Decision Tree\")"
   ]
  },
  {
   "cell_type": "code",
   "execution_count": null,
   "metadata": {},
   "outputs": [],
   "source": [
    "# from sklearn.ensemble import RandomForestClassifier\n",
    "\n",
    "# rf = RandomForestClassifier()\n",
    "\n",
    "# param_grid_rf = {'n_estimators': [100, 200],\n",
    "#               'max_depth': [10, 20, 100, None],\n",
    "#               'max_features': ['auto', 'sqrt', None],\n",
    "#               'min_samples_split': [2, 5, 10],\n",
    "#               'min_samples_leaf': [1, 2, 4, 10],\n",
    "#               'bootstrap': [True, False],\n",
    "#               'criterion': ['gini', 'entropy']}\n",
    "\n",
    "# run_classifier(rf, param_grid_rf, 'Random Forest')"
   ]
  },
  {
   "cell_type": "code",
   "execution_count": null,
   "metadata": {},
   "outputs": [],
   "source": [
    "# from sklearn.neural_network import MLPClassifier\n",
    "\n",
    "# mlp = MLPClassifier()\n",
    "\n",
    "# param_grid = {'hidden_layer_sizes': [(10,), (50,), (10, 10), (50, 50)],\n",
    "#              'activation': ['identity', 'logistic', 'tanh', 'relu'],\n",
    "#              'solver': ['lbfgs', 'sgd', 'adam'],\n",
    "#              'alpha': np.logspace(-5, 3, 5),\n",
    "#              'learning_rate': ['constant', 'invscaling','adaptive'],\n",
    "#              'max_iter': [100, 500, 1000]}\n",
    "\n",
    "# run_classifier(mlp, param_grid, 'Neural Net')"
   ]
  },
  {
   "cell_type": "code",
   "execution_count": null,
   "metadata": {},
   "outputs": [],
   "source": [
    "# # Import Necessary Libraries\n",
    "# import pandas as pd\n",
    "# import matplotlib.pyplot as plt  # For plotting\n",
    "# import h2o\n",
    "# from h2o.grid.grid_search import H2OGridSearch\n",
    "# from sklearn.metrics import accuracy_score\n",
    "# import optuna  # For hyperparameter optimization\n",
    "\n",
    "# # Initialize H2O cluster\n",
    "# h2o.init()\n",
    "\n",
    "# # Step 1: Load and Prepare Data\n",
    "# X_train = pd.read_csv(\"../04_modelling/dataset/X_train.csv\")\n",
    "# y_train = pd.read_csv(\"../04_modelling/dataset/y_train.csv\")\n",
    "# X_val = pd.read_csv(\"../04_modelling/dataset/X_val.csv\")\n",
    "# y_val = pd.read_csv(\"../04_modelling/dataset/y_val.csv\")\n",
    "# X_test = pd.read_csv(\"../04_modelling/dataset/X_test.csv\")\n",
    "# y_test = pd.read_csv(\"../04_modelling/dataset/y_test.csv\")\n",
    "\n",
    "# train_df = pd.concat([X_train, y_train], axis=1)\n",
    "# val_df = pd.concat([X_val, y_val], axis=1)\n",
    "# test_df = pd.concat([X_test, y_test], axis=1)\n",
    "\n",
    "# train_h2o = h2o.H2OFrame(train_df)\n",
    "# val_h2o = h2o.H2OFrame(val_df)\n",
    "# test_h2o = h2o.H2OFrame(test_df)\n",
    "\n",
    "# # Define target and features\n",
    "# target = \"yearly_compensation\"\n",
    "# features = train_h2o.columns\n",
    "# if target in features:\n",
    "#     features.remove(target)\n",
    "\n",
    "# # Step 2: Train Default Deep Learning Model\n",
    "# default_dl_model = h2o.estimators.H2ODeepLearningEstimator(seed=42)\n",
    "# default_dl_model.train(x=features, y=target, training_frame=train_h2o, validation_frame=val_h2o)\n",
    "\n",
    "# # Evaluate Default Model\n",
    "# default_performance = default_dl_model.model_performance(test_h2o)\n",
    "# print(\"Default Deep Learning Model Performance:\")\n",
    "# print(default_performance)\n",
    "\n",
    "# # Step 3: Hyperparameter Optimization using Optuna\n",
    "# def objective(trial):\n",
    "#     # Define hyperparameter search space\n",
    "#     params = {\n",
    "#         \"epochs\": trial.suggest_int(\"epochs\", 10, 100),\n",
    "#         \"hidden\": trial.suggest_categorical(\"hidden\", [[50, 50], [100, 100], [200, 200]]),\n",
    "#         \"input_dropout_ratio\": trial.suggest_uniform(\"input_dropout_ratio\", 0.0, 0.5),\n",
    "#         \"l1\": trial.suggest_loguniform(\"l1\", 1e-6, 1e-3),\n",
    "#         \"l2\": trial.suggest_loguniform(\"l2\", 1e-6, 1e-3),\n",
    "#         \"activation\": trial.suggest_categorical(\"activation\", [\"Rectifier\", \"Tanh\", \"Maxout\"]),\n",
    "#     }\n",
    "    \n",
    "#     # Train Deep Learning Model with hyperparameters\n",
    "#     model = h2o.estimators.H2ODeepLearningEstimator(**params, seed=42)\n",
    "#     model.train(x=features, y=target, training_frame=train_h2o, validation_frame=val_h2o)\n",
    "    \n",
    "#     # Get validation performance (use RMSE as optimization target)\n",
    "#     performance = model.model_performance(val_h2o)\n",
    "#     return performance.rmse()\n",
    "\n",
    "# # Perform hyperparameter optimization\n",
    "# study = optuna.create_study(direction=\"minimize\")\n",
    "# study.optimize(objective, n_trials=20)\n",
    "\n",
    "# # Best Hyperparameters\n",
    "# best_params = study.best_params\n",
    "# print(\"Best Hyperparameters:\")\n",
    "# print(best_params)\n",
    "\n",
    "# # Step 4: Train Deep Learning Model with Best Hyperparameters\n",
    "# tuned_dl_model = h2o.estimators.H2ODeepLearningEstimator(**best_params, seed=42)\n",
    "# tuned_dl_model.train(x=features, y=target, training_frame=train_h2o, validation_frame=val_h2o)\n",
    "\n",
    "# # Evaluate Tuned Model\n",
    "# tuned_performance = tuned_dl_model.model_performance(test_h2o)\n",
    "# print(\"Tuned Deep Learning Model Performance:\")\n",
    "# print(tuned_performance)\n",
    "\n",
    "# # Step 5: Compare Predictions with Actual\n",
    "# predictions = tuned_dl_model.predict(test_h2o)\n",
    "# actual_values = y_test.to_numpy().ravel()\n",
    "# rounded_predictions = predictions.as_data_frame().to_numpy().ravel().round().astype(int)\n",
    "\n",
    "# accuracy = accuracy_score(actual_values, rounded_predictions)\n",
    "# print(f\"Accuracy on Test Data: {accuracy:.2f}\")\n",
    "\n",
    "# # Step 6: Save the Tuned Model\n",
    "# best_model_path = h2o.save_model(tuned_dl_model, path=\"../04_modelling/models/\")\n",
    "# print(f\"Tuned model saved to: {best_model_path}\")\n",
    "\n",
    "# # Shutdown H2O Cluster\n",
    "# h2o.cluster().shutdown()\n"
   ]
  },
  {
   "cell_type": "code",
   "execution_count": null,
   "metadata": {},
   "outputs": [],
   "source": [
    "# # Grid Search for Hyperparameter Tuning\n",
    "# hyper_params = {\n",
    "#     \"epochs\": [50, 100, 150],\n",
    "#     \"hidden\": [[50, 50], [100, 100], [200, 200]],\n",
    "#     \"input_dropout_ratio\": [0.0, 0.2, 0.4],\n",
    "#     \"l1\": [1e-5, 1e-4, 1e-3],\n",
    "#     \"l2\": [1e-5, 1e-4, 1e-3],\n",
    "#     \"activation\": [\"Rectifier\", \"Tanh\", \"Maxout\"]\n",
    "# }\n",
    "\n",
    "# grid_search = H2OGridSearch(\n",
    "#     H2ODeepLearningEstimator(seed=42),\n",
    "#     hyper_params=hyper_params\n",
    "# )\n",
    "\n",
    "# # Train models with grid search\n",
    "# grid_search.train(x=features, y=target, training_frame=train_h2o, validation_frame=val_h2o)\n",
    "\n",
    "# # Get the best model from the grid search\n",
    "# best_model = grid_search.get_grid(sort_by=\"rmse\", decreasing=False).models[0]\n",
    "# print(\"Best Grid Search Model:\")\n",
    "# print(best_model)\n",
    "\n",
    "# # Evaluate the best grid search model\n",
    "# performance = best_model.model_performance(test_h2o)\n",
    "# print(\"Best Grid Search Model Performance:\")\n",
    "# print(performance)\n"
   ]
  },
  {
   "cell_type": "code",
   "execution_count": null,
   "metadata": {},
   "outputs": [],
   "source": [
    "# # Random Search for Hyperparameter Tuning\n",
    "# from h2o.grid.grid_search import H2ORandomGridSearch\n",
    "\n",
    "# hyper_params = {\n",
    "#     \"epochs\": list(range(50, 201, 50)),\n",
    "#     \"hidden\": [[50, 50], [100, 100], [200, 200]],\n",
    "#     \"input_dropout_ratio\": [i / 10.0 for i in range(0, 6)],\n",
    "#     \"l1\": [1e-6, 1e-5, 1e-4],\n",
    "#     \"l2\": [1e-6, 1e-5, 1e-4],\n",
    "#     \"activation\": [\"Rectifier\", \"Tanh\", \"Maxout\"]\n",
    "# }\n",
    "\n",
    "# random_search = H2ORandomGridSearch(\n",
    "#     H2ODeepLearningEstimator(seed=42),\n",
    "#     hyper_params=hyper_params,\n",
    "#     max_models=20  # Limit the number of models\n",
    "# )\n",
    "\n",
    "# # Train models with random search\n",
    "# random_search.train(x=features, y=target, training_frame=train_h2o, validation_frame=val_h2o)\n",
    "\n",
    "# # Get the best model from the random search\n",
    "# best_random_model = random_search.get_grid(sort_by=\"rmse\", decreasing=False).models[0]\n",
    "# print(\"Best Random Search Model:\")\n",
    "# print(best_random_model)\n",
    "\n",
    "# # Evaluate the best random search model\n",
    "# performance = best_random_model.model_performance(test_h2o)\n",
    "# print(\"Best Random Search Model Performance:\")\n",
    "# print(performance)\n"
   ]
  },
  {
   "cell_type": "code",
   "execution_count": null,
   "metadata": {},
   "outputs": [],
   "source": [
    "# # Early Stopping with Default Parameters\n",
    "# model_with_early_stopping = h2o.estimators.H2ODeepLearningEstimator(\n",
    "#     stopping_metric=\"rmse\",\n",
    "#     stopping_rounds=5,   # Stop if no improvement in 5 rounds\n",
    "#     stopping_tolerance=0.01,\n",
    "#     epochs=200,\n",
    "#     seed=42\n",
    "# )\n",
    "\n",
    "# # Train the model\n",
    "# model_with_early_stopping.train(x=features, y=target, training_frame=train_h2o, validation_frame=val_h2o)\n",
    "\n",
    "# # Evaluate the model\n",
    "# performance = model_with_early_stopping.model_performance(test_h2o)\n",
    "# print(\"Model Performance with Early Stopping:\")\n",
    "# print(performance)\n"
   ]
  },
  {
   "cell_type": "code",
   "execution_count": null,
   "metadata": {},
   "outputs": [],
   "source": [
    "# # Train Multiple Models for Ensembling\n",
    "# models = []\n",
    "# for hidden in [[50, 50], [100, 100], [200, 200]]:\n",
    "#     model = h2o.estimators.H2ODeepLearningEstimator(\n",
    "#         hidden=hidden,\n",
    "#         epochs=100,\n",
    "#         seed=42\n",
    "#     )\n",
    "#     model.train(x=features, y=target, training_frame=train_h2o, validation_frame=val_h2o)\n",
    "#     models.append(model)\n",
    "\n",
    "# # Ensemble Predictions (Averaging)\n",
    "# predictions = [model.predict(test_h2o).as_data_frame().to_numpy().ravel() for model in models]\n",
    "# ensemble_prediction = sum(predictions) / len(predictions)\n",
    "\n",
    "# # Evaluate Ensemble\n",
    "# from sklearn.metrics import root_mean_squared_error \n",
    "# rmse_ensemble = root_mean_squared_error(y_test.to_numpy().ravel(), ensemble_prediction, squared=False)\n",
    "# print(f\"RMSE for Ensemble: {rmse_ensemble:.2f}\")\n"
   ]
  }
 ],
 "metadata": {
  "kernelspec": {
   "display_name": "venv",
   "language": "python",
   "name": "python3"
  },
  "language_info": {
   "codemirror_mode": {
    "name": "ipython",
    "version": 3
   },
   "file_extension": ".py",
   "mimetype": "text/x-python",
   "name": "python",
   "nbconvert_exporter": "python",
   "pygments_lexer": "ipython3",
   "version": "3.8.0"
  }
 },
 "nbformat": 4,
 "nbformat_minor": 2
}
