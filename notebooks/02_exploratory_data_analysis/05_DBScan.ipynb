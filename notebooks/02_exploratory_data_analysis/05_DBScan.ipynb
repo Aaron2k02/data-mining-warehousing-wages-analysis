{
 "cells": [
  {
   "cell_type": "code",
   "execution_count": 5,
   "metadata": {},
   "outputs": [],
   "source": [
    "import pandas as pd;\n",
    "import numpy as np;\n",
    "from sklearn.metrics import silhouette_samples as ss\n",
    "from sklearn.preprocessing import OneHotEncoder, StandardScaler\n",
    "import itertools \n",
    "from sklearn.compose import ColumnTransformer\n",
    "from sklearn.cluster import DBSCAN"
   ]
  },
  {
   "cell_type": "code",
   "execution_count": 6,
   "metadata": {},
   "outputs": [],
   "source": [
    "# Load dataset (replace with your actual data loading method)\n",
    "survey_df = pd.read_csv(\"../../data/final_survey_table.csv\", low_memory=False)"
   ]
  },
  {
   "cell_type": "code",
   "execution_count": 7,
   "metadata": {},
   "outputs": [
    {
     "name": "stdout",
     "output_type": "stream",
     "text": [
      "<class 'pandas.core.frame.DataFrame'>\n",
      "RangeIndex: 7799 entries, 0 to 7798\n",
      "Data columns (total 16 columns):\n",
      " #   Column                                                                                                                             Non-Null Count  Dtype \n",
      "---  ------                                                                                                                             --------------  ----- \n",
      " 0   What is your age (# years)?                                                                                                        7799 non-null   object\n",
      " 1   What is your gender?                                                                                                               7799 non-null   object\n",
      " 2   In which country do you currently reside?                                                                                          7799 non-null   object\n",
      " 3   What is the highest level of formal education that you have attained or plan to attain within the next 2 years?                    7799 non-null   object\n",
      " 4   Select the title most similar to your current role (or most recent title if retired)                                               7799 non-null   object\n",
      " 5   What is the size of the company where you are employed?                                                                            7799 non-null   object\n",
      " 6   Approximately how many individuals are responsible for data science workloads at your place of business?                           7799 non-null   object\n",
      " 7   Does your current employer incorporate machine learning methods into their business?                                               7799 non-null   object\n",
      " 8   What is your current yearly compensation (approximate $USD)?                                                                       7799 non-null   object\n",
      " 9   Approximately how much money have you spent on machine learning and/or cloud computing products at your work in the past 5 years?  7799 non-null   object\n",
      " 10  What is the primary tool that you use at work or school to analyze data?                                                           7799 non-null   object\n",
      " 11  How long have you been writing code to analyze data (at work or at school)?                                                        7799 non-null   object\n",
      " 12  What programming language would you recommend an aspiring data scientist to learn first?                                           7799 non-null   object\n",
      " 13  Have you ever used a TPU (tensor processing unit)?                                                                                 7799 non-null   object\n",
      " 14  For how many years have you used machine learning methods?                                                                         7799 non-null   object\n",
      " 15  income_category                                                                                                                    7799 non-null   object\n",
      "dtypes: object(16)\n",
      "memory usage: 975.0+ KB\n"
     ]
    }
   ],
   "source": [
    "survey_df.info()"
   ]
  },
  {
   "cell_type": "code",
   "execution_count": 8,
   "metadata": {},
   "outputs": [],
   "source": [
    "# Select only the desired columns\n",
    "eda_features = [\"In which country do you currently reside?\", \"What is your age (# years)?\"]\n",
    "\n",
    "# Extract the relevant data\n",
    "eda_df = survey_df[eda_features]"
   ]
  },
  {
   "cell_type": "code",
   "execution_count": 9,
   "metadata": {},
   "outputs": [],
   "source": [
    "# Create column transformer \n",
    "\n",
    "cat_transformer = OneHotEncoder(handle_unknown=\"ignore\")\n",
    "\n",
    "preprocessor = ColumnTransformer(\n",
    "    transformers=[\n",
    "        (\"OneHotEncoder\", cat_transformer, eda_features)\n",
    "    ]\n",
    ")\n"
   ]
  },
  {
   "cell_type": "code",
   "execution_count": 10,
   "metadata": {},
   "outputs": [
    {
     "data": {
      "text/plain": [
       "<7799x70 sparse matrix of type '<class 'numpy.float64'>'\n",
       "\twith 15598 stored elements in Compressed Sparse Row format>"
      ]
     },
     "execution_count": 10,
     "metadata": {},
     "output_type": "execute_result"
    }
   ],
   "source": [
    "# Transform the features\n",
    "X = preprocessor.fit_transform(eda_df)\n",
    "X"
   ]
  },
  {
   "cell_type": "code",
   "execution_count": 11,
   "metadata": {},
   "outputs": [
    {
     "data": {
      "text/plain": [
       "0       T20\n",
       "1       B40\n",
       "2       M40\n",
       "3       T20\n",
       "4       B40\n",
       "       ... \n",
       "7794    B40\n",
       "7795    M40\n",
       "7796    M40\n",
       "7797    T20\n",
       "7798    T20\n",
       "Name: income_category, Length: 7799, dtype: object"
      ]
     },
     "execution_count": 11,
     "metadata": {},
     "output_type": "execute_result"
    }
   ],
   "source": [
    "# Prepare the target variable for later evaluation\n",
    "y = survey_df['income_category']\n",
    "y"
   ]
  },
  {
   "cell_type": "code",
   "execution_count": 12,
   "metadata": {},
   "outputs": [
    {
     "data": {
      "text/plain": [
       "array([0.01      , 0.08071429, 0.15142857, 0.22214286, 0.29285714,\n",
       "       0.36357143, 0.43428571, 0.505     , 0.57571429, 0.64642857,\n",
       "       0.71714286, 0.78785714, 0.85857143, 0.92928571, 1.        ])"
      ]
     },
     "execution_count": 12,
     "metadata": {},
     "output_type": "execute_result"
    }
   ],
   "source": [
    "## Grid search to find the best parameters for DBSCAN\n",
    "epsilons = np.linspace(0.01, 1, num=15)\n",
    "epsilons"
   ]
  },
  {
   "cell_type": "code",
   "execution_count": 13,
   "metadata": {},
   "outputs": [
    {
     "data": {
      "text/plain": [
       "array([ 2,  5,  8, 11, 14, 17])"
      ]
     },
     "execution_count": 13,
     "metadata": {},
     "output_type": "execute_result"
    }
   ],
   "source": [
    "min_samples = np.arange(2, 20, step = 3)\n",
    "min_samples"
   ]
  },
  {
   "cell_type": "code",
   "execution_count": 14,
   "metadata": {},
   "outputs": [
    {
     "data": {
      "text/plain": [
       "[(0.01, 2),\n",
       " (0.01, 5),\n",
       " (0.01, 8),\n",
       " (0.01, 11),\n",
       " (0.01, 14),\n",
       " (0.01, 17),\n",
       " (0.08071428571428571, 2),\n",
       " (0.08071428571428571, 5),\n",
       " (0.08071428571428571, 8),\n",
       " (0.08071428571428571, 11),\n",
       " (0.08071428571428571, 14),\n",
       " (0.08071428571428571, 17),\n",
       " (0.15142857142857144, 2),\n",
       " (0.15142857142857144, 5),\n",
       " (0.15142857142857144, 8),\n",
       " (0.15142857142857144, 11),\n",
       " (0.15142857142857144, 14),\n",
       " (0.15142857142857144, 17),\n",
       " (0.22214285714285714, 2),\n",
       " (0.22214285714285714, 5),\n",
       " (0.22214285714285714, 8),\n",
       " (0.22214285714285714, 11),\n",
       " (0.22214285714285714, 14),\n",
       " (0.22214285714285714, 17),\n",
       " (0.29285714285714287, 2),\n",
       " (0.29285714285714287, 5),\n",
       " (0.29285714285714287, 8),\n",
       " (0.29285714285714287, 11),\n",
       " (0.29285714285714287, 14),\n",
       " (0.29285714285714287, 17),\n",
       " (0.3635714285714286, 2),\n",
       " (0.3635714285714286, 5),\n",
       " (0.3635714285714286, 8),\n",
       " (0.3635714285714286, 11),\n",
       " (0.3635714285714286, 14),\n",
       " (0.3635714285714286, 17),\n",
       " (0.4342857142857143, 2),\n",
       " (0.4342857142857143, 5),\n",
       " (0.4342857142857143, 8),\n",
       " (0.4342857142857143, 11),\n",
       " (0.4342857142857143, 14),\n",
       " (0.4342857142857143, 17),\n",
       " (0.505, 2),\n",
       " (0.505, 5),\n",
       " (0.505, 8),\n",
       " (0.505, 11),\n",
       " (0.505, 14),\n",
       " (0.505, 17),\n",
       " (0.5757142857142857, 2),\n",
       " (0.5757142857142857, 5),\n",
       " (0.5757142857142857, 8),\n",
       " (0.5757142857142857, 11),\n",
       " (0.5757142857142857, 14),\n",
       " (0.5757142857142857, 17),\n",
       " (0.6464285714285715, 2),\n",
       " (0.6464285714285715, 5),\n",
       " (0.6464285714285715, 8),\n",
       " (0.6464285714285715, 11),\n",
       " (0.6464285714285715, 14),\n",
       " (0.6464285714285715, 17),\n",
       " (0.7171428571428572, 2),\n",
       " (0.7171428571428572, 5),\n",
       " (0.7171428571428572, 8),\n",
       " (0.7171428571428572, 11),\n",
       " (0.7171428571428572, 14),\n",
       " (0.7171428571428572, 17),\n",
       " (0.7878571428571429, 2),\n",
       " (0.7878571428571429, 5),\n",
       " (0.7878571428571429, 8),\n",
       " (0.7878571428571429, 11),\n",
       " (0.7878571428571429, 14),\n",
       " (0.7878571428571429, 17),\n",
       " (0.8585714285714285, 2),\n",
       " (0.8585714285714285, 5),\n",
       " (0.8585714285714285, 8),\n",
       " (0.8585714285714285, 11),\n",
       " (0.8585714285714285, 14),\n",
       " (0.8585714285714285, 17),\n",
       " (0.9292857142857143, 2),\n",
       " (0.9292857142857143, 5),\n",
       " (0.9292857142857143, 8),\n",
       " (0.9292857142857143, 11),\n",
       " (0.9292857142857143, 14),\n",
       " (0.9292857142857143, 17),\n",
       " (1.0, 2),\n",
       " (1.0, 5),\n",
       " (1.0, 8),\n",
       " (1.0, 11),\n",
       " (1.0, 14),\n",
       " (1.0, 17)]"
      ]
     },
     "execution_count": 14,
     "metadata": {},
     "output_type": "execute_result"
    }
   ],
   "source": [
    "combinations = list(itertools.product(epsilons, min_samples))\n",
    "combinations"
   ]
  },
  {
   "cell_type": "code",
   "execution_count": 15,
   "metadata": {},
   "outputs": [
    {
     "data": {
      "text/plain": [
       "90"
      ]
     },
     "execution_count": 15,
     "metadata": {},
     "output_type": "execute_result"
    }
   ],
   "source": [
    "N = len(combinations)\n",
    "N"
   ]
  },
  {
   "cell_type": "code",
   "execution_count": 16,
   "metadata": {},
   "outputs": [
    {
     "name": "stdout",
     "output_type": "stream",
     "text": [
      "Combination (0.01, 2) on iteration 1 of 90 has -1 clusters. Moving on\n",
      "Combination (0.01, 5) on iteration 2 of 90 has -1 clusters. Moving on\n",
      "Combination (0.01, 8) on iteration 3 of 90 has -1 clusters. Moving on\n",
      "Combination (0.01, 11) on iteration 4 of 90 has -1 clusters. Moving on\n",
      "Combination (0.01, 14) on iteration 5 of 90 has -1 clusters. Moving on\n",
      "Combination (0.01, 17) on iteration 6 of 90 has -1 clusters. Moving on\n",
      "Combination (0.08071428571428571, 2) on iteration 7 of 90 has -1 clusters. Moving on\n",
      "Combination (0.08071428571428571, 5) on iteration 8 of 90 has -1 clusters. Moving on\n",
      "Combination (0.08071428571428571, 8) on iteration 9 of 90 has -1 clusters. Moving on\n",
      "Combination (0.08071428571428571, 11) on iteration 10 of 90 has -1 clusters. Moving on\n",
      "Combination (0.08071428571428571, 14) on iteration 11 of 90 has -1 clusters. Moving on\n",
      "Combination (0.08071428571428571, 17) on iteration 12 of 90 has -1 clusters. Moving on\n",
      "Combination (0.15142857142857144, 2) on iteration 13 of 90 has -1 clusters. Moving on\n",
      "Combination (0.15142857142857144, 5) on iteration 14 of 90 has -1 clusters. Moving on\n",
      "Combination (0.15142857142857144, 8) on iteration 15 of 90 has -1 clusters. Moving on\n",
      "Combination (0.15142857142857144, 11) on iteration 16 of 90 has -1 clusters. Moving on\n",
      "Combination (0.15142857142857144, 14) on iteration 17 of 90 has -1 clusters. Moving on\n",
      "Combination (0.15142857142857144, 17) on iteration 18 of 90 has -1 clusters. Moving on\n",
      "Combination (0.22214285714285714, 2) on iteration 19 of 90 has -1 clusters. Moving on\n",
      "Combination (0.22214285714285714, 5) on iteration 20 of 90 has -1 clusters. Moving on\n",
      "Combination (0.22214285714285714, 8) on iteration 21 of 90 has -1 clusters. Moving on\n",
      "Combination (0.22214285714285714, 11) on iteration 22 of 90 has -1 clusters. Moving on\n",
      "Combination (0.22214285714285714, 14) on iteration 23 of 90 has -1 clusters. Moving on\n",
      "Combination (0.22214285714285714, 17) on iteration 24 of 90 has -1 clusters. Moving on\n",
      "Combination (0.29285714285714287, 2) on iteration 25 of 90 has -1 clusters. Moving on\n",
      "Combination (0.29285714285714287, 5) on iteration 26 of 90 has -1 clusters. Moving on\n",
      "Combination (0.29285714285714287, 8) on iteration 27 of 90 has -1 clusters. Moving on\n",
      "Combination (0.29285714285714287, 11) on iteration 28 of 90 has -1 clusters. Moving on\n",
      "Combination (0.29285714285714287, 14) on iteration 29 of 90 has -1 clusters. Moving on\n",
      "Combination (0.29285714285714287, 17) on iteration 30 of 90 has -1 clusters. Moving on\n",
      "Combination (0.3635714285714286, 2) on iteration 31 of 90 has -1 clusters. Moving on\n",
      "Combination (0.3635714285714286, 5) on iteration 32 of 90 has -1 clusters. Moving on\n",
      "Combination (0.3635714285714286, 8) on iteration 33 of 90 has -1 clusters. Moving on\n",
      "Combination (0.3635714285714286, 11) on iteration 34 of 90 has -1 clusters. Moving on\n",
      "Combination (0.3635714285714286, 14) on iteration 35 of 90 has -1 clusters. Moving on\n",
      "Combination (0.3635714285714286, 17) on iteration 36 of 90 has -1 clusters. Moving on\n",
      "Combination (0.4342857142857143, 2) on iteration 37 of 90 has -1 clusters. Moving on\n",
      "Combination (0.4342857142857143, 5) on iteration 38 of 90 has -1 clusters. Moving on\n",
      "Combination (0.4342857142857143, 8) on iteration 39 of 90 has -1 clusters. Moving on\n",
      "Combination (0.4342857142857143, 11) on iteration 40 of 90 has -1 clusters. Moving on\n",
      "Combination (0.4342857142857143, 14) on iteration 41 of 90 has -1 clusters. Moving on\n",
      "Combination (0.4342857142857143, 17) on iteration 42 of 90 has -1 clusters. Moving on\n",
      "Combination (0.505, 2) on iteration 43 of 90 has -1 clusters. Moving on\n",
      "Combination (0.505, 5) on iteration 44 of 90 has -1 clusters. Moving on\n",
      "Combination (0.505, 8) on iteration 45 of 90 has -1 clusters. Moving on\n",
      "Combination (0.505, 11) on iteration 46 of 90 has -1 clusters. Moving on\n",
      "Combination (0.505, 14) on iteration 47 of 90 has -1 clusters. Moving on\n",
      "Combination (0.505, 17) on iteration 48 of 90 has -1 clusters. Moving on\n",
      "Combination (0.5757142857142857, 2) on iteration 49 of 90 has -1 clusters. Moving on\n",
      "Combination (0.5757142857142857, 5) on iteration 50 of 90 has -1 clusters. Moving on\n",
      "Combination (0.5757142857142857, 8) on iteration 51 of 90 has -1 clusters. Moving on\n",
      "Combination (0.5757142857142857, 11) on iteration 52 of 90 has -1 clusters. Moving on\n",
      "Combination (0.5757142857142857, 14) on iteration 53 of 90 has -1 clusters. Moving on\n",
      "Combination (0.5757142857142857, 17) on iteration 54 of 90 has -1 clusters. Moving on\n",
      "Combination (0.6464285714285715, 2) on iteration 55 of 90 has -1 clusters. Moving on\n",
      "Combination (0.6464285714285715, 5) on iteration 56 of 90 has -1 clusters. Moving on\n",
      "Combination (0.6464285714285715, 8) on iteration 57 of 90 has -1 clusters. Moving on\n",
      "Combination (0.6464285714285715, 11) on iteration 58 of 90 has -1 clusters. Moving on\n",
      "Combination (0.6464285714285715, 14) on iteration 59 of 90 has -1 clusters. Moving on\n",
      "Combination (0.6464285714285715, 17) on iteration 60 of 90 has -1 clusters. Moving on\n",
      "Combination (0.7171428571428572, 2) on iteration 61 of 90 has -1 clusters. Moving on\n",
      "Combination (0.7171428571428572, 5) on iteration 62 of 90 has -1 clusters. Moving on\n",
      "Combination (0.7171428571428572, 8) on iteration 63 of 90 has -1 clusters. Moving on\n",
      "Combination (0.7171428571428572, 11) on iteration 64 of 90 has -1 clusters. Moving on\n",
      "Combination (0.7171428571428572, 14) on iteration 65 of 90 has -1 clusters. Moving on\n",
      "Combination (0.7171428571428572, 17) on iteration 66 of 90 has -1 clusters. Moving on\n",
      "Combination (0.7878571428571429, 2) on iteration 67 of 90 has -1 clusters. Moving on\n",
      "Combination (0.7878571428571429, 5) on iteration 68 of 90 has -1 clusters. Moving on\n",
      "Combination (0.7878571428571429, 8) on iteration 69 of 90 has -1 clusters. Moving on\n",
      "Combination (0.7878571428571429, 11) on iteration 70 of 90 has -1 clusters. Moving on\n",
      "Combination (0.7878571428571429, 14) on iteration 71 of 90 has -1 clusters. Moving on\n",
      "Combination (0.7878571428571429, 17) on iteration 72 of 90 has -1 clusters. Moving on\n",
      "Combination (0.8585714285714285, 2) on iteration 73 of 90 has -1 clusters. Moving on\n",
      "Combination (0.8585714285714285, 5) on iteration 74 of 90 has -1 clusters. Moving on\n",
      "Combination (0.8585714285714285, 8) on iteration 75 of 90 has -1 clusters. Moving on\n",
      "Combination (0.8585714285714285, 11) on iteration 76 of 90 has -1 clusters. Moving on\n",
      "Combination (0.8585714285714285, 14) on iteration 77 of 90 has -1 clusters. Moving on\n",
      "Combination (0.8585714285714285, 17) on iteration 78 of 90 has -1 clusters. Moving on\n",
      "Combination (0.9292857142857143, 2) on iteration 79 of 90 has -1 clusters. Moving on\n",
      "Combination (0.9292857142857143, 5) on iteration 80 of 90 has -1 clusters. Moving on\n",
      "Combination (0.9292857142857143, 8) on iteration 81 of 90 has -1 clusters. Moving on\n",
      "Combination (0.9292857142857143, 11) on iteration 82 of 90 has -1 clusters. Moving on\n",
      "Combination (0.9292857142857143, 14) on iteration 83 of 90 has -1 clusters. Moving on\n",
      "Combination (0.9292857142857143, 17) on iteration 84 of 90 has -1 clusters. Moving on\n",
      "Combination (1.0, 2) on iteration 85 of 90 has -1 clusters. Moving on\n",
      "Combination (1.0, 5) on iteration 86 of 90 has -1 clusters. Moving on\n",
      "Combination (1.0, 8) on iteration 87 of 90 has -1 clusters. Moving on\n",
      "Combination (1.0, 11) on iteration 88 of 90 has -1 clusters. Moving on\n",
      "Combination (1.0, 14) on iteration 89 of 90 has -1 clusters. Moving on\n",
      "Combination (1.0, 17) on iteration 90 of 90 has -1 clusters. Moving on\n"
     ]
    }
   ],
   "source": [
    "def get_scores_and_labels(combinations, X): \n",
    "    scores = []\n",
    "    all_labels_list = []\n",
    "    \n",
    "    for i, (eps, num_samples) in enumerate(combinations):\n",
    "        dbscan_cluster_model = DBSCAN(eps=eps, min_samples=num_samples).fit(X)\n",
    "        labels = dbscan_cluster_model.labels_\n",
    "        labels_set = set(labels)\n",
    "        num_clusters = len(labels_set)\n",
    "        if -1 in labels_set: \n",
    "            num_clusters = -1\n",
    "            \n",
    "        if (num_clusters < 2) or (num_clusters > 50):\n",
    "            scores.append(-10)\n",
    "            all_labels_list.append('bad')\n",
    "            c = (eps, num_samples)\n",
    "            print(f\"Combination {c} on iteration {i+1} of {N} has {num_clusters} clusters. Moving on\")\n",
    "            continue\n",
    "        \n",
    "        scores.append(ss(X, labels))\n",
    "        all_labels_list.append(labels)\n",
    "        print(f\"Index: {i}, Score {scores[-1]}, labels: {all_labels_list[-1]}, NumClusters: {num_clusters}\")\n",
    "        \n",
    "    best_index = np.argmax(scores)\n",
    "    best_parameters = combinations[best_index]\n",
    "    best_labels = all_labels_list[best_index]\n",
    "    best_score = scores[best_index]\n",
    "    \n",
    "    return {\n",
    "        \"best_epsilon\": best_parameters[0],\n",
    "        \"best_min_samples\": best_parameters[1],\n",
    "        \"best_labels\": best_labels,\n",
    "        \"best_score\": best_score\n",
    "    }\n",
    "    \n",
    "best_dict = get_scores_and_labels(combinations, X)"
   ]
  },
  {
   "cell_type": "code",
   "execution_count": 18,
   "metadata": {},
   "outputs": [
    {
     "name": "stdout",
     "output_type": "stream",
     "text": [
      "[0.40644973 1.24981823 2.06428413 2.92668506 3.99734543]\n",
      "Combination (0.05, 2) on iteration 1 of 90 has -1 clusters. Moving on\n",
      "Combination (0.05, 5) on iteration 2 of 90 has -1 clusters. Moving on\n",
      "Combination (0.05, 8) on iteration 3 of 90 has -1 clusters. Moving on\n",
      "Combination (0.05, 11) on iteration 4 of 90 has -1 clusters. Moving on\n",
      "Combination (0.05, 14) on iteration 5 of 90 has -1 clusters. Moving on\n",
      "Combination (0.05, 17) on iteration 6 of 90 has -1 clusters. Moving on\n",
      "Combination (0.12631578947368421, 2) on iteration 7 of 90 has -1 clusters. Moving on\n",
      "Combination (0.12631578947368421, 5) on iteration 8 of 90 has -1 clusters. Moving on\n",
      "Combination (0.12631578947368421, 8) on iteration 9 of 90 has -1 clusters. Moving on\n",
      "Combination (0.12631578947368421, 11) on iteration 10 of 90 has -1 clusters. Moving on\n",
      "Combination (0.12631578947368421, 14) on iteration 11 of 90 has -1 clusters. Moving on\n",
      "Combination (0.12631578947368421, 17) on iteration 12 of 90 has -1 clusters. Moving on\n",
      "Combination (0.20263157894736844, 2) on iteration 13 of 90 has -1 clusters. Moving on\n",
      "Combination (0.20263157894736844, 5) on iteration 14 of 90 has -1 clusters. Moving on\n",
      "Combination (0.20263157894736844, 8) on iteration 15 of 90 has -1 clusters. Moving on\n",
      "Combination (0.20263157894736844, 11) on iteration 16 of 90 has -1 clusters. Moving on\n",
      "Combination (0.20263157894736844, 14) on iteration 17 of 90 has -1 clusters. Moving on\n",
      "Combination (0.20263157894736844, 17) on iteration 18 of 90 has -1 clusters. Moving on\n",
      "Combination (0.2789473684210526, 2) on iteration 19 of 90 has -1 clusters. Moving on\n",
      "Combination (0.2789473684210526, 5) on iteration 20 of 90 has -1 clusters. Moving on\n",
      "Combination (0.2789473684210526, 8) on iteration 21 of 90 has -1 clusters. Moving on\n",
      "Combination (0.2789473684210526, 11) on iteration 22 of 90 has -1 clusters. Moving on\n",
      "Combination (0.2789473684210526, 14) on iteration 23 of 90 has -1 clusters. Moving on\n",
      "Combination (0.2789473684210526, 17) on iteration 24 of 90 has -1 clusters. Moving on\n",
      "Combination (0.35526315789473684, 2) on iteration 25 of 90 has -1 clusters. Moving on\n",
      "Combination (0.35526315789473684, 5) on iteration 26 of 90 has -1 clusters. Moving on\n",
      "Combination (0.35526315789473684, 8) on iteration 27 of 90 has -1 clusters. Moving on\n",
      "Combination (0.35526315789473684, 11) on iteration 28 of 90 has -1 clusters. Moving on\n",
      "Combination (0.35526315789473684, 14) on iteration 29 of 90 has -1 clusters. Moving on\n",
      "Combination (0.35526315789473684, 17) on iteration 30 of 90 has -1 clusters. Moving on\n",
      "Index: 30, Score [ 0.02750796 -0.41355916 -0.41355916 ... -0.67576501 -0.49086914\n",
      "  0.09467212], labels: [0 0 0 ... 0 0 0], NumClusters: 8\n",
      "Index: 31, Score [ 0.02750796 -0.41355916 -0.41355916 ... -0.67576501 -0.49086914\n",
      "  0.09467212], labels: [0 0 0 ... 0 0 0], NumClusters: 8\n",
      "Combination (0.43157894736842106, 8) on iteration 33 of 90 has -1 clusters. Moving on\n",
      "Combination (0.43157894736842106, 11) on iteration 34 of 90 has -1 clusters. Moving on\n",
      "Combination (0.43157894736842106, 14) on iteration 35 of 90 has -1 clusters. Moving on\n",
      "Combination (0.43157894736842106, 17) on iteration 36 of 90 has -1 clusters. Moving on\n",
      "Index: 36, Score [ 0.46397745 -0.40921989 -0.40921989 ... -0.5419222  -0.27077005\n",
      "  0.49828683], labels: [0 0 0 ... 0 0 0], NumClusters: 5\n",
      "Index: 37, Score [ 0.46397745 -0.40921989 -0.40921989 ... -0.5419222  -0.27077005\n",
      "  0.49828683], labels: [0 0 0 ... 0 0 0], NumClusters: 5\n",
      "Combination (0.5078947368421053, 8) on iteration 39 of 90 has -1 clusters. Moving on\n",
      "Combination (0.5078947368421053, 11) on iteration 40 of 90 has -1 clusters. Moving on\n",
      "Combination (0.5078947368421053, 14) on iteration 41 of 90 has -1 clusters. Moving on\n",
      "Combination (0.5078947368421053, 17) on iteration 42 of 90 has -1 clusters. Moving on\n",
      "Index: 42, Score [ 0.49530141 -0.40921989 -0.40921989 ... -0.47396193 -0.09324967\n",
      "  0.49828683], labels: [0 0 0 ... 0 0 0], NumClusters: 4\n",
      "Index: 43, Score [ 0.49530141 -0.40921989 -0.40921989 ... -0.47396193 -0.09324967\n",
      "  0.49828683], labels: [0 0 0 ... 0 0 0], NumClusters: 4\n",
      "Combination (0.5842105263157895, 8) on iteration 45 of 90 has -1 clusters. Moving on\n",
      "Combination (0.5842105263157895, 11) on iteration 46 of 90 has -1 clusters. Moving on\n",
      "Combination (0.5842105263157895, 14) on iteration 47 of 90 has -1 clusters. Moving on\n",
      "Combination (0.5842105263157895, 17) on iteration 48 of 90 has -1 clusters. Moving on\n",
      "Index: 48, Score [ 0.49530141 -0.40921989 -0.40921989 ... -0.47396193 -0.09324967\n",
      "  0.49828683], labels: [0 0 0 ... 0 0 0], NumClusters: 4\n",
      "Index: 49, Score [ 0.49530141 -0.40921989 -0.40921989 ... -0.47396193 -0.09324967\n",
      "  0.49828683], labels: [0 0 0 ... 0 0 0], NumClusters: 4\n",
      "Combination (0.6605263157894737, 8) on iteration 51 of 90 has -1 clusters. Moving on\n",
      "Combination (0.6605263157894737, 11) on iteration 52 of 90 has -1 clusters. Moving on\n",
      "Combination (0.6605263157894737, 14) on iteration 53 of 90 has -1 clusters. Moving on\n",
      "Combination (0.6605263157894737, 17) on iteration 54 of 90 has -1 clusters. Moving on\n",
      "Index: 54, Score [ 0.49530141 -0.40921989 -0.40921989 ... -0.47396193 -0.09324967\n",
      "  0.49828683], labels: [0 0 0 ... 0 0 0], NumClusters: 4\n",
      "Index: 55, Score [ 0.49530141 -0.40921989 -0.40921989 ... -0.47396193 -0.09324967\n",
      "  0.49828683], labels: [0 0 0 ... 0 0 0], NumClusters: 4\n",
      "Combination (0.736842105263158, 8) on iteration 57 of 90 has -1 clusters. Moving on\n",
      "Combination (0.736842105263158, 11) on iteration 58 of 90 has -1 clusters. Moving on\n",
      "Combination (0.736842105263158, 14) on iteration 59 of 90 has -1 clusters. Moving on\n",
      "Combination (0.736842105263158, 17) on iteration 60 of 90 has -1 clusters. Moving on\n",
      "Index: 60, Score [ 0.49530141 -0.40921989 -0.40921989 ... -0.47396193 -0.09324967\n",
      "  0.49828683], labels: [0 0 0 ... 0 0 0], NumClusters: 4\n",
      "Index: 61, Score [ 0.49530141 -0.40921989 -0.40921989 ... -0.47396193 -0.09324967\n",
      "  0.49828683], labels: [0 0 0 ... 0 0 0], NumClusters: 4\n",
      "Combination (0.8131578947368422, 8) on iteration 63 of 90 has -1 clusters. Moving on\n",
      "Combination (0.8131578947368422, 11) on iteration 64 of 90 has -1 clusters. Moving on\n",
      "Combination (0.8131578947368422, 14) on iteration 65 of 90 has -1 clusters. Moving on\n",
      "Combination (0.8131578947368422, 17) on iteration 66 of 90 has -1 clusters. Moving on\n",
      "Combination (0.8894736842105264, 2) on iteration 67 of 90 has 1 clusters. Moving on\n",
      "Combination (0.8894736842105264, 5) on iteration 68 of 90 has 1 clusters. Moving on\n",
      "Combination (0.8894736842105264, 8) on iteration 69 of 90 has 1 clusters. Moving on\n",
      "Combination (0.8894736842105264, 11) on iteration 70 of 90 has 1 clusters. Moving on\n",
      "Combination (0.8894736842105264, 14) on iteration 71 of 90 has 1 clusters. Moving on\n",
      "Combination (0.8894736842105264, 17) on iteration 72 of 90 has 1 clusters. Moving on\n",
      "Combination (0.9657894736842105, 2) on iteration 73 of 90 has 1 clusters. Moving on\n",
      "Combination (0.9657894736842105, 5) on iteration 74 of 90 has 1 clusters. Moving on\n",
      "Combination (0.9657894736842105, 8) on iteration 75 of 90 has 1 clusters. Moving on\n",
      "Combination (0.9657894736842105, 11) on iteration 76 of 90 has 1 clusters. Moving on\n",
      "Combination (0.9657894736842105, 14) on iteration 77 of 90 has 1 clusters. Moving on\n",
      "Combination (0.9657894736842105, 17) on iteration 78 of 90 has 1 clusters. Moving on\n",
      "Combination (1.0421052631578946, 2) on iteration 79 of 90 has 1 clusters. Moving on\n",
      "Combination (1.0421052631578946, 5) on iteration 80 of 90 has 1 clusters. Moving on\n",
      "Combination (1.0421052631578946, 8) on iteration 81 of 90 has 1 clusters. Moving on\n",
      "Combination (1.0421052631578946, 11) on iteration 82 of 90 has 1 clusters. Moving on\n",
      "Combination (1.0421052631578946, 14) on iteration 83 of 90 has 1 clusters. Moving on\n",
      "Combination (1.0421052631578946, 17) on iteration 84 of 90 has 1 clusters. Moving on\n",
      "Combination (1.118421052631579, 2) on iteration 85 of 90 has 1 clusters. Moving on\n",
      "Combination (1.118421052631579, 5) on iteration 86 of 90 has 1 clusters. Moving on\n",
      "Combination (1.118421052631579, 8) on iteration 87 of 90 has 1 clusters. Moving on\n",
      "Combination (1.118421052631579, 11) on iteration 88 of 90 has 1 clusters. Moving on\n",
      "Combination (1.118421052631579, 14) on iteration 89 of 90 has 1 clusters. Moving on\n",
      "Combination (1.118421052631579, 17) on iteration 90 of 90 has 1 clusters. Moving on\n",
      "Combination (1.1947368421052633, 2) on iteration 91 of 90 has 1 clusters. Moving on\n",
      "Combination (1.1947368421052633, 5) on iteration 92 of 90 has 1 clusters. Moving on\n",
      "Combination (1.1947368421052633, 8) on iteration 93 of 90 has 1 clusters. Moving on\n",
      "Combination (1.1947368421052633, 11) on iteration 94 of 90 has 1 clusters. Moving on\n",
      "Combination (1.1947368421052633, 14) on iteration 95 of 90 has 1 clusters. Moving on\n",
      "Combination (1.1947368421052633, 17) on iteration 96 of 90 has 1 clusters. Moving on\n",
      "Combination (1.2710526315789474, 2) on iteration 97 of 90 has 1 clusters. Moving on\n",
      "Combination (1.2710526315789474, 5) on iteration 98 of 90 has 1 clusters. Moving on\n",
      "Combination (1.2710526315789474, 8) on iteration 99 of 90 has 1 clusters. Moving on\n",
      "Combination (1.2710526315789474, 11) on iteration 100 of 90 has 1 clusters. Moving on\n",
      "Combination (1.2710526315789474, 14) on iteration 101 of 90 has 1 clusters. Moving on\n",
      "Combination (1.2710526315789474, 17) on iteration 102 of 90 has 1 clusters. Moving on\n",
      "Combination (1.3473684210526315, 2) on iteration 103 of 90 has 1 clusters. Moving on\n",
      "Combination (1.3473684210526315, 5) on iteration 104 of 90 has 1 clusters. Moving on\n",
      "Combination (1.3473684210526315, 8) on iteration 105 of 90 has 1 clusters. Moving on\n",
      "Combination (1.3473684210526315, 11) on iteration 106 of 90 has 1 clusters. Moving on\n",
      "Combination (1.3473684210526315, 14) on iteration 107 of 90 has 1 clusters. Moving on\n",
      "Combination (1.3473684210526315, 17) on iteration 108 of 90 has 1 clusters. Moving on\n",
      "Combination (1.4236842105263159, 2) on iteration 109 of 90 has 1 clusters. Moving on\n",
      "Combination (1.4236842105263159, 5) on iteration 110 of 90 has 1 clusters. Moving on\n",
      "Combination (1.4236842105263159, 8) on iteration 111 of 90 has 1 clusters. Moving on\n",
      "Combination (1.4236842105263159, 11) on iteration 112 of 90 has 1 clusters. Moving on\n",
      "Combination (1.4236842105263159, 14) on iteration 113 of 90 has 1 clusters. Moving on\n",
      "Combination (1.4236842105263159, 17) on iteration 114 of 90 has 1 clusters. Moving on\n",
      "Combination (1.5, 2) on iteration 115 of 90 has 1 clusters. Moving on\n",
      "Combination (1.5, 5) on iteration 116 of 90 has 1 clusters. Moving on\n",
      "Combination (1.5, 8) on iteration 117 of 90 has 1 clusters. Moving on\n",
      "Combination (1.5, 11) on iteration 118 of 90 has 1 clusters. Moving on\n",
      "Combination (1.5, 14) on iteration 119 of 90 has 1 clusters. Moving on\n",
      "Combination (1.5, 17) on iteration 120 of 90 has 1 clusters. Moving on\n"
     ]
    },
    {
     "ename": "ValueError",
     "evalue": "setting an array element with a sequence. The requested array has an inhomogeneous shape after 1 dimensions. The detected shape was (120,) + inhomogeneous part.",
     "output_type": "error",
     "traceback": [
      "\u001b[1;31m---------------------------------------------------------------------------\u001b[0m",
      "\u001b[1;31mValueError\u001b[0m                                Traceback (most recent call last)",
      "Cell \u001b[1;32mIn[18], line 23\u001b[0m\n\u001b[0;32m     20\u001b[0m combinations \u001b[38;5;241m=\u001b[39m \u001b[38;5;28mlist\u001b[39m(itertools\u001b[38;5;241m.\u001b[39mproduct(epsilons, min_samples))\n\u001b[0;32m     22\u001b[0m \u001b[38;5;66;03m# Rerun DBSCAN\u001b[39;00m\n\u001b[1;32m---> 23\u001b[0m best_dict \u001b[38;5;241m=\u001b[39m \u001b[43mget_scores_and_labels\u001b[49m\u001b[43m(\u001b[49m\u001b[43mcombinations\u001b[49m\u001b[43m,\u001b[49m\u001b[43m \u001b[49m\u001b[43mX_reduced\u001b[49m\u001b[43m)\u001b[49m\n\u001b[0;32m     24\u001b[0m \u001b[38;5;28mprint\u001b[39m(\u001b[38;5;124m\"\u001b[39m\u001b[38;5;124mBest DBSCAN Parameters:\u001b[39m\u001b[38;5;124m\"\u001b[39m)\n\u001b[0;32m     25\u001b[0m \u001b[38;5;28mprint\u001b[39m(best_dict)\n",
      "Cell \u001b[1;32mIn[16], line 24\u001b[0m, in \u001b[0;36mget_scores_and_labels\u001b[1;34m(combinations, X)\u001b[0m\n\u001b[0;32m     21\u001b[0m     all_labels_list\u001b[38;5;241m.\u001b[39mappend(labels)\n\u001b[0;32m     22\u001b[0m     \u001b[38;5;28mprint\u001b[39m(\u001b[38;5;124mf\u001b[39m\u001b[38;5;124m\"\u001b[39m\u001b[38;5;124mIndex: \u001b[39m\u001b[38;5;132;01m{\u001b[39;00mi\u001b[38;5;132;01m}\u001b[39;00m\u001b[38;5;124m, Score \u001b[39m\u001b[38;5;132;01m{\u001b[39;00mscores[\u001b[38;5;241m-\u001b[39m\u001b[38;5;241m1\u001b[39m]\u001b[38;5;132;01m}\u001b[39;00m\u001b[38;5;124m, labels: \u001b[39m\u001b[38;5;132;01m{\u001b[39;00mall_labels_list[\u001b[38;5;241m-\u001b[39m\u001b[38;5;241m1\u001b[39m]\u001b[38;5;132;01m}\u001b[39;00m\u001b[38;5;124m, NumClusters: \u001b[39m\u001b[38;5;132;01m{\u001b[39;00mnum_clusters\u001b[38;5;132;01m}\u001b[39;00m\u001b[38;5;124m\"\u001b[39m)\n\u001b[1;32m---> 24\u001b[0m best_index \u001b[38;5;241m=\u001b[39m \u001b[43mnp\u001b[49m\u001b[38;5;241;43m.\u001b[39;49m\u001b[43margmax\u001b[49m\u001b[43m(\u001b[49m\u001b[43mscores\u001b[49m\u001b[43m)\u001b[49m\n\u001b[0;32m     25\u001b[0m best_parameters \u001b[38;5;241m=\u001b[39m combinations[best_index]\n\u001b[0;32m     26\u001b[0m best_labels \u001b[38;5;241m=\u001b[39m all_labels_list[best_index]\n",
      "File \u001b[1;32m<__array_function__ internals>:200\u001b[0m, in \u001b[0;36margmax\u001b[1;34m(*args, **kwargs)\u001b[0m\n",
      "File \u001b[1;32mc:\\Users\\Huawei\\OneDrive - Universiti Malaya\\Desktop\\SEMESTER 7\\WIE3007_Data-Mining\\Group Project\\data-mining-warehousing-wages-analysis\\venv\\lib\\site-packages\\numpy\\core\\fromnumeric.py:1242\u001b[0m, in \u001b[0;36margmax\u001b[1;34m(a, axis, out, keepdims)\u001b[0m\n\u001b[0;32m   1155\u001b[0m \u001b[38;5;250m\u001b[39m\u001b[38;5;124;03m\"\"\"\u001b[39;00m\n\u001b[0;32m   1156\u001b[0m \u001b[38;5;124;03mReturns the indices of the maximum values along an axis.\u001b[39;00m\n\u001b[0;32m   1157\u001b[0m \n\u001b[1;32m   (...)\u001b[0m\n\u001b[0;32m   1239\u001b[0m \u001b[38;5;124;03m(2, 1, 4)\u001b[39;00m\n\u001b[0;32m   1240\u001b[0m \u001b[38;5;124;03m\"\"\"\u001b[39;00m\n\u001b[0;32m   1241\u001b[0m kwds \u001b[38;5;241m=\u001b[39m {\u001b[38;5;124m'\u001b[39m\u001b[38;5;124mkeepdims\u001b[39m\u001b[38;5;124m'\u001b[39m: keepdims} \u001b[38;5;28;01mif\u001b[39;00m keepdims \u001b[38;5;129;01mis\u001b[39;00m \u001b[38;5;129;01mnot\u001b[39;00m np\u001b[38;5;241m.\u001b[39m_NoValue \u001b[38;5;28;01melse\u001b[39;00m {}\n\u001b[1;32m-> 1242\u001b[0m \u001b[38;5;28;01mreturn\u001b[39;00m \u001b[43m_wrapfunc\u001b[49m\u001b[43m(\u001b[49m\u001b[43ma\u001b[49m\u001b[43m,\u001b[49m\u001b[43m \u001b[49m\u001b[38;5;124;43m'\u001b[39;49m\u001b[38;5;124;43margmax\u001b[39;49m\u001b[38;5;124;43m'\u001b[39;49m\u001b[43m,\u001b[49m\u001b[43m \u001b[49m\u001b[43maxis\u001b[49m\u001b[38;5;241;43m=\u001b[39;49m\u001b[43maxis\u001b[49m\u001b[43m,\u001b[49m\u001b[43m \u001b[49m\u001b[43mout\u001b[49m\u001b[38;5;241;43m=\u001b[39;49m\u001b[43mout\u001b[49m\u001b[43m,\u001b[49m\u001b[43m \u001b[49m\u001b[38;5;241;43m*\u001b[39;49m\u001b[38;5;241;43m*\u001b[39;49m\u001b[43mkwds\u001b[49m\u001b[43m)\u001b[49m\n",
      "File \u001b[1;32mc:\\Users\\Huawei\\OneDrive - Universiti Malaya\\Desktop\\SEMESTER 7\\WIE3007_Data-Mining\\Group Project\\data-mining-warehousing-wages-analysis\\venv\\lib\\site-packages\\numpy\\core\\fromnumeric.py:54\u001b[0m, in \u001b[0;36m_wrapfunc\u001b[1;34m(obj, method, *args, **kwds)\u001b[0m\n\u001b[0;32m     52\u001b[0m bound \u001b[38;5;241m=\u001b[39m \u001b[38;5;28mgetattr\u001b[39m(obj, method, \u001b[38;5;28;01mNone\u001b[39;00m)\n\u001b[0;32m     53\u001b[0m \u001b[38;5;28;01mif\u001b[39;00m bound \u001b[38;5;129;01mis\u001b[39;00m \u001b[38;5;28;01mNone\u001b[39;00m:\n\u001b[1;32m---> 54\u001b[0m     \u001b[38;5;28;01mreturn\u001b[39;00m \u001b[43m_wrapit\u001b[49m\u001b[43m(\u001b[49m\u001b[43mobj\u001b[49m\u001b[43m,\u001b[49m\u001b[43m \u001b[49m\u001b[43mmethod\u001b[49m\u001b[43m,\u001b[49m\u001b[43m \u001b[49m\u001b[38;5;241;43m*\u001b[39;49m\u001b[43margs\u001b[49m\u001b[43m,\u001b[49m\u001b[43m \u001b[49m\u001b[38;5;241;43m*\u001b[39;49m\u001b[38;5;241;43m*\u001b[39;49m\u001b[43mkwds\u001b[49m\u001b[43m)\u001b[49m\n\u001b[0;32m     56\u001b[0m \u001b[38;5;28;01mtry\u001b[39;00m:\n\u001b[0;32m     57\u001b[0m     \u001b[38;5;28;01mreturn\u001b[39;00m bound(\u001b[38;5;241m*\u001b[39margs, \u001b[38;5;241m*\u001b[39m\u001b[38;5;241m*\u001b[39mkwds)\n",
      "File \u001b[1;32mc:\\Users\\Huawei\\OneDrive - Universiti Malaya\\Desktop\\SEMESTER 7\\WIE3007_Data-Mining\\Group Project\\data-mining-warehousing-wages-analysis\\venv\\lib\\site-packages\\numpy\\core\\fromnumeric.py:43\u001b[0m, in \u001b[0;36m_wrapit\u001b[1;34m(obj, method, *args, **kwds)\u001b[0m\n\u001b[0;32m     41\u001b[0m \u001b[38;5;28;01mexcept\u001b[39;00m \u001b[38;5;167;01mAttributeError\u001b[39;00m:\n\u001b[0;32m     42\u001b[0m     wrap \u001b[38;5;241m=\u001b[39m \u001b[38;5;28;01mNone\u001b[39;00m\n\u001b[1;32m---> 43\u001b[0m result \u001b[38;5;241m=\u001b[39m \u001b[38;5;28mgetattr\u001b[39m(\u001b[43masarray\u001b[49m\u001b[43m(\u001b[49m\u001b[43mobj\u001b[49m\u001b[43m)\u001b[49m, method)(\u001b[38;5;241m*\u001b[39margs, \u001b[38;5;241m*\u001b[39m\u001b[38;5;241m*\u001b[39mkwds)\n\u001b[0;32m     44\u001b[0m \u001b[38;5;28;01mif\u001b[39;00m wrap:\n\u001b[0;32m     45\u001b[0m     \u001b[38;5;28;01mif\u001b[39;00m \u001b[38;5;129;01mnot\u001b[39;00m \u001b[38;5;28misinstance\u001b[39m(result, mu\u001b[38;5;241m.\u001b[39mndarray):\n",
      "\u001b[1;31mValueError\u001b[0m: setting an array element with a sequence. The requested array has an inhomogeneous shape after 1 dimensions. The detected shape was (120,) + inhomogeneous part."
     ]
    }
   ],
   "source": [
    "from sklearn.preprocessing import StandardScaler\n",
    "from sklearn.decomposition import PCA\n",
    "from sklearn.metrics.pairwise import euclidean_distances\n",
    "\n",
    "# Scale the data\n",
    "X_scaled = StandardScaler().fit_transform(X.toarray())\n",
    "\n",
    "# Optionally, reduce dimensionality\n",
    "pca = PCA(n_components=2)\n",
    "X_reduced = pca.fit_transform(X_scaled)\n",
    "\n",
    "# Analyze distance percentiles for better eps range\n",
    "distances = euclidean_distances(X_reduced)\n",
    "distances = distances[np.triu_indices_from(distances, k=1)]\n",
    "print(np.percentile(distances, [5, 25, 50, 75, 95]))\n",
    "\n",
    "# Adjust parameter grid\n",
    "epsilons = np.linspace(0.05, 1.5, num=20)  # Adjusted range based on distance percentiles\n",
    "min_samples = np.arange(2, 20, step=3)\n",
    "combinations = list(itertools.product(epsilons, min_samples))\n",
    "\n",
    "# Rerun DBSCAN\n",
    "best_dict = get_scores_and_labels(combinations, X_reduced)\n",
    "print(\"Best DBSCAN Parameters:\")\n",
    "print(best_dict)\n"
   ]
  },
  {
   "cell_type": "code",
   "execution_count": 173,
   "metadata": {},
   "outputs": [
    {
     "data": {
      "text/plain": [
       "{'best_epsilon': 0.05,\n",
       " 'best_min_samples': 2,\n",
       " 'best_labels': 'bad',\n",
       " 'best_score': -10}"
      ]
     },
     "execution_count": 173,
     "metadata": {},
     "output_type": "execute_result"
    }
   ],
   "source": [
    "best_dict"
   ]
  },
  {
   "cell_type": "code",
   "execution_count": 174,
   "metadata": {},
   "outputs": [
    {
     "name": "stdout",
     "output_type": "stream",
     "text": [
      "Best DBSCAN Parameters:\n",
      "Epsilon: 0.05\n",
      "Min Samples: 2\n",
      "Best Silhouette Score: -10\n"
     ]
    }
   ],
   "source": [
    "# Print results\n",
    "print(\"Best DBSCAN Parameters:\")\n",
    "print(f\"Epsilon: {best_dict['best_epsilon']}\")\n",
    "print(f\"Min Samples: {best_dict['best_min_samples']}\")\n",
    "print(f\"Best Silhouette Score: {best_dict['best_score']}\")"
   ]
  },
  {
   "cell_type": "code",
   "execution_count": 175,
   "metadata": {},
   "outputs": [
    {
     "data": {
      "text/plain": [
       "cluster\n",
       "bad    7799\n",
       "Name: count, dtype: int64"
      ]
     },
     "execution_count": 175,
     "metadata": {},
     "output_type": "execute_result"
    }
   ],
   "source": [
    "survey_df['cluster'] = best_dict['best_labels']\n",
    "\n",
    "survey_df['cluster'].value_counts()"
   ]
  }
 ],
 "metadata": {
  "kernelspec": {
   "display_name": "venv",
   "language": "python",
   "name": "python3"
  },
  "language_info": {
   "codemirror_mode": {
    "name": "ipython",
    "version": 3
   },
   "file_extension": ".py",
   "mimetype": "text/x-python",
   "name": "python",
   "nbconvert_exporter": "python",
   "pygments_lexer": "ipython3",
   "version": "3.8.0"
  }
 },
 "nbformat": 4,
 "nbformat_minor": 2
}
