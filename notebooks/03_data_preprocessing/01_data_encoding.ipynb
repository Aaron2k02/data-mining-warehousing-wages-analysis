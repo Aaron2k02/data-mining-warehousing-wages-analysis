{
 "cells": [
  {
   "cell_type": "markdown",
   "metadata": {},
   "source": [
    "#### Normalizing feature : Approximately how many individuals are responsible for data science workloads at your place of business?"
   ]
  },
  {
   "cell_type": "code",
   "execution_count": null,
   "metadata": {},
   "outputs": [],
   "source": [
    "# Function to normalize the number of people responsible for data science workloads\n",
    "def normalize_ds_responsibility(df, column):\n",
    "    # Dictionary to map specific ranges to normalized categories\n",
    "    responsibility_normalization_dict = {\n",
    "        r\"^0$\": \"No dedicated team\",\n",
    "        r\"^1-2$\": \"Small team\",\n",
    "        r\"^3-4$\": \"Small team\",\n",
    "        r\"^5-9$\": \"Medium team\",\n",
    "        r\"^10-14$\": \"Large team\",\n",
    "        r\"^15-19$\": \"Large team\",\n",
    "        r\"^20\\+$\": \"Very large team\"\n",
    "    }\n",
    "    \n",
    "    # Apply replacements using the dictionary\n",
    "    for pattern, replacement in responsibility_normalization_dict.items():\n",
    "        df[column] = df[column].str.replace(pattern, replacement, regex=True)\n",
    "    \n",
    "    return df\n",
    "\n",
    "# Apply the normalization function\n",
    "normalize_ds_responsibility(cleaned_df, 'Approximately how many individuals are responsible for data science workloads at your place of business?')\n",
    "\n",
    "# Display the normalized column\n",
    "print(cleaned_df['Approximately how many individuals are responsible for data science workloads at your place of business?'].value_counts())"
   ]
  },
  {
   "cell_type": "markdown",
   "metadata": {},
   "source": [
    "#### Normalizing feature : Does your current employer incorporate machine learning methods into their business?"
   ]
  },
  {
   "cell_type": "code",
   "execution_count": null,
   "metadata": {},
   "outputs": [],
   "source": [
    "# Function to normalize Does your current employer incorporate machine learning methods into their business?\n",
    "def normalize_ml_methods(df, column):\n",
    "    # Dictionary to map detailed categories to simplified versions\n",
    "    normalization_dict = {\n",
    "        r\"We recently started using ML methods.*\": \"Recently Started\",\n",
    "        r\"We are exploring ML methods.*\": \"Exploring\",\n",
    "        r\"We have well established ML methods.*\": \"Well Established\",\n",
    "        r\"No.*\": \"No ML Usage\",\n",
    "        r\"We use ML methods for generating insights.*\": \"Insights Only\",\n",
    "        r\"I do not know\": \"Unknown\"\n",
    "    }\n",
    "    \n",
    "    # Apply replacements using the dictionary\n",
    "    for pattern, replacement in normalization_dict.items():\n",
    "        df.loc[:, column] = df[column].str.replace(pattern, replacement, regex=True)\n",
    "    \n",
    "    return df[column]  # Return only the modified column\n",
    "\n",
    "# Apply the normalization function directly to the specified column\n",
    "cleaned_df['Does your current employer incorporate machine learning methods into their business?'] = normalize_ml_methods(\n",
    "    cleaned_df, 'Does your current employer incorporate machine learning methods into their business?'\n",
    ")\n",
    "\n",
    "# Display the normalized column\n",
    "print(cleaned_df['Does your current employer incorporate machine learning methods into their business?'].value_counts())"
   ]
  },
  {
   "cell_type": "code",
   "execution_count": null,
   "metadata": {},
   "outputs": [],
   "source": [
    "# Define the ordinal mapping\n",
    "money_spent_ordinal_mapping = {\n",
    "    '$0 (USD)': 1,\n",
    "    '$1-$99': 2,\n",
    "    '$100-$999': 3,\n",
    "    '$1000-$9,999': 4,\n",
    "    '$10,000-$99,999': 5,\n",
    "    '> $100,000 ($USD)': 6\n",
    "}\n",
    "\n",
    "# Apply the mapping to the column\n",
    "cleaned_df['Encoded Monetary Range'] = cleaned_df['Approximately how much money have you spent on machine learning and/or cloud computing products at your work in the past 5 years?'].map(money_spent_ordinal_mapping)\n",
    "cleaned_df"
   ]
  },
  {
   "cell_type": "code",
   "execution_count": null,
   "metadata": {},
   "outputs": [],
   "source": [
    "# Define the ordinal mapping\n",
    "experience_ordinal_mapping = {\n",
    "        r\"^< 1 years$\": 0,\n",
    "        r\"^1-2 years$\": 1,\n",
    "        r\"^2-3 years$\": 2,\n",
    "        r\"^3-5 years$\": 3,\n",
    "        r\"^5-10 years$\": 4,\n",
    "        r\"^10-20 years$\": 5,\n",
    "        r\"^20\\+ years$\": 6\n",
    "    }\n",
    "\n",
    "# Apply the mapping to the column\n",
    "cleaned_df['How long have you been writing code to analyze data (at work or at school)?'] = cleaned_df['How long have you been writing code to analyze data (at work or at school)?'].map(experience_ordinal_mapping)\n",
    "cleaned_df"
   ]
  },
  {
   "cell_type": "code",
   "execution_count": null,
   "metadata": {},
   "outputs": [],
   "source": [
    "# Define the ordinal mapping\n",
    "experience_ordinal_mapping = {\n",
    "        r\"^< 1 years$\": 0,\n",
    "        r\"^1-2 years$\": 1,\n",
    "        r\"^2-3 years$\": 2,\n",
    "        r\"^3-4 years$\": 3,\n",
    "        r\"^4-5 years$\": 4,\n",
    "        r\"^5-10 years$\": 5,\n",
    "        r\"^10-15 years$\": 6,\n",
    "        r\"^20\\+ years$\": 7\n",
    "    }\n",
    "\n",
    "# Apply the mapping to the column\n",
    "cleaned_df['For how many years have you used machine learning methods?'] = cleaned_df['For how many years have you used machine learning methods?'].map(experience_ordinal_mapping)\n",
    "cleaned_df"
   ]
  }
 ],
 "metadata": {
  "language_info": {
   "name": "python"
  }
 },
 "nbformat": 4,
 "nbformat_minor": 2
}
