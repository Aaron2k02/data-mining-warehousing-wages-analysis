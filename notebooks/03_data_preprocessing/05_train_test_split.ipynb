{
 "cells": [
  {
   "cell_type": "code",
   "execution_count": null,
   "metadata": {
    "vscode": {
     "languageId": "plaintext"
    }
   },
   "outputs": [],
   "source": [
    "# Import required libraries\n",
    "import pandas as pd\n",
    "from sklearn.model_selection import train_test_split\n",
    "\n",
    "# Load the CSV file\n",
    "file_path = \"../../data/prep_survey_profile.csv\"  \n",
    "data = pd.read_csv(file_path)\n",
    "\n",
    "# Display the first few rows of the dataset\n",
    "print(\"Dataset preview:\")\n",
    "print(data.head())\n",
    "print(data.tail())\n",
    "\n",
    "# Perform the 80-20 train-test split\n",
    "train_data, test_data = train_test_split(data, test_size=0.2, random_state=42)\n",
    "\n",
    "# Display the size of each subset\n",
    "print(\"\\nSplitted data preview:\")\n",
    "print(f\"Training set size: {train_data.shape[0]} samples\")\n",
    "print(f\"Testing set size: {test_data.shape[0]} samples\")\n",
    "\n"
   ]
  }
 ],
 "metadata": {
  "language_info": {
   "name": "python"
  }
 },
 "nbformat": 4,
 "nbformat_minor": 2
}
